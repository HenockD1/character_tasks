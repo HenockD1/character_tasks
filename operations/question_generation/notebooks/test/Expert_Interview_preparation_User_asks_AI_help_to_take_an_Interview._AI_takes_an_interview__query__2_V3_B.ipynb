{
 "cells": [
  {
   "cell_type": "markdown",
   "id": "897b9644",
   "metadata": {},
   "source": [
    "# Metadata\n",
    "\n",
    "**Occupation Topics** - Data Scientist > Expert Interview preparation - User asks AI help to take an Interview. AI takes an interview\n",
    "\n",
    "**Type** - query\n",
    "\n",
    "**Target Number of Turns (User + Assistant)** - 1-5\n",
    "    \n",
    "**Difficulty** - Easy\n",
    "    \n",
    "**Target Length** - 1\n",
    "\n",
    "**Use Case** - Interview Preparation\n",
    "\n",
    "**Technical Topic** - Machine Learning Concepts\n",
    "\n",
    "**User Personality** - Confident and Inquisitive\n",
    "\n"
   ]
  },
  {
   "cell_type": "markdown",
   "id": "766dd29a",
   "metadata": {},
   "source": [
    "# Conversation"
   ]
  },
  {
   "cell_type": "markdown",
   "id": "03ff409b",
   "metadata": {},
   "source": [
    "**User**\n"
   ]
  }
 ],
 "metadata": {},
 "nbformat": 4,
 "nbformat_minor": 5
}
