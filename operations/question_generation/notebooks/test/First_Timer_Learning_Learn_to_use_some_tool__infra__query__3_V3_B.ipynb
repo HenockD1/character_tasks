{
 "cells": [
  {
   "cell_type": "markdown",
   "id": "0b6e972c",
   "metadata": {},
   "source": [
    "# Metadata\n",
    "\n",
    "**Occupation Topics** - Mobile App Developer > First Timer Learning - Learn to use some tool / infra\n",
    "\n",
    "**Type** - query\n",
    "\n",
    "**Target Number of Turns (User + Assistant)** - 1-4\n",
    "    \n",
    "**Difficulty** - Easy\n",
    "    \n",
    "**Target Length** - 1\n",
    "\n",
    "**Use Case** - Setting up a local development environment for a new mobile app project\n",
    "\n",
    "**Technical Topic** - Installing and configuring a cross-platform mobile app development tool like React Native\n",
    "\n",
    "**User Personality** - Eager and proactive, with a preference for step-by-step guidance\n",
    "\n"
   ]
  },
  {
   "cell_type": "markdown",
   "id": "a52aa30f",
   "metadata": {},
   "source": [
    "# Conversation"
   ]
  },
  {
   "cell_type": "markdown",
   "id": "d65636b3",
   "metadata": {},
   "source": [
    "**User**\n"
   ]
  }
 ],
 "metadata": {},
 "nbformat": 4,
 "nbformat_minor": 5
}
