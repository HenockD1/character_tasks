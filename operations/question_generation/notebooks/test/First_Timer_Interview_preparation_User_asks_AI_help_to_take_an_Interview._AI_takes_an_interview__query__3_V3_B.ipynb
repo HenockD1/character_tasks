{
 "cells": [
  {
   "cell_type": "markdown",
   "id": "8bbf76bf",
   "metadata": {},
   "source": [
    "# Metadata\n",
    "\n",
    "**Occupation Topics** - Full-Stack Developer > First Timer Interview preparation - User asks AI help to take an Interview. AI takes an interview\n",
    "\n",
    "**Type** - query\n",
    "\n",
    "**Target Number of Turns (User + Assistant)** - 2-6\n",
    "    \n",
    "**Difficulty** - Easy\n",
    "    \n",
    "**Target Length** - 1\n",
    "\n",
    "**Use Case** - Interview preparation\n",
    "\n",
    "**Technical Topic** - Mock technical interview\n",
    "\n",
    "**User Personality** - Anxious and eager to learn\n",
    "\n"
   ]
  },
  {
   "cell_type": "markdown",
   "id": "9b5fff1b",
   "metadata": {},
   "source": [
    "# Conversation"
   ]
  },
  {
   "cell_type": "markdown",
   "id": "211e200f",
   "metadata": {},
   "source": [
    "**User**\n"
   ]
  }
 ],
 "metadata": {},
 "nbformat": 4,
 "nbformat_minor": 5
}
