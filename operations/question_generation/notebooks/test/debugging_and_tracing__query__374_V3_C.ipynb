{
 "cells": [
  {
   "cell_type": "markdown",
   "id": "dab071bb",
   "metadata": {},
   "source": [
    "# Metadata\n",
    "**Topic** - debugging_and_tracing\n",
    "**Type** - query\n",
    "\n",
    "**Stack Trace Title**: debugging_and_tracing__query__374_V3_C\n",
    "\n",
    "**Stack Trace URL**: https://github.com/facebookresearch/fairseq/issues/5397\n",
    "\n",
    "**Message** - Please create a realistic conversation where the Assistant is helping the user debug a problem inspired by this GitHub issue.\n"
   ]
  },
  {
   "cell_type": "markdown",
   "id": "f7301d70",
   "metadata": {},
   "source": [
    "# Conversation"
   ]
  },
  {
   "cell_type": "markdown",
   "id": "08ab2923",
   "metadata": {},
   "source": [
    "**User**\n"
   ]
  }
 ],
 "metadata": {},
 "nbformat": 4,
 "nbformat_minor": 5
}
