{
 "cells": [
  {
   "cell_type": "markdown",
   "id": "99132403",
   "metadata": {},
   "source": [
    "# Metadata\n",
    "\n",
    "**Occupation Topics** - Backend Developer > First Timer Interview preparation - Proactively ask follow up questions\n",
    "\n",
    "**Type** - query\n",
    "\n",
    "**Target Number of Turns (User + Assistant)** - 3-7\n",
    "    \n",
    "**Difficulty** - Easy\n",
    "    \n",
    "**Target Length** - 1\n",
    "\n",
    "**Use Case** - Interview preparation for a backend developer role\n",
    "\n",
    "**Technical Topic** - Creating a simple REST API endpoint\n",
    "\n",
    "**User Personality** - Curious and eager to learn, with a proactive approach to understanding deeper concepts\n",
    "\n"
   ]
  },
  {
   "cell_type": "markdown",
   "id": "ff7a186d",
   "metadata": {},
   "source": [
    "# Conversation"
   ]
  },
  {
   "cell_type": "markdown",
   "id": "55515117",
   "metadata": {},
   "source": [
    "**User**\n"
   ]
  }
 ],
 "metadata": {},
 "nbformat": 4,
 "nbformat_minor": 5
}
