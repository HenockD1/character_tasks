{
 "cells": [
  {
   "cell_type": "markdown",
   "id": "c7ccce39",
   "metadata": {},
   "source": [
    "# Metadata\n",
    "\n",
    "**Occupation Topics** - Web Developer > Advanced Interview preparation - User asks AI help to take an Interview. AI takes an interview\n",
    "\n",
    "**Type** - query\n",
    "\n",
    "**Target Number of Turns (User + Assistant)** - 1-4\n",
    "    \n",
    "**Difficulty** - Easy\n",
    "    \n",
    "**Target Length** - 1\n",
    "\n",
    "**Use Case** - Interview Preparation\n",
    "\n",
    "**Technical Topic** - Advanced JavaScript Concepts\n",
    "\n",
    "**User Personality** - Aspiring to be a tech lead, seeks challenging questions to demonstrate deep understanding\n",
    "\n"
   ]
  },
  {
   "cell_type": "markdown",
   "id": "151a2f61",
   "metadata": {},
   "source": [
    "# Conversation"
   ]
  },
  {
   "cell_type": "markdown",
   "id": "a2c24c4f",
   "metadata": {},
   "source": [
    "**User**\n"
   ]
  }
 ],
 "metadata": {},
 "nbformat": 4,
 "nbformat_minor": 5
}
