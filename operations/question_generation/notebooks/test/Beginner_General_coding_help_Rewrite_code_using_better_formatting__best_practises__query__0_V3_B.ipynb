{
 "cells": [
  {
   "cell_type": "markdown",
   "id": "d2a6e94d",
   "metadata": {},
   "source": [
    "# Metadata\n",
    "\n",
    "**Occupation Topics** - Python Developer > Beginner General coding help - Rewrite code using better formatting / best practises\n",
    "\n",
    "**Type** - query\n",
    "\n",
    "**Target Number of Turns (User + Assistant)** - 1-5\n",
    "    \n",
    "**Difficulty** - Easy\n",
    "    \n",
    "**Target Length** - 1\n",
    "\n",
    "**Use Case** - Improving code readability\n",
    "\n",
    "**Technical Topic** - Python code formatting\n",
    "\n",
    "**User Personality** - Eager to learn\n",
    "\n"
   ]
  },
  {
   "cell_type": "markdown",
   "id": "0a3fbf51",
   "metadata": {},
   "source": [
    "# Conversation"
   ]
  },
  {
   "cell_type": "markdown",
   "id": "c99668ed",
   "metadata": {},
   "source": [
    "**User**\n"
   ]
  }
 ],
 "metadata": {},
 "nbformat": 4,
 "nbformat_minor": 5
}
