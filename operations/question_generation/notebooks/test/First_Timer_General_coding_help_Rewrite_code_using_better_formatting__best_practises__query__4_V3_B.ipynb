{
 "cells": [
  {
   "cell_type": "markdown",
   "id": "e4d694fa",
   "metadata": {},
   "source": [
    "# Metadata\n",
    "\n",
    "**Occupation Topics** - Front-End Developer > First Timer General coding help - Rewrite code using better formatting / best practises\n",
    "\n",
    "**Type** - query\n",
    "\n",
    "**Target Number of Turns (User + Assistant)** - 1-5\n",
    "    \n",
    "**Difficulty** - Easy\n",
    "    \n",
    "**Target Length** - 1\n",
    "\n",
    "**Use Case** - Improving code readability\n",
    "\n",
    "**Technical Topic** - Code formatting in JavaScript\n",
    "\n",
    "**User Personality** - Detail-oriented and eager to learn\n",
    "\n"
   ]
  },
  {
   "cell_type": "markdown",
   "id": "d26819bc",
   "metadata": {},
   "source": [
    "# Conversation"
   ]
  },
  {
   "cell_type": "markdown",
   "id": "fe733424",
   "metadata": {},
   "source": [
    "**User**\n"
   ]
  }
 ],
 "metadata": {},
 "nbformat": 4,
 "nbformat_minor": 5
}
