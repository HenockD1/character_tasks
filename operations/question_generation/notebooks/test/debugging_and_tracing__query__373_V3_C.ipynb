{
 "cells": [
  {
   "cell_type": "markdown",
   "id": "0a153357",
   "metadata": {},
   "source": [
    "# Metadata\n",
    "**Topic** - debugging_and_tracing\n",
    "**Type** - query\n",
    "\n",
    "**Stack Trace Title**: debugging_and_tracing__query__373_V3_C\n",
    "\n",
    "**Stack Trace URL**: https://github.com/Stability-AI/stablediffusion/issues/347\n",
    "\n",
    "**Message** - Please create a realistic conversation where the Assistant is helping the user debug a problem inspired by this GitHub issue.\n"
   ]
  },
  {
   "cell_type": "markdown",
   "id": "9ea0b464",
   "metadata": {},
   "source": [
    "# Conversation"
   ]
  },
  {
   "cell_type": "markdown",
   "id": "275a06a1",
   "metadata": {},
   "source": [
    "**User**\n"
   ]
  }
 ],
 "metadata": {},
 "nbformat": 4,
 "nbformat_minor": 5
}
