{
 "cells": [
  {
   "cell_type": "markdown",
   "id": "e2a8b3c3",
   "metadata": {},
   "source": [
    "# Metadata\n",
    "\n",
    "**Occupation Topics** - Full-Stack Developer > First Timer Interview preparation - Explain the problem step by step\n",
    "\n",
    "**Type** - query\n",
    "\n",
    "**Target Number of Turns (User + Assistant)** - 1-4\n",
    "    \n",
    "**Difficulty** - Easy\n",
    "    \n",
    "**Target Length** - 1\n",
    "\n",
    "**Use Case** - Preparing for a technical interview\n",
    "\n",
    "**Technical Topic** - Breaking down a coding problem\n",
    "\n",
    "**User Personality** - Methodical and eager to learn\n",
    "\n"
   ]
  },
  {
   "cell_type": "markdown",
   "id": "f2a22db5",
   "metadata": {},
   "source": [
    "# Conversation"
   ]
  },
  {
   "cell_type": "markdown",
   "id": "dcadbddc",
   "metadata": {},
   "source": [
    "**User**\n"
   ]
  }
 ],
 "metadata": {},
 "nbformat": 4,
 "nbformat_minor": 5
}
