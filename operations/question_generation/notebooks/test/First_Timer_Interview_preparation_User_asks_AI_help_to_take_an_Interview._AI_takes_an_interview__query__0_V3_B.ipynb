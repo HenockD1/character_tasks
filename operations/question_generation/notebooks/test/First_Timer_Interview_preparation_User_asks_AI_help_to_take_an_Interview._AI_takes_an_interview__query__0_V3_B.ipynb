{
 "cells": [
  {
   "cell_type": "markdown",
   "id": "16853741",
   "metadata": {},
   "source": [
    "# Metadata\n",
    "\n",
    "**Occupation Topics** - Python Developer > First Timer Interview preparation - User asks AI help to take an Interview. AI takes an interview\n",
    "\n",
    "**Type** - query\n",
    "\n",
    "**Target Number of Turns (User + Assistant)** - 4-8\n",
    "    \n",
    "**Difficulty** - Easy\n",
    "    \n",
    "**Target Length** - 1\n",
    "\n",
    "**Use Case** - Interview Preparation\n",
    "\n",
    "**Technical Topic** - Basic Python Syntax\n",
    "\n",
    "**User Personality** - Anxious First-Time Job Applicant\n",
    "\n"
   ]
  },
  {
   "cell_type": "markdown",
   "id": "8351faee",
   "metadata": {},
   "source": [
    "# Conversation"
   ]
  },
  {
   "cell_type": "markdown",
   "id": "0b7b2c24",
   "metadata": {},
   "source": [
    "**User**\n"
   ]
  }
 ],
 "metadata": {},
 "nbformat": 4,
 "nbformat_minor": 5
}
