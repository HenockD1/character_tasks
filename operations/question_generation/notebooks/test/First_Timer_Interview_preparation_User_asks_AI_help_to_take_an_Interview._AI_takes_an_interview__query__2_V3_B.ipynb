{
 "cells": [
  {
   "cell_type": "markdown",
   "id": "e7f2839d",
   "metadata": {},
   "source": [
    "# Metadata\n",
    "\n",
    "**Occupation Topics** - Python DevOps Engineer > First Timer Interview preparation - User asks AI help to take an Interview. AI takes an interview\n",
    "\n",
    "**Type** - query\n",
    "\n",
    "**Target Number of Turns (User + Assistant)** - 1-5\n",
    "    \n",
    "**Difficulty** - Easy\n",
    "    \n",
    "**Target Length** - 1\n",
    "\n",
    "**Use Case** - Interview Preparation\n",
    "\n",
    "**Technical Topic** - Python Scripting for Automation\n",
    "\n",
    "**User Personality** - Anxious and Eager to Learn\n",
    "\n"
   ]
  },
  {
   "cell_type": "markdown",
   "id": "3f05d14b",
   "metadata": {},
   "source": [
    "# Conversation"
   ]
  },
  {
   "cell_type": "markdown",
   "id": "f5ae5944",
   "metadata": {},
   "source": [
    "**User**\n"
   ]
  }
 ],
 "metadata": {},
 "nbformat": 4,
 "nbformat_minor": 5
}
