{
 "cells": [
  {
   "cell_type": "markdown",
   "id": "828f4c1e",
   "metadata": {},
   "source": [
    "# Metadata\n",
    "\n",
    "**Python Topics** - debugging_and_tracing\n",
    "\n",
    "**Type** - query\n",
    "\n",
    "**Target Number of Turns (User + Assistant)** - 3\n"
   ]
  },
  {
   "cell_type": "markdown",
   "id": "15aae2ad",
   "metadata": {},
   "source": [
    "# Conversation"
   ]
  },
  {
   "cell_type": "markdown",
   "id": "eda899a0",
   "metadata": {},
   "source": [
    "**Assistant**\n",
    "\n",
    "ModuleNotFoundError after updating Linux Mint from 18.3 to 19\n",
    "\n",
    "The output of `thefuck --version` (something like `The Fuck 3.1 using Python 3.5.0`):\r\n",
    "<--The command doesn't work, this is the output from the command-->\r\n",
    "    Traceback (most recent call last):\r\n",
    "  File \"/usr/local/bin/fuck\", line 7, in <module>\r\n",
    "    from thefuck.entrypoints.not_configured import main\r\n",
    "ModuleNotFoundError: No module named 'thefuck'\r\n",
    "<--Here is the version retrieved from apt show thefuck-->\r\n",
    "3.11-2\r\n",
    "\r\n",
    "Your shell and its version (`bash`, `zsh`, *Windows PowerShell*, etc.):\r\n",
    "\r\n",
    "    bash 4.4.19(1)-release\r\n",
    "\r\n",
    "Your system (Debian 7, ArchLinux, Windows, etc.):\r\n",
    "\r\n",
    "Linux Mint 19 \"Tara\"\r\n",
    "\r\n",
    "How to reproduce the bug:\r\n",
    "\r\n",
    "    There are several ways to cause this issue to happen:\r\n",
    "* Load terminal\r\n",
    "* type thefuck in terminal\r\n",
    "* type fuck in terminal\r\n",
    "All of the above result in this being printed to the console:\r\n",
    "Traceback (most recent call last):\r\n",
    "  File \"/usr/local/bin/fuck\", line 7, in <module>\r\n",
    "    from thefuck.entrypoints.not_configured import main\r\n",
    "ModuleNotFoundError: No module named 'thefuck'\r\n",
    "\r\n",
    "\r\n",
    "The output of The Fuck with `THEFUCK_DEBUG=true` exported (typically execute `export THEFUCK_DEBUG=true` in your shell before The Fuck):\r\n",
    "\r\n",
    "    Traceback (most recent call last):\r\n",
    "  File \"/usr/local/bin/fuck\", line 7, in <module>\r\n",
    "    from thefuck.entrypoints.not_configured import main\r\n",
    "ModuleNotFoundError: No module named 'thefuck'\r\n",
    "\r\n",
    "\r\n",
    "If the bug only appears with a specific application, the output of that application and its version:\r\n",
    "\r\n",
    "    N/A\r\n",
    "\r\n",
    "Anything else you think is relevant:\r\n",
    "\r\n",
    "This started occurring after I upgraded from Linux Mint 18.3 to Linux Mint 19. thefuck was removed during the update process, and the error started occurring. After I saw that the error was happening, I installed thefuck again, and nothing changed. I then tried removing it and installing it again, and that still didn't fix the issue. If I can provide any additional info or do anything on my end to fix this, please let me know.\r\n",
    "\n"
   ]
  }
 ],
 "metadata": {},
 "nbformat": 4,
 "nbformat_minor": 5
}
