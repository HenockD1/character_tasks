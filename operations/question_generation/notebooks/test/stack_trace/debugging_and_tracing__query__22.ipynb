{
 "cells": [
  {
   "cell_type": "markdown",
   "id": "e09b3445",
   "metadata": {},
   "source": [
    "# Metadata\n",
    "\n",
    "**Python Topics** - debugging_and_tracing\n",
    "\n",
    "**Type** - query\n",
    "\n",
    "**Target Number of Turns (User + Assistant)** - 1\n"
   ]
  },
  {
   "cell_type": "markdown",
   "id": "57151e78",
   "metadata": {},
   "source": [
    "# Conversation"
   ]
  },
  {
   "cell_type": "markdown",
   "id": "f757fe51",
   "metadata": {},
   "source": [
    "**Assistant**\n",
    "\n",
    "Crash in git module\n",
    "\n",
    "I was pushing a branch, and executed `fuck` afterwards. Here is the stacktrace:\r\n",
    "\r\n",
    "```Traceback (most recent call last):\r\n",
    "  File \"/usr/local/bin/thefuck\", line 11, in <module>\r\n",
    "    sys.exit(main())\r\n",
    "  File \"/usr/local/lib/python3.5/dist-packages/thefuck/entrypoints/main.py\", line 26, in main\r\n",
    "    fix_command(known_args)\r\n",
    "  File \"/usr/local/lib/python3.5/dist-packages/thefuck/entrypoints/fix_command.py\", line 42, in fix_command\r\n",
    "    selected_command = select_command(corrected_commands)\r\n",
    "  File \"/usr/local/lib/python3.5/dist-packages/thefuck/ui.py\", line 71, in select_command\r\n",
    "    selector = CommandSelector(corrected_commands)\r\n",
    "  File \"/usr/local/lib/python3.5/dist-packages/thefuck/ui.py\", line 34, in __init__\r\n",
    "    self._commands = [next(self._commands_gen)]\r\n",
    "  File \"/usr/local/lib/python3.5/dist-packages/thefuck/corrector.py\", line 43, in organize_commands\r\n",
    "    first_command = next(corrected_commands)\r\n",
    "  File \"/usr/local/lib/python3.5/dist-packages/thefuck/corrector.py\", line 74, in <genexpr>\r\n",
    "    for corrected in rule.get_corrected_commands(command))\r\n",
    "  File \"/usr/local/lib/python3.5/dist-packages/thefuck/types.py\", line 189, in get_corrected_commands\r\n",
    "    new_commands = self.get_new_command(command)\r\n",
    "  File \"<decorator-gen-104>\", line 2, in get_new_command\r\n",
    "  File \"/usr/local/lib/python3.5/dist-packages/thefuck/specific/git.py\", line 32, in git_support\r\n",
    "    return fn(command)\r\n",
    "  File \"/usr/local/lib/python3.5/dist-packages/thefuck/rules/git_push.py\", line 36, in get_new_command\r\n",
    "    arguments = re.findall(r'git push (.*)', command.output)[0].strip()\r\n",
    "IndexError: list index out of range\r\n",
    "```\r\n",
    "\r\n",
    "This is the output from the command before (which was only `git push`):\r\n",
    "```git push --set-upstream origin feature/5_exec_command [enter/↑/↓/ctrl+c]\r\n",
    "Total 0 (delta 0), reused 0 (delta 0)\r\n",
    "remote: \r\n",
    "remote: Create pull request for feature/[...]:\r\n",
    "remote:   https://bitbucket.org/[...]\r\n",
    "remote: \r\n",
    "To git@bitbucket.org:[...].git\r\n",
    "   e5e7fbb..700d998  feature/[...] -> feature/[...]\r\n",
    "Branch feature/[...] set up to track remote branch feature/[...] from origin.\r\n",
    "```\n"
   ]
  }
 ],
 "metadata": {},
 "nbformat": 4,
 "nbformat_minor": 5
}
