{
 "cells": [
  {
   "cell_type": "markdown",
   "id": "447eb0fc",
   "metadata": {},
   "source": [
    "# Metadata\n",
    "\n",
    "**Python Topics** - debugging_and_tracing\n",
    "\n",
    "**Type** - query\n",
    "\n",
    "**Target Number of Turns (User + Assistant)** - 3\n"
   ]
  },
  {
   "cell_type": "markdown",
   "id": "eb175ea9",
   "metadata": {},
   "source": [
    "# Conversation"
   ]
  },
  {
   "cell_type": "markdown",
   "id": "9ef9c272",
   "metadata": {},
   "source": [
    "**User**\n",
    "\n",
    "git_branch_exists can't cope with branches containing single quotes\n",
    "\n",
    "I actually came across this while tidying up test branches after fixing #760.\r\n",
    "\r\n",
    "```\r\n",
    "users-MBP:thefuck user$ git checkout -b \"let's\"\r\n",
    "fatal: A branch named 'let's' already exists.\r\n",
    "users-MBP:thefuck user$ fuck\r\n",
    "Traceback (most recent call last):\r\n",
    "  File \"/usr/local/bin/thefuck\", line 12, in <module>\r\n",
    "    sys.exit(main())\r\n",
    "  File \"/Users/user/git_repo/thefuck/thefuck/entrypoints/main.py\", line 25, in main\r\n",
    "    fix_command(known_args)\r\n",
    "  File \"/Users/user/git_repo/thefuck/thefuck/entrypoints/fix_command.py\", line 42, in fix_command\r\n",
    "    selected_command = select_command(corrected_commands)\r\n",
    "  File \"/Users/user/git_repo/thefuck/thefuck/ui.py\", line 71, in select_command\r\n",
    "    selector = CommandSelector(corrected_commands)\r\n",
    "  File \"/Users/user/git_repo/thefuck/thefuck/ui.py\", line 34, in __init__\r\n",
    "    self._commands = [next(self._commands_gen)]\r\n",
    "  File \"/Users/user/git_repo/thefuck/thefuck/corrector.py\", line 60, in organize_commands\r\n",
    "    first_command = next(corrected_commands)\r\n",
    "  File \"/Users/user/git_repo/thefuck/thefuck/corrector.py\", line 91, in <genexpr>\r\n",
    "    for corrected in rule.get_corrected_commands(command))\r\n",
    "  File \"/Users/user/git_repo/thefuck/thefuck/types.py\", line 189, in get_corrected_commands\r\n",
    "    new_commands = self.get_new_command(command)\r\n",
    "  File \"<decorator-gen-83>\", line 2, in get_new_command\r\n",
    "  File \"/Users/user/git_repo/thefuck/thefuck/specific/git.py\", line 32, in git_support\r\n",
    "    return fn(command)\r\n",
    "  File \"<decorator-gen-82>\", line 2, in get_new_command\r\n",
    "  File \"/Users/user/git_repo/thefuck/thefuck/utils.py\", line 136, in eager\r\n",
    "    return list(fn(*args, **kwargs))\r\n",
    "  File \"/Users/user/git_repo/thefuck/thefuck/rules/git_branch_exists.py\", line 17, in get_new_command\r\n",
    "    r\"fatal: A branch named '([^']*)' already exists.\", command.output)[0]\r\n",
    "IndexError: list index out of range\r\n",
    "```\n"
   ]
  }
 ],
 "metadata": {},
 "nbformat": 4,
 "nbformat_minor": 5
}
