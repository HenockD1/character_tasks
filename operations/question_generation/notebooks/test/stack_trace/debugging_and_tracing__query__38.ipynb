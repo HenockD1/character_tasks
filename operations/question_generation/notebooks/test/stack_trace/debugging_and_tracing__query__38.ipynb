{
 "cells": [
  {
   "cell_type": "markdown",
   "id": "e7ed12b4",
   "metadata": {},
   "source": [
    "# Metadata\n",
    "\n",
    "**Python Topics** - debugging_and_tracing\n",
    "\n",
    "**Type** - query\n",
    "\n",
    "**Target Number of Turns (User + Assistant)** - 1\n"
   ]
  },
  {
   "cell_type": "markdown",
   "id": "66e09686",
   "metadata": {},
   "source": [
    "# Conversation"
   ]
  },
  {
   "cell_type": "markdown",
   "id": "692b00bf",
   "metadata": {},
   "source": [
    "**Assistant**\n",
    "\n",
    "Please rename types.py\n",
    "\n",
    "I believe in that all software should be installed with one system package manager so I've tried to create ebuild for my Gentoo to install thefuck instead of suggested `pip install`. \n",
    "The normal way to do it is to use eclass named distutils-r1 which, in general, execute `setup.py`. \n",
    "But this call fails with trace:\n",
    "\n",
    "```\n",
    " python2_7: running distutils-r1_run_phase distutils-r1_python_compile\n",
    "/usr/bin/python2.7 setup.py build\n",
    "Traceback (most recent call last):\n",
    "  File \"/usr/lib64/python2.7/site.py\", line 62, in <module>\n",
    "    import os\n",
    "  File \"/usr/lib64/python2.7/os.py\", line 49, in <module>\n",
    "    import posixpath as path\n",
    "  File \"/usr/lib64/python2.7/posixpath.py\", line 17, in <module>\n",
    "    import warnings\n",
    "  File \"/usr/lib64/python2.7/warnings.py\", line 8, in <module>\n",
    "    import types\n",
    "  File \"types.py\", line 2, in <module>\n",
    "    from subprocess import Popen, PIPE\n",
    "  File \"/usr/lib64/python2.7/subprocess.py\", line 430, in <module>\n",
    "    import pickle\n",
    "  File \"/usr/lib64/python2.7/pickle.py\", line 30, in <module>\n",
    "    from copy_reg import dispatch_table\n",
    "  File \"/usr/lib64/python2.7/copy_reg.py\", line 7, in <module>\n",
    "    from types import ClassType as _ClassType\n",
    "ImportError: cannot import name ClassType\n",
    "```\n",
    "\n",
    "This is happens because python tries to import `ClassType` from `types.py` in your package instead of `/usr/lib64/python2.7/types.py`. So please rename it, I think fucktypes.py wil be fine in this case. Messing with standard libraries names isn't good.\n",
    "\n"
   ]
  }
 ],
 "metadata": {},
 "nbformat": 4,
 "nbformat_minor": 5
}
