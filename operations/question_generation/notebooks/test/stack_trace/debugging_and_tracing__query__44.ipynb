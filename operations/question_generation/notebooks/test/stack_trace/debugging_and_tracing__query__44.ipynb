{
 "cells": [
  {
   "cell_type": "markdown",
   "id": "05ad4356",
   "metadata": {},
   "source": [
    "# Metadata\n",
    "\n",
    "**Python Topics** - debugging_and_tracing\n",
    "\n",
    "**Type** - query\n",
    "\n",
    "**Target Number of Turns (User + Assistant)** - 6\n"
   ]
  },
  {
   "cell_type": "markdown",
   "id": "507c93fe",
   "metadata": {},
   "source": [
    "# Conversation"
   ]
  },
  {
   "cell_type": "markdown",
   "id": "ceffabd1",
   "metadata": {},
   "source": [
    "**Assistant**\n",
    "\n",
    "unexpected end of regular expression with `git u[`\n",
    "\n",
    "- The Fuck 3.2 using Python 2.7.6\n",
    "- /bin/bash, 4.3.11(1)-release\n",
    "- Ubuntu 14.04\n",
    "- [debug.txt](https://github.com/nvbn/thefuck/files/81297/debug.txt)\n",
    "\n",
    "``` python\n",
    "Traceback (most recent call last):\n",
    "  File \"/usr/local/bin/thefuck\", line 11, in <module>\n",
    "    sys.exit(main())\n",
    "  File \"/usr/local/lib/python2.7/dist-packages/thefuck/main.py\", line 77, in main\n",
    "    fix_command()\n",
    "  File \"/usr/local/lib/python2.7/dist-packages/thefuck/main.py\", line 28, in fix_command\n",
    "    selected_command = select_command(corrected_commands)\n",
    "  File \"/usr/local/lib/python2.7/dist-packages/thefuck/ui.py\", line 97, in select_command\n",
    "    selector = CommandSelector(corrected_commands)\n",
    "  File \"/usr/local/lib/python2.7/dist-packages/thefuck/ui.py\", line 60, in __init__\n",
    "    self._commands = [next(self._commands_gen)]\n",
    "  File \"/usr/local/lib/python2.7/dist-packages/thefuck/corrector.py\", line 43, in organize_commands\n",
    "    first_command = next(corrected_commands)\n",
    "  File \"/usr/local/lib/python2.7/dist-packages/thefuck/corrector.py\", line 74, in <genexpr>\n",
    "    for corrected in rule.get_corrected_commands(command))\n",
    "  File \"/usr/local/lib/python2.7/dist-packages/thefuck/types.py\", line 234, in get_corrected_commands\n",
    "    new_commands = compatibility_call(self.get_new_command, command)\n",
    "  File \"/usr/local/lib/python2.7/dist-packages/thefuck/utils.py\", line 237, in compatibility_call\n",
    "    return fn(*args)\n",
    "  File \"<decorator-gen-58>\", line 2, in get_new_command\n",
    "  File \"/usr/local/lib/python2.7/dist-packages/thefuck/specific/git.py\", line 31, in git_support\n",
    "    return fn(command)\n",
    "  File \"/usr/local/lib/python2.7/dist-packages/thefuck/rules/git_not_command.py\", line 17, in get_new_command\n",
    "    return replace_command(command, broken_cmd, matched)\n",
    "  File \"/usr/local/lib/python2.7/dist-packages/thefuck/utils.py\", line 137, in replace_command\n",
    "    for new_cmd in new_cmds]\n",
    "  File \"/usr/local/lib/python2.7/dist-packages/thefuck/utils.py\", line 110, in replace_argument\n",
    "    script, count=1)\n",
    "  File \"/usr/lib/python2.7/re.py\", line 151, in sub\n",
    "    return _compile(pattern, flags).sub(repl, string, count)\n",
    "  File \"/usr/lib/python2.7/re.py\", line 244, in _compile\n",
    "    raise error, v # invalid expression\n",
    "sre_constants.error: unexpected end of regular expression\n",
    "```\n",
    "\n"
   ]
  }
 ],
 "metadata": {},
 "nbformat": 4,
 "nbformat_minor": 5
}
