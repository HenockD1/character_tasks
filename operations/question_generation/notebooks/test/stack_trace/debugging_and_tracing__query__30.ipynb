{
 "cells": [
  {
   "cell_type": "markdown",
   "id": "c878597f",
   "metadata": {},
   "source": [
    "# Metadata\n",
    "\n",
    "**Python Topics** - debugging_and_tracing\n",
    "\n",
    "**Type** - query\n",
    "\n",
    "**Target Number of Turns (User + Assistant)** - 3\n"
   ]
  },
  {
   "cell_type": "markdown",
   "id": "517c53e7",
   "metadata": {},
   "source": [
    "# Conversation"
   ]
  },
  {
   "cell_type": "markdown",
   "id": "3008f985",
   "metadata": {},
   "source": [
    "**Assistant**\n",
    "\n",
    "UnicodeDecodeError: on windows git bash\n",
    "\n",
    "Hi, I tried to use thefuck on windows git bash.\r\n",
    "\r\n",
    " ` eval $(thefuck --alias --winpty)`  would get error:\r\n",
    "\r\n",
    "```\r\n",
    "usage: thefuck [-v] [-a [ALIAS]] [-h] [-y | -r] [-d] [command [command ...]]\r\n",
    "thefuck: error: unrecognized arguments: --winpty\r\n",
    "```\r\n",
    "So I use `eval $(thefuck --alias)` (fine on my machine) . But\r\n",
    "\r\n",
    "```\r\n",
    "$ fuck\r\n",
    "Traceback (most recent call last):\r\n",
    "  File \"d:\\python27\\lib\\runpy.py\", line 174, in _run_module_as_main\r\n",
    "    \"__main__\", fname, loader, pkg_name)\r\n",
    "  File \"d:\\python27\\lib\\runpy.py\", line 72, in _run_code\r\n",
    "    exec code in run_globals\r\n",
    "  File \"D:\\Python27\\Scripts\\thefuck.exe\\__main__.py\", line 9, in <module>\r\n",
    "  File \"d:\\python27\\lib\\site-packages\\thefuck\\main.py\", line 51, in main\r\n",
    "    fix_command(known_args)\r\n",
    "  File \"d:\\python27\\lib\\site-packages\\thefuck\\main.py\", line 27, in fix_command\r\n",
    "    command = types.Command.from_raw_script(raw_command)\r\n",
    "  File \"d:\\python27\\lib\\site-packages\\thefuck\\types.py\", line 125, in from_raw_script\r\n",
    "    stderr = result.stderr.read().decode('utf-8')\r\n",
    "  File \"d:\\python27\\lib\\encodings\\utf_8.py\", line 16, in decode\r\n",
    "    return codecs.utf_8_decode(input, errors, True)\r\n",
    "UnicodeDecodeError: 'utf8' codec can't decode byte 0xb2 in position 7: invalid start byte\r\n",
    "```\n"
   ]
  }
 ],
 "metadata": {},
 "nbformat": 4,
 "nbformat_minor": 5
}
