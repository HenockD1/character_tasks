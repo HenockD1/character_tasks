{
 "cells": [
  {
   "cell_type": "markdown",
   "id": "d221e39b",
   "metadata": {},
   "source": [
    "# Metadata\n",
    "\n",
    "**Python Topics** - debugging_and_tracing\n",
    "\n",
    "**Type** - query\n",
    "\n",
    "**Target Number of Turns (User + Assistant)** - 2\n"
   ]
  },
  {
   "cell_type": "markdown",
   "id": "588d6b6e",
   "metadata": {},
   "source": [
    "# Conversation"
   ]
  },
  {
   "cell_type": "markdown",
   "id": "8f73081d",
   "metadata": {},
   "source": [
    "**User**\n",
    "\n",
    "Проблема при исправлении команды с русскими символами \n",
    "\n",
    "Ветка в гите содержит русские символы, при попытке выполнить fuck получил ошибочку.\n",
    "\n",
    "2016-02-11 02:31:52 ☆  akeinhell in /var/www/users/js/coffee\n",
    "± |U-70-Группы U:3 ?:1 ✗| → git pull \n",
    "There is no tracking information for the current branch.\n",
    "Please specify which branch you want to merge with.\n",
    "See git-pull(1) for details\n",
    "\n",
    "```\n",
    "git pull <remote> <branch>\n",
    "```\n",
    "\n",
    "If you wish to set tracking information for this branch you can do so with:\n",
    "\n",
    "```\n",
    "git branch --set-upstream-to=origin/<branch> U-70-Группы\n",
    "```\n",
    "\n",
    " 2016-02-11 02:33:06 ☆  akeinhell in /var/www/users/js/coffee\n",
    "± |U-70-Группы U:3 ?:1 ✗| → fuck \n",
    "\n",
    "```\n",
    "git branch --set-upstream-to=origin/U-70-Группы U-70-Группы && git pull [enter/↑/↓/ctrl+c]\n",
    "Traceback (most recent call last):\n",
    "  File \"/usr/local/bin/thefuck\", line 11, in <module>\n",
    "    sys.exit(main())\n",
    "  File \"/usr/local/lib/python2.7/dist-packages/thefuck/main.py\", line 79, in main\n",
    "    fix_command()\n",
    "  File \"/usr/local/lib/python2.7/dist-packages/thefuck/main.py\", line 34, in fix_command\n",
    "    selected_command.run(command)\n",
    "  File \"/usr/local/lib/python2.7/dist-packages/thefuck/types.py\", line 284, in run\n",
    "    print(self.script)\n",
    "  File \"/usr/local/lib/python2.7/dist-packages/colorama/ansitowin32.py\", line 36, in write\n",
    "    self.__convertor.write(text)\n",
    "  File \"/usr/local/lib/python2.7/dist-packages/colorama/ansitowin32.py\", line 137, in write\n",
    "    self.write_and_convert(text)\n",
    "  File \"/usr/local/lib/python2.7/dist-packages/colorama/ansitowin32.py\", line 165, in write_and_convert\n",
    "    self.write_plain_text(text, cursor, len(text))\n",
    "  File \"/usr/local/lib/python2.7/dist-packages/colorama/ansitowin32.py\", line 170, in write_plain_text\n",
    "    self.wrapped.write(text[start:end])\n",
    "UnicodeEncodeError: 'ascii' codec can't encode characters in position 41-46: ordinal not in range(128)\n",
    "```\n",
    "\n"
   ]
  }
 ],
 "metadata": {},
 "nbformat": 4,
 "nbformat_minor": 5
}
