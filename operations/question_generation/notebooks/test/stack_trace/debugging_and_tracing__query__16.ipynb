{
 "cells": [
  {
   "cell_type": "markdown",
   "id": "84c916d8",
   "metadata": {},
   "source": [
    "# Metadata\n",
    "\n",
    "**Python Topics** - debugging_and_tracing\n",
    "\n",
    "**Type** - query\n",
    "\n",
    "**Target Number of Turns (User + Assistant)** - 1\n"
   ]
  },
  {
   "cell_type": "markdown",
   "id": "fdd3823f",
   "metadata": {},
   "source": [
    "# Conversation"
   ]
  },
  {
   "cell_type": "markdown",
   "id": "24afeaeb",
   "metadata": {},
   "source": [
    "**Assistant**\n",
    "\n",
    "Permission denied: '/tmp/thefuck.last_not_configured_run'\n",
    "\n",
    "The output of `thefuck --version` (something like `The Fuck 3.1 using Python 3.5.0`):\r\n",
    "\r\n",
    "The Fuck 3.25 using Python 3.5.2\r\n",
    "\r\n",
    "Your shell and its version (`bash`, `zsh`, *Windows PowerShell*, etc.):\r\n",
    "\r\n",
    "bash\r\n",
    "\r\n",
    "Your system (Debian 7, ArchLinux, Windows, etc.):\r\n",
    "\r\n",
    "Ubuntu 16.04\r\n",
    "\r\n",
    "How to reproduce the bug:\r\n",
    "\r\n",
    "Try the fuck as a different user on the same machine, the file /tmp/thefuck.last_not_configured_run seems to be the culprit.\r\n",
    "\r\n",
    "The output of The Fuck with `THEFUCK_DEBUG=true` exported (typically execute `export THEFUCK_DEBUG=true` in your shell before The Fuck):\r\n",
    "\r\n",
    "Traceback (most recent call last):\r\n",
    "  File \"/usr/local/bin/fuck\", line 11, in <module>\r\n",
    "    sys.exit(main())\r\n",
    "  File \"/usr/local/lib/python3.5/dist-packages/thefuck/entrypoints/not_configured.py\", line 109, in main\r\n",
    "    _record_first_run()\r\n",
    "  File \"/usr/local/lib/python3.5/dist-packages/thefuck/entrypoints/not_configured.py\", line 39, in _record_first_run\r\n",
    "    with _get_not_configured_usage_tracker_path().open(mode) as tracker:\r\n",
    "  File \"/usr/lib/python3.5/pathlib.py\", line 1151, in open\r\n",
    "    opener=self._opener)\r\n",
    "  File \"/usr/lib/python3.5/pathlib.py\", line 1005, in _opener\r\n",
    "    return self._accessor.open(self, flags, mode)\r\n",
    "  File \"/usr/lib/python3.5/pathlib.py\", line 371, in wrapped\r\n",
    "    return strfunc(str(pathobj), *args)\r\n",
    "PermissionError: [Errno 13] Permission denied: '/tmp/thefuck.last_not_configured_run'\r\n",
    "\r\n",
    "\r\n",
    "If the bug only appears with a specific application, the output of that application and its version:\r\n",
    "\r\n",
    "nope, first try lucky. :) Works fine with the other user still.\r\n",
    "\r\n",
    "Anything else you think is relevant:\r\n",
    "\r\n",
    "So I installed it, and demoed it to my colleague, he gets the above error. The file mentioned there is indeed owned by my user and not writeable by him. A quick fix might be to add the username to the file name.\r\n",
    "\n"
   ]
  }
 ],
 "metadata": {},
 "nbformat": 4,
 "nbformat_minor": 5
}
