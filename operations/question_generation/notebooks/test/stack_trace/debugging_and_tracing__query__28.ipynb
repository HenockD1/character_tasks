{
 "cells": [
  {
   "cell_type": "markdown",
   "id": "e612e969",
   "metadata": {},
   "source": [
    "# Metadata\n",
    "\n",
    "**Python Topics** - debugging_and_tracing\n",
    "\n",
    "**Type** - query\n",
    "\n",
    "**Target Number of Turns (User + Assistant)** - 1\n"
   ]
  },
  {
   "cell_type": "markdown",
   "id": "6504e5cf",
   "metadata": {},
   "source": [
    "# Conversation"
   ]
  },
  {
   "cell_type": "markdown",
   "id": "11b52c47",
   "metadata": {},
   "source": [
    "**Assistant**\n",
    "\n",
    "exception while \"run fuck second time for configuring it automatically.\"\n",
    "\n",
    "```\r\n",
    "luca@g550jk ~> fuck\r\n",
    "Seems like fuck alias isn't configured!\r\n",
    "Please put eval (thefuck --alias | tr '\r\n",
    "' ';') in your ~/.config/fish/config.fish and apply changes with fish or restart your shell.\r\n",
    "Or run fuck second time for configuring it automatically.\r\n",
    "More details - https://github.com/nvbn/thefuck#manual-installation\r\n",
    "luca@g550jk ~> fuck\r\n",
    "Traceback (most recent call last):\r\n",
    "  File \"/usr/bin/fuck\", line 11, in <module>\r\n",
    "    load_entry_point('thefuck==3.18', 'console_scripts', 'fuck')()\r\n",
    "  File \"/usr/lib/python3.6/site-packages/thefuck/not_configured.py\", line 80, in main\r\n",
    "    elif _is_second_run():\r\n",
    "  File \"/usr/lib/python3.6/site-packages/thefuck/not_configured.py\", line 40, in _is_second_run\r\n",
    "    if not tracker_path.exists() or not shell.get_history()[-1] == 'fuck':\r\n",
    "IndexError: list index out of range\r\n",
    "luca@g550jk ~> thefuck --version\r\n",
    "The Fuck 3.18 using Python 3.6.1\r\n",
    "luca@g550jk ~> lsb_release -d\r\n",
    "Description:    Arch Linux\r\n",
    "luca@g550jk ~> echo $SHELL\r\n",
    "/usr/bin/fish\r\n",
    "luca@g550jk ~> fish --version\r\n",
    "fish, version 2.5.0\r\n",
    "```\n"
   ]
  }
 ],
 "metadata": {},
 "nbformat": 4,
 "nbformat_minor": 5
}
