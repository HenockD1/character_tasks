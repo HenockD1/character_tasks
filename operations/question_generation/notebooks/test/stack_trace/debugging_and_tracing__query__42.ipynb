{
 "cells": [
  {
   "cell_type": "markdown",
   "id": "f95c9f97",
   "metadata": {},
   "source": [
    "# Metadata\n",
    "\n",
    "**Python Topics** - debugging_and_tracing\n",
    "\n",
    "**Type** - query\n",
    "\n",
    "**Target Number of Turns (User + Assistant)** - 3\n"
   ]
  },
  {
   "cell_type": "markdown",
   "id": "7b24a505",
   "metadata": {},
   "source": [
    "# Conversation"
   ]
  },
  {
   "cell_type": "markdown",
   "id": "a471bfe8",
   "metadata": {},
   "source": [
    "**Assistant**\n",
    "\n",
    "Still getting \"UnicodeEncodeError: 'ascii' codec can't encode character...\"\n",
    "\n",
    "I thought #411 would fix this in the most recent (3.3) update, but it seems not to have.\n",
    "\n",
    "``` shell\n",
    ">thefuck --version\n",
    "The Fuck 3.3 using Python 2.7.11\n",
    ">thefuck -a\n",
    "TF_ALIAS=fuck alias fuck='PYTHONIOENCODING=utf-8 eval $(thefuck $(fc -ln -1)); history -r'\n",
    "> puthon\n",
    "-bash: puthon: command not found\n",
    "> fuck\n",
    "Traceback (most recent call last):\n",
    "  File \"/opt/local/Library/Frameworks/Python.framework/Versions/Current/bin/thefuck\", line 11, in <module>\n",
    "    sys.exit(main())\n",
    "  File \"/opt/local/Library/Frameworks/Python.framework/Versions/2.7/lib/python2.7/site-packages/thefuck/main.py\", line 79, in main\n",
    "    fix_command()\n",
    "  File \"/opt/local/Library/Frameworks/Python.framework/Versions/2.7/lib/python2.7/site-packages/thefuck/main.py\", line 31, in fix_command\n",
    "    selected_command = select_command(corrected_commands)\n",
    "  File \"/opt/local/Library/Frameworks/Python.framework/Versions/2.7/lib/python2.7/site-packages/thefuck/ui.py\", line 83, in select_command\n",
    "    logs.confirm_text(selector.value)\n",
    "  File \"/opt/local/Library/Frameworks/Python.framework/Versions/2.7/lib/python2.7/site-packages/thefuck/logs.py\", line 61, in confirm_text\n",
    "    blue=color(colorama.Fore.BLUE)))\n",
    "UnicodeEncodeError: 'ascii' codec can't encode character u'\\u2191' in position 41: ordinal not in range(128)\n",
    "```\n",
    "\n",
    "Doing `export PYTHONIOENCODING=UTF-8` before the above as (not) suggested in #301 and #398 of course works, as does `export LC_ALL=en_US.UTF-8`.  OSX 10.9, happy to provide debug output (left it off since there's likely sufficient history here).\n",
    "\n"
   ]
  }
 ],
 "metadata": {},
 "nbformat": 4,
 "nbformat_minor": 5
}
