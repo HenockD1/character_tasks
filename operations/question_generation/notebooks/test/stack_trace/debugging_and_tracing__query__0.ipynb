{
 "cells": [
  {
   "cell_type": "markdown",
   "id": "ea2778c5",
   "metadata": {},
   "source": [
    "# Metadata\n",
    "\n",
    "**Python Topics** - debugging_and_tracing\n",
    "\n",
    "**Type** - query\n",
    "\n",
    "**Target Number of Turns (User + Assistant)** - 2\n"
   ]
  },
  {
   "cell_type": "markdown",
   "id": "309240c9",
   "metadata": {},
   "source": [
    "# Conversation"
   ]
  },
  {
   "cell_type": "markdown",
   "id": "0e6c27ed",
   "metadata": {},
   "source": [
    "**Assistant**\n",
    "\n",
    "UnicodeDecodeError when using thefuck\n",
    "\n",
    "I followed the alias guide, but I got an error when running thefuck in PowerShell:\r\n",
    "```\r\n",
    "Traceback (most recent call last):\r\n",
    "  File \"d:\\python36\\lib\\runpy.py\", line 193, in _run_module_as_main\r\n",
    "    \"__main__\", mod_spec)\r\n",
    "  File \"d:\\python36\\lib\\runpy.py\", line 85, in _run_code\r\n",
    "    exec(code, run_globals)\r\n",
    "  File \"D:\\Python36\\Scripts\\thefuck.exe\\__main__.py\", line 9, in <module>\r\n",
    "  File \"d:\\python36\\lib\\site-packages\\thefuck\\entrypoints\\main.py\", line 26, in main\r\n",
    "    fix_command(known_args)\r\n",
    "  File \"d:\\python36\\lib\\site-packages\\thefuck\\entrypoints\\fix_command.py\", line 36, in fix_command\r\n",
    "    command = types.Command.from_raw_script(raw_command)\r\n",
    "  File \"d:\\python36\\lib\\site-packages\\thefuck\\types.py\", line 82, in from_raw_script\r\n",
    "    output = get_output(script, expanded)\r\n",
    "  File \"d:\\python36\\lib\\site-packages\\thefuck\\output_readers\\__init__.py\", line 20, in get_output\r\n",
    "    return rerun.get_output(script, expanded)\r\n",
    "  File \"d:\\python36\\lib\\site-packages\\thefuck\\output_readers\\rerun.py\", line 62, in get_output\r\n",
    "    output = result.stdout.read().decode('utf-8')\r\n",
    "UnicodeDecodeError: 'utf-8' codec can't decode byte 0xb2 in position 9: invalid start byte\r\n",
    "```\n"
   ]
  }
 ],
 "metadata": {},
 "nbformat": 4,
 "nbformat_minor": 5
}
