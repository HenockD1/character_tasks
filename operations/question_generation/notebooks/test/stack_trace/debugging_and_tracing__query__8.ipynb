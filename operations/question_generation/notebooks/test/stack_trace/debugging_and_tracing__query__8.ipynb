{
 "cells": [
  {
   "cell_type": "markdown",
   "id": "f2baae46",
   "metadata": {},
   "source": [
    "# Metadata\n",
    "\n",
    "**Python Topics** - debugging_and_tracing\n",
    "\n",
    "**Type** - query\n",
    "\n",
    "**Target Number of Turns (User + Assistant)** - 1\n"
   ]
  },
  {
   "cell_type": "markdown",
   "id": "a290d8ef",
   "metadata": {},
   "source": [
    "# Conversation"
   ]
  },
  {
   "cell_type": "markdown",
   "id": "ae80be7d",
   "metadata": {},
   "source": [
    "**Assistant**\n",
    "\n",
    "ImportError: No module named shutil_get_terminal_size\n",
    "\n",
    "Just install thefuck on my Ubuntu 18.04 laptop.\r\n",
    "\r\n",
    "I use:\r\n",
    "\r\n",
    "```\r\n",
    "$ pip install thefuck\r\n",
    "```\r\n",
    "\r\n",
    "After adding the alias in the .bashrc file, the following error appears wheni try to run the fuck command:\r\n",
    "\r\n",
    "```\r\n",
    "$ thefuck\r\n",
    "Traceback (most recent call last):\r\n",
    "  File \"/usr/local/bin/thefuck\", line 7, in <module>\r\n",
    "    from thefuck.entrypoints.main import main\r\n",
    "  File \"/usr/local/lib/python2.7/dist-packages/thefuck/entrypoints/main.py\", line 12, in <module>\r\n",
    "    from .fix_command import fix_command  # noqa: E402\r\n",
    "  File \"/usr/local/lib/python2.7/dist-packages/thefuck/entrypoints/fix_command.py\", line 5, in <module>\r\n",
    "    from .. import logs, types, const\r\n",
    "  File \"/usr/local/lib/python2.7/dist-packages/thefuck/types.py\", line 10, in <module>\r\n",
    "    from .output_readers import get_output\r\n",
    "  File \"/usr/local/lib/python2.7/dist-packages/thefuck/output_readers/__init__.py\", line 2, in <module>\r\n",
    "    from . import read_log, rerun, shell_logger\r\n",
    "  File \"/usr/local/lib/python2.7/dist-packages/thefuck/output_readers/read_log.py\", line 8, in <module>\r\n",
    "    from backports.shutil_get_terminal_size import get_terminal_size\r\n",
    "ImportError: No module named shutil_get_terminal_size\r\n",
    "```\r\n",
    "\r\n",
    "I already try to upgrade backports.shutil_get_terminal_size (pip install --upgrade backports.shutil_get_terminal_size) but same issue...\r\n",
    "\r\n",
    "Any idea ?\r\n",
    "\n"
   ]
  }
 ],
 "metadata": {},
 "nbformat": 4,
 "nbformat_minor": 5
}
