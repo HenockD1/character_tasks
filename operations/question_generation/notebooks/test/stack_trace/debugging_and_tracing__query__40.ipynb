{
 "cells": [
  {
   "cell_type": "markdown",
   "id": "bd7482ea",
   "metadata": {},
   "source": [
    "# Metadata\n",
    "\n",
    "**Python Topics** - debugging_and_tracing\n",
    "\n",
    "**Type** - query\n",
    "\n",
    "**Target Number of Turns (User + Assistant)** - 2\n"
   ]
  },
  {
   "cell_type": "markdown",
   "id": "31667c3d",
   "metadata": {},
   "source": [
    "# Conversation"
   ]
  },
  {
   "cell_type": "markdown",
   "id": "76c1fe73",
   "metadata": {},
   "source": [
    "**Assistant**\n",
    "\n",
    "Bug\n",
    "\n",
    "Traceback (most recent call last):\n",
    "  File \"/usr/bin/thefuck\", line 11, in <module>\n",
    "    sys.exit(main())\n",
    "  File \"/usr/lib/python2.7/site-packages/thefuck/main.py\", line 79, in main\n",
    "    fix_command()\n",
    "  File \"/usr/lib/python2.7/site-packages/thefuck/main.py\", line 31, in fix_command\n",
    "    selected_command = select_command(corrected_commands)\n",
    "  File \"/usr/lib/python2.7/site-packages/thefuck/ui.py\", line 83, in select_command\n",
    "    logs.confirm_text(selector.value)\n",
    "  File \"/usr/lib/python2.7/site-packages/thefuck/logs.py\", line 61, in confirm_text\n",
    "    blue=color(colorama.Fore.BLUE)))\n",
    "UnicodeEncodeError: 'ascii' codec can't encode character u'\\u2191' in position 41: ordinal not in range(128)\n",
    "\n"
   ]
  }
 ],
 "metadata": {},
 "nbformat": 4,
 "nbformat_minor": 5
}
