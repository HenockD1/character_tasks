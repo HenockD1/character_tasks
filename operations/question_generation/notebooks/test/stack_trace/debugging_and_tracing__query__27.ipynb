{
 "cells": [
  {
   "cell_type": "markdown",
   "id": "70bec25e",
   "metadata": {},
   "source": [
    "# Metadata\n",
    "\n",
    "**Python Topics** - debugging_and_tracing\n",
    "\n",
    "**Type** - query\n",
    "\n",
    "**Target Number of Turns (User + Assistant)** - 3\n"
   ]
  },
  {
   "cell_type": "markdown",
   "id": "aebfe125",
   "metadata": {},
   "source": [
    "# Conversation"
   ]
  },
  {
   "cell_type": "markdown",
   "id": "a97d9ae5",
   "metadata": {},
   "source": [
    "**User**\n",
    "\n",
    "'UnicodeDecodeError' on windows powershell\n",
    "\n",
    "Below are the warning and error when i execute command `fuck`\r\n",
    "\r\n",
    "```\r\n",
    " RuntimeWarning: sys.stdin.encoding == 'utf-8', whereas sys.stdout.encoding == 'cp936', readline hook consumer may assume they are the same\r\n",
    "  readline_hook.enable(use_pyreadline=use_pyreadline)\r\n",
    "Traceback (most recent call last):\r\n",
    "  File \"d:\\anaconda3\\lib\\runpy.py\", line 193, in _run_module_as_main\r\n",
    "    \"__main__\", mod_spec)\r\n",
    "  File \"d:\\anaconda3\\lib\\runpy.py\", line 85, in _run_code\r\n",
    "    exec(code, run_globals)\r\n",
    "  File \"D:\\Anaconda3\\Scripts\\thefuck.exe\\__main__.py\", line 9, in <module>\r\n",
    "  File \"d:\\anaconda3\\lib\\site-packages\\thefuck\\main.py\", line 51, in main\r\n",
    "    fix_command(known_args)\r\n",
    "  File \"d:\\anaconda3\\lib\\site-packages\\thefuck\\main.py\", line 27, in fix_command\r\n",
    "    command = types.Command.from_raw_script(raw_command)\r\n",
    "  File \"d:\\anaconda3\\lib\\site-packages\\thefuck\\types.py\", line 125, in from_raw_script\r\n",
    "    stderr = result.stderr.read().decode('utf-8')\r\n",
    "UnicodeDecodeError: 'utf-8' codec can't decode byte 0xb2 in position 6: invalid start byte\r\n",
    "```\n"
   ]
  }
 ],
 "metadata": {},
 "nbformat": 4,
 "nbformat_minor": 5
}
