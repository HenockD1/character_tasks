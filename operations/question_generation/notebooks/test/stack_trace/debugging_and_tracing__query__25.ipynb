{
 "cells": [
  {
   "cell_type": "markdown",
   "id": "7c50cb6f",
   "metadata": {},
   "source": [
    "# Metadata\n",
    "\n",
    "**Python Topics** - debugging_and_tracing\n",
    "\n",
    "**Type** - query\n",
    "\n",
    "**Target Number of Turns (User + Assistant)** - 3\n"
   ]
  },
  {
   "cell_type": "markdown",
   "id": "c971c2e5",
   "metadata": {},
   "source": [
    "# Conversation"
   ]
  },
  {
   "cell_type": "markdown",
   "id": "a78ceb93",
   "metadata": {},
   "source": [
    "**User**\n",
    "\n",
    "Non-ASCII character in last command crashes The Fuck\n",
    "\n",
    "If the last command contains a non-ASCII character, The Fuck crashes with a UnicodeEncodeError.\r\n",
    "\r\n",
    "Such an error can easily happen on non-English keyboards, e.g. on my Hungarian keyboard, it's very easy to misspell 'ls\" as \"és\", or \"ps aux\" as \"ős aux\".\r\n",
    "\r\n",
    "Reproduction:\r\n",
    "with The Fuck configured, run \"ápt-get moo\", then \"fuck\". \r\n",
    "The following error appears:\r\n",
    "Traceback (most recent call last):\r\n",
    "  File \"/home/osboxes/venv/bin/thefuck\", line 11, in <module>\r\n",
    "    sys.exit(main())\r\n",
    "  File \"/home/osboxes/venv/local/lib/python2.7/site-packages/thefuck/main.py\", line 53, in main\r\n",
    "    fix_command(known_args)\r\n",
    "  File \"/home/osboxes/venv/local/lib/python2.7/site-packages/thefuck/main.py\", line 29, in fix_command\r\n",
    "    command = types.Command.from_raw_script(raw_command)\r\n",
    "  File \"/home/osboxes/venv/local/lib/python2.7/site-packages/thefuck/types.py\", line 76, in from_raw_script\r\n",
    "    stdout, stderr = get_output(script, expanded)\r\n",
    "  File \"/home/osboxes/venv/local/lib/python2.7/site-packages/thefuck/output_readers/__init__.py\", line 18, in get_output\r\n",
    "    return rerun.get_output(script, expanded)\r\n",
    "  File \"/home/osboxes/venv/local/lib/python2.7/site-packages/thefuck/output_readers/rerun.py\", line 42, in get_output\r\n",
    "    is_slow = shlex.split(expanded) in settings.slow_commands\r\n",
    "  File \"/usr/lib/python2.7/shlex.py\", line 275, in split\r\n",
    "    lex = shlex(s, posix=posix)\r\n",
    "  File \"/usr/lib/python2.7/shlex.py\", line 25, in __init__\r\n",
    "    instream = StringIO(instream)\r\n",
    "UnicodeEncodeError: 'ascii' codec can't encode character u'\\xe1' in position 0: ordinal not in range(128)\r\n",
    "\r\n",
    "If you instead type \"opt-get moo\", then \"fuck\", it works fine.\n"
   ]
  }
 ],
 "metadata": {},
 "nbformat": 4,
 "nbformat_minor": 5
}
