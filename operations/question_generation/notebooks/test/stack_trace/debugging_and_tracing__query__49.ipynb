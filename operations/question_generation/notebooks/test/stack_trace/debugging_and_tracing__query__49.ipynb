{
 "cells": [
  {
   "cell_type": "markdown",
   "id": "00e62b77",
   "metadata": {},
   "source": [
    "# Metadata\n",
    "\n",
    "**Python Topics** - debugging_and_tracing\n",
    "\n",
    "**Type** - query\n",
    "\n",
    "**Target Number of Turns (User + Assistant)** - 3\n"
   ]
  },
  {
   "cell_type": "markdown",
   "id": "37ece5af",
   "metadata": {},
   "source": [
    "# Conversation"
   ]
  },
  {
   "cell_type": "markdown",
   "id": "307092c5",
   "metadata": {},
   "source": [
    "**User**\n",
    "\n",
    "thefuck Permission denied brand new OSX 10.10.5\n",
    "\n",
    "Brand new OSX 10.10.5\n",
    ".zshrc\n",
    "\n",
    "```\n",
    "TF_ALIAS=fuck alias fuck='eval $(thefuck $(fc -ln -1 | tail -n 1)); fc -R'\n",
    "```\n",
    "\n",
    "ERROR\n",
    "\n",
    "```\n",
    "# michalgn at motorola.local in ~ [13:51:09]\n",
    "$ pwdd   \n",
    "zsh: command not found: pwdd\n",
    "\n",
    "# michalgn at motorola.local in ~ [13:51:55]\n",
    "$ fuck\n",
    "pwd [enter/↑/↓/ctrl+c]\n",
    "Traceback (most recent call last):\n",
    "  File \"/usr/local/Cellar/thefuck/3.1/libexec/bin/thefuck\", line 9, in <module>\n",
    "    load_entry_point('thefuck==3.1', 'console_scripts', 'thefuck')()\n",
    "  File \"/usr/local/Cellar/thefuck/3.1/libexec/lib/python2.7/site-packages/thefuck/main.py\", line 77, in main\n",
    "    fix_command()\n",
    "  File \"/usr/local/Cellar/thefuck/3.1/libexec/lib/python2.7/site-packages/thefuck/main.py\", line 31, in fix_command\n",
    "    selected_command.run(command)\n",
    "  File \"/usr/local/Cellar/thefuck/3.1/libexec/lib/python2.7/site-packages/thefuck/types.py\", line 270, in run\n",
    "    shells.put_to_history(self.script)\n",
    "  File \"/usr/local/Cellar/thefuck/3.1/libexec/lib/python2.7/site-packages/thefuck/shells.py\", line 276, in put_to_history\n",
    "    return _get_shell().put_to_history(command)\n",
    "  File \"/usr/local/Cellar/thefuck/3.1/libexec/lib/python2.7/site-packages/thefuck/shells.py\", line 49, in put_to_history\n",
    "    with open(history_file_name, 'a') as history:\n",
    "IOError: [Errno 13] Permission denied: '/Users/michalgn/.zsh_history'\n",
    "```\n",
    "\n"
   ]
  }
 ],
 "metadata": {},
 "nbformat": 4,
 "nbformat_minor": 5
}
