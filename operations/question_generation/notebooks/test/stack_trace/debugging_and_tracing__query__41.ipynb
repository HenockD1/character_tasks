{
 "cells": [
  {
   "cell_type": "markdown",
   "id": "80c0fe51",
   "metadata": {},
   "source": [
    "# Metadata\n",
    "\n",
    "**Python Topics** - debugging_and_tracing\n",
    "\n",
    "**Type** - query\n",
    "\n",
    "**Target Number of Turns (User + Assistant)** - 7\n"
   ]
  },
  {
   "cell_type": "markdown",
   "id": "3fc5c260",
   "metadata": {},
   "source": [
    "# Conversation"
   ]
  },
  {
   "cell_type": "markdown",
   "id": "66405cfe",
   "metadata": {},
   "source": [
    "**User**\n",
    "\n",
    "Problem with encoding\n",
    "\n",
    "I've seen an issue with a similar problem, but I checked the alias (below) and it does have utf-8 \n",
    "\n",
    "<danb> danb@ubuntu-danb src $ ls /tnp\n",
    "ls: cannot access /tnp: No such file or directory\n",
    "<danb> danb@ubuntu-danb src $ fuck\n",
    "Traceback (most recent call last):\n",
    "  File \"/usr/local/bin/thefuck\", line 11, in <module>\n",
    "    sys.exit(main())\n",
    "  File \"/usr/local/lib/python2.7/dist-packages/thefuck/main.py\", line 79, in main\n",
    "    fix_command()\n",
    "  File \"/usr/local/lib/python2.7/dist-packages/thefuck/main.py\", line 31, in fix_command\n",
    "    selected_command = select_command(corrected_commands)\n",
    "  File \"/usr/local/lib/python2.7/dist-packages/thefuck/ui.py\", line 83, in select_command\n",
    "    logs.confirm_text(selector.value)\n",
    "  File \"/usr/local/lib/python2.7/dist-packages/thefuck/logs.py\", line 61, in confirm_text\n",
    "    blue=color(colorama.Fore.BLUE)))\n",
    "UnicodeEncodeError: 'ascii' codec can't encode character u'\\u2191' in position 43: ordinal not in range(128)\n",
    "<danb> danb@ubuntu-danb src $ echo $PYTHONIOENCODING\n",
    "\n",
    "<kaveret.x1015ol-danb> danb@ubuntu-danb src $ thefuck --alias\n",
    "TF_ALIAS=fuck alias fuck='PYTHONIOENCODING=utf-8 eval $(thefuck $(fc -ln -1)); history -r'\n",
    "\n"
   ]
  }
 ],
 "metadata": {},
 "nbformat": 4,
 "nbformat_minor": 5
}
