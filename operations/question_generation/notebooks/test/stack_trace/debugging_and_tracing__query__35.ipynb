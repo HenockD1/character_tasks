{
 "cells": [
  {
   "cell_type": "markdown",
   "id": "6c97ac04",
   "metadata": {},
   "source": [
    "# Metadata\n",
    "\n",
    "**Python Topics** - debugging_and_tracing\n",
    "\n",
    "**Type** - query\n",
    "\n",
    "**Target Number of Turns (User + Assistant)** - 5\n"
   ]
  },
  {
   "cell_type": "markdown",
   "id": "ddf2205b",
   "metadata": {},
   "source": [
    "# Conversation"
   ]
  },
  {
   "cell_type": "markdown",
   "id": "d7285a4f",
   "metadata": {},
   "source": [
    "**User**\n",
    "\n",
    "version 2.5.6-1: AttributeError: 'NoneType' object has no attribute 'stdout'\n",
    "\n",
    "I installed via apt-get version 2.5.6-1 in Ubuntu 15.10:\n",
    "\n",
    "```\n",
    "apt-get install thefuck\n",
    "```\n",
    "\n",
    "But I only always get this error, for example:\n",
    "\n",
    "```\n",
    "rubo77:~$ pyton\n",
    "... did you mean »python« ? ...\n",
    "rubo77:~$ thefuck \n",
    "Traceback (most recent call last):\n",
    "  File \"/usr/bin/thefuck\", line 9, in <module>\n",
    "    load_entry_point('thefuck==2.5.6', 'console_scripts', 'thefuck.real')()\n",
    "  File \"/usr/share/thefuck/thefuck/main.py\", line 160, in main\n",
    "    matched_rule = get_matched_rule(command, rules, settings)\n",
    "  File \"/usr/share/thefuck/thefuck/main.py\", line 105, in get_matched_rule\n",
    "    script_only = command.stdout is None and command.stderr is None\n",
    "AttributeError: 'NoneType' object has no attribute 'stdout'\n",
    "```\n",
    "\n"
   ]
  }
 ],
 "metadata": {},
 "nbformat": 4,
 "nbformat_minor": 5
}
