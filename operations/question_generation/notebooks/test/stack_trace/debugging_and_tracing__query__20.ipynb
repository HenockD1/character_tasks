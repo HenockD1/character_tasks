{
 "cells": [
  {
   "cell_type": "markdown",
   "id": "cda8e5ab",
   "metadata": {},
   "source": [
    "# Metadata\n",
    "\n",
    "**Python Topics** - debugging_and_tracing\n",
    "\n",
    "**Type** - query\n",
    "\n",
    "**Target Number of Turns (User + Assistant)** - 1\n"
   ]
  },
  {
   "cell_type": "markdown",
   "id": "dce94f04",
   "metadata": {},
   "source": [
    "# Conversation"
   ]
  },
  {
   "cell_type": "markdown",
   "id": "92134869",
   "metadata": {},
   "source": [
    "**Assistant**\n",
    "\n",
    "Cannot Start.\n",
    "\n",
    "It threw an error mesage when it start with the ZSH:\r\n",
    "~~~~\r\n",
    "Traceback (most recent call last):\r\n",
    "  File \"/usr/local/bin/thefuck\", line 7, in <module>\r\n",
    "    from thefuck.entrypoints.main import main\r\n",
    "  File \"/usr/local/lib/python3.6/site-packages/thefuck/entrypoints/main.py\", line 11, in <module>\r\n",
    "    from .alias import print_alias  # noqa: E402\r\n",
    "  File \"/usr/local/lib/python3.6/site-packages/thefuck/entrypoints/alias.py\", line 3, in <module>\r\n",
    "    from ..shells import shell\r\n",
    "  File \"/usr/local/lib/python3.6/site-packages/thefuck/shells/__init__.py\", line 6, in <module>\r\n",
    "    from psutil import Process\r\n",
    "ImportError: cannot import name 'Process'\r\n",
    "~~~~\r\n",
    "\r\n",
    "When I was trying to use it, it threw another error:\r\n",
    "~~~~\r\n",
    "Traceback (most recent call last):\r\n",
    "  File \"/usr/local/bin/fuck\", line 7, in <module>\r\n",
    "    from thefuck.entrypoints.not_configured import main\r\n",
    "  File \"/usr/local/lib/python3.6/site-packages/thefuck/entrypoints/not_configured.py\", line 11, in <module>\r\n",
    "    from psutil import Process  # noqa: E402\r\n",
    "ImportError: cannot import name 'Process'\r\n",
    "~~~~\r\n",
    "\r\n",
    "\r\n",
    "And then I tried to run the import in the Python 3 CLI, I discovered that there is NO SUCH attribute in the module 'psutil'.\r\n",
    "\r\n",
    "Please repair it by using a newer solution or by changing a module.\n"
   ]
  }
 ],
 "metadata": {},
 "nbformat": 4,
 "nbformat_minor": 5
}
