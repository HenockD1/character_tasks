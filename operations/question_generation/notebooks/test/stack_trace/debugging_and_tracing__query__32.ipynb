{
 "cells": [
  {
   "cell_type": "markdown",
   "id": "c59b9bcc",
   "metadata": {},
   "source": [
    "# Metadata\n",
    "\n",
    "**Python Topics** - debugging_and_tracing\n",
    "\n",
    "**Type** - query\n",
    "\n",
    "**Target Number of Turns (User + Assistant)** - 1\n"
   ]
  },
  {
   "cell_type": "markdown",
   "id": "a0ee90d2",
   "metadata": {},
   "source": [
    "# Conversation"
   ]
  },
  {
   "cell_type": "markdown",
   "id": "b8ab3c7b",
   "metadata": {},
   "source": [
    "**Assistant**\n",
    "\n",
    "thefuck installed from Ubuntu repo does not work in Fish\n",
    "\n",
    "I installed thefuck from the Ubuntu repos:\r\n",
    "```\r\n",
    "thefuck --version\r\n",
    "The Fuck 3.2 using Python 2.7.12\r\n",
    "```\r\n",
    "\r\n",
    "And, since I use Fish, I did what specified here:\r\n",
    "https://github.com/nvbn/thefuck/wiki/Shell-aliases\r\n",
    "\r\n",
    "However...\r\n",
    "```\r\n",
    "[18:48:29]-[~]                                                                                                                                                                                              \r\n",
    "[hp6-clima-10.ictp.it]->  puthon                                                                                                                                                                    18:48:29\r\n",
    "No command 'puthon' found, did you mean:\r\n",
    " Command 'python' from package 'python3' (main)\r\n",
    " Command 'python' from package 'python-minimal' (main)\r\n",
    "puthon: command not found\r\n",
    "[18:48:34]-[~]                                                                                                                                                                                              \r\n",
    "[hp6-clima-10.ictp.it]->  fuck                                                                                                                                                                      18:48:34\r\n",
    "Traceback (most recent call last):\r\n",
    "  File \"/usr/bin/thefuck\", line 9, in <module>\r\n",
    "    load_entry_point('thefuck==3.2', 'console_scripts', 'thefuck.real')()\r\n",
    "  File \"/usr/share/thefuck/thefuck/main.py\", line 77, in main\r\n",
    "    fix_command()\r\n",
    "  File \"/usr/share/thefuck/thefuck/main.py\", line 28, in fix_command\r\n",
    "    selected_command = select_command(corrected_commands)\r\n",
    "  File \"/usr/share/thefuck/thefuck/ui.py\", line 106, in select_command\r\n",
    "    logs.confirm_text(selector.value)\r\n",
    "  File \"/usr/share/thefuck/thefuck/logs.py\", line 61, in confirm_text\r\n",
    "    blue=color(colorama.Fore.BLUE)))\r\n",
    "UnicodeEncodeError: 'ascii' codec can't encode character u'\\u2191' in position 41: ordinal not in range(128)\r\n",
    "```\n"
   ]
  }
 ],
 "metadata": {},
 "nbformat": 4,
 "nbformat_minor": 5
}
