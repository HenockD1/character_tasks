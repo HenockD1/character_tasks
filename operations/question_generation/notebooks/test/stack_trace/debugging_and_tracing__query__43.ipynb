{
 "cells": [
  {
   "cell_type": "markdown",
   "id": "5ef85898",
   "metadata": {},
   "source": [
    "# Metadata\n",
    "\n",
    "**Python Topics** - debugging_and_tracing\n",
    "\n",
    "**Type** - query\n",
    "\n",
    "**Target Number of Turns (User + Assistant)** - 3\n"
   ]
  },
  {
   "cell_type": "markdown",
   "id": "31d4be5b",
   "metadata": {},
   "source": [
    "# Conversation"
   ]
  },
  {
   "cell_type": "markdown",
   "id": "23d18b93",
   "metadata": {},
   "source": [
    "**User**\n",
    "\n",
    "fuck fails to execute a command if .bash_history does not have write permissions\n",
    "\n",
    "# Synopsis\n",
    "\n",
    "When attempting to execute a command selected with fuck, if fuck cannot write to the .bash_history, it will throw an exception explaining that permission was denied, and fuck will **not** execute the command. fuck should always execute the command, regardless of whether it is able to modify .bash_history or not (or this should be provided as an flag, and probably enabled by default).\n",
    "# Traceback\n",
    "\n",
    "Traceback (most recent call last):\n",
    "  File \"/usr/bin/thefuck\", line 9, in <module>\n",
    "    load_entry_point('thefuck==3.2', 'console_scripts', 'thefuck.real')()\n",
    "  File \"/usr/share/thefuck/thefuck/main.py\", line 77, in main\n",
    "    fix_command()\n",
    "  File \"/usr/share/thefuck/thefuck/main.py\", line 31, in fix_command\n",
    "    selected_command.run(command)\n",
    "  File \"/usr/share/thefuck/thefuck/types.py\", line 281, in run\n",
    "    shells.put_to_history(self.script)\n",
    "  File \"/usr/share/thefuck/thefuck/shells.py\", line 293, in put_to_history\n",
    "    return _get_shell().put_to_history(command)\n",
    "  File \"/usr/share/thefuck/thefuck/shells.py\", line 51, in put_to_history\n",
    "    with open(history_file_name, 'a') as history:\n",
    "IOError: [Errno 13] Permission denied: '/home/REDACTED/.bash_history'\n",
    "# Environment\n",
    "\n",
    "Debian sid\n",
    "thefuck (3.2-1)\n",
    "python3 (3.5.0-2)\n",
    "\n"
   ]
  }
 ],
 "metadata": {},
 "nbformat": 4,
 "nbformat_minor": 5
}
