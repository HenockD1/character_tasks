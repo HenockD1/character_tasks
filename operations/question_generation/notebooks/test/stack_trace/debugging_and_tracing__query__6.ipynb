{
 "cells": [
  {
   "cell_type": "markdown",
   "id": "fd556d6b",
   "metadata": {},
   "source": [
    "# Metadata\n",
    "\n",
    "**Python Topics** - debugging_and_tracing\n",
    "\n",
    "**Type** - query\n",
    "\n",
    "**Target Number of Turns (User + Assistant)** - 1\n"
   ]
  },
  {
   "cell_type": "markdown",
   "id": "b47f7cf4",
   "metadata": {},
   "source": [
    "# Conversation"
   ]
  },
  {
   "cell_type": "markdown",
   "id": "2f9b901c",
   "metadata": {},
   "source": [
    "**Assistant**\n",
    "\n",
    "Issue after second run\n",
    "\n",
    "<!-- If you have any issue with The Fuck, sorry about that, but we will do what we\r\n",
    "can to fix that. Actually, maybe we already have, so first thing to do is to\r\n",
    "update The Fuck and see if the bug is still there. -->\r\n",
    "\r\n",
    "<!-- If it is (sorry again), check if the problem has not already been reported and\r\n",
    "if not, just open an issue on [GitHub](https://github.com/nvbn/thefuck) with\r\n",
    "the following basic information: -->\r\n",
    "\r\n",
    "The output of `thefuck --version` (something like `The Fuck 3.1 using Python\r\n",
    "3.5.0 and Bash 4.4.12(1)-release`):\r\n",
    "\r\n",
    "    Traceback (most recent call last):\r\n",
    "      File \"/usr/bin/fuck\", line 12, in <module>\r\n",
    "        sys.exit(main())\r\n",
    "      File \"/usr/lib/python3.7/site-packages/thefuck/entrypoints/not_configured.py\", line 112, in main\r\n",
    "        _record_first_run()\r\n",
    "      File \"/usr/lib/python3.7/site-packages/thefuck/entrypoints/not_configured.py\", line 42, in _record_first_run\r\n",
    "        with _get_not_configured_usage_tracker_path().open(mode) as tracker:\r\n",
    "      File \"/usr/lib/python3.7/pathlib.py\", line 1176, in open\r\n",
    "        opener=self._opener)\r\n",
    "      File \"/usr/lib/python3.7/pathlib.py\", line 1030, in _opener\r\n",
    "      return self._accessor.open(self, flags, mode)\r\n",
    "      PermissionError: [Errno 13] Permission denied: '/tmp/thefuck.last_not_configured_run_steven'\r\n",
    "\r\n",
    "\r\n",
    "Your system (Debian 7, ArchLinux, Windows, etc.):\r\n",
    "\r\n",
    "    ArchLinux Manjaro\r\n",
    "\r\n",
    "How to reproduce the bug:\r\n",
    "\r\n",
    "    After typing `fuck` in terminal\r\n",
    "\r\n",
    "<!-- It's only with enough information that we can do something to fix the problem. -->\r\n",
    "\n"
   ]
  }
 ],
 "metadata": {},
 "nbformat": 4,
 "nbformat_minor": 5
}
