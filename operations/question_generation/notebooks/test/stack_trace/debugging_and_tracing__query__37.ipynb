{
 "cells": [
  {
   "cell_type": "markdown",
   "id": "33113e8c",
   "metadata": {},
   "source": [
    "# Metadata\n",
    "\n",
    "**Python Topics** - debugging_and_tracing\n",
    "\n",
    "**Type** - query\n",
    "\n",
    "**Target Number of Turns (User + Assistant)** - 2\n"
   ]
  },
  {
   "cell_type": "markdown",
   "id": "9b3f8f15",
   "metadata": {},
   "source": [
    "# Conversation"
   ]
  },
  {
   "cell_type": "markdown",
   "id": "7c2aff66",
   "metadata": {},
   "source": [
    "**User**\n",
    "\n",
    "werid behavior\n",
    "\n",
    "python 2.7.10\n",
    "windows powershell\n",
    "\n",
    "when I type:\n",
    "\n",
    "``` bash\n",
    "> git comit -am 'test'\n",
    "> fuck\n",
    "```\n",
    "\n",
    "it gives me something that is completely weird:\n",
    "\n",
    "```\n",
    "C:\\Python27\\lib\\site-packages\\win_unicode_console\\__init__.py:27: RuntimeWarning: sys.stdin.encoding == 'utf-8', whereas sys.stdout.encoding == None, readline hook consumer may assume they are the same\n",
    "  readline_hook.enable(use_pyreadline=use_pyreadline)\n",
    "\u001b[1mgit commit -am 'test'\u001b[0m [\u001b[32menter\u001b[0m/\u001b[34m↑\u001b[0m/\u001b[34m↓\u001b[0m/\u001b[31mctrl+c\u001b[0m]\n",
    "```\n",
    "\n",
    "and then give an exception:\n",
    "\n",
    "```\n",
    "Traceback (most recent call last):\n",
    "  File \"C:\\Python27\\lib\\runpy.py\", line 162, in _run_module_as_main\n",
    "    \"__main__\", fname, loader, pkg_name)\n",
    "  File \"C:\\Python27\\lib\\runpy.py\", line 72, in _run_code\n",
    "    exec code in run_globals\n",
    "  File \"C:\\Python27\\Scripts\\thefuck.exe\\__main__.py\", line 9, in <module>\n",
    "  File \"C:\\Python27\\lib\\site-packages\\thefuck\\main.py\", line 80, in main\n",
    "    fix_command()\n",
    "  File \"C:\\Python27\\lib\\site-packages\\thefuck\\main.py\", line 32, in fix_command\n",
    "    selected_command = select_command(corrected_commands)\n",
    "  File \"C:\\Python27\\lib\\site-packages\\thefuck\\ui.py\", line 80, in select_command\n",
    "    for action in read_actions():\n",
    "  File \"C:\\Python27\\lib\\site-packages\\thefuck\\ui.py\", line 13, in read_actions\n",
    "    key = get_key()\n",
    "  File \"C:\\Python27\\lib\\site-packages\\thefuck\\system\\win32.py\", line 25, in get_key\n",
    "    return ch.decode(sys.stdout.encoding)\n",
    "TypeError: decode() argument 1 must be string, not None\n",
    "```\n",
    "\n",
    "I think this is related to UTF-8 encoding in python2...\n",
    "I cannot add python3 to path, because my vim plugins will require python2 in the path...\n",
    "\n",
    "Is there any way I can fix this?\n",
    "\n"
   ]
  }
 ],
 "metadata": {},
 "nbformat": 4,
 "nbformat_minor": 5
}
