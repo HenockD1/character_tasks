{
 "cells": [
  {
   "cell_type": "markdown",
   "id": "3954596d",
   "metadata": {},
   "source": [
    "# Metadata\n",
    "\n",
    "**Python Topics** - debugging_and_tracing\n",
    "\n",
    "**Type** - query\n",
    "\n",
    "**Target Number of Turns (User + Assistant)** - 4\n"
   ]
  },
  {
   "cell_type": "markdown",
   "id": "0c25e614",
   "metadata": {},
   "source": [
    "# Conversation"
   ]
  },
  {
   "cell_type": "markdown",
   "id": "0a1a0e10",
   "metadata": {},
   "source": [
    "**User**\n",
    "\n",
    "Prints the error message: psutil._exceptions.TimeoutExpired: psutil.TimeoutExpired timeout after 3 seconds\n",
    "\n",
    "On FreeBSD I got this:\r\n",
    "```\r\n",
    "$ fuck\r\n",
    "Traceback (most recent call last):\r\n",
    "  File \"/usr/local/lib/python3.6/site-packages/thefuck/output_readers/rerun.py\", line 22, in _wait_output\r\n",
    "    else settings.wait_command)\r\n",
    "  File \"/usr/local/lib/python3.6/site-packages/psutil/__init__.py\", line 1264, in wait\r\n",
    "    return self._proc.wait(timeout)\r\n",
    "  File \"/usr/local/lib/python3.6/site-packages/psutil/_psbsd.py\", line 504, in wrapper\r\n",
    "    return fun(self, *args, **kwargs)\r\n",
    "  File \"/usr/local/lib/python3.6/site-packages/psutil/_psbsd.py\", line 760, in wait\r\n",
    "    return _psposix.wait_pid(self.pid, timeout, self._name)\r\n",
    "  File \"/usr/local/lib/python3.6/site-packages/psutil/_psposix.py\", line 104, in wait_pid\r\n",
    "    delay = check_timeout(delay)\r\n",
    "  File \"/usr/local/lib/python3.6/site-packages/psutil/_psposix.py\", line 66, in check_timeout\r\n",
    "    raise TimeoutExpired(timeout, pid=pid, name=proc_name)\r\n",
    "psutil._exceptions.TimeoutExpired: psutil.TimeoutExpired timeout after 3 seconds (pid=13634)\r\n",
    "\r\n",
    "During handling of the above exception, another exception occurred:\r\n",
    "\r\n",
    "Traceback (most recent call last):\r\n",
    "  File \"/usr/local/bin/thefuck\", line 12, in <module>\r\n",
    "    sys.exit(main())\r\n",
    "  File \"/usr/local/lib/python3.6/site-packages/thefuck/entrypoints/main.py\", line 25, in main\r\n",
    "    fix_command(known_args)\r\n",
    "  File \"/usr/local/lib/python3.6/site-packages/thefuck/entrypoints/fix_command.py\", line 36, in fix_command\r\n",
    "    command = types.Command.from_raw_script(raw_command)\r\n",
    "  File \"/usr/local/lib/python3.6/site-packages/thefuck/types.py\", line 82, in from_raw_script\r\n",
    "    output = get_output(script, expanded)\r\n",
    "  File \"/usr/local/lib/python3.6/site-packages/thefuck/output_readers/__init__.py\", line 18, in get_output\r\n",
    "    return rerun.get_output(script, expanded)\r\n",
    "  File \"/usr/local/lib/python3.6/site-packages/thefuck/output_readers/rerun.py\", line 47, in get_output\r\n",
    "    if _wait_output(result, is_slow):\r\n",
    "  File \"/usr/local/lib/python3.6/site-packages/thefuck/output_readers/rerun.py\", line 27, in _wait_output\r\n",
    "    proc.kill()\r\n",
    "  File \"/usr/local/lib/python3.6/site-packages/psutil/__init__.py\", line 286, in wrapper\r\n",
    "    raise NoSuchProcess(self.pid, self._name)\r\n",
    "psutil._exceptions.NoSuchProcess: psutil.NoSuchProcess process no longer exists (pid=13634)\r\n",
    "```\n"
   ]
  }
 ],
 "metadata": {},
 "nbformat": 4,
 "nbformat_minor": 5
}
