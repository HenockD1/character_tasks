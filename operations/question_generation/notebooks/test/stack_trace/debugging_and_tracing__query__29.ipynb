{
 "cells": [
  {
   "cell_type": "markdown",
   "id": "2d1586ba",
   "metadata": {},
   "source": [
    "# Metadata\n",
    "\n",
    "**Python Topics** - debugging_and_tracing\n",
    "\n",
    "**Type** - query\n",
    "\n",
    "**Target Number of Turns (User + Assistant)** - 2\n"
   ]
  },
  {
   "cell_type": "markdown",
   "id": "e95621ba",
   "metadata": {},
   "source": [
    "# Conversation"
   ]
  },
  {
   "cell_type": "markdown",
   "id": "5a7aa741",
   "metadata": {},
   "source": [
    "**User**\n",
    "\n",
    "error: Unable to find  vcvarsall.bat\n",
    "\n",
    "Hi there. I'm attempting to install on Windows 10 via pip as follows:\r\n",
    "> pip install --user thefuck\r\n",
    "\r\n",
    "I'm seeing the following error message in the logs:\r\n",
    "\"error: Unable to find vcvarsall.bat\"\r\n",
    "\r\n",
    "When I try to run 'fuck', I get the following:\r\n",
    "\r\n",
    "> fuck\r\n",
    "Traceback (most recent call last):\r\n",
    "  File \"C:\\ActivePython27\\lib\\runpy.py\", line 162, in _run_module_as_main\r\n",
    "    \"__main__\", fname, loader, pkg_name)\r\n",
    "  File \"C:\\ActivePython27\\lib\\runpy.py\", line 72, in _run_code\r\n",
    "    exec code in run_globals\r\n",
    "  File \"C:\\ActivePython27\\Scripts\\fuck.exe\\__main__.py\", line 5, in <module>\r\n",
    "  File \"C:\\ActivePython27\\lib\\site-packages\\thefuck\\not_configured.py\", line 2, in <module>\r\n",
    "    from .system import init_output\r\n",
    "  File \"C:\\ActivePython27\\lib\\site-packages\\thefuck\\system\\__init__.py\", line 5, in <module>\r\n",
    "    from .win32 import *  # noqa: F401,F403\r\n",
    "  File \"C:\\ActivePython27\\lib\\site-packages\\thefuck\\system\\win32.py\", line 38, in <module>\r\n",
    "    from pathlib2 import Path\r\n",
    "  File \"C:\\Users\\myuser\\AppData\\Roaming\\Python\\Python27\\site-packages\\pathlib2.py\", line 46, in <module>\r\n",
    "    from scandir import scandir as os_scandir\r\n",
    "ImportError: No module named scandir\r\n",
    "\r\n",
    "Can anyone shed some light on this? Thanks in advance!\n"
   ]
  }
 ],
 "metadata": {},
 "nbformat": 4,
 "nbformat_minor": 5
}
