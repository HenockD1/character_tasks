{
 "cells": [
  {
   "cell_type": "markdown",
   "id": "4119acb4",
   "metadata": {},
   "source": [
    "# Metadata\n",
    "\n",
    "**Python Topics** - debugging_and_tracing\n",
    "\n",
    "**Type** - query\n",
    "\n",
    "**Target Number of Turns (User + Assistant)** - 6\n"
   ]
  },
  {
   "cell_type": "markdown",
   "id": "0c7fda69",
   "metadata": {},
   "source": [
    "# Conversation"
   ]
  },
  {
   "cell_type": "markdown",
   "id": "40aac10d",
   "metadata": {},
   "source": [
    "**User**\n",
    "\n",
    "Can't use with out of range(128) characters\n",
    "\n",
    "I was using a branch with `�` in the name. When I `git push` I correct it so that it'll push with the git suggested prompt. It doesn't work.\n",
    "\n",
    "```\n",
    "Traceback (most recent call last):\n",
    "  File \"/usr/local/Cellar/thefuck/3.1/libexec/bin/thefuck\", line 9, in <module>\n",
    "    load_entry_point('thefuck==3.1', 'console_scripts', 'thefuck')()\n",
    "  File \"/usr/local/Cellar/thefuck/3.1/libexec/lib/python2.7/site-packages/thefuck/main.py\", line 77, in main\n",
    "    fix_command()\n",
    "  File \"/usr/local/Cellar/thefuck/3.1/libexec/lib/python2.7/site-packages/thefuck/main.py\", line 28, in fix_command\n",
    "    selected_command = select_command(corrected_commands)\n",
    "  File \"/usr/local/Cellar/thefuck/3.1/libexec/lib/python2.7/site-packages/thefuck/ui.py\", line 106, in select_command\n",
    "    logs.confirm_text(selector.value)\n",
    "  File \"/usr/local/Cellar/thefuck/3.1/libexec/lib/python2.7/site-packages/thefuck/logs.py\", line 61, in confirm_text\n",
    "    blue=color(colorama.Fore.BLUE)))\n",
    "UnicodeEncodeError: 'ascii' codec can't encode character u'\\ufffd' in position 36: ordinal not in range(128)\n",
    "```\n",
    "\n"
   ]
  }
 ],
 "metadata": {},
 "nbformat": 4,
 "nbformat_minor": 5
}
