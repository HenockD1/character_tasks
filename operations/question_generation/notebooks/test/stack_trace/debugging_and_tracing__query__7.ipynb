{
 "cells": [
  {
   "cell_type": "markdown",
   "id": "67ea1229",
   "metadata": {},
   "source": [
    "# Metadata\n",
    "\n",
    "**Python Topics** - debugging_and_tracing\n",
    "\n",
    "**Type** - query\n",
    "\n",
    "**Target Number of Turns (User + Assistant)** - 3\n"
   ]
  },
  {
   "cell_type": "markdown",
   "id": "5419ee22",
   "metadata": {},
   "source": [
    "# Conversation"
   ]
  },
  {
   "cell_type": "markdown",
   "id": "afa5e621",
   "metadata": {},
   "source": [
    "**User**\n",
    "\n",
    "Potential missing dependency: \n",
    "\n",
    "The output of `thefuck --version` (something like `The Fuck 3.1 using Python\r\n",
    "3.5.0 and Bash 4.4.12(1)-release`):\r\n",
    "\r\n",
    "    3.11 using Python 2.7.15rc1\r\n",
    "\r\n",
    "Your system (Debian 7, ArchLinux, Windows, etc.):\r\n",
    "\r\n",
    "    Linux Mint 19 Tara\r\n",
    "\r\n",
    "How to reproduce the bug:\r\n",
    "\r\n",
    "    Install Thefuck on a clean Linux Mint install using apt-get, then insert `eval $(thefuck --alias --enable-experimental-instant-mode)` into the `.bashrc` and spawn a bash shell (using `eval $(thefuck --alias)` would presumably also reproduce this).\r\n",
    "\r\n",
    "The output of The Fuck with `THEFUCK_DEBUG=true` exported (typically execute `export THEFUCK_DEBUG=true` in your shell before The Fuck):\r\n",
    "\r\n",
    "    (n/a)\r\n",
    "\r\n",
    "If the bug only appears with a specific application, the output of that application and its version:\r\n",
    "\r\n",
    "    (n/a)\r\n",
    "\r\n",
    "Anything else you think is relevant:\r\n",
    "\r\n",
    "Installing thefuck on my system and adding `eval $(thefuck --alias oops --enable-experimental-instant-mode)` to the .bashrc resulted in the following output when new bash shells were spawned:\r\n",
    "\r\n",
    "    Traceback (most recent call last):\r\n",
    "      File \"/usr/bin/thefuck\", line 6, in <module>\r\n",
    "        from pkg_resources import load_entry_point\r\n",
    "    ImportError: No module named pkg_resources\r\n",
    "\r\n",
    "Installing the package `python-setuptools` via apt-get allowed the .bashrc to load without errors (and for thefuck to function as expected when called by the specified `oops` alias).  The setuptools python package appears to be missing as a dependency (for at least the case of installation by apt-get, but possibly for installation by pip as well).\n"
   ]
  }
 ],
 "metadata": {},
 "nbformat": 4,
 "nbformat_minor": 5
}
