{
 "cells": [
  {
   "cell_type": "markdown",
   "id": "3595d7c1",
   "metadata": {},
   "source": [
    "# Metadata\n",
    "\n",
    "**Occupation Topics** - Python DevOps Engineer > Intermediate Interview preparation - User asks AI help to take an Interview. AI takes an interview\n",
    "\n",
    "**Type** - query\n",
    "\n",
    "**Target Number of Turns (User + Assistant)** - 3-7\n",
    "    \n",
    "**Difficulty** - Easy\n",
    "    \n",
    "**Target Length** - 1\n",
    "\n",
    "**Use Case** - Mock Interview for a Python DevOps Position\n",
    "\n",
    "**Technical Topic** - Writing a Python script to automate server health checks\n",
    "\n",
    "**User Personality** - Proactive and eager to learn\n",
    "\n"
   ]
  },
  {
   "cell_type": "markdown",
   "id": "5077c122",
   "metadata": {},
   "source": [
    "# Conversation"
   ]
  },
  {
   "cell_type": "markdown",
   "id": "39e20442",
   "metadata": {},
   "source": [
    "**User**\n"
   ]
  }
 ],
 "metadata": {},
 "nbformat": 4,
 "nbformat_minor": 5
}
