{
 "cells": [
  {
   "cell_type": "markdown",
   "id": "8789d523",
   "metadata": {},
   "source": [
    "# Metadata\n",
    "\n",
    "**Occupation Topics** - Data Scientist > Advanced General coding help - Rewrite code using better formatting / best practises\n",
    "\n",
    "**Type** - query\n",
    "\n",
    "**Target Number of Turns (User + Assistant)** - 1-4\n",
    "    \n",
    "**Difficulty** - Easy\n",
    "    \n",
    "**Target Length** - 1\n",
    "\n",
    "**Use Case** - Optimizing a data processing script for better performance\n",
    "\n",
    "**Technical Topic** - Refactoring Python code for efficiency\n",
    "\n",
    "**User Personality** - Detail-oriented and keen on adhering to best practices\n",
    "\n"
   ]
  },
  {
   "cell_type": "markdown",
   "id": "d2152853",
   "metadata": {},
   "source": [
    "# Conversation"
   ]
  },
  {
   "cell_type": "markdown",
   "id": "e33a172c",
   "metadata": {},
   "source": [
    "**User**\n"
   ]
  }
 ],
 "metadata": {},
 "nbformat": 4,
 "nbformat_minor": 5
}
