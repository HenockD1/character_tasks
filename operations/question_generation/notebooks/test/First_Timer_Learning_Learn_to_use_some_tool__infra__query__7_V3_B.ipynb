{
 "cells": [
  {
   "cell_type": "markdown",
   "id": "2f490007",
   "metadata": {},
   "source": [
    "# Metadata\n",
    "\n",
    "**Occupation Topics** - Full-Stack Developer > First Timer Learning - Learn to use some tool / infra\n",
    "\n",
    "**Type** - query\n",
    "\n",
    "**Target Number of Turns (User + Assistant)** - 1-4\n",
    "    \n",
    "**Difficulty** - Easy\n",
    "    \n",
    "**Target Length** - 1\n",
    "\n",
    "**Use Case** - Setting up a local development environment\n",
    "\n",
    "**Technical Topic** - Installing and configuring Node.js\n",
    "\n",
    "**User Personality** - Eager and curious beginner\n",
    "\n"
   ]
  },
  {
   "cell_type": "markdown",
   "id": "5ae8d3bb",
   "metadata": {},
   "source": [
    "# Conversation"
   ]
  },
  {
   "cell_type": "markdown",
   "id": "e32635eb",
   "metadata": {},
   "source": [
    "**User**\n"
   ]
  }
 ],
 "metadata": {},
 "nbformat": 4,
 "nbformat_minor": 5
}
