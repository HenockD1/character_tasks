{
 "cells": [
  {
   "cell_type": "markdown",
   "id": "196b9b5b",
   "metadata": {},
   "source": [
    "# Metadata\n",
    "\n",
    "**Occupation Topics** - Full-Stack Developer > Beginner General coding help - Rewrite code using better formatting / best practises\n",
    "\n",
    "**Type** - query\n",
    "\n",
    "**Target Number of Turns (User + Assistant)** - 2-6\n",
    "    \n",
    "**Difficulty** - Easy\n",
    "    \n",
    "**Target Length** - 1\n",
    "\n",
    "**Use Case** - Improving code readability\n",
    "\n",
    "**Technical Topic** - Code refactoring\n",
    "\n",
    "**User Personality** - Eager to learn and detail-oriented\n",
    "\n"
   ]
  },
  {
   "cell_type": "markdown",
   "id": "9f55b158",
   "metadata": {},
   "source": [
    "# Conversation"
   ]
  },
  {
   "cell_type": "markdown",
   "id": "73b081b9",
   "metadata": {},
   "source": [
    "**User**\n"
   ]
  }
 ],
 "metadata": {},
 "nbformat": 4,
 "nbformat_minor": 5
}
