{
 "cells": [
  {
   "cell_type": "markdown",
   "id": "7e2a87a2",
   "metadata": {},
   "source": [
    "# Metadata\n",
    "\n",
    "**Occupation Topics** - Mobile App Developer > Expert Interview preparation - System Design rounds\n",
    "\n",
    "**Type** - query\n",
    "\n",
    "**Target Number of Turns (User + Assistant)** - 1-4\n",
    "    \n",
    "**Difficulty** - Easy\n",
    "    \n",
    "**Target Length** - 1\n",
    "\n",
    "**Use Case** - Designing a scalable messaging app\n",
    "\n",
    "**Technical Topic** - Database schema and API endpoint creation\n",
    "\n",
    "**User Personality** - Confident and detail-oriented\n",
    "\n"
   ]
  },
  {
   "cell_type": "markdown",
   "id": "c441bdb9",
   "metadata": {},
   "source": [
    "# Conversation"
   ]
  },
  {
   "cell_type": "markdown",
   "id": "195b83bd",
   "metadata": {},
   "source": [
    "**User**\n"
   ]
  }
 ],
 "metadata": {},
 "nbformat": 4,
 "nbformat_minor": 5
}
