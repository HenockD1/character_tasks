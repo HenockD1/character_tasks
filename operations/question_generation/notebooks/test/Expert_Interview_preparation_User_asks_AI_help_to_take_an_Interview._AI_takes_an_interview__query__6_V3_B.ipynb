{
 "cells": [
  {
   "cell_type": "markdown",
   "id": "b2f8d38d",
   "metadata": {},
   "source": [
    "# Metadata\n",
    "\n",
    "**Occupation Topics** - Backend Developer > Expert Interview preparation - User asks AI help to take an Interview. AI takes an interview\n",
    "\n",
    "**Type** - query\n",
    "\n",
    "**Target Number of Turns (User + Assistant)** - 1-5\n",
    "    \n",
    "**Difficulty** - Easy\n",
    "    \n",
    "**Target Length** - 1\n",
    "\n",
    "**Use Case** - Interview Preparation\n",
    "\n",
    "**Technical Topic** - System Design\n",
    "\n",
    "**User Personality** - Confident and Inquisitive\n",
    "\n"
   ]
  },
  {
   "cell_type": "markdown",
   "id": "606000c5",
   "metadata": {},
   "source": [
    "# Conversation"
   ]
  },
  {
   "cell_type": "markdown",
   "id": "5ebb3f22",
   "metadata": {},
   "source": [
    "**User**\n"
   ]
  }
 ],
 "metadata": {},
 "nbformat": 4,
 "nbformat_minor": 5
}
