{
 "cells": [
  {
   "cell_type": "markdown",
   "id": "04456e5f",
   "metadata": {},
   "source": [
    "# Metadata\n",
    "\n",
    "**Occupation Topics** - Front-End Developer > First Timer Learning - Learn to use some tool / infra\n",
    "\n",
    "**Type** - query\n",
    "\n",
    "**Target Number of Turns (User + Assistant)** - 1-4\n",
    "    \n",
    "**Difficulty** - Easy\n",
    "    \n",
    "**Target Length** - 1\n",
    "\n",
    "**Use Case** - Setting up a local development environment\n",
    "\n",
    "**Technical Topic** - Installing Node.js and npm\n",
    "\n",
    "**User Personality** - Eager and curious beginner\n",
    "\n"
   ]
  },
  {
   "cell_type": "markdown",
   "id": "2fe7225b",
   "metadata": {},
   "source": [
    "# Conversation"
   ]
  },
  {
   "cell_type": "markdown",
   "id": "2b3012f0",
   "metadata": {},
   "source": [
    "**User**\n"
   ]
  }
 ],
 "metadata": {},
 "nbformat": 4,
 "nbformat_minor": 5
}
