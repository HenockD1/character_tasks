{
 "cells": [
  {
   "cell_type": "markdown",
   "id": "cdc28ea9",
   "metadata": {},
   "source": [
    "# Metadata\n",
    "\n",
    "**Occupation Topics** - Mobile App Developer > First Timer Interview preparation - Explain alternative solutions and trade offs\n",
    "\n",
    "**Type** - query\n",
    "\n",
    "**Target Number of Turns (User + Assistant)** - 1-4\n",
    "    \n",
    "**Difficulty** - Easy\n",
    "    \n",
    "**Target Length** - 1\n",
    "\n",
    "**Use Case** - Preparing for a mobile app developer interview\n",
    "\n",
    "**Technical Topic** - Explaining alternative solutions and trade-offs for a given problem\n",
    "\n",
    "**User Personality** - Curious and eager to learn, but slightly anxious about the upcoming interview\n",
    "\n"
   ]
  },
  {
   "cell_type": "markdown",
   "id": "34380fea",
   "metadata": {},
   "source": [
    "# Conversation"
   ]
  },
  {
   "cell_type": "markdown",
   "id": "f4b3a6f1",
   "metadata": {},
   "source": [
    "**User**\n"
   ]
  }
 ],
 "metadata": {},
 "nbformat": 4,
 "nbformat_minor": 5
}
