{
 "cells": [
  {
   "cell_type": "markdown",
   "id": "d32b5f51",
   "metadata": {},
   "source": [
    "# Metadata\n",
    "\n",
    "**Occupation Topics** - Mobile App Developer > First Timer Interview preparation - Explain areas where people usually make mistakes\n",
    "\n",
    "**Type** - query\n",
    "\n",
    "**Target Number of Turns (User + Assistant)** - 2-6\n",
    "    \n",
    "**Difficulty** - Easy\n",
    "    \n",
    "**Target Length** - 1\n",
    "\n",
    "**Use Case** - Preparing for a first-time mobile app developer job interview\n",
    "\n",
    "**Technical Topic** - Common pitfalls in mobile app development interviews\n",
    "\n",
    "**User Personality** - Anxious and eager to learn\n",
    "\n"
   ]
  },
  {
   "cell_type": "markdown",
   "id": "a959b648",
   "metadata": {},
   "source": [
    "# Conversation"
   ]
  },
  {
   "cell_type": "markdown",
   "id": "14c63079",
   "metadata": {},
   "source": [
    "**User**\n"
   ]
  }
 ],
 "metadata": {},
 "nbformat": 4,
 "nbformat_minor": 5
}
