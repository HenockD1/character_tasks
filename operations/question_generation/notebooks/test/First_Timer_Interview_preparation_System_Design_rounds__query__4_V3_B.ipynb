{
 "cells": [
  {
   "cell_type": "markdown",
   "id": "68d70f01",
   "metadata": {},
   "source": [
    "# Metadata\n",
    "\n",
    "**Occupation Topics** - Full-Stack Developer > First Timer Interview preparation - System Design rounds\n",
    "\n",
    "**Type** - query\n",
    "\n",
    "**Target Number of Turns (User + Assistant)** - 1-4\n",
    "    \n",
    "**Difficulty** - Easy\n",
    "    \n",
    "**Target Length** - 1\n",
    "\n",
    "**Use Case** - Designing a simple URL shortening service like bit.ly\n",
    "\n",
    "**Technical Topic** - Database schema and API endpoint creation\n",
    "\n",
    "**User Personality** - Curious and eager to learn, with a touch of nervousness about the upcoming interview\n",
    "\n"
   ]
  },
  {
   "cell_type": "markdown",
   "id": "6d8f0910",
   "metadata": {},
   "source": [
    "# Conversation"
   ]
  },
  {
   "cell_type": "markdown",
   "id": "b7eb1036",
   "metadata": {},
   "source": [
    "**User**\n"
   ]
  }
 ],
 "metadata": {},
 "nbformat": 4,
 "nbformat_minor": 5
}
