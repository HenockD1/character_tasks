{
 "cells": [
  {
   "cell_type": "markdown",
   "id": "2dda539e",
   "metadata": {},
   "source": [
    "# Metadata\n",
    "\n",
    "**Occupation Topics** - Web Developer > Intermediate Interview preparation - System Design rounds\n",
    "\n",
    "**Type** - query\n",
    "\n",
    "**Target Number of Turns (User + Assistant)** - 2-6\n",
    "    \n",
    "**Difficulty** - Easy\n",
    "    \n",
    "**Target Length** - 1\n",
    "\n",
    "**Use Case** - Designing a URL shortening service like Bitly\n",
    "\n",
    "**Technical Topic** - Database schema and API endpoint creation\n",
    "\n",
    "**User Personality** - Proactive and eager to learn\n",
    "\n"
   ]
  },
  {
   "cell_type": "markdown",
   "id": "1b2228e1",
   "metadata": {},
   "source": [
    "# Conversation"
   ]
  },
  {
   "cell_type": "markdown",
   "id": "a6135a02",
   "metadata": {},
   "source": [
    "**User**\n"
   ]
  }
 ],
 "metadata": {},
 "nbformat": 4,
 "nbformat_minor": 5
}
