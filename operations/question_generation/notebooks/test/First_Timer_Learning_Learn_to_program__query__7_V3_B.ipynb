{
 "cells": [
  {
   "cell_type": "markdown",
   "id": "16646084",
   "metadata": {},
   "source": [
    "# Metadata\n",
    "\n",
    "**Occupation Topics** - Full-Stack Developer > First Timer Learning - Learn to program\n",
    "\n",
    "**Type** - query\n",
    "\n",
    "**Target Number of Turns (User + Assistant)** - 2-6\n",
    "    \n",
    "**Difficulty** - Easy\n",
    "    \n",
    "**Target Length** - 1\n",
    "\n",
    "**Use Case** - Creating a simple 'Hello, World!' program\n",
    "\n",
    "**Technical Topic** - Basic syntax in JavaScript\n",
    "\n",
    "**User Personality** - Curious and eager to learn the fundamentals\n",
    "\n"
   ]
  },
  {
   "cell_type": "markdown",
   "id": "ecf91ff1",
   "metadata": {},
   "source": [
    "# Conversation"
   ]
  },
  {
   "cell_type": "markdown",
   "id": "58d857b6",
   "metadata": {},
   "source": [
    "**User**\n"
   ]
  }
 ],
 "metadata": {},
 "nbformat": 4,
 "nbformat_minor": 5
}
