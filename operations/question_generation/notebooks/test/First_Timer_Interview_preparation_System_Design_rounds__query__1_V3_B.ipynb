{
 "cells": [
  {
   "cell_type": "markdown",
   "id": "01329920",
   "metadata": {},
   "source": [
    "# Metadata\n",
    "\n",
    "**Occupation Topics** - Mobile App Developer > First Timer Interview preparation - System Design rounds\n",
    "\n",
    "**Type** - query\n",
    "\n",
    "**Target Number of Turns (User + Assistant)** - 1-5\n",
    "    \n",
    "**Difficulty** - Easy\n",
    "    \n",
    "**Target Length** - 1\n",
    "\n",
    "**Use Case** - Designing a simple note-taking app\n",
    "\n",
    "**Technical Topic** - Data persistence in mobile applications\n",
    "\n",
    "**User Personality** - Curious and eager to learn, with a hint of nervousness about the upcoming interview\n",
    "\n"
   ]
  },
  {
   "cell_type": "markdown",
   "id": "65fa198c",
   "metadata": {},
   "source": [
    "# Conversation"
   ]
  },
  {
   "cell_type": "markdown",
   "id": "b60be9da",
   "metadata": {},
   "source": [
    "**User**\n"
   ]
  }
 ],
 "metadata": {},
 "nbformat": 4,
 "nbformat_minor": 5
}
