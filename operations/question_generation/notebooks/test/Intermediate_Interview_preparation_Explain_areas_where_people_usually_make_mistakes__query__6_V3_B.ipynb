{
 "cells": [
  {
   "cell_type": "markdown",
   "id": "2334c7ac",
   "metadata": {},
   "source": [
    "# Metadata\n",
    "\n",
    "**Occupation Topics** - Backend Developer > Intermediate Interview preparation - Explain areas where people usually make mistakes\n",
    "\n",
    "**Type** - query\n",
    "\n",
    "**Target Number of Turns (User + Assistant)** - 3-7\n",
    "    \n",
    "**Difficulty** - Easy\n",
    "    \n",
    "**Target Length** - 1\n",
    "\n",
    "**Use Case** - Preparing for a technical interview\n",
    "\n",
    "**Technical Topic** - Common pitfalls in REST API development\n",
    "\n",
    "**User Personality** - Proactive and eager to learn from others' mistakes\n",
    "\n"
   ]
  },
  {
   "cell_type": "markdown",
   "id": "aff97f13",
   "metadata": {},
   "source": [
    "# Conversation"
   ]
  },
  {
   "cell_type": "markdown",
   "id": "a117cc56",
   "metadata": {},
   "source": [
    "**User**\n"
   ]
  }
 ],
 "metadata": {},
 "nbformat": 4,
 "nbformat_minor": 5
}
