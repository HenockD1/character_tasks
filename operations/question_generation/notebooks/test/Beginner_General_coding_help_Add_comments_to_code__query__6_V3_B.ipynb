{
 "cells": [
  {
   "cell_type": "markdown",
   "id": "35583666",
   "metadata": {},
   "source": [
    "# Metadata\n",
    "\n",
    "**Occupation Topics** - Full-Stack Developer > Beginner General coding help - Add comments to code\n",
    "\n",
    "**Type** - query\n",
    "\n",
    "**Target Number of Turns (User + Assistant)** - 4-8\n",
    "    \n",
    "**Difficulty** - Easy\n",
    "    \n",
    "**Target Length** - 1\n",
    "\n",
    "**Use Case** - I'm working on a simple JavaScript function for a webpage that calculates the area of a rectangle. I want to make sure my code is understandable for anyone who might work on it after me.\n",
    "\n",
    "**Technical Topic** - How to properly add comments to JavaScript code\n",
    "\n",
    "**User Personality** - As a beginner, I'm eager to learn best practices and ensure my code is as clear as possible. Could you show me an example of how to comment this code effectively?\n",
    "\n"
   ]
  },
  {
   "cell_type": "markdown",
   "id": "d4815b18",
   "metadata": {},
   "source": [
    "# Conversation"
   ]
  },
  {
   "cell_type": "markdown",
   "id": "50cf27d0",
   "metadata": {},
   "source": [
    "**User**\n"
   ]
  }
 ],
 "metadata": {},
 "nbformat": 4,
 "nbformat_minor": 5
}
