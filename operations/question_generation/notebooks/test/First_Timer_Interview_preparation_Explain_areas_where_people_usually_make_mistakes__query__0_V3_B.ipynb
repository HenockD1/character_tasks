{
 "cells": [
  {
   "cell_type": "markdown",
   "id": "512deb33",
   "metadata": {},
   "source": [
    "# Metadata\n",
    "\n",
    "**Occupation Topics** - Python Developer > First Timer Interview preparation - Explain areas where people usually make mistakes\n",
    "\n",
    "**Type** - query\n",
    "\n",
    "**Target Number of Turns (User + Assistant)** - 1-5\n",
    "    \n",
    "**Difficulty** - Easy\n",
    "    \n",
    "**Target Length** - 1\n",
    "\n",
    "**Use Case** - Preparing for a first-time Python developer job interview\n",
    "\n",
    "**Technical Topic** - Common pitfalls in Python coding during interviews\n",
    "\n",
    "**User Personality** - Anxious and detail-oriented\n",
    "\n"
   ]
  },
  {
   "cell_type": "markdown",
   "id": "a3efac0c",
   "metadata": {},
   "source": [
    "# Conversation"
   ]
  },
  {
   "cell_type": "markdown",
   "id": "f0e8d8e2",
   "metadata": {},
   "source": [
    "**User**\n"
   ]
  }
 ],
 "metadata": {},
 "nbformat": 4,
 "nbformat_minor": 5
}
