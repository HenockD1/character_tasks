{
 "cells": [
  {
   "cell_type": "markdown",
   "id": "835fd660",
   "metadata": {},
   "source": [
    "# Metadata\n",
    "**Topic** - debugging_and_tracing\n",
    "**Type** - query\n",
    "\n",
    "**Stack Trace Title**: debugging_and_tracing__query__255_V3_C\n",
    "\n",
    "**Stack Trace URL**: https://github.com/facebookresearch/detectron2/issues/5170\n",
    "\n",
    "**Message** - Please create a realistic conversation where the Assistant is helping the user debug a problem inspired by this GitHub issue.\n"
   ]
  },
  {
   "cell_type": "markdown",
   "id": "51bf8155",
   "metadata": {},
   "source": [
    "# Conversation"
   ]
  },
  {
   "cell_type": "markdown",
   "id": "8df13d1d",
   "metadata": {},
   "source": [
    "**User**\n"
   ]
  }
 ],
 "metadata": {},
 "nbformat": 4,
 "nbformat_minor": 5
}
