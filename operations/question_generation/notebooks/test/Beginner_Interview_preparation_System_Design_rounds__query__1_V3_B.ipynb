{
 "cells": [
  {
   "cell_type": "markdown",
   "id": "03c731e0",
   "metadata": {},
   "source": [
    "# Metadata\n",
    "\n",
    "**Occupation Topics** - Mobile App Developer > Beginner Interview preparation - System Design rounds\n",
    "\n",
    "**Type** - query\n",
    "\n",
    "**Target Number of Turns (User + Assistant)** - 4-8\n",
    "    \n",
    "**Difficulty** - Easy\n",
    "    \n",
    "**Target Length** - 1\n",
    "\n",
    "**Use Case** - Designing a simple note-taking app\n",
    "\n",
    "**Technical Topic** - Data storage options for mobile applications\n",
    "\n",
    "**User Personality** - Curious and eager to learn, with a hint of nervousness about upcoming interviews\n",
    "\n"
   ]
  },
  {
   "cell_type": "markdown",
   "id": "ff427164",
   "metadata": {},
   "source": [
    "# Conversation"
   ]
  },
  {
   "cell_type": "markdown",
   "id": "d1024376",
   "metadata": {},
   "source": [
    "**User**\n"
   ]
  }
 ],
 "metadata": {},
 "nbformat": 4,
 "nbformat_minor": 5
}
