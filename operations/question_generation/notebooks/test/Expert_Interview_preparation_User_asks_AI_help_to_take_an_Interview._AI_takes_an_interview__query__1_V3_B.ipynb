{
 "cells": [
  {
   "cell_type": "markdown",
   "id": "2ce85c2d",
   "metadata": {},
   "source": [
    "# Metadata\n",
    "\n",
    "**Occupation Topics** - Web Developer > Expert Interview preparation - User asks AI help to take an Interview. AI takes an interview\n",
    "\n",
    "**Type** - query\n",
    "\n",
    "**Target Number of Turns (User + Assistant)** - 1-4\n",
    "    \n",
    "**Difficulty** - Easy\n",
    "    \n",
    "**Target Length** - 1\n",
    "\n",
    "**Use Case** - Interview Preparation\n",
    "\n",
    "**Technical Topic** - Advanced JavaScript Concepts\n",
    "\n",
    "**User Personality** - Confident and Inquisitive\n",
    "\n"
   ]
  },
  {
   "cell_type": "markdown",
   "id": "f4030eda",
   "metadata": {},
   "source": [
    "# Conversation"
   ]
  },
  {
   "cell_type": "markdown",
   "id": "ebea9f70",
   "metadata": {},
   "source": [
    "**User**\n"
   ]
  }
 ],
 "metadata": {},
 "nbformat": 4,
 "nbformat_minor": 5
}
