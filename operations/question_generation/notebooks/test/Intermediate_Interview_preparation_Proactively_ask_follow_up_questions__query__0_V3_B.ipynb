{
 "cells": [
  {
   "cell_type": "markdown",
   "id": "59dddcac",
   "metadata": {},
   "source": [
    "# Metadata\n",
    "\n",
    "**Occupation Topics** - Python Developer > Intermediate Interview preparation - Proactively ask follow up questions\n",
    "\n",
    "**Type** - query\n",
    "\n",
    "**Target Number of Turns (User + Assistant)** - 1-4\n",
    "    \n",
    "**Difficulty** - Easy\n",
    "    \n",
    "**Target Length** - 1\n",
    "\n",
    "**Use Case** - Optimizing a function for better performance during a technical interview\n",
    "\n",
    "**Technical Topic** - Python code profiling and optimization\n",
    "\n",
    "**User Personality** - Eager to impress and proactive in seeking comprehensive understanding\n",
    "\n"
   ]
  },
  {
   "cell_type": "markdown",
   "id": "80383648",
   "metadata": {},
   "source": [
    "# Conversation"
   ]
  },
  {
   "cell_type": "markdown",
   "id": "52eb5921",
   "metadata": {},
   "source": [
    "**User**\n"
   ]
  }
 ],
 "metadata": {},
 "nbformat": 4,
 "nbformat_minor": 5
}
