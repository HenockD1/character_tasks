{
 "cells": [
  {
   "cell_type": "markdown",
   "id": "62a72527",
   "metadata": {},
   "source": [
    "# Metadata\n",
    "\n",
    "**Occupation Topics** - Mobile App Developer > Intermediate Interview preparation - Proactively ask follow up questions\n",
    "\n",
    "**Type** - query\n",
    "\n",
    "**Target Number of Turns (User + Assistant)** - 1-5\n",
    "    \n",
    "**Difficulty** - Easy\n",
    "    \n",
    "**Target Length** - 1\n",
    "\n",
    "**Use Case** - Optimizing a function for better performance during an interview coding challenge\n",
    "\n",
    "**Technical Topic** - Algorithm efficiency\n",
    "\n",
    "**User Personality** - Eager to impress and proactive in seeking clarification\n",
    "\n"
   ]
  },
  {
   "cell_type": "markdown",
   "id": "2efd2218",
   "metadata": {},
   "source": [
    "# Conversation"
   ]
  },
  {
   "cell_type": "markdown",
   "id": "a600e2ee",
   "metadata": {},
   "source": [
    "**User**\n"
   ]
  }
 ],
 "metadata": {},
 "nbformat": 4,
 "nbformat_minor": 5
}
