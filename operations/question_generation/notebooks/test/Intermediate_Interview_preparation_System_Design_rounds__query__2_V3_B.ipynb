{
 "cells": [
  {
   "cell_type": "markdown",
   "id": "b7c44526",
   "metadata": {},
   "source": [
    "# Metadata\n",
    "\n",
    "**Occupation Topics** - Data Scientist > Intermediate Interview preparation - System Design rounds\n",
    "\n",
    "**Type** - query\n",
    "\n",
    "**Target Number of Turns (User + Assistant)** - 4-8\n",
    "    \n",
    "**Difficulty** - Easy\n",
    "    \n",
    "**Target Length** - 1\n",
    "\n",
    "**Use Case** - Designing a recommendation system for an e-commerce platform\n",
    "\n",
    "**Technical Topic** - Implementing collaborative filtering\n",
    "\n",
    "**User Personality** - Curious and eager to learn advanced concepts\n",
    "\n"
   ]
  },
  {
   "cell_type": "markdown",
   "id": "c1ec49dc",
   "metadata": {},
   "source": [
    "# Conversation"
   ]
  },
  {
   "cell_type": "markdown",
   "id": "e015c7f3",
   "metadata": {},
   "source": [
    "**User**\n"
   ]
  }
 ],
 "metadata": {},
 "nbformat": 4,
 "nbformat_minor": 5
}
