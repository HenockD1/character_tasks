{
 "cells": [
  {
   "cell_type": "markdown",
   "id": "4411ebce",
   "metadata": {},
   "source": [
    "# Metadata\n",
    "\n",
    "**Occupation Topics** - Mobile App Developer > Intermediate Interview preparation - Explain areas where people usually make mistakes\n",
    "\n",
    "**Type** - query\n",
    "\n",
    "**Target Number of Turns (User + Assistant)** - 3-7\n",
    "    \n",
    "**Difficulty** - Easy\n",
    "    \n",
    "**Target Length** - 1\n",
    "\n",
    "**Use Case** - Preparing for a mobile app developer interview\n",
    "\n",
    "**Technical Topic** - Common pitfalls in mobile app development\n",
    "\n",
    "**User Personality** - Proactive and eager to learn from others' mistakes\n",
    "\n"
   ]
  },
  {
   "cell_type": "markdown",
   "id": "4dcb9cad",
   "metadata": {},
   "source": [
    "# Conversation"
   ]
  },
  {
   "cell_type": "markdown",
   "id": "8b8bef82",
   "metadata": {},
   "source": [
    "**User**\n"
   ]
  }
 ],
 "metadata": {},
 "nbformat": 4,
 "nbformat_minor": 5
}
