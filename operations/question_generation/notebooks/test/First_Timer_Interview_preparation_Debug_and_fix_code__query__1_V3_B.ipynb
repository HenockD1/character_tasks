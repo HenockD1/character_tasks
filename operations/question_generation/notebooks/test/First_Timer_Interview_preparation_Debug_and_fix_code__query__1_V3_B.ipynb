{
 "cells": [
  {
   "cell_type": "markdown",
   "id": "fde06634",
   "metadata": {},
   "source": [
    "# Metadata\n",
    "\n",
    "**Occupation Topics** - Mobile App Developer > First Timer Interview preparation - Debug and fix code\n",
    "\n",
    "**Type** - query\n",
    "\n",
    "**Target Number of Turns (User + Assistant)** - 2-6\n",
    "    \n",
    "**Difficulty** - Easy\n",
    "    \n",
    "**Target Length** - 1\n",
    "\n",
    "**Use Case** - Preparing for a technical interview\n",
    "\n",
    "**Technical Topic** - Debugging a simple function in a mobile app\n",
    "\n",
    "**User Personality** - Anxious first-time job seeker\n",
    "\n"
   ]
  },
  {
   "cell_type": "markdown",
   "id": "e651b90c",
   "metadata": {},
   "source": [
    "# Conversation"
   ]
  },
  {
   "cell_type": "markdown",
   "id": "86ece4ab",
   "metadata": {},
   "source": [
    "**User**\n"
   ]
  }
 ],
 "metadata": {},
 "nbformat": 4,
 "nbformat_minor": 5
}
