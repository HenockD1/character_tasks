{
 "cells": [
  {
   "cell_type": "markdown",
   "id": "42eb9be3",
   "metadata": {},
   "source": [
    "# Metadata\n",
    "\n",
    "**Occupation Topics** - Full-Stack Developer > Beginner Write unit test - Explain code with comments\n",
    "\n",
    "**Type** - query\n",
    "\n",
    "**Target Number of Turns (User + Assistant)** - 3-7\n",
    "    \n",
    "**Difficulty** - Easy\n",
    "    \n",
    "**Target Length** - 1\n",
    "\n",
    "**Use Case** - Creating a simple unit test for a new JavaScript function that calculates the sum of two numbers\n",
    "\n",
    "**Technical Topic** - Writing unit tests using Jest\n",
    "\n",
    "**User Personality** - Curious and eager to learn best practices in testing\n",
    "\n"
   ]
  },
  {
   "cell_type": "markdown",
   "id": "100f303f",
   "metadata": {},
   "source": [
    "# Conversation"
   ]
  },
  {
   "cell_type": "markdown",
   "id": "d0a05255",
   "metadata": {},
   "source": [
    "**User**\n"
   ]
  }
 ],
 "metadata": {},
 "nbformat": 4,
 "nbformat_minor": 5
}
