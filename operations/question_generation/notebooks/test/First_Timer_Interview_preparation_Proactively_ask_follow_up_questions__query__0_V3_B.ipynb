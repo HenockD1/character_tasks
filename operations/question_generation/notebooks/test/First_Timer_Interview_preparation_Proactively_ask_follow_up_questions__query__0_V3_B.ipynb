{
 "cells": [
  {
   "cell_type": "markdown",
   "id": "410c9a06",
   "metadata": {},
   "source": [
    "# Metadata\n",
    "\n",
    "**Occupation Topics** - Python Developer > First Timer Interview preparation - Proactively ask follow up questions\n",
    "\n",
    "**Type** - query\n",
    "\n",
    "**Target Number of Turns (User + Assistant)** - 2-6\n",
    "    \n",
    "**Difficulty** - Easy\n",
    "    \n",
    "**Target Length** - 1\n",
    "\n",
    "**Use Case** - Interview preparation\n",
    "\n",
    "**Technical Topic** - Basic Python syntax and operations\n",
    "\n",
    "**User Personality** - Curious and eager to learn, with a proactive approach to understanding concepts\n",
    "\n"
   ]
  },
  {
   "cell_type": "markdown",
   "id": "bf2a0348",
   "metadata": {},
   "source": [
    "# Conversation"
   ]
  },
  {
   "cell_type": "markdown",
   "id": "563007a5",
   "metadata": {},
   "source": [
    "**User**\n"
   ]
  }
 ],
 "metadata": {},
 "nbformat": 4,
 "nbformat_minor": 5
}
