{
 "cells": [
  {
   "cell_type": "markdown",
   "id": "3bb24e7b",
   "metadata": {},
   "source": [
    "# Metadata\n",
    "\n",
    "**Occupation Topics** - Backend Developer > Beginner Interview preparation - System Design rounds\n",
    "\n",
    "**Type** - query\n",
    "\n",
    "**Target Number of Turns (User + Assistant)** - 1-4\n",
    "    \n",
    "**Difficulty** - Easy\n",
    "    \n",
    "**Target Length** - 1\n",
    "\n",
    "**Use Case** - Designing a simple RESTful API for a to-do application\n",
    "\n",
    "**Technical Topic** - Creating API endpoints\n",
    "\n",
    "**User Personality** - Curious and eager to learn best practices for API design\n",
    "\n"
   ]
  },
  {
   "cell_type": "markdown",
   "id": "99932ee4",
   "metadata": {},
   "source": [
    "# Conversation"
   ]
  },
  {
   "cell_type": "markdown",
   "id": "b7431db5",
   "metadata": {},
   "source": [
    "**User**\n"
   ]
  }
 ],
 "metadata": {},
 "nbformat": 4,
 "nbformat_minor": 5
}
