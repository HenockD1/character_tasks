{
 "cells": [
  {
   "cell_type": "markdown",
   "id": "bf0822b0",
   "metadata": {},
   "source": [
    "# Metadata\n",
    "\n",
    "**Occupation Topics** - Mobile App Developer > First Timer Write unit test - Explain code with comments\n",
    "\n",
    "**Type** - query\n",
    "\n",
    "**Target Number of Turns (User + Assistant)** - 1-4\n",
    "    \n",
    "**Difficulty** - Easy\n",
    "    \n",
    "**Target Length** - 1\n",
    "\n",
    "**Use Case** - Writing a simple unit test for a function that calculates the sum of two numbers in a mobile app\n",
    "\n",
    "**Technical Topic** - Unit testing in mobile development\n",
    "\n",
    "**User Personality** - Curious and eager to learn best practices in testing\n",
    "\n"
   ]
  },
  {
   "cell_type": "markdown",
   "id": "79048776",
   "metadata": {},
   "source": [
    "# Conversation"
   ]
  },
  {
   "cell_type": "markdown",
   "id": "8ea8d93f",
   "metadata": {},
   "source": [
    "**User**\n"
   ]
  }
 ],
 "metadata": {},
 "nbformat": 4,
 "nbformat_minor": 5
}
