{
 "cells": [
  {
   "cell_type": "markdown",
   "id": "b771b804",
   "metadata": {},
   "source": [
    "# Metadata\n",
    "\n",
    "**Occupation Topics** - Full-Stack Developer > First Timer Interview preparation - Debug and fix code\n",
    "\n",
    "**Type** - query\n",
    "\n",
    "**Target Number of Turns (User + Assistant)** - 1-5\n",
    "    \n",
    "**Difficulty** - Easy\n",
    "    \n",
    "**Target Length** - 1\n",
    "\n",
    "**Use Case** - Preparing for a technical interview\n",
    "\n",
    "**Technical Topic** - Debugging a simple JavaScript function\n",
    "\n",
    "**User Personality** - Eager to learn and slightly anxious about the upcoming interview\n",
    "\n"
   ]
  },
  {
   "cell_type": "markdown",
   "id": "e1aa9d33",
   "metadata": {},
   "source": [
    "# Conversation"
   ]
  },
  {
   "cell_type": "markdown",
   "id": "04557929",
   "metadata": {},
   "source": [
    "**User**\n"
   ]
  }
 ],
 "metadata": {},
 "nbformat": 4,
 "nbformat_minor": 5
}
