{
 "cells": [
  {
   "cell_type": "markdown",
   "id": "0346b145",
   "metadata": {},
   "source": [
    "# Metadata\n",
    "\n",
    "**Occupation Topics** - Web Developer > First Timer Learning - Learn to use some tool / infra\n",
    "\n",
    "**Type** - query\n",
    "\n",
    "**Target Number of Turns (User + Assistant)** - 2-6\n",
    "    \n",
    "**Difficulty** - Easy\n",
    "    \n",
    "**Target Length** - 1\n",
    "\n",
    "**Use Case** - Setting up a local development environment\n",
    "\n",
    "**Technical Topic** - Installing and configuring a web server\n",
    "\n",
    "**User Personality** - Eager and curious beginner\n",
    "\n"
   ]
  },
  {
   "cell_type": "markdown",
   "id": "ed49ba9f",
   "metadata": {},
   "source": [
    "# Conversation"
   ]
  },
  {
   "cell_type": "markdown",
   "id": "5e339b42",
   "metadata": {},
   "source": [
    "**User**\n"
   ]
  }
 ],
 "metadata": {},
 "nbformat": 4,
 "nbformat_minor": 5
}
