{
 "cells": [
  {
   "cell_type": "markdown",
   "id": "4e721be3",
   "metadata": {},
   "source": [
    "# Metadata\n",
    "\n",
    "**Occupation Topics** - Python Developer > Expert Interview preparation - System Design rounds\n",
    "\n",
    "**Type** - query\n",
    "\n",
    "**Target Number of Turns (User + Assistant)** - 2-6\n",
    "    \n",
    "**Difficulty** - Easy\n",
    "    \n",
    "**Target Length** - 1\n",
    "\n",
    "**Use Case** - Designing a scalable notification service\n",
    "\n",
    "**Technical Topic** - System design for real-time distributed systems\n",
    "\n",
    "**User Personality** - Confident and detail-oriented\n",
    "\n"
   ]
  },
  {
   "cell_type": "markdown",
   "id": "2e5ebcba",
   "metadata": {},
   "source": [
    "# Conversation"
   ]
  },
  {
   "cell_type": "markdown",
   "id": "2715a182",
   "metadata": {},
   "source": [
    "**User**\n"
   ]
  }
 ],
 "metadata": {},
 "nbformat": 4,
 "nbformat_minor": 5
}
