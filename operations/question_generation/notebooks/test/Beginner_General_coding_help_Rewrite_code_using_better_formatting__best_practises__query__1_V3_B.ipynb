{
 "cells": [
  {
   "cell_type": "markdown",
   "id": "073bbabf",
   "metadata": {},
   "source": [
    "# Metadata\n",
    "\n",
    "**Occupation Topics** - Web Developer > Beginner General coding help - Rewrite code using better formatting / best practises\n",
    "\n",
    "**Type** - query\n",
    "\n",
    "**Target Number of Turns (User + Assistant)** - 2-6\n",
    "    \n",
    "**Difficulty** - Easy\n",
    "    \n",
    "**Target Length** - 1\n",
    "\n",
    "**Use Case** - Improving code readability\n",
    "\n",
    "**Technical Topic** - Code refactoring\n",
    "\n",
    "**User Personality** - Eager to learn and apply best practices\n",
    "\n"
   ]
  },
  {
   "cell_type": "markdown",
   "id": "3e7c277e",
   "metadata": {},
   "source": [
    "# Conversation"
   ]
  },
  {
   "cell_type": "markdown",
   "id": "aadeed87",
   "metadata": {},
   "source": [
    "**User**\n"
   ]
  }
 ],
 "metadata": {},
 "nbformat": 4,
 "nbformat_minor": 5
}
