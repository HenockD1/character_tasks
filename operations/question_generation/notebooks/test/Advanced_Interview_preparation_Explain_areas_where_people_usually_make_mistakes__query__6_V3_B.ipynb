{
 "cells": [
  {
   "cell_type": "markdown",
   "id": "9f8868ce",
   "metadata": {},
   "source": [
    "# Metadata\n",
    "\n",
    "**Occupation Topics** - Backend Developer > Advanced Interview preparation - Explain areas where people usually make mistakes\n",
    "\n",
    "**Type** - query\n",
    "\n",
    "**Target Number of Turns (User + Assistant)** - 1-4\n",
    "    \n",
    "**Difficulty** - Easy\n",
    "    \n",
    "**Target Length** - 1\n",
    "\n",
    "**Use Case** - Optimizing database queries\n",
    "\n",
    "**Technical Topic** - SQL performance tuning\n",
    "\n",
    "**User Personality** - Detail-oriented and seeking to understand common pitfalls in SQL query optimization for interviews\n",
    "\n"
   ]
  },
  {
   "cell_type": "markdown",
   "id": "b6b64666",
   "metadata": {},
   "source": [
    "# Conversation"
   ]
  },
  {
   "cell_type": "markdown",
   "id": "d0b57aa8",
   "metadata": {},
   "source": [
    "**User**\n"
   ]
  }
 ],
 "metadata": {},
 "nbformat": 4,
 "nbformat_minor": 5
}
