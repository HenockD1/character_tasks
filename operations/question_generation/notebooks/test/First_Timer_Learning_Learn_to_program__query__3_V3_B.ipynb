{
 "cells": [
  {
   "cell_type": "markdown",
   "id": "65a73d2b",
   "metadata": {},
   "source": [
    "# Metadata\n",
    "\n",
    "**Occupation Topics** - Mobile App Developer > First Timer Learning - Learn to program\n",
    "\n",
    "**Type** - query\n",
    "\n",
    "**Target Number of Turns (User + Assistant)** - 2-6\n",
    "    \n",
    "**Difficulty** - Easy\n",
    "    \n",
    "**Target Length** - 1\n",
    "\n",
    "**Use Case** - Creating a simple 'Hello World' app\n",
    "\n",
    "**Technical Topic** - Basic UI layout and event handling in Android\n",
    "\n",
    "**User Personality** - Curious and eager to learn, with a preference for step-by-step guidance\n",
    "\n"
   ]
  },
  {
   "cell_type": "markdown",
   "id": "013ce526",
   "metadata": {},
   "source": [
    "# Conversation"
   ]
  },
  {
   "cell_type": "markdown",
   "id": "9498b4ec",
   "metadata": {},
   "source": [
    "**User**\n"
   ]
  }
 ],
 "metadata": {},
 "nbformat": 4,
 "nbformat_minor": 5
}
