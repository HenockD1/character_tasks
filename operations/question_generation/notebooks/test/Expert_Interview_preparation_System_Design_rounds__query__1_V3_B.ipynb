{
 "cells": [
  {
   "cell_type": "markdown",
   "id": "485fcb5d",
   "metadata": {},
   "source": [
    "# Metadata\n",
    "\n",
    "**Occupation Topics** - Web Developer > Expert Interview preparation - System Design rounds\n",
    "\n",
    "**Type** - query\n",
    "\n",
    "**Target Number of Turns (User + Assistant)** - 1-4\n",
    "    \n",
    "**Difficulty** - Easy\n",
    "    \n",
    "**Target Length** - 1\n",
    "\n",
    "**Use Case** - Designing a scalable notification service for a social media platform\n",
    "\n",
    "**Technical Topic** - System design for real-time data processing\n",
    "\n",
    "**User Personality** - Confident and detail-oriented, seeking to impress interviewers with in-depth knowledge\n",
    "\n"
   ]
  },
  {
   "cell_type": "markdown",
   "id": "557a5073",
   "metadata": {},
   "source": [
    "# Conversation"
   ]
  },
  {
   "cell_type": "markdown",
   "id": "d138eb5d",
   "metadata": {},
   "source": [
    "**User**\n"
   ]
  }
 ],
 "metadata": {},
 "nbformat": 4,
 "nbformat_minor": 5
}
