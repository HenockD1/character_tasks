{
 "cells": [
  {
   "cell_type": "markdown",
   "id": "0a10d433",
   "metadata": {},
   "source": [
    "# Metadata\n",
    "\n",
    "**Occupation Topics** - Python Developer > Beginner Learning - Learn to use some tool / infra\n",
    "\n",
    "**Type** - query\n",
    "\n",
    "**Target Number of Turns (User + Assistant)** - 4-8\n",
    "    \n",
    "**Difficulty** - Easy\n",
    "    \n",
    "**Target Length** - 1\n",
    "\n",
    "**Use Case** - Setting up a Python development environment\n",
    "\n",
    "**Technical Topic** - Installing and configuring a virtual environment with virtualenv\n",
    "\n",
    "**User Personality** - Curious and eager to learn best practices in Python development\n",
    "\n"
   ]
  },
  {
   "cell_type": "markdown",
   "id": "5c5f3606",
   "metadata": {},
   "source": [
    "# Conversation"
   ]
  },
  {
   "cell_type": "markdown",
   "id": "9e4ef85e",
   "metadata": {},
   "source": [
    "**User**\n"
   ]
  }
 ],
 "metadata": {},
 "nbformat": 4,
 "nbformat_minor": 5
}
