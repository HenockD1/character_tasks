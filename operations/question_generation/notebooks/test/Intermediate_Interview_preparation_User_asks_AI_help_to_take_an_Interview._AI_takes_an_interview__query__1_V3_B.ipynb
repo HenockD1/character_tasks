{
 "cells": [
  {
   "cell_type": "markdown",
   "id": "a20a8d7d",
   "metadata": {},
   "source": [
    "# Metadata\n",
    "\n",
    "**Occupation Topics** - Data Scientist > Intermediate Interview preparation - User asks AI help to take an Interview. AI takes an interview\n",
    "\n",
    "**Type** - query\n",
    "\n",
    "**Target Number of Turns (User + Assistant)** - 1-5\n",
    "    \n",
    "**Difficulty** - Easy\n",
    "    \n",
    "**Target Length** - 1\n",
    "\n",
    "**Use Case** - Mock data analysis interview\n",
    "\n",
    "**Technical Topic** - SQL query optimization\n",
    "\n",
    "**User Personality** - Aspiring and meticulous\n",
    "\n"
   ]
  },
  {
   "cell_type": "markdown",
   "id": "2fc7f160",
   "metadata": {},
   "source": [
    "# Conversation"
   ]
  },
  {
   "cell_type": "markdown",
   "id": "6b3aed16",
   "metadata": {},
   "source": [
    "**User**\n"
   ]
  }
 ],
 "metadata": {},
 "nbformat": 4,
 "nbformat_minor": 5
}
