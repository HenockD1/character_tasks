{
 "cells": [
  {
   "cell_type": "markdown",
   "id": "f70e5a92",
   "metadata": {},
   "source": [
    "# Metadata\n",
    "**Topic** - debugging_and_tracing\n",
    "\n",
    "**Type** - query\n",
    "\n",
    "**Stack Trace Title**: debugging_and_tracing__query__87_V3_C\n",
    "\n",
    "**Stack Trace URL**: https://github.com/nicolargo/glances/issues/2598\n",
    "\n",
    "**Message** - Please create a realistic conversation where the Assistant is helping the user debug a problem inspired by this GitHub issue.\n"
   ]
  },
  {
   "cell_type": "markdown",
   "id": "67eb961f",
   "metadata": {},
   "source": [
    "# Conversation"
   ]
  },
  {
   "cell_type": "markdown",
   "id": "41bff537",
   "metadata": {},
   "source": [
    "**User**\n"
   ]
  }
 ],
 "metadata": {},
 "nbformat": 4,
 "nbformat_minor": 5
}
