{
 "cells": [
  {
   "cell_type": "markdown",
   "id": "942a0260",
   "metadata": {},
   "source": [
    "# Metadata\n",
    "**Topic** - debugging_and_tracing\n",
    "\n",
    "**Type** - query\n",
    "\n",
    "**Stack Trace Title**: debugging_and_tracing__query__157_V3_C\n",
    "\n",
    "**Stack Trace URL**: https://github.com/blakeblackshear/frigate/issues/9056\n",
    "\n",
    "**Message** - Please create a realistic conversation where the Assistant is helping the user debug a problem inspired by this GitHub issue.\n"
   ]
  },
  {
   "cell_type": "markdown",
   "id": "40a57a17",
   "metadata": {},
   "source": [
    "# Conversation"
   ]
  },
  {
   "cell_type": "markdown",
   "id": "bff26b24",
   "metadata": {},
   "source": [
    "**User**\n"
   ]
  }
 ],
 "metadata": {},
 "nbformat": 4,
 "nbformat_minor": 5
}
