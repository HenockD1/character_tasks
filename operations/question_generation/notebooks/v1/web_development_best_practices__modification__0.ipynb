{
 "cells": [
  {
   "cell_type": "markdown",
   "id": "ff5d659a",
   "metadata": {},
   "source": [
    "# Metadata\n",
    "\n",
    "**Python Topics** - web_development > web_development_best_practices\n",
    "\n",
    "**Type** - modification\n",
    "\n",
    "**Target Number of Turns (User + Assistant)** - 2+\n"
   ]
  },
  {
   "cell_type": "markdown",
   "id": "47cb9d03",
   "metadata": {},
   "source": [
    "# Conversation"
   ]
  },
  {
   "cell_type": "markdown",
   "id": "ac6d1893",
   "metadata": {},
   "source": [
    "**User**\n",
    "\n",
    "I've got this Flask route that returns a dictionary directly. Could you modify it to return a proper JSON response using Flask's `jsonify` function? Here's the code snippet: ```python\n",
    "@app.route('/data')\n",
    "def data():\n",
    "    return {'key': 'value'}\n",
    "```\n"
   ]
  }
 ],
 "metadata": {},
 "nbformat": 4,
 "nbformat_minor": 5
}
