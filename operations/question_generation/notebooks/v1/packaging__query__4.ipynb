{
 "cells": [
  {
   "cell_type": "markdown",
   "id": "253df313",
   "metadata": {},
   "source": [
    "# Metadata\n",
    "\n",
    "**Python Topics** - python_language_and_scripting > packaging\n",
    "\n",
    "**Type** - query\n",
    "\n",
    "**Target Number of Turns (User + Assistant)** - 2+\n"
   ]
  },
  {
   "cell_type": "markdown",
   "id": "3f05814b",
   "metadata": {},
   "source": [
    "# Conversation"
   ]
  },
  {
   "cell_type": "markdown",
   "id": "6aa3c325",
   "metadata": {},
   "source": [
    "**User**\n",
    "\n",
    "How do I install a package from a local directory using pip?\n"
   ]
  }
 ],
 "metadata": {},
 "nbformat": 4,
 "nbformat_minor": 5
}
