{
 "cells": [
  {
   "cell_type": "markdown",
   "id": "3679c561",
   "metadata": {},
   "source": [
    "# Metadata\n",
    "\n",
    "**Python Topics** - data_analysis > time_series_analysis\n",
    "\n",
    "**Type** - modification\n",
    "\n",
    "**Target Number of Turns (User + Assistant)** - 2+\n"
   ]
  },
  {
   "cell_type": "markdown",
   "id": "1e31b88a",
   "metadata": {},
   "source": [
    "# Conversation"
   ]
  },
  {
   "cell_type": "markdown",
   "id": "db092cad",
   "metadata": {},
   "source": [
    "**User**\n",
    "\n",
    "I have a DataFrame 'df' with a DateTime index and a column 'sales'. Can you help me resample the data to a weekly frequency, summing up the sales? Here's the code snippet: `df['sales'].resample('D').sum()`.\n"
   ]
  }
 ],
 "metadata": {},
 "nbformat": 4,
 "nbformat_minor": 5
}
