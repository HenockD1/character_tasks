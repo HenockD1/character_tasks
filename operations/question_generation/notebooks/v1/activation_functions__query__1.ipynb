{
 "cells": [
  {
   "cell_type": "markdown",
   "id": "d7c38f15",
   "metadata": {},
   "source": [
    "# Metadata\n",
    "\n",
    "**Python Topics** - deep_learning > activation_functions\n",
    "\n",
    "**Type** - query\n",
    "\n",
    "**Target Number of Turns (User + Assistant)** - 2+\n"
   ]
  },
  {
   "cell_type": "markdown",
   "id": "0edda45d",
   "metadata": {},
   "source": [
    "# Conversation"
   ]
  },
  {
   "cell_type": "markdown",
   "id": "d7d6c1fa",
   "metadata": {},
   "source": [
    "**User**\n",
    "\n",
    "Could you show me an example of using the ReLU activation function in a Keras model?\n"
   ]
  }
 ],
 "metadata": {},
 "nbformat": 4,
 "nbformat_minor": 5
}
