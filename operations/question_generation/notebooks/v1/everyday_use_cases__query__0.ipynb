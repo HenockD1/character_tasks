{
 "cells": [
  {
   "cell_type": "markdown",
   "id": "9cb4ac56",
   "metadata": {},
   "source": [
    "# Metadata\n",
    "\n",
    "**Python Topics** - everyday_use_cases\n",
    "\n",
    "**Type** - query\n",
    "\n",
    "**Target Number of Turns (User + Assistant)** - 2+\n"
   ]
  },
  {
   "cell_type": "markdown",
   "id": "dfac96da",
   "metadata": {},
   "source": [
    "# Conversation"
   ]
  },
  {
   "cell_type": "markdown",
   "id": "73be1af7",
   "metadata": {},
   "source": [
    "**User**\n",
    "\n",
    "How can I write a Python function to calculate the total cost after applying a 10% discount?\n"
   ]
  }
 ],
 "metadata": {},
 "nbformat": 4,
 "nbformat_minor": 5
}
