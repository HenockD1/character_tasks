{
 "cells": [
  {
   "cell_type": "markdown",
   "id": "c965eae3",
   "metadata": {},
   "source": [
    "# Metadata\n",
    "\n",
    "**Python Topics** - unit_testing_methodology > testing_asynchronous_code\n",
    "\n",
    "**Type** - modification\n",
    "\n",
    "**Target Number of Turns (User + Assistant)** - 2+\n"
   ]
  },
  {
   "cell_type": "markdown",
   "id": "410bdc95",
   "metadata": {},
   "source": [
    "# Conversation"
   ]
  },
  {
   "cell_type": "markdown",
   "id": "77049c96",
   "metadata": {},
   "source": [
    "**User**\n",
    "\n",
    "Could you show me how to mock an async function called 'async_process' within my test case to return a specific value? Here's the skeleton of my test: ```async def test_async_process(): # test goes here```\n"
   ]
  }
 ],
 "metadata": {},
 "nbformat": 4,
 "nbformat_minor": 5
}
