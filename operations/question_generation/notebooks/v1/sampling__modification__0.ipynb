{
 "cells": [
  {
   "cell_type": "markdown",
   "id": "9a65b677",
   "metadata": {},
   "source": [
    "# Metadata\n",
    "\n",
    "**Python Topics** - algorithms > by_topic > sampling\n",
    "\n",
    "**Type** - modification\n",
    "\n",
    "**Target Number of Turns (User + Assistant)** - 2+\n"
   ]
  },
  {
   "cell_type": "markdown",
   "id": "73b2e47b",
   "metadata": {},
   "source": [
    "# Conversation"
   ]
  },
  {
   "cell_type": "markdown",
   "id": "b9d7aa38",
   "metadata": {},
   "source": [
    "**User**\n",
    "\n",
    "I have a list of items and I want to randomly select one. Here's my current code: `import random\n",
    "items = ['apple', 'banana', 'cherry']\n",
    "selected_item = random.choice(items)\n",
    "print(selected_item)` Can you modify it to select three unique items instead of one?\n"
   ]
  }
 ],
 "metadata": {},
 "nbformat": 4,
 "nbformat_minor": 5
}
