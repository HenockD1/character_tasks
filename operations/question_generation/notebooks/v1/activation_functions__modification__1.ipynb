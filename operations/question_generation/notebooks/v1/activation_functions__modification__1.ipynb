{
 "cells": [
  {
   "cell_type": "markdown",
   "id": "23aee256",
   "metadata": {},
   "source": [
    "# Metadata\n",
    "\n",
    "**Python Topics** - deep_learning > activation_functions\n",
    "\n",
    "**Type** - modification\n",
    "\n",
    "**Target Number of Turns (User + Assistant)** - 2+\n"
   ]
  },
  {
   "cell_type": "markdown",
   "id": "51133dc4",
   "metadata": {},
   "source": [
    "# Conversation"
   ]
  },
  {
   "cell_type": "markdown",
   "id": "f9727ff0",
   "metadata": {},
   "source": [
    "**User**\n",
    "\n",
    "In this piece of code, I'm using a tanh activation in my LSTM layer. Can you modify it to use an ELU activation with an alpha value of 1.0? `model.add(LSTM(50, activation='tanh', return_sequences=True))`\n"
   ]
  }
 ],
 "metadata": {},
 "nbformat": 4,
 "nbformat_minor": 5
}
