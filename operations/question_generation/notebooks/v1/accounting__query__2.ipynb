{
 "cells": [
  {
   "cell_type": "markdown",
   "id": "2726d8e0",
   "metadata": {},
   "source": [
    "# Metadata\n",
    "\n",
    "**Python Topics** - high_school > accounting\n",
    "\n",
    "**Type** - query\n",
    "\n",
    "**Target Number of Turns (User + Assistant)** - 2+\n"
   ]
  },
  {
   "cell_type": "markdown",
   "id": "95329b20",
   "metadata": {},
   "source": [
    "# Conversation"
   ]
  },
  {
   "cell_type": "markdown",
   "id": "da0b6365",
   "metadata": {},
   "source": [
    "**User**\n",
    "\n",
    "What's the Python code to calculate depreciation using the straight-line method?\n"
   ]
  }
 ],
 "metadata": {},
 "nbformat": 4,
 "nbformat_minor": 5
}
