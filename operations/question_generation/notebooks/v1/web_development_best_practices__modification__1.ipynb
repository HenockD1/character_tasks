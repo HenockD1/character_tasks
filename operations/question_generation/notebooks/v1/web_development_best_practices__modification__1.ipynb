{
 "cells": [
  {
   "cell_type": "markdown",
   "id": "883bbc39",
   "metadata": {},
   "source": [
    "# Metadata\n",
    "\n",
    "**Python Topics** - web_development > web_development_best_practices\n",
    "\n",
    "**Type** - modification\n",
    "\n",
    "**Target Number of Turns (User + Assistant)** - 2+\n"
   ]
  },
  {
   "cell_type": "markdown",
   "id": "d4bc6f54",
   "metadata": {},
   "source": [
    "# Conversation"
   ]
  },
  {
   "cell_type": "markdown",
   "id": "5f3d1d24",
   "metadata": {},
   "source": [
    "**User**\n",
    "\n",
    "I'm using Django and I realized I'm not following the DRY principle with my template inheritance. Here's my code: ```python\n",
    "from django.shortcuts import render\n",
    "\n",
    "def home(request):\n",
    "    return render(request, 'base.html')\n",
    "def about(request):\n",
    "    return render(request, 'base.html')\n",
    "``` Can you refactor it so 'base.html' is the base template and 'home.html' and 'about.html' extend it?\n"
   ]
  }
 ],
 "metadata": {},
 "nbformat": 4,
 "nbformat_minor": 5
}
