{
 "cells": [
  {
   "cell_type": "markdown",
   "id": "9dbd9903",
   "metadata": {},
   "source": [
    "# Metadata\n",
    "\n",
    "**Python Topics** - algorithms > by_topic > probability\n",
    "\n",
    "**Type** - modification\n",
    "\n",
    "**Target Number of Turns (User + Assistant)** - 2+\n"
   ]
  },
  {
   "cell_type": "markdown",
   "id": "52bb728b",
   "metadata": {},
   "source": [
    "# Conversation"
   ]
  },
  {
   "cell_type": "markdown",
   "id": "7165315a",
   "metadata": {},
   "source": [
    "**User**\n",
    "\n",
    "Could you help me adjust this code so that it calculates the probability of rolling a sum of 7 with two dice? The code should return the probability as a percentage. Here's what I've started with: ```python\n",
    "from itertools import product\n",
    "\n",
    "possible_rolls = list(product(range(1, 7), repeat=2))\n",
    "```\n"
   ]
  }
 ],
 "metadata": {},
 "nbformat": 4,
 "nbformat_minor": 5
}
