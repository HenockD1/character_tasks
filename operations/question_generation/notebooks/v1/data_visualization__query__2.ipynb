{
 "cells": [
  {
   "cell_type": "markdown",
   "id": "a4002d08",
   "metadata": {},
   "source": [
    "# Metadata\n",
    "\n",
    "**Python Topics** - data_analysis > data_visualization\n",
    "\n",
    "**Type** - query\n",
    "\n",
    "**Target Number of Turns (User + Assistant)** - 2+\n"
   ]
  },
  {
   "cell_type": "markdown",
   "id": "618da873",
   "metadata": {},
   "source": [
    "# Conversation"
   ]
  },
  {
   "cell_type": "markdown",
   "id": "d0377ae1",
   "metadata": {},
   "source": [
    "**User**\n",
    "\n",
    "Can you show me how to make a bar chart in Python that compares the sales figures of different products?\n"
   ]
  }
 ],
 "metadata": {},
 "nbformat": 4,
 "nbformat_minor": 5
}
