{
 "cells": [
  {
   "cell_type": "markdown",
   "id": "0a677bdf",
   "metadata": {},
   "source": [
    "# Metadata\n",
    "\n",
    "**Python Topics** - ml_principles > hyperparameter_tuning\n",
    "\n",
    "**Type** - modification\n",
    "\n",
    "**Target Number of Turns (User + Assistant)** - 2+\n"
   ]
  },
  {
   "cell_type": "markdown",
   "id": "c0b1b456",
   "metadata": {},
   "source": [
    "# Conversation"
   ]
  },
  {
   "cell_type": "markdown",
   "id": "e3b1ef68",
   "metadata": {},
   "source": [
    "**User**\n",
    "\n",
    "I realized I need to add a learning rate to my hyperparameter tuning. Could you update my code to include 'learning_rate' in the parameter grid? Here's what I have so far: from sklearn.model_selection import GridSearchCV; param_grid = {'n_estimators': [100, 200], 'max_features': ['auto', 'sqrt']}; grid = GridSearchCV(estimator=forest_clf, param_grid=param_grid, cv=3); grid.fit(X, y)\n"
   ]
  }
 ],
 "metadata": {},
 "nbformat": 4,
 "nbformat_minor": 5
}
