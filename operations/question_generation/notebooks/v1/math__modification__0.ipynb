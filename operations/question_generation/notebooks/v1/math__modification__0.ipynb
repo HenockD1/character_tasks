{
 "cells": [
  {
   "cell_type": "markdown",
   "id": "9f3fe8a1",
   "metadata": {},
   "source": [
    "# Metadata\n",
    "\n",
    "**Python Topics** - algorithms > by_topic > math\n",
    "\n",
    "**Type** - modification\n",
    "\n",
    "**Target Number of Turns (User + Assistant)** - 2+\n"
   ]
  },
  {
   "cell_type": "markdown",
   "id": "7b4ca2c8",
   "metadata": {},
   "source": [
    "# Conversation"
   ]
  },
  {
   "cell_type": "markdown",
   "id": "c7607b63",
   "metadata": {},
   "source": [
    "**User**\n",
    "\n",
    "I have a function that calculates the factorial of a number using recursion. Can you modify it to use an iterative approach instead? Here's the code: ```def factorial(n): return 1 if n == 0 else n * factorial(n-1)```\n"
   ]
  }
 ],
 "metadata": {},
 "nbformat": 4,
 "nbformat_minor": 5
}
