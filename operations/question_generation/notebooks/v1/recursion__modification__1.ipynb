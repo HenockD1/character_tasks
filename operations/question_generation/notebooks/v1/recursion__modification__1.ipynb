{
 "cells": [
  {
   "cell_type": "markdown",
   "id": "ea100079",
   "metadata": {},
   "source": [
    "# Metadata\n",
    "\n",
    "**Python Topics** - algorithms > by_topic > recursion\n",
    "\n",
    "**Type** - modification\n",
    "\n",
    "**Target Number of Turns (User + Assistant)** - 2+\n"
   ]
  },
  {
   "cell_type": "markdown",
   "id": "cfb9d64f",
   "metadata": {},
   "source": [
    "# Conversation"
   ]
  },
  {
   "cell_type": "markdown",
   "id": "2e864334",
   "metadata": {},
   "source": [
    "**User**\n",
    "\n",
    "Could you help me add a print statement to my recursive Fibonacci function so it prints each computed Fibonacci number? Here's the current function: `def fibonacci(n): if n <= 1: return n else: return fibonacci(n-1) + fibonacci(n-2)`\n"
   ]
  }
 ],
 "metadata": {},
 "nbformat": 4,
 "nbformat_minor": 5
}
