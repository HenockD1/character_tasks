{
 "cells": [
  {
   "cell_type": "markdown",
   "id": "43c24fcf",
   "metadata": {},
   "source": [
    "# Metadata\n",
    "\n",
    "**Python Topics** - high_school > physics\n",
    "\n",
    "**Type** - query\n",
    "\n",
    "**Target Number of Turns (User + Assistant)** - 2+\n"
   ]
  },
  {
   "cell_type": "markdown",
   "id": "341da6b2",
   "metadata": {},
   "source": [
    "# Conversation"
   ]
  },
  {
   "cell_type": "markdown",
   "id": "cb0faecc",
   "metadata": {},
   "source": [
    "**User**\n",
    "\n",
    "Can you provide a Python example to calculate the acceleration due to gravity on different planets?\n"
   ]
  }
 ],
 "metadata": {},
 "nbformat": 4,
 "nbformat_minor": 5
}
