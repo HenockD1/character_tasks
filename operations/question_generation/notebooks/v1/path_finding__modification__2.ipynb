{
 "cells": [
  {
   "cell_type": "markdown",
   "id": "64668db9",
   "metadata": {},
   "source": [
    "# Metadata\n",
    "\n",
    "**Python Topics** - algorithms > by_topic > path_finding\n",
    "\n",
    "**Type** - modification\n",
    "\n",
    "**Target Number of Turns (User + Assistant)** - 2+\n"
   ]
  },
  {
   "cell_type": "markdown",
   "id": "c27c6985",
   "metadata": {},
   "source": [
    "# Conversation"
   ]
  },
  {
   "cell_type": "markdown",
   "id": "87416f05",
   "metadata": {},
   "source": [
    "**User**\n",
    "\n",
    "I'm trying to implement Dijkstra's algorithm but it's not working as expected. Can you spot the mistake and correct it? Here's my code snippet: ```def dijkstra(graph, start): distances = {vertex: float('infinity') for vertex in graph} distances[start] = 0 pq = [(0, start)] while pq: current_distance, current_vertex = heapq.heappop(pq) for neighbor, weight in graph[current_vertex].items(): distance = current_distance + weight if distance < distances[neighbor]: distances[neighbor] = distance heapq.heappush(pq, (distance, neighbor)) return distances```\n"
   ]
  }
 ],
 "metadata": {},
 "nbformat": 4,
 "nbformat_minor": 5
}
