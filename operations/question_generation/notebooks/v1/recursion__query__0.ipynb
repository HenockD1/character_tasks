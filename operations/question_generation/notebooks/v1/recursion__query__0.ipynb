{
 "cells": [
  {
   "cell_type": "markdown",
   "id": "e55e6533",
   "metadata": {},
   "source": [
    "# Metadata\n",
    "\n",
    "**Python Topics** - algorithms > by_topic > recursion\n",
    "\n",
    "**Type** - query\n",
    "\n",
    "**Target Number of Turns (User + Assistant)** - 2+\n"
   ]
  },
  {
   "cell_type": "markdown",
   "id": "44ec8c08",
   "metadata": {},
   "source": [
    "# Conversation"
   ]
  },
  {
   "cell_type": "markdown",
   "id": "c426d03b",
   "metadata": {},
   "source": [
    "**User**\n",
    "\n",
    "Can you show me how to write a recursive function to calculate the nth Fibonacci number in Python?\n"
   ]
  }
 ],
 "metadata": {},
 "nbformat": 4,
 "nbformat_minor": 5
}
