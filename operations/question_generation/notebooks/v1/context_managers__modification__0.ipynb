{
 "cells": [
  {
   "cell_type": "markdown",
   "id": "d9778ba5",
   "metadata": {},
   "source": [
    "# Metadata\n",
    "\n",
    "**Python Topics** - python_language_and_scripting > context_managers\n",
    "\n",
    "**Type** - modification\n",
    "\n",
    "**Target Number of Turns (User + Assistant)** - 2+\n"
   ]
  },
  {
   "cell_type": "markdown",
   "id": "8a0ed102",
   "metadata": {},
   "source": [
    "# Conversation"
   ]
  },
  {
   "cell_type": "markdown",
   "id": "92086f2b",
   "metadata": {},
   "source": [
    "**User**\n",
    "\n",
    "I've got a function that opens a file and writes some data to it. Can you help me refactor it to use a context manager for better resource handling? Here's the code: \n",
    "```python\n",
    "def write_data(filepath, data):\n",
    "    f = open(filepath, 'w')\n",
    "    f.write(data)\n",
    "    f.close()\n",
    "```\n"
   ]
  }
 ],
 "metadata": {},
 "nbformat": 4,
 "nbformat_minor": 5
}
