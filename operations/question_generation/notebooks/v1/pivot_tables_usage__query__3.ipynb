{
 "cells": [
  {
   "cell_type": "markdown",
   "id": "42fce1bf",
   "metadata": {},
   "source": [
    "# Metadata\n",
    "\n",
    "**Python Topics** - data_analysis > pivot_tables_usage\n",
    "\n",
    "**Type** - query\n",
    "\n",
    "**Target Number of Turns (User + Assistant)** - 2+\n"
   ]
  },
  {
   "cell_type": "markdown",
   "id": "2402803e",
   "metadata": {},
   "source": [
    "# Conversation"
   ]
  },
  {
   "cell_type": "markdown",
   "id": "88455190",
   "metadata": {},
   "source": [
    "**User**\n",
    "\n",
    "Can you demonstrate how to use a pivot table to compare the highest sales figures of different salespersons?\n"
   ]
  }
 ],
 "metadata": {},
 "nbformat": 4,
 "nbformat_minor": 5
}
