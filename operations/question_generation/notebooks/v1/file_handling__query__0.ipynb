{
 "cells": [
  {
   "cell_type": "markdown",
   "id": "aaa105d4",
   "metadata": {},
   "source": [
    "# Metadata\n",
    "\n",
    "**Python Topics** - python_language_and_scripting > file_handling\n",
    "\n",
    "**Type** - query\n",
    "\n",
    "**Target Number of Turns (User + Assistant)** - 2+\n"
   ]
  },
  {
   "cell_type": "markdown",
   "id": "2a0ed25c",
   "metadata": {},
   "source": [
    "# Conversation"
   ]
  },
  {
   "cell_type": "markdown",
   "id": "c40b28b3",
   "metadata": {},
   "source": [
    "**User**\n",
    "\n",
    "How can I read the first line of a text file in Python?\n"
   ]
  }
 ],
 "metadata": {},
 "nbformat": 4,
 "nbformat_minor": 5
}
