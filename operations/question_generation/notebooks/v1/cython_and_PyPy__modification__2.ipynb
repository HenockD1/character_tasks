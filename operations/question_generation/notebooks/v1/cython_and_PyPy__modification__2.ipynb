{
 "cells": [
  {
   "cell_type": "markdown",
   "id": "7cdac909",
   "metadata": {},
   "source": [
    "# Metadata\n",
    "\n",
    "**Python Topics** - python_language_and_scripting > cython_and_PyPy\n",
    "\n",
    "**Type** - modification\n",
    "\n",
    "**Target Number of Turns (User + Assistant)** - 2+\n"
   ]
  },
  {
   "cell_type": "markdown",
   "id": "4701b5c6",
   "metadata": {},
   "source": [
    "# Conversation"
   ]
  },
  {
   "cell_type": "markdown",
   "id": "1ee6b2dd",
   "metadata": {},
   "source": [
    "**User**\n",
    "\n",
    "I'd like to parallelize a computation-heavy part of my code using Cython's prange. Could you modify this loop to use prange instead?\n",
    "```python\n",
    "cpdef sum_of_squares(n):\n",
    "    cdef int i\n",
    "    cdef double result = 0\n",
    "    for i in range(n):\n",
    "        result += i * i\n",
    "    return result\n",
    "```\n"
   ]
  }
 ],
 "metadata": {},
 "nbformat": 4,
 "nbformat_minor": 5
}
