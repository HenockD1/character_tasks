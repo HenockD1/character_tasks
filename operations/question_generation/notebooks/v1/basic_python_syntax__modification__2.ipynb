{
 "cells": [
  {
   "cell_type": "markdown",
   "id": "b7414d79",
   "metadata": {},
   "source": [
    "# Metadata\n",
    "\n",
    "**Python Topics** - python_language_and_scripting > basic_python_syntax\n",
    "\n",
    "**Type** - modification\n",
    "\n",
    "**Target Number of Turns (User + Assistant)** - 2+\n"
   ]
  },
  {
   "cell_type": "markdown",
   "id": "9a40b682",
   "metadata": {},
   "source": [
    "# Conversation"
   ]
  },
  {
   "cell_type": "markdown",
   "id": "20aa30db",
   "metadata": {},
   "source": [
    "**User**\n",
    "\n",
    "I'm trying to filter out all the even numbers from my list and keep the odds. Can you show me how to do that with a list comprehension? My list is: nums = [1, 2, 3, 4, 5, 6, 7, 8, 9]\n"
   ]
  }
 ],
 "metadata": {},
 "nbformat": 4,
 "nbformat_minor": 5
}
