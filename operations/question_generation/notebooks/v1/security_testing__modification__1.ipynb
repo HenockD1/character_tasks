{
 "cells": [
  {
   "cell_type": "markdown",
   "id": "cd6f8dd9",
   "metadata": {},
   "source": [
    "# Metadata\n",
    "\n",
    "**Python Topics** - unit_testing_methodology > security_testing\n",
    "\n",
    "**Type** - modification\n",
    "\n",
    "**Target Number of Turns (User + Assistant)** - 2+\n"
   ]
  },
  {
   "cell_type": "markdown",
   "id": "8e8ec1d9",
   "metadata": {},
   "source": [
    "# Conversation"
   ]
  },
  {
   "cell_type": "markdown",
   "id": "f92c4e55",
   "metadata": {},
   "source": [
    "**User**\n",
    "\n",
    "I've got a test method that needs to check for SQL injection vulnerabilities. Could you add a test case to this existing suite that validates the security against SQL injection? Here's the method I'm working on:\n",
    "```python\n",
    "def test_query_safety(self, query_function):\n",
    "    safe_query = 'SELECT * FROM users WHERE id = 1'\n",
    "    self.assertTrue(query_function(safe_query))\n",
    "```\n"
   ]
  }
 ],
 "metadata": {},
 "nbformat": 4,
 "nbformat_minor": 5
}
