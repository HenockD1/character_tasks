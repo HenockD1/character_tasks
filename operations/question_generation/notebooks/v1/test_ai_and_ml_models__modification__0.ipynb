{
 "cells": [
  {
   "cell_type": "markdown",
   "id": "a4e0e504",
   "metadata": {},
   "source": [
    "# Metadata\n",
    "\n",
    "**Python Topics** - unit_testing_methodology > test_ai_and_ml_models\n",
    "\n",
    "**Type** - modification\n",
    "\n",
    "**Target Number of Turns (User + Assistant)** - 2+\n"
   ]
  },
  {
   "cell_type": "markdown",
   "id": "fd2e12c5",
   "metadata": {},
   "source": [
    "# Conversation"
   ]
  },
  {
   "cell_type": "markdown",
   "id": "22eae461",
   "metadata": {},
   "source": [
    "**User**\n",
    "\n",
    "I've got a function that trains a simple linear regression model using scikit-learn. Can you help me write a test to assert that the model's score is above 0.85 on my test dataset? Here's the function: ```python\n",
    "def train_linear_regression(X_train, y_train): from sklearn.linear_model import LinearRegression model = LinearRegression() model.fit(X_train, y_train) return model\n",
    "```\n"
   ]
  }
 ],
 "metadata": {},
 "nbformat": 4,
 "nbformat_minor": 5
}
