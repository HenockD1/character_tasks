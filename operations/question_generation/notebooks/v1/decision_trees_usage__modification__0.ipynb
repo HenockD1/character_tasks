{
 "cells": [
  {
   "cell_type": "markdown",
   "id": "7bb315cc",
   "metadata": {},
   "source": [
    "# Metadata\n",
    "\n",
    "**Python Topics** - ml_principles > decision_trees_usage\n",
    "\n",
    "**Type** - modification\n",
    "\n",
    "**Target Number of Turns (User + Assistant)** - 2+\n"
   ]
  },
  {
   "cell_type": "markdown",
   "id": "7259e801",
   "metadata": {},
   "source": [
    "# Conversation"
   ]
  },
  {
   "cell_type": "markdown",
   "id": "63104d08",
   "metadata": {},
   "source": [
    "**User**\n",
    "\n",
    "I've trained a decision tree classifier using scikit-learn, but I'd like to limit the depth to prevent overfitting. Here's my current code: `from sklearn.tree import DecisionTreeClassifier; clf = DecisionTreeClassifier(); clf.fit(X_train, y_train)`. Can you modify it to set a maximum depth of 5?\n"
   ]
  }
 ],
 "metadata": {},
 "nbformat": 4,
 "nbformat_minor": 5
}
