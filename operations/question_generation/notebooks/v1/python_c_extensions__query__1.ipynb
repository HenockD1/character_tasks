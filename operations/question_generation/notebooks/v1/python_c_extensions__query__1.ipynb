{
 "cells": [
  {
   "cell_type": "markdown",
   "id": "6b920df9",
   "metadata": {},
   "source": [
    "# Metadata\n",
    "\n",
    "**Python Topics** - python_language_and_scripting > python_c_extensions\n",
    "\n",
    "**Type** - query\n",
    "\n",
    "**Target Number of Turns (User + Assistant)** - 2+\n"
   ]
  },
  {
   "cell_type": "markdown",
   "id": "ba1089a3",
   "metadata": {},
   "source": [
    "# Conversation"
   ]
  },
  {
   "cell_type": "markdown",
   "id": "ee83bd55",
   "metadata": {},
   "source": [
    "**User**\n",
    "\n",
    "Could you show me the steps to build a Python C extension on Windows?\n"
   ]
  }
 ],
 "metadata": {},
 "nbformat": 4,
 "nbformat_minor": 5
}
