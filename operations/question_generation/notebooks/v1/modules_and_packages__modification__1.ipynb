{
 "cells": [
  {
   "cell_type": "markdown",
   "id": "1e7f2be1",
   "metadata": {},
   "source": [
    "# Metadata\n",
    "\n",
    "**Python Topics** - python_language_and_scripting > modules_and_packages\n",
    "\n",
    "**Type** - modification\n",
    "\n",
    "**Target Number of Turns (User + Assistant)** - 2+\n"
   ]
  },
  {
   "cell_type": "markdown",
   "id": "90976f7c",
   "metadata": {},
   "source": [
    "# Conversation"
   ]
  },
  {
   "cell_type": "markdown",
   "id": "a884c201",
   "metadata": {},
   "source": [
    "**User**\n",
    "\n",
    "Can you help me refactor this code? I want to import only the sqrt function from the math module instead of the whole module. Here's the current code: \n",
    "\n",
    "import math\n",
    "print(math.sqrt(16))\n"
   ]
  }
 ],
 "metadata": {},
 "nbformat": 4,
 "nbformat_minor": 5
}
