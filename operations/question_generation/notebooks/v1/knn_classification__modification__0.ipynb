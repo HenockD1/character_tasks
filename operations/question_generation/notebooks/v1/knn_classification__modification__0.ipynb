{
 "cells": [
  {
   "cell_type": "markdown",
   "id": "d2d3864c",
   "metadata": {},
   "source": [
    "# Metadata\n",
    "\n",
    "**Python Topics** - ml_principles > knn_classification\n",
    "\n",
    "**Type** - modification\n",
    "\n",
    "**Target Number of Turns (User + Assistant)** - 2+\n"
   ]
  },
  {
   "cell_type": "markdown",
   "id": "2897ebea",
   "metadata": {},
   "source": [
    "# Conversation"
   ]
  },
  {
   "cell_type": "markdown",
   "id": "7a14a7b1",
   "metadata": {},
   "source": [
    "**User**\n",
    "\n",
    "I've got a KNN classifier set up with scikit-learn, but I'd like to include a weight function based on the distance. Can you modify my code to add that? Here's what I have: from sklearn.neighbors import KNeighborsClassifier\n",
    "clf = KNeighborsClassifier(n_neighbors=5)\n",
    "clf.fit(X_train, y_train)\n"
   ]
  }
 ],
 "metadata": {},
 "nbformat": 4,
 "nbformat_minor": 5
}
