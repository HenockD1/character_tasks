{
 "cells": [
  {
   "cell_type": "markdown",
   "id": "fffd5983",
   "metadata": {},
   "source": [
    "# Metadata\n",
    "\n",
    "**Python Topics** - database > cloud_database_solutions\n",
    "\n",
    "**Type** - query\n",
    "\n",
    "**Target Number of Turns (User + Assistant)** - 2+\n"
   ]
  },
  {
   "cell_type": "markdown",
   "id": "b491028d",
   "metadata": {},
   "source": [
    "# Conversation"
   ]
  },
  {
   "cell_type": "markdown",
   "id": "3d7575a6",
   "metadata": {},
   "source": [
    "**User**\n",
    "\n",
    "What's the method to insert data into an AWS DynamoDB table with Python?\n"
   ]
  }
 ],
 "metadata": {},
 "nbformat": 4,
 "nbformat_minor": 5
}
