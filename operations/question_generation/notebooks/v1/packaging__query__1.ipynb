{
 "cells": [
  {
   "cell_type": "markdown",
   "id": "fe17b570",
   "metadata": {},
   "source": [
    "# Metadata\n",
    "\n",
    "**Python Topics** - python_language_and_scripting > packaging\n",
    "\n",
    "**Type** - query\n",
    "\n",
    "**Target Number of Turns (User + Assistant)** - 2+\n"
   ]
  },
  {
   "cell_type": "markdown",
   "id": "cad449c7",
   "metadata": {},
   "source": [
    "# Conversation"
   ]
  },
  {
   "cell_type": "markdown",
   "id": "db6dc18e",
   "metadata": {},
   "source": [
    "**User**\n",
    "\n",
    "What's the command to upload a package to PyPI using twine?\n"
   ]
  }
 ],
 "metadata": {},
 "nbformat": 4,
 "nbformat_minor": 5
}
