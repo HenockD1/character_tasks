{
 "cells": [
  {
   "cell_type": "markdown",
   "id": "cde28e8b",
   "metadata": {},
   "source": [
    "# Metadata\n",
    "\n",
    "**Python Topics** - algorithms > by_topic > dynamic_programming\n",
    "\n",
    "**Type** - modification\n",
    "\n",
    "**Target Number of Turns (User + Assistant)** - 2+\n"
   ]
  },
  {
   "cell_type": "markdown",
   "id": "f4131a84",
   "metadata": {},
   "source": [
    "# Conversation"
   ]
  },
  {
   "cell_type": "markdown",
   "id": "3752206f",
   "metadata": {},
   "source": [
    "**User**\n",
    "\n",
    "Could you help me optimize this code snippet that finds the longest common subsequence between two strings? It's currently using a brute force approach. Here's the existing function: def lcs(X, Y): if not X or not Y: return '' if X[0] == Y[0]: return X[0] + lcs(X[1:], Y[1:]) else: return max(lcs(X, Y[1:]), lcs(X[1:], Y), key=len).\n"
   ]
  }
 ],
 "metadata": {},
 "nbformat": 4,
 "nbformat_minor": 5
}
