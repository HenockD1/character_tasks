{
 "cells": [
  {
   "cell_type": "markdown",
   "id": "4a4b87a0",
   "metadata": {},
   "source": [
    "# Metadata\n",
    "\n",
    "**Python Topics** - algorithms > by_data_structure > stacks\n",
    "\n",
    "**Type** - modification\n",
    "\n",
    "**Target Number of Turns (User + Assistant)** - 2+\n"
   ]
  },
  {
   "cell_type": "markdown",
   "id": "998b70d3",
   "metadata": {},
   "source": [
    "# Conversation"
   ]
  },
  {
   "cell_type": "markdown",
   "id": "57759b31",
   "metadata": {},
   "source": [
    "**User**\n",
    "\n",
    "I have a stack implementation and I'd like to add a method to find the current size of the stack. Here's the code: class Stack: def __init__(self): self.elements = [] def push(self, item): self.elements.append(item) def pop(self): if not self.is_empty(): return self.elements.pop() def is_empty(self): return len(self.elements) == 0 Can you add a size method that returns the number of elements in the stack?\n"
   ]
  }
 ],
 "metadata": {},
 "nbformat": 4,
 "nbformat_minor": 5
}
