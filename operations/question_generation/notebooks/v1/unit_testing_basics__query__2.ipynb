{
 "cells": [
  {
   "cell_type": "markdown",
   "id": "15bfa180",
   "metadata": {},
   "source": [
    "# Metadata\n",
    "\n",
    "**Python Topics** - unit_testing_methodology > unit_testing_basics\n",
    "\n",
    "**Type** - query\n",
    "\n",
    "**Target Number of Turns (User + Assistant)** - 2+\n"
   ]
  },
  {
   "cell_type": "markdown",
   "id": "50495f87",
   "metadata": {},
   "source": [
    "# Conversation"
   ]
  },
  {
   "cell_type": "markdown",
   "id": "aeb36c7a",
   "metadata": {},
   "source": [
    "**User**\n",
    "\n",
    "What's the correct way to assert that an exception is raised in a Python unit test?\n"
   ]
  }
 ],
 "metadata": {},
 "nbformat": 4,
 "nbformat_minor": 5
}
