{
 "cells": [
  {
   "cell_type": "markdown",
   "id": "8f6dae70",
   "metadata": {},
   "source": [
    "# Metadata\n",
    "\n",
    "**Python Topics** - data_analysis > data_merging_joining\n",
    "\n",
    "**Type** - modification\n",
    "\n",
    "**Target Number of Turns (User + Assistant)** - 2+\n"
   ]
  },
  {
   "cell_type": "markdown",
   "id": "8695ffec",
   "metadata": {},
   "source": [
    "# Conversation"
   ]
  },
  {
   "cell_type": "markdown",
   "id": "90794a62",
   "metadata": {},
   "source": [
    "**User**\n",
    "\n",
    "I'm trying to join two datasets, but I want to keep all records from the left DataFrame, df_left, and only the matching ones from the right DataFrame, df_right. They should be joined based on the 'key' column. Here's what I've got so far: `df_left.join(df_right, on='key')`. Can you adjust it to perform a left join?\n"
   ]
  }
 ],
 "metadata": {},
 "nbformat": 4,
 "nbformat_minor": 5
}
