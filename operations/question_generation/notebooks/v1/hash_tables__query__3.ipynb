{
 "cells": [
  {
   "cell_type": "markdown",
   "id": "6d336a88",
   "metadata": {},
   "source": [
    "# Metadata\n",
    "\n",
    "**Python Topics** - algorithms > by_data_structure > hash_tables\n",
    "\n",
    "**Type** - query\n",
    "\n",
    "**Target Number of Turns (User + Assistant)** - 2+\n"
   ]
  },
  {
   "cell_type": "markdown",
   "id": "96f1bcf3",
   "metadata": {},
   "source": [
    "# Conversation"
   ]
  },
  {
   "cell_type": "markdown",
   "id": "0cbe3c8f",
   "metadata": {},
   "source": [
    "**User**\n",
    "\n",
    "Can you demonstrate how to check for a cycle in a linked list using a hash table?\n"
   ]
  }
 ],
 "metadata": {},
 "nbformat": 4,
 "nbformat_minor": 5
}
