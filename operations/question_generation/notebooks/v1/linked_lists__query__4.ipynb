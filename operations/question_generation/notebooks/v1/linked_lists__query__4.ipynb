{
 "cells": [
  {
   "cell_type": "markdown",
   "id": "f70717e8",
   "metadata": {},
   "source": [
    "# Metadata\n",
    "\n",
    "**Python Topics** - algorithms > by_data_structure > linked_lists\n",
    "\n",
    "**Type** - query\n",
    "\n",
    "**Target Number of Turns (User + Assistant)** - 2+\n"
   ]
  },
  {
   "cell_type": "markdown",
   "id": "81126875",
   "metadata": {},
   "source": [
    "# Conversation"
   ]
  },
  {
   "cell_type": "markdown",
   "id": "4828f555",
   "metadata": {},
   "source": [
    "**User**\n",
    "\n",
    "How do I find the middle element of a linked list in Python without using extra space?\n"
   ]
  }
 ],
 "metadata": {},
 "nbformat": 4,
 "nbformat_minor": 5
}
