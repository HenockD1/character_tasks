{
 "cells": [
  {
   "cell_type": "markdown",
   "id": "efbada7b",
   "metadata": {},
   "source": [
    "# Metadata\n",
    "\n",
    "**Python Topics** - algorithms > by_topic > greedy_algorithms\n",
    "\n",
    "**Type** - modification\n",
    "\n",
    "**Target Number of Turns (User + Assistant)** - 2+\n"
   ]
  },
  {
   "cell_type": "markdown",
   "id": "8b9baf2d",
   "metadata": {},
   "source": [
    "# Conversation"
   ]
  },
  {
   "cell_type": "markdown",
   "id": "47c7508f",
   "metadata": {},
   "source": [
    "**User**\n",
    "\n",
    "I'm trying to implement a greedy algorithm for a fractional knapsack problem, but I'm stuck on sorting the items by their value-to-weight ratio. Can you show me how to modify the code to do that? Here's my current attempt: ```def fractional_knapsack(value, weight, capacity): index = list(range(len(value))) ratio = [v/w for v, w in zip(value, weight)] # Need to sort the items by their value-to-weight ratio here max_value = 0 for i in index: if weight[i] <= capacity: max_value += value[i] capacity -= weight[i] else: max_value += value[i] * (capacity / weight[i]) break return max_value```\n"
   ]
  }
 ],
 "metadata": {},
 "nbformat": 4,
 "nbformat_minor": 5
}
