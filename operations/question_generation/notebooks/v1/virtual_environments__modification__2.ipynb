{
 "cells": [
  {
   "cell_type": "markdown",
   "id": "02c9cfa6",
   "metadata": {},
   "source": [
    "# Metadata\n",
    "\n",
    "**Python Topics** - python_language_and_scripting > virtual_environments\n",
    "\n",
    "**Type** - modification\n",
    "\n",
    "**Target Number of Turns (User + Assistant)** - 2+\n"
   ]
  },
  {
   "cell_type": "markdown",
   "id": "12b05b6f",
   "metadata": {},
   "source": [
    "# Conversation"
   ]
  },
  {
   "cell_type": "markdown",
   "id": "b3b0850d",
   "metadata": {},
   "source": [
    "**User**\n",
    "\n",
    "I have a batch script for Windows to activate my virtual environment, but I need to switch to a bash script for Linux. The Windows command is `myenv\\Scripts\\activate`. How would I write the equivalent source command for bash?\n"
   ]
  }
 ],
 "metadata": {},
 "nbformat": 4,
 "nbformat_minor": 5
}
