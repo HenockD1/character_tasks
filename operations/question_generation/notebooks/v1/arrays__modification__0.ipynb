{
 "cells": [
  {
   "cell_type": "markdown",
   "id": "ebbc7edd",
   "metadata": {},
   "source": [
    "# Metadata\n",
    "\n",
    "**Python Topics** - algorithms > by_data_structure > arrays\n",
    "\n",
    "**Type** - modification\n",
    "\n",
    "**Target Number of Turns (User + Assistant)** - 2+\n"
   ]
  },
  {
   "cell_type": "markdown",
   "id": "f8c14a38",
   "metadata": {},
   "source": [
    "# Conversation"
   ]
  },
  {
   "cell_type": "markdown",
   "id": "bc67831e",
   "metadata": {},
   "source": [
    "**User**\n",
    "\n",
    "I have an array of integers and I'd like to find the two numbers that add up to a specific target. Could you modify the code to include a function that does this? Here's my array: nums = [2, 7, 11, 15], target = 9.\n"
   ]
  }
 ],
 "metadata": {},
 "nbformat": 4,
 "nbformat_minor": 5
}
