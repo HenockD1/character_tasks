{
 "cells": [
  {
   "cell_type": "markdown",
   "id": "dd389065",
   "metadata": {},
   "source": [
    "# Metadata\n",
    "\n",
    "**Python Topics** - data_analysis > pivot_tables_usage\n",
    "\n",
    "**Type** - modification\n",
    "\n",
    "**Target Number of Turns (User + Assistant)** - 2+\n"
   ]
  },
  {
   "cell_type": "markdown",
   "id": "620b9c81",
   "metadata": {},
   "source": [
    "# Conversation"
   ]
  },
  {
   "cell_type": "markdown",
   "id": "cdfe10be",
   "metadata": {},
   "source": [
    "**User**\n",
    "\n",
    "Could you modify this code to create a pivot table from the 'sales_data' DataFrame that shows the average sales for each 'Product' across different 'Regions'? Here's what I've got so far: sales_data.pivot_table(index='Product', columns='Region', values='Sales')\n"
   ]
  }
 ],
 "metadata": {},
 "nbformat": 4,
 "nbformat_minor": 5
}
