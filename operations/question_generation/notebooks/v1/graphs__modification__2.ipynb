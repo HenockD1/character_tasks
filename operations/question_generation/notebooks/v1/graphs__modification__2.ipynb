{
 "cells": [
  {
   "cell_type": "markdown",
   "id": "a3a7b196",
   "metadata": {},
   "source": [
    "# Metadata\n",
    "\n",
    "**Python Topics** - algorithms > by_data_structure > graphs\n",
    "\n",
    "**Type** - modification\n",
    "\n",
    "**Target Number of Turns (User + Assistant)** - 2+\n"
   ]
  },
  {
   "cell_type": "markdown",
   "id": "1cff2318",
   "metadata": {},
   "source": [
    "# Conversation"
   ]
  },
  {
   "cell_type": "markdown",
   "id": "c42ee4ef",
   "metadata": {},
   "source": [
    "**User**\n",
    "\n",
    "I need to add a feature to my graph class that counts the number of connected components. Here's the class so far: class Graph: def __init__(self): self.nodes = {} self.edges = {} Can you provide a method that calculates the connected components?\n"
   ]
  }
 ],
 "metadata": {},
 "nbformat": 4,
 "nbformat_minor": 5
}
