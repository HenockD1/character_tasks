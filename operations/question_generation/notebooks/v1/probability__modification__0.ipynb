{
 "cells": [
  {
   "cell_type": "markdown",
   "id": "874e3593",
   "metadata": {},
   "source": [
    "# Metadata\n",
    "\n",
    "**Python Topics** - algorithms > by_topic > probability\n",
    "\n",
    "**Type** - modification\n",
    "\n",
    "**Target Number of Turns (User + Assistant)** - 2+\n"
   ]
  },
  {
   "cell_type": "markdown",
   "id": "c771202b",
   "metadata": {},
   "source": [
    "# Conversation"
   ]
  },
  {
   "cell_type": "markdown",
   "id": "20ff04f5",
   "metadata": {},
   "source": [
    "**User**\n",
    "\n",
    "I have a function that simulates rolling a six-sided die. Can you modify it to return the results of rolling the die 'n' times instead of just once? Here's the current function: ```python\n",
    "import random\n",
    "def roll_die():\n",
    "    return random.randint(1, 6)\n",
    "```\n"
   ]
  }
 ],
 "metadata": {},
 "nbformat": 4,
 "nbformat_minor": 5
}
