{
 "cells": [
  {
   "cell_type": "markdown",
   "id": "592cd2d0",
   "metadata": {},
   "source": [
    "# Metadata\n",
    "\n",
    "**Python Topics** - database > no_sql_database_concepts\n",
    "\n",
    "**Type** - modification\n",
    "\n",
    "**Target Number of Turns (User + Assistant)** - 2+\n"
   ]
  },
  {
   "cell_type": "markdown",
   "id": "f202b1a5",
   "metadata": {},
   "source": [
    "# Conversation"
   ]
  },
  {
   "cell_type": "markdown",
   "id": "163372a8",
   "metadata": {},
   "source": [
    "**User**\n",
    "\n",
    "I'm trying to query a MongoDB collection using PyMongo, but I need to filter documents by the 'status' field being 'active'. Could you adjust my current query? Here's what I have: `collection.find({})`.\n"
   ]
  }
 ],
 "metadata": {},
 "nbformat": 4,
 "nbformat_minor": 5
}
