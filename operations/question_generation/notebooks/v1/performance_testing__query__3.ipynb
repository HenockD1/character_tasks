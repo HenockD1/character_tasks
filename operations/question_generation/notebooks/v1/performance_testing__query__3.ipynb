{
 "cells": [
  {
   "cell_type": "markdown",
   "id": "e892a125",
   "metadata": {},
   "source": [
    "# Metadata\n",
    "\n",
    "**Python Topics** - unit_testing_methodology > performance_testing\n",
    "\n",
    "**Type** - query\n",
    "\n",
    "**Target Number of Turns (User + Assistant)** - 2+\n"
   ]
  },
  {
   "cell_type": "markdown",
   "id": "c2b7f349",
   "metadata": {},
   "source": [
    "# Conversation"
   ]
  },
  {
   "cell_type": "markdown",
   "id": "cb69e74e",
   "metadata": {},
   "source": [
    "**User**\n",
    "\n",
    "Can you show me how to profile a recursive function in Python to analyze its performance?\n"
   ]
  }
 ],
 "metadata": {},
 "nbformat": 4,
 "nbformat_minor": 5
}
