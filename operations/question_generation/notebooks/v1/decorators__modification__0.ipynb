{
 "cells": [
  {
   "cell_type": "markdown",
   "id": "82b038be",
   "metadata": {},
   "source": [
    "# Metadata\n",
    "\n",
    "**Python Topics** - python_language_and_scripting > decorators\n",
    "\n",
    "**Type** - modification\n",
    "\n",
    "**Target Number of Turns (User + Assistant)** - 2+\n"
   ]
  },
  {
   "cell_type": "markdown",
   "id": "f5ae8fb6",
   "metadata": {},
   "source": [
    "# Conversation"
   ]
  },
  {
   "cell_type": "markdown",
   "id": "ad0c776e",
   "metadata": {},
   "source": [
    "**User**\n",
    "\n",
    "I've got a simple logging decorator here, but I want it to also log the duration of the function execution. Can you modify it to include that feature? Here's the code: ```python\n",
    "def log(func):\n",
    "    def wrapper(*args, **kwargs):\n",
    "        print(f'Calling {func.__name__}')\n",
    "        return func(*args, **kwargs)\n",
    "    return wrapper\n",
    "```\n"
   ]
  }
 ],
 "metadata": {},
 "nbformat": 4,
 "nbformat_minor": 5
}
