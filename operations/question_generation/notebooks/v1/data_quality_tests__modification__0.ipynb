{
 "cells": [
  {
   "cell_type": "markdown",
   "id": "d10468de",
   "metadata": {},
   "source": [
    "# Metadata\n",
    "\n",
    "**Python Topics** - unit_testing_methodology > data_quality_tests\n",
    "\n",
    "**Type** - modification\n",
    "\n",
    "**Target Number of Turns (User + Assistant)** - 2+\n"
   ]
  },
  {
   "cell_type": "markdown",
   "id": "69afceba",
   "metadata": {},
   "source": [
    "# Conversation"
   ]
  },
  {
   "cell_type": "markdown",
   "id": "654f0712",
   "metadata": {},
   "source": [
    "**User**\n",
    "\n",
    "I've got a function that checks if a list of numbers is sorted. Can you help me write a unit test to verify that it raises a ValueError when the input is not a list?\n"
   ]
  }
 ],
 "metadata": {},
 "nbformat": 4,
 "nbformat_minor": 5
}
