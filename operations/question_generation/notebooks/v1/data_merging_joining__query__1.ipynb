{
 "cells": [
  {
   "cell_type": "markdown",
   "id": "90c5af58",
   "metadata": {},
   "source": [
    "# Metadata\n",
    "\n",
    "**Python Topics** - data_analysis > data_merging_joining\n",
    "\n",
    "**Type** - query\n",
    "\n",
    "**Target Number of Turns (User + Assistant)** - 2+\n"
   ]
  },
  {
   "cell_type": "markdown",
   "id": "a4e8ad86",
   "metadata": {},
   "source": [
    "# Conversation"
   ]
  },
  {
   "cell_type": "markdown",
   "id": "15cd4805",
   "metadata": {},
   "source": [
    "**User**\n",
    "\n",
    "What's the syntax for performing a left join between two pandas DataFrames on multiple columns?\n"
   ]
  }
 ],
 "metadata": {},
 "nbformat": 4,
 "nbformat_minor": 5
}
