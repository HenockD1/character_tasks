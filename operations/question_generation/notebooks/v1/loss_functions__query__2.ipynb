{
 "cells": [
  {
   "cell_type": "markdown",
   "id": "5901188d",
   "metadata": {},
   "source": [
    "# Metadata\n",
    "\n",
    "**Python Topics** - deep_learning > loss_functions\n",
    "\n",
    "**Type** - query\n",
    "\n",
    "**Target Number of Turns (User + Assistant)** - 2+\n"
   ]
  },
  {
   "cell_type": "markdown",
   "id": "42952285",
   "metadata": {},
   "source": [
    "# Conversation"
   ]
  },
  {
   "cell_type": "markdown",
   "id": "941dcd8e",
   "metadata": {},
   "source": [
    "**User**\n",
    "\n",
    "What's the difference between mean squared error and mean absolute error loss functions in neural network regression tasks?\n"
   ]
  }
 ],
 "metadata": {},
 "nbformat": 4,
 "nbformat_minor": 5
}
