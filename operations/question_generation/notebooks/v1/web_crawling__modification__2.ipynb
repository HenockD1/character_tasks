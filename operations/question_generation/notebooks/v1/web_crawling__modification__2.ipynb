{
 "cells": [
  {
   "cell_type": "markdown",
   "id": "d28009f0",
   "metadata": {},
   "source": [
    "# Metadata\n",
    "\n",
    "**Python Topics** - web_development > web_crawling\n",
    "\n",
    "**Type** - modification\n",
    "\n",
    "**Target Number of Turns (User + Assistant)** - 2+\n"
   ]
  },
  {
   "cell_type": "markdown",
   "id": "20cafaa7",
   "metadata": {},
   "source": [
    "# Conversation"
   ]
  },
  {
   "cell_type": "markdown",
   "id": "fd47583e",
   "metadata": {},
   "source": [
    "**User**\n",
    "\n",
    "I have a Python script that uses lxml to parse XML, but I need to extract text from elements with a specific attribute. Can you help me adjust the code to do that? Here's the current code: `from lxml import etree\n",
    "\n",
    "xml_data = \"\"\"<root>\n",
    "  <element key='value1'>Text1</element>\n",
    "  <element key='value2'>Text2</element>\n",
    "</root>\"\"\"\n",
    "tree = etree.fromstring(xml_data)\n",
    "for elem in tree.iter():\n",
    "  print(elem.text)`\n"
   ]
  }
 ],
 "metadata": {},
 "nbformat": 4,
 "nbformat_minor": 5
}
