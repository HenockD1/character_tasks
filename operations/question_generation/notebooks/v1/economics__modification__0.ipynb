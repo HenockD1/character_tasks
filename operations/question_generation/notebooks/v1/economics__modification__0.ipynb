{
 "cells": [
  {
   "cell_type": "markdown",
   "id": "1de3b34f",
   "metadata": {},
   "source": [
    "# Metadata\n",
    "\n",
    "**Python Topics** - high_school > economics\n",
    "\n",
    "**Type** - modification\n",
    "\n",
    "**Target Number of Turns (User + Assistant)** - 2+\n"
   ]
  },
  {
   "cell_type": "markdown",
   "id": "d4638f5f",
   "metadata": {},
   "source": [
    "# Conversation"
   ]
  },
  {
   "cell_type": "markdown",
   "id": "f6cf6f8d",
   "metadata": {},
   "source": [
    "**User**\n",
    "\n",
    "I've written a function to calculate compound interest, but I need it to return the total amount instead of the interest earned. Can you modify it to do that? Here's the code: def calculate_interest(principal, rate, time): return principal * ((1 + rate) ** time - 1).\n"
   ]
  }
 ],
 "metadata": {},
 "nbformat": 4,
 "nbformat_minor": 5
}
