{
 "cells": [
  {
   "cell_type": "markdown",
   "id": "82b501b3",
   "metadata": {},
   "source": [
    "# Metadata\n",
    "\n",
    "**Python Topics** - database > database_normalization\n",
    "\n",
    "**Type** - modification\n",
    "\n",
    "**Target Number of Turns (User + Assistant)** - 2+\n"
   ]
  },
  {
   "cell_type": "markdown",
   "id": "d0e609b2",
   "metadata": {},
   "source": [
    "# Conversation"
   ]
  },
  {
   "cell_type": "markdown",
   "id": "cd3168ed",
   "metadata": {},
   "source": [
    "**User**\n",
    "\n",
    "I have a table with columns 'user_id', 'username', 'email', 'address', 'phone_number', but I realized that 'address' and 'phone_number' should be in a separate table to reduce redundancy. Can you help me refactor this code to create a new table for 'address' and 'phone_number' and link it to the 'user_id'?\n"
   ]
  }
 ],
 "metadata": {},
 "nbformat": 4,
 "nbformat_minor": 5
}
