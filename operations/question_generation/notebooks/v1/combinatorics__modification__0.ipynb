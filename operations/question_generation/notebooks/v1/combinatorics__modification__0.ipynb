{
 "cells": [
  {
   "cell_type": "markdown",
   "id": "a3fca3aa",
   "metadata": {},
   "source": [
    "# Metadata\n",
    "\n",
    "**Python Topics** - algorithms > by_topic > combinatorics\n",
    "\n",
    "**Type** - modification\n",
    "\n",
    "**Target Number of Turns (User + Assistant)** - 2+\n"
   ]
  },
  {
   "cell_type": "markdown",
   "id": "1741b84a",
   "metadata": {},
   "source": [
    "# Conversation"
   ]
  },
  {
   "cell_type": "markdown",
   "id": "d71707f2",
   "metadata": {},
   "source": [
    "**User**\n",
    "\n",
    "I have a function that generates all permutations of a given list, but I'd like to modify it to only return permutations of a certain length. Here's the current code:\n",
    "```python\n",
    "def all_permutations(lst):\n",
    "    if len(lst) == 0:\n",
    "        return [[]]\n",
    "    perms = []\n",
    "    for i in range(len(lst)):\n",
    "        rest = lst[:i] + lst[i+1:]\n",
    "        for p in all_permutations(rest):\n",
    "            perms.append([lst[i]] + p)\n",
    "    return perms\n",
    "```\n",
    "Can you help me adjust it to accept an additional parameter for the length of permutations desired?\n"
   ]
  }
 ],
 "metadata": {},
 "nbformat": 4,
 "nbformat_minor": 5
}
