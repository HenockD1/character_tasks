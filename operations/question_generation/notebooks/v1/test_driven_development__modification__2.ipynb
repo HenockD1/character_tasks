{
 "cells": [
  {
   "cell_type": "markdown",
   "id": "741b35ee",
   "metadata": {},
   "source": [
    "# Metadata\n",
    "\n",
    "**Python Topics** - unit_testing_methodology > test_driven_development\n",
    "\n",
    "**Type** - modification\n",
    "\n",
    "**Target Number of Turns (User + Assistant)** - 2+\n"
   ]
  },
  {
   "cell_type": "markdown",
   "id": "bf656672",
   "metadata": {},
   "source": [
    "# Conversation"
   ]
  },
  {
   "cell_type": "markdown",
   "id": "655bc0db",
   "metadata": {},
   "source": [
    "**User**\n",
    "\n",
    "I'm trying to follow TDD for a function that checks if a number is prime. I've written the function but not the test. Could you draft a simple test using pytest to assert that the number 7 is indeed prime? Here's my function: ```def is_prime(num): if num < 2: return False for i in range(2, num): if num % i == 0: return False return True```\n"
   ]
  }
 ],
 "metadata": {},
 "nbformat": 4,
 "nbformat_minor": 5
}
