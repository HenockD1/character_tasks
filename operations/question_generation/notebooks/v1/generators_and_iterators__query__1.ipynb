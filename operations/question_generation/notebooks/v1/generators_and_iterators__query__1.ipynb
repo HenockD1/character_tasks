{
 "cells": [
  {
   "cell_type": "markdown",
   "id": "65db1e0f",
   "metadata": {},
   "source": [
    "# Metadata\n",
    "\n",
    "**Python Topics** - python_language_and_scripting > generators_and_iterators\n",
    "\n",
    "**Type** - query\n",
    "\n",
    "**Target Number of Turns (User + Assistant)** - 2+\n"
   ]
  },
  {
   "cell_type": "markdown",
   "id": "55de3729",
   "metadata": {},
   "source": [
    "# Conversation"
   ]
  },
  {
   "cell_type": "markdown",
   "id": "6eaee86d",
   "metadata": {},
   "source": [
    "**User**\n",
    "\n",
    "What's the syntax for building an iterator class in Python that iterates over the Fibonacci sequence?\n"
   ]
  }
 ],
 "metadata": {},
 "nbformat": 4,
 "nbformat_minor": 5
}
