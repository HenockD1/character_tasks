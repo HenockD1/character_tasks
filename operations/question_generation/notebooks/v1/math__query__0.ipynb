{
 "cells": [
  {
   "cell_type": "markdown",
   "id": "bcba84f9",
   "metadata": {},
   "source": [
    "# Metadata\n",
    "\n",
    "**Python Topics** - algorithms > by_topic > math\n",
    "\n",
    "**Type** - query\n",
    "\n",
    "**Target Number of Turns (User + Assistant)** - 2+\n"
   ]
  },
  {
   "cell_type": "markdown",
   "id": "f0b1cb4a",
   "metadata": {},
   "source": [
    "# Conversation"
   ]
  },
  {
   "cell_type": "markdown",
   "id": "eaa6b30f",
   "metadata": {},
   "source": [
    "**User**\n",
    "\n",
    "How can I calculate the factorial of a number in Python using recursion?\n"
   ]
  }
 ],
 "metadata": {},
 "nbformat": 4,
 "nbformat_minor": 5
}
