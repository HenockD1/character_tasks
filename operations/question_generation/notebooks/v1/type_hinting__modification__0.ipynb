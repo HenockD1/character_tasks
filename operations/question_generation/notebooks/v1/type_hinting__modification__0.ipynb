{
 "cells": [
  {
   "cell_type": "markdown",
   "id": "10808dbd",
   "metadata": {},
   "source": [
    "# Metadata\n",
    "\n",
    "**Python Topics** - python_language_and_scripting > type_hinting\n",
    "\n",
    "**Type** - modification\n",
    "\n",
    "**Target Number of Turns (User + Assistant)** - 2+\n"
   ]
  },
  {
   "cell_type": "markdown",
   "id": "d97f2af4",
   "metadata": {},
   "source": [
    "# Conversation"
   ]
  },
  {
   "cell_type": "markdown",
   "id": "21bdf63a",
   "metadata": {},
   "source": [
    "**User**\n",
    "\n",
    "I have a function that takes a list of integers and returns the sum. Can you add type hints to the parameters and return type? Here's the function:\n",
    "```python\n",
    "def sum_numbers(numbers):\n",
    "    return sum(numbers)\n",
    "```\n"
   ]
  }
 ],
 "metadata": {},
 "nbformat": 4,
 "nbformat_minor": 5
}
