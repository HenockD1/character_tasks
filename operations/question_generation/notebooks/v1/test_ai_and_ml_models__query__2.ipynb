{
 "cells": [
  {
   "cell_type": "markdown",
   "id": "2b6c719f",
   "metadata": {},
   "source": [
    "# Metadata\n",
    "\n",
    "**Python Topics** - unit_testing_methodology > test_ai_and_ml_models\n",
    "\n",
    "**Type** - query\n",
    "\n",
    "**Target Number of Turns (User + Assistant)** - 2+\n"
   ]
  },
  {
   "cell_type": "markdown",
   "id": "656d121c",
   "metadata": {},
   "source": [
    "# Conversation"
   ]
  },
  {
   "cell_type": "markdown",
   "id": "9507b117",
   "metadata": {},
   "source": [
    "**User**\n",
    "\n",
    "Can you show me how to use unittest to test a prediction function of a deep learning model?\n"
   ]
  }
 ],
 "metadata": {},
 "nbformat": 4,
 "nbformat_minor": 5
}
