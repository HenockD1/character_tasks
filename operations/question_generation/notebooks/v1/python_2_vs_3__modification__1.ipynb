{
 "cells": [
  {
   "cell_type": "markdown",
   "id": "9acc3667",
   "metadata": {},
   "source": [
    "# Metadata\n",
    "\n",
    "**Python Topics** - python_language_and_scripting > python_2_vs_3\n",
    "\n",
    "**Type** - modification\n",
    "\n",
    "**Target Number of Turns (User + Assistant)** - 2+\n"
   ]
  },
  {
   "cell_type": "markdown",
   "id": "a4789353",
   "metadata": {},
   "source": [
    "# Conversation"
   ]
  },
  {
   "cell_type": "markdown",
   "id": "521af333",
   "metadata": {},
   "source": [
    "**User**\n",
    "\n",
    "Can you refactor this Python 2 code to be compatible with Python 3? I'm especially concerned about the division operator. Here's the code: ```python\n",
    "print 5 / 2\n",
    "```\n"
   ]
  }
 ],
 "metadata": {},
 "nbformat": 4,
 "nbformat_minor": 5
}
