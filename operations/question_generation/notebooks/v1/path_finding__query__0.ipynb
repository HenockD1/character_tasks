{
 "cells": [
  {
   "cell_type": "markdown",
   "id": "1f4c34d5",
   "metadata": {},
   "source": [
    "# Metadata\n",
    "\n",
    "**Python Topics** - algorithms > by_topic > path_finding\n",
    "\n",
    "**Type** - query\n",
    "\n",
    "**Target Number of Turns (User + Assistant)** - 2+\n"
   ]
  },
  {
   "cell_type": "markdown",
   "id": "6c016280",
   "metadata": {},
   "source": [
    "# Conversation"
   ]
  },
  {
   "cell_type": "markdown",
   "id": "21055a8b",
   "metadata": {},
   "source": [
    "**User**\n",
    "\n",
    "How can I implement Dijkstra's algorithm in Python to find the shortest path in a graph?\n"
   ]
  }
 ],
 "metadata": {},
 "nbformat": 4,
 "nbformat_minor": 5
}
