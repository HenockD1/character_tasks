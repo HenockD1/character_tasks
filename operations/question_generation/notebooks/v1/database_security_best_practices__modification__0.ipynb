{
 "cells": [
  {
   "cell_type": "markdown",
   "id": "098a5b49",
   "metadata": {},
   "source": [
    "# Metadata\n",
    "\n",
    "**Python Topics** - database > database_security_best_practices\n",
    "\n",
    "**Type** - modification\n",
    "\n",
    "**Target Number of Turns (User + Assistant)** - 2+\n"
   ]
  },
  {
   "cell_type": "markdown",
   "id": "879ed903",
   "metadata": {},
   "source": [
    "# Conversation"
   ]
  },
  {
   "cell_type": "markdown",
   "id": "c5e786b2",
   "metadata": {},
   "source": [
    "**User**\n",
    "\n",
    "I've got a function that connects to my database using psycopg2. Can you help me modify it to use environment variables for the credentials instead of hardcoding them? Here's the function: ```def connect_db(): connection = psycopg2.connect(user='admin', password='password123', host='localhost', port='5432', database='mydb') return connection```\n"
   ]
  }
 ],
 "metadata": {},
 "nbformat": 4,
 "nbformat_minor": 5
}
