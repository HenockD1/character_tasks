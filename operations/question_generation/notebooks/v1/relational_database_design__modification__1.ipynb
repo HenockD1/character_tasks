{
 "cells": [
  {
   "cell_type": "markdown",
   "id": "dfe8f9b0",
   "metadata": {},
   "source": [
    "# Metadata\n",
    "\n",
    "**Python Topics** - database > relational_database_design\n",
    "\n",
    "**Type** - modification\n",
    "\n",
    "**Target Number of Turns (User + Assistant)** - 2+\n"
   ]
  },
  {
   "cell_type": "markdown",
   "id": "93930a25",
   "metadata": {},
   "source": [
    "# Conversation"
   ]
  },
  {
   "cell_type": "markdown",
   "id": "67977577",
   "metadata": {},
   "source": [
    "**User**\n",
    "\n",
    "I need to track the number of copies sold for each book in my database. Can you add an integer field called 'copies_sold' to this existing Book model? Here's what it looks like now:\n",
    "```python\n",
    "class Book(models.Model):\n",
    "    title = models.CharField(max_length=100)\n",
    "    author = models.ForeignKey('Author', on_delete=models.CASCADE)\n",
    "```\n"
   ]
  }
 ],
 "metadata": {},
 "nbformat": 4,
 "nbformat_minor": 5
}
