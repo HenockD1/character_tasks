{
 "cells": [
  {
   "cell_type": "markdown",
   "id": "78f83c78",
   "metadata": {},
   "source": [
    "# Metadata\n",
    "\n",
    "**Python Topics** - algorithms > by_topic > counting\n",
    "\n",
    "**Type** - modification\n",
    "\n",
    "**Target Number of Turns (User + Assistant)** - 2+\n"
   ]
  },
  {
   "cell_type": "markdown",
   "id": "56cfe6c7",
   "metadata": {},
   "source": [
    "# Conversation"
   ]
  },
  {
   "cell_type": "markdown",
   "id": "7f196f71",
   "metadata": {},
   "source": [
    "**User**\n",
    "\n",
    "I'm trying to count the frequency of words in a sentence but I'm stuck. Here's my code: `sentence = 'the quick brown fox jumps over the lazy dog'; word_freq = {}`. Can you show me how to fill in the `word_freq` dictionary with the number of times each word appears?\n"
   ]
  }
 ],
 "metadata": {},
 "nbformat": 4,
 "nbformat_minor": 5
}
