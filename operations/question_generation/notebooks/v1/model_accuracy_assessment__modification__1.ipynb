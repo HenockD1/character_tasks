{
 "cells": [
  {
   "cell_type": "markdown",
   "id": "5e5df26b",
   "metadata": {},
   "source": [
    "# Metadata\n",
    "\n",
    "**Python Topics** - ml_principles > model_accuracy_assessment\n",
    "\n",
    "**Type** - modification\n",
    "\n",
    "**Target Number of Turns (User + Assistant)** - 2+\n"
   ]
  },
  {
   "cell_type": "markdown",
   "id": "4cff2f00",
   "metadata": {},
   "source": [
    "# Conversation"
   ]
  },
  {
   "cell_type": "markdown",
   "id": "5d9b186a",
   "metadata": {},
   "source": [
    "**User**\n",
    "\n",
    "Could you help me add cross-validation to my model evaluation? Here's the initial code: from sklearn.model_selection import train_test_split\n",
    "from sklearn.ensemble import RandomForestClassifier\n",
    "X_train, X_test, y_train, y_test = train_test_split(X, y, test_size=0.3)\n",
    "clf = RandomForestClassifier()\n",
    "clf.fit(X_train, y_train)\n",
    "y_pred = clf.predict(X_test)\n",
    "print(f'Accuracy: {clf.score(X_test, y_test)}')\n"
   ]
  }
 ],
 "metadata": {},
 "nbformat": 4,
 "nbformat_minor": 5
}
