{
 "cells": [
  {
   "cell_type": "markdown",
   "id": "7c236fc3",
   "metadata": {},
   "source": [
    "# Metadata\n",
    "\n",
    "**Python Topics** - database > transaction_management\n",
    "\n",
    "**Type** - modification\n",
    "\n",
    "**Target Number of Turns (User + Assistant)** - 2+\n"
   ]
  },
  {
   "cell_type": "markdown",
   "id": "2f9d9f71",
   "metadata": {},
   "source": [
    "# Conversation"
   ]
  },
  {
   "cell_type": "markdown",
   "id": "c21b76df",
   "metadata": {},
   "source": [
    "**User**\n",
    "\n",
    "I've started a transaction in my SQLite database using Python's sqlite3 module, but I'm not sure how to roll it back if an error occurs. Could you modify my code to include error handling that performs a rollback? Here's my current code snippet:\n",
    "```python\n",
    "import sqlite3\n",
    "\n",
    "conn = sqlite3.connect('example.db')\n",
    "c = conn.cursor()\n",
    "\n",
    "# Start a transaction\n",
    "c.execute('BEGIN TRANSACTION;')\n",
    "try:\n",
    "    # Some database operations\n",
    "    c.execute('INSERT INTO stocks VALUES (\"2006-01-05\",\"BUY\",\"RHAT\",100,35.14)')\n",
    "    conn.commit()\n",
    "except Exception as e:\n",
    "    # Need to handle rollback here\n",
    "    pass\n",
    "```\n"
   ]
  }
 ],
 "metadata": {},
 "nbformat": 4,
 "nbformat_minor": 5
}
