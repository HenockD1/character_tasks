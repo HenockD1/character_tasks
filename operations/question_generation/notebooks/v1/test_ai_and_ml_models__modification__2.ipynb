{
 "cells": [
  {
   "cell_type": "markdown",
   "id": "2353dfb0",
   "metadata": {},
   "source": [
    "# Metadata\n",
    "\n",
    "**Python Topics** - unit_testing_methodology > test_ai_and_ml_models\n",
    "\n",
    "**Type** - modification\n",
    "\n",
    "**Target Number of Turns (User + Assistant)** - 2+\n"
   ]
  },
  {
   "cell_type": "markdown",
   "id": "853f0f85",
   "metadata": {},
   "source": [
    "# Conversation"
   ]
  },
  {
   "cell_type": "markdown",
   "id": "f4772797",
   "metadata": {},
   "source": [
    "**User**\n",
    "\n",
    "Can you show me how to mock the random seed in my test to ensure reproducibility for my SVM classifier's results? The setup code looks like this: ```python\n",
    "import numpy as np from sklearn.svm import SVC\n",
    "np.random.seed(42) # How do I mock this in a test?\n",
    "```\n"
   ]
  }
 ],
 "metadata": {},
 "nbformat": 4,
 "nbformat_minor": 5
}
