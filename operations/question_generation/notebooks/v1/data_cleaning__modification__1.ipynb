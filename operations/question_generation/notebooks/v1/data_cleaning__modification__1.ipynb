{
 "cells": [
  {
   "cell_type": "markdown",
   "id": "dadff129",
   "metadata": {},
   "source": [
    "# Metadata\n",
    "\n",
    "**Python Topics** - data_analysis > data_cleaning\n",
    "\n",
    "**Type** - modification\n",
    "\n",
    "**Target Number of Turns (User + Assistant)** - 2+\n"
   ]
  },
  {
   "cell_type": "markdown",
   "id": "1268c2d3",
   "metadata": {},
   "source": [
    "# Conversation"
   ]
  },
  {
   "cell_type": "markdown",
   "id": "d2bc1c0e",
   "metadata": {},
   "source": [
    "**User**\n",
    "\n",
    "I need to remove rows from my DataFrame where the 'status' column contains 'inactive'. Here's what I have: df = pd.DataFrame({'user': ['user1', 'user2', 'user3'], 'status': ['active', 'inactive', 'active']})\n"
   ]
  }
 ],
 "metadata": {},
 "nbformat": 4,
 "nbformat_minor": 5
}
