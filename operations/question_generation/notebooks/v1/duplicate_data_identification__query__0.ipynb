{
 "cells": [
  {
   "cell_type": "markdown",
   "id": "96ee8166",
   "metadata": {},
   "source": [
    "# Metadata\n",
    "\n",
    "**Python Topics** - data_analysis > duplicate_data_identification\n",
    "\n",
    "**Type** - query\n",
    "\n",
    "**Target Number of Turns (User + Assistant)** - 2+\n"
   ]
  },
  {
   "cell_type": "markdown",
   "id": "2b30ea5b",
   "metadata": {},
   "source": [
    "# Conversation"
   ]
  },
  {
   "cell_type": "markdown",
   "id": "961b3d1c",
   "metadata": {},
   "source": [
    "**User**\n",
    "\n",
    "How can I find and display all the duplicate rows in a pandas DataFrame?\n"
   ]
  }
 ],
 "metadata": {},
 "nbformat": 4,
 "nbformat_minor": 5
}
