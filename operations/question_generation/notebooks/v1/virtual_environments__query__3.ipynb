{
 "cells": [
  {
   "cell_type": "markdown",
   "id": "b203f1ae",
   "metadata": {},
   "source": [
    "# Metadata\n",
    "\n",
    "**Python Topics** - python_language_and_scripting > virtual_environments\n",
    "\n",
    "**Type** - query\n",
    "\n",
    "**Target Number of Turns (User + Assistant)** - 2+\n"
   ]
  },
  {
   "cell_type": "markdown",
   "id": "70ffe498",
   "metadata": {},
   "source": [
    "# Conversation"
   ]
  },
  {
   "cell_type": "markdown",
   "id": "7dc87da8",
   "metadata": {},
   "source": [
    "**User**\n",
    "\n",
    "Could you demonstrate how to install a package in a virtual environment without affecting the global Python installation?\n"
   ]
  }
 ],
 "metadata": {},
 "nbformat": 4,
 "nbformat_minor": 5
}
