{
 "cells": [
  {
   "cell_type": "markdown",
   "id": "d05b0ae1",
   "metadata": {},
   "source": [
    "# Metadata\n",
    "\n",
    "**Python Topics** - unit_testing_methodology > performance_testing\n",
    "\n",
    "**Type** - modification\n",
    "\n",
    "**Target Number of Turns (User + Assistant)** - 2+\n"
   ]
  },
  {
   "cell_type": "markdown",
   "id": "5ceec317",
   "metadata": {},
   "source": [
    "# Conversation"
   ]
  },
  {
   "cell_type": "markdown",
   "id": "cacea90e",
   "metadata": {},
   "source": [
    "**User**\n",
    "\n",
    "I've written a function to calculate Fibonacci numbers. Can you help me write a performance test using timeit to measure its efficiency?\n"
   ]
  }
 ],
 "metadata": {},
 "nbformat": 4,
 "nbformat_minor": 5
}
