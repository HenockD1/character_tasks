{
 "cells": [
  {
   "cell_type": "markdown",
   "id": "4ccb57d9",
   "metadata": {},
   "source": [
    "# Metadata\n",
    "\n",
    "**Python Topics** - data_analysis > data_grouping_aggregation\n",
    "\n",
    "**Type** - query\n",
    "\n",
    "**Target Number of Turns (User + Assistant)** - 2+\n"
   ]
  },
  {
   "cell_type": "markdown",
   "id": "121ed37f",
   "metadata": {},
   "source": [
    "# Conversation"
   ]
  },
  {
   "cell_type": "markdown",
   "id": "6f3aa388",
   "metadata": {},
   "source": [
    "**User**\n",
    "\n",
    "I need to group by multiple columns in my DataFrame and calculate the median. How can I do that in Python?\n"
   ]
  }
 ],
 "metadata": {},
 "nbformat": 4,
 "nbformat_minor": 5
}
