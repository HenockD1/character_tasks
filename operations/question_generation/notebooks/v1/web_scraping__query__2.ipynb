{
 "cells": [
  {
   "cell_type": "markdown",
   "id": "42a979fd",
   "metadata": {},
   "source": [
    "# Metadata\n",
    "\n",
    "**Python Topics** - web_development > web_scraping\n",
    "\n",
    "**Type** - query\n",
    "\n",
    "**Target Number of Turns (User + Assistant)** - 2+\n"
   ]
  },
  {
   "cell_type": "markdown",
   "id": "decfe4d3",
   "metadata": {},
   "source": [
    "# Conversation"
   ]
  },
  {
   "cell_type": "markdown",
   "id": "7c80fba7",
   "metadata": {},
   "source": [
    "**User**\n",
    "\n",
    "Can you show me how to use Selenium in Python to click a button on a webpage?\n"
   ]
  }
 ],
 "metadata": {},
 "nbformat": 4,
 "nbformat_minor": 5
}
