{
 "cells": [
  {
   "cell_type": "markdown",
   "id": "4215b339",
   "metadata": {},
   "source": [
    "# Metadata\n",
    "\n",
    "**Python Topics** - python_language_and_scripting > parallel_programming\n",
    "\n",
    "**Type** - modification\n",
    "\n",
    "**Target Number of Turns (User + Assistant)** - 2+\n"
   ]
  },
  {
   "cell_type": "markdown",
   "id": "26c85a4c",
   "metadata": {},
   "source": [
    "# Conversation"
   ]
  },
  {
   "cell_type": "markdown",
   "id": "c0381612",
   "metadata": {},
   "source": [
    "**User**\n",
    "\n",
    "I'm trying to update my code to use asyncio for non-blocking IO operations. Here's a snippet that makes synchronous HTTP requests. How can I modify it to use async/await?\n",
    "```python\n",
    "import requests\n",
    "\n",
    "def get_status_code(url):\n",
    "    response = requests.get(url)\n",
    "    return response.status_code\n",
    "\n",
    "urls = ['https://api.example.com', 'https://api.example2.com']\n",
    "for url in urls:\n",
    "    print(get_status_code(url))\n",
    "```\n"
   ]
  }
 ],
 "metadata": {},
 "nbformat": 4,
 "nbformat_minor": 5
}
