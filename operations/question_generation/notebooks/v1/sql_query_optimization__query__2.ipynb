{
 "cells": [
  {
   "cell_type": "markdown",
   "id": "495c4cf5",
   "metadata": {},
   "source": [
    "# Metadata\n",
    "\n",
    "**Python Topics** - database > sql_query_optimization\n",
    "\n",
    "**Type** - query\n",
    "\n",
    "**Target Number of Turns (User + Assistant)** - 2+\n"
   ]
  },
  {
   "cell_type": "markdown",
   "id": "452526b0",
   "metadata": {},
   "source": [
    "# Conversation"
   ]
  },
  {
   "cell_type": "markdown",
   "id": "648a51d8",
   "metadata": {},
   "source": [
    "**User**\n",
    "\n",
    "Can you show me how to use EXPLAIN to analyze query performance in a Python program?\n"
   ]
  }
 ],
 "metadata": {},
 "nbformat": 4,
 "nbformat_minor": 5
}
