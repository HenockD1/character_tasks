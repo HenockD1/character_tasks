{
 "cells": [
  {
   "cell_type": "markdown",
   "id": "72155ffa",
   "metadata": {},
   "source": [
    "# Metadata\n",
    "\n",
    "**Python Topics** - web_development > web_services\n",
    "\n",
    "**Type** - modification\n",
    "\n",
    "**Target Number of Turns (User + Assistant)** - 2+\n"
   ]
  },
  {
   "cell_type": "markdown",
   "id": "d6eb65d5",
   "metadata": {},
   "source": [
    "# Conversation"
   ]
  },
  {
   "cell_type": "markdown",
   "id": "b5bb4d20",
   "metadata": {},
   "source": [
    "**User**\n",
    "\n",
    "I've got a Flask endpoint that returns user data in JSON, but I want to include HTTP status codes. Can you modify it to return a 404 status code when the user is not found? Here's the current code: ```python\n",
    "@app.route('/user/<username>')\n",
    "def get_user(username):\n",
    "    user = get_user_from_db(username)\n",
    "    if user:\n",
    "        return jsonify(user)\n",
    "    else:\n",
    "        return jsonify({'error': 'User not found'})\n",
    "```\n"
   ]
  }
 ],
 "metadata": {},
 "nbformat": 4,
 "nbformat_minor": 5
}
