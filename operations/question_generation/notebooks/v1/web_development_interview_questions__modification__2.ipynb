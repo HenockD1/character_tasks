{
 "cells": [
  {
   "cell_type": "markdown",
   "id": "bf6b079b",
   "metadata": {},
   "source": [
    "# Metadata\n",
    "\n",
    "**Python Topics** - web_development > web_development_interview_questions\n",
    "\n",
    "**Type** - modification\n",
    "\n",
    "**Target Number of Turns (User + Assistant)** - 2+\n"
   ]
  },
  {
   "cell_type": "markdown",
   "id": "b08e293c",
   "metadata": {},
   "source": [
    "# Conversation"
   ]
  },
  {
   "cell_type": "markdown",
   "id": "0796b332",
   "metadata": {},
   "source": [
    "**User**\n",
    "\n",
    "I'm trying to add a middleware to my existing FastAPI application that logs the duration of each request. Here's my current main.py file: `from fastapi import FastAPI\n",
    "app = FastAPI()\n",
    "@app.get('/')\n",
    "async def read_root():\n",
    "    return {'Hello': 'World'}`. How should I modify it to include the timing middleware?\n"
   ]
  }
 ],
 "metadata": {},
 "nbformat": 4,
 "nbformat_minor": 5
}
