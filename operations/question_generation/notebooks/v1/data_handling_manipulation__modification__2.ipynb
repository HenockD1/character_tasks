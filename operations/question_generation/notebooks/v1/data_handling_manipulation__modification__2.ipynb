{
 "cells": [
  {
   "cell_type": "markdown",
   "id": "63281067",
   "metadata": {},
   "source": [
    "# Metadata\n",
    "\n",
    "**Python Topics** - python_language_and_scripting > data_handling_manipulation\n",
    "\n",
    "**Type** - modification\n",
    "\n",
    "**Target Number of Turns (User + Assistant)** - 2+\n"
   ]
  },
  {
   "cell_type": "markdown",
   "id": "fc84bd5f",
   "metadata": {},
   "source": [
    "# Conversation"
   ]
  },
  {
   "cell_type": "markdown",
   "id": "6d0e699a",
   "metadata": {},
   "source": [
    "**User**\n",
    "\n",
    "I've got a nested dictionary containing product information, but I need to flatten it into a single dictionary with compound keys. Could you provide a function to do that? Here's an example of the nested dictionary: {'id': 1, 'info': {'name': 'Laptop', 'price': 1200}}\n"
   ]
  }
 ],
 "metadata": {},
 "nbformat": 4,
 "nbformat_minor": 5
}
