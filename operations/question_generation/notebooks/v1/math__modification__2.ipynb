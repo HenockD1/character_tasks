{
 "cells": [
  {
   "cell_type": "markdown",
   "id": "cf3da476",
   "metadata": {},
   "source": [
    "# Metadata\n",
    "\n",
    "**Python Topics** - algorithms > by_topic > math\n",
    "\n",
    "**Type** - modification\n",
    "\n",
    "**Target Number of Turns (User + Assistant)** - 2+\n"
   ]
  },
  {
   "cell_type": "markdown",
   "id": "45adcfca",
   "metadata": {},
   "source": [
    "# Conversation"
   ]
  },
  {
   "cell_type": "markdown",
   "id": "ca2ba039",
   "metadata": {},
   "source": [
    "**User**\n",
    "\n",
    "I wrote a function to find the greatest common divisor (GCD) of two numbers, but it's a bit slow for large numbers. Can you refactor it to use the Euclidean algorithm? Here's my function: ```def gcd(a, b): while b: a, b = b, a % b return a```\n"
   ]
  }
 ],
 "metadata": {},
 "nbformat": 4,
 "nbformat_minor": 5
}
