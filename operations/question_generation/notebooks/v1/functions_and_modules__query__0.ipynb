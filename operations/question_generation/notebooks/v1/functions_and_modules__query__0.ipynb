{
 "cells": [
  {
   "cell_type": "markdown",
   "id": "35c70ad3",
   "metadata": {},
   "source": [
    "# Metadata\n",
    "\n",
    "**Python Topics** - python_language_and_scripting > functions_and_modules\n",
    "\n",
    "**Type** - query\n",
    "\n",
    "**Target Number of Turns (User + Assistant)** - 2+\n"
   ]
  },
  {
   "cell_type": "markdown",
   "id": "99a19b71",
   "metadata": {},
   "source": [
    "# Conversation"
   ]
  },
  {
   "cell_type": "markdown",
   "id": "c5b17c5a",
   "metadata": {},
   "source": [
    "**User**\n",
    "\n",
    "How do I define a function in Python that calculates the factorial of a number?\n"
   ]
  }
 ],
 "metadata": {},
 "nbformat": 4,
 "nbformat_minor": 5
}
