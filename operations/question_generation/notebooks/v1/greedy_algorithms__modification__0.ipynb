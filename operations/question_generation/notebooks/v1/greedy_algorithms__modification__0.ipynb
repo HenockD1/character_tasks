{
 "cells": [
  {
   "cell_type": "markdown",
   "id": "f44720d5",
   "metadata": {},
   "source": [
    "# Metadata\n",
    "\n",
    "**Python Topics** - algorithms > by_topic > greedy_algorithms\n",
    "\n",
    "**Type** - modification\n",
    "\n",
    "**Target Number of Turns (User + Assistant)** - 2+\n"
   ]
  },
  {
   "cell_type": "markdown",
   "id": "757359e6",
   "metadata": {},
   "source": [
    "# Conversation"
   ]
  },
  {
   "cell_type": "markdown",
   "id": "e0b2b909",
   "metadata": {},
   "source": [
    "**User**\n",
    "\n",
    "I have this function that's supposed to find the minimum number of coins for change, but it's not working as expected. Can you fix it? Here's the code: ```def min_coins(change, coins): total_coins = 0 for coin in sorted(coins, reverse=True): if change >= coin: num = change // coin change -= num * coin total_coins += num return total_coins```\n"
   ]
  }
 ],
 "metadata": {},
 "nbformat": 4,
 "nbformat_minor": 5
}
