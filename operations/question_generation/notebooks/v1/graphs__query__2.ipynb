{
 "cells": [
  {
   "cell_type": "markdown",
   "id": "286a7dc5",
   "metadata": {},
   "source": [
    "# Metadata\n",
    "\n",
    "**Python Topics** - algorithms > by_data_structure > graphs\n",
    "\n",
    "**Type** - query\n",
    "\n",
    "**Target Number of Turns (User + Assistant)** - 2+\n"
   ]
  },
  {
   "cell_type": "markdown",
   "id": "b9f13a46",
   "metadata": {},
   "source": [
    "# Conversation"
   ]
  },
  {
   "cell_type": "markdown",
   "id": "8106c690",
   "metadata": {},
   "source": [
    "**User**\n",
    "\n",
    "What's the Python code to find the shortest path between two nodes in a weighted graph using Dijkstra's algorithm?\n"
   ]
  }
 ],
 "metadata": {},
 "nbformat": 4,
 "nbformat_minor": 5
}
