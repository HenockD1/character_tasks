{
 "cells": [
  {
   "cell_type": "markdown",
   "id": "203934ad",
   "metadata": {},
   "source": [
    "# Metadata\n",
    "\n",
    "**Python Topics** - everyday_use_cases\n",
    "\n",
    "**Type** - modification\n",
    "\n",
    "**Target Number of Turns (User + Assistant)** - 2+\n"
   ]
  },
  {
   "cell_type": "markdown",
   "id": "b7150beb",
   "metadata": {},
   "source": [
    "# Conversation"
   ]
  },
  {
   "cell_type": "markdown",
   "id": "93e430c6",
   "metadata": {},
   "source": [
    "**User**\n",
    "\n",
    "I've got a list of dictionaries representing products and their prices. Could you help me sort this list by price in descending order? Here's the code snippet: products = [{'name': 'apple', 'price': 0.5}, {'name': 'banana', 'price': 0.8}, {'name': 'cherry', 'price': 0.3}].\n"
   ]
  }
 ],
 "metadata": {},
 "nbformat": 4,
 "nbformat_minor": 5
}
