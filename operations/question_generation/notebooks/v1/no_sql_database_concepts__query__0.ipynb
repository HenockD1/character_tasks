{
 "cells": [
  {
   "cell_type": "markdown",
   "id": "096142c2",
   "metadata": {},
   "source": [
    "# Metadata\n",
    "\n",
    "**Python Topics** - database > no_sql_database_concepts\n",
    "\n",
    "**Type** - query\n",
    "\n",
    "**Target Number of Turns (User + Assistant)** - 2+\n"
   ]
  },
  {
   "cell_type": "markdown",
   "id": "b92ee4aa",
   "metadata": {},
   "source": [
    "# Conversation"
   ]
  },
  {
   "cell_type": "markdown",
   "id": "93d7453c",
   "metadata": {},
   "source": [
    "**User**\n",
    "\n",
    "How do I connect to a MongoDB database using PyMongo?\n"
   ]
  }
 ],
 "metadata": {},
 "nbformat": 4,
 "nbformat_minor": 5
}
