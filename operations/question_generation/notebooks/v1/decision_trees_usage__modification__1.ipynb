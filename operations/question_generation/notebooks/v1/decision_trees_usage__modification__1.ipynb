{
 "cells": [
  {
   "cell_type": "markdown",
   "id": "ce16ac6e",
   "metadata": {},
   "source": [
    "# Metadata\n",
    "\n",
    "**Python Topics** - ml_principles > decision_trees_usage\n",
    "\n",
    "**Type** - modification\n",
    "\n",
    "**Target Number of Turns (User + Assistant)** - 2+\n"
   ]
  },
  {
   "cell_type": "markdown",
   "id": "436062a5",
   "metadata": {},
   "source": [
    "# Conversation"
   ]
  },
  {
   "cell_type": "markdown",
   "id": "358fa276",
   "metadata": {},
   "source": [
    "**User**\n",
    "\n",
    "Could you help me add feature names to the decision tree I've created? The current code looks like this: `from sklearn import tree; clf = tree.DecisionTreeClassifier(); clf = clf.fit(X, y)`. I have a list of feature names stored in `features = ['age', 'income', 'student', 'credit_rating']`.\n"
   ]
  }
 ],
 "metadata": {},
 "nbformat": 4,
 "nbformat_minor": 5
}
