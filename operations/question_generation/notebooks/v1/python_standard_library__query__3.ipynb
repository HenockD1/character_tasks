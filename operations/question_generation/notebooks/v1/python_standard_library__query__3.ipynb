{
 "cells": [
  {
   "cell_type": "markdown",
   "id": "19a191f4",
   "metadata": {},
   "source": [
    "# Metadata\n",
    "\n",
    "**Python Topics** - python_language_and_scripting > python_standard_library\n",
    "\n",
    "**Type** - query\n",
    "\n",
    "**Target Number of Turns (User + Assistant)** - 2+\n"
   ]
  },
  {
   "cell_type": "markdown",
   "id": "98ac923d",
   "metadata": {},
   "source": [
    "# Conversation"
   ]
  },
  {
   "cell_type": "markdown",
   "id": "7b396a64",
   "metadata": {},
   "source": [
    "**User**\n",
    "\n",
    "I need to calculate the difference between two dates. How can I do that with `datetime`?\n"
   ]
  }
 ],
 "metadata": {},
 "nbformat": 4,
 "nbformat_minor": 5
}
