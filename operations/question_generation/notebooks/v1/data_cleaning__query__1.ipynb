{
 "cells": [
  {
   "cell_type": "markdown",
   "id": "82293b07",
   "metadata": {},
   "source": [
    "# Metadata\n",
    "\n",
    "**Python Topics** - data_analysis > data_cleaning\n",
    "\n",
    "**Type** - query\n",
    "\n",
    "**Target Number of Turns (User + Assistant)** - 2+\n"
   ]
  },
  {
   "cell_type": "markdown",
   "id": "6601f335",
   "metadata": {},
   "source": [
    "# Conversation"
   ]
  },
  {
   "cell_type": "markdown",
   "id": "efb3335f",
   "metadata": {},
   "source": [
    "**User**\n",
    "\n",
    "What's the best way to replace all occurrences of a value in a DataFrame column with another value?\n"
   ]
  }
 ],
 "metadata": {},
 "nbformat": 4,
 "nbformat_minor": 5
}
