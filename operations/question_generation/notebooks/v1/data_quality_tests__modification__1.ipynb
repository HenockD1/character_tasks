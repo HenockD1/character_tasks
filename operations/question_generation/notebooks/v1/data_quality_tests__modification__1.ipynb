{
 "cells": [
  {
   "cell_type": "markdown",
   "id": "3d1eb86c",
   "metadata": {},
   "source": [
    "# Metadata\n",
    "\n",
    "**Python Topics** - unit_testing_methodology > data_quality_tests\n",
    "\n",
    "**Type** - modification\n",
    "\n",
    "**Target Number of Turns (User + Assistant)** - 2+\n"
   ]
  },
  {
   "cell_type": "markdown",
   "id": "2cbbd798",
   "metadata": {},
   "source": [
    "# Conversation"
   ]
  },
  {
   "cell_type": "markdown",
   "id": "bad168c8",
   "metadata": {},
   "source": [
    "**User**\n",
    "\n",
    "Here's a snippet that validates email addresses. Could you draft a test case to ensure it fails when provided with an email without an '@' symbol?\n"
   ]
  }
 ],
 "metadata": {},
 "nbformat": 4,
 "nbformat_minor": 5
}
