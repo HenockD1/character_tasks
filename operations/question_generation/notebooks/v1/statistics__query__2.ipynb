{
 "cells": [
  {
   "cell_type": "markdown",
   "id": "9cce35f0",
   "metadata": {},
   "source": [
    "# Metadata\n",
    "\n",
    "**Python Topics** - algorithms > by_topic > statistics\n",
    "\n",
    "**Type** - query\n",
    "\n",
    "**Target Number of Turns (User + Assistant)** - 2+\n"
   ]
  },
  {
   "cell_type": "markdown",
   "id": "d5abef37",
   "metadata": {},
   "source": [
    "# Conversation"
   ]
  },
  {
   "cell_type": "markdown",
   "id": "5d9f4f08",
   "metadata": {},
   "source": [
    "**User**\n",
    "\n",
    "Could you show me how to calculate the standard deviation of a list in Python?\n"
   ]
  }
 ],
 "metadata": {},
 "nbformat": 4,
 "nbformat_minor": 5
}
