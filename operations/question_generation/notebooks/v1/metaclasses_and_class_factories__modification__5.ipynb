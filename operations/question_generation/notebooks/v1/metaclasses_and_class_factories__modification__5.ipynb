{
 "cells": [
  {
   "cell_type": "markdown",
   "id": "1a26dc83",
   "metadata": {},
   "source": [
    "# Metadata\n",
    "\n",
    "**Python Topics** - python_language_and_scripting > metaclasses_and_class_factories\n",
    "\n",
    "**Type** - modification\n",
    "\n",
    "**Target Number of Turns (User + Assistant)** - 2+\n"
   ]
  },
  {
   "cell_type": "markdown",
   "id": "c091d29a",
   "metadata": {},
   "source": [
    "# Conversation"
   ]
  },
  {
   "cell_type": "markdown",
   "id": "2f2d868e",
   "metadata": {},
   "source": [
    "**User**\n",
    "\n",
    "```python\n",
    "class CountingMeta(type):\n",
    "    def __new__(cls, name, bases, dct):\n",
    "        return super().__new__(cls, name, bases, dct)\n",
    "\n",
    "class MyObject(metaclass=CountingMeta):\n",
    "    pass\n",
    "```\n"
   ]
  }
 ],
 "metadata": {},
 "nbformat": 4,
 "nbformat_minor": 5
}
