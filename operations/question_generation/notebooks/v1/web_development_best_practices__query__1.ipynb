{
 "cells": [
  {
   "cell_type": "markdown",
   "id": "909e7749",
   "metadata": {},
   "source": [
    "# Metadata\n",
    "\n",
    "**Python Topics** - web_development > web_development_best_practices\n",
    "\n",
    "**Type** - query\n",
    "\n",
    "**Target Number of Turns (User + Assistant)** - 2+\n"
   ]
  },
  {
   "cell_type": "markdown",
   "id": "dc76009e",
   "metadata": {},
   "source": [
    "# Conversation"
   ]
  },
  {
   "cell_type": "markdown",
   "id": "2e63e9b5",
   "metadata": {},
   "source": [
    "**User**\n",
    "\n",
    "What's the best way to sanitize user input in Django to prevent XSS attacks?\n"
   ]
  }
 ],
 "metadata": {},
 "nbformat": 4,
 "nbformat_minor": 5
}
