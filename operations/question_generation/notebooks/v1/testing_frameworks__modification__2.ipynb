{
 "cells": [
  {
   "cell_type": "markdown",
   "id": "335946fb",
   "metadata": {},
   "source": [
    "# Metadata\n",
    "\n",
    "**Python Topics** - unit_testing_methodology > testing_frameworks\n",
    "\n",
    "**Type** - modification\n",
    "\n",
    "**Target Number of Turns (User + Assistant)** - 2+\n"
   ]
  },
  {
   "cell_type": "markdown",
   "id": "291ec97a",
   "metadata": {},
   "source": [
    "# Conversation"
   ]
  },
  {
   "cell_type": "markdown",
   "id": "ee000c46",
   "metadata": {},
   "source": [
    "**User**\n",
    "\n",
    "I need to mock a database call in my pytest test case to avoid hitting the actual database. Here's my current test without mocking:\n",
    "```python\n",
    "def test_get_user():\n",
    "    user = get_user('username')\n",
    "    assert user['name'] == 'John Doe'\n",
    "```\n"
   ]
  }
 ],
 "metadata": {},
 "nbformat": 4,
 "nbformat_minor": 5
}
