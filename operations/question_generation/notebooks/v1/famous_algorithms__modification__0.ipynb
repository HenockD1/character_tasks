{
 "cells": [
  {
   "cell_type": "markdown",
   "id": "5d7cbde0",
   "metadata": {},
   "source": [
    "# Metadata\n",
    "\n",
    "**Python Topics** - algorithms > by_topic > famous_algorithms\n",
    "\n",
    "**Type** - modification\n",
    "\n",
    "**Target Number of Turns (User + Assistant)** - 2+\n"
   ]
  },
  {
   "cell_type": "markdown",
   "id": "cb7f0822",
   "metadata": {},
   "source": [
    "# Conversation"
   ]
  },
  {
   "cell_type": "markdown",
   "id": "e08c0595",
   "metadata": {},
   "source": [
    "**User**\n",
    "\n",
    "I've implemented the Fibonacci sequence using recursion. Can you modify it to use memoization for improved performance? Here's my code: `def fibonacci(n): return n if n <= 1 else fibonacci(n-1) + fibonacci(n-2)`\n"
   ]
  }
 ],
 "metadata": {},
 "nbformat": 4,
 "nbformat_minor": 5
}
