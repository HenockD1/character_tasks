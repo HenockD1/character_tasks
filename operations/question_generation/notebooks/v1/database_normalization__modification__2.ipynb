{
 "cells": [
  {
   "cell_type": "markdown",
   "id": "2a943634",
   "metadata": {},
   "source": [
    "# Metadata\n",
    "\n",
    "**Python Topics** - database > database_normalization\n",
    "\n",
    "**Type** - modification\n",
    "\n",
    "**Target Number of Turns (User + Assistant)** - 2+\n"
   ]
  },
  {
   "cell_type": "markdown",
   "id": "305aa406",
   "metadata": {},
   "source": [
    "# Conversation"
   ]
  },
  {
   "cell_type": "markdown",
   "id": "84a6537c",
   "metadata": {},
   "source": [
    "**User**\n",
    "\n",
    "I'm trying to normalize my database and I have a 'courses' table with 'course_id', 'course_name', 'instructor_name', 'instructor_email'. It seems like the instructor details should be in a separate table. Can you adjust the code to create an 'instructors' table and link it properly to the 'courses' table?\n"
   ]
  }
 ],
 "metadata": {},
 "nbformat": 4,
 "nbformat_minor": 5
}
