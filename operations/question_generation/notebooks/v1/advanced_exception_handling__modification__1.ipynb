{
 "cells": [
  {
   "cell_type": "markdown",
   "id": "de42ef91",
   "metadata": {},
   "source": [
    "# Metadata\n",
    "\n",
    "**Python Topics** - python_language_and_scripting > advanced_exception_handling\n",
    "\n",
    "**Type** - modification\n",
    "\n",
    "**Target Number of Turns (User + Assistant)** - 2+\n"
   ]
  },
  {
   "cell_type": "markdown",
   "id": "13afab32",
   "metadata": {},
   "source": [
    "# Conversation"
   ]
  },
  {
   "cell_type": "markdown",
   "id": "9ab46fdc",
   "metadata": {},
   "source": [
    "**User**\n",
    "\n",
    "Could you help me refactor this code snippet to raise a custom exception if the input value is not a positive integer? Here's the current code: def check_positive(value): if value < 0: raise ValueError('Value must be positive.')\n"
   ]
  }
 ],
 "metadata": {},
 "nbformat": 4,
 "nbformat_minor": 5
}
