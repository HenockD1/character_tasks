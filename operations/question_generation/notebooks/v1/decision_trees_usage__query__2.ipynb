{
 "cells": [
  {
   "cell_type": "markdown",
   "id": "e2ac6cdb",
   "metadata": {},
   "source": [
    "# Metadata\n",
    "\n",
    "**Python Topics** - ml_principles > decision_trees_usage\n",
    "\n",
    "**Type** - query\n",
    "\n",
    "**Target Number of Turns (User + Assistant)** - 2+\n"
   ]
  },
  {
   "cell_type": "markdown",
   "id": "667e7660",
   "metadata": {},
   "source": [
    "# Conversation"
   ]
  },
  {
   "cell_type": "markdown",
   "id": "933e8767",
   "metadata": {},
   "source": [
    "**User**\n",
    "\n",
    "What's the Python code to tune hyperparameters of a decision tree using grid search?\n"
   ]
  }
 ],
 "metadata": {},
 "nbformat": 4,
 "nbformat_minor": 5
}
