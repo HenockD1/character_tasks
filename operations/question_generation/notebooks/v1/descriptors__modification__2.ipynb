{
 "cells": [
  {
   "cell_type": "markdown",
   "id": "b26a63d0",
   "metadata": {},
   "source": [
    "# Metadata\n",
    "\n",
    "**Python Topics** - python_language_and_scripting > descriptors\n",
    "\n",
    "**Type** - modification\n",
    "\n",
    "**Target Number of Turns (User + Assistant)** - 2+\n"
   ]
  },
  {
   "cell_type": "markdown",
   "id": "24f8151d",
   "metadata": {},
   "source": [
    "# Conversation"
   ]
  },
  {
   "cell_type": "markdown",
   "id": "ad61677f",
   "metadata": {},
   "source": [
    "**User**\n",
    "\n",
    "Could you help me modify this descriptor so that it caches the value after it's computed the first time? Here's the initial code: class CachedDescriptor: def __init__(self): self.name = None def __get__(self, obj, objtype): if self.name not in obj.__dict__: obj.__dict__[self.name] = self.compute_value(obj) return obj.__dict__[self.name] def compute_value(self, obj): # Expensive operation return some_computation()\n"
   ]
  }
 ],
 "metadata": {},
 "nbformat": 4,
 "nbformat_minor": 5
}
