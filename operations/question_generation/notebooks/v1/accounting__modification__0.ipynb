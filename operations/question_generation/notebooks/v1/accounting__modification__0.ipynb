{
 "cells": [
  {
   "cell_type": "markdown",
   "id": "9bab9dba",
   "metadata": {},
   "source": [
    "# Metadata\n",
    "\n",
    "**Python Topics** - high_school > accounting\n",
    "\n",
    "**Type** - modification\n",
    "\n",
    "**Target Number of Turns (User + Assistant)** - 2+\n"
   ]
  },
  {
   "cell_type": "markdown",
   "id": "4d59a3df",
   "metadata": {},
   "source": [
    "# Conversation"
   ]
  },
  {
   "cell_type": "markdown",
   "id": "70ed70df",
   "metadata": {},
   "source": [
    "**User**\n",
    "\n",
    "I've written a function to calculate the total assets from a dictionary of assets and their values. Can you help me add error handling to ensure that all values are numeric before summing them up?\n",
    "\n",
    "```python\n",
    "def calculate_total_assets(assets):\n",
    "    return sum(assets.values())\n",
    "```\n"
   ]
  }
 ],
 "metadata": {},
 "nbformat": 4,
 "nbformat_minor": 5
}
