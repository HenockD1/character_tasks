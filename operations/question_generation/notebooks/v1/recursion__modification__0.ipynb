{
 "cells": [
  {
   "cell_type": "markdown",
   "id": "4de0c16b",
   "metadata": {},
   "source": [
    "# Metadata\n",
    "\n",
    "**Python Topics** - algorithms > by_topic > recursion\n",
    "\n",
    "**Type** - modification\n",
    "\n",
    "**Target Number of Turns (User + Assistant)** - 2+\n"
   ]
  },
  {
   "cell_type": "markdown",
   "id": "b9a1b744",
   "metadata": {},
   "source": [
    "# Conversation"
   ]
  },
  {
   "cell_type": "markdown",
   "id": "6d549497",
   "metadata": {},
   "source": [
    "**User**\n",
    "\n",
    "I have a recursive function that calculates the factorial of a number. Can you modify it to include a base case for negative numbers, returning None? Here's the code: `def factorial(n): return 1 if n == 0 else n * factorial(n - 1)`\n"
   ]
  }
 ],
 "metadata": {},
 "nbformat": 4,
 "nbformat_minor": 5
}
