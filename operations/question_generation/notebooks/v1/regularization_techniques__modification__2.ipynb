{
 "cells": [
  {
   "cell_type": "markdown",
   "id": "084ca0b0",
   "metadata": {},
   "source": [
    "# Metadata\n",
    "\n",
    "**Python Topics** - deep_learning > regularization_techniques\n",
    "\n",
    "**Type** - modification\n",
    "\n",
    "**Target Number of Turns (User + Assistant)** - 2+\n"
   ]
  },
  {
   "cell_type": "markdown",
   "id": "44e55759",
   "metadata": {},
   "source": [
    "# Conversation"
   ]
  },
  {
   "cell_type": "markdown",
   "id": "f46a2bf5",
   "metadata": {},
   "source": [
    "**User**\n",
    "\n",
    "I've read that batch normalization can help with overfitting. Here's my current layer: `hidden_layer = tf.matmul(inputs, weights) + biases`. How would I integrate batch normalization into this?\n"
   ]
  }
 ],
 "metadata": {},
 "nbformat": 4,
 "nbformat_minor": 5
}
