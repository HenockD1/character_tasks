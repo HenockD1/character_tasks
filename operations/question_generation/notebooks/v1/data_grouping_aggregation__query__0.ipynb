{
 "cells": [
  {
   "cell_type": "markdown",
   "id": "2f6582bc",
   "metadata": {},
   "source": [
    "# Metadata\n",
    "\n",
    "**Python Topics** - data_analysis > data_grouping_aggregation\n",
    "\n",
    "**Type** - query\n",
    "\n",
    "**Target Number of Turns (User + Assistant)** - 2+\n"
   ]
  },
  {
   "cell_type": "markdown",
   "id": "b1701340",
   "metadata": {},
   "source": [
    "# Conversation"
   ]
  },
  {
   "cell_type": "markdown",
   "id": "466fc422",
   "metadata": {},
   "source": [
    "**User**\n",
    "\n",
    "How can I group my DataFrame by one column and get the mean of another column in Python?\n"
   ]
  }
 ],
 "metadata": {},
 "nbformat": 4,
 "nbformat_minor": 5
}
