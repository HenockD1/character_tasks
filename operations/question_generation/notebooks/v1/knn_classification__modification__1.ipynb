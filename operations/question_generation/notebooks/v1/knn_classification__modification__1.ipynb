{
 "cells": [
  {
   "cell_type": "markdown",
   "id": "0e1a7662",
   "metadata": {},
   "source": [
    "# Metadata\n",
    "\n",
    "**Python Topics** - ml_principles > knn_classification\n",
    "\n",
    "**Type** - modification\n",
    "\n",
    "**Target Number of Turns (User + Assistant)** - 2+\n"
   ]
  },
  {
   "cell_type": "markdown",
   "id": "957dcb4a",
   "metadata": {},
   "source": [
    "# Conversation"
   ]
  },
  {
   "cell_type": "markdown",
   "id": "77f37c76",
   "metadata": {},
   "source": [
    "**User**\n",
    "\n",
    "Could you help me adjust my KNN algorithm to use the Manhattan distance instead of the default? Here's the snippet I'm working with: from sklearn.neighbors import KNeighborsClassifier\n",
    "knn = KNeighborsClassifier(n_neighbors=3)\n",
    "knn.fit(X, y)\n"
   ]
  }
 ],
 "metadata": {},
 "nbformat": 4,
 "nbformat_minor": 5
}
