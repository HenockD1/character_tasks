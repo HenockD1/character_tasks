{
 "cells": [
  {
   "cell_type": "markdown",
   "id": "ac58b89d",
   "metadata": {},
   "source": [
    "# Metadata\n",
    "\n",
    "**Python Topics** - data_analysis > data_visualization\n",
    "\n",
    "**Type** - modification\n",
    "\n",
    "**Target Number of Turns (User + Assistant)** - 2+\n"
   ]
  },
  {
   "cell_type": "markdown",
   "id": "ff1ca20f",
   "metadata": {},
   "source": [
    "# Conversation"
   ]
  },
  {
   "cell_type": "markdown",
   "id": "2c8661b7",
   "metadata": {},
   "source": [
    "**User**\n",
    "\n",
    "I'm trying to create a scatter plot with Seaborn's `scatterplot` method, but I'd like to differentiate the points by a 'category' column from my DataFrame. Here's what I have so far: \n",
    "```python\n",
    "import seaborn as sns\n",
    "import pandas as pd\n",
    "\n",
    "df = pd.DataFrame({'x': [1, 2, 3, 4], 'y': [10, 11, 12, 13], 'category': ['A', 'B', 'A', 'B']})\n",
    "sns.scatterplot(x='x', y='y', data=df)\n",
    "plt.show()\n",
    "```\n",
    "Could you adjust the code to color the points based on their 'category' value?\n"
   ]
  }
 ],
 "metadata": {},
 "nbformat": 4,
 "nbformat_minor": 5
}
