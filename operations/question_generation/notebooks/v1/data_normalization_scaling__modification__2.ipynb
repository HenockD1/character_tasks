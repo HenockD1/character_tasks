{
 "cells": [
  {
   "cell_type": "markdown",
   "id": "b63c02d1",
   "metadata": {},
   "source": [
    "# Metadata\n",
    "\n",
    "**Python Topics** - ml_principles > data_normalization_scaling\n",
    "\n",
    "**Type** - modification\n",
    "\n",
    "**Target Number of Turns (User + Assistant)** - 2+\n"
   ]
  },
  {
   "cell_type": "markdown",
   "id": "6d28e9c2",
   "metadata": {},
   "source": [
    "# Conversation"
   ]
  },
  {
   "cell_type": "markdown",
   "id": "c4d2faab",
   "metadata": {},
   "source": [
    "**User**\n",
    "\n",
    "I'm trying to normalize the 'prices' column in my DataFrame 'sales_data' to have a mean of 0 and a standard deviation of 1. Can you modify the code to achieve this using sklearn's preprocessing tools?\n"
   ]
  }
 ],
 "metadata": {},
 "nbformat": 4,
 "nbformat_minor": 5
}
