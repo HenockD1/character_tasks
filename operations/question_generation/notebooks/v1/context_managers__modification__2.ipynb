{
 "cells": [
  {
   "cell_type": "markdown",
   "id": "b0571acb",
   "metadata": {},
   "source": [
    "# Metadata\n",
    "\n",
    "**Python Topics** - python_language_and_scripting > context_managers\n",
    "\n",
    "**Type** - modification\n",
    "\n",
    "**Target Number of Turns (User + Assistant)** - 2+\n"
   ]
  },
  {
   "cell_type": "markdown",
   "id": "6250effd",
   "metadata": {},
   "source": [
    "# Conversation"
   ]
  },
  {
   "cell_type": "markdown",
   "id": "de262820",
   "metadata": {},
   "source": [
    "**User**\n",
    "\n",
    "I need to ensure that the temporary directory I create in this snippet is deleted after I'm done with it. Can you rewrite it using a context manager to handle the cleanup? Here's what I have so far: \n",
    "```python\n",
    "import os, tempfile\n",
    "def create_temp_dir():\n",
    "    temp_dir = tempfile.mkdtemp()\n",
    "    # Perform operations in temp_dir\n",
    "    # ...\n",
    "    # Cleanup\n",
    "    os.rmdir(temp_dir)\n",
    "```\n"
   ]
  }
 ],
 "metadata": {},
 "nbformat": 4,
 "nbformat_minor": 5
}
