{
 "cells": [
  {
   "cell_type": "markdown",
   "id": "ff668991",
   "metadata": {},
   "source": [
    "# Metadata\n",
    "\n",
    "**Python Topics** - database > relational_database_design\n",
    "\n",
    "**Type** - query\n",
    "\n",
    "**Target Number of Turns (User + Assistant)** - 2+\n"
   ]
  },
  {
   "cell_type": "markdown",
   "id": "ce554d7a",
   "metadata": {},
   "source": [
    "# Conversation"
   ]
  },
  {
   "cell_type": "markdown",
   "id": "029bbfc7",
   "metadata": {},
   "source": [
    "**User**\n",
    "\n",
    "How do I normalize a table with repeating groups into 1NF in Python using SQLite?\n"
   ]
  }
 ],
 "metadata": {},
 "nbformat": 4,
 "nbformat_minor": 5
}
