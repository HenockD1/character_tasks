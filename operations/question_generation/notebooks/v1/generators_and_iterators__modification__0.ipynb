{
 "cells": [
  {
   "cell_type": "markdown",
   "id": "f13d54bb",
   "metadata": {},
   "source": [
    "# Metadata\n",
    "\n",
    "**Python Topics** - python_language_and_scripting > generators_and_iterators\n",
    "\n",
    "**Type** - modification\n",
    "\n",
    "**Target Number of Turns (User + Assistant)** - 2+\n"
   ]
  },
  {
   "cell_type": "markdown",
   "id": "3c79e009",
   "metadata": {},
   "source": [
    "# Conversation"
   ]
  },
  {
   "cell_type": "markdown",
   "id": "70fae42e",
   "metadata": {},
   "source": [
    "**User**\n",
    "\n",
    "I have a generator function that yields numbers from 0 to n. Can you modify it to yield tuples of the number and its square instead? Here's the code: `def num_gen(n): for i in range(n): yield i`\n"
   ]
  }
 ],
 "metadata": {},
 "nbformat": 4,
 "nbformat_minor": 5
}
