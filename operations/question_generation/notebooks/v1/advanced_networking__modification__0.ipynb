{
 "cells": [
  {
   "cell_type": "markdown",
   "id": "9d6f3290",
   "metadata": {},
   "source": [
    "# Metadata\n",
    "\n",
    "**Python Topics** - python_language_and_scripting > advanced_networking\n",
    "\n",
    "**Type** - modification\n",
    "\n",
    "**Target Number of Turns (User + Assistant)** - 2+\n"
   ]
  },
  {
   "cell_type": "markdown",
   "id": "33a6f4d2",
   "metadata": {},
   "source": [
    "# Conversation"
   ]
  },
  {
   "cell_type": "markdown",
   "id": "1ec36f8a",
   "metadata": {},
   "source": [
    "**User**\n",
    "\n",
    "I've got a snippet that uses the socket library to create a simple server. Can you modify it to handle multiple clients using threading? Here's the code: ```python\n",
    "import socket\n",
    "\n",
    "s = socket.socket(socket.AF_INET, socket.SOCK_STREAM)\n",
    "s.bind(('localhost', 12345))\n",
    "s.listen(5)\n",
    "while True:\n",
    "    clientsocket, address = s.accept()\n",
    "    print(f'Connection from {address} has been established!')\n",
    "    clientsocket.send(bytes('Welcome to the server!', 'utf-8'))\n",
    "    clientsocket.close()\n",
    "```\n"
   ]
  }
 ],
 "metadata": {},
 "nbformat": 4,
 "nbformat_minor": 5
}
