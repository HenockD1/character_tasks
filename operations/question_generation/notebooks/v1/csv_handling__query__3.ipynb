{
 "cells": [
  {
   "cell_type": "markdown",
   "id": "4a654676",
   "metadata": {},
   "source": [
    "# Metadata\n",
    "\n",
    "**Python Topics** - data_analysis > csv_handling\n",
    "\n",
    "**Type** - query\n",
    "\n",
    "**Target Number of Turns (User + Assistant)** - 2+\n"
   ]
  },
  {
   "cell_type": "markdown",
   "id": "dbbea389",
   "metadata": {},
   "source": [
    "# Conversation"
   ]
  },
  {
   "cell_type": "markdown",
   "id": "64f83d61",
   "metadata": {},
   "source": [
    "**User**\n",
    "\n",
    "Can you demonstrate how to filter rows in a DataFrame based on a column's value and then save the filtered data to a new CSV file?\n"
   ]
  }
 ],
 "metadata": {},
 "nbformat": 4,
 "nbformat_minor": 5
}
