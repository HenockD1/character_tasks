{
 "cells": [
  {
   "cell_type": "markdown",
   "id": "342c2b00",
   "metadata": {},
   "source": [
    "# Metadata\n",
    "\n",
    "**Python Topics** - web_development > web_crawling\n",
    "\n",
    "**Type** - query\n",
    "\n",
    "**Target Number of Turns (User + Assistant)** - 2+\n"
   ]
  },
  {
   "cell_type": "markdown",
   "id": "b83b7f9b",
   "metadata": {},
   "source": [
    "# Conversation"
   ]
  },
  {
   "cell_type": "markdown",
   "id": "3e56aa87",
   "metadata": {},
   "source": [
    "**User**\n",
    "\n",
    "How can I extract all the URLs from a webpage using BeautifulSoup in Python?\n"
   ]
  }
 ],
 "metadata": {},
 "nbformat": 4,
 "nbformat_minor": 5
}
