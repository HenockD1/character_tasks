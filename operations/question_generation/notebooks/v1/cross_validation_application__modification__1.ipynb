{
 "cells": [
  {
   "cell_type": "markdown",
   "id": "673d904b",
   "metadata": {},
   "source": [
    "# Metadata\n",
    "\n",
    "**Python Topics** - ml_principles > cross_validation_application\n",
    "\n",
    "**Type** - modification\n",
    "\n",
    "**Target Number of Turns (User + Assistant)** - 2+\n"
   ]
  },
  {
   "cell_type": "markdown",
   "id": "3fb95f43",
   "metadata": {},
   "source": [
    "# Conversation"
   ]
  },
  {
   "cell_type": "markdown",
   "id": "33c93bfb",
   "metadata": {},
   "source": [
    "**User**\n",
    "\n",
    "Here's a snippet where I use cross_val_score with a RandomForestClassifier. Can you modify it to use a StratifiedKFold with 10 splits instead?\n"
   ]
  }
 ],
 "metadata": {},
 "nbformat": 4,
 "nbformat_minor": 5
}
