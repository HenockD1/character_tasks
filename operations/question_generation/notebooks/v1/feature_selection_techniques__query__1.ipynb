{
 "cells": [
  {
   "cell_type": "markdown",
   "id": "ee7b4e0b",
   "metadata": {},
   "source": [
    "# Metadata\n",
    "\n",
    "**Python Topics** - ml_principles > feature_selection_techniques\n",
    "\n",
    "**Type** - query\n",
    "\n",
    "**Target Number of Turns (User + Assistant)** - 2+\n"
   ]
  },
  {
   "cell_type": "markdown",
   "id": "3fc539dc",
   "metadata": {},
   "source": [
    "# Conversation"
   ]
  },
  {
   "cell_type": "markdown",
   "id": "302d5576",
   "metadata": {},
   "source": [
    "**User**\n",
    "\n",
    "How would you apply Recursive Feature Elimination with cross-validation using scikit-learn?\n"
   ]
  }
 ],
 "metadata": {},
 "nbformat": 4,
 "nbformat_minor": 5
}
