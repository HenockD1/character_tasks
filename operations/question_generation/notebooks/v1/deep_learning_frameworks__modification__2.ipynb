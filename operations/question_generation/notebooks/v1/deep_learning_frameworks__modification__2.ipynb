{
 "cells": [
  {
   "cell_type": "markdown",
   "id": "746830d3",
   "metadata": {},
   "source": [
    "# Metadata\n",
    "\n",
    "**Python Topics** - deep_learning > deep_learning_frameworks\n",
    "\n",
    "**Type** - modification\n",
    "\n",
    "**Target Number of Turns (User + Assistant)** - 2+\n"
   ]
  },
  {
   "cell_type": "markdown",
   "id": "20b13cca",
   "metadata": {},
   "source": [
    "# Conversation"
   ]
  },
  {
   "cell_type": "markdown",
   "id": "f8f8cba6",
   "metadata": {},
   "source": [
    "**User**\n",
    "\n",
    "In this Keras model, I want to replace the current optimizer from SGD to Adam with a learning rate of 0.001. Here's the part of the code that sets the optimizer: \n",
    "\n",
    "```python\n",
    "model.compile(loss='categorical_crossentropy', optimizer='sgd', metrics=['accuracy'])\n",
    "```\n",
    "What changes should I make to use Adam?\n"
   ]
  }
 ],
 "metadata": {},
 "nbformat": 4,
 "nbformat_minor": 5
}
