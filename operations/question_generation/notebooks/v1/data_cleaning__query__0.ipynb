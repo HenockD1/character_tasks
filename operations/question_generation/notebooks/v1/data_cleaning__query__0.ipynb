{
 "cells": [
  {
   "cell_type": "markdown",
   "id": "b661b015",
   "metadata": {},
   "source": [
    "# Metadata\n",
    "\n",
    "**Python Topics** - data_analysis > data_cleaning\n",
    "\n",
    "**Type** - query\n",
    "\n",
    "**Target Number of Turns (User + Assistant)** - 2+\n"
   ]
  },
  {
   "cell_type": "markdown",
   "id": "317cd214",
   "metadata": {},
   "source": [
    "# Conversation"
   ]
  },
  {
   "cell_type": "markdown",
   "id": "d26f1520",
   "metadata": {},
   "source": [
    "**User**\n",
    "\n",
    "How do I remove rows with NaN values from a pandas DataFrame?\n"
   ]
  }
 ],
 "metadata": {},
 "nbformat": 4,
 "nbformat_minor": 5
}
