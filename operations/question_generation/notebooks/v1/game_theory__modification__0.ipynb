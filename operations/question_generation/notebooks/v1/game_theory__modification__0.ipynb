{
 "cells": [
  {
   "cell_type": "markdown",
   "id": "99e04361",
   "metadata": {},
   "source": [
    "# Metadata\n",
    "\n",
    "**Python Topics** - algorithms > by_topic > game_theory\n",
    "\n",
    "**Type** - modification\n",
    "\n",
    "**Target Number of Turns (User + Assistant)** - 2+\n"
   ]
  },
  {
   "cell_type": "markdown",
   "id": "7201b47a",
   "metadata": {},
   "source": [
    "# Conversation"
   ]
  },
  {
   "cell_type": "markdown",
   "id": "ccb39c37",
   "metadata": {},
   "source": [
    "**User**\n",
    "\n",
    "I have a function that simulates a coin toss game where a player wins if they get heads. Can you modify it to include a counter for the number of tails before the first win? Here's the code: ```python\n",
    "def coin_toss_game():\n",
    "    from random import choice\n",
    "    result = 'tails'\n",
    "    while result != 'heads':\n",
    "        result = choice(['heads', 'tails'])\n",
    "    print('You win!')\n",
    "coin_toss_game()\n",
    "```\n"
   ]
  }
 ],
 "metadata": {},
 "nbformat": 4,
 "nbformat_minor": 5
}
