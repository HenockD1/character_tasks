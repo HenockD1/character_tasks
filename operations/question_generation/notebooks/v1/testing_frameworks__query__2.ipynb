{
 "cells": [
  {
   "cell_type": "markdown",
   "id": "782cd604",
   "metadata": {},
   "source": [
    "# Metadata\n",
    "\n",
    "**Python Topics** - unit_testing_methodology > testing_frameworks\n",
    "\n",
    "**Type** - query\n",
    "\n",
    "**Target Number of Turns (User + Assistant)** - 2+\n"
   ]
  },
  {
   "cell_type": "markdown",
   "id": "45ba9a42",
   "metadata": {},
   "source": [
    "# Conversation"
   ]
  },
  {
   "cell_type": "markdown",
   "id": "7bc9ce96",
   "metadata": {},
   "source": [
    "**User**\n",
    "\n",
    "What's the syntax for writing an assertion in a test case with the nose2 framework?\n"
   ]
  }
 ],
 "metadata": {},
 "nbformat": 4,
 "nbformat_minor": 5
}
