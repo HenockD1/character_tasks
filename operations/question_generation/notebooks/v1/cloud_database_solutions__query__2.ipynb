{
 "cells": [
  {
   "cell_type": "markdown",
   "id": "824b3157",
   "metadata": {},
   "source": [
    "# Metadata\n",
    "\n",
    "**Python Topics** - database > cloud_database_solutions\n",
    "\n",
    "**Type** - query\n",
    "\n",
    "**Target Number of Turns (User + Assistant)** - 2+\n"
   ]
  },
  {
   "cell_type": "markdown",
   "id": "ccd8fb40",
   "metadata": {},
   "source": [
    "# Conversation"
   ]
  },
  {
   "cell_type": "markdown",
   "id": "6c465f6b",
   "metadata": {},
   "source": [
    "**User**\n",
    "\n",
    "Could you show me how to retrieve data from an Azure Cosmos DB using Python's SDK?\n"
   ]
  }
 ],
 "metadata": {},
 "nbformat": 4,
 "nbformat_minor": 5
}
