{
 "cells": [
  {
   "cell_type": "markdown",
   "id": "ec64d524",
   "metadata": {},
   "source": [
    "# Metadata\n",
    "\n",
    "**Python Topics** - unit_testing_methodology > code_coverage\n",
    "\n",
    "**Type** - query\n",
    "\n",
    "**Target Number of Turns (User + Assistant)** - 2+\n"
   ]
  },
  {
   "cell_type": "markdown",
   "id": "8a9390f7",
   "metadata": {},
   "source": [
    "# Conversation"
   ]
  },
  {
   "cell_type": "markdown",
   "id": "496a5e73",
   "metadata": {},
   "source": [
    "**User**\n",
    "\n",
    "Can you demonstrate how to set up a threshold for failing a test suite if code coverage falls below a certain percentage using coverage.py?\n"
   ]
  }
 ],
 "metadata": {},
 "nbformat": 4,
 "nbformat_minor": 5
}
