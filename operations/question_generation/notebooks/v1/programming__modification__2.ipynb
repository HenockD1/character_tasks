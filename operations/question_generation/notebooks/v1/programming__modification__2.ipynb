{
 "cells": [
  {
   "cell_type": "markdown",
   "id": "32f9a94b",
   "metadata": {},
   "source": [
    "# Metadata\n",
    "\n",
    "**Python Topics** - high_school > programming\n",
    "\n",
    "**Type** - modification\n",
    "\n",
    "**Target Number of Turns (User + Assistant)** - 2+\n"
   ]
  },
  {
   "cell_type": "markdown",
   "id": "291ac2d6",
   "metadata": {},
   "source": [
    "# Conversation"
   ]
  },
  {
   "cell_type": "markdown",
   "id": "eee24b97",
   "metadata": {},
   "source": [
    "**User**\n",
    "\n",
    "I have a function that prints 'Pass' if a student's grade is 50 or above and 'Fail' if below 50. Can you change it to also print 'Excellent' if the grade is 90 or above? Here's the function: ```def grade_status(grade): if grade >= 50: print('Pass') else: print('Fail')```\n"
   ]
  }
 ],
 "metadata": {},
 "nbformat": 4,
 "nbformat_minor": 5
}
