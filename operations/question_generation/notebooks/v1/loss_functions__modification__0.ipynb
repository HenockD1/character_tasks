{
 "cells": [
  {
   "cell_type": "markdown",
   "id": "ece86e35",
   "metadata": {},
   "source": [
    "# Metadata\n",
    "\n",
    "**Python Topics** - deep_learning > loss_functions\n",
    "\n",
    "**Type** - modification\n",
    "\n",
    "**Target Number of Turns (User + Assistant)** - 2+\n"
   ]
  },
  {
   "cell_type": "markdown",
   "id": "2ee6bca8",
   "metadata": {},
   "source": [
    "# Conversation"
   ]
  },
  {
   "cell_type": "markdown",
   "id": "a033c015",
   "metadata": {},
   "source": [
    "**User**\n",
    "\n",
    "I've got a neural network for a regression task, and I'm currently using mean squared error as the loss function. Could you help me switch to mean absolute error instead? Here's the code snippet: `loss = tf.reduce_mean(tf.square(y_true - y_pred))`.\n"
   ]
  }
 ],
 "metadata": {},
 "nbformat": 4,
 "nbformat_minor": 5
}
