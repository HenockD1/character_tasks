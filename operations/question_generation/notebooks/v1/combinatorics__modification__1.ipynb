{
 "cells": [
  {
   "cell_type": "markdown",
   "id": "e0ff9064",
   "metadata": {},
   "source": [
    "# Metadata\n",
    "\n",
    "**Python Topics** - algorithms > by_topic > combinatorics\n",
    "\n",
    "**Type** - modification\n",
    "\n",
    "**Target Number of Turns (User + Assistant)** - 2+\n"
   ]
  },
  {
   "cell_type": "markdown",
   "id": "a082270e",
   "metadata": {},
   "source": [
    "# Conversation"
   ]
  },
  {
   "cell_type": "markdown",
   "id": "a15c686a",
   "metadata": {},
   "source": [
    "**User**\n",
    "\n",
    "I'm working with combinations in my code and I need to filter out combinations that include a specific element. Here's what I have so far:\n",
    "```python\n",
    "from itertools import combinations\n",
    "\n",
    "def get_combinations(lst, r):\n",
    "    return list(combinations(lst, r))\n",
    "```\n",
    "How can I modify this function to exclude combinations containing the element 'a'?\n"
   ]
  }
 ],
 "metadata": {},
 "nbformat": 4,
 "nbformat_minor": 5
}
