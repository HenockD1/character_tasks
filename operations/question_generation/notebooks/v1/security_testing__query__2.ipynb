{
 "cells": [
  {
   "cell_type": "markdown",
   "id": "1d2502b4",
   "metadata": {},
   "source": [
    "# Metadata\n",
    "\n",
    "**Python Topics** - unit_testing_methodology > security_testing\n",
    "\n",
    "**Type** - query\n",
    "\n",
    "**Target Number of Turns (User + Assistant)** - 2+\n"
   ]
  },
  {
   "cell_type": "markdown",
   "id": "87623f7f",
   "metadata": {},
   "source": [
    "# Conversation"
   ]
  },
  {
   "cell_type": "markdown",
   "id": "1c4e90ba",
   "metadata": {},
   "source": [
    "**User**\n",
    "\n",
    "Can you show me how to write a test case in Python to check for XSS vulnerabilities?\n"
   ]
  }
 ],
 "metadata": {},
 "nbformat": 4,
 "nbformat_minor": 5
}
