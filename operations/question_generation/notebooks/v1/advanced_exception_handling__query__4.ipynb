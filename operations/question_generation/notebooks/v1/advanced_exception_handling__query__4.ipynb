{
 "cells": [
  {
   "cell_type": "markdown",
   "id": "acb8acb2",
   "metadata": {},
   "source": [
    "# Metadata\n",
    "\n",
    "**Python Topics** - python_language_and_scripting > advanced_exception_handling\n",
    "\n",
    "**Type** - query\n",
    "\n",
    "**Target Number of Turns (User + Assistant)** - 2+\n"
   ]
  },
  {
   "cell_type": "markdown",
   "id": "19e332b0",
   "metadata": {},
   "source": [
    "# Conversation"
   ]
  },
  {
   "cell_type": "markdown",
   "id": "c1d2f08b",
   "metadata": {},
   "source": [
    "**User**\n",
    "\n",
    "How do I log the stack trace of an exception without stopping the program's execution in Python?\n"
   ]
  }
 ],
 "metadata": {},
 "nbformat": 4,
 "nbformat_minor": 5
}
