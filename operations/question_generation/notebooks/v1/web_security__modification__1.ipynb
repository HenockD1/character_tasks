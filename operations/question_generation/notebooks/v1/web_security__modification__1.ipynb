{
 "cells": [
  {
   "cell_type": "markdown",
   "id": "52917393",
   "metadata": {},
   "source": [
    "# Metadata\n",
    "\n",
    "**Python Topics** - web_development > web_security\n",
    "\n",
    "**Type** - modification\n",
    "\n",
    "**Target Number of Turns (User + Assistant)** - 2+\n"
   ]
  },
  {
   "cell_type": "markdown",
   "id": "863a76d3",
   "metadata": {},
   "source": [
    "# Conversation"
   ]
  },
  {
   "cell_type": "markdown",
   "id": "d747d10a",
   "metadata": {},
   "source": [
    "**User**\n",
    "\n",
    "```python\n",
    "import hashlib\n",
    "password = 'mypassword'.encode()\n",
    "hashed_password = hashlib.sha256(password).hexdigest()\n",
    "```\n"
   ]
  }
 ],
 "metadata": {},
 "nbformat": 4,
 "nbformat_minor": 5
}
