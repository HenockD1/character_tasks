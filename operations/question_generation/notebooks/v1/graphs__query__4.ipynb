{
 "cells": [
  {
   "cell_type": "markdown",
   "id": "05ea1879",
   "metadata": {},
   "source": [
    "# Metadata\n",
    "\n",
    "**Python Topics** - algorithms > by_data_structure > graphs\n",
    "\n",
    "**Type** - query\n",
    "\n",
    "**Target Number of Turns (User + Assistant)** - 2+\n"
   ]
  },
  {
   "cell_type": "markdown",
   "id": "7232e72a",
   "metadata": {},
   "source": [
    "# Conversation"
   ]
  },
  {
   "cell_type": "markdown",
   "id": "47a3c268",
   "metadata": {},
   "source": [
    "**User**\n",
    "\n",
    "I need a Python example for implementing a topological sort on a directed acyclic graph. Can you help?\n"
   ]
  }
 ],
 "metadata": {},
 "nbformat": 4,
 "nbformat_minor": 5
}
