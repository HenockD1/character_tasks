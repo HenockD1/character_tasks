{
 "cells": [
  {
   "cell_type": "markdown",
   "id": "b918646c",
   "metadata": {},
   "source": [
    "# Metadata\n",
    "\n",
    "**Python Topics** - high_school > physics\n",
    "\n",
    "**Type** - modification\n",
    "\n",
    "**Target Number of Turns (User + Assistant)** - 2+\n"
   ]
  },
  {
   "cell_type": "markdown",
   "id": "555bef71",
   "metadata": {},
   "source": [
    "# Conversation"
   ]
  },
  {
   "cell_type": "markdown",
   "id": "d9aa60a7",
   "metadata": {},
   "source": [
    "**User**\n",
    "\n",
    "I've written a function to calculate the kinetic energy of an object, but I need it to also print the result. Can you modify it to do that? Here's the code: \n",
    "```python\n",
    "def kinetic_energy(mass, velocity):\n",
    "    return 0.5 * mass * velocity ** 2\n",
    "```\n"
   ]
  }
 ],
 "metadata": {},
 "nbformat": 4,
 "nbformat_minor": 5
}
