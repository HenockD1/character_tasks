{
 "cells": [
  {
   "cell_type": "markdown",
   "id": "2cf40eaf",
   "metadata": {},
   "source": [
    "# Metadata\n",
    "\n",
    "**Python Topics** - unit_testing_methodology > data_quality_tests\n",
    "\n",
    "**Type** - modification\n",
    "\n",
    "**Target Number of Turns (User + Assistant)** - 2+\n"
   ]
  },
  {
   "cell_type": "markdown",
   "id": "36d200c4",
   "metadata": {},
   "source": [
    "# Conversation"
   ]
  },
  {
   "cell_type": "markdown",
   "id": "ba6b1086",
   "metadata": {},
   "source": [
    "**User**\n",
    "\n",
    "I need to test a function that calculates the average of a list of integers. Can you write a test for me that confirms the function returns None when the list is empty?\n"
   ]
  }
 ],
 "metadata": {},
 "nbformat": 4,
 "nbformat_minor": 5
}
