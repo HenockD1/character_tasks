{
 "cells": [
  {
   "cell_type": "markdown",
   "id": "153d8dcf",
   "metadata": {},
   "source": [
    "# Metadata\n",
    "\n",
    "**Python Topics** - algorithms > by_topic > path_finding\n",
    "\n",
    "**Type** - modification\n",
    "\n",
    "**Target Number of Turns (User + Assistant)** - 2+\n"
   ]
  },
  {
   "cell_type": "markdown",
   "id": "304ebdf8",
   "metadata": {},
   "source": [
    "# Conversation"
   ]
  },
  {
   "cell_type": "markdown",
   "id": "da3f216b",
   "metadata": {},
   "source": [
    "**User**\n",
    "\n",
    "I need to optimize my A* algorithm for better performance. Could you refactor my heuristic function to use Manhattan distance instead of Euclidean? Here's the current heuristic part: ```def heuristic(a, b): return ((b[0] - a[0]) ** 2 + (b[1] - a[1]) ** 2) ** 0.5```\n"
   ]
  }
 ],
 "metadata": {},
 "nbformat": 4,
 "nbformat_minor": 5
}
