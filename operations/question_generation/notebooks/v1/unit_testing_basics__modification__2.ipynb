{
 "cells": [
  {
   "cell_type": "markdown",
   "id": "57493ff2",
   "metadata": {},
   "source": [
    "# Metadata\n",
    "\n",
    "**Python Topics** - unit_testing_methodology > unit_testing_basics\n",
    "\n",
    "**Type** - modification\n",
    "\n",
    "**Target Number of Turns (User + Assistant)** - 2+\n"
   ]
  },
  {
   "cell_type": "markdown",
   "id": "92eb309f",
   "metadata": {},
   "source": [
    "# Conversation"
   ]
  },
  {
   "cell_type": "markdown",
   "id": "edf3ec52",
   "metadata": {},
   "source": [
    "**User**\n",
    "\n",
    "I need to test if my function correctly raises a ValueError when given bad input. The function is supposed to only accept integers. Here's the function: ```def square_root(number): if not isinstance(number, int): raise ValueError('Input must be an integer') return number ** 0.5```\n"
   ]
  }
 ],
 "metadata": {},
 "nbformat": 4,
 "nbformat_minor": 5
}
