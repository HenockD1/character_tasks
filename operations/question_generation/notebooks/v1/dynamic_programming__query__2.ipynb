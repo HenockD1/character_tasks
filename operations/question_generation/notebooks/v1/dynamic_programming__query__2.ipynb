{
 "cells": [
  {
   "cell_type": "markdown",
   "id": "b63a1b92",
   "metadata": {},
   "source": [
    "# Metadata\n",
    "\n",
    "**Python Topics** - algorithms > by_topic > dynamic_programming\n",
    "\n",
    "**Type** - query\n",
    "\n",
    "**Target Number of Turns (User + Assistant)** - 2+\n"
   ]
  },
  {
   "cell_type": "markdown",
   "id": "3ef6fa95",
   "metadata": {},
   "source": [
    "# Conversation"
   ]
  },
  {
   "cell_type": "markdown",
   "id": "53961f2c",
   "metadata": {},
   "source": [
    "**User**\n",
    "\n",
    "Can you provide a Python function that uses dynamic programming to find the minimum number of coins needed for change?\n"
   ]
  }
 ],
 "metadata": {},
 "nbformat": 4,
 "nbformat_minor": 5
}
