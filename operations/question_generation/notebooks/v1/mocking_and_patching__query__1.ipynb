{
 "cells": [
  {
   "cell_type": "markdown",
   "id": "17c12662",
   "metadata": {},
   "source": [
    "# Metadata\n",
    "\n",
    "**Python Topics** - unit_testing_methodology > mocking_and_patching\n",
    "\n",
    "**Type** - query\n",
    "\n",
    "**Target Number of Turns (User + Assistant)** - 2+\n"
   ]
  },
  {
   "cell_type": "markdown",
   "id": "87eaad39",
   "metadata": {},
   "source": [
    "# Conversation"
   ]
  },
  {
   "cell_type": "markdown",
   "id": "f4da8c27",
   "metadata": {},
   "source": [
    "**User**\n",
    "\n",
    "What's the correct way to patch a method from an external library when writing a unit test?\n"
   ]
  }
 ],
 "metadata": {},
 "nbformat": 4,
 "nbformat_minor": 5
}
