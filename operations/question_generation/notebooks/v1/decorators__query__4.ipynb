{
 "cells": [
  {
   "cell_type": "markdown",
   "id": "8be703f9",
   "metadata": {},
   "source": [
    "# Metadata\n",
    "\n",
    "**Python Topics** - python_language_and_scripting > decorators\n",
    "\n",
    "**Type** - query\n",
    "\n",
    "**Target Number of Turns (User + Assistant)** - 2+\n"
   ]
  },
  {
   "cell_type": "markdown",
   "id": "4e5589c2",
   "metadata": {},
   "source": [
    "# Conversation"
   ]
  },
  {
   "cell_type": "markdown",
   "id": "74d2ab3d",
   "metadata": {},
   "source": [
    "**User**\n",
    "\n",
    "Could you demonstrate how to use decorators to enforce type checking on the arguments of a Python function?\n"
   ]
  }
 ],
 "metadata": {},
 "nbformat": 4,
 "nbformat_minor": 5
}
