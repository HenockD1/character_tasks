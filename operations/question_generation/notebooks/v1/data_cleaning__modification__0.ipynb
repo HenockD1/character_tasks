{
 "cells": [
  {
   "cell_type": "markdown",
   "id": "1097f085",
   "metadata": {},
   "source": [
    "# Metadata\n",
    "\n",
    "**Python Topics** - data_analysis > data_cleaning\n",
    "\n",
    "**Type** - modification\n",
    "\n",
    "**Target Number of Turns (User + Assistant)** - 2+\n"
   ]
  },
  {
   "cell_type": "markdown",
   "id": "705fd34e",
   "metadata": {},
   "source": [
    "# Conversation"
   ]
  },
  {
   "cell_type": "markdown",
   "id": "2f9df589",
   "metadata": {},
   "source": [
    "**User**\n",
    "\n",
    "I've got a DataFrame with some NaN values in the 'age' column. Can you help me fill them with the mean age? Here's the DataFrame: df = pd.DataFrame({'name': ['Alice', 'Bob', 'Charlie'], 'age': [25, None, 30]})\n"
   ]
  }
 ],
 "metadata": {},
 "nbformat": 4,
 "nbformat_minor": 5
}
