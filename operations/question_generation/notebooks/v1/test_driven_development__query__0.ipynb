{
 "cells": [
  {
   "cell_type": "markdown",
   "id": "6fc14ced",
   "metadata": {},
   "source": [
    "# Metadata\n",
    "\n",
    "**Python Topics** - unit_testing_methodology > test_driven_development\n",
    "\n",
    "**Type** - query\n",
    "\n",
    "**Target Number of Turns (User + Assistant)** - 2+\n"
   ]
  },
  {
   "cell_type": "markdown",
   "id": "51eaddfd",
   "metadata": {},
   "source": [
    "# Conversation"
   ]
  },
  {
   "cell_type": "markdown",
   "id": "6ce0125d",
   "metadata": {},
   "source": [
    "**User**\n",
    "\n",
    "Can you demonstrate how to write a failing test for a 'capitalize' function before implementing it?\n"
   ]
  }
 ],
 "metadata": {},
 "nbformat": 4,
 "nbformat_minor": 5
}
