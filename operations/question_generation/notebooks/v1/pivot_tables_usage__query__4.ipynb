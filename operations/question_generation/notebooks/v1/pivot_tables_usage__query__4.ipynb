{
 "cells": [
  {
   "cell_type": "markdown",
   "id": "4d2f0967",
   "metadata": {},
   "source": [
    "# Metadata\n",
    "\n",
    "**Python Topics** - data_analysis > pivot_tables_usage\n",
    "\n",
    "**Type** - query\n",
    "\n",
    "**Target Number of Turns (User + Assistant)** - 2+\n"
   ]
  },
  {
   "cell_type": "markdown",
   "id": "35bad773",
   "metadata": {},
   "source": [
    "# Conversation"
   ]
  },
  {
   "cell_type": "markdown",
   "id": "104d18fb",
   "metadata": {},
   "source": [
    "**User**\n",
    "\n",
    "I need to filter a pivot table to only show data for Q2 of the fiscal year. How can I do that in Python?\n"
   ]
  }
 ],
 "metadata": {},
 "nbformat": 4,
 "nbformat_minor": 5
}
