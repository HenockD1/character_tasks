{
 "cells": [
  {
   "cell_type": "markdown",
   "id": "955e547a",
   "metadata": {},
   "source": [
    "# Metadata\n",
    "\n",
    "**Python Topics** - algorithms > by_topic > bit_manipulation\n",
    "\n",
    "**Type** - modification\n",
    "\n",
    "**Target Number of Turns (User + Assistant)** - 2+\n"
   ]
  },
  {
   "cell_type": "markdown",
   "id": "17d2e3ff",
   "metadata": {},
   "source": [
    "# Conversation"
   ]
  },
  {
   "cell_type": "markdown",
   "id": "227a0307",
   "metadata": {},
   "source": [
    "**User**\n",
    "\n",
    "I have a function that counts the number of set bits in an integer. Can you help me optimize it using Brian Kernighan's algorithm? Here's the current code: ```def count_set_bits(n): count = 0 while n: count += n & 1 n >>= 1 return count```\n"
   ]
  }
 ],
 "metadata": {},
 "nbformat": 4,
 "nbformat_minor": 5
}
