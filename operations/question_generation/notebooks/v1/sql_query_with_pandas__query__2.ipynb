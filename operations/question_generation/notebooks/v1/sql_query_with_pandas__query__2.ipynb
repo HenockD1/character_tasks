{
 "cells": [
  {
   "cell_type": "markdown",
   "id": "ea9cd7f6",
   "metadata": {},
   "source": [
    "# Metadata\n",
    "\n",
    "**Python Topics** - data_analysis > sql_query_with_pandas\n",
    "\n",
    "**Type** - query\n",
    "\n",
    "**Target Number of Turns (User + Assistant)** - 2+\n"
   ]
  },
  {
   "cell_type": "markdown",
   "id": "ac9f7d0d",
   "metadata": {},
   "source": [
    "# Conversation"
   ]
  },
  {
   "cell_type": "markdown",
   "id": "caabda15",
   "metadata": {},
   "source": [
    "**User**\n",
    "\n",
    "Can you show me how to filter rows in a DataFrame using a SQL-like WHERE clause in pandas?\n"
   ]
  }
 ],
 "metadata": {},
 "nbformat": 4,
 "nbformat_minor": 5
}
