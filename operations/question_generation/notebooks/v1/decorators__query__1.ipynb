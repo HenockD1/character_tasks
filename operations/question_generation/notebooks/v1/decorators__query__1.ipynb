{
 "cells": [
  {
   "cell_type": "markdown",
   "id": "67062d04",
   "metadata": {},
   "source": [
    "# Metadata\n",
    "\n",
    "**Python Topics** - python_language_and_scripting > decorators\n",
    "\n",
    "**Type** - query\n",
    "\n",
    "**Target Number of Turns (User + Assistant)** - 2+\n"
   ]
  },
  {
   "cell_type": "markdown",
   "id": "0d248ea5",
   "metadata": {},
   "source": [
    "# Conversation"
   ]
  },
  {
   "cell_type": "markdown",
   "id": "5410c42d",
   "metadata": {},
   "source": [
    "**User**\n",
    "\n",
    "Can you show me how to write a decorator that logs the arguments passed to any function it wraps?\n"
   ]
  }
 ],
 "metadata": {},
 "nbformat": 4,
 "nbformat_minor": 5
}
