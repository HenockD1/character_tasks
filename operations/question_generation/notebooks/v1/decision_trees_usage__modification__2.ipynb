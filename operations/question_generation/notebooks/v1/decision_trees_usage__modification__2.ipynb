{
 "cells": [
  {
   "cell_type": "markdown",
   "id": "b5699975",
   "metadata": {},
   "source": [
    "# Metadata\n",
    "\n",
    "**Python Topics** - ml_principles > decision_trees_usage\n",
    "\n",
    "**Type** - modification\n",
    "\n",
    "**Target Number of Turns (User + Assistant)** - 2+\n"
   ]
  },
  {
   "cell_type": "markdown",
   "id": "f93316d5",
   "metadata": {},
   "source": [
    "# Conversation"
   ]
  },
  {
   "cell_type": "markdown",
   "id": "516a6d13",
   "metadata": {},
   "source": [
    "**User**\n",
    "\n",
    "I need to visualize the decision tree I've trained to understand how it's making decisions. Here's the code I have so far: `from sklearn.tree import DecisionTreeClassifier; clf = DecisionTreeClassifier(); clf.fit(X_train, y_train)`. How can I modify this to create and display a plot of the tree?\n"
   ]
  }
 ],
 "metadata": {},
 "nbformat": 4,
 "nbformat_minor": 5
}
