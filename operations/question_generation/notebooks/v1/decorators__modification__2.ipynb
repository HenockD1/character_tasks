{
 "cells": [
  {
   "cell_type": "markdown",
   "id": "d6cb74e6",
   "metadata": {},
   "source": [
    "# Metadata\n",
    "\n",
    "**Python Topics** - python_language_and_scripting > decorators\n",
    "\n",
    "**Type** - modification\n",
    "\n",
    "**Target Number of Turns (User + Assistant)** - 2+\n"
   ]
  },
  {
   "cell_type": "markdown",
   "id": "9f03df52",
   "metadata": {},
   "source": [
    "# Conversation"
   ]
  },
  {
   "cell_type": "markdown",
   "id": "df54bda3",
   "metadata": {},
   "source": [
    "**User**\n",
    "\n",
    "I need to modify this decorator to accept an optional argument that specifies a file to log the function calls to. If no file is specified, it should just print to the console. Here's the starting point: ```python\n",
    "def log_calls(logfile=None):\n",
    "    def decorator(func):\n",
    "        def wrapper(*args, **kwargs):\n",
    "            if logfile:\n",
    "                with open(logfile, 'a') as f:\n",
    "                    f.write(f'Calling {func.__name__}\\n')\n",
    "            else:\n",
    "                print(f'Calling {func.__name__}')\n",
    "            return func(*args, **kwargs)\n",
    "        return wrapper\n",
    "    return decorator\n",
    "```\n"
   ]
  }
 ],
 "metadata": {},
 "nbformat": 4,
 "nbformat_minor": 5
}
