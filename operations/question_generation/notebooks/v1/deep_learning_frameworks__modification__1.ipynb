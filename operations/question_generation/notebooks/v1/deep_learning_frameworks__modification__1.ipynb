{
 "cells": [
  {
   "cell_type": "markdown",
   "id": "effc2d0d",
   "metadata": {},
   "source": [
    "# Metadata\n",
    "\n",
    "**Python Topics** - deep_learning > deep_learning_frameworks\n",
    "\n",
    "**Type** - modification\n",
    "\n",
    "**Target Number of Turns (User + Assistant)** - 2+\n"
   ]
  },
  {
   "cell_type": "markdown",
   "id": "ddc11d8c",
   "metadata": {},
   "source": [
    "# Conversation"
   ]
  },
  {
   "cell_type": "markdown",
   "id": "c1ee12d5",
   "metadata": {},
   "source": [
    "**User**\n",
    "\n",
    "I'm using TensorFlow and I need to change the activation function of my existing dense layer from 'relu' to 'tanh'. Here's the current layer: \n",
    "\n",
    "```python\n",
    "model.add(Dense(64, activation='relu'))\n",
    "```\n",
    "How should I modify this line to use the 'tanh' activation function instead?\n"
   ]
  }
 ],
 "metadata": {},
 "nbformat": 4,
 "nbformat_minor": 5
}
