{
 "cells": [
  {
   "cell_type": "markdown",
   "id": "b82b6a6f",
   "metadata": {},
   "source": [
    "# Metadata\n",
    "\n",
    "**Python Topics** - algorithms > by_topic > game_theory\n",
    "\n",
    "**Type** - query\n",
    "\n",
    "**Target Number of Turns (User + Assistant)** - 2+\n"
   ]
  },
  {
   "cell_type": "markdown",
   "id": "86c701f6",
   "metadata": {},
   "source": [
    "# Conversation"
   ]
  },
  {
   "cell_type": "markdown",
   "id": "47ff1f87",
   "metadata": {},
   "source": [
    "**User**\n",
    "\n",
    "How do I write a Python function to perform a Knuth's algorithm for the Mastermind game?\n"
   ]
  }
 ],
 "metadata": {},
 "nbformat": 4,
 "nbformat_minor": 5
}
