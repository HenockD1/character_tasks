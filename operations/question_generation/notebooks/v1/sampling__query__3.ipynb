{
 "cells": [
  {
   "cell_type": "markdown",
   "id": "d2eaa1cd",
   "metadata": {},
   "source": [
    "# Metadata\n",
    "\n",
    "**Python Topics** - algorithms > by_topic > sampling\n",
    "\n",
    "**Type** - query\n",
    "\n",
    "**Target Number of Turns (User + Assistant)** - 2+\n"
   ]
  },
  {
   "cell_type": "markdown",
   "id": "968e58c7",
   "metadata": {},
   "source": [
    "# Conversation"
   ]
  },
  {
   "cell_type": "markdown",
   "id": "2ea498b1",
   "metadata": {},
   "source": [
    "**User**\n",
    "\n",
    "Can you demonstrate how to use Python to sample 'n' items from a list without replacement?\n"
   ]
  }
 ],
 "metadata": {},
 "nbformat": 4,
 "nbformat_minor": 5
}
