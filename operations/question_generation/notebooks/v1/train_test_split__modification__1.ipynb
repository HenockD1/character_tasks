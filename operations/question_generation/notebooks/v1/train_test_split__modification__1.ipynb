{
 "cells": [
  {
   "cell_type": "markdown",
   "id": "48bcf572",
   "metadata": {},
   "source": [
    "# Metadata\n",
    "\n",
    "**Python Topics** - ml_principles > train_test_split\n",
    "\n",
    "**Type** - modification\n",
    "\n",
    "**Target Number of Turns (User + Assistant)** - 2+\n"
   ]
  },
  {
   "cell_type": "markdown",
   "id": "029e8f3c",
   "metadata": {},
   "source": [
    "# Conversation"
   ]
  },
  {
   "cell_type": "markdown",
   "id": "ac4ba3dd",
   "metadata": {},
   "source": [
    "**User**\n",
    "\n",
    "Can you help me modify this code to implement a stratified split with sklearn's train_test_split? I want the 'y' labels to be evenly distributed in both sets. Current code snippet: `X_train, X_test, y_train, y_test = train_test_split(X, y, test_size=0.2)`\n"
   ]
  }
 ],
 "metadata": {},
 "nbformat": 4,
 "nbformat_minor": 5
}
