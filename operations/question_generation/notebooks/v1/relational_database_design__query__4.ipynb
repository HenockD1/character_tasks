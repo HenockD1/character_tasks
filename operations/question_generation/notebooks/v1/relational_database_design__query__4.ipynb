{
 "cells": [
  {
   "cell_type": "markdown",
   "id": "2bdfad85",
   "metadata": {},
   "source": [
    "# Metadata\n",
    "\n",
    "**Python Topics** - database > relational_database_design\n",
    "\n",
    "**Type** - query\n",
    "\n",
    "**Target Number of Turns (User + Assistant)** - 2+\n"
   ]
  },
  {
   "cell_type": "markdown",
   "id": "95220714",
   "metadata": {},
   "source": [
    "# Conversation"
   ]
  },
  {
   "cell_type": "markdown",
   "id": "c285ce4d",
   "metadata": {},
   "source": [
    "**User**\n",
    "\n",
    "In Python, how would I use sqlite3 to enforce referential integrity with ON DELETE CASCADE?\n"
   ]
  }
 ],
 "metadata": {},
 "nbformat": 4,
 "nbformat_minor": 5
}
