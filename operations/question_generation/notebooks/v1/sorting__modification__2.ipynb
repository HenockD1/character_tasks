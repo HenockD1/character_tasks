{
 "cells": [
  {
   "cell_type": "markdown",
   "id": "f4ff614e",
   "metadata": {},
   "source": [
    "# Metadata\n",
    "\n",
    "**Python Topics** - algorithms > by_topic > sorting\n",
    "\n",
    "**Type** - modification\n",
    "\n",
    "**Target Number of Turns (User + Assistant)** - 2+\n"
   ]
  },
  {
   "cell_type": "markdown",
   "id": "db30b498",
   "metadata": {},
   "source": [
    "# Conversation"
   ]
  },
  {
   "cell_type": "markdown",
   "id": "fbc5308c",
   "metadata": {},
   "source": [
    "**User**\n",
    "\n",
    "I'm trying to sort a list of tuples based on the second element in each tuple. Here's my list: items = [(2, 5), (1, 2), (4, 4), (2, 3), (2, 1)]. Could you adjust the code to sort this list by the second element of each tuple using a lambda function?\n"
   ]
  }
 ],
 "metadata": {},
 "nbformat": 4,
 "nbformat_minor": 5
}
