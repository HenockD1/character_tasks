{
 "cells": [
  {
   "cell_type": "markdown",
   "id": "409527a2",
   "metadata": {},
   "source": [
    "# Metadata\n",
    "\n",
    "**Python Topics** - ml_principles > model_accuracy_assessment\n",
    "\n",
    "**Type** - query\n",
    "\n",
    "**Target Number of Turns (User + Assistant)** - 2+\n"
   ]
  },
  {
   "cell_type": "markdown",
   "id": "3e64fd91",
   "metadata": {},
   "source": [
    "# Conversation"
   ]
  },
  {
   "cell_type": "markdown",
   "id": "77c13dbf",
   "metadata": {},
   "source": [
    "**User**\n",
    "\n",
    "How do I calculate the F1 score for a binary classifier in Python?\n"
   ]
  }
 ],
 "metadata": {},
 "nbformat": 4,
 "nbformat_minor": 5
}
