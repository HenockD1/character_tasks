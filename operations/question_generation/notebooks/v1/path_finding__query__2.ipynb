{
 "cells": [
  {
   "cell_type": "markdown",
   "id": "97cb0a40",
   "metadata": {},
   "source": [
    "# Metadata\n",
    "\n",
    "**Python Topics** - algorithms > by_topic > path_finding\n",
    "\n",
    "**Type** - query\n",
    "\n",
    "**Target Number of Turns (User + Assistant)** - 2+\n"
   ]
  },
  {
   "cell_type": "markdown",
   "id": "467e5231",
   "metadata": {},
   "source": [
    "# Conversation"
   ]
  },
  {
   "cell_type": "markdown",
   "id": "151f7825",
   "metadata": {},
   "source": [
    "**User**\n",
    "\n",
    "What's the Python code for a breadth-first search to find a path between two nodes in a tree?\n"
   ]
  }
 ],
 "metadata": {},
 "nbformat": 4,
 "nbformat_minor": 5
}
