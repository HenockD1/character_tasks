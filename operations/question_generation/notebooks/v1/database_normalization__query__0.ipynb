{
 "cells": [
  {
   "cell_type": "markdown",
   "id": "eb69a271",
   "metadata": {},
   "source": [
    "# Metadata\n",
    "\n",
    "**Python Topics** - database > database_normalization\n",
    "\n",
    "**Type** - query\n",
    "\n",
    "**Target Number of Turns (User + Assistant)** - 2+\n"
   ]
  },
  {
   "cell_type": "markdown",
   "id": "fac0f883",
   "metadata": {},
   "source": [
    "# Conversation"
   ]
  },
  {
   "cell_type": "markdown",
   "id": "1a5bd38d",
   "metadata": {},
   "source": [
    "**User**\n",
    "\n",
    "How do I normalize a database table to 2NF given a set of sample data?\n"
   ]
  }
 ],
 "metadata": {},
 "nbformat": 4,
 "nbformat_minor": 5
}
