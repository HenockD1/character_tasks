{
 "cells": [
  {
   "cell_type": "markdown",
   "id": "a05369d6",
   "metadata": {},
   "source": [
    "# Metadata\n",
    "\n",
    "**Python Topics** - database > indexing_and_search_performance\n",
    "\n",
    "**Type** - query\n",
    "\n",
    "**Target Number of Turns (User + Assistant)** - 2+\n"
   ]
  },
  {
   "cell_type": "markdown",
   "id": "80f90985",
   "metadata": {},
   "source": [
    "# Conversation"
   ]
  },
  {
   "cell_type": "markdown",
   "id": "907b2382",
   "metadata": {},
   "source": [
    "**User**\n",
    "\n",
    "How can I create an index on a VARCHAR column in SQLite using Python?\n"
   ]
  }
 ],
 "metadata": {},
 "nbformat": 4,
 "nbformat_minor": 5
}
