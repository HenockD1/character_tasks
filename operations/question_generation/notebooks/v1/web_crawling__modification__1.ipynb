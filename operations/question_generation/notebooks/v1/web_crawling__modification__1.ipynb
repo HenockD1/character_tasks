{
 "cells": [
  {
   "cell_type": "markdown",
   "id": "fa9415ab",
   "metadata": {},
   "source": [
    "# Metadata\n",
    "\n",
    "**Python Topics** - web_development > web_crawling\n",
    "\n",
    "**Type** - modification\n",
    "\n",
    "**Target Number of Turns (User + Assistant)** - 2+\n"
   ]
  },
  {
   "cell_type": "markdown",
   "id": "aa169184",
   "metadata": {},
   "source": [
    "# Conversation"
   ]
  },
  {
   "cell_type": "markdown",
   "id": "53e2dc9c",
   "metadata": {},
   "source": [
    "**User**\n",
    "\n",
    "I'm using requests to fetch a webpage in my Python script, but I need to add error handling for when the request fails. Could you show me how to modify the code to handle exceptions? Here's what I have so far: `import requests\n",
    "\n",
    "url = 'https://www.example.com'\n",
    "response = requests.get(url)\n",
    "print(response.text)`\n"
   ]
  }
 ],
 "metadata": {},
 "nbformat": 4,
 "nbformat_minor": 5
}
