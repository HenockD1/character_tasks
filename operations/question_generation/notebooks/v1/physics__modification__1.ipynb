{
 "cells": [
  {
   "cell_type": "markdown",
   "id": "c942c966",
   "metadata": {},
   "source": [
    "# Metadata\n",
    "\n",
    "**Python Topics** - high_school > physics\n",
    "\n",
    "**Type** - modification\n",
    "\n",
    "**Target Number of Turns (User + Assistant)** - 2+\n"
   ]
  },
  {
   "cell_type": "markdown",
   "id": "e92a63bf",
   "metadata": {},
   "source": [
    "# Conversation"
   ]
  },
  {
   "cell_type": "markdown",
   "id": "403617e7",
   "metadata": {},
   "source": [
    "**User**\n",
    "\n",
    "I'm trying to simulate projectile motion, but my function only calculates the horizontal distance. Could you help me extend it to also calculate the maximum height reached? Here's what I have so far: \n",
    "```python\n",
    "def projectile_distance(velocity, angle):\n",
    "    import math\n",
    "    g = 9.81\n",
    "    distance = (velocity ** 2) * math.sin(2 * math.radians(angle)) / g\n",
    "    return distance\n",
    "```\n"
   ]
  }
 ],
 "metadata": {},
 "nbformat": 4,
 "nbformat_minor": 5
}
