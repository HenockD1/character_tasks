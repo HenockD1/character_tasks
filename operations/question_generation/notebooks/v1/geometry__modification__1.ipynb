{
 "cells": [
  {
   "cell_type": "markdown",
   "id": "671352c7",
   "metadata": {},
   "source": [
    "# Metadata\n",
    "\n",
    "**Python Topics** - algorithms > by_topic > geometry\n",
    "\n",
    "**Type** - modification\n",
    "\n",
    "**Target Number of Turns (User + Assistant)** - 2+\n"
   ]
  },
  {
   "cell_type": "markdown",
   "id": "119d77fb",
   "metadata": {},
   "source": [
    "# Conversation"
   ]
  },
  {
   "cell_type": "markdown",
   "id": "3df32a85",
   "metadata": {},
   "source": [
    "**User**\n",
    "\n",
    "Can you modify this function so that it checks if the coordinates of a point (x, y) are within a circle centered at the origin with a given radius? Here's what I have so far:\n",
    "```python\n",
    "def is_point_in_circle(x, y, radius):\n",
    "    return x**2 + y**2 <= radius**2\n",
    "```\n"
   ]
  }
 ],
 "metadata": {},
 "nbformat": 4,
 "nbformat_minor": 5
}
