{
 "cells": [
  {
   "cell_type": "markdown",
   "id": "ff19ff12",
   "metadata": {},
   "source": [
    "# Metadata\n",
    "\n",
    "**Python Topics** - unit_testing_methodology > mocking_and_patching\n",
    "\n",
    "**Type** - query\n",
    "\n",
    "**Target Number of Turns (User + Assistant)** - 2+\n"
   ]
  },
  {
   "cell_type": "markdown",
   "id": "7311b147",
   "metadata": {},
   "source": [
    "# Conversation"
   ]
  },
  {
   "cell_type": "markdown",
   "id": "e1b08fb5",
   "metadata": {},
   "source": [
    "**User**\n",
    "\n",
    "Can you show me an example of using `mock.patch.object` to override a class method during testing?\n"
   ]
  }
 ],
 "metadata": {},
 "nbformat": 4,
 "nbformat_minor": 5
}
