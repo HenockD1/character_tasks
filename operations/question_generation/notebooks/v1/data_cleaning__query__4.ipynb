{
 "cells": [
  {
   "cell_type": "markdown",
   "id": "482de465",
   "metadata": {},
   "source": [
    "# Metadata\n",
    "\n",
    "**Python Topics** - data_analysis > data_cleaning\n",
    "\n",
    "**Type** - query\n",
    "\n",
    "**Target Number of Turns (User + Assistant)** - 2+\n"
   ]
  },
  {
   "cell_type": "markdown",
   "id": "4b428e8b",
   "metadata": {},
   "source": [
    "# Conversation"
   ]
  },
  {
   "cell_type": "markdown",
   "id": "ee57fc2c",
   "metadata": {},
   "source": [
    "**User**\n",
    "\n",
    "How can I convert a column of string dates in 'dd/mm/yyyy' format to datetime objects in pandas?\n"
   ]
  }
 ],
 "metadata": {},
 "nbformat": 4,
 "nbformat_minor": 5
}
