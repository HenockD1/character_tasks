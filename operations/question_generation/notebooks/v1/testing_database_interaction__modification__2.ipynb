{
 "cells": [
  {
   "cell_type": "markdown",
   "id": "dd804196",
   "metadata": {},
   "source": [
    "# Metadata\n",
    "\n",
    "**Python Topics** - unit_testing_methodology > testing_database_interaction\n",
    "\n",
    "**Type** - modification\n",
    "\n",
    "**Target Number of Turns (User + Assistant)** - 2+\n"
   ]
  },
  {
   "cell_type": "markdown",
   "id": "478a2c86",
   "metadata": {},
   "source": [
    "# Conversation"
   ]
  },
  {
   "cell_type": "markdown",
   "id": "ac41c9da",
   "metadata": {},
   "source": [
    "**User**\n",
    "\n",
    "How can I use a testing framework to assert that a certain query runs when I call my function? Here's the function I want to test: ```python\n",
    "def delete_user(user_id): \n",
    "    conn = connect_to_db() \n",
    "    conn.execute('DELETE FROM users WHERE id = ?', (user_id,)) \n",
    "    conn.commit() \n",
    "```\n"
   ]
  }
 ],
 "metadata": {},
 "nbformat": 4,
 "nbformat_minor": 5
}
