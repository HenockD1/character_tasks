{
 "cells": [
  {
   "cell_type": "markdown",
   "id": "c588b5fc",
   "metadata": {},
   "source": [
    "# Metadata\n",
    "\n",
    "**Python Topics** - deep_learning > loss_functions\n",
    "\n",
    "**Type** - modification\n",
    "\n",
    "**Target Number of Turns (User + Assistant)** - 2+\n"
   ]
  },
  {
   "cell_type": "markdown",
   "id": "6a7e4042",
   "metadata": {},
   "source": [
    "# Conversation"
   ]
  },
  {
   "cell_type": "markdown",
   "id": "659fe906",
   "metadata": {},
   "source": [
    "**User**\n",
    "\n",
    "In my deep learning model, I'm using categorical cross-entropy, but I think it's not suitable for my label distribution. Can you modify the code to use sparse categorical cross-entropy? Here's the relevant line: `loss = tf.keras.losses.categorical_crossentropy(y_true, y_pred)`.\n"
   ]
  }
 ],
 "metadata": {},
 "nbformat": 4,
 "nbformat_minor": 5
}
