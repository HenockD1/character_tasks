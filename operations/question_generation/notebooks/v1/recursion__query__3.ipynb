{
 "cells": [
  {
   "cell_type": "markdown",
   "id": "daee6413",
   "metadata": {},
   "source": [
    "# Metadata\n",
    "\n",
    "**Python Topics** - algorithms > by_topic > recursion\n",
    "\n",
    "**Type** - query\n",
    "\n",
    "**Target Number of Turns (User + Assistant)** - 2+\n"
   ]
  },
  {
   "cell_type": "markdown",
   "id": "5f7679a9",
   "metadata": {},
   "source": [
    "# Conversation"
   ]
  },
  {
   "cell_type": "markdown",
   "id": "2301480a",
   "metadata": {},
   "source": [
    "**User**\n",
    "\n",
    "I'm curious, how can you use recursion to reverse a string in Python?\n"
   ]
  }
 ],
 "metadata": {},
 "nbformat": 4,
 "nbformat_minor": 5
}
