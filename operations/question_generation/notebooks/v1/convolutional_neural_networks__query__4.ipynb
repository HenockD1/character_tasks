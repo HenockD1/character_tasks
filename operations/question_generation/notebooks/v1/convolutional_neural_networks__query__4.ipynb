{
 "cells": [
  {
   "cell_type": "markdown",
   "id": "a4bd1970",
   "metadata": {},
   "source": [
    "# Metadata\n",
    "\n",
    "**Python Topics** - deep_learning > convolutional_neural_networks\n",
    "\n",
    "**Type** - query\n",
    "\n",
    "**Target Number of Turns (User + Assistant)** - 2+\n"
   ]
  },
  {
   "cell_type": "markdown",
   "id": "3a722c71",
   "metadata": {},
   "source": [
    "# Conversation"
   ]
  },
  {
   "cell_type": "markdown",
   "id": "5338334a",
   "metadata": {},
   "source": [
    "**User**\n",
    "\n",
    "How do I use a pre-trained CNN model in Keras to extract features from new images?\n"
   ]
  }
 ],
 "metadata": {},
 "nbformat": 4,
 "nbformat_minor": 5
}
