{
 "cells": [
  {
   "cell_type": "markdown",
   "id": "32e9d4ec",
   "metadata": {},
   "source": [
    "# Metadata\n",
    "\n",
    "**Python Topics** - python_language_and_scripting > descriptors\n",
    "\n",
    "**Type** - query\n",
    "\n",
    "**Target Number of Turns (User + Assistant)** - 2+\n"
   ]
  },
  {
   "cell_type": "markdown",
   "id": "73da7ba9",
   "metadata": {},
   "source": [
    "# Conversation"
   ]
  },
  {
   "cell_type": "markdown",
   "id": "ad937452",
   "metadata": {},
   "source": [
    "**User**\n",
    "\n",
    "How can I use a descriptor to manage access to an attribute in a Python class?\n"
   ]
  }
 ],
 "metadata": {},
 "nbformat": 4,
 "nbformat_minor": 5
}
