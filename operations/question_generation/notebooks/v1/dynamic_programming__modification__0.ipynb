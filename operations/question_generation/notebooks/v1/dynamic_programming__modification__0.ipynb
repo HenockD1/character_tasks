{
 "cells": [
  {
   "cell_type": "markdown",
   "id": "c3923901",
   "metadata": {},
   "source": [
    "# Metadata\n",
    "\n",
    "**Python Topics** - algorithms > by_topic > dynamic_programming\n",
    "\n",
    "**Type** - modification\n",
    "\n",
    "**Target Number of Turns (User + Assistant)** - 2+\n"
   ]
  },
  {
   "cell_type": "markdown",
   "id": "5f661dee",
   "metadata": {},
   "source": [
    "# Conversation"
   ]
  },
  {
   "cell_type": "markdown",
   "id": "8f4b8bf8",
   "metadata": {},
   "source": [
    "**User**\n",
    "\n",
    "I have a function that computes the nth Fibonacci number using recursion. Can you modify it to use dynamic programming for a more efficient solution? Here's the code: def fib(n): return n if n <= 1 else fib(n-1) + fib(n-2).\n"
   ]
  }
 ],
 "metadata": {},
 "nbformat": 4,
 "nbformat_minor": 5
}
