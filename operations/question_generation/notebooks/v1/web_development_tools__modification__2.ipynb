{
 "cells": [
  {
   "cell_type": "markdown",
   "id": "e5bb93b9",
   "metadata": {},
   "source": [
    "# Metadata\n",
    "\n",
    "**Python Topics** - web_development > web_development_tools\n",
    "\n",
    "**Type** - modification\n",
    "\n",
    "**Target Number of Turns (User + Assistant)** - 2+\n"
   ]
  },
  {
   "cell_type": "markdown",
   "id": "6e3c8a12",
   "metadata": {},
   "source": [
    "# Conversation"
   ]
  },
  {
   "cell_type": "markdown",
   "id": "ad5d2647",
   "metadata": {},
   "source": [
    "**User**\n",
    "\n",
    "I have a Selenium test script for my web app, but I want to run it headless. Here's the snippet that initializes the browser:\n",
    "```python\n",
    "from selenium import webdriver\n",
    "\n",
    "browser = webdriver.Chrome()\n",
    "```\n",
    "Can you modify it to run Chrome in headless mode?\n"
   ]
  }
 ],
 "metadata": {},
 "nbformat": 4,
 "nbformat_minor": 5
}
