{
 "cells": [
  {
   "cell_type": "markdown",
   "id": "d8f2bd37",
   "metadata": {},
   "source": [
    "# Metadata\n",
    "\n",
    "**Python Topics** - ml_principles > knn_classification\n",
    "\n",
    "**Type** - query\n",
    "\n",
    "**Target Number of Turns (User + Assistant)** - 2+\n"
   ]
  },
  {
   "cell_type": "markdown",
   "id": "25ee2420",
   "metadata": {},
   "source": [
    "# Conversation"
   ]
  },
  {
   "cell_type": "markdown",
   "id": "560e081c",
   "metadata": {},
   "source": [
    "**User**\n",
    "\n",
    "Can you demonstrate how to normalize features before applying KNN?\n"
   ]
  }
 ],
 "metadata": {},
 "nbformat": 4,
 "nbformat_minor": 5
}
