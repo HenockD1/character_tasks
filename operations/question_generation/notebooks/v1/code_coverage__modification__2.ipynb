{
 "cells": [
  {
   "cell_type": "markdown",
   "id": "27bbf854",
   "metadata": {},
   "source": [
    "# Metadata\n",
    "\n",
    "**Python Topics** - unit_testing_methodology > code_coverage\n",
    "\n",
    "**Type** - modification\n",
    "\n",
    "**Target Number of Turns (User + Assistant)** - 2+\n"
   ]
  },
  {
   "cell_type": "markdown",
   "id": "b67d33e8",
   "metadata": {},
   "source": [
    "# Conversation"
   ]
  },
  {
   "cell_type": "markdown",
   "id": "376484dc",
   "metadata": {},
   "source": [
    "**User**\n",
    "\n",
    "I'm trying to improve my test suite. Can you modify this test to use `pytest`'s parametrize feature for better code coverage? Current test: ```def test_multiply(): assert multiply(3, 4) == 12``` Here's the `multiply` function: ```def multiply(x, y): return x * y```\n"
   ]
  }
 ],
 "metadata": {},
 "nbformat": 4,
 "nbformat_minor": 5
}
