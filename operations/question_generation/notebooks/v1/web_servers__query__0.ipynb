{
 "cells": [
  {
   "cell_type": "markdown",
   "id": "41c267c0",
   "metadata": {},
   "source": [
    "# Metadata\n",
    "\n",
    "**Python Topics** - web_development > web_servers\n",
    "\n",
    "**Type** - query\n",
    "\n",
    "**Target Number of Turns (User + Assistant)** - 2+\n"
   ]
  },
  {
   "cell_type": "markdown",
   "id": "23ea1939",
   "metadata": {},
   "source": [
    "# Conversation"
   ]
  },
  {
   "cell_type": "markdown",
   "id": "491cbcb8",
   "metadata": {},
   "source": [
    "**User**\n",
    "\n",
    "How can I set up a simple Flask server to serve a 'Hello, World!' page?\n"
   ]
  }
 ],
 "metadata": {},
 "nbformat": 4,
 "nbformat_minor": 5
}
