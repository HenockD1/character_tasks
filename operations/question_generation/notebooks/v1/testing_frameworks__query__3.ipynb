{
 "cells": [
  {
   "cell_type": "markdown",
   "id": "9f7400e9",
   "metadata": {},
   "source": [
    "# Metadata\n",
    "\n",
    "**Python Topics** - unit_testing_methodology > testing_frameworks\n",
    "\n",
    "**Type** - query\n",
    "\n",
    "**Target Number of Turns (User + Assistant)** - 2+\n"
   ]
  },
  {
   "cell_type": "markdown",
   "id": "c984e499",
   "metadata": {},
   "source": [
    "# Conversation"
   ]
  },
  {
   "cell_type": "markdown",
   "id": "4b78d871",
   "metadata": {},
   "source": [
    "**User**\n",
    "\n",
    "Could you demonstrate how to mock a file read operation in a test using the mock library?\n"
   ]
  }
 ],
 "metadata": {},
 "nbformat": 4,
 "nbformat_minor": 5
}
