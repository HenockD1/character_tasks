{
 "cells": [
  {
   "cell_type": "markdown",
   "id": "e7b8f7fc",
   "metadata": {},
   "source": [
    "# Metadata\n",
    "\n",
    "**Python Topics** - python_language_and_scripting > dynamic_programming_and_closures\n",
    "\n",
    "**Type** - query\n",
    "\n",
    "**Target Number of Turns (User + Assistant)** - 2+\n"
   ]
  },
  {
   "cell_type": "markdown",
   "id": "7bd8ea4b",
   "metadata": {},
   "source": [
    "# Conversation"
   ]
  },
  {
   "cell_type": "markdown",
   "id": "2622915b",
   "metadata": {},
   "source": [
    "**User**\n",
    "\n",
    "In Python, how can I use a closure to generate a series of unique functions that each multiply by a different factor?\n"
   ]
  }
 ],
 "metadata": {},
 "nbformat": 4,
 "nbformat_minor": 5
}
