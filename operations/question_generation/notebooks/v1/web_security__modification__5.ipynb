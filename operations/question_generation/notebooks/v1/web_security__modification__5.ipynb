{
 "cells": [
  {
   "cell_type": "markdown",
   "id": "369c9572",
   "metadata": {},
   "source": [
    "# Metadata\n",
    "\n",
    "**Python Topics** - web_development > web_security\n",
    "\n",
    "**Type** - modification\n",
    "\n",
    "**Target Number of Turns (User + Assistant)** - 2+\n"
   ]
  },
  {
   "cell_type": "markdown",
   "id": "d77c6610",
   "metadata": {},
   "source": [
    "# Conversation"
   ]
  },
  {
   "cell_type": "markdown",
   "id": "19013dbd",
   "metadata": {},
   "source": [
    "**User**\n",
    "\n",
    "```python\n",
    "from flask import Flask, make_response\n",
    "app = Flask(__name__)\n",
    "\n",
    "@app.route('/')\n",
    "def index():\n",
    "    resp = make_response('Setting a secure cookie')\n",
    "    resp.set_cookie('session_token', 'your_secure_token')\n",
    "    return resp\n",
    "```\n"
   ]
  }
 ],
 "metadata": {},
 "nbformat": 4,
 "nbformat_minor": 5
}
