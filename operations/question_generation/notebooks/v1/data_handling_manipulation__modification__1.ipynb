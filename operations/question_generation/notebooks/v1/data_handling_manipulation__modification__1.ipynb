{
 "cells": [
  {
   "cell_type": "markdown",
   "id": "9e879e9b",
   "metadata": {},
   "source": [
    "# Metadata\n",
    "\n",
    "**Python Topics** - python_language_and_scripting > data_handling_manipulation\n",
    "\n",
    "**Type** - modification\n",
    "\n",
    "**Target Number of Turns (User + Assistant)** - 2+\n"
   ]
  },
  {
   "cell_type": "markdown",
   "id": "d1341e21",
   "metadata": {},
   "source": [
    "# Conversation"
   ]
  },
  {
   "cell_type": "markdown",
   "id": "23d696bd",
   "metadata": {},
   "source": [
    "**User**\n",
    "\n",
    "I'm working with a CSV file and I've loaded it into a list of dictionaries using csv.DictReader. However, I need to convert all the string numbers into integers. Could you show me how to modify the list in place? Here's a sample row from the list: [{'Name': 'John', 'Age': '30', 'Score': '85'}]\n"
   ]
  }
 ],
 "metadata": {},
 "nbformat": 4,
 "nbformat_minor": 5
}
