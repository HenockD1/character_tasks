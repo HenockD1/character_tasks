{
 "cells": [
  {
   "cell_type": "markdown",
   "id": "bb99ff1e",
   "metadata": {},
   "source": [
    "# Metadata\n",
    "\n",
    "**Python Topics** - ml_principles > model_accuracy_assessment\n",
    "\n",
    "**Type** - modification\n",
    "\n",
    "**Target Number of Turns (User + Assistant)** - 2+\n"
   ]
  },
  {
   "cell_type": "markdown",
   "id": "82e2d163",
   "metadata": {},
   "source": [
    "# Conversation"
   ]
  },
  {
   "cell_type": "markdown",
   "id": "b7f5ffda",
   "metadata": {},
   "source": [
    "**User**\n",
    "\n",
    "I need to include an ROC curve in my report. Can you tweak this snippet to plot an ROC curve for the given binary classifier? Here's what I have so far: from sklearn.metrics import roc_auc_score\n",
    "y_true = [0, 1, 0, 1]\n",
    "y_scores = [0.1, 0.4, 0.35, 0.8]\n",
    "print(roc_auc_score(y_true, y_scores))\n"
   ]
  }
 ],
 "metadata": {},
 "nbformat": 4,
 "nbformat_minor": 5
}
