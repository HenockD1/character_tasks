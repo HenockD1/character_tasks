{
 "cells": [
  {
   "cell_type": "markdown",
   "id": "d416380f",
   "metadata": {},
   "source": [
    "# Metadata\n",
    "\n",
    "**Python Topics** - algorithms > by_topic > sampling\n",
    "\n",
    "**Type** - modification\n",
    "\n",
    "**Target Number of Turns (User + Assistant)** - 2+\n"
   ]
  },
  {
   "cell_type": "markdown",
   "id": "b9fba91d",
   "metadata": {},
   "source": [
    "# Conversation"
   ]
  },
  {
   "cell_type": "markdown",
   "id": "ae43cc98",
   "metadata": {},
   "source": [
    "**User**\n",
    "\n",
    "I'm trying to implement reservoir sampling in my code to select k items from a large stream of numbers. Here's what I've got so far: `import random\n",
    "stream = [i for i in range(100)]\n",
    "k = 5\n",
    "sample = []\n",
    "for i, item in enumerate(stream):\n",
    "    if i < k:\n",
    "        sample.append(item)\n",
    "    elif i >= k and random.random() < k / (i + 1):\n",
    "        replace_index = random.randint(0, k - 1)\n",
    "        sample[replace_index] = item\n",
    "print(sample)` Can you refactor this to make it more efficient or pythonic?\n"
   ]
  }
 ],
 "metadata": {},
 "nbformat": 4,
 "nbformat_minor": 5
}
