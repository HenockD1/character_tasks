{
 "cells": [
  {
   "cell_type": "markdown",
   "id": "28755b3c",
   "metadata": {},
   "source": [
    "# Metadata\n",
    "\n",
    "**Python Topics** - unit_testing_methodology > integration_testing\n",
    "\n",
    "**Type** - query\n",
    "\n",
    "**Target Number of Turns (User + Assistant)** - 2+\n"
   ]
  },
  {
   "cell_type": "markdown",
   "id": "71017d40",
   "metadata": {},
   "source": [
    "# Conversation"
   ]
  },
  {
   "cell_type": "markdown",
   "id": "f7126003",
   "metadata": {},
   "source": [
    "**User**\n",
    "\n",
    "Can you show me an example of using Python's unittest.mock to test a function that makes an API call?\n"
   ]
  }
 ],
 "metadata": {},
 "nbformat": 4,
 "nbformat_minor": 5
}
