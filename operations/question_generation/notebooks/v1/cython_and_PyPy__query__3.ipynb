{
 "cells": [
  {
   "cell_type": "markdown",
   "id": "b866d55a",
   "metadata": {},
   "source": [
    "# Metadata\n",
    "\n",
    "**Python Topics** - python_language_and_scripting > cython_and_PyPy\n",
    "\n",
    "**Type** - query\n",
    "\n",
    "**Target Number of Turns (User + Assistant)** - 2+\n"
   ]
  },
  {
   "cell_type": "markdown",
   "id": "9b08081e",
   "metadata": {},
   "source": [
    "# Conversation"
   ]
  },
  {
   "cell_type": "markdown",
   "id": "2c498992",
   "metadata": {},
   "source": [
    "**User**\n",
    "\n",
    "What steps should I follow to run a Python program using PyPy for faster execution?\n"
   ]
  }
 ],
 "metadata": {},
 "nbformat": 4,
 "nbformat_minor": 5
}
