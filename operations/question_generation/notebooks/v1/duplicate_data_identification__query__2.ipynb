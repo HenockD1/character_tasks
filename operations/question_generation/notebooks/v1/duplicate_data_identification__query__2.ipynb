{
 "cells": [
  {
   "cell_type": "markdown",
   "id": "036c7272",
   "metadata": {},
   "source": [
    "# Metadata\n",
    "\n",
    "**Python Topics** - data_analysis > duplicate_data_identification\n",
    "\n",
    "**Type** - query\n",
    "\n",
    "**Target Number of Turns (User + Assistant)** - 2+\n"
   ]
  },
  {
   "cell_type": "markdown",
   "id": "d615f1ba",
   "metadata": {},
   "source": [
    "# Conversation"
   ]
  },
  {
   "cell_type": "markdown",
   "id": "8e97b7b1",
   "metadata": {},
   "source": [
    "**User**\n",
    "\n",
    "Can you show me a way to drop duplicate values from a DataFrame, but keep the first occurrence in Python?\n"
   ]
  }
 ],
 "metadata": {},
 "nbformat": 4,
 "nbformat_minor": 5
}
