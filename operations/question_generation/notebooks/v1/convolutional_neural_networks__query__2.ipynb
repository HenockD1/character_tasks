{
 "cells": [
  {
   "cell_type": "markdown",
   "id": "76bdc1fe",
   "metadata": {},
   "source": [
    "# Metadata\n",
    "\n",
    "**Python Topics** - deep_learning > convolutional_neural_networks\n",
    "\n",
    "**Type** - query\n",
    "\n",
    "**Target Number of Turns (User + Assistant)** - 2+\n"
   ]
  },
  {
   "cell_type": "markdown",
   "id": "751199f4",
   "metadata": {},
   "source": [
    "# Conversation"
   ]
  },
  {
   "cell_type": "markdown",
   "id": "84fe3edf",
   "metadata": {},
   "source": [
    "**User**\n",
    "\n",
    "What's the correct way to normalize input data for a CNN using PyTorch?\n"
   ]
  }
 ],
 "metadata": {},
 "nbformat": 4,
 "nbformat_minor": 5
}
