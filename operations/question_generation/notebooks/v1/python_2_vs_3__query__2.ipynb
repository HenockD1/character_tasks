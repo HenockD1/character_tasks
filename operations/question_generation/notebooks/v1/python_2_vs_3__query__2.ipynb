{
 "cells": [
  {
   "cell_type": "markdown",
   "id": "2ff560c7",
   "metadata": {},
   "source": [
    "# Metadata\n",
    "\n",
    "**Python Topics** - python_language_and_scripting > python_2_vs_3\n",
    "\n",
    "**Type** - query\n",
    "\n",
    "**Target Number of Turns (User + Assistant)** - 2+\n"
   ]
  },
  {
   "cell_type": "markdown",
   "id": "e2fd5ef1",
   "metadata": {},
   "source": [
    "# Conversation"
   ]
  },
  {
   "cell_type": "markdown",
   "id": "93b90dce",
   "metadata": {},
   "source": [
    "**User**\n",
    "\n",
    "What's the difference in the division operator between Python 2 and Python 3?\n"
   ]
  }
 ],
 "metadata": {},
 "nbformat": 4,
 "nbformat_minor": 5
}
