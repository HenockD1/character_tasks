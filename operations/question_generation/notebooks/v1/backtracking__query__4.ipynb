{
 "cells": [
  {
   "cell_type": "markdown",
   "id": "9537d514",
   "metadata": {},
   "source": [
    "# Metadata\n",
    "\n",
    "**Python Topics** - algorithms > by_topic > backtracking\n",
    "\n",
    "**Type** - query\n",
    "\n",
    "**Target Number of Turns (User + Assistant)** - 2+\n"
   ]
  },
  {
   "cell_type": "markdown",
   "id": "900aecbe",
   "metadata": {},
   "source": [
    "# Conversation"
   ]
  },
  {
   "cell_type": "markdown",
   "id": "40471209",
   "metadata": {},
   "source": [
    "**User**\n",
    "\n",
    "How would I write a backtracking algorithm in Python to solve the rat in a maze problem?\n"
   ]
  }
 ],
 "metadata": {},
 "nbformat": 4,
 "nbformat_minor": 5
}
