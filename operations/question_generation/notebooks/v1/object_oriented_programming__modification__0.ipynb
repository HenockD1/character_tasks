{
 "cells": [
  {
   "cell_type": "markdown",
   "id": "785405df",
   "metadata": {},
   "source": [
    "# Metadata\n",
    "\n",
    "**Python Topics** - python_language_and_scripting > object_oriented_programming\n",
    "\n",
    "**Type** - modification\n",
    "\n",
    "**Target Number of Turns (User + Assistant)** - 2+\n"
   ]
  },
  {
   "cell_type": "markdown",
   "id": "230f6783",
   "metadata": {},
   "source": [
    "# Conversation"
   ]
  },
  {
   "cell_type": "markdown",
   "id": "eb6c25c8",
   "metadata": {},
   "source": [
    "**User**\n",
    "\n",
    "I've got a class `Dog` with a method `bark`. Can you help me add another method `sit` that prints 'Sitting' when called?\n"
   ]
  }
 ],
 "metadata": {},
 "nbformat": 4,
 "nbformat_minor": 5
}
