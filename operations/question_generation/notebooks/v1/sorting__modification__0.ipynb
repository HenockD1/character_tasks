{
 "cells": [
  {
   "cell_type": "markdown",
   "id": "d96741cf",
   "metadata": {},
   "source": [
    "# Metadata\n",
    "\n",
    "**Python Topics** - algorithms > by_topic > sorting\n",
    "\n",
    "**Type** - modification\n",
    "\n",
    "**Target Number of Turns (User + Assistant)** - 2+\n"
   ]
  },
  {
   "cell_type": "markdown",
   "id": "7da59578",
   "metadata": {},
   "source": [
    "# Conversation"
   ]
  },
  {
   "cell_type": "markdown",
   "id": "3208f6b8",
   "metadata": {},
   "source": [
    "**User**\n",
    "\n",
    "I have this list of numbers: nums = [5, 2, 9, 1]. Can you modify the code to sort it in descending order using a built-in Python function?\n"
   ]
  }
 ],
 "metadata": {},
 "nbformat": 4,
 "nbformat_minor": 5
}
