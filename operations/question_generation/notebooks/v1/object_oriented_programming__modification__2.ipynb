{
 "cells": [
  {
   "cell_type": "markdown",
   "id": "ce8362a9",
   "metadata": {},
   "source": [
    "# Metadata\n",
    "\n",
    "**Python Topics** - python_language_and_scripting > object_oriented_programming\n",
    "\n",
    "**Type** - modification\n",
    "\n",
    "**Target Number of Turns (User + Assistant)** - 2+\n"
   ]
  },
  {
   "cell_type": "markdown",
   "id": "f41047da",
   "metadata": {},
   "source": [
    "# Conversation"
   ]
  },
  {
   "cell_type": "markdown",
   "id": "3805993b",
   "metadata": {},
   "source": [
    "**User**\n",
    "\n",
    "I have a class `Calculator` with methods for `add` and `subtract`. Could you write a new method `multiply` that takes two numbers and returns their product?\n"
   ]
  }
 ],
 "metadata": {},
 "nbformat": 4,
 "nbformat_minor": 5
}
