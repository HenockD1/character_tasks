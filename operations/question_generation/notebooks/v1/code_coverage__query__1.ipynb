{
 "cells": [
  {
   "cell_type": "markdown",
   "id": "73e2e4dd",
   "metadata": {},
   "source": [
    "# Metadata\n",
    "\n",
    "**Python Topics** - unit_testing_methodology > code_coverage\n",
    "\n",
    "**Type** - query\n",
    "\n",
    "**Target Number of Turns (User + Assistant)** - 2+\n"
   ]
  },
  {
   "cell_type": "markdown",
   "id": "719b8112",
   "metadata": {},
   "source": [
    "# Conversation"
   ]
  },
  {
   "cell_type": "markdown",
   "id": "8b3285df",
   "metadata": {},
   "source": [
    "**User**\n",
    "\n",
    "Could you show me an example of generating a coverage report with branch coverage included in Python?\n"
   ]
  }
 ],
 "metadata": {},
 "nbformat": 4,
 "nbformat_minor": 5
}
