{
 "cells": [
  {
   "cell_type": "markdown",
   "id": "c45fcdda",
   "metadata": {},
   "source": [
    "# Metadata\n",
    "\n",
    "**Python Topics** - web_development > python_frameworks\n",
    "\n",
    "**Type** - query\n",
    "\n",
    "**Target Number of Turns (User + Assistant)** - 2+\n"
   ]
  },
  {
   "cell_type": "markdown",
   "id": "f8e55ed5",
   "metadata": {},
   "source": [
    "# Conversation"
   ]
  },
  {
   "cell_type": "markdown",
   "id": "977bd5f4",
   "metadata": {},
   "source": [
    "**User**\n",
    "\n",
    "Could you demonstrate how to handle form data in a Pyramid view?\n"
   ]
  }
 ],
 "metadata": {},
 "nbformat": 4,
 "nbformat_minor": 5
}
