{
 "cells": [
  {
   "cell_type": "markdown",
   "id": "01dce4c8",
   "metadata": {},
   "source": [
    "# Metadata\n",
    "\n",
    "**Python Topics** - unit_testing_methodology > mocking_and_patching\n",
    "\n",
    "**Type** - modification\n",
    "\n",
    "**Target Number of Turns (User + Assistant)** - 2+\n"
   ]
  },
  {
   "cell_type": "markdown",
   "id": "42e2af6d",
   "metadata": {},
   "source": [
    "# Conversation"
   ]
  },
  {
   "cell_type": "markdown",
   "id": "24a0d97d",
   "metadata": {},
   "source": [
    "**User**\n",
    "\n",
    "I'm trying to write a test for a method that calls 'datetime.now()' to timestamp an action. How can I mock 'datetime.now()' so that it returns a fixed time during the test? Here's the method: ```def timestamp_action(): return datetime.now()```\n"
   ]
  }
 ],
 "metadata": {},
 "nbformat": 4,
 "nbformat_minor": 5
}
