{
 "cells": [
  {
   "cell_type": "markdown",
   "id": "e6a951ee",
   "metadata": {},
   "source": [
    "# Metadata\n",
    "\n",
    "**Python Topics** - data_analysis > time_series_analysis\n",
    "\n",
    "**Type** - query\n",
    "\n",
    "**Target Number of Turns (User + Assistant)** - 2+\n"
   ]
  },
  {
   "cell_type": "markdown",
   "id": "324c34b1",
   "metadata": {},
   "source": [
    "# Conversation"
   ]
  },
  {
   "cell_type": "markdown",
   "id": "19bc0f7f",
   "metadata": {},
   "source": [
    "**User**\n",
    "\n",
    "How can I resample a time series to a monthly frequency using pandas?\n"
   ]
  }
 ],
 "metadata": {},
 "nbformat": 4,
 "nbformat_minor": 5
}
