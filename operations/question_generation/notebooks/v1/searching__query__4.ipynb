{
 "cells": [
  {
   "cell_type": "markdown",
   "id": "ddc48e4c",
   "metadata": {},
   "source": [
    "# Metadata\n",
    "\n",
    "**Python Topics** - algorithms > by_topic > searching\n",
    "\n",
    "**Type** - query\n",
    "\n",
    "**Target Number of Turns (User + Assistant)** - 2+\n"
   ]
  },
  {
   "cell_type": "markdown",
   "id": "e0be0663",
   "metadata": {},
   "source": [
    "# Conversation"
   ]
  },
  {
   "cell_type": "markdown",
   "id": "49c325b5",
   "metadata": {},
   "source": [
    "**User**\n",
    "\n",
    "I need a Python snippet that demonstrates how to search for an item in a list using the jump search technique.\n"
   ]
  }
 ],
 "metadata": {},
 "nbformat": 4,
 "nbformat_minor": 5
}
