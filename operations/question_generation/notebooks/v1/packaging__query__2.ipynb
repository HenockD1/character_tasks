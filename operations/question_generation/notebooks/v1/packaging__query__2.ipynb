{
 "cells": [
  {
   "cell_type": "markdown",
   "id": "d371a16a",
   "metadata": {},
   "source": [
    "# Metadata\n",
    "\n",
    "**Python Topics** - python_language_and_scripting > packaging\n",
    "\n",
    "**Type** - query\n",
    "\n",
    "**Target Number of Turns (User + Assistant)** - 2+\n"
   ]
  },
  {
   "cell_type": "markdown",
   "id": "62ec490a",
   "metadata": {},
   "source": [
    "# Conversation"
   ]
  },
  {
   "cell_type": "markdown",
   "id": "1c80043c",
   "metadata": {},
   "source": [
    "**User**\n",
    "\n",
    "Can you show me how to specify dependencies in a setup.py file?\n"
   ]
  }
 ],
 "metadata": {},
 "nbformat": 4,
 "nbformat_minor": 5
}
