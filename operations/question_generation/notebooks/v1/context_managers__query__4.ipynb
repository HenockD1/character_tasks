{
 "cells": [
  {
   "cell_type": "markdown",
   "id": "52c389d0",
   "metadata": {},
   "source": [
    "# Metadata\n",
    "\n",
    "**Python Topics** - python_language_and_scripting > context_managers\n",
    "\n",
    "**Type** - query\n",
    "\n",
    "**Target Number of Turns (User + Assistant)** - 2+\n"
   ]
  },
  {
   "cell_type": "markdown",
   "id": "efb0c836",
   "metadata": {},
   "source": [
    "# Conversation"
   ]
  },
  {
   "cell_type": "markdown",
   "id": "c4d39e07",
   "metadata": {},
   "source": [
    "**User**\n",
    "\n",
    "In Python, how can I ensure a file is closed after its contents are processed, using a context manager?\n"
   ]
  }
 ],
 "metadata": {},
 "nbformat": 4,
 "nbformat_minor": 5
}
