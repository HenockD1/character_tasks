{
 "cells": [
  {
   "cell_type": "markdown",
   "id": "31939654",
   "metadata": {},
   "source": [
    "# Metadata\n",
    "\n",
    "**Python Topics** - data_analysis > data_grouping_aggregation\n",
    "\n",
    "**Type** - modification\n",
    "\n",
    "**Target Number of Turns (User + Assistant)** - 2+\n"
   ]
  },
  {
   "cell_type": "markdown",
   "id": "2a312726",
   "metadata": {},
   "source": [
    "# Conversation"
   ]
  },
  {
   "cell_type": "markdown",
   "id": "8abee1e7",
   "metadata": {},
   "source": [
    "**User**\n",
    "\n",
    "Here's a snippet: df.groupby('month')['sales'].sum(). I'd like to modify it to group by both 'month' and 'region' before summing up the sales.\n"
   ]
  }
 ],
 "metadata": {},
 "nbformat": 4,
 "nbformat_minor": 5
}
