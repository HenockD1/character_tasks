{
 "cells": [
  {
   "cell_type": "markdown",
   "id": "0c0a7bef",
   "metadata": {},
   "source": [
    "# Metadata\n",
    "\n",
    "**Python Topics** - algorithms > by_data_structure > graphs\n",
    "\n",
    "**Type** - modification\n",
    "\n",
    "**Target Number of Turns (User + Assistant)** - 2+\n"
   ]
  },
  {
   "cell_type": "markdown",
   "id": "b3e3abe9",
   "metadata": {},
   "source": [
    "# Conversation"
   ]
  },
  {
   "cell_type": "markdown",
   "id": "914020e9",
   "metadata": {},
   "source": [
    "**User**\n",
    "\n",
    "Could you help me update my graph's BFS function to return the shortest path from a start node to an end node instead of just traversing the graph? Here's the current BFS implementation: from collections import deque def bfs(graph, start): visited, queue = set(), deque([start]) while queue: vertex = queue.popleft() if vertex not in visited: visited.add(vertex) queue.extend(set(graph[vertex]) - visited)\n"
   ]
  }
 ],
 "metadata": {},
 "nbformat": 4,
 "nbformat_minor": 5
}
