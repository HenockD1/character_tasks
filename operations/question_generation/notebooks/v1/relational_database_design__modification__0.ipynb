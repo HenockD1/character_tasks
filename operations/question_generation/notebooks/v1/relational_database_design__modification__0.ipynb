{
 "cells": [
  {
   "cell_type": "markdown",
   "id": "a387cacf",
   "metadata": {},
   "source": [
    "# Metadata\n",
    "\n",
    "**Python Topics** - database > relational_database_design\n",
    "\n",
    "**Type** - modification\n",
    "\n",
    "**Target Number of Turns (User + Assistant)** - 2+\n"
   ]
  },
  {
   "cell_type": "markdown",
   "id": "23d81807",
   "metadata": {},
   "source": [
    "# Conversation"
   ]
  },
  {
   "cell_type": "markdown",
   "id": "290169ce",
   "metadata": {},
   "source": [
    "**User**\n",
    "\n",
    "I've got a class representing a 'Book' in my database model. Could you help me add an 'Author' field as a foreign key referencing the 'Author' table? Here's the current class:\n",
    "```python\n",
    "class Book(models.Model):\n",
    "    title = models.CharField(max_length=100)\n",
    "    publish_date = models.DateField()\n",
    "```\n"
   ]
  }
 ],
 "metadata": {},
 "nbformat": 4,
 "nbformat_minor": 5
}
