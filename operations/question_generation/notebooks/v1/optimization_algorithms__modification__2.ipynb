{
 "cells": [
  {
   "cell_type": "markdown",
   "id": "7b809098",
   "metadata": {},
   "source": [
    "# Metadata\n",
    "\n",
    "**Python Topics** - deep_learning > optimization_algorithms\n",
    "\n",
    "**Type** - modification\n",
    "\n",
    "**Target Number of Turns (User + Assistant)** - 2+\n"
   ]
  },
  {
   "cell_type": "markdown",
   "id": "74abb7c7",
   "metadata": {},
   "source": [
    "# Conversation"
   ]
  },
  {
   "cell_type": "markdown",
   "id": "fbe4cd7e",
   "metadata": {},
   "source": [
    "**User**\n",
    "\n",
    "I'm curious about the effects of momentum on my training. Can you change the following code to include a momentum term of 0.9 with the SGD optimizer? `optimizer = SGD(model.parameters(), lr=0.01)`.\n"
   ]
  }
 ],
 "metadata": {},
 "nbformat": 4,
 "nbformat_minor": 5
}
