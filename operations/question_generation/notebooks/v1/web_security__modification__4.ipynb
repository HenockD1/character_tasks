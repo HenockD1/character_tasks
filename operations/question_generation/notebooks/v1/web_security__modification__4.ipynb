{
 "cells": [
  {
   "cell_type": "markdown",
   "id": "af856963",
   "metadata": {},
   "source": [
    "# Metadata\n",
    "\n",
    "**Python Topics** - web_development > web_security\n",
    "\n",
    "**Type** - modification\n",
    "\n",
    "**Target Number of Turns (User + Assistant)** - 2+\n"
   ]
  },
  {
   "cell_type": "markdown",
   "id": "58ceccc8",
   "metadata": {},
   "source": [
    "# Conversation"
   ]
  },
  {
   "cell_type": "markdown",
   "id": "deb78946",
   "metadata": {},
   "source": [
    "**User**\n",
    "\n",
    "I'm storing session tokens in cookies with Flask, but I've heard that setting the 'secure' flag on cookies is a good practice. How do I modify the set_cookie function to include this?\n"
   ]
  }
 ],
 "metadata": {},
 "nbformat": 4,
 "nbformat_minor": 5
}
