{
 "cells": [
  {
   "cell_type": "markdown",
   "id": "5d70ab13",
   "metadata": {},
   "source": [
    "# Metadata\n",
    "\n",
    "**Python Topics** - unit_testing_methodology > testing_asynchronous_code\n",
    "\n",
    "**Type** - modification\n",
    "\n",
    "**Target Number of Turns (User + Assistant)** - 2+\n"
   ]
  },
  {
   "cell_type": "markdown",
   "id": "9d7c3bdb",
   "metadata": {},
   "source": [
    "# Conversation"
   ]
  },
  {
   "cell_type": "markdown",
   "id": "b7d47152",
   "metadata": {},
   "source": [
    "**User**\n",
    "\n",
    "I've got an async function that fetches data from an API. Can you help me write a test case using pytest and asyncio to ensure it returns a non-empty dictionary? Here's the function: ```async def fetch_data(api_url): # fetches data from the API return data```\n"
   ]
  }
 ],
 "metadata": {},
 "nbformat": 4,
 "nbformat_minor": 5
}
