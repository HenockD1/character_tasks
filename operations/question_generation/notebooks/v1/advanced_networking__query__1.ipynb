{
 "cells": [
  {
   "cell_type": "markdown",
   "id": "a69a30d3",
   "metadata": {},
   "source": [
    "# Metadata\n",
    "\n",
    "**Python Topics** - python_language_and_scripting > advanced_networking\n",
    "\n",
    "**Type** - query\n",
    "\n",
    "**Target Number of Turns (User + Assistant)** - 2+\n"
   ]
  },
  {
   "cell_type": "markdown",
   "id": "6924884e",
   "metadata": {},
   "source": [
    "# Conversation"
   ]
  },
  {
   "cell_type": "markdown",
   "id": "d735f5af",
   "metadata": {},
   "source": [
    "**User**\n",
    "\n",
    "Could you show me how to use the `selectors` module for non-blocking network communication?\n"
   ]
  }
 ],
 "metadata": {},
 "nbformat": 4,
 "nbformat_minor": 5
}
