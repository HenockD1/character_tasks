{
 "cells": [
  {
   "cell_type": "markdown",
   "id": "c14ce679",
   "metadata": {},
   "source": [
    "# Metadata\n",
    "\n",
    "**Python Topics** - python_language_and_scripting > functional_programming_features\n",
    "\n",
    "**Type** - modification\n",
    "\n",
    "**Target Number of Turns (User + Assistant)** - 2+\n"
   ]
  },
  {
   "cell_type": "markdown",
   "id": "82b62eb7",
   "metadata": {},
   "source": [
    "# Conversation"
   ]
  },
  {
   "cell_type": "markdown",
   "id": "3ca63235",
   "metadata": {},
   "source": [
    "**User**\n",
    "\n",
    "Can you help me refactor this code snippet to use a lambda function instead of the defined square function? Here's the code: ```def square(num): return num * num numbers = [1, 2, 3, 4] squared_numbers = map(square, numbers) print(list(squared_numbers))```\n"
   ]
  }
 ],
 "metadata": {},
 "nbformat": 4,
 "nbformat_minor": 5
}
