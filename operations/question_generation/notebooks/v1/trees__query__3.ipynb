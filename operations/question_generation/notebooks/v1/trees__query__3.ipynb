{
 "cells": [
  {
   "cell_type": "markdown",
   "id": "63c7e6ec",
   "metadata": {},
   "source": [
    "# Metadata\n",
    "\n",
    "**Python Topics** - algorithms > by_data_structure > trees\n",
    "\n",
    "**Type** - query\n",
    "\n",
    "**Target Number of Turns (User + Assistant)** - 2+\n"
   ]
  },
  {
   "cell_type": "markdown",
   "id": "b4e373cf",
   "metadata": {},
   "source": [
    "# Conversation"
   ]
  },
  {
   "cell_type": "markdown",
   "id": "c3e5c81e",
   "metadata": {},
   "source": [
    "**User**\n",
    "\n",
    "How do I serialize and deserialize a binary tree in Python?\n"
   ]
  }
 ],
 "metadata": {},
 "nbformat": 4,
 "nbformat_minor": 5
}
