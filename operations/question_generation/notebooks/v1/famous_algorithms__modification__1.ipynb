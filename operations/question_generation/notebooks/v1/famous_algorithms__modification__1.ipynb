{
 "cells": [
  {
   "cell_type": "markdown",
   "id": "a9baa529",
   "metadata": {},
   "source": [
    "# Metadata\n",
    "\n",
    "**Python Topics** - algorithms > by_topic > famous_algorithms\n",
    "\n",
    "**Type** - modification\n",
    "\n",
    "**Target Number of Turns (User + Assistant)** - 2+\n"
   ]
  },
  {
   "cell_type": "markdown",
   "id": "2d61a8e7",
   "metadata": {},
   "source": [
    "# Conversation"
   ]
  },
  {
   "cell_type": "markdown",
   "id": "292d3fdb",
   "metadata": {},
   "source": [
    "**User**\n",
    "\n",
    "I have a bubble sort function that sorts a list in ascending order. Could you tweak it to sort in descending order instead? Here's the current implementation: `def bubble_sort(arr): n = len(arr) for i in range(n): for j in range(0, n-i-1): if arr[j] > arr[j+1]: arr[j], arr[j+1] = arr[j+1], arr[j] return arr`\n"
   ]
  }
 ],
 "metadata": {},
 "nbformat": 4,
 "nbformat_minor": 5
}
