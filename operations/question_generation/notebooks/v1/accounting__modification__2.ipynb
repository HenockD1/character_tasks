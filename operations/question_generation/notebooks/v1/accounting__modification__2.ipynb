{
 "cells": [
  {
   "cell_type": "markdown",
   "id": "dbaf008d",
   "metadata": {},
   "source": [
    "# Metadata\n",
    "\n",
    "**Python Topics** - high_school > accounting\n",
    "\n",
    "**Type** - modification\n",
    "\n",
    "**Target Number of Turns (User + Assistant)** - 2+\n"
   ]
  },
  {
   "cell_type": "markdown",
   "id": "0c05b2e5",
   "metadata": {},
   "source": [
    "# Conversation"
   ]
  },
  {
   "cell_type": "markdown",
   "id": "d0a6c14c",
   "metadata": {},
   "source": [
    "**User**\n",
    "\n",
    "I have a function that calculates net income based on revenues and expenses, but I want to update it to also calculate and return the profit margin as a percentage. Can you show me how to do that?\n",
    "\n",
    "```python\n",
    "def calculate_net_income(revenues, expenses):\n",
    "    net_income = revenues - expenses\n",
    "    return net_income\n",
    "```\n"
   ]
  }
 ],
 "metadata": {},
 "nbformat": 4,
 "nbformat_minor": 5
}
