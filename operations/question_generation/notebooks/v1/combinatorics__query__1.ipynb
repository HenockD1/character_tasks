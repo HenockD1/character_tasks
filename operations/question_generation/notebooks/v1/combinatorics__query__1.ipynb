{
 "cells": [
  {
   "cell_type": "markdown",
   "id": "a497fe32",
   "metadata": {},
   "source": [
    "# Metadata\n",
    "\n",
    "**Python Topics** - algorithms > by_topic > combinatorics\n",
    "\n",
    "**Type** - query\n",
    "\n",
    "**Target Number of Turns (User + Assistant)** - 2+\n"
   ]
  },
  {
   "cell_type": "markdown",
   "id": "80e3d696",
   "metadata": {},
   "source": [
    "# Conversation"
   ]
  },
  {
   "cell_type": "markdown",
   "id": "2bc25a84",
   "metadata": {},
   "source": [
    "**User**\n",
    "\n",
    "What's the Pythonic way to get all combinations of a list's elements?\n"
   ]
  }
 ],
 "metadata": {},
 "nbformat": 4,
 "nbformat_minor": 5
}
