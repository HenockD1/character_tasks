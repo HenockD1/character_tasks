{
 "cells": [
  {
   "cell_type": "markdown",
   "id": "18388512",
   "metadata": {},
   "source": [
    "# Metadata\n",
    "\n",
    "**Python Topics** - algorithms > by_topic > sliding_window\n",
    "\n",
    "**Type** - modification\n",
    "\n",
    "**Target Number of Turns (User + Assistant)** - 2+\n"
   ]
  },
  {
   "cell_type": "markdown",
   "id": "dc4c35a3",
   "metadata": {},
   "source": [
    "# Conversation"
   ]
  },
  {
   "cell_type": "markdown",
   "id": "236db18d",
   "metadata": {},
   "source": [
    "**User**\n",
    "\n",
    "I'm trying to optimize my current sliding window algorithm. It's supposed to find the longest substring without repeating characters. Right now, it's not very efficient. Could you tweak it to use a more optimal sliding window approach? Here's what I have so far: ```def longest_substring(s): longest = 0 for i in range(len(s)): for j in range(i, len(s)): if len(set(s[i:j+1])) == (j - i + 1): longest = max(longest, j - i + 1) return longest```\n"
   ]
  }
 ],
 "metadata": {},
 "nbformat": 4,
 "nbformat_minor": 5
}
