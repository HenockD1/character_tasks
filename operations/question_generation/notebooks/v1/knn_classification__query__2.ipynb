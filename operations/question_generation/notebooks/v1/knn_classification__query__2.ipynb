{
 "cells": [
  {
   "cell_type": "markdown",
   "id": "4c878ee3",
   "metadata": {},
   "source": [
    "# Metadata\n",
    "\n",
    "**Python Topics** - ml_principles > knn_classification\n",
    "\n",
    "**Type** - query\n",
    "\n",
    "**Target Number of Turns (User + Assistant)** - 2+\n"
   ]
  },
  {
   "cell_type": "markdown",
   "id": "15127dd4",
   "metadata": {},
   "source": [
    "# Conversation"
   ]
  },
  {
   "cell_type": "markdown",
   "id": "1cf653a6",
   "metadata": {},
   "source": [
    "**User**\n",
    "\n",
    "What's the best way to choose the 'k' value in KNN classification?\n"
   ]
  }
 ],
 "metadata": {},
 "nbformat": 4,
 "nbformat_minor": 5
}
