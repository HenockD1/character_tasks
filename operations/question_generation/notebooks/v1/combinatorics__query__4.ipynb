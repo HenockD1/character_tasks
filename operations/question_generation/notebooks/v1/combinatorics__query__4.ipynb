{
 "cells": [
  {
   "cell_type": "markdown",
   "id": "ba993183",
   "metadata": {},
   "source": [
    "# Metadata\n",
    "\n",
    "**Python Topics** - algorithms > by_topic > combinatorics\n",
    "\n",
    "**Type** - query\n",
    "\n",
    "**Target Number of Turns (User + Assistant)** - 2+\n"
   ]
  },
  {
   "cell_type": "markdown",
   "id": "b759b1c5",
   "metadata": {},
   "source": [
    "# Conversation"
   ]
  },
  {
   "cell_type": "markdown",
   "id": "8ce34030",
   "metadata": {},
   "source": [
    "**User**\n",
    "\n",
    "How do I use Python to calculate the factorial of a number using recursion?\n"
   ]
  }
 ],
 "metadata": {},
 "nbformat": 4,
 "nbformat_minor": 5
}
