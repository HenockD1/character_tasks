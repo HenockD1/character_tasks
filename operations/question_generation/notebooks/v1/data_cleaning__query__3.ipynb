{
 "cells": [
  {
   "cell_type": "markdown",
   "id": "befa113d",
   "metadata": {},
   "source": [
    "# Metadata\n",
    "\n",
    "**Python Topics** - data_analysis > data_cleaning\n",
    "\n",
    "**Type** - query\n",
    "\n",
    "**Target Number of Turns (User + Assistant)** - 2+\n"
   ]
  },
  {
   "cell_type": "markdown",
   "id": "db826dd4",
   "metadata": {},
   "source": [
    "# Conversation"
   ]
  },
  {
   "cell_type": "markdown",
   "id": "c10a2f86",
   "metadata": {},
   "source": [
    "**User**\n",
    "\n",
    "I need to lower case all the string entries in my DataFrame. How can I do that?\n"
   ]
  }
 ],
 "metadata": {},
 "nbformat": 4,
 "nbformat_minor": 5
}
