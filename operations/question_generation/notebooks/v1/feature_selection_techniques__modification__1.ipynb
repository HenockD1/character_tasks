{
 "cells": [
  {
   "cell_type": "markdown",
   "id": "7373b686",
   "metadata": {},
   "source": [
    "# Metadata\n",
    "\n",
    "**Python Topics** - ml_principles > feature_selection_techniques\n",
    "\n",
    "**Type** - modification\n",
    "\n",
    "**Target Number of Turns (User + Assistant)** - 2+\n"
   ]
  },
  {
   "cell_type": "markdown",
   "id": "843d5639",
   "metadata": {},
   "source": [
    "# Conversation"
   ]
  },
  {
   "cell_type": "markdown",
   "id": "5a55dbeb",
   "metadata": {},
   "source": [
    "**User**\n",
    "\n",
    "I'm currently using Pearson correlation for feature selection in my linear regression model. Here's the snippet:\n",
    "```python\n",
    "import numpy as np\n",
    "from scipy.stats import pearsonr\n",
    "X, y = load_my_data()\n",
    "correlations = np.array([pearsonr(X[:, i], y)[0] for i in range(X.shape[1])])\n",
    "high_corr_features = X[:, abs(correlations) > 0.5]\n",
    "```\n",
    "Could you help me switch to using mutual information as the criterion for feature selection?\n"
   ]
  }
 ],
 "metadata": {},
 "nbformat": 4,
 "nbformat_minor": 5
}
