{
 "cells": [
  {
   "cell_type": "markdown",
   "id": "32317045",
   "metadata": {},
   "source": [
    "# Metadata\n",
    "\n",
    "**Python Topics** - database > cloud_database_solutions\n",
    "\n",
    "**Type** - query\n",
    "\n",
    "**Target Number of Turns (User + Assistant)** - 2+\n"
   ]
  },
  {
   "cell_type": "markdown",
   "id": "5071e05a",
   "metadata": {},
   "source": [
    "# Conversation"
   ]
  },
  {
   "cell_type": "markdown",
   "id": "f3b88ffb",
   "metadata": {},
   "source": [
    "**User**\n",
    "\n",
    "What is the process for deleting records from a Firebase Realtime Database using Python?\n"
   ]
  }
 ],
 "metadata": {},
 "nbformat": 4,
 "nbformat_minor": 5
}
