{
 "cells": [
  {
   "cell_type": "markdown",
   "id": "ede3c363",
   "metadata": {},
   "source": [
    "# Metadata\n",
    "\n",
    "**Python Topics** - deep_learning > backpropagation_understanding\n",
    "\n",
    "**Type** - query\n",
    "\n",
    "**Target Number of Turns (User + Assistant)** - 2+\n"
   ]
  },
  {
   "cell_type": "markdown",
   "id": "5ae41ddb",
   "metadata": {},
   "source": [
    "# Conversation"
   ]
  },
  {
   "cell_type": "markdown",
   "id": "f7097787",
   "metadata": {},
   "source": [
    "**User**\n",
    "\n",
    "How do I use Python to update the weights of a neural network during backpropagation?\n"
   ]
  }
 ],
 "metadata": {},
 "nbformat": 4,
 "nbformat_minor": 5
}
