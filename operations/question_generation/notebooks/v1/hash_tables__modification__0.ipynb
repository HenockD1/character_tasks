{
 "cells": [
  {
   "cell_type": "markdown",
   "id": "8845b089",
   "metadata": {},
   "source": [
    "# Metadata\n",
    "\n",
    "**Python Topics** - algorithms > by_data_structure > hash_tables\n",
    "\n",
    "**Type** - modification\n",
    "\n",
    "**Target Number of Turns (User + Assistant)** - 2+\n"
   ]
  },
  {
   "cell_type": "markdown",
   "id": "6d149c50",
   "metadata": {},
   "source": [
    "# Conversation"
   ]
  },
  {
   "cell_type": "markdown",
   "id": "b0b1fafa",
   "metadata": {},
   "source": [
    "**User**\n",
    "\n",
    "I have a dictionary of items with their prices, but I need to filter out items that are over $100. Can you help me adjust this code to do that? Here's what I have so far: `items = {'keyboard': 70, 'monitor': 150, 'mouse': 40, 'desk': 200}`.\n"
   ]
  }
 ],
 "metadata": {},
 "nbformat": 4,
 "nbformat_minor": 5
}
