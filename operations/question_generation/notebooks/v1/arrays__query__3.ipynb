{
 "cells": [
  {
   "cell_type": "markdown",
   "id": "5a6773a4",
   "metadata": {},
   "source": [
    "# Metadata\n",
    "\n",
    "**Python Topics** - algorithms > by_data_structure > arrays\n",
    "\n",
    "**Type** - query\n",
    "\n",
    "**Target Number of Turns (User + Assistant)** - 2+\n"
   ]
  },
  {
   "cell_type": "markdown",
   "id": "ecaf94d8",
   "metadata": {},
   "source": [
    "# Conversation"
   ]
  },
  {
   "cell_type": "markdown",
   "id": "aa2bc69e",
   "metadata": {},
   "source": [
    "**User**\n",
    "\n",
    "I need to remove duplicates from an array in Python while preserving order. How can I do that?\n"
   ]
  }
 ],
 "metadata": {},
 "nbformat": 4,
 "nbformat_minor": 5
}
