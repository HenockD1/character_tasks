{
 "cells": [
  {
   "cell_type": "markdown",
   "id": "359054cb",
   "metadata": {},
   "source": [
    "# Metadata\n",
    "\n",
    "**Python Topics** - ml_principles > hyperparameter_tuning\n",
    "\n",
    "**Type** - query\n",
    "\n",
    "**Target Number of Turns (User + Assistant)** - 2+\n"
   ]
  },
  {
   "cell_type": "markdown",
   "id": "7a49595f",
   "metadata": {},
   "source": [
    "# Conversation"
   ]
  },
  {
   "cell_type": "markdown",
   "id": "549e5e6d",
   "metadata": {},
   "source": [
    "**User**\n",
    "\n",
    "Can you show me a Python example of using a validation curve to determine the best value for a hyperparameter?\n"
   ]
  }
 ],
 "metadata": {},
 "nbformat": 4,
 "nbformat_minor": 5
}
