{
 "cells": [
  {
   "cell_type": "markdown",
   "id": "aafc16a6",
   "metadata": {},
   "source": [
    "# Metadata\n",
    "\n",
    "**Python Topics** - web_development > web_scraping\n",
    "\n",
    "**Type** - query\n",
    "\n",
    "**Target Number of Turns (User + Assistant)** - 2+\n"
   ]
  },
  {
   "cell_type": "markdown",
   "id": "ada37682",
   "metadata": {},
   "source": [
    "# Conversation"
   ]
  },
  {
   "cell_type": "markdown",
   "id": "b032ce2e",
   "metadata": {},
   "source": [
    "**User**\n",
    "\n",
    "How can I extract all the URLs from a webpage using BeautifulSoup in Python?\n"
   ]
  }
 ],
 "metadata": {},
 "nbformat": 4,
 "nbformat_minor": 5
}
