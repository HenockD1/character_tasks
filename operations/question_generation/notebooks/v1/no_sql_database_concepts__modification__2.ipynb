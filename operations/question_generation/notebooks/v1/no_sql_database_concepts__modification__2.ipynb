{
 "cells": [
  {
   "cell_type": "markdown",
   "id": "b2a24424",
   "metadata": {},
   "source": [
    "# Metadata\n",
    "\n",
    "**Python Topics** - database > no_sql_database_concepts\n",
    "\n",
    "**Type** - modification\n",
    "\n",
    "**Target Number of Turns (User + Assistant)** - 2+\n"
   ]
  },
  {
   "cell_type": "markdown",
   "id": "aad4a638",
   "metadata": {},
   "source": [
    "# Conversation"
   ]
  },
  {
   "cell_type": "markdown",
   "id": "dbf1b49e",
   "metadata": {},
   "source": [
    "**User**\n",
    "\n",
    "I need to update multiple documents in my NoSQL database to increase the 'views' count by 1. However, I'm not sure how to do this in bulk. Here's my current update code for a single document: `collection.update_one({'_id': doc_id}, {'$inc': {'views': 1}})`.\n"
   ]
  }
 ],
 "metadata": {},
 "nbformat": 4,
 "nbformat_minor": 5
}
