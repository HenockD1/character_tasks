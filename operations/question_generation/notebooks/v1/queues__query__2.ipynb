{
 "cells": [
  {
   "cell_type": "markdown",
   "id": "017c0172",
   "metadata": {},
   "source": [
    "# Metadata\n",
    "\n",
    "**Python Topics** - algorithms > by_data_structure > queues\n",
    "\n",
    "**Type** - query\n",
    "\n",
    "**Target Number of Turns (User + Assistant)** - 2+\n"
   ]
  },
  {
   "cell_type": "markdown",
   "id": "e7034393",
   "metadata": {},
   "source": [
    "# Conversation"
   ]
  },
  {
   "cell_type": "markdown",
   "id": "6cac0f38",
   "metadata": {},
   "source": [
    "**User**\n",
    "\n",
    "What's the Python code to perform a level-order traversal on a binary tree using a queue?\n"
   ]
  }
 ],
 "metadata": {},
 "nbformat": 4,
 "nbformat_minor": 5
}
