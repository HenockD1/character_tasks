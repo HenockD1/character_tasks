{
 "cells": [
  {
   "cell_type": "markdown",
   "id": "63aa0b31",
   "metadata": {},
   "source": [
    "# Metadata\n",
    "\n",
    "**Python Topics** - algorithms > by_data_structure > advanced_data_structures\n",
    "\n",
    "**Type** - modification\n",
    "\n",
    "**Target Number of Turns (User + Assistant)** - 2+\n"
   ]
  },
  {
   "cell_type": "markdown",
   "id": "f4f3b03c",
   "metadata": {},
   "source": [
    "# Conversation"
   ]
  },
  {
   "cell_type": "markdown",
   "id": "bd6b278d",
   "metadata": {},
   "source": [
    "**User**\n",
    "\n",
    "I need to extend this Fenwick Tree (Binary Indexed Tree) to compute prefix maximums instead of prefix sums. Here's the current implementation for sums:\n",
    "```python\n",
    "class FenwickTree:\n",
    "    def __init__(self, size):\n",
    "        self.size = size\n",
    "        self.tree = [0] * (size + 1)\n",
    "\n",
    "    def update(self, i, delta):\n",
    "        while i <= self.size:\n",
    "            self.tree[i] += delta\n",
    "            i += i & -i\n",
    "\n",
    "    def query(self, i):\n",
    "        sum = 0\n",
    "        while i > 0:\n",
    "            sum += self.tree[i]\n",
    "            i -= i & -i\n",
    "        return sum\n",
    "```\n",
    "\n"
   ]
  }
 ],
 "metadata": {},
 "nbformat": 4,
 "nbformat_minor": 5
}
