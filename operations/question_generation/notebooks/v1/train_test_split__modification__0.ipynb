{
 "cells": [
  {
   "cell_type": "markdown",
   "id": "c07df08a",
   "metadata": {},
   "source": [
    "# Metadata\n",
    "\n",
    "**Python Topics** - ml_principles > train_test_split\n",
    "\n",
    "**Type** - modification\n",
    "\n",
    "**Target Number of Turns (User + Assistant)** - 2+\n"
   ]
  },
  {
   "cell_type": "markdown",
   "id": "77a99d89",
   "metadata": {},
   "source": [
    "# Conversation"
   ]
  },
  {
   "cell_type": "markdown",
   "id": "0be6d0a2",
   "metadata": {},
   "source": [
    "**User**\n",
    "\n",
    "I've got a DataFrame 'df' and I need to split it into training and testing sets. Could you adjust the following code to include a 70-30 train-test split using sklearn's train_test_split function? Here's my current code: `from sklearn.model_selection import train_test_split`\n"
   ]
  }
 ],
 "metadata": {},
 "nbformat": 4,
 "nbformat_minor": 5
}
