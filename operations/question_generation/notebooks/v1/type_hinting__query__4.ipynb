{
 "cells": [
  {
   "cell_type": "markdown",
   "id": "961b0db5",
   "metadata": {},
   "source": [
    "# Metadata\n",
    "\n",
    "**Python Topics** - python_language_and_scripting > type_hinting\n",
    "\n",
    "**Type** - query\n",
    "\n",
    "**Target Number of Turns (User + Assistant)** - 2+\n"
   ]
  },
  {
   "cell_type": "markdown",
   "id": "8af43948",
   "metadata": {},
   "source": [
    "# Conversation"
   ]
  },
  {
   "cell_type": "markdown",
   "id": "521aaf3a",
   "metadata": {},
   "source": [
    "**User**\n",
    "\n",
    "In Python, how do I specify that a function can return either a string or None using type hints?\n"
   ]
  }
 ],
 "metadata": {},
 "nbformat": 4,
 "nbformat_minor": 5
}
