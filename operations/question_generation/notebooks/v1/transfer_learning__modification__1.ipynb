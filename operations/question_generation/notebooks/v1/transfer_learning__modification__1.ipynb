{
 "cells": [
  {
   "cell_type": "markdown",
   "id": "35ac4fc7",
   "metadata": {},
   "source": [
    "# Metadata\n",
    "\n",
    "**Python Topics** - deep_learning > transfer_learning\n",
    "\n",
    "**Type** - modification\n",
    "\n",
    "**Target Number of Turns (User + Assistant)** - 2+\n"
   ]
  },
  {
   "cell_type": "markdown",
   "id": "a9e9011c",
   "metadata": {},
   "source": [
    "# Conversation"
   ]
  },
  {
   "cell_type": "markdown",
   "id": "1d3f67d3",
   "metadata": {},
   "source": [
    "**User**\n",
    "\n",
    "I'm using transfer learning for a 10-class classification problem. I have the base of ResNet50 in place. Can you show me how to append a GlobalAveragePooling2D layer and a Dense output layer with softmax activation? Here's what I have so far: `from keras.applications import ResNet50; base_model = ResNet50(weights='imagenet', include_top=False)`\n"
   ]
  }
 ],
 "metadata": {},
 "nbformat": 4,
 "nbformat_minor": 5
}
