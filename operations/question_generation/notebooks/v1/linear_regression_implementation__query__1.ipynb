{
 "cells": [
  {
   "cell_type": "markdown",
   "id": "dab9631a",
   "metadata": {},
   "source": [
    "# Metadata\n",
    "\n",
    "**Python Topics** - ml_principles > linear_regression_implementation\n",
    "\n",
    "**Type** - query\n",
    "\n",
    "**Target Number of Turns (User + Assistant)** - 2+\n"
   ]
  },
  {
   "cell_type": "markdown",
   "id": "eb8c2579",
   "metadata": {},
   "source": [
    "# Conversation"
   ]
  },
  {
   "cell_type": "markdown",
   "id": "2dc987d2",
   "metadata": {},
   "source": [
    "**User**\n",
    "\n",
    "Could you show me the Python code to calculate the coefficients for a linear regression?\n"
   ]
  }
 ],
 "metadata": {},
 "nbformat": 4,
 "nbformat_minor": 5
}
