{
 "cells": [
  {
   "cell_type": "markdown",
   "id": "24d6c998",
   "metadata": {},
   "source": [
    "# Metadata\n",
    "\n",
    "**Python Topics** - python_language_and_scripting > packaging\n",
    "\n",
    "**Type** - modification\n",
    "\n",
    "**Target Number of Turns (User + Assistant)** - 2+\n"
   ]
  },
  {
   "cell_type": "markdown",
   "id": "77d6b97e",
   "metadata": {},
   "source": [
    "# Conversation"
   ]
  },
  {
   "cell_type": "markdown",
   "id": "5e74a51e",
   "metadata": {},
   "source": [
    "**User**\n",
    "\n",
    "Can you help me refactor this script? I need to change the entry point in my setup.py to point to a new function called 'main' in the module 'cli.py'.\n"
   ]
  }
 ],
 "metadata": {},
 "nbformat": 4,
 "nbformat_minor": 5
}
