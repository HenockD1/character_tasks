{
 "cells": [
  {
   "cell_type": "markdown",
   "id": "7a464cb2",
   "metadata": {},
   "source": [
    "# Metadata\n",
    "\n",
    "**Python Topics** - web_development > web_development_trends\n",
    "\n",
    "**Type** - modification\n",
    "\n",
    "**Target Number of Turns (User + Assistant)** - 2+\n"
   ]
  },
  {
   "cell_type": "markdown",
   "id": "fb75086d",
   "metadata": {},
   "source": [
    "# Conversation"
   ]
  },
  {
   "cell_type": "markdown",
   "id": "d89fa91c",
   "metadata": {},
   "source": [
    "**User**\n",
    "\n",
    "I'm using Django and I need to add a new field to my model to track the creation date. Here's my current model:\n",
    "```python\n",
    "from django.db import models\n",
    "\n",
    "class MyModel(models.Model):\n",
    "    name = models.CharField(max_length=100)\n",
    "```\n",
    "Could you show me how to modify it to include an auto-set field for the record's creation time?\n"
   ]
  }
 ],
 "metadata": {},
 "nbformat": 4,
 "nbformat_minor": 5
}
