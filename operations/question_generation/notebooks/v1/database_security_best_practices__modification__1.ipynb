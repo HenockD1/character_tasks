{
 "cells": [
  {
   "cell_type": "markdown",
   "id": "9fac02a1",
   "metadata": {},
   "source": [
    "# Metadata\n",
    "\n",
    "**Python Topics** - database > database_security_best_practices\n",
    "\n",
    "**Type** - modification\n",
    "\n",
    "**Target Number of Turns (User + Assistant)** - 2+\n"
   ]
  },
  {
   "cell_type": "markdown",
   "id": "0f99ea8a",
   "metadata": {},
   "source": [
    "# Conversation"
   ]
  },
  {
   "cell_type": "markdown",
   "id": "52ead8f4",
   "metadata": {},
   "source": [
    "**User**\n",
    "\n",
    "I'm storing user passwords in my database and currently, they're plain text. Could you update this snippet to hash passwords using bcrypt before saving? Here's the code: ```def store_password(username, password): cursor.execute('INSERT INTO users (username, password) VALUES (%s, %s)', (username, password))```\n"
   ]
  }
 ],
 "metadata": {},
 "nbformat": 4,
 "nbformat_minor": 5
}
