{
 "cells": [
  {
   "cell_type": "markdown",
   "id": "97bee407",
   "metadata": {},
   "source": [
    "# Metadata\n",
    "\n",
    "**Python Topics** - python_language_and_scripting > functions_and_modules\n",
    "\n",
    "**Type** - modification\n",
    "\n",
    "**Target Number of Turns (User + Assistant)** - 2+\n"
   ]
  },
  {
   "cell_type": "markdown",
   "id": "1fd75c33",
   "metadata": {},
   "source": [
    "# Conversation"
   ]
  },
  {
   "cell_type": "markdown",
   "id": "f2b0ba8d",
   "metadata": {},
   "source": [
    "**User**\n",
    "\n",
    "I've got a function that calculates the square of a number, but I'd like it to be more general. Can you modify it to raise a number to any power? Here's the current function: `def square(num): return num * num`.\n"
   ]
  }
 ],
 "metadata": {},
 "nbformat": 4,
 "nbformat_minor": 5
}
