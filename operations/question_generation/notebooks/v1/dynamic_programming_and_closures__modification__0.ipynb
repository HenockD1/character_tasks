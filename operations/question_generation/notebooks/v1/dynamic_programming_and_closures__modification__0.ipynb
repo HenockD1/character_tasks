{
 "cells": [
  {
   "cell_type": "markdown",
   "id": "7dd311f3",
   "metadata": {},
   "source": [
    "# Metadata\n",
    "\n",
    "**Python Topics** - python_language_and_scripting > dynamic_programming_and_closures\n",
    "\n",
    "**Type** - modification\n",
    "\n",
    "**Target Number of Turns (User + Assistant)** - 2+\n"
   ]
  },
  {
   "cell_type": "markdown",
   "id": "eb4281f9",
   "metadata": {},
   "source": [
    "# Conversation"
   ]
  },
  {
   "cell_type": "markdown",
   "id": "3bfb9346",
   "metadata": {},
   "source": [
    "**User**\n",
    "\n",
    "I have a function that calculates Fibonacci numbers recursively. Can you modify it to use memoization for optimization? Here's the code: def fib(n): return n if n <= 1 else fib(n-1) + fib(n-2)\n"
   ]
  }
 ],
 "metadata": {},
 "nbformat": 4,
 "nbformat_minor": 5
}
