{
 "cells": [
  {
   "cell_type": "markdown",
   "id": "b25e12e4",
   "metadata": {},
   "source": [
    "# Metadata\n",
    "\n",
    "**Python Topics** - data_analysis > data_cleaning\n",
    "\n",
    "**Type** - modification\n",
    "\n",
    "**Target Number of Turns (User + Assistant)** - 2+\n"
   ]
  },
  {
   "cell_type": "markdown",
   "id": "5cb5ff46",
   "metadata": {},
   "source": [
    "# Conversation"
   ]
  },
  {
   "cell_type": "markdown",
   "id": "4c1c7e56",
   "metadata": {},
   "source": [
    "**User**\n",
    "\n",
    "Could you show me how to convert all string values to lowercase in the 'category' column of my DataFrame? Here's an example of the data: df = pd.DataFrame({'product': ['Widget', 'Gadget'], 'category': ['Home Goods', 'Electronics']})\n"
   ]
  }
 ],
 "metadata": {},
 "nbformat": 4,
 "nbformat_minor": 5
}
