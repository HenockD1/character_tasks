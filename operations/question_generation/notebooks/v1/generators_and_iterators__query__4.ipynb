{
 "cells": [
  {
   "cell_type": "markdown",
   "id": "3f5817c6",
   "metadata": {},
   "source": [
    "# Metadata\n",
    "\n",
    "**Python Topics** - python_language_and_scripting > generators_and_iterators\n",
    "\n",
    "**Type** - query\n",
    "\n",
    "**Target Number of Turns (User + Assistant)** - 2+\n"
   ]
  },
  {
   "cell_type": "markdown",
   "id": "9a07caaa",
   "metadata": {},
   "source": [
    "# Conversation"
   ]
  },
  {
   "cell_type": "markdown",
   "id": "37cc1c38",
   "metadata": {},
   "source": [
    "**User**\n",
    "\n",
    "In Python, how would I write a generator function that yields 'n' random numbers between 1 and 100?\n"
   ]
  }
 ],
 "metadata": {},
 "nbformat": 4,
 "nbformat_minor": 5
}
