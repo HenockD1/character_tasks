{
 "cells": [
  {
   "cell_type": "markdown",
   "id": "fd7f1c68",
   "metadata": {},
   "source": [
    "# Metadata\n",
    "\n",
    "**Python Topics** - python_language_and_scripting > scripting_and_automation\n",
    "\n",
    "**Type** - modification\n",
    "\n",
    "**Target Number of Turns (User + Assistant)** - 2+\n"
   ]
  },
  {
   "cell_type": "markdown",
   "id": "982ecf55",
   "metadata": {},
   "source": [
    "# Conversation"
   ]
  },
  {
   "cell_type": "markdown",
   "id": "e311b60c",
   "metadata": {},
   "source": [
    "**User**\n",
    "\n",
    "Please adjust the following code so that it only prints out the files (not directories) in the current directory: \n",
    "```python\n",
    "import os\n",
    "for item in os.listdir('.'):\n",
    "    print(item)\n",
    "```\n"
   ]
  }
 ],
 "metadata": {},
 "nbformat": 4,
 "nbformat_minor": 5
}
