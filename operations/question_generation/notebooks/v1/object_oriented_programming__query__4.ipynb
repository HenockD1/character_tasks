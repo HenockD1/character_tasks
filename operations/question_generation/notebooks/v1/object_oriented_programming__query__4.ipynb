{
 "cells": [
  {
   "cell_type": "markdown",
   "id": "cb36d738",
   "metadata": {},
   "source": [
    "# Metadata\n",
    "\n",
    "**Python Topics** - python_language_and_scripting > object_oriented_programming\n",
    "\n",
    "**Type** - query\n",
    "\n",
    "**Target Number of Turns (User + Assistant)** - 2+\n"
   ]
  },
  {
   "cell_type": "markdown",
   "id": "a3c29af0",
   "metadata": {},
   "source": [
    "# Conversation"
   ]
  },
  {
   "cell_type": "markdown",
   "id": "7dab6458",
   "metadata": {},
   "source": [
    "**User**\n",
    "\n",
    "How do I implement a class method that modifies a class variable in Python?\n"
   ]
  }
 ],
 "metadata": {},
 "nbformat": 4,
 "nbformat_minor": 5
}
