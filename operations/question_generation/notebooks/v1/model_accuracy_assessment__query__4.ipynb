{
 "cells": [
  {
   "cell_type": "markdown",
   "id": "4f63aa2f",
   "metadata": {},
   "source": [
    "# Metadata\n",
    "\n",
    "**Python Topics** - ml_principles > model_accuracy_assessment\n",
    "\n",
    "**Type** - query\n",
    "\n",
    "**Target Number of Turns (User + Assistant)** - 2+\n"
   ]
  },
  {
   "cell_type": "markdown",
   "id": "50e2a3c8",
   "metadata": {},
   "source": [
    "# Conversation"
   ]
  },
  {
   "cell_type": "markdown",
   "id": "d20b7c67",
   "metadata": {},
   "source": [
    "**User**\n",
    "\n",
    "How do I use Python to determine the mean absolute error of a regression model?\n"
   ]
  }
 ],
 "metadata": {},
 "nbformat": 4,
 "nbformat_minor": 5
}
