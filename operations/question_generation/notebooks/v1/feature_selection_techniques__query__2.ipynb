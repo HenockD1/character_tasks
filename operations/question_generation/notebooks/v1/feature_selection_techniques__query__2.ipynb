{
 "cells": [
  {
   "cell_type": "markdown",
   "id": "9c7424fa",
   "metadata": {},
   "source": [
    "# Metadata\n",
    "\n",
    "**Python Topics** - ml_principles > feature_selection_techniques\n",
    "\n",
    "**Type** - query\n",
    "\n",
    "**Target Number of Turns (User + Assistant)** - 2+\n"
   ]
  },
  {
   "cell_type": "markdown",
   "id": "c40bf95d",
   "metadata": {},
   "source": [
    "# Conversation"
   ]
  },
  {
   "cell_type": "markdown",
   "id": "de302fa4",
   "metadata": {},
   "source": [
    "**User**\n",
    "\n",
    "Could you show me a way to perform feature selection using a Random Forest importance ranking?\n"
   ]
  }
 ],
 "metadata": {},
 "nbformat": 4,
 "nbformat_minor": 5
}
