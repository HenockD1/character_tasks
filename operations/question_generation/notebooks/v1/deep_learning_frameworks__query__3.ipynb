{
 "cells": [
  {
   "cell_type": "markdown",
   "id": "dc74a4b4",
   "metadata": {},
   "source": [
    "# Metadata\n",
    "\n",
    "**Python Topics** - deep_learning > deep_learning_frameworks\n",
    "\n",
    "**Type** - query\n",
    "\n",
    "**Target Number of Turns (User + Assistant)** - 2+\n"
   ]
  },
  {
   "cell_type": "markdown",
   "id": "ab5eab1c",
   "metadata": {},
   "source": [
    "# Conversation"
   ]
  },
  {
   "cell_type": "markdown",
   "id": "9e29dea6",
   "metadata": {},
   "source": [
    "**User**\n",
    "\n",
    "Can you demonstrate how to load a pre-trained model using TensorFlow Hub?\n"
   ]
  }
 ],
 "metadata": {},
 "nbformat": 4,
 "nbformat_minor": 5
}
