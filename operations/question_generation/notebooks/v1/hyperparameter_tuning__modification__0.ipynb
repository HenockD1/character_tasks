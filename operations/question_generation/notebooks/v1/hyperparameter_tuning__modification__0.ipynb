{
 "cells": [
  {
   "cell_type": "markdown",
   "id": "b25a4411",
   "metadata": {},
   "source": [
    "# Metadata\n",
    "\n",
    "**Python Topics** - ml_principles > hyperparameter_tuning\n",
    "\n",
    "**Type** - modification\n",
    "\n",
    "**Target Number of Turns (User + Assistant)** - 2+\n"
   ]
  },
  {
   "cell_type": "markdown",
   "id": "abaae678",
   "metadata": {},
   "source": [
    "# Conversation"
   ]
  },
  {
   "cell_type": "markdown",
   "id": "20590041",
   "metadata": {},
   "source": [
    "**User**\n",
    "\n",
    "I've been using GridSearchCV for hyperparameter tuning, but it's taking too long. Can you modify my code to use RandomizedSearchCV instead? Here's my current setup: from sklearn.model_selection import GridSearchCV; params = {'n_estimators': [50, 100, 200], 'max_depth': [10, 20, 30]}; grid_search = GridSearchCV(estimator=my_model, param_grid=params, cv=5); grid_search.fit(X_train, y_train)\n"
   ]
  }
 ],
 "metadata": {},
 "nbformat": 4,
 "nbformat_minor": 5
}
