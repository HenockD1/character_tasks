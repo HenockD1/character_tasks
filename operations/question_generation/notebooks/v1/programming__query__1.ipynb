{
 "cells": [
  {
   "cell_type": "markdown",
   "id": "3cac7cd2",
   "metadata": {},
   "source": [
    "# Metadata\n",
    "\n",
    "**Python Topics** - high_school > programming\n",
    "\n",
    "**Type** - query\n",
    "\n",
    "**Target Number of Turns (User + Assistant)** - 2+\n"
   ]
  },
  {
   "cell_type": "markdown",
   "id": "46e5d354",
   "metadata": {},
   "source": [
    "# Conversation"
   ]
  },
  {
   "cell_type": "markdown",
   "id": "c834206f",
   "metadata": {},
   "source": [
    "**User**\n",
    "\n",
    "Can you show me a simple Python loop that prints all even numbers from 2 to 20?\n"
   ]
  }
 ],
 "metadata": {},
 "nbformat": 4,
 "nbformat_minor": 5
}
