{
 "cells": [
  {
   "cell_type": "markdown",
   "id": "8e1e5c13",
   "metadata": {},
   "source": [
    "# Metadata\n",
    "\n",
    "**Python Topics** - web_development > web_performance\n",
    "\n",
    "**Type** - modification\n",
    "\n",
    "**Target Number of Turns (User + Assistant)** - 2+\n"
   ]
  },
  {
   "cell_type": "markdown",
   "id": "ac885fd5",
   "metadata": {},
   "source": [
    "# Conversation"
   ]
  },
  {
   "cell_type": "markdown",
   "id": "bae84aa4",
   "metadata": {},
   "source": [
    "**User**\n",
    "\n",
    "I'm sending a lot of static files with my Flask app, and I think it's slowing down my website. Here's how I serve static files: ```python\n",
    "@app.route('/static/<path:filename>')\n",
    "def static_files(filename):\n",
    "    return send_from_directory('static', filename)\n",
    "``` Can you show me how to add HTTP caching headers to improve the load time?\n"
   ]
  }
 ],
 "metadata": {},
 "nbformat": 4,
 "nbformat_minor": 5
}
