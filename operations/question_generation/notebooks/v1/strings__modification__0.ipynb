{
 "cells": [
  {
   "cell_type": "markdown",
   "id": "8f19c747",
   "metadata": {},
   "source": [
    "# Metadata\n",
    "\n",
    "**Python Topics** - algorithms > by_data_structure > strings\n",
    "\n",
    "**Type** - modification\n",
    "\n",
    "**Target Number of Turns (User + Assistant)** - 2+\n"
   ]
  },
  {
   "cell_type": "markdown",
   "id": "c6babf3f",
   "metadata": {},
   "source": [
    "# Conversation"
   ]
  },
  {
   "cell_type": "markdown",
   "id": "f4547765",
   "metadata": {},
   "source": [
    "**User**\n",
    "\n",
    "I have a string 'data_2023_metrics' and I want to extract just the year part. How can I modify the code to do that? `text = 'data_2023_metrics'`\n"
   ]
  }
 ],
 "metadata": {},
 "nbformat": 4,
 "nbformat_minor": 5
}
