{
 "cells": [
  {
   "cell_type": "markdown",
   "id": "234db0a5",
   "metadata": {},
   "source": [
    "# Metadata\n",
    "\n",
    "**Python Topics** - web_development > web_development_tools\n",
    "\n",
    "**Type** - modification\n",
    "\n",
    "**Target Number of Turns (User + Assistant)** - 2+\n"
   ]
  },
  {
   "cell_type": "markdown",
   "id": "e6da0866",
   "metadata": {},
   "source": [
    "# Conversation"
   ]
  },
  {
   "cell_type": "markdown",
   "id": "cf248eb9",
   "metadata": {},
   "source": [
    "**User**\n",
    "\n",
    "I'm using Django's built-in server to run my project locally, but I'd like to switch to using Gunicorn. Here's how I currently start my server:\n",
    "```python\n",
    "# manage.py\n",
    "from django.core.management import execute_from_command_line\n",
    "\n",
    "if __name__ == '__main__':\n",
    "    execute_from_command_line()\n",
    "```\n",
    "Could you show me how to modify this to use Gunicorn instead?\n"
   ]
  }
 ],
 "metadata": {},
 "nbformat": 4,
 "nbformat_minor": 5
}
