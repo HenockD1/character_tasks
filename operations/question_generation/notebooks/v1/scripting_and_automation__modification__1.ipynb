{
 "cells": [
  {
   "cell_type": "markdown",
   "id": "74bcea18",
   "metadata": {},
   "source": [
    "# Metadata\n",
    "\n",
    "**Python Topics** - python_language_and_scripting > scripting_and_automation\n",
    "\n",
    "**Type** - modification\n",
    "\n",
    "**Target Number of Turns (User + Assistant)** - 2+\n"
   ]
  },
  {
   "cell_type": "markdown",
   "id": "6b6e7c7a",
   "metadata": {},
   "source": [
    "# Conversation"
   ]
  },
  {
   "cell_type": "markdown",
   "id": "48e57e21",
   "metadata": {},
   "source": [
    "**User**\n",
    "\n",
    "Could you help me modify this script to rename all '.txt' files in a directory to '.md'? Here's what I have so far: \n",
    "```python\n",
    "import os\n",
    "for filename in os.listdir('.'):\n",
    "    if filename.endswith('.txt'):\n",
    "        os.rename(filename, filename[:-4] + '.md')\n",
    "```\n"
   ]
  }
 ],
 "metadata": {},
 "nbformat": 4,
 "nbformat_minor": 5
}
