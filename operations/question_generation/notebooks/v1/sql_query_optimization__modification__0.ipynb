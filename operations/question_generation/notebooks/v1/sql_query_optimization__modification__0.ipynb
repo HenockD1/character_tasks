{
 "cells": [
  {
   "cell_type": "markdown",
   "id": "8acfe64a",
   "metadata": {},
   "source": [
    "# Metadata\n",
    "\n",
    "**Python Topics** - database > sql_query_optimization\n",
    "\n",
    "**Type** - modification\n",
    "\n",
    "**Target Number of Turns (User + Assistant)** - 2+\n"
   ]
  },
  {
   "cell_type": "markdown",
   "id": "5b9b6060",
   "metadata": {},
   "source": [
    "# Conversation"
   ]
  },
  {
   "cell_type": "markdown",
   "id": "79c4d75b",
   "metadata": {},
   "source": [
    "**User**\n",
    "\n",
    "I've got this SQL query in Python using SQLite. Can you help me optimize it for better performance? Here's the code: `query = \"SELECT * FROM Orders WHERE customer_id = ?\"; cursor.execute(query, (customer_id,))`\n"
   ]
  }
 ],
 "metadata": {},
 "nbformat": 4,
 "nbformat_minor": 5
}
