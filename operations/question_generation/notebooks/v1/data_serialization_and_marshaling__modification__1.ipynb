{
 "cells": [
  {
   "cell_type": "markdown",
   "id": "88231282",
   "metadata": {},
   "source": [
    "# Metadata\n",
    "\n",
    "**Python Topics** - python_language_and_scripting > data_serialization_and_marshaling\n",
    "\n",
    "**Type** - modification\n",
    "\n",
    "**Target Number of Turns (User + Assistant)** - 2+\n"
   ]
  },
  {
   "cell_type": "markdown",
   "id": "97e38b09",
   "metadata": {},
   "source": [
    "# Conversation"
   ]
  },
  {
   "cell_type": "markdown",
   "id": "608dd833",
   "metadata": {},
   "source": [
    "**User**\n",
    "\n",
    "Can you help me deserialize this JSON string back into a Python object? The string is: '{\"name\": \"Jane\", \"age\": 25, \"city\": \"Los Angeles\"}'.\n"
   ]
  }
 ],
 "metadata": {},
 "nbformat": 4,
 "nbformat_minor": 5
}
