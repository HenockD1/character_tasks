{
 "cells": [
  {
   "cell_type": "markdown",
   "id": "6050d927",
   "metadata": {},
   "source": [
    "# Metadata\n",
    "\n",
    "**Python Topics** - algorithms > by_data_structure > arrays\n",
    "\n",
    "**Type** - modification\n",
    "\n",
    "**Target Number of Turns (User + Assistant)** - 2+\n"
   ]
  },
  {
   "cell_type": "markdown",
   "id": "1e13d41b",
   "metadata": {},
   "source": [
    "# Conversation"
   ]
  },
  {
   "cell_type": "markdown",
   "id": "02f2f50c",
   "metadata": {},
   "source": [
    "**User**\n",
    "\n",
    "I'm trying to rotate an array to the right by k steps, where k is non-negative. Could you add a function to my code that performs this operation using O(1) extra space? Here's what I have so far: def rotate_array(arr, k): # Your code here\n"
   ]
  }
 ],
 "metadata": {},
 "nbformat": 4,
 "nbformat_minor": 5
}
