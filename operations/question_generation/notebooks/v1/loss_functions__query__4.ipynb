{
 "cells": [
  {
   "cell_type": "markdown",
   "id": "204d1b32",
   "metadata": {},
   "source": [
    "# Metadata\n",
    "\n",
    "**Python Topics** - deep_learning > loss_functions\n",
    "\n",
    "**Type** - query\n",
    "\n",
    "**Target Number of Turns (User + Assistant)** - 2+\n"
   ]
  },
  {
   "cell_type": "markdown",
   "id": "bc93c5df",
   "metadata": {},
   "source": [
    "# Conversation"
   ]
  },
  {
   "cell_type": "markdown",
   "id": "d0ee42d1",
   "metadata": {},
   "source": [
    "**User**\n",
    "\n",
    "In a multi-class classification problem, how can I use the sparse categorical cross-entropy loss in Keras?\n"
   ]
  }
 ],
 "metadata": {},
 "nbformat": 4,
 "nbformat_minor": 5
}
