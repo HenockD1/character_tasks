{
 "cells": [
  {
   "cell_type": "markdown",
   "id": "30e25cc2",
   "metadata": {},
   "source": [
    "# Metadata\n",
    "\n",
    "**Python Topics** - database > transaction_management\n",
    "\n",
    "**Type** - modification\n",
    "\n",
    "**Target Number of Turns (User + Assistant)** - 2+\n"
   ]
  },
  {
   "cell_type": "markdown",
   "id": "222cf191",
   "metadata": {},
   "source": [
    "# Conversation"
   ]
  },
  {
   "cell_type": "markdown",
   "id": "8f73ebcb",
   "metadata": {},
   "source": [
    "**User**\n",
    "\n",
    "I'm trying to update multiple records within a transaction using psycopg2 with PostgreSQL, and I want to ensure that the transaction is atomic. If any update fails, none should be applied. Can you restructure my code to use a context manager for the transaction? Here's what I have so far:\n",
    "```python\n",
    "import psycopg2\n",
    "\n",
    "conn = psycopg2.connect('dbname=example user=postgres')\n",
    "cur = conn.cursor()\n",
    "\n",
    "# Begin transaction\n",
    "conn.autocommit = False\n",
    "try:\n",
    "    cur.execute('UPDATE accounts SET balance = balance - 100 WHERE name = %s', ('Alice',))\n",
    "    cur.execute('UPDATE accounts SET balance = balance + 100 WHERE name = %s', ('Bob',))\n",
    "    # How to use context manager for transaction?\n",
    "except Exception as e:\n",
    "    conn.rollback()\n",
    "else:\n",
    "    conn.commit()\n",
    "finally:\n",
    "    cur.close()\n",
    "    conn.close()\n",
    "```\n"
   ]
  }
 ],
 "metadata": {},
 "nbformat": 4,
 "nbformat_minor": 5
}
