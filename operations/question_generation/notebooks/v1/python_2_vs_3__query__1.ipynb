{
 "cells": [
  {
   "cell_type": "markdown",
   "id": "29918a7f",
   "metadata": {},
   "source": [
    "# Metadata\n",
    "\n",
    "**Python Topics** - python_language_and_scripting > python_2_vs_3\n",
    "\n",
    "**Type** - query\n",
    "\n",
    "**Target Number of Turns (User + Assistant)** - 2+\n"
   ]
  },
  {
   "cell_type": "markdown",
   "id": "6a5e5315",
   "metadata": {},
   "source": [
    "# Conversation"
   ]
  },
  {
   "cell_type": "markdown",
   "id": "a5fec82b",
   "metadata": {},
   "source": [
    "**User**\n",
    "\n",
    "Can you show me the syntax differences in exception handling between Python 2 and Python 3?\n"
   ]
  }
 ],
 "metadata": {},
 "nbformat": 4,
 "nbformat_minor": 5
}
