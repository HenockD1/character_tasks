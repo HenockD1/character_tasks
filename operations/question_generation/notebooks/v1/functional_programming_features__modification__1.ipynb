{
 "cells": [
  {
   "cell_type": "markdown",
   "id": "11c122bd",
   "metadata": {},
   "source": [
    "# Metadata\n",
    "\n",
    "**Python Topics** - python_language_and_scripting > functional_programming_features\n",
    "\n",
    "**Type** - modification\n",
    "\n",
    "**Target Number of Turns (User + Assistant)** - 2+\n"
   ]
  },
  {
   "cell_type": "markdown",
   "id": "96738450",
   "metadata": {},
   "source": [
    "# Conversation"
   ]
  },
  {
   "cell_type": "markdown",
   "id": "3157fc23",
   "metadata": {},
   "source": [
    "**User**\n",
    "\n",
    "I've got a list of names and I want to filter out only those that are longer than 5 characters using a filter function. Here's what I have so far: ```names = ['Alice', 'Bob', 'Charlie', 'David'] # I need to insert the filter function here to get the desired result.``` How should I modify it?\n"
   ]
  }
 ],
 "metadata": {},
 "nbformat": 4,
 "nbformat_minor": 5
}
