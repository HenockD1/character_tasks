{
 "cells": [
  {
   "cell_type": "markdown",
   "id": "483a7f0f",
   "metadata": {},
   "source": [
    "# Metadata\n",
    "\n",
    "**Python Topics** - algorithms > by_data_structure > advanced_data_structures\n",
    "\n",
    "**Type** - query\n",
    "\n",
    "**Target Number of Turns (User + Assistant)** - 2+\n"
   ]
  },
  {
   "cell_type": "markdown",
   "id": "cc94262e",
   "metadata": {},
   "source": [
    "# Conversation"
   ]
  },
  {
   "cell_type": "markdown",
   "id": "ef9911a3",
   "metadata": {},
   "source": [
    "**User**\n",
    "\n",
    "Could you show me a Python example of a Segment Tree for range minimum queries?\n"
   ]
  }
 ],
 "metadata": {},
 "nbformat": 4,
 "nbformat_minor": 5
}
