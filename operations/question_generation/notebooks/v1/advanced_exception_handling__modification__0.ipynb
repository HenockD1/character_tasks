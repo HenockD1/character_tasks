{
 "cells": [
  {
   "cell_type": "markdown",
   "id": "eedb7601",
   "metadata": {},
   "source": [
    "# Metadata\n",
    "\n",
    "**Python Topics** - python_language_and_scripting > advanced_exception_handling\n",
    "\n",
    "**Type** - modification\n",
    "\n",
    "**Target Number of Turns (User + Assistant)** - 2+\n"
   ]
  },
  {
   "cell_type": "markdown",
   "id": "f190a7d2",
   "metadata": {},
   "source": [
    "# Conversation"
   ]
  },
  {
   "cell_type": "markdown",
   "id": "1d0f3f94",
   "metadata": {},
   "source": [
    "**User**\n",
    "\n",
    "I've got a function that's supposed to handle errors when opening a file. Can you modify it to use a context manager for better practice? Here's the code: def open_file(filename): try: f = open(filename, 'r') except FileNotFoundError: print('File does not exist.') return None else: return f\n"
   ]
  }
 ],
 "metadata": {},
 "nbformat": 4,
 "nbformat_minor": 5
}
