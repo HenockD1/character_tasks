{
 "cells": [
  {
   "cell_type": "markdown",
   "id": "63bbc749",
   "metadata": {},
   "source": [
    "# Metadata\n",
    "\n",
    "**Python Topics** - high_school > programming\n",
    "\n",
    "**Type** - modification\n",
    "\n",
    "**Target Number of Turns (User + Assistant)** - 2+\n"
   ]
  },
  {
   "cell_type": "markdown",
   "id": "fabfd0d5",
   "metadata": {},
   "source": [
    "# Conversation"
   ]
  },
  {
   "cell_type": "markdown",
   "id": "840a2664",
   "metadata": {},
   "source": [
    "**User**\n",
    "\n",
    "I've written a function to calculate the average grade from a list of grades, but I want to exclude any failing grades (below 60) from the calculation. Can you modify it to do that? Here's my current function: ```def calculate_average(grades): return sum(grades) / len(grades)```\n"
   ]
  }
 ],
 "metadata": {},
 "nbformat": 4,
 "nbformat_minor": 5
}
