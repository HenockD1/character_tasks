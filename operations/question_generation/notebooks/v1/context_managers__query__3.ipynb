{
 "cells": [
  {
   "cell_type": "markdown",
   "id": "48dc81d2",
   "metadata": {},
   "source": [
    "# Metadata\n",
    "\n",
    "**Python Topics** - python_language_and_scripting > context_managers\n",
    "\n",
    "**Type** - query\n",
    "\n",
    "**Target Number of Turns (User + Assistant)** - 2+\n"
   ]
  },
  {
   "cell_type": "markdown",
   "id": "894e30fc",
   "metadata": {},
   "source": [
    "# Conversation"
   ]
  },
  {
   "cell_type": "markdown",
   "id": "99d804c3",
   "metadata": {},
   "source": [
    "**User**\n",
    "\n",
    "Could you demonstrate how to write a context manager that temporarily changes the current working directory?\n"
   ]
  }
 ],
 "metadata": {},
 "nbformat": 4,
 "nbformat_minor": 5
}
