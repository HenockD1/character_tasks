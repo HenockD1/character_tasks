{
 "cells": [
  {
   "cell_type": "markdown",
   "id": "8ca2076c",
   "metadata": {},
   "source": [
    "# Metadata\n",
    "\n",
    "**Python Topics** - deep_learning > loss_functions\n",
    "\n",
    "**Type** - modification\n",
    "\n",
    "**Target Number of Turns (User + Assistant)** - 2+\n"
   ]
  },
  {
   "cell_type": "markdown",
   "id": "51a07ca4",
   "metadata": {},
   "source": [
    "# Conversation"
   ]
  },
  {
   "cell_type": "markdown",
   "id": "08811473",
   "metadata": {},
   "source": [
    "**User**\n",
    "\n",
    "I'm trying to implement a custom loss function that combines mean squared error and mean absolute error. Can you help me integrate both into a single loss function? Here's what I have so far: `def custom_loss(y_true, y_pred): return tf.reduce_mean(tf.square(y_true - y_pred))`.\n"
   ]
  }
 ],
 "metadata": {},
 "nbformat": 4,
 "nbformat_minor": 5
}
