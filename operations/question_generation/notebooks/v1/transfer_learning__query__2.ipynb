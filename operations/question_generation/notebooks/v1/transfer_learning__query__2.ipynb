{
 "cells": [
  {
   "cell_type": "markdown",
   "id": "a7cd7346",
   "metadata": {},
   "source": [
    "# Metadata\n",
    "\n",
    "**Python Topics** - deep_learning > transfer_learning\n",
    "\n",
    "**Type** - query\n",
    "\n",
    "**Target Number of Turns (User + Assistant)** - 2+\n"
   ]
  },
  {
   "cell_type": "markdown",
   "id": "65010c0d",
   "metadata": {},
   "source": [
    "# Conversation"
   ]
  },
  {
   "cell_type": "markdown",
   "id": "6d211e72",
   "metadata": {},
   "source": [
    "**User**\n",
    "\n",
    "What's the process for freezing layers in a pre-trained model using PyTorch to prevent them from updating during transfer learning?\n"
   ]
  }
 ],
 "metadata": {},
 "nbformat": 4,
 "nbformat_minor": 5
}
