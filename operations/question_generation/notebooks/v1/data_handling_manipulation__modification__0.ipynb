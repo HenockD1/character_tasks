{
 "cells": [
  {
   "cell_type": "markdown",
   "id": "661c442e",
   "metadata": {},
   "source": [
    "# Metadata\n",
    "\n",
    "**Python Topics** - python_language_and_scripting > data_handling_manipulation\n",
    "\n",
    "**Type** - modification\n",
    "\n",
    "**Target Number of Turns (User + Assistant)** - 2+\n"
   ]
  },
  {
   "cell_type": "markdown",
   "id": "23343d8a",
   "metadata": {},
   "source": [
    "# Conversation"
   ]
  },
  {
   "cell_type": "markdown",
   "id": "523cbb05",
   "metadata": {},
   "source": [
    "**User**\n",
    "\n",
    "I have a list of dictionaries representing students' grades. Can you help me sort this list by the 'math' key in descending order? Here's the list: students = [{'name': 'Alice', 'math': 90}, {'name': 'Bob', 'math': 75}, {'name': 'Charlie', 'math': 85}]\n"
   ]
  }
 ],
 "metadata": {},
 "nbformat": 4,
 "nbformat_minor": 5
}
