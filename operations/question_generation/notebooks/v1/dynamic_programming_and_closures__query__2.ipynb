{
 "cells": [
  {
   "cell_type": "markdown",
   "id": "88dfc060",
   "metadata": {},
   "source": [
    "# Metadata\n",
    "\n",
    "**Python Topics** - python_language_and_scripting > dynamic_programming_and_closures\n",
    "\n",
    "**Type** - query\n",
    "\n",
    "**Target Number of Turns (User + Assistant)** - 2+\n"
   ]
  },
  {
   "cell_type": "markdown",
   "id": "7a58b8bf",
   "metadata": {},
   "source": [
    "# Conversation"
   ]
  },
  {
   "cell_type": "markdown",
   "id": "9cf06f00",
   "metadata": {},
   "source": [
    "**User**\n",
    "\n",
    "What's the Pythonic way to implement memoization in a recursive function?\n"
   ]
  }
 ],
 "metadata": {},
 "nbformat": 4,
 "nbformat_minor": 5
}
