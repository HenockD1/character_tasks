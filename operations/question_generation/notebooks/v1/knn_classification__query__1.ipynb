{
 "cells": [
  {
   "cell_type": "markdown",
   "id": "221ce314",
   "metadata": {},
   "source": [
    "# Metadata\n",
    "\n",
    "**Python Topics** - ml_principles > knn_classification\n",
    "\n",
    "**Type** - query\n",
    "\n",
    "**Target Number of Turns (User + Assistant)** - 2+\n"
   ]
  },
  {
   "cell_type": "markdown",
   "id": "b58cec39",
   "metadata": {},
   "source": [
    "# Conversation"
   ]
  },
  {
   "cell_type": "markdown",
   "id": "6aa8b088",
   "metadata": {},
   "source": [
    "**User**\n",
    "\n",
    "Could you show me how to use scikit-learn to perform KNN classification on the Iris dataset?\n"
   ]
  }
 ],
 "metadata": {},
 "nbformat": 4,
 "nbformat_minor": 5
}
