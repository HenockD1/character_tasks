{
 "cells": [
  {
   "cell_type": "markdown",
   "id": "7ef45bbb",
   "metadata": {},
   "source": [
    "# Metadata\n",
    "\n",
    "**Python Topics** - web_development > fundamentals\n",
    "\n",
    "**Type** - query\n",
    "\n",
    "**Target Number of Turns (User + Assistant)** - 2+\n"
   ]
  },
  {
   "cell_type": "markdown",
   "id": "c997ca8c",
   "metadata": {},
   "source": [
    "# Conversation"
   ]
  },
  {
   "cell_type": "markdown",
   "id": "675820c1",
   "metadata": {},
   "source": [
    "**User**\n",
    "\n",
    "What's the simplest way to serve a static HTML file using Flask?\n"
   ]
  }
 ],
 "metadata": {},
 "nbformat": 4,
 "nbformat_minor": 5
}
