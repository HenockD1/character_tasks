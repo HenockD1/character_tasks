{
 "cells": [
  {
   "cell_type": "markdown",
   "id": "c180dffa",
   "metadata": {},
   "source": [
    "# Metadata\n",
    "\n",
    "**Python Topics** - data_analysis > sql_query_with_pandas\n",
    "\n",
    "**Type** - modification\n",
    "\n",
    "**Target Number of Turns (User + Assistant)** - 2+\n"
   ]
  },
  {
   "cell_type": "markdown",
   "id": "0e9c657a",
   "metadata": {},
   "source": [
    "# Conversation"
   ]
  },
  {
   "cell_type": "markdown",
   "id": "60a1b0e0",
   "metadata": {},
   "source": [
    "**User**\n",
    "\n",
    "I'm trying to join two DataFrames, 'orders_df' and 'customers_df', on the 'customer_id' column using pandas' SQL-like functionality. Here's my current code: pd.merge(orders_df, customers_df, left_on='order_id', right_on='customer_id'). Can you correct it to use the proper join keys?\n"
   ]
  }
 ],
 "metadata": {},
 "nbformat": 4,
 "nbformat_minor": 5
}
