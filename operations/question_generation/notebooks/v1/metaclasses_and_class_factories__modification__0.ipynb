{
 "cells": [
  {
   "cell_type": "markdown",
   "id": "f570d1cf",
   "metadata": {},
   "source": [
    "# Metadata\n",
    "\n",
    "**Python Topics** - python_language_and_scripting > metaclasses_and_class_factories\n",
    "\n",
    "**Type** - modification\n",
    "\n",
    "**Target Number of Turns (User + Assistant)** - 2+\n"
   ]
  },
  {
   "cell_type": "markdown",
   "id": "122af879",
   "metadata": {},
   "source": [
    "# Conversation"
   ]
  },
  {
   "cell_type": "markdown",
   "id": "f56b7a7e",
   "metadata": {},
   "source": [
    "**User**\n",
    "\n",
    "I've got a class factory here that's supposed to create classes with a predefined class variable 'category'. Can you tweak it to also ensure all created classes have a method 'get_category' that returns this variable?\n"
   ]
  }
 ],
 "metadata": {},
 "nbformat": 4,
 "nbformat_minor": 5
}
