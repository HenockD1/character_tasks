{
 "cells": [
  {
   "cell_type": "markdown",
   "id": "7e7a5eae",
   "metadata": {},
   "source": [
    "# Metadata\n",
    "\n",
    "**Python Topics** - algorithms > by_data_structure > advanced_data_structures\n",
    "\n",
    "**Type** - modification\n",
    "\n",
    "**Target Number of Turns (User + Assistant)** - 2+\n"
   ]
  },
  {
   "cell_type": "markdown",
   "id": "48537df7",
   "metadata": {},
   "source": [
    "# Conversation"
   ]
  },
  {
   "cell_type": "markdown",
   "id": "e7164b2a",
   "metadata": {},
   "source": [
    "**User**\n",
    "\n",
    "Can you modify this Segment Tree code to support updates on a range of indices instead of just a single index? Here's the Segment Tree code for sum queries:\n",
    "```python\n",
    "class SegmentTree:\n",
    "    def __init__(self, arr):\n",
    "        self.n = len(arr)\n",
    "        self.tree = [0] * (2 * self.n)\n",
    "        self.build(arr)\n",
    "\n",
    "    def build(self, arr):\n",
    "        for i in range(self.n):\n",
    "            self.tree[self.n + i] = arr[i]\n",
    "        for i in range(self.n - 1, 0, -1):\n",
    "            self.tree[i] = self.tree[i << 1] + self.tree[i << 1 | 1]\n",
    "\n",
    "    def update(self, idx, val):\n",
    "        idx += self.n\n",
    "        self.tree[idx] = val\n",
    "        while idx > 1:\n",
    "            idx >>= 1\n",
    "            self.tree[idx] = self.tree[idx << 1] + self.tree[idx << 1 | 1]\n",
    "\n",
    "    def query(self, l, r):\n",
    "        res = 0\n",
    "        l += self.n\n",
    "        r += self.n\n",
    "        while l < r:\n",
    "            if l & 1:\n",
    "                res += self.tree[l]\n",
    "                l += 1\n",
    "            if r & 1:\n",
    "                r -= 1\n",
    "                res += self.tree[r]\n",
    "            l >>= 1\n",
    "            r >>= 1\n",
    "        return res\n",
    "```\n",
    "\n"
   ]
  }
 ],
 "metadata": {},
 "nbformat": 4,
 "nbformat_minor": 5
}
