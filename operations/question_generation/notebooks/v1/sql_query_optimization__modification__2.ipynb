{
 "cells": [
  {
   "cell_type": "markdown",
   "id": "19dcce30",
   "metadata": {},
   "source": [
    "# Metadata\n",
    "\n",
    "**Python Topics** - database > sql_query_optimization\n",
    "\n",
    "**Type** - modification\n",
    "\n",
    "**Target Number of Turns (User + Assistant)** - 2+\n"
   ]
  },
  {
   "cell_type": "markdown",
   "id": "a807efa2",
   "metadata": {},
   "source": [
    "# Conversation"
   ]
  },
  {
   "cell_type": "markdown",
   "id": "bc3ad151",
   "metadata": {},
   "source": [
    "**User**\n",
    "\n",
    "Please help me refactor this Python code to use a JOIN for efficiency instead of the current subquery. Here's the existing code: `query = \"SELECT p.name, p.price FROM Products p WHERE p.id IN (SELECT order.product_id FROM Orders order WHERE order.status = 'shipped')\"; products = cursor.execute(query).fetchall()`\n"
   ]
  }
 ],
 "metadata": {},
 "nbformat": 4,
 "nbformat_minor": 5
}
