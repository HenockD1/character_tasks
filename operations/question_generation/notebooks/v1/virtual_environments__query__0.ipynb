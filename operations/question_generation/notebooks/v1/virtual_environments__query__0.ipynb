{
 "cells": [
  {
   "cell_type": "markdown",
   "id": "fe883e1b",
   "metadata": {},
   "source": [
    "# Metadata\n",
    "\n",
    "**Python Topics** - python_language_and_scripting > virtual_environments\n",
    "\n",
    "**Type** - query\n",
    "\n",
    "**Target Number of Turns (User + Assistant)** - 2+\n"
   ]
  },
  {
   "cell_type": "markdown",
   "id": "ec9d8b76",
   "metadata": {},
   "source": [
    "# Conversation"
   ]
  },
  {
   "cell_type": "markdown",
   "id": "af04db6b",
   "metadata": {},
   "source": [
    "**User**\n",
    "\n",
    "How do I create a new virtual environment using venv in Python?\n"
   ]
  }
 ],
 "metadata": {},
 "nbformat": 4,
 "nbformat_minor": 5
}
