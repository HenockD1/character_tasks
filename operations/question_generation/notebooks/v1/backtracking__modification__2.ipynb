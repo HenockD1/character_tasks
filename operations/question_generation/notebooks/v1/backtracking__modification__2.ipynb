{
 "cells": [
  {
   "cell_type": "markdown",
   "id": "ea3ebd38",
   "metadata": {},
   "source": [
    "# Metadata\n",
    "\n",
    "**Python Topics** - algorithms > by_topic > backtracking\n",
    "\n",
    "**Type** - modification\n",
    "\n",
    "**Target Number of Turns (User + Assistant)** - 2+\n"
   ]
  },
  {
   "cell_type": "markdown",
   "id": "2a924e97",
   "metadata": {},
   "source": [
    "# Conversation"
   ]
  },
  {
   "cell_type": "markdown",
   "id": "05791d5f",
   "metadata": {},
   "source": [
    "**User**\n",
    "\n",
    "I need to tweak my code that finds all subsets of a set to filter out subsets that have a sum greater than a given target. Here's the current subset generation code:\n",
    "```python\n",
    "def subsets(nums):\n",
    "    res = [[]]\n",
    "    for num in nums:\n",
    "        res += [curr + [num] for curr in res]\n",
    "    return res\n",
    "```\n",
    "How can I modify the subsets function to include only those subsets whose sum does not exceed the target sum?\n"
   ]
  }
 ],
 "metadata": {},
 "nbformat": 4,
 "nbformat_minor": 5
}
