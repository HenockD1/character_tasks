{
 "cells": [
  {
   "cell_type": "markdown",
   "id": "8000c4bb",
   "metadata": {},
   "source": [
    "# Metadata\n",
    "\n",
    "**Python Topics** - unit_testing_methodology > testing_asynchronous_code\n",
    "\n",
    "**Type** - modification\n",
    "\n",
    "**Target Number of Turns (User + Assistant)** - 2+\n"
   ]
  },
  {
   "cell_type": "markdown",
   "id": "f22d3780",
   "metadata": {},
   "source": [
    "# Conversation"
   ]
  },
  {
   "cell_type": "markdown",
   "id": "51e058cc",
   "metadata": {},
   "source": [
    "**User**\n",
    "\n",
    "I need to test an async coroutine that raises an exception when a certain condition is met. How do I write a pytest test to confirm that the exception is raised as expected? Here's the coroutine: ```async def risky_operation(): # might raise an exception```\n"
   ]
  }
 ],
 "metadata": {},
 "nbformat": 4,
 "nbformat_minor": 5
}
