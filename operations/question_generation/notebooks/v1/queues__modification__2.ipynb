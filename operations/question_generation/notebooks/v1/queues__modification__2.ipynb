{
 "cells": [
  {
   "cell_type": "markdown",
   "id": "f0c9bc7b",
   "metadata": {},
   "source": [
    "# Metadata\n",
    "\n",
    "**Python Topics** - algorithms > by_data_structure > queues\n",
    "\n",
    "**Type** - modification\n",
    "\n",
    "**Target Number of Turns (User + Assistant)** - 2+\n"
   ]
  },
  {
   "cell_type": "markdown",
   "id": "732dc04e",
   "metadata": {},
   "source": [
    "# Conversation"
   ]
  },
  {
   "cell_type": "markdown",
   "id": "b3af94de",
   "metadata": {},
   "source": [
    "**User**\n",
    "\n",
    "I'm trying to implement a circular queue in Python, but I'm stuck. Can you show me how to modify the following code to wrap around when it reaches the end of the buffer? class CircularQueue: def __init__(self, size): self.size = size self.queue = [None] * size self.head = self.tail = -1\n"
   ]
  }
 ],
 "metadata": {},
 "nbformat": 4,
 "nbformat_minor": 5
}
