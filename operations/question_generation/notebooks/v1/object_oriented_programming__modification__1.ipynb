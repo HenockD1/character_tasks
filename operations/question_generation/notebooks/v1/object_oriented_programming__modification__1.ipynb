{
 "cells": [
  {
   "cell_type": "markdown",
   "id": "fb7c842b",
   "metadata": {},
   "source": [
    "# Metadata\n",
    "\n",
    "**Python Topics** - python_language_and_scripting > object_oriented_programming\n",
    "\n",
    "**Type** - modification\n",
    "\n",
    "**Target Number of Turns (User + Assistant)** - 2+\n"
   ]
  },
  {
   "cell_type": "markdown",
   "id": "1db63025",
   "metadata": {},
   "source": [
    "# Conversation"
   ]
  },
  {
   "cell_type": "markdown",
   "id": "9516b6eb",
   "metadata": {},
   "source": [
    "**User**\n",
    "\n",
    "Here's a snippet of my `Car` class. It only has an `__init__` method. Could you add a `drive` method that takes `distance` as a parameter and prints 'Driven <distance> miles'?\n"
   ]
  }
 ],
 "metadata": {},
 "nbformat": 4,
 "nbformat_minor": 5
}
