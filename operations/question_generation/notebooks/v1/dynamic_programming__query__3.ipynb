{
 "cells": [
  {
   "cell_type": "markdown",
   "id": "aaa909b6",
   "metadata": {},
   "source": [
    "# Metadata\n",
    "\n",
    "**Python Topics** - algorithms > by_topic > dynamic_programming\n",
    "\n",
    "**Type** - query\n",
    "\n",
    "**Target Number of Turns (User + Assistant)** - 2+\n"
   ]
  },
  {
   "cell_type": "markdown",
   "id": "efc5266a",
   "metadata": {},
   "source": [
    "# Conversation"
   ]
  },
  {
   "cell_type": "markdown",
   "id": "eb2c5b2d",
   "metadata": {},
   "source": [
    "**User**\n",
    "\n",
    "I need a Python solution for the 0/1 knapsack problem using dynamic programming. Can you help?\n"
   ]
  }
 ],
 "metadata": {},
 "nbformat": 4,
 "nbformat_minor": 5
}
