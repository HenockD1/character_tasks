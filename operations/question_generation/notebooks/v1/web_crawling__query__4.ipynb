{
 "cells": [
  {
   "cell_type": "markdown",
   "id": "e5067715",
   "metadata": {},
   "source": [
    "# Metadata\n",
    "\n",
    "**Python Topics** - web_development > web_crawling\n",
    "\n",
    "**Type** - query\n",
    "\n",
    "**Target Number of Turns (User + Assistant)** - 2+\n"
   ]
  },
  {
   "cell_type": "markdown",
   "id": "39cd781d",
   "metadata": {},
   "source": [
    "# Conversation"
   ]
  },
  {
   "cell_type": "markdown",
   "id": "80f578cd",
   "metadata": {},
   "source": [
    "**User**\n",
    "\n",
    "In Python's requests library, how do I manage session cookies when crawling a site?\n"
   ]
  }
 ],
 "metadata": {},
 "nbformat": 4,
 "nbformat_minor": 5
}
