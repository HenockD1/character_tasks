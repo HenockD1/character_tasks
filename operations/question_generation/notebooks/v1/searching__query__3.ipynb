{
 "cells": [
  {
   "cell_type": "markdown",
   "id": "bd3a6ade",
   "metadata": {},
   "source": [
    "# Metadata\n",
    "\n",
    "**Python Topics** - algorithms > by_topic > searching\n",
    "\n",
    "**Type** - query\n",
    "\n",
    "**Target Number of Turns (User + Assistant)** - 2+\n"
   ]
  },
  {
   "cell_type": "markdown",
   "id": "e1e6dd1e",
   "metadata": {},
   "source": [
    "# Conversation"
   ]
  },
  {
   "cell_type": "markdown",
   "id": "7a97c610",
   "metadata": {},
   "source": [
    "**User**\n",
    "\n",
    "Can you help me write a Python function that uses interpolation search to find a number in a uniformly distributed list?\n"
   ]
  }
 ],
 "metadata": {},
 "nbformat": 4,
 "nbformat_minor": 5
}
