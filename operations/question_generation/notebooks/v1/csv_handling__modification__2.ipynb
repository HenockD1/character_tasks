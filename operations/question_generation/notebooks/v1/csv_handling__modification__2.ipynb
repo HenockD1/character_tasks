{
 "cells": [
  {
   "cell_type": "markdown",
   "id": "06e63e71",
   "metadata": {},
   "source": [
    "# Metadata\n",
    "\n",
    "**Python Topics** - data_analysis > csv_handling\n",
    "\n",
    "**Type** - modification\n",
    "\n",
    "**Target Number of Turns (User + Assistant)** - 2+\n"
   ]
  },
  {
   "cell_type": "markdown",
   "id": "fc52156d",
   "metadata": {},
   "source": [
    "# Conversation"
   ]
  },
  {
   "cell_type": "markdown",
   "id": "659af51d",
   "metadata": {},
   "source": [
    "**User**\n",
    "\n",
    "I have this snippet of code that reads a CSV file: `data = pd.read_csv('info.csv')`. I'd like to add a new column 'status' with the default value 'new' to the DataFrame. What should I add to this code?\n"
   ]
  }
 ],
 "metadata": {},
 "nbformat": 4,
 "nbformat_minor": 5
}
