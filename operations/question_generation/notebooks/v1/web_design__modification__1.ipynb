{
 "cells": [
  {
   "cell_type": "markdown",
   "id": "5636c3b2",
   "metadata": {},
   "source": [
    "# Metadata\n",
    "\n",
    "**Python Topics** - web_development > web_design\n",
    "\n",
    "**Type** - modification\n",
    "\n",
    "**Target Number of Turns (User + Assistant)** - 2+\n"
   ]
  },
  {
   "cell_type": "markdown",
   "id": "a92f30dd",
   "metadata": {},
   "source": [
    "# Conversation"
   ]
  },
  {
   "cell_type": "markdown",
   "id": "710902cb",
   "metadata": {},
   "source": [
    "**User**\n",
    "\n",
    "I'm working on a Django template and need to loop over a list of items passed from the view. Here's the snippet: ```html\n",
    "<ul>\n",
    "    {% for item in items %}\n",
    "    <li>{{ item }}</li>\n",
    "    {% endfor %}\n",
    "</ul>\n",
    "``` I realized I also need to display the index of each item. Could you modify the code to include the index next to each item?\n"
   ]
  }
 ],
 "metadata": {},
 "nbformat": 4,
 "nbformat_minor": 5
}
