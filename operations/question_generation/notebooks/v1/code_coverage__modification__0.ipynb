{
 "cells": [
  {
   "cell_type": "markdown",
   "id": "ab898aad",
   "metadata": {},
   "source": [
    "# Metadata\n",
    "\n",
    "**Python Topics** - unit_testing_methodology > code_coverage\n",
    "\n",
    "**Type** - modification\n",
    "\n",
    "**Target Number of Turns (User + Assistant)** - 2+\n"
   ]
  },
  {
   "cell_type": "markdown",
   "id": "85f83ca2",
   "metadata": {},
   "source": [
    "# Conversation"
   ]
  },
  {
   "cell_type": "markdown",
   "id": "cfe2007c",
   "metadata": {},
   "source": [
    "**User**\n",
    "\n",
    "I've got a function that calculates the sum of two numbers. Can you help me write a test case to achieve 100% code coverage for it? Here's the function: ```def add(a, b): return a + b```\n"
   ]
  }
 ],
 "metadata": {},
 "nbformat": 4,
 "nbformat_minor": 5
}
