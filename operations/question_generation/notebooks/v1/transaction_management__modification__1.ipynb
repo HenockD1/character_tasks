{
 "cells": [
  {
   "cell_type": "markdown",
   "id": "26098aa9",
   "metadata": {},
   "source": [
    "# Metadata\n",
    "\n",
    "**Python Topics** - database > transaction_management\n",
    "\n",
    "**Type** - modification\n",
    "\n",
    "**Target Number of Turns (User + Assistant)** - 2+\n"
   ]
  },
  {
   "cell_type": "markdown",
   "id": "80432847",
   "metadata": {},
   "source": [
    "# Conversation"
   ]
  },
  {
   "cell_type": "markdown",
   "id": "f8d80f1b",
   "metadata": {},
   "source": [
    "**User**\n",
    "\n",
    "I have a function that's supposed to handle transactions, but I forgot to ensure the transaction is committed only if all operations are successful. Can you adjust my function to commit the transaction at the end only if there are no exceptions? If there's an exception, it should rollback. Here's the function:\n",
    "```python\n",
    "import sqlite3\n",
    "\n",
    "def handle_transaction(operations):\n",
    "    conn = sqlite3.connect('example.db')\n",
    "    cursor = conn.cursor()\n",
    "    for op in operations:\n",
    "        cursor.execute(op)\n",
    "    # Add commit or rollback logic here\n",
    "handle_transaction(['INSERT INTO stocks VALUES (\"2006-01-05\",\"BUY\",\"RHAT\",100,35.14)'])\n",
    "```\n"
   ]
  }
 ],
 "metadata": {},
 "nbformat": 4,
 "nbformat_minor": 5
}
