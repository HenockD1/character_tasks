{
 "cells": [
  {
   "cell_type": "markdown",
   "id": "a9807447",
   "metadata": {},
   "source": [
    "# Metadata\n",
    "\n",
    "**Python Topics** - algorithms > by_topic > recursion\n",
    "\n",
    "**Type** - query\n",
    "\n",
    "**Target Number of Turns (User + Assistant)** - 2+\n"
   ]
  },
  {
   "cell_type": "markdown",
   "id": "931617a5",
   "metadata": {},
   "source": [
    "# Conversation"
   ]
  },
  {
   "cell_type": "markdown",
   "id": "4cdf9997",
   "metadata": {},
   "source": [
    "**User**\n",
    "\n",
    "Could you demonstrate a recursive algorithm to find the greatest common divisor (GCD) of two numbers?\n"
   ]
  }
 ],
 "metadata": {},
 "nbformat": 4,
 "nbformat_minor": 5
}
