{
 "cells": [
  {
   "cell_type": "markdown",
   "id": "4e727569",
   "metadata": {},
   "source": [
    "# Metadata\n",
    "\n",
    "**Python Topics** - python_language_and_scripting > data_serialization_and_marshaling\n",
    "\n",
    "**Type** - modification\n",
    "\n",
    "**Target Number of Turns (User + Assistant)** - 2+\n"
   ]
  },
  {
   "cell_type": "markdown",
   "id": "014c8951",
   "metadata": {},
   "source": [
    "# Conversation"
   ]
  },
  {
   "cell_type": "markdown",
   "id": "63304b39",
   "metadata": {},
   "source": [
    "**User**\n",
    "\n",
    "I'm trying to pretty-print a JSON object in Python for better readability. Here's the JSON object: {'name': 'Alice', 'hobbies': ['reading', 'gaming', 'hiking']}. How can I achieve that?\n"
   ]
  }
 ],
 "metadata": {},
 "nbformat": 4,
 "nbformat_minor": 5
}
