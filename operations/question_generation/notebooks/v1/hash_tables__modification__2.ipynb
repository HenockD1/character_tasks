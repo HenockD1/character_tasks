{
 "cells": [
  {
   "cell_type": "markdown",
   "id": "fc460492",
   "metadata": {},
   "source": [
    "# Metadata\n",
    "\n",
    "**Python Topics** - algorithms > by_data_structure > hash_tables\n",
    "\n",
    "**Type** - modification\n",
    "\n",
    "**Target Number of Turns (User + Assistant)** - 2+\n"
   ]
  },
  {
   "cell_type": "markdown",
   "id": "31c89822",
   "metadata": {},
   "source": [
    "# Conversation"
   ]
  },
  {
   "cell_type": "markdown",
   "id": "f90f3470",
   "metadata": {},
   "source": [
    "**User**\n",
    "\n",
    "I'm trying to invert a dictionary where the values are unique, but I'm stuck. The code I have swaps the keys and values, but it's not working as expected. Can you show me the correct way to do it? Here's my code: `my_dict = {'a': 1, 'b': 2, 'c': 3}`.\n"
   ]
  }
 ],
 "metadata": {},
 "nbformat": 4,
 "nbformat_minor": 5
}
