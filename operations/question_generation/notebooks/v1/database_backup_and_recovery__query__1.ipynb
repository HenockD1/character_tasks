{
 "cells": [
  {
   "cell_type": "markdown",
   "id": "8365c49b",
   "metadata": {},
   "source": [
    "# Metadata\n",
    "\n",
    "**Python Topics** - database > database_backup_and_recovery\n",
    "\n",
    "**Type** - query\n",
    "\n",
    "**Target Number of Turns (User + Assistant)** - 2+\n"
   ]
  },
  {
   "cell_type": "markdown",
   "id": "861a7f2c",
   "metadata": {},
   "source": [
    "# Conversation"
   ]
  },
  {
   "cell_type": "markdown",
   "id": "ac0df6a4",
   "metadata": {},
   "source": [
    "**User**\n",
    "\n",
    "What's the Python code to restore a PostgreSQL database from a backup file?\n"
   ]
  }
 ],
 "metadata": {},
 "nbformat": 4,
 "nbformat_minor": 5
}
