{
 "cells": [
  {
   "cell_type": "markdown",
   "id": "4b2a7659",
   "metadata": {},
   "source": [
    "# Metadata\n",
    "\n",
    "**Python Topics** - database > no_sql_database_concepts\n",
    "\n",
    "**Type** - query\n",
    "\n",
    "**Target Number of Turns (User + Assistant)** - 2+\n"
   ]
  },
  {
   "cell_type": "markdown",
   "id": "86392bff",
   "metadata": {},
   "source": [
    "# Conversation"
   ]
  },
  {
   "cell_type": "markdown",
   "id": "ae8ece94",
   "metadata": {},
   "source": [
    "**User**\n",
    "\n",
    "How do I delete an item from a DynamoDB table using boto3 in Python?\n"
   ]
  }
 ],
 "metadata": {},
 "nbformat": 4,
 "nbformat_minor": 5
}
