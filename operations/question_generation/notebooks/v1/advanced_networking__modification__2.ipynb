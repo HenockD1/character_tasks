{
 "cells": [
  {
   "cell_type": "markdown",
   "id": "bcc3a35f",
   "metadata": {},
   "source": [
    "# Metadata\n",
    "\n",
    "**Python Topics** - python_language_and_scripting > advanced_networking\n",
    "\n",
    "**Type** - modification\n",
    "\n",
    "**Target Number of Turns (User + Assistant)** - 2+\n"
   ]
  },
  {
   "cell_type": "markdown",
   "id": "7e059df2",
   "metadata": {},
   "source": [
    "# Conversation"
   ]
  },
  {
   "cell_type": "markdown",
   "id": "1d237a0a",
   "metadata": {},
   "source": [
    "**User**\n",
    "\n",
    "Here's a script that sends a simple HTTP GET request using the `socket` module. Can you refactor it to use `requests` instead for better readability and error handling? ```python\n",
    "import socket\n",
    "\n",
    "host = 'httpbin.org'\n",
    "port = 80\n",
    "\n",
    "with socket.socket(socket.AF_INET, socket.SOCK_STREAM) as s:\n",
    "    s.connect((host, port))\n",
    "    request = 'GET / HTTP/1.1\\r\\nHost: %s\\r\\n\\r\\n' % host\n",
    "    s.send(request.encode())\n",
    "    response = s.recv(4096)\n",
    "    print(response)\n",
    "```\n"
   ]
  }
 ],
 "metadata": {},
 "nbformat": 4,
 "nbformat_minor": 5
}
