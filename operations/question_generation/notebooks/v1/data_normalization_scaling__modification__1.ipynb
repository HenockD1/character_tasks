{
 "cells": [
  {
   "cell_type": "markdown",
   "id": "83a5154d",
   "metadata": {},
   "source": [
    "# Metadata\n",
    "\n",
    "**Python Topics** - ml_principles > data_normalization_scaling\n",
    "\n",
    "**Type** - modification\n",
    "\n",
    "**Target Number of Turns (User + Assistant)** - 2+\n"
   ]
  },
  {
   "cell_type": "markdown",
   "id": "bebb70fd",
   "metadata": {},
   "source": [
    "# Conversation"
   ]
  },
  {
   "cell_type": "markdown",
   "id": "66b8e309",
   "metadata": {},
   "source": [
    "**User**\n",
    "\n",
    "Here's a snippet where I use NumPy to scale a 1D array 'data'. Can you refactor it to use StandardScaler from sklearn instead?\n"
   ]
  }
 ],
 "metadata": {},
 "nbformat": 4,
 "nbformat_minor": 5
}
