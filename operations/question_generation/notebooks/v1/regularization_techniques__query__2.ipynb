{
 "cells": [
  {
   "cell_type": "markdown",
   "id": "779fb716",
   "metadata": {},
   "source": [
    "# Metadata\n",
    "\n",
    "**Python Topics** - deep_learning > regularization_techniques\n",
    "\n",
    "**Type** - query\n",
    "\n",
    "**Target Number of Turns (User + Assistant)** - 2+\n"
   ]
  },
  {
   "cell_type": "markdown",
   "id": "760f5097",
   "metadata": {},
   "source": [
    "# Conversation"
   ]
  },
  {
   "cell_type": "markdown",
   "id": "0e0143b0",
   "metadata": {},
   "source": [
    "**User**\n",
    "\n",
    "What's the syntax for adding L1 regularization to a Keras model layer?\n"
   ]
  }
 ],
 "metadata": {},
 "nbformat": 4,
 "nbformat_minor": 5
}
