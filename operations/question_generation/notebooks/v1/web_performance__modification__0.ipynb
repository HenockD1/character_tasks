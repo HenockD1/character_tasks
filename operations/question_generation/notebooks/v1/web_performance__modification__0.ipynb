{
 "cells": [
  {
   "cell_type": "markdown",
   "id": "26b96870",
   "metadata": {},
   "source": [
    "# Metadata\n",
    "\n",
    "**Python Topics** - web_development > web_performance\n",
    "\n",
    "**Type** - modification\n",
    "\n",
    "**Target Number of Turns (User + Assistant)** - 2+\n"
   ]
  },
  {
   "cell_type": "markdown",
   "id": "8d672f7c",
   "metadata": {},
   "source": [
    "# Conversation"
   ]
  },
  {
   "cell_type": "markdown",
   "id": "608bb497",
   "metadata": {},
   "source": [
    "**User**\n",
    "\n",
    "I've got this Flask app and I want to cache the results of the 'get_data' function for 10 minutes to improve performance. Here's the function: ```python\n",
    "def get_data():\n",
    "    # complex database query\n",
    "    return data\n",
    "``` How should I modify it?\n"
   ]
  }
 ],
 "metadata": {},
 "nbformat": 4,
 "nbformat_minor": 5
}
