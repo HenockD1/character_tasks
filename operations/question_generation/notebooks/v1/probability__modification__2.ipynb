{
 "cells": [
  {
   "cell_type": "markdown",
   "id": "17775f69",
   "metadata": {},
   "source": [
    "# Metadata\n",
    "\n",
    "**Python Topics** - algorithms > by_topic > probability\n",
    "\n",
    "**Type** - modification\n",
    "\n",
    "**Target Number of Turns (User + Assistant)** - 2+\n"
   ]
  },
  {
   "cell_type": "markdown",
   "id": "e147f65d",
   "metadata": {},
   "source": [
    "# Conversation"
   ]
  },
  {
   "cell_type": "markdown",
   "id": "49363393",
   "metadata": {},
   "source": [
    "**User**\n",
    "\n",
    "I need to tweak this code to simulate flipping a coin 100 times and then tell me how many times it landed on heads. Here's the initial code: ```python\n",
    "import random\n",
    "def flip_coin():\n",
    "    return 'heads' if random.choice([True, False]) else 'tails'\n",
    "```\n"
   ]
  }
 ],
 "metadata": {},
 "nbformat": 4,
 "nbformat_minor": 5
}
