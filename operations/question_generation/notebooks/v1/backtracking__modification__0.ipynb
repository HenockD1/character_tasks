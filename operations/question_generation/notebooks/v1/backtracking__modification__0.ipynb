{
 "cells": [
  {
   "cell_type": "markdown",
   "id": "34b390b6",
   "metadata": {},
   "source": [
    "# Metadata\n",
    "\n",
    "**Python Topics** - algorithms > by_topic > backtracking\n",
    "\n",
    "**Type** - modification\n",
    "\n",
    "**Target Number of Turns (User + Assistant)** - 2+\n"
   ]
  },
  {
   "cell_type": "markdown",
   "id": "e84031fe",
   "metadata": {},
   "source": [
    "# Conversation"
   ]
  },
  {
   "cell_type": "markdown",
   "id": "015ccd20",
   "metadata": {},
   "source": [
    "**User**\n",
    "\n",
    "I have a function that generates all permutations of a given list, but I'd like to modify it to only return permutations that do not have consecutive numbers. Here's the current code:\n",
    "```python\n",
    "def permute(nums):\n",
    "    def backtrack(start, end):\n",
    "        if start == end:\n",
    "            result.append(nums[:])\n",
    "        else:\n",
    "            for i in range(start, end):\n",
    "                nums[start], nums[i] = nums[i], nums[start]\n",
    "                backtrack(start + 1, end)\n",
    "                nums[start], nums[i] = nums[i], nums[start]\n",
    "    result = []\n",
    "    backtrack(0, len(nums))\n",
    "    return result\n",
    "```\n",
    "Can you help me adjust the backtrack function to enforce this constraint?\n"
   ]
  }
 ],
 "metadata": {},
 "nbformat": 4,
 "nbformat_minor": 5
}
