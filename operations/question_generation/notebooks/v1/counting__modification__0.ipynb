{
 "cells": [
  {
   "cell_type": "markdown",
   "id": "4865c177",
   "metadata": {},
   "source": [
    "# Metadata\n",
    "\n",
    "**Python Topics** - algorithms > by_topic > counting\n",
    "\n",
    "**Type** - modification\n",
    "\n",
    "**Target Number of Turns (User + Assistant)** - 2+\n"
   ]
  },
  {
   "cell_type": "markdown",
   "id": "5d6dfdec",
   "metadata": {},
   "source": [
    "# Conversation"
   ]
  },
  {
   "cell_type": "markdown",
   "id": "4b11864b",
   "metadata": {},
   "source": [
    "**User**\n",
    "\n",
    "I have a list of integers and I'd like to count how many times each number appears. Here's my current code: `nums = [1, 2, 2, 3, 3, 3, 4]; counts = {}`. Can you help me complete it to get a dictionary with each number and its count?\n"
   ]
  }
 ],
 "metadata": {},
 "nbformat": 4,
 "nbformat_minor": 5
}
