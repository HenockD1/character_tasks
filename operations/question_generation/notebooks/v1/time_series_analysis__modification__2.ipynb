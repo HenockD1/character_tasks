{
 "cells": [
  {
   "cell_type": "markdown",
   "id": "74232fdc",
   "metadata": {},
   "source": [
    "# Metadata\n",
    "\n",
    "**Python Topics** - data_analysis > time_series_analysis\n",
    "\n",
    "**Type** - modification\n",
    "\n",
    "**Target Number of Turns (User + Assistant)** - 2+\n"
   ]
  },
  {
   "cell_type": "markdown",
   "id": "36d815e6",
   "metadata": {},
   "source": [
    "# Conversation"
   ]
  },
  {
   "cell_type": "markdown",
   "id": "69074ef0",
   "metadata": {},
   "source": [
    "**User**\n",
    "\n",
    "I'm trying to calculate the rolling average of a time series in my DataFrame 'df' with a 'temperature' column. The code I have is `df['temperature'].mean()`. Can you adjust it to compute a 7-day moving average instead?\n"
   ]
  }
 ],
 "metadata": {},
 "nbformat": 4,
 "nbformat_minor": 5
}
