{
 "cells": [
  {
   "cell_type": "markdown",
   "id": "621d4c27",
   "metadata": {},
   "source": [
    "# Metadata\n",
    "\n",
    "**Python Topics** - deep_learning > regularization_techniques\n",
    "\n",
    "**Type** - query\n",
    "\n",
    "**Target Number of Turns (User + Assistant)** - 2+\n"
   ]
  },
  {
   "cell_type": "markdown",
   "id": "e64dc301",
   "metadata": {},
   "source": [
    "# Conversation"
   ]
  },
  {
   "cell_type": "markdown",
   "id": "c51de9a4",
   "metadata": {},
   "source": [
    "**User**\n",
    "\n",
    "How do I apply batch normalization in a CNN using TensorFlow?\n"
   ]
  }
 ],
 "metadata": {},
 "nbformat": 4,
 "nbformat_minor": 5
}
