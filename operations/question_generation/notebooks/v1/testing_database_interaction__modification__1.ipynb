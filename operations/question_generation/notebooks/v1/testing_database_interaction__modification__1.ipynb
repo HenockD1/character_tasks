{
 "cells": [
  {
   "cell_type": "markdown",
   "id": "b192fce9",
   "metadata": {},
   "source": [
    "# Metadata\n",
    "\n",
    "**Python Topics** - unit_testing_methodology > testing_database_interaction\n",
    "\n",
    "**Type** - modification\n",
    "\n",
    "**Target Number of Turns (User + Assistant)** - 2+\n"
   ]
  },
  {
   "cell_type": "markdown",
   "id": "c4b0ed9e",
   "metadata": {},
   "source": [
    "# Conversation"
   ]
  },
  {
   "cell_type": "markdown",
   "id": "0d4ba54d",
   "metadata": {},
   "source": [
    "**User**\n",
    "\n",
    "I need to write a test for a database update function, but I want to avoid hitting the actual database. Could you show me how to use a fixture to simulate the database environment? The function looks like this: ```python\n",
    "def update_user_email(user_id, new_email): \n",
    "    conn = connect_to_db() \n",
    "    conn.execute('UPDATE users SET email = ? WHERE id = ?', (new_email, user_id)) \n",
    "    conn.commit() \n",
    "```\n"
   ]
  }
 ],
 "metadata": {},
 "nbformat": 4,
 "nbformat_minor": 5
}
