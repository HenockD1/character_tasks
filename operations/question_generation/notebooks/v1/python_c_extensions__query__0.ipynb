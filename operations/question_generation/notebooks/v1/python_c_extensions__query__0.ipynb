{
 "cells": [
  {
   "cell_type": "markdown",
   "id": "8a5b691b",
   "metadata": {},
   "source": [
    "# Metadata\n",
    "\n",
    "**Python Topics** - python_language_and_scripting > python_c_extensions\n",
    "\n",
    "**Type** - query\n",
    "\n",
    "**Target Number of Turns (User + Assistant)** - 2+\n"
   ]
  },
  {
   "cell_type": "markdown",
   "id": "06053e2f",
   "metadata": {},
   "source": [
    "# Conversation"
   ]
  },
  {
   "cell_type": "markdown",
   "id": "ea427a62",
   "metadata": {},
   "source": [
    "**User**\n",
    "\n",
    "How can I create a simple Python C extension that computes the factorial of a number?\n"
   ]
  }
 ],
 "metadata": {},
 "nbformat": 4,
 "nbformat_minor": 5
}
