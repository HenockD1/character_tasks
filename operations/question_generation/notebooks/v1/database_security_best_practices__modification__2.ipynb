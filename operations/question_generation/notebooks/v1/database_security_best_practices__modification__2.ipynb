{
 "cells": [
  {
   "cell_type": "markdown",
   "id": "6dd29684",
   "metadata": {},
   "source": [
    "# Metadata\n",
    "\n",
    "**Python Topics** - database > database_security_best_practices\n",
    "\n",
    "**Type** - modification\n",
    "\n",
    "**Target Number of Turns (User + Assistant)** - 2+\n"
   ]
  },
  {
   "cell_type": "markdown",
   "id": "4cb5f2fd",
   "metadata": {},
   "source": [
    "# Conversation"
   ]
  },
  {
   "cell_type": "markdown",
   "id": "55ef98b4",
   "metadata": {},
   "source": [
    "**User**\n",
    "\n",
    "I realized I'm not sanitizing inputs before executing a query, which is a bad practice. Can you refactor this code to use parameterized queries to prevent SQL injection? Here's the problematic code: ```def get_user_details(user_id): cursor.execute(f\"SELECT * FROM users WHERE id = {user_id}\") return cursor.fetchone()```\n"
   ]
  }
 ],
 "metadata": {},
 "nbformat": 4,
 "nbformat_minor": 5
}
