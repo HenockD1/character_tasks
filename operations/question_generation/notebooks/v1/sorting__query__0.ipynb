{
 "cells": [
  {
   "cell_type": "markdown",
   "id": "aa4bb989",
   "metadata": {},
   "source": [
    "# Metadata\n",
    "\n",
    "**Python Topics** - algorithms > by_topic > sorting\n",
    "\n",
    "**Type** - query\n",
    "\n",
    "**Target Number of Turns (User + Assistant)** - 2+\n"
   ]
  },
  {
   "cell_type": "markdown",
   "id": "a9c4b6db",
   "metadata": {},
   "source": [
    "# Conversation"
   ]
  },
  {
   "cell_type": "markdown",
   "id": "7e453289",
   "metadata": {},
   "source": [
    "**User**\n",
    "\n",
    "Can you show me how to implement a bubble sort in Python?\n"
   ]
  }
 ],
 "metadata": {},
 "nbformat": 4,
 "nbformat_minor": 5
}
