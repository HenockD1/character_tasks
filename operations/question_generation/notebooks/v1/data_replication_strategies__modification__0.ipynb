{
 "cells": [
  {
   "cell_type": "markdown",
   "id": "cbfc11cc",
   "metadata": {},
   "source": [
    "# Metadata\n",
    "\n",
    "**Python Topics** - database > data_replication_strategies\n",
    "\n",
    "**Type** - modification\n",
    "\n",
    "**Target Number of Turns (User + Assistant)** - 2+\n"
   ]
  },
  {
   "cell_type": "markdown",
   "id": "8bb2e6e4",
   "metadata": {},
   "source": [
    "# Conversation"
   ]
  },
  {
   "cell_type": "markdown",
   "id": "d661a0db",
   "metadata": {},
   "source": [
    "**User**\n",
    "\n",
    "I have a function that connects to a primary database. Can you modify it to connect to a replica if the primary is unreachable? Here's the code: def connect_to_db(): try: primary_conn = connect('primary_db_url') return primary_conn except ConnectionError: # Need to connect to replica here pass\n"
   ]
  }
 ],
 "metadata": {},
 "nbformat": 4,
 "nbformat_minor": 5
}
