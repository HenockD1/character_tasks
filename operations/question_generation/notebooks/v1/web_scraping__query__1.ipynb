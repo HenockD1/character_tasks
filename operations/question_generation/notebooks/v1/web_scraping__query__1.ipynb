{
 "cells": [
  {
   "cell_type": "markdown",
   "id": "4b9ab246",
   "metadata": {},
   "source": [
    "# Metadata\n",
    "\n",
    "**Python Topics** - web_development > web_scraping\n",
    "\n",
    "**Type** - query\n",
    "\n",
    "**Target Number of Turns (User + Assistant)** - 2+\n"
   ]
  },
  {
   "cell_type": "markdown",
   "id": "03019429",
   "metadata": {},
   "source": [
    "# Conversation"
   ]
  },
  {
   "cell_type": "markdown",
   "id": "a6924208",
   "metadata": {},
   "source": [
    "**User**\n",
    "\n",
    "What's the Python code to scrape and print the titles of all articles on a news website?\n"
   ]
  }
 ],
 "metadata": {},
 "nbformat": 4,
 "nbformat_minor": 5
}
