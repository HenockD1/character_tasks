{
 "cells": [
  {
   "cell_type": "markdown",
   "id": "5c04f0ad",
   "metadata": {},
   "source": [
    "# Metadata\n",
    "\n",
    "**Python Topics** - algorithms > by_topic > path_finding\n",
    "\n",
    "**Type** - modification\n",
    "\n",
    "**Target Number of Turns (User + Assistant)** - 2+\n"
   ]
  },
  {
   "cell_type": "markdown",
   "id": "8901be7a",
   "metadata": {},
   "source": [
    "# Conversation"
   ]
  },
  {
   "cell_type": "markdown",
   "id": "5a3d1ef9",
   "metadata": {},
   "source": [
    "**User**\n",
    "\n",
    "I've implemented a basic BFS for a maze, but I want to track the path taken. Can you modify the code to return the path from start to finish? Here's my BFS function: ```def bfs(maze, start, end): queue = [start] visited = set(start) while queue: current = queue.pop(0) if current == end: return True for direction in [(0,1), (1,0), (0,-1), (-1,0)]: r, c = current[0] + direction[0], current[1] + direction[1] if maze[r][c] == 0 and (r, c) not in visited: queue.append((r, c)) visited.add((r, c)) return False```\n"
   ]
  }
 ],
 "metadata": {},
 "nbformat": 4,
 "nbformat_minor": 5
}
