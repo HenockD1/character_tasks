{
 "cells": [
  {
   "cell_type": "markdown",
   "id": "5b3bcd63",
   "metadata": {},
   "source": [
    "# Metadata\n",
    "\n",
    "**Python Topics** - python_language_and_scripting > cython_and_PyPy\n",
    "\n",
    "**Type** - modification\n",
    "\n",
    "**Target Number of Turns (User + Assistant)** - 2+\n"
   ]
  },
  {
   "cell_type": "markdown",
   "id": "2cffafb0",
   "metadata": {},
   "source": [
    "# Conversation"
   ]
  },
  {
   "cell_type": "markdown",
   "id": "aa0e3188",
   "metadata": {},
   "source": [
    "**User**\n",
    "\n",
    "I've got a Python function that's running slow. Could you help me convert it to a Cython function to improve performance? Here's the code:\n",
    "```python\n",
    "def calculate_interest(principal, rate, time):\n",
    "    return principal * (1 + rate) ** time\n",
    "```\n"
   ]
  }
 ],
 "metadata": {},
 "nbformat": 4,
 "nbformat_minor": 5
}
