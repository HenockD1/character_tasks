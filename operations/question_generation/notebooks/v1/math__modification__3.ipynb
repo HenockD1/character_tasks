{
 "cells": [
  {
   "cell_type": "markdown",
   "id": "49460075",
   "metadata": {},
   "source": [
    "# Metadata\n",
    "\n",
    "**Python Topics** - high_school > math\n",
    "\n",
    "**Type** - modification\n",
    "\n",
    "**Target Number of Turns (User + Assistant)** - 2+\n"
   ]
  },
  {
   "cell_type": "markdown",
   "id": "78315a98",
   "metadata": {},
   "source": [
    "# Conversation"
   ]
  },
  {
   "cell_type": "markdown",
   "id": "5e0e9ed5",
   "metadata": {},
   "source": [
    "**User**\n",
    "\n",
    "I have a function that calculates the area of a rectangle, but I need it to also calculate and return the perimeter. Can you modify it to do that? Here's the current function:\n",
    "```python\n",
    "def rectangle_area(length, width):\n",
    "    return length * width\n",
    "```\n"
   ]
  }
 ],
 "metadata": {},
 "nbformat": 4,
 "nbformat_minor": 5
}
