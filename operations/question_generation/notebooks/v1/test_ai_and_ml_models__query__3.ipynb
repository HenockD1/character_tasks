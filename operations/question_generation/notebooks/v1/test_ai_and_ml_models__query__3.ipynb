{
 "cells": [
  {
   "cell_type": "markdown",
   "id": "fc182edc",
   "metadata": {},
   "source": [
    "# Metadata\n",
    "\n",
    "**Python Topics** - unit_testing_methodology > test_ai_and_ml_models\n",
    "\n",
    "**Type** - query\n",
    "\n",
    "**Target Number of Turns (User + Assistant)** - 2+\n"
   ]
  },
  {
   "cell_type": "markdown",
   "id": "50147381",
   "metadata": {},
   "source": [
    "# Conversation"
   ]
  },
  {
   "cell_type": "markdown",
   "id": "00d6899c",
   "metadata": {},
   "source": [
    "**User**\n",
    "\n",
    "I need to test the robustness of my AI model to adversarial examples. How do I write a test case for that?\n"
   ]
  }
 ],
 "metadata": {},
 "nbformat": 4,
 "nbformat_minor": 5
}
