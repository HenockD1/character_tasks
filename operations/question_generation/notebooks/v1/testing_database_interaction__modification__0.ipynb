{
 "cells": [
  {
   "cell_type": "markdown",
   "id": "aa7a8850",
   "metadata": {},
   "source": [
    "# Metadata\n",
    "\n",
    "**Python Topics** - unit_testing_methodology > testing_database_interaction\n",
    "\n",
    "**Type** - modification\n",
    "\n",
    "**Target Number of Turns (User + Assistant)** - 2+\n"
   ]
  },
  {
   "cell_type": "markdown",
   "id": "ba5c62a8",
   "metadata": {},
   "source": [
    "# Conversation"
   ]
  },
  {
   "cell_type": "markdown",
   "id": "037ee86d",
   "metadata": {},
   "source": [
    "**User**\n",
    "\n",
    "I've got a function that connects to a database and retrieves user data. Can you help me mock the database connection for testing purposes? Here's the function: ```python\n",
    "def get_user_data(user_id): \n",
    "    conn = connect_to_db() \n",
    "    data = conn.execute('SELECT * FROM users WHERE id = ?', (user_id,)) \n",
    "    return data.fetchone() \n",
    "```\n"
   ]
  }
 ],
 "metadata": {},
 "nbformat": 4,
 "nbformat_minor": 5
}
