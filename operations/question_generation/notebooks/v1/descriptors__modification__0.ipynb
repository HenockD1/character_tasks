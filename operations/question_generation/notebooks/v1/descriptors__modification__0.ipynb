{
 "cells": [
  {
   "cell_type": "markdown",
   "id": "ecf910de",
   "metadata": {},
   "source": [
    "# Metadata\n",
    "\n",
    "**Python Topics** - python_language_and_scripting > descriptors\n",
    "\n",
    "**Type** - modification\n",
    "\n",
    "**Target Number of Turns (User + Assistant)** - 2+\n"
   ]
  },
  {
   "cell_type": "markdown",
   "id": "21bdf651",
   "metadata": {},
   "source": [
    "# Conversation"
   ]
  },
  {
   "cell_type": "markdown",
   "id": "f837087c",
   "metadata": {},
   "source": [
    "**User**\n",
    "\n",
    "I've got a descriptor for logging attribute access. Can you tweak it to only log when a value is set, not when it's retrieved? Here's the code: class LogDescriptor: def __get__(self, obj, objtype): print('Value retrieved') def __set__(self, obj, value): print('Value set to:', value)\n"
   ]
  }
 ],
 "metadata": {},
 "nbformat": 4,
 "nbformat_minor": 5
}
