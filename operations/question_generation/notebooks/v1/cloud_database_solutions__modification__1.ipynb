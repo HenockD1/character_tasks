{
 "cells": [
  {
   "cell_type": "markdown",
   "id": "c9f8ca6a",
   "metadata": {},
   "source": [
    "# Metadata\n",
    "\n",
    "**Python Topics** - database > cloud_database_solutions\n",
    "\n",
    "**Type** - modification\n",
    "\n",
    "**Target Number of Turns (User + Assistant)** - 2+\n"
   ]
  },
  {
   "cell_type": "markdown",
   "id": "643577bf",
   "metadata": {},
   "source": [
    "# Conversation"
   ]
  },
  {
   "cell_type": "markdown",
   "id": "e065003f",
   "metadata": {},
   "source": [
    "**User**\n",
    "\n",
    "I'm currently listing all documents in a Firestore collection with this code, but I'd like to filter the documents where the 'status' field is 'active'. How should I modify the query?\n",
    "```python\n",
    "from google.cloud import firestore\n",
    "db = firestore.Client()\n",
    "for doc in db.collection('users').stream():\n",
    "    print(doc.to_dict())\n",
    "```\n"
   ]
  }
 ],
 "metadata": {},
 "nbformat": 4,
 "nbformat_minor": 5
}
