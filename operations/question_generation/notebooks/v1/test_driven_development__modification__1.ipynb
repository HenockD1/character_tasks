{
 "cells": [
  {
   "cell_type": "markdown",
   "id": "96a4ad7c",
   "metadata": {},
   "source": [
    "# Metadata\n",
    "\n",
    "**Python Topics** - unit_testing_methodology > test_driven_development\n",
    "\n",
    "**Type** - modification\n",
    "\n",
    "**Target Number of Turns (User + Assistant)** - 2+\n"
   ]
  },
  {
   "cell_type": "markdown",
   "id": "8bdfc7cb",
   "metadata": {},
   "source": [
    "# Conversation"
   ]
  },
  {
   "cell_type": "markdown",
   "id": "dc10dcb1",
   "metadata": {},
   "source": [
    "**User**\n",
    "\n",
    "I'm practicing TDD and I need to create a new feature that reverses a string. I've got the test case ready but I'm stuck on the implementation. Can you provide the function that will pass this test? ```import unittest\n",
    "class TestStringMethods(unittest.TestCase):\n",
    "    def test_reverse_string(self):\n",
    "        self.assertEqual(reverse_string('hello'), 'olleh')\n",
    "if __name__ == '__main__':\n",
    "    unittest.main()```\n"
   ]
  }
 ],
 "metadata": {},
 "nbformat": 4,
 "nbformat_minor": 5
}
