{
 "cells": [
  {
   "cell_type": "markdown",
   "id": "3027c428",
   "metadata": {},
   "source": [
    "# Metadata\n",
    "\n",
    "**Python Topics** - algorithms > by_topic > game_theory\n",
    "\n",
    "**Type** - modification\n",
    "\n",
    "**Target Number of Turns (User + Assistant)** - 2+\n"
   ]
  },
  {
   "cell_type": "markdown",
   "id": "463523c0",
   "metadata": {},
   "source": [
    "# Conversation"
   ]
  },
  {
   "cell_type": "markdown",
   "id": "f692a5e0",
   "metadata": {},
   "source": [
    "**User**\n",
    "\n",
    "I'm trying to implement a basic AI for a rock-paper-scissors game, but I'm stuck. Can you add a simple strategy that the AI could use to make decisions based on the player's last move? Here's what I have so far: ```python\n",
    "def get_ai_move(last_player_move):\n",
    "    # last_player_move is one of 'rock', 'paper', or 'scissors'\n",
    "    # Return the AI's move\n",
    "    pass\n",
    "```\n"
   ]
  }
 ],
 "metadata": {},
 "nbformat": 4,
 "nbformat_minor": 5
}
