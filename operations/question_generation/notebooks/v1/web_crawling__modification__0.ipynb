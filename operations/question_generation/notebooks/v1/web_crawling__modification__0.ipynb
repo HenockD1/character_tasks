{
 "cells": [
  {
   "cell_type": "markdown",
   "id": "9345ec82",
   "metadata": {},
   "source": [
    "# Metadata\n",
    "\n",
    "**Python Topics** - web_development > web_crawling\n",
    "\n",
    "**Type** - modification\n",
    "\n",
    "**Target Number of Turns (User + Assistant)** - 2+\n"
   ]
  },
  {
   "cell_type": "markdown",
   "id": "270bfd48",
   "metadata": {},
   "source": [
    "# Conversation"
   ]
  },
  {
   "cell_type": "markdown",
   "id": "90f9ac1a",
   "metadata": {},
   "source": [
    "**User**\n",
    "\n",
    "I've got this snippet that uses BeautifulSoup to parse an HTML page. Can you help me modify it to find all the links within the 'content' div? Here's the code: `from bs4 import BeautifulSoup\n",
    "\n",
    "html_doc = \"\"\"<html><head><title>The Dormouse's story</title></head>\n",
    "<body>\n",
    "<p class=\"title\"><b>The Dormouse's story</b></p>\n",
    "<div id='content'><a href='http://example.com/1'>Link 1</a><a href='http://example.com/2'>Link 2</a></div>\n",
    "<p class=\"story\">...</p>\n",
    "</body></html>\"\"\"\n",
    "soup = BeautifulSoup(html_doc, 'html.parser')\n",
    "print(soup.prettify())`\n"
   ]
  }
 ],
 "metadata": {},
 "nbformat": 4,
 "nbformat_minor": 5
}
