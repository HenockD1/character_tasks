{
 "cells": [
  {
   "cell_type": "markdown",
   "id": "267338e3",
   "metadata": {},
   "source": [
    "# Metadata\n",
    "\n",
    "**Python Topics** - database > cloud_database_solutions\n",
    "\n",
    "**Type** - query\n",
    "\n",
    "**Target Number of Turns (User + Assistant)** - 2+\n"
   ]
  },
  {
   "cell_type": "markdown",
   "id": "f04479f6",
   "metadata": {},
   "source": [
    "# Conversation"
   ]
  },
  {
   "cell_type": "markdown",
   "id": "308f68d1",
   "metadata": {},
   "source": [
    "**User**\n",
    "\n",
    "Can you demonstrate how to update a document in MongoDB Atlas using PyMongo?\n"
   ]
  }
 ],
 "metadata": {},
 "nbformat": 4,
 "nbformat_minor": 5
}
