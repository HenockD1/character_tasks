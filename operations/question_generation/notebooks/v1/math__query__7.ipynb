{
 "cells": [
  {
   "cell_type": "markdown",
   "id": "4db2b62f",
   "metadata": {},
   "source": [
    "# Metadata\n",
    "\n",
    "**Python Topics** - high_school > math\n",
    "\n",
    "**Type** - query\n",
    "\n",
    "**Target Number of Turns (User + Assistant)** - 2+\n"
   ]
  },
  {
   "cell_type": "markdown",
   "id": "9fd24b2d",
   "metadata": {},
   "source": [
    "# Conversation"
   ]
  },
  {
   "cell_type": "markdown",
   "id": "764d0fd2",
   "metadata": {},
   "source": [
    "**User**\n",
    "\n",
    "What's the Python code to find the greatest common divisor (GCD) of two numbers?\n"
   ]
  }
 ],
 "metadata": {},
 "nbformat": 4,
 "nbformat_minor": 5
}
