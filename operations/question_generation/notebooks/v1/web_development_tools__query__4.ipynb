{
 "cells": [
  {
   "cell_type": "markdown",
   "id": "fdb4e1c6",
   "metadata": {},
   "source": [
    "# Metadata\n",
    "\n",
    "**Python Topics** - web_development > web_development_tools\n",
    "\n",
    "**Type** - query\n",
    "\n",
    "**Target Number of Turns (User + Assistant)** - 2+\n"
   ]
  },
  {
   "cell_type": "markdown",
   "id": "9c1989c1",
   "metadata": {},
   "source": [
    "# Conversation"
   ]
  },
  {
   "cell_type": "markdown",
   "id": "e43db1ac",
   "metadata": {},
   "source": [
    "**User**\n",
    "\n",
    "How do I enable debug mode in a Django project settings file?\n"
   ]
  }
 ],
 "metadata": {},
 "nbformat": 4,
 "nbformat_minor": 5
}
