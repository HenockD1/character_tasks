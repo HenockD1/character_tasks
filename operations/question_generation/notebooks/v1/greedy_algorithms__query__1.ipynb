{
 "cells": [
  {
   "cell_type": "markdown",
   "id": "9cd5fbd7",
   "metadata": {},
   "source": [
    "# Metadata\n",
    "\n",
    "**Python Topics** - algorithms > by_topic > greedy_algorithms\n",
    "\n",
    "**Type** - query\n",
    "\n",
    "**Target Number of Turns (User + Assistant)** - 2+\n"
   ]
  },
  {
   "cell_type": "markdown",
   "id": "15d1ff68",
   "metadata": {},
   "source": [
    "# Conversation"
   ]
  },
  {
   "cell_type": "markdown",
   "id": "d004fd2d",
   "metadata": {},
   "source": [
    "**User**\n",
    "\n",
    "How would you write a Python function for a greedy scheduler that minimizes waiting time?\n"
   ]
  }
 ],
 "metadata": {},
 "nbformat": 4,
 "nbformat_minor": 5
}
