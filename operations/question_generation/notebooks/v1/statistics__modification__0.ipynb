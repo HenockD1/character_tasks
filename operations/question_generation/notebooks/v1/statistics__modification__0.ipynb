{
 "cells": [
  {
   "cell_type": "markdown",
   "id": "175c0eba",
   "metadata": {},
   "source": [
    "# Metadata\n",
    "\n",
    "**Python Topics** - algorithms > by_topic > statistics\n",
    "\n",
    "**Type** - modification\n",
    "\n",
    "**Target Number of Turns (User + Assistant)** - 2+\n"
   ]
  },
  {
   "cell_type": "markdown",
   "id": "969e9135",
   "metadata": {},
   "source": [
    "# Conversation"
   ]
  },
  {
   "cell_type": "markdown",
   "id": "18ec3780",
   "metadata": {},
   "source": [
    "**User**\n",
    "\n",
    "I have a list of numbers and I need to calculate the median. However, I'm not sure how to handle the case when there are an even number of elements. Can you modify my code to do that? Here's what I have so far: `nums = [5, 3, 1, 4, 2]; nums.sort(); median = nums[len(nums) // 2]`\n"
   ]
  }
 ],
 "metadata": {},
 "nbformat": 4,
 "nbformat_minor": 5
}
