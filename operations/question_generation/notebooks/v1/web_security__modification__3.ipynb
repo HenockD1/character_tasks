{
 "cells": [
  {
   "cell_type": "markdown",
   "id": "245295ff",
   "metadata": {},
   "source": [
    "# Metadata\n",
    "\n",
    "**Python Topics** - web_development > web_security\n",
    "\n",
    "**Type** - modification\n",
    "\n",
    "**Target Number of Turns (User + Assistant)** - 2+\n"
   ]
  },
  {
   "cell_type": "markdown",
   "id": "21bbd1f0",
   "metadata": {},
   "source": [
    "# Conversation"
   ]
  },
  {
   "cell_type": "markdown",
   "id": "f6a3ab3c",
   "metadata": {},
   "source": [
    "**User**\n",
    "\n",
    "```python\n",
    "from flask import Flask, request, render_template\n",
    "app = Flask(__name__)\n",
    "\n",
    "@app.route('/login', methods=['POST'])\n",
    "def login():\n",
    "    username = request.form['username']\n",
    "    password = request.form['password']\n",
    "    # Assume a function to check credentials: check_credentials(username, password)\n",
    "    if check_credentials(username, password):\n",
    "        return 'Logged in successfully'\n",
    "    else:\n",
    "        return 'Invalid credentials'\n",
    "```\n"
   ]
  }
 ],
 "metadata": {},
 "nbformat": 4,
 "nbformat_minor": 5
}
