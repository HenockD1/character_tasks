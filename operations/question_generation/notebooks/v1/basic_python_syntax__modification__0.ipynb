{
 "cells": [
  {
   "cell_type": "markdown",
   "id": "b4ef2b60",
   "metadata": {},
   "source": [
    "# Metadata\n",
    "\n",
    "**Python Topics** - python_language_and_scripting > basic_python_syntax\n",
    "\n",
    "**Type** - modification\n",
    "\n",
    "**Target Number of Turns (User + Assistant)** - 2+\n"
   ]
  },
  {
   "cell_type": "markdown",
   "id": "4e2d2e18",
   "metadata": {},
   "source": [
    "# Conversation"
   ]
  },
  {
   "cell_type": "markdown",
   "id": "44c4832a",
   "metadata": {},
   "source": [
    "**User**\n",
    "\n",
    "I've got a list of tuples representing coordinates. Can you help me write a loop that prints each coordinate on a separate line? Here's my list: coords = [(1, 2), (3, 4), (5, 6)]\n"
   ]
  }
 ],
 "metadata": {},
 "nbformat": 4,
 "nbformat_minor": 5
}
