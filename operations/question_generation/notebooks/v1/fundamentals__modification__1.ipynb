{
 "cells": [
  {
   "cell_type": "markdown",
   "id": "cbcf0eeb",
   "metadata": {},
   "source": [
    "# Metadata\n",
    "\n",
    "**Python Topics** - web_development > fundamentals\n",
    "\n",
    "**Type** - modification\n",
    "\n",
    "**Target Number of Turns (User + Assistant)** - 2+\n"
   ]
  },
  {
   "cell_type": "markdown",
   "id": "44b8d9bf",
   "metadata": {},
   "source": [
    "# Conversation"
   ]
  },
  {
   "cell_type": "markdown",
   "id": "7e665377",
   "metadata": {},
   "source": [
    "**User**\n",
    "\n",
    "In my Django view, I'm trying to capture a username from the URL and print it to the console. Here's what I have so far: `def user_profile(request, username):\n",
    "    # Need to print username to console\n",
    "    return HttpResponse('Profile page')`. What should I add to print the username?\n"
   ]
  }
 ],
 "metadata": {},
 "nbformat": 4,
 "nbformat_minor": 5
}
