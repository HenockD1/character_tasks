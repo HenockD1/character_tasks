{
 "cells": [
  {
   "cell_type": "markdown",
   "id": "4f787a3f",
   "metadata": {},
   "source": [
    "# Metadata\n",
    "\n",
    "**Python Topics** - algorithms > by_topic > sampling\n",
    "\n",
    "**Type** - modification\n",
    "\n",
    "**Target Number of Turns (User + Assistant)** - 2+\n"
   ]
  },
  {
   "cell_type": "markdown",
   "id": "e6189588",
   "metadata": {},
   "source": [
    "# Conversation"
   ]
  },
  {
   "cell_type": "markdown",
   "id": "08d1464a",
   "metadata": {},
   "source": [
    "**User**\n",
    "\n",
    "Could you help me update this code snippet to perform weighted random sampling? Here's the code: `import random\n",
    "options = ['red', 'blue', 'green']\n",
    "weights = [3, 1, 1]\n",
    "choice = random.choices(options, k=1)[0]\n",
    "print(choice)` I need it to return a list of two items based on their weights.\n"
   ]
  }
 ],
 "metadata": {},
 "nbformat": 4,
 "nbformat_minor": 5
}
