{
 "cells": [
  {
   "cell_type": "markdown",
   "id": "4ca7e745",
   "metadata": {},
   "source": [
    "# Metadata\n",
    "\n",
    "**Python Topics** - algorithms > by_topic > probability\n",
    "\n",
    "**Type** - query\n",
    "\n",
    "**Target Number of Turns (User + Assistant)** - 2+\n"
   ]
  },
  {
   "cell_type": "markdown",
   "id": "16f18323",
   "metadata": {},
   "source": [
    "# Conversation"
   ]
  },
  {
   "cell_type": "markdown",
   "id": "fa115b51",
   "metadata": {},
   "source": [
    "**User**\n",
    "\n",
    "I need a Python example for generating a random sample from a list with replacement. Can you provide that?\n"
   ]
  }
 ],
 "metadata": {},
 "nbformat": 4,
 "nbformat_minor": 5
}
