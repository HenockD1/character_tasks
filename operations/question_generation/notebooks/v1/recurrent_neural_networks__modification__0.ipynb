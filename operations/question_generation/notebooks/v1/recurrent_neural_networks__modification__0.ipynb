{
 "cells": [
  {
   "cell_type": "markdown",
   "id": "d5619c1d",
   "metadata": {},
   "source": [
    "# Metadata\n",
    "\n",
    "**Python Topics** - deep_learning > recurrent_neural_networks\n",
    "\n",
    "**Type** - modification\n",
    "\n",
    "**Target Number of Turns (User + Assistant)** - 2+\n"
   ]
  },
  {
   "cell_type": "markdown",
   "id": "4ad56281",
   "metadata": {},
   "source": [
    "# Conversation"
   ]
  },
  {
   "cell_type": "markdown",
   "id": "51e5519a",
   "metadata": {},
   "source": [
    "**User**\n",
    "\n",
    "I've got this RNN model defined using PyTorch, but I'd like to add another LSTM layer with a dropout of 0.2. Could you help me with that? Here's the code snippet:\n",
    "```python\n",
    "import torch.nn as nn\n",
    "class RNNModel(nn.Module):\n",
    "    def __init__(self, input_size, hidden_size, num_layers):\n",
    "        super(RNNModel, self).__init__()\n",
    "        self.lstm = nn.LSTM(input_size, hidden_size, num_layers)\n",
    "\n",
    "    def forward(self, x):\n",
    "        output, (hn, cn) = self.lstm(x)\n",
    "        return output\n",
    "```\n"
   ]
  }
 ],
 "metadata": {},
 "nbformat": 4,
 "nbformat_minor": 5
}
