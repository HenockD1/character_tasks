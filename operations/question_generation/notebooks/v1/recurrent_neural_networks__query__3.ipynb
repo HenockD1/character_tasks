{
 "cells": [
  {
   "cell_type": "markdown",
   "id": "4c4a0142",
   "metadata": {},
   "source": [
    "# Metadata\n",
    "\n",
    "**Python Topics** - deep_learning > recurrent_neural_networks\n",
    "\n",
    "**Type** - query\n",
    "\n",
    "**Target Number of Turns (User + Assistant)** - 2+\n"
   ]
  },
  {
   "cell_type": "markdown",
   "id": "5319369d",
   "metadata": {},
   "source": [
    "# Conversation"
   ]
  },
  {
   "cell_type": "markdown",
   "id": "5a28281e",
   "metadata": {},
   "source": [
    "**User**\n",
    "\n",
    "Can you demonstrate how to initialize the hidden state of an RNN in Keras?\n"
   ]
  }
 ],
 "metadata": {},
 "nbformat": 4,
 "nbformat_minor": 5
}
