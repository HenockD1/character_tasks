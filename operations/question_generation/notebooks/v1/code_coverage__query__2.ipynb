{
 "cells": [
  {
   "cell_type": "markdown",
   "id": "6a31f561",
   "metadata": {},
   "source": [
    "# Metadata\n",
    "\n",
    "**Python Topics** - unit_testing_methodology > code_coverage\n",
    "\n",
    "**Type** - query\n",
    "\n",
    "**Target Number of Turns (User + Assistant)** - 2+\n"
   ]
  },
  {
   "cell_type": "markdown",
   "id": "b1d71574",
   "metadata": {},
   "source": [
    "# Conversation"
   ]
  },
  {
   "cell_type": "markdown",
   "id": "a455bb8d",
   "metadata": {},
   "source": [
    "**User**\n",
    "\n",
    "What's the command to exclude certain files from coverage.py reports?\n"
   ]
  }
 ],
 "metadata": {},
 "nbformat": 4,
 "nbformat_minor": 5
}
