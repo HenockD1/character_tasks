{
 "cells": [
  {
   "cell_type": "markdown",
   "id": "72d8d9e7",
   "metadata": {},
   "source": [
    "# Metadata\n",
    "\n",
    "**Python Topics** - deep_learning > transfer_learning\n",
    "\n",
    "**Type** - modification\n",
    "\n",
    "**Target Number of Turns (User + Assistant)** - 2+\n"
   ]
  },
  {
   "cell_type": "markdown",
   "id": "135522bb",
   "metadata": {},
   "source": [
    "# Conversation"
   ]
  },
  {
   "cell_type": "markdown",
   "id": "9ecec212",
   "metadata": {},
   "source": [
    "**User**\n",
    "\n",
    "I've loaded a pre-trained VGG16 model without the top layer. Could you help me add a new Flatten layer and a Dense layer with 256 units and 'relu' activation? Here's my code: `from keras.applications import VGG16; model = VGG16(include_top=False, weights='imagenet')`\n"
   ]
  }
 ],
 "metadata": {},
 "nbformat": 4,
 "nbformat_minor": 5
}
