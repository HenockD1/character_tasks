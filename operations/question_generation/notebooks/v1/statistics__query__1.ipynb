{
 "cells": [
  {
   "cell_type": "markdown",
   "id": "807d9925",
   "metadata": {},
   "source": [
    "# Metadata\n",
    "\n",
    "**Python Topics** - algorithms > by_topic > statistics\n",
    "\n",
    "**Type** - query\n",
    "\n",
    "**Target Number of Turns (User + Assistant)** - 2+\n"
   ]
  },
  {
   "cell_type": "markdown",
   "id": "20e22209",
   "metadata": {},
   "source": [
    "# Conversation"
   ]
  },
  {
   "cell_type": "markdown",
   "id": "e09b4ecf",
   "metadata": {},
   "source": [
    "**User**\n",
    "\n",
    "What's the Pythonic way to compute the mode of a dataset?\n"
   ]
  }
 ],
 "metadata": {},
 "nbformat": 4,
 "nbformat_minor": 5
}
