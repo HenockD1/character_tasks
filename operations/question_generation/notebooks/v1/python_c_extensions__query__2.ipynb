{
 "cells": [
  {
   "cell_type": "markdown",
   "id": "0d44603f",
   "metadata": {},
   "source": [
    "# Metadata\n",
    "\n",
    "**Python Topics** - python_language_and_scripting > python_c_extensions\n",
    "\n",
    "**Type** - query\n",
    "\n",
    "**Target Number of Turns (User + Assistant)** - 2+\n"
   ]
  },
  {
   "cell_type": "markdown",
   "id": "22027a70",
   "metadata": {},
   "source": [
    "# Conversation"
   ]
  },
  {
   "cell_type": "markdown",
   "id": "8c23c08e",
   "metadata": {},
   "source": [
    "**User**\n",
    "\n",
    "What's the process for debugging a segmentation fault in a Python C extension I've written?\n"
   ]
  }
 ],
 "metadata": {},
 "nbformat": 4,
 "nbformat_minor": 5
}
