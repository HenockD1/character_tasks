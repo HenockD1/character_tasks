{
 "cells": [
  {
   "cell_type": "markdown",
   "id": "0e390d73",
   "metadata": {},
   "source": [
    "# Metadata\n",
    "\n",
    "**Python Topics** - ml_principles > feature_selection_techniques\n",
    "\n",
    "**Type** - modification\n",
    "\n",
    "**Target Number of Turns (User + Assistant)** - 2+\n"
   ]
  },
  {
   "cell_type": "markdown",
   "id": "ccca2dd2",
   "metadata": {},
   "source": [
    "# Conversation"
   ]
  },
  {
   "cell_type": "markdown",
   "id": "225f1362",
   "metadata": {},
   "source": [
    "**User**\n",
    "\n",
    "My code uses univariate feature selection with the chi-squared test, but I'd like to try feature selection based on model performance. Here's what I have:\n",
    "```python\n",
    "from sklearn.feature_selection import SelectKBest\n",
    "from sklearn.feature_selection import chi2\n",
    "X, y = load_my_data()\n",
    "X_new = SelectKBest(chi2, k=2).fit_transform(X, y)\n",
    "```\n",
    "Can you update it to use a model-based approach with L1 regularization to select features?\n"
   ]
  }
 ],
 "metadata": {},
 "nbformat": 4,
 "nbformat_minor": 5
}
