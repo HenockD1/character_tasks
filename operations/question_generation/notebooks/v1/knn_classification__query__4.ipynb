{
 "cells": [
  {
   "cell_type": "markdown",
   "id": "d249d52b",
   "metadata": {},
   "source": [
    "# Metadata\n",
    "\n",
    "**Python Topics** - ml_principles > knn_classification\n",
    "\n",
    "**Type** - query\n",
    "\n",
    "**Target Number of Turns (User + Assistant)** - 2+\n"
   ]
  },
  {
   "cell_type": "markdown",
   "id": "4ff74814",
   "metadata": {},
   "source": [
    "# Conversation"
   ]
  },
  {
   "cell_type": "markdown",
   "id": "f1f350c8",
   "metadata": {},
   "source": [
    "**User**\n",
    "\n",
    "How do I visualize the decision boundary created by a KNN classifier?\n"
   ]
  }
 ],
 "metadata": {},
 "nbformat": 4,
 "nbformat_minor": 5
}
