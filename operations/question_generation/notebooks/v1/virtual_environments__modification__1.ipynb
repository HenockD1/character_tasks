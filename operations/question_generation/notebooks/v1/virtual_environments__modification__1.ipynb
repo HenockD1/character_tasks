{
 "cells": [
  {
   "cell_type": "markdown",
   "id": "0b529e19",
   "metadata": {},
   "source": [
    "# Metadata\n",
    "\n",
    "**Python Topics** - python_language_and_scripting > virtual_environments\n",
    "\n",
    "**Type** - modification\n",
    "\n",
    "**Target Number of Turns (User + Assistant)** - 2+\n"
   ]
  },
  {
   "cell_type": "markdown",
   "id": "d7e0ec3c",
   "metadata": {},
   "source": [
    "# Conversation"
   ]
  },
  {
   "cell_type": "markdown",
   "id": "dcccbc0c",
   "metadata": {},
   "source": [
    "**User**\n",
    "\n",
    "I'm working on a script that needs to run inside a virtual environment. Here's a snippet of my script: `import sys\n",
    "print(sys.version)`. Can you modify it so that it checks if the virtual environment is active and prints a warning if it's not?\n"
   ]
  }
 ],
 "metadata": {},
 "nbformat": 4,
 "nbformat_minor": 5
}
