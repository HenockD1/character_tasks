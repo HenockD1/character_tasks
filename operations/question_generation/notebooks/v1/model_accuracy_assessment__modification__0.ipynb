{
 "cells": [
  {
   "cell_type": "markdown",
   "id": "9f4389c8",
   "metadata": {},
   "source": [
    "# Metadata\n",
    "\n",
    "**Python Topics** - ml_principles > model_accuracy_assessment\n",
    "\n",
    "**Type** - modification\n",
    "\n",
    "**Target Number of Turns (User + Assistant)** - 2+\n"
   ]
  },
  {
   "cell_type": "markdown",
   "id": "beb2a639",
   "metadata": {},
   "source": [
    "# Conversation"
   ]
  },
  {
   "cell_type": "markdown",
   "id": "d0692e1d",
   "metadata": {},
   "source": [
    "**User**\n",
    "\n",
    "I've trained a classifier and now I want to visualize the confusion matrix. Can you modify this code to include a confusion matrix using matplotlib? Here's my code: from sklearn.metrics import accuracy_score\n",
    "y_pred = [0, 2, 1, 3]\n",
    "y_true = [0, 1, 2, 3]\n",
    "print(accuracy_score(y_true, y_pred))\n"
   ]
  }
 ],
 "metadata": {},
 "nbformat": 4,
 "nbformat_minor": 5
}
