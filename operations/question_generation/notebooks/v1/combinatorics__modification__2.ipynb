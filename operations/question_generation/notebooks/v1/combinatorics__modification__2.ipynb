{
 "cells": [
  {
   "cell_type": "markdown",
   "id": "a21ccee4",
   "metadata": {},
   "source": [
    "# Metadata\n",
    "\n",
    "**Python Topics** - algorithms > by_topic > combinatorics\n",
    "\n",
    "**Type** - modification\n",
    "\n",
    "**Target Number of Turns (User + Assistant)** - 2+\n"
   ]
  },
  {
   "cell_type": "markdown",
   "id": "c4ef34c3",
   "metadata": {},
   "source": [
    "# Conversation"
   ]
  },
  {
   "cell_type": "markdown",
   "id": "bc94295c",
   "metadata": {},
   "source": [
    "**User**\n",
    "\n",
    "I need to calculate the factorial of a number using recursion, but I want to add error handling to ensure the function only accepts non-negative integers. Here's my current recursive factorial function:\n",
    "```python\n",
    "def factorial(n):\n",
    "    if n == 0:\n",
    "        return 1\n",
    "    else:\n",
    "        return n * factorial(n-1)\n",
    "```\n",
    "Could you help me update this function to include the necessary error handling?\n"
   ]
  }
 ],
 "metadata": {},
 "nbformat": 4,
 "nbformat_minor": 5
}
