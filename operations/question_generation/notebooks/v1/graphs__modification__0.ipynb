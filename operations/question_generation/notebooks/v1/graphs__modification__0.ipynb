{
 "cells": [
  {
   "cell_type": "markdown",
   "id": "6ac39c8b",
   "metadata": {},
   "source": [
    "# Metadata\n",
    "\n",
    "**Python Topics** - algorithms > by_data_structure > graphs\n",
    "\n",
    "**Type** - modification\n",
    "\n",
    "**Target Number of Turns (User + Assistant)** - 2+\n"
   ]
  },
  {
   "cell_type": "markdown",
   "id": "fb3fca59",
   "metadata": {},
   "source": [
    "# Conversation"
   ]
  },
  {
   "cell_type": "markdown",
   "id": "9ae6bbca",
   "metadata": {},
   "source": [
    "**User**\n",
    "\n",
    "I have a function that performs a depth-first search on a graph, but it's not tracking visited nodes. Can you modify it to include a visited set? Here's the code: def dfs(graph, start): if start not in graph: return print(start) for neighbor in graph[start]: dfs(graph, neighbor)\n"
   ]
  }
 ],
 "metadata": {},
 "nbformat": 4,
 "nbformat_minor": 5
}
