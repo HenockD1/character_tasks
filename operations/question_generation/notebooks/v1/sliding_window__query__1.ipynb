{
 "cells": [
  {
   "cell_type": "markdown",
   "id": "e6fd5612",
   "metadata": {},
   "source": [
    "# Metadata\n",
    "\n",
    "**Python Topics** - algorithms > by_topic > sliding_window\n",
    "\n",
    "**Type** - query\n",
    "\n",
    "**Target Number of Turns (User + Assistant)** - 2+\n"
   ]
  },
  {
   "cell_type": "markdown",
   "id": "49016e74",
   "metadata": {},
   "source": [
    "# Conversation"
   ]
  },
  {
   "cell_type": "markdown",
   "id": "eb62ebff",
   "metadata": {},
   "source": [
    "**User**\n",
    "\n",
    "Could you demonstrate a sliding window approach to count the number of substrings with exactly 'k' distinct characters?\n"
   ]
  }
 ],
 "metadata": {},
 "nbformat": 4,
 "nbformat_minor": 5
}
