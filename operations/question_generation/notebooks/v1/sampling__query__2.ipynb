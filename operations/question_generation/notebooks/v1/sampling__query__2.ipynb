{
 "cells": [
  {
   "cell_type": "markdown",
   "id": "0b753ecd",
   "metadata": {},
   "source": [
    "# Metadata\n",
    "\n",
    "**Python Topics** - algorithms > by_topic > sampling\n",
    "\n",
    "**Type** - query\n",
    "\n",
    "**Target Number of Turns (User + Assistant)** - 2+\n"
   ]
  },
  {
   "cell_type": "markdown",
   "id": "8acd3c4c",
   "metadata": {},
   "source": [
    "# Conversation"
   ]
  },
  {
   "cell_type": "markdown",
   "id": "5d6bb2d0",
   "metadata": {},
   "source": [
    "**User**\n",
    "\n",
    "What's the Pythonic way to perform systematic sampling from a list?\n"
   ]
  }
 ],
 "metadata": {},
 "nbformat": 4,
 "nbformat_minor": 5
}
