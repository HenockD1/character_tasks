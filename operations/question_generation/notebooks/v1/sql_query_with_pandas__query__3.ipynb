{
 "cells": [
  {
   "cell_type": "markdown",
   "id": "dee976ee",
   "metadata": {},
   "source": [
    "# Metadata\n",
    "\n",
    "**Python Topics** - data_analysis > sql_query_with_pandas\n",
    "\n",
    "**Type** - query\n",
    "\n",
    "**Target Number of Turns (User + Assistant)** - 2+\n"
   ]
  },
  {
   "cell_type": "markdown",
   "id": "586308f8",
   "metadata": {},
   "source": [
    "# Conversation"
   ]
  },
  {
   "cell_type": "markdown",
   "id": "a2349448",
   "metadata": {},
   "source": [
    "**User**\n",
    "\n",
    "Could you demonstrate how to sort a pandas DataFrame in the same way as a SQL ORDER BY statement?\n"
   ]
  }
 ],
 "metadata": {},
 "nbformat": 4,
 "nbformat_minor": 5
}
