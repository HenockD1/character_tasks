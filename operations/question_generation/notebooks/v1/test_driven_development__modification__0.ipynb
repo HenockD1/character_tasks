{
 "cells": [
  {
   "cell_type": "markdown",
   "id": "a3d3e7bd",
   "metadata": {},
   "source": [
    "# Metadata\n",
    "\n",
    "**Python Topics** - unit_testing_methodology > test_driven_development\n",
    "\n",
    "**Type** - modification\n",
    "\n",
    "**Target Number of Turns (User + Assistant)** - 2+\n"
   ]
  },
  {
   "cell_type": "markdown",
   "id": "86b33531",
   "metadata": {},
   "source": [
    "# Conversation"
   ]
  },
  {
   "cell_type": "markdown",
   "id": "9ea626c6",
   "metadata": {},
   "source": [
    "**User**\n",
    "\n",
    "I've written a function to calculate the factorial of a number, but I haven't started on the tests yet. Could you help me write a test case using unittest that verifies the output for the input 5? Here's my function: ```def factorial(n): return 1 if n == 0 else n * factorial(n-1)```\n"
   ]
  }
 ],
 "metadata": {},
 "nbformat": 4,
 "nbformat_minor": 5
}
