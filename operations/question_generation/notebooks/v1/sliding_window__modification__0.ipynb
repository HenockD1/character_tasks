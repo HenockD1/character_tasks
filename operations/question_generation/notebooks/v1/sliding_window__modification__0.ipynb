{
 "cells": [
  {
   "cell_type": "markdown",
   "id": "38562e4d",
   "metadata": {},
   "source": [
    "# Metadata\n",
    "\n",
    "**Python Topics** - algorithms > by_topic > sliding_window\n",
    "\n",
    "**Type** - modification\n",
    "\n",
    "**Target Number of Turns (User + Assistant)** - 2+\n"
   ]
  },
  {
   "cell_type": "markdown",
   "id": "ff80c3b7",
   "metadata": {},
   "source": [
    "# Conversation"
   ]
  },
  {
   "cell_type": "markdown",
   "id": "61b5cd0e",
   "metadata": {},
   "source": [
    "**User**\n",
    "\n",
    "I have a function that calculates the maximum sum of any contiguous subarray of size 'k'. Can you help me modify it to return the starting index of that subarray as well? Here's the code: ```def max_sum_subarray(arr, k): max_sum = 0 current_sum = 0 for i in range(len(arr) - k + 1): current_sum = sum(arr[i:i+k]) max_sum = max(max_sum, current_sum) return max_sum```\n"
   ]
  }
 ],
 "metadata": {},
 "nbformat": 4,
 "nbformat_minor": 5
}
