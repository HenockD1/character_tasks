{
 "cells": [
  {
   "cell_type": "markdown",
   "id": "09c5944a",
   "metadata": {},
   "source": [
    "# Metadata\n",
    "\n",
    "**Python Topics** - python_language_and_scripting > python_standard_library\n",
    "\n",
    "**Type** - query\n",
    "\n",
    "**Target Number of Turns (User + Assistant)** - 2+\n"
   ]
  },
  {
   "cell_type": "markdown",
   "id": "fa475460",
   "metadata": {},
   "source": [
    "# Conversation"
   ]
  },
  {
   "cell_type": "markdown",
   "id": "fabccfc7",
   "metadata": {},
   "source": [
    "**User**\n",
    "\n",
    "What's the correct way to format a date string into a datetime object using `datetime.strptime`?\n"
   ]
  }
 ],
 "metadata": {},
 "nbformat": 4,
 "nbformat_minor": 5
}
