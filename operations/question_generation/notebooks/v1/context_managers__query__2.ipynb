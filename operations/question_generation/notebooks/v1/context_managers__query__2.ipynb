{
 "cells": [
  {
   "cell_type": "markdown",
   "id": "bc72d483",
   "metadata": {},
   "source": [
    "# Metadata\n",
    "\n",
    "**Python Topics** - python_language_and_scripting > context_managers\n",
    "\n",
    "**Type** - query\n",
    "\n",
    "**Target Number of Turns (User + Assistant)** - 2+\n"
   ]
  },
  {
   "cell_type": "markdown",
   "id": "b22d1d6a",
   "metadata": {},
   "source": [
    "# Conversation"
   ]
  },
  {
   "cell_type": "markdown",
   "id": "8f71c6bd",
   "metadata": {},
   "source": [
    "**User**\n",
    "\n",
    "What's the correct way to handle exceptions within a Python context manager?\n"
   ]
  }
 ],
 "metadata": {},
 "nbformat": 4,
 "nbformat_minor": 5
}
