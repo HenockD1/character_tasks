{
 "cells": [
  {
   "cell_type": "markdown",
   "id": "347269c9",
   "metadata": {},
   "source": [
    "# Metadata\n",
    "\n",
    "**Python Topics** - data_analysis > duplicate_data_identification\n",
    "\n",
    "**Type** - modification\n",
    "\n",
    "**Target Number of Turns (User + Assistant)** - 2+\n"
   ]
  },
  {
   "cell_type": "markdown",
   "id": "93ebf1b4",
   "metadata": {},
   "source": [
    "# Conversation"
   ]
  },
  {
   "cell_type": "markdown",
   "id": "e995df53",
   "metadata": {},
   "source": [
    "**User**\n",
    "\n",
    "I've got a DataFrame 'df' with some duplicate rows based on the 'name' column. Could you help me add a column 'is_duplicate' that marks True if the row is a duplicate and False otherwise? Here's the DataFrame code: `df = pd.DataFrame({'name': ['Alice', 'Bob', 'Alice'], 'age': [25, 30, 25]})`\n"
   ]
  }
 ],
 "metadata": {},
 "nbformat": 4,
 "nbformat_minor": 5
}
