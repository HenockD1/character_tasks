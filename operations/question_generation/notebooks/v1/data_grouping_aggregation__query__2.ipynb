{
 "cells": [
  {
   "cell_type": "markdown",
   "id": "fd6c9b6c",
   "metadata": {},
   "source": [
    "# Metadata\n",
    "\n",
    "**Python Topics** - data_analysis > data_grouping_aggregation\n",
    "\n",
    "**Type** - query\n",
    "\n",
    "**Target Number of Turns (User + Assistant)** - 2+\n"
   ]
  },
  {
   "cell_type": "markdown",
   "id": "49fe51af",
   "metadata": {},
   "source": [
    "# Conversation"
   ]
  },
  {
   "cell_type": "markdown",
   "id": "6ae06f4e",
   "metadata": {},
   "source": [
    "**User**\n",
    "\n",
    "Can you show me how to sum values in one column after grouping by another column using pandas?\n"
   ]
  }
 ],
 "metadata": {},
 "nbformat": 4,
 "nbformat_minor": 5
}
