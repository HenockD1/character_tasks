{
 "cells": [
  {
   "cell_type": "markdown",
   "id": "54d20558",
   "metadata": {},
   "source": [
    "# Metadata\n",
    "\n",
    "**Python Topics** - everyday_use_cases\n",
    "\n",
    "**Type** - query\n",
    "\n",
    "**Target Number of Turns (User + Assistant)** - 2+\n"
   ]
  },
  {
   "cell_type": "markdown",
   "id": "e51dc49c",
   "metadata": {},
   "source": [
    "# Conversation"
   ]
  },
  {
   "cell_type": "markdown",
   "id": "26af8b5a",
   "metadata": {},
   "source": [
    "**User**\n",
    "\n",
    "I need a Python function that can count the number of vowels in a text string. Can you help?\n"
   ]
  }
 ],
 "metadata": {},
 "nbformat": 4,
 "nbformat_minor": 5
}
