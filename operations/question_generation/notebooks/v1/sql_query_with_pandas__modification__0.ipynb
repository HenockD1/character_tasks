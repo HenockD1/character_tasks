{
 "cells": [
  {
   "cell_type": "markdown",
   "id": "381ce4b2",
   "metadata": {},
   "source": [
    "# Metadata\n",
    "\n",
    "**Python Topics** - data_analysis > sql_query_with_pandas\n",
    "\n",
    "**Type** - modification\n",
    "\n",
    "**Target Number of Turns (User + Assistant)** - 2+\n"
   ]
  },
  {
   "cell_type": "markdown",
   "id": "1d94f406",
   "metadata": {},
   "source": [
    "# Conversation"
   ]
  },
  {
   "cell_type": "markdown",
   "id": "45af32e6",
   "metadata": {},
   "source": [
    "**User**\n",
    "\n",
    "I have a DataFrame 'df' and I want to filter rows where the 'age' column is greater than 30. Could you modify this code to do that? Here's the code snippet: df.query('age > 20')\n"
   ]
  }
 ],
 "metadata": {},
 "nbformat": 4,
 "nbformat_minor": 5
}
