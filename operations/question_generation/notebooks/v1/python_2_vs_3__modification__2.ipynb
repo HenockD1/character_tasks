{
 "cells": [
  {
   "cell_type": "markdown",
   "id": "415e083a",
   "metadata": {},
   "source": [
    "# Metadata\n",
    "\n",
    "**Python Topics** - python_language_and_scripting > python_2_vs_3\n",
    "\n",
    "**Type** - modification\n",
    "\n",
    "**Target Number of Turns (User + Assistant)** - 2+\n"
   ]
  },
  {
   "cell_type": "markdown",
   "id": "264540e3",
   "metadata": {},
   "source": [
    "# Conversation"
   ]
  },
  {
   "cell_type": "markdown",
   "id": "254e3c59",
   "metadata": {},
   "source": [
    "**User**\n",
    "\n",
    "I need to convert this dictionary iteration from Python 2 to Python 3. What changes are necessary? Here's the original code: ```python\n",
    "my_dict = {'a': 1, 'b': 2}\n",
    "for key in my_dict.iterkeys():\n",
    "    print key\n",
    "```\n"
   ]
  }
 ],
 "metadata": {},
 "nbformat": 4,
 "nbformat_minor": 5
}
