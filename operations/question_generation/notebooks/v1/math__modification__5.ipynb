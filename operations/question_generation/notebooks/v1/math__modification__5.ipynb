{
 "cells": [
  {
   "cell_type": "markdown",
   "id": "401c32ee",
   "metadata": {},
   "source": [
    "# Metadata\n",
    "\n",
    "**Python Topics** - high_school > math\n",
    "\n",
    "**Type** - modification\n",
    "\n",
    "**Target Number of Turns (User + Assistant)** - 2+\n"
   ]
  },
  {
   "cell_type": "markdown",
   "id": "7ba0f1e1",
   "metadata": {},
   "source": [
    "# Conversation"
   ]
  },
  {
   "cell_type": "markdown",
   "id": "e4a8d956",
   "metadata": {},
   "source": [
    "**User**\n",
    "\n",
    "I'm trying to write a function that solves quadratic equations, but it only prints the solutions. I'd like it to return the solutions as a tuple instead. Here's what I have so far:\n",
    "```python\n",
    "import math\n",
    "def solve_quadratic(a, b, c):\n",
    "    d = b**2 - 4*a*c\n",
    "    sol1 = (-b - math.sqrt(d)) / (2*a)\n",
    "    sol2 = (-b + math.sqrt(d)) / (2*a)\n",
    "    print('The solutions are:', sol1, sol2)\n",
    "```\n"
   ]
  }
 ],
 "metadata": {},
 "nbformat": 4,
 "nbformat_minor": 5
}
