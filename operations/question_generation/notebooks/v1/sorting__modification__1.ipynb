{
 "cells": [
  {
   "cell_type": "markdown",
   "id": "1fc23121",
   "metadata": {},
   "source": [
    "# Metadata\n",
    "\n",
    "**Python Topics** - algorithms > by_topic > sorting\n",
    "\n",
    "**Type** - modification\n",
    "\n",
    "**Target Number of Turns (User + Assistant)** - 2+\n"
   ]
  },
  {
   "cell_type": "markdown",
   "id": "b50ed996",
   "metadata": {},
   "source": [
    "# Conversation"
   ]
  },
  {
   "cell_type": "markdown",
   "id": "2f684b82",
   "metadata": {},
   "source": [
    "**User**\n",
    "\n",
    "Here's a function that sorts a list using bubble sort. def bubble_sort(arr): for i in range(len(arr)): for j in range(0, len(arr)-i-1): if arr[j] > arr[j+1]: arr[j], arr[j+1] = arr[j+1], arr[j] return arr Can you tweak it to sort the list in ascending order but only for even numbers, leaving odd numbers in their original positions?\n"
   ]
  }
 ],
 "metadata": {},
 "nbformat": 4,
 "nbformat_minor": 5
}
