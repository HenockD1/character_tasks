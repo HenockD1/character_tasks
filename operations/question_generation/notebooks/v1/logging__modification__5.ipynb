{
 "cells": [
  {
   "cell_type": "markdown",
   "id": "d23ee6bf",
   "metadata": {},
   "source": [
    "# Metadata\n",
    "\n",
    "**Python Topics** - python_language_and_scripting > logging\n",
    "\n",
    "**Type** - modification\n",
    "\n",
    "**Target Number of Turns (User + Assistant)** - 2+\n"
   ]
  },
  {
   "cell_type": "markdown",
   "id": "a64333e4",
   "metadata": {},
   "source": [
    "# Conversation"
   ]
  },
  {
   "cell_type": "markdown",
   "id": "1695ce74",
   "metadata": {},
   "source": [
    "**User**\n",
    "\n",
    "```python\n",
    "import logging\n",
    "logging.basicConfig(level=logging.WARNING)\n",
    "```\n",
    "\n"
   ]
  }
 ],
 "metadata": {},
 "nbformat": 4,
 "nbformat_minor": 5
}
