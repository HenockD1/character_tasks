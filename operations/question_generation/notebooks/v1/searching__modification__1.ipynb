{
 "cells": [
  {
   "cell_type": "markdown",
   "id": "fe8c3645",
   "metadata": {},
   "source": [
    "# Metadata\n",
    "\n",
    "**Python Topics** - algorithms > by_topic > searching\n",
    "\n",
    "**Type** - modification\n",
    "\n",
    "**Target Number of Turns (User + Assistant)** - 2+\n"
   ]
  },
  {
   "cell_type": "markdown",
   "id": "d631924e",
   "metadata": {},
   "source": [
    "# Conversation"
   ]
  },
  {
   "cell_type": "markdown",
   "id": "81d1f7ef",
   "metadata": {},
   "source": [
    "**User**\n",
    "\n",
    "I need to add a feature to my linear search algorithm that counts the number of comparisons made during the search. Here's the existing code: def linear_search(arr, target): for i in range(len(arr)): if arr[i] == target: return i return -1\n"
   ]
  }
 ],
 "metadata": {},
 "nbformat": 4,
 "nbformat_minor": 5
}
