{
 "cells": [
  {
   "cell_type": "markdown",
   "id": "e5b873b3",
   "metadata": {},
   "source": [
    "# Metadata\n",
    "\n",
    "**Python Topics** - algorithms > by_data_structure > queues\n",
    "\n",
    "**Type** - modification\n",
    "\n",
    "**Target Number of Turns (User + Assistant)** - 2+\n"
   ]
  },
  {
   "cell_type": "markdown",
   "id": "df3f468f",
   "metadata": {},
   "source": [
    "# Conversation"
   ]
  },
  {
   "cell_type": "markdown",
   "id": "e8d5e886",
   "metadata": {},
   "source": [
    "**User**\n",
    "\n",
    "I've got a queue implemented using a list in Python. Can you help me modify it to use collections.deque instead for better performance? Here's the current enqueue and dequeue methods: def enqueue(self, item): self.queue.append(item) def dequeue(self): return self.queue.pop(0)\n"
   ]
  }
 ],
 "metadata": {},
 "nbformat": 4,
 "nbformat_minor": 5
}
