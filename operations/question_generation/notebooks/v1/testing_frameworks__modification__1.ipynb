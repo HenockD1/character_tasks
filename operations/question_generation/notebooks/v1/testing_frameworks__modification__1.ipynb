{
 "cells": [
  {
   "cell_type": "markdown",
   "id": "89064a87",
   "metadata": {},
   "source": [
    "# Metadata\n",
    "\n",
    "**Python Topics** - unit_testing_methodology > testing_frameworks\n",
    "\n",
    "**Type** - modification\n",
    "\n",
    "**Target Number of Turns (User + Assistant)** - 2+\n"
   ]
  },
  {
   "cell_type": "markdown",
   "id": "3ef4c003",
   "metadata": {},
   "source": [
    "# Conversation"
   ]
  },
  {
   "cell_type": "markdown",
   "id": "0b47cf54",
   "metadata": {},
   "source": [
    "**User**\n",
    "\n",
    "I'm trying to parameterize a test case in pytest for better coverage. Here's my initial test function. How can I modify it to test multiple inputs?\n",
    "```python\n",
    "def test_multiply():\n",
    "    assert multiply(3, 4) == 12\n",
    "```\n"
   ]
  }
 ],
 "metadata": {},
 "nbformat": 4,
 "nbformat_minor": 5
}
