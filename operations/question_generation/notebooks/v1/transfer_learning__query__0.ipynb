{
 "cells": [
  {
   "cell_type": "markdown",
   "id": "1fa6469c",
   "metadata": {},
   "source": [
    "# Metadata\n",
    "\n",
    "**Python Topics** - deep_learning > transfer_learning\n",
    "\n",
    "**Type** - query\n",
    "\n",
    "**Target Number of Turns (User + Assistant)** - 2+\n"
   ]
  },
  {
   "cell_type": "markdown",
   "id": "0ff85b19",
   "metadata": {},
   "source": [
    "# Conversation"
   ]
  },
  {
   "cell_type": "markdown",
   "id": "f3fc81b3",
   "metadata": {},
   "source": [
    "**User**\n",
    "\n",
    "How can I use transfer learning to fine-tune a ResNet50 model in Keras for a new dataset with 10 classes?\n"
   ]
  }
 ],
 "metadata": {},
 "nbformat": 4,
 "nbformat_minor": 5
}
