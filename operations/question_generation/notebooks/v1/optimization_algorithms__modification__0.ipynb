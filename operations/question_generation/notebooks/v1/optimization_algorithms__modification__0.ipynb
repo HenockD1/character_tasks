{
 "cells": [
  {
   "cell_type": "markdown",
   "id": "d068e956",
   "metadata": {},
   "source": [
    "# Metadata\n",
    "\n",
    "**Python Topics** - deep_learning > optimization_algorithms\n",
    "\n",
    "**Type** - modification\n",
    "\n",
    "**Target Number of Turns (User + Assistant)** - 2+\n"
   ]
  },
  {
   "cell_type": "markdown",
   "id": "8049951c",
   "metadata": {},
   "source": [
    "# Conversation"
   ]
  },
  {
   "cell_type": "markdown",
   "id": "ca6b5d34",
   "metadata": {},
   "source": [
    "**User**\n",
    "\n",
    "I've been using SGD for my model, but I want to try Adam. Can you modify this code to use the Adam optimizer instead? Here's the snippet: `optimizer = SGD(model.parameters(), lr=0.01)`.\n"
   ]
  }
 ],
 "metadata": {},
 "nbformat": 4,
 "nbformat_minor": 5
}
