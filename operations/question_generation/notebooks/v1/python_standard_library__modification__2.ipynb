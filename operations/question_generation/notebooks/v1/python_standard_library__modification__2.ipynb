{
 "cells": [
  {
   "cell_type": "markdown",
   "id": "c973d53c",
   "metadata": {},
   "source": [
    "# Metadata\n",
    "\n",
    "**Python Topics** - python_language_and_scripting > python_standard_library\n",
    "\n",
    "**Type** - modification\n",
    "\n",
    "**Target Number of Turns (User + Assistant)** - 2+\n"
   ]
  },
  {
   "cell_type": "markdown",
   "id": "77fa9b7a",
   "metadata": {},
   "source": [
    "# Conversation"
   ]
  },
  {
   "cell_type": "markdown",
   "id": "29c51748",
   "metadata": {},
   "source": [
    "**User**\n",
    "\n",
    "I need to pretty-print a nested dictionary for better readability. Can you tweak my code to use the pprint module? Here's the dictionary: my_dict = {'key1': {'subkey1': 'value1', 'subkey2': 'value2'}, 'key2': {'subkey1': 'value3', 'subkey2': 'value4'}}.\n"
   ]
  }
 ],
 "metadata": {},
 "nbformat": 4,
 "nbformat_minor": 5
}
