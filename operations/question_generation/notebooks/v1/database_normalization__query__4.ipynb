{
 "cells": [
  {
   "cell_type": "markdown",
   "id": "3e5990c9",
   "metadata": {},
   "source": [
    "# Metadata\n",
    "\n",
    "**Python Topics** - database > database_normalization\n",
    "\n",
    "**Type** - query\n",
    "\n",
    "**Target Number of Turns (User + Assistant)** - 2+\n"
   ]
  },
  {
   "cell_type": "markdown",
   "id": "cb419448",
   "metadata": {},
   "source": [
    "# Conversation"
   ]
  },
  {
   "cell_type": "markdown",
   "id": "de77bbd4",
   "metadata": {},
   "source": [
    "**User**\n",
    "\n",
    "I need a Python example to merge two tables while maintaining 5NF, can you help?\n"
   ]
  }
 ],
 "metadata": {},
 "nbformat": 4,
 "nbformat_minor": 5
}
