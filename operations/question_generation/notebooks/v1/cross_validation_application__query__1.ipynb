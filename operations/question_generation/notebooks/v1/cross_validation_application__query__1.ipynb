{
 "cells": [
  {
   "cell_type": "markdown",
   "id": "70372f5d",
   "metadata": {},
   "source": [
    "# Metadata\n",
    "\n",
    "**Python Topics** - ml_principles > cross_validation_application\n",
    "\n",
    "**Type** - query\n",
    "\n",
    "**Target Number of Turns (User + Assistant)** - 2+\n"
   ]
  },
  {
   "cell_type": "markdown",
   "id": "4dd1a2ee",
   "metadata": {},
   "source": [
    "# Conversation"
   ]
  },
  {
   "cell_type": "markdown",
   "id": "28569dc7",
   "metadata": {},
   "source": [
    "**User**\n",
    "\n",
    "Could you show me a simple example of using cross-validation with a decision tree in Python?\n"
   ]
  }
 ],
 "metadata": {},
 "nbformat": 4,
 "nbformat_minor": 5
}
