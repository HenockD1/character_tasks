{
 "cells": [
  {
   "cell_type": "markdown",
   "id": "621f5468",
   "metadata": {},
   "source": [
    "# Metadata\n",
    "\n",
    "**Python Topics** - data_analysis > time_series_analysis\n",
    "\n",
    "**Type** - query\n",
    "\n",
    "**Target Number of Turns (User + Assistant)** - 2+\n"
   ]
  },
  {
   "cell_type": "markdown",
   "id": "bc57c394",
   "metadata": {},
   "source": [
    "# Conversation"
   ]
  },
  {
   "cell_type": "markdown",
   "id": "c899c98e",
   "metadata": {},
   "source": [
    "**User**\n",
    "\n",
    "Can you show me how to calculate the rolling average of a time series with a 7-day window using pandas?\n"
   ]
  }
 ],
 "metadata": {},
 "nbformat": 4,
 "nbformat_minor": 5
}
