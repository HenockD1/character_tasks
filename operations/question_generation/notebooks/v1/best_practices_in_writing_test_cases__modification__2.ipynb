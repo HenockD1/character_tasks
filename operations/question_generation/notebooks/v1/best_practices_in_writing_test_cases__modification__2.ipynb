{
 "cells": [
  {
   "cell_type": "markdown",
   "id": "43a5cb93",
   "metadata": {},
   "source": [
    "# Metadata\n",
    "\n",
    "**Python Topics** - unit_testing_methodology > best_practices_in_writing_test_cases\n",
    "\n",
    "**Type** - modification\n",
    "\n",
    "**Target Number of Turns (User + Assistant)** - 2+\n"
   ]
  },
  {
   "cell_type": "markdown",
   "id": "62a9bb8d",
   "metadata": {},
   "source": [
    "# Conversation"
   ]
  },
  {
   "cell_type": "markdown",
   "id": "f322601a",
   "metadata": {},
   "source": [
    "**User**\n",
    "\n",
    "I'm trying to follow best practices in my test cases. Can you help me parameterize the following test function to run with multiple inputs? Here's the initial test: ```def test_is_prime(num): # Some logic to test if 'num' is a prime number assert test_is_prime(5)```\n"
   ]
  }
 ],
 "metadata": {},
 "nbformat": 4,
 "nbformat_minor": 5
}
