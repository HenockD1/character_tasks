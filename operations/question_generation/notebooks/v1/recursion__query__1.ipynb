{
 "cells": [
  {
   "cell_type": "markdown",
   "id": "5b7f7812",
   "metadata": {},
   "source": [
    "# Metadata\n",
    "\n",
    "**Python Topics** - algorithms > by_topic > recursion\n",
    "\n",
    "**Type** - query\n",
    "\n",
    "**Target Number of Turns (User + Assistant)** - 2+\n"
   ]
  },
  {
   "cell_type": "markdown",
   "id": "fca79181",
   "metadata": {},
   "source": [
    "# Conversation"
   ]
  },
  {
   "cell_type": "markdown",
   "id": "34dd0cea",
   "metadata": {},
   "source": [
    "**User**\n",
    "\n",
    "How would you implement a recursive function to compute the factorial of a given number?\n"
   ]
  }
 ],
 "metadata": {},
 "nbformat": 4,
 "nbformat_minor": 5
}
