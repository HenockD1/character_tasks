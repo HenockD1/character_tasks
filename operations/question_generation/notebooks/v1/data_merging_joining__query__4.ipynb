{
 "cells": [
  {
   "cell_type": "markdown",
   "id": "96299e5c",
   "metadata": {},
   "source": [
    "# Metadata\n",
    "\n",
    "**Python Topics** - data_analysis > data_merging_joining\n",
    "\n",
    "**Type** - query\n",
    "\n",
    "**Target Number of Turns (User + Assistant)** - 2+\n"
   ]
  },
  {
   "cell_type": "markdown",
   "id": "ea06d253",
   "metadata": {},
   "source": [
    "# Conversation"
   ]
  },
  {
   "cell_type": "markdown",
   "id": "b333f076",
   "metadata": {},
   "source": [
    "**User**\n",
    "\n",
    "Is there a way to perform a full outer join on two DataFrames and fill NaN values with zeros in pandas?\n"
   ]
  }
 ],
 "metadata": {},
 "nbformat": 4,
 "nbformat_minor": 5
}
