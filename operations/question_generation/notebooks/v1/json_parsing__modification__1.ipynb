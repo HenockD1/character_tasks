{
 "cells": [
  {
   "cell_type": "markdown",
   "id": "0521c861",
   "metadata": {},
   "source": [
    "# Metadata\n",
    "\n",
    "**Python Topics** - data_analysis > json_parsing\n",
    "\n",
    "**Type** - modification\n",
    "\n",
    "**Target Number of Turns (User + Assistant)** - 2+\n"
   ]
  },
  {
   "cell_type": "markdown",
   "id": "f3d01017",
   "metadata": {},
   "source": [
    "# Conversation"
   ]
  },
  {
   "cell_type": "markdown",
   "id": "39339a88",
   "metadata": {},
   "source": [
    "**User**\n",
    "\n",
    "I'm working with a nested JSON and need to extract a specific value. Here's the JSON: '{\"person\": {\"details\": {\"name\": \"Jane\", \"age\": 25}, \"location\": \"London\"}}'. How do I get Jane's age from this?\n"
   ]
  }
 ],
 "metadata": {},
 "nbformat": 4,
 "nbformat_minor": 5
}
