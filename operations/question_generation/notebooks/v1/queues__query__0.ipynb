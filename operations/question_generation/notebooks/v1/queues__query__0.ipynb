{
 "cells": [
  {
   "cell_type": "markdown",
   "id": "d79a8de6",
   "metadata": {},
   "source": [
    "# Metadata\n",
    "\n",
    "**Python Topics** - algorithms > by_data_structure > queues\n",
    "\n",
    "**Type** - query\n",
    "\n",
    "**Target Number of Turns (User + Assistant)** - 2+\n"
   ]
  },
  {
   "cell_type": "markdown",
   "id": "46264a74",
   "metadata": {},
   "source": [
    "# Conversation"
   ]
  },
  {
   "cell_type": "markdown",
   "id": "5f199b6c",
   "metadata": {},
   "source": [
    "**User**\n",
    "\n",
    "How can I implement a queue using two stacks in Python?\n"
   ]
  }
 ],
 "metadata": {},
 "nbformat": 4,
 "nbformat_minor": 5
}
