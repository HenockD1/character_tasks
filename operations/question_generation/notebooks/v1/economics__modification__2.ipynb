{
 "cells": [
  {
   "cell_type": "markdown",
   "id": "37753513",
   "metadata": {},
   "source": [
    "# Metadata\n",
    "\n",
    "**Python Topics** - high_school > economics\n",
    "\n",
    "**Type** - modification\n",
    "\n",
    "**Target Number of Turns (User + Assistant)** - 2+\n"
   ]
  },
  {
   "cell_type": "markdown",
   "id": "38a3468c",
   "metadata": {},
   "source": [
    "# Conversation"
   ]
  },
  {
   "cell_type": "markdown",
   "id": "911bfd7d",
   "metadata": {},
   "source": [
    "**User**\n",
    "\n",
    "I'm trying to create a function that calculates the elasticity of demand, but I'm stuck on how to implement the formula. The current code is incomplete: def calculate_elasticity(quantity_before, quantity_after, price_before, price_after): pass. Can you fill in the function to calculate elasticity using the midpoint formula?\n"
   ]
  }
 ],
 "metadata": {},
 "nbformat": 4,
 "nbformat_minor": 5
}
