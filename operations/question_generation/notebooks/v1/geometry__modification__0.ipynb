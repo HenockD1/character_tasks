{
 "cells": [
  {
   "cell_type": "markdown",
   "id": "5346396d",
   "metadata": {},
   "source": [
    "# Metadata\n",
    "\n",
    "**Python Topics** - algorithms > by_topic > geometry\n",
    "\n",
    "**Type** - modification\n",
    "\n",
    "**Target Number of Turns (User + Assistant)** - 2+\n"
   ]
  },
  {
   "cell_type": "markdown",
   "id": "f8883a6f",
   "metadata": {},
   "source": [
    "# Conversation"
   ]
  },
  {
   "cell_type": "markdown",
   "id": "89260b44",
   "metadata": {},
   "source": [
    "**User**\n",
    "\n",
    "I have a function that calculates the area of a rectangle, but I'd like to extend it to also calculate and return the perimeter. Could you help me with that? Here's the current function:\n",
    "```python\n",
    "def rectangle_area(width, height):\n",
    "    return width * height\n",
    "```\n"
   ]
  }
 ],
 "metadata": {},
 "nbformat": 4,
 "nbformat_minor": 5
}
