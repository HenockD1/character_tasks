{
 "cells": [
  {
   "cell_type": "markdown",
   "id": "c3e48909",
   "metadata": {},
   "source": [
    "# Metadata\n",
    "\n",
    "**Python Topics** - database > indexing_and_search_performance\n",
    "\n",
    "**Type** - query\n",
    "\n",
    "**Target Number of Turns (User + Assistant)** - 2+\n"
   ]
  },
  {
   "cell_type": "markdown",
   "id": "843f55d1",
   "metadata": {},
   "source": [
    "# Conversation"
   ]
  },
  {
   "cell_type": "markdown",
   "id": "54b6efbf",
   "metadata": {},
   "source": [
    "**User**\n",
    "\n",
    "In Python, how do I implement indexing on a JSON field in a PostgreSQL database?\n"
   ]
  }
 ],
 "metadata": {},
 "nbformat": 4,
 "nbformat_minor": 5
}
