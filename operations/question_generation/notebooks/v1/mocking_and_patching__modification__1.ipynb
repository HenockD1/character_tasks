{
 "cells": [
  {
   "cell_type": "markdown",
   "id": "45988bfb",
   "metadata": {},
   "source": [
    "# Metadata\n",
    "\n",
    "**Python Topics** - unit_testing_methodology > mocking_and_patching\n",
    "\n",
    "**Type** - modification\n",
    "\n",
    "**Target Number of Turns (User + Assistant)** - 2+\n"
   ]
  },
  {
   "cell_type": "markdown",
   "id": "d4b1151d",
   "metadata": {},
   "source": [
    "# Conversation"
   ]
  },
  {
   "cell_type": "markdown",
   "id": "77e29a75",
   "metadata": {},
   "source": [
    "**User**\n",
    "\n",
    "Can you help me patch a method 'get_user' from the 'User' class in my tests? I want it to return a mock user object instead of hitting the database. Here's the class: ```class User: def get_user(self, user_id): # Fetches user from the database```\n"
   ]
  }
 ],
 "metadata": {},
 "nbformat": 4,
 "nbformat_minor": 5
}
