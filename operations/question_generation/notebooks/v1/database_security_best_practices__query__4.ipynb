{
 "cells": [
  {
   "cell_type": "markdown",
   "id": "2e5b5122",
   "metadata": {},
   "source": [
    "# Metadata\n",
    "\n",
    "**Python Topics** - database > database_security_best_practices\n",
    "\n",
    "**Type** - query\n",
    "\n",
    "**Target Number of Turns (User + Assistant)** - 2+\n"
   ]
  },
  {
   "cell_type": "markdown",
   "id": "1e56f512",
   "metadata": {},
   "source": [
    "# Conversation"
   ]
  },
  {
   "cell_type": "markdown",
   "id": "a165bc39",
   "metadata": {},
   "source": [
    "**User**\n",
    "\n",
    "In Python, how do I set up SSL encryption for a PostgreSQL connection using psycopg2?\n"
   ]
  }
 ],
 "metadata": {},
 "nbformat": 4,
 "nbformat_minor": 5
}
