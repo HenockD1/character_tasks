{
 "cells": [
  {
   "cell_type": "markdown",
   "id": "e7e8b795",
   "metadata": {},
   "source": [
    "# Metadata\n",
    "\n",
    "**Python Topics** - ml_principles > train_test_split\n",
    "\n",
    "**Type** - query\n",
    "\n",
    "**Target Number of Turns (User + Assistant)** - 2+\n"
   ]
  },
  {
   "cell_type": "markdown",
   "id": "0fcb5ab3",
   "metadata": {},
   "source": [
    "# Conversation"
   ]
  },
  {
   "cell_type": "markdown",
   "id": "aa7ec1c8",
   "metadata": {},
   "source": [
    "**User**\n",
    "\n",
    "What's the syntax for including a random seed in train_test_split to ensure reproducibility?\n"
   ]
  }
 ],
 "metadata": {},
 "nbformat": 4,
 "nbformat_minor": 5
}
