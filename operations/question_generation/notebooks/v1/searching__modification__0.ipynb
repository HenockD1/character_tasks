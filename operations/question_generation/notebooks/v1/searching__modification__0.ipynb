{
 "cells": [
  {
   "cell_type": "markdown",
   "id": "1febc017",
   "metadata": {},
   "source": [
    "# Metadata\n",
    "\n",
    "**Python Topics** - algorithms > by_topic > searching\n",
    "\n",
    "**Type** - modification\n",
    "\n",
    "**Target Number of Turns (User + Assistant)** - 2+\n"
   ]
  },
  {
   "cell_type": "markdown",
   "id": "dca7b5f0",
   "metadata": {},
   "source": [
    "# Conversation"
   ]
  },
  {
   "cell_type": "markdown",
   "id": "58d7c26a",
   "metadata": {},
   "source": [
    "**User**\n",
    "\n",
    "I have a binary search function that currently works with integers. Can you modify it to work with floating-point numbers? Here's the code: def binary_search(arr, x): left, right = 0, len(arr) - 1 while left <= right: mid = left + (right - left) // 2 if arr[mid] == x: return mid elif arr[mid] < x: left = mid + 1 else: right = mid - 1 return -1\n"
   ]
  }
 ],
 "metadata": {},
 "nbformat": 4,
 "nbformat_minor": 5
}
