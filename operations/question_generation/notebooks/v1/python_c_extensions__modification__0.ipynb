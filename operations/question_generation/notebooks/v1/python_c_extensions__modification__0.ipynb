{
 "cells": [
  {
   "cell_type": "markdown",
   "id": "5168cd1b",
   "metadata": {},
   "source": [
    "# Metadata\n",
    "\n",
    "**Python Topics** - python_language_and_scripting > python_c_extensions\n",
    "\n",
    "**Type** - modification\n",
    "\n",
    "**Target Number of Turns (User + Assistant)** - 2+\n"
   ]
  },
  {
   "cell_type": "markdown",
   "id": "c50310d8",
   "metadata": {},
   "source": [
    "# Conversation"
   ]
  },
  {
   "cell_type": "markdown",
   "id": "4bccce1f",
   "metadata": {},
   "source": [
    "**User**\n",
    "\n",
    "I've got a Python C extension module with a function that's not handling exceptions correctly. Can you help me add proper exception handling? Here's the function:\n",
    "```c\n",
    "static PyObject *my_func(PyObject *self, PyObject *args) {\n",
    "  int i;\n",
    "  if (!PyArg_ParseTuple(args, \"i\", &i)) {\n",
    "    return NULL;\n",
    "  }\n",
    "  return PyLong_FromLong(i*2);\n",
    "}\n",
    "```\n"
   ]
  }
 ],
 "metadata": {},
 "nbformat": 4,
 "nbformat_minor": 5
}
