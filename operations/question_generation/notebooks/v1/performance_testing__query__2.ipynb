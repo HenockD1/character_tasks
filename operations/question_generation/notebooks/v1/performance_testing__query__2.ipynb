{
 "cells": [
  {
   "cell_type": "markdown",
   "id": "489dbe7f",
   "metadata": {},
   "source": [
    "# Metadata\n",
    "\n",
    "**Python Topics** - unit_testing_methodology > performance_testing\n",
    "\n",
    "**Type** - query\n",
    "\n",
    "**Target Number of Turns (User + Assistant)** - 2+\n"
   ]
  },
  {
   "cell_type": "markdown",
   "id": "35fdb525",
   "metadata": {},
   "source": [
    "# Conversation"
   ]
  },
  {
   "cell_type": "markdown",
   "id": "b0b85c18",
   "metadata": {},
   "source": [
    "**User**\n",
    "\n",
    "What's the best way to compare the performance of two different sorting algorithms in Python?\n"
   ]
  }
 ],
 "metadata": {},
 "nbformat": 4,
 "nbformat_minor": 5
}
