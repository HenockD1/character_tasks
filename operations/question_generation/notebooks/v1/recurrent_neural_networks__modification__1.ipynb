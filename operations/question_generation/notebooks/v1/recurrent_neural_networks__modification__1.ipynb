{
 "cells": [
  {
   "cell_type": "markdown",
   "id": "a6e720ae",
   "metadata": {},
   "source": [
    "# Metadata\n",
    "\n",
    "**Python Topics** - deep_learning > recurrent_neural_networks\n",
    "\n",
    "**Type** - modification\n",
    "\n",
    "**Target Number of Turns (User + Assistant)** - 2+\n"
   ]
  },
  {
   "cell_type": "markdown",
   "id": "206498f4",
   "metadata": {},
   "source": [
    "# Conversation"
   ]
  },
  {
   "cell_type": "markdown",
   "id": "25e64aa6",
   "metadata": {},
   "source": [
    "**User**\n",
    "\n",
    "Can you help me modify this TensorFlow RNN code to use a GRU layer instead of a SimpleRNN layer? Here's the current implementation:\n",
    "```python\n",
    "from tensorflow.keras.layers import SimpleRNN, Dense\n",
    "from tensorflow.keras.models import Sequential\n",
    "\n",
    "model = Sequential()\n",
    "model.add(SimpleRNN(50, activation='relu', input_shape=(100, 1)))\n",
    "model.add(Dense(1))\n",
    "model.compile(optimizer='adam', loss='mean_squared_error')\n",
    "```\n"
   ]
  }
 ],
 "metadata": {},
 "nbformat": 4,
 "nbformat_minor": 5
}
