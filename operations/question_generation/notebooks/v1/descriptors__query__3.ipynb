{
 "cells": [
  {
   "cell_type": "markdown",
   "id": "51cc32bd",
   "metadata": {},
   "source": [
    "# Metadata\n",
    "\n",
    "**Python Topics** - python_language_and_scripting > descriptors\n",
    "\n",
    "**Type** - query\n",
    "\n",
    "**Target Number of Turns (User + Assistant)** - 2+\n"
   ]
  },
  {
   "cell_type": "markdown",
   "id": "dabd288e",
   "metadata": {},
   "source": [
    "# Conversation"
   ]
  },
  {
   "cell_type": "markdown",
   "id": "97e83474",
   "metadata": {},
   "source": [
    "**User**\n",
    "\n",
    "Can you demonstrate how to create a read-only descriptor in Python?\n"
   ]
  }
 ],
 "metadata": {},
 "nbformat": 4,
 "nbformat_minor": 5
}
