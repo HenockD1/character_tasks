{
 "cells": [
  {
   "cell_type": "markdown",
   "id": "97dd9de4",
   "metadata": {},
   "source": [
    "# Metadata\n",
    "\n",
    "**Python Topics** - ml_principles > decision_trees_usage\n",
    "\n",
    "**Type** - query\n",
    "\n",
    "**Target Number of Turns (User + Assistant)** - 2+\n"
   ]
  },
  {
   "cell_type": "markdown",
   "id": "96468272",
   "metadata": {},
   "source": [
    "# Conversation"
   ]
  },
  {
   "cell_type": "markdown",
   "id": "723f5d60",
   "metadata": {},
   "source": [
    "**User**\n",
    "\n",
    "How do I use a decision tree to predict outcomes on a new dataset in Python?\n"
   ]
  }
 ],
 "metadata": {},
 "nbformat": 4,
 "nbformat_minor": 5
}
