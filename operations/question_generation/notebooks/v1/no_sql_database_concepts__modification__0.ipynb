{
 "cells": [
  {
   "cell_type": "markdown",
   "id": "e17e2fe8",
   "metadata": {},
   "source": [
    "# Metadata\n",
    "\n",
    "**Python Topics** - database > no_sql_database_concepts\n",
    "\n",
    "**Type** - modification\n",
    "\n",
    "**Target Number of Turns (User + Assistant)** - 2+\n"
   ]
  },
  {
   "cell_type": "markdown",
   "id": "8c63d7b7",
   "metadata": {},
   "source": [
    "# Conversation"
   ]
  },
  {
   "cell_type": "markdown",
   "id": "e00415dc",
   "metadata": {},
   "source": [
    "**User**\n",
    "\n",
    "I have a dictionary representing a MongoDB document. Can you help me add a new field 'last_modified' with the current timestamp? Here's the code snippet: `document = {'name': 'John', 'age': 30}`.\n"
   ]
  }
 ],
 "metadata": {},
 "nbformat": 4,
 "nbformat_minor": 5
}
