{
 "cells": [
  {
   "cell_type": "markdown",
   "id": "42c252b2",
   "metadata": {},
   "source": [
    "# Metadata\n",
    "\n",
    "**Python Topics** - database > transaction_management\n",
    "\n",
    "**Type** - query\n",
    "\n",
    "**Target Number of Turns (User + Assistant)** - 2+\n"
   ]
  },
  {
   "cell_type": "markdown",
   "id": "f283f512",
   "metadata": {},
   "source": [
    "# Conversation"
   ]
  },
  {
   "cell_type": "markdown",
   "id": "a9883247",
   "metadata": {},
   "source": [
    "**User**\n",
    "\n",
    "Can you show me how to rollback a transaction using psycopg2 in Python?\n"
   ]
  }
 ],
 "metadata": {},
 "nbformat": 4,
 "nbformat_minor": 5
}
