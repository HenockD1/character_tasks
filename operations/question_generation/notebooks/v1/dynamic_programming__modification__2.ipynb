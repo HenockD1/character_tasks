{
 "cells": [
  {
   "cell_type": "markdown",
   "id": "0ecf6aab",
   "metadata": {},
   "source": [
    "# Metadata\n",
    "\n",
    "**Python Topics** - algorithms > by_topic > dynamic_programming\n",
    "\n",
    "**Type** - modification\n",
    "\n",
    "**Target Number of Turns (User + Assistant)** - 2+\n"
   ]
  },
  {
   "cell_type": "markdown",
   "id": "68cefef3",
   "metadata": {},
   "source": [
    "# Conversation"
   ]
  },
  {
   "cell_type": "markdown",
   "id": "952ddf7d",
   "metadata": {},
   "source": [
    "**User**\n",
    "\n",
    "I'm trying to solve the 0/1 knapsack problem but it's too slow. Can you refactor my recursive solution to use dynamic programming for better performance? Here's my current code: def knapsack(values, weights, capacity, n): if n == 0 or capacity == 0: return 0 if weights[n-1] > capacity: return knapsack(values, weights, capacity, n-1) else: return max(values[n-1] + knapsack(values, weights, capacity-weights[n-1], n-1), knapsack(values, weights, capacity, n-1)).\n"
   ]
  }
 ],
 "metadata": {},
 "nbformat": 4,
 "nbformat_minor": 5
}
