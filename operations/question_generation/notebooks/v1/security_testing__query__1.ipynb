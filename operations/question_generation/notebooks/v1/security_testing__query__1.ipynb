{
 "cells": [
  {
   "cell_type": "markdown",
   "id": "32fc0725",
   "metadata": {},
   "source": [
    "# Metadata\n",
    "\n",
    "**Python Topics** - unit_testing_methodology > security_testing\n",
    "\n",
    "**Type** - query\n",
    "\n",
    "**Target Number of Turns (User + Assistant)** - 2+\n"
   ]
  },
  {
   "cell_type": "markdown",
   "id": "4a1cea0d",
   "metadata": {},
   "source": [
    "# Conversation"
   ]
  },
  {
   "cell_type": "markdown",
   "id": "4b409f93",
   "metadata": {},
   "source": [
    "**User**\n",
    "\n",
    "What's the best way to simulate a SQL injection attack in a Python unit test?\n"
   ]
  }
 ],
 "metadata": {},
 "nbformat": 4,
 "nbformat_minor": 5
}
