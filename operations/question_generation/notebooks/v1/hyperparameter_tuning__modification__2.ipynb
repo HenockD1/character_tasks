{
 "cells": [
  {
   "cell_type": "markdown",
   "id": "9468b8b8",
   "metadata": {},
   "source": [
    "# Metadata\n",
    "\n",
    "**Python Topics** - ml_principles > hyperparameter_tuning\n",
    "\n",
    "**Type** - modification\n",
    "\n",
    "**Target Number of Turns (User + Assistant)** - 2+\n"
   ]
  },
  {
   "cell_type": "markdown",
   "id": "33fac034",
   "metadata": {},
   "source": [
    "# Conversation"
   ]
  },
  {
   "cell_type": "markdown",
   "id": "54c482a4",
   "metadata": {},
   "source": [
    "**User**\n",
    "\n",
    "I'm trying to tune hyperparameters for my SVM, but I forgot to include the 'gamma' parameter. Can you insert 'gamma' into my parameter grid with values 'scale' and 'auto'? Here's my code snippet: from sklearn.model_selection import GridSearchCV; parameters = {'C': [1, 10], 'kernel': ('linear', 'rbf')}; svc = SVC(); clf = GridSearchCV(svc, parameters); clf.fit(X, y)\n"
   ]
  }
 ],
 "metadata": {},
 "nbformat": 4,
 "nbformat_minor": 5
}
