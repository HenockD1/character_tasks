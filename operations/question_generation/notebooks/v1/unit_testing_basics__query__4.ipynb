{
 "cells": [
  {
   "cell_type": "markdown",
   "id": "524305c8",
   "metadata": {},
   "source": [
    "# Metadata\n",
    "\n",
    "**Python Topics** - unit_testing_methodology > unit_testing_basics\n",
    "\n",
    "**Type** - query\n",
    "\n",
    "**Target Number of Turns (User + Assistant)** - 2+\n"
   ]
  },
  {
   "cell_type": "markdown",
   "id": "aaafe0c1",
   "metadata": {},
   "source": [
    "# Conversation"
   ]
  },
  {
   "cell_type": "markdown",
   "id": "d616fec5",
   "metadata": {},
   "source": [
    "**User**\n",
    "\n",
    "In Python's unittest framework, how can I test if two lists contain the same elements, regardless of their order?\n"
   ]
  }
 ],
 "metadata": {},
 "nbformat": 4,
 "nbformat_minor": 5
}
