{
 "cells": [
  {
   "cell_type": "markdown",
   "id": "518fe0fa",
   "metadata": {},
   "source": [
    "# Metadata\n",
    "\n",
    "**Python Topics** - database > sql_query_optimization\n",
    "\n",
    "**Type** - query\n",
    "\n",
    "**Target Number of Turns (User + Assistant)** - 2+\n"
   ]
  },
  {
   "cell_type": "markdown",
   "id": "f4219b2a",
   "metadata": {},
   "source": [
    "# Conversation"
   ]
  },
  {
   "cell_type": "markdown",
   "id": "4cb62da6",
   "metadata": {},
   "source": [
    "**User**\n",
    "\n",
    "How can I use indexes to speed up a SELECT query in a Python application?\n"
   ]
  }
 ],
 "metadata": {},
 "nbformat": 4,
 "nbformat_minor": 5
}
