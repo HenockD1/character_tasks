{
 "cells": [
  {
   "cell_type": "markdown",
   "id": "e82fda57",
   "metadata": {},
   "source": [
    "# Metadata\n",
    "\n",
    "**Python Topics** - algorithms > by_topic > greedy_algorithms\n",
    "\n",
    "**Type** - modification\n",
    "\n",
    "**Target Number of Turns (User + Assistant)** - 2+\n"
   ]
  },
  {
   "cell_type": "markdown",
   "id": "c76c269b",
   "metadata": {},
   "source": [
    "# Conversation"
   ]
  },
  {
   "cell_type": "markdown",
   "id": "7f507902",
   "metadata": {},
   "source": [
    "**User**\n",
    "\n",
    "Could you help me optimize my greedy algorithm? It's meant to schedule the maximum number of non-overlapping intervals. Here's what I've got so far: ```def max_intervals(intervals): intervals.sort(key=lambda x: x[1]) count = 0 end_time = 0 for interval in intervals: if interval[0] >= end_time: end_time = interval[1] count += 1 return count```\n"
   ]
  }
 ],
 "metadata": {},
 "nbformat": 4,
 "nbformat_minor": 5
}
