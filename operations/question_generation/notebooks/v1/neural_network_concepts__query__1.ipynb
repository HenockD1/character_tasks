{
 "cells": [
  {
   "cell_type": "markdown",
   "id": "56a8ce84",
   "metadata": {},
   "source": [
    "# Metadata\n",
    "\n",
    "**Python Topics** - deep_learning > neural_network_concepts\n",
    "\n",
    "**Type** - query\n",
    "\n",
    "**Target Number of Turns (User + Assistant)** - 2+\n"
   ]
  },
  {
   "cell_type": "markdown",
   "id": "a26a6ee2",
   "metadata": {},
   "source": [
    "# Conversation"
   ]
  },
  {
   "cell_type": "markdown",
   "id": "1620479a",
   "metadata": {},
   "source": [
    "**User**\n",
    "\n",
    "How do I use dropout in a neural network with TensorFlow?\n"
   ]
  }
 ],
 "metadata": {},
 "nbformat": 4,
 "nbformat_minor": 5
}
