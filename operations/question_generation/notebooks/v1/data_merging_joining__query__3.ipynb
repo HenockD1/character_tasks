{
 "cells": [
  {
   "cell_type": "markdown",
   "id": "ef8b402b",
   "metadata": {},
   "source": [
    "# Metadata\n",
    "\n",
    "**Python Topics** - data_analysis > data_merging_joining\n",
    "\n",
    "**Type** - query\n",
    "\n",
    "**Target Number of Turns (User + Assistant)** - 2+\n"
   ]
  },
  {
   "cell_type": "markdown",
   "id": "021cf44c",
   "metadata": {},
   "source": [
    "# Conversation"
   ]
  },
  {
   "cell_type": "markdown",
   "id": "50134ca0",
   "metadata": {},
   "source": [
    "**User**\n",
    "\n",
    "How do I use a right join to combine two DataFrames but only keep the rows that appear in the second DataFrame?\n"
   ]
  }
 ],
 "metadata": {},
 "nbformat": 4,
 "nbformat_minor": 5
}
