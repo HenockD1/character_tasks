{
 "cells": [
  {
   "cell_type": "markdown",
   "id": "ccf1f014",
   "metadata": {},
   "source": [
    "# Metadata\n",
    "\n",
    "**Python Topics** - python_language_and_scripting > advanced_networking\n",
    "\n",
    "**Type** - modification\n",
    "\n",
    "**Target Number of Turns (User + Assistant)** - 2+\n"
   ]
  },
  {
   "cell_type": "markdown",
   "id": "be1b4f2a",
   "metadata": {},
   "source": [
    "# Conversation"
   ]
  },
  {
   "cell_type": "markdown",
   "id": "6cefd295",
   "metadata": {},
   "source": [
    "**User**\n",
    "\n",
    "I need to add SSL to an existing socket connection. Here's the current code: ```python\n",
    "import socket\n",
    "import ssl\n",
    "\n",
    "hostname = 'www.example.com'\n",
    "context = ssl.create_default_context()\n",
    "\n",
    "with socket.create_connection((hostname, 443)) as sock:\n",
    "    with context.wrap_socket(sock, server_hostname=hostname) as ssock:\n",
    "        print(ssock.version())\n",
    "``` Can you modify it to check the server's certificate against a trusted CA bundle?\n"
   ]
  }
 ],
 "metadata": {},
 "nbformat": 4,
 "nbformat_minor": 5
}
