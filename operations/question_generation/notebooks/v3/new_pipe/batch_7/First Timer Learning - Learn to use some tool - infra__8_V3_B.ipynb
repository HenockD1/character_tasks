{
 "cells": [
  {
   "cell_type": "markdown",
   "id": "cbe10c10",
   "metadata": {},
   "source": [
    "# Metadata\n",
    "\n",
    "**Occupation Topics** - Business Analyst > First Timer Learning - Learn to use some tool - infra\n",
    "\n",
    "**Target Number of Turns (User + Assistant)** - 3-7\n",
    "\n",
    "**Use Case** - Automating data extraction from sales reports\n",
    "\n",
    "**Technical Topic** - Introduction to pandas for data manipulation\n",
    "\n",
    "**User Personality** - Curious, engaged, and slightly hesitant\n"
   ]
  },
  {
   "cell_type": "markdown",
   "id": "b4a2b88e",
   "metadata": {},
   "source": [
    "# Conversation"
   ]
  },
  {
   "cell_type": "markdown",
   "id": "6d21f2dd",
   "metadata": {},
   "source": [
    "**User**\n"
   ]
  }
 ],
 "metadata": {},
 "nbformat": 4,
 "nbformat_minor": 5
}
