{
 "cells": [
  {
   "cell_type": "markdown",
   "id": "01d1af4b",
   "metadata": {},
   "source": [
    "# Metadata\n",
    "\n",
    "**Occupation Topics** - Data Analyst > Expert Interview preparation - Proactively ask follow up questions\n",
    "\n",
    "**Target Number of Turns (User + Assistant)** - 1-5\n",
    "\n",
    "**Use Case** - Demonstrating data visualization skills in an interview setting\n",
    "\n",
    "**Technical Topic** - Creating interactive plots with Plotly in Python\n",
    "\n",
    "**User Personality** - Curious, open-minded, and elaborate, enjoys exploring data visually and presenting findings in a detailed and engaging manner.\n"
   ]
  },
  {
   "cell_type": "markdown",
   "id": "8a33a0d3",
   "metadata": {},
   "source": [
    "# Conversation"
   ]
  },
  {
   "cell_type": "markdown",
   "id": "c1d5e5c5",
   "metadata": {},
   "source": [
    "**User**\n"
   ]
  }
 ],
 "metadata": {},
 "nbformat": 4,
 "nbformat_minor": 5
}
