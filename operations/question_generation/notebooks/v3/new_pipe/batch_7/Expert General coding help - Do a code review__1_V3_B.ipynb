{
 "cells": [
  {
   "cell_type": "markdown",
   "id": "e388389e",
   "metadata": {},
   "source": [
    "# Metadata\n",
    "\n",
    "**Occupation Topics** - Project Manager > Expert General coding help - Do a code review\n",
    "\n",
    "**Target Number of Turns (User + Assistant)** - 2-6\n",
    "\n",
    "**Use Case** - Improving team collaboration with a custom tool\n",
    "\n",
    "**Technical Topic** - Integrating Python with Slack API\n",
    "\n",
    "**User Personality** - Curious, Collaborative, and Informal\n"
   ]
  },
  {
   "cell_type": "markdown",
   "id": "c5f586d8",
   "metadata": {},
   "source": [
    "# Conversation"
   ]
  },
  {
   "cell_type": "markdown",
   "id": "5629451f",
   "metadata": {},
   "source": [
    "**User**\n"
   ]
  }
 ],
 "metadata": {},
 "nbformat": 4,
 "nbformat_minor": 5
}
