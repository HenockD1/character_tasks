{
 "cells": [
  {
   "cell_type": "markdown",
   "id": "f69d2e82",
   "metadata": {},
   "source": [
    "# Metadata\n",
    "\n",
    "**Occupation Topics** - Mobile App Developer > First Timer Learning - Learn to use some tool - infra\n",
    "\n",
    "**Target Number of Turns (User + Assistant)** - 1-5\n",
    "\n",
    "**Use Case** - Setting up a local development environment for a new Android project\n",
    "\n",
    "**Technical Topic** - Android Studio setup and configuration\n",
    "\n",
    "**User Personality** - Curious, patient, and collaborative. Prefers detailed guidance and enjoys learning through interaction with others.\n"
   ]
  },
  {
   "cell_type": "markdown",
   "id": "0030b283",
   "metadata": {},
   "source": [
    "# Conversation"
   ]
  },
  {
   "cell_type": "markdown",
   "id": "5c850a68",
   "metadata": {},
   "source": [
    "**User**\n"
   ]
  }
 ],
 "metadata": {},
 "nbformat": 4,
 "nbformat_minor": 5
}
