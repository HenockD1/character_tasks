{
 "cells": [
  {
   "cell_type": "markdown",
   "id": "c702f291",
   "metadata": {},
   "source": [
    "# Metadata\n",
    "\n",
    "**Occupation Topics** - Artificial Intelligence Engineer > Advanced Interview preparation - Proactively ask follow up questions\n",
    "\n",
    "**Target Number of Turns (User + Assistant)** - 2-6\n",
    "\n",
    "**Use Case** - Developing a chatbot with contextual understanding\n",
    "\n",
    "**Technical Topic** - Integrating Python's NLTK library for sentence parsing\n",
    "\n",
    "**User Personality** - Confident, focused, and practical. Seeks efficient ways to parse and understand user input, and is assertive in their approach to problem-solving.\n"
   ]
  },
  {
   "cell_type": "markdown",
   "id": "2c201063",
   "metadata": {},
   "source": [
    "# Conversation"
   ]
  },
  {
   "cell_type": "markdown",
   "id": "0f449ba4",
   "metadata": {},
   "source": [
    "**User**\n"
   ]
  }
 ],
 "metadata": {},
 "nbformat": 4,
 "nbformat_minor": 5
}
