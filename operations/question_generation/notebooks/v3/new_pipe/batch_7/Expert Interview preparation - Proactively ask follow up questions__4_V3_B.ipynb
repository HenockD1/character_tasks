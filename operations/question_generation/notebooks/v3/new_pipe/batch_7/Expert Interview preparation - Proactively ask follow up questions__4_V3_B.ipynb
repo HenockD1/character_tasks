{
 "cells": [
  {
   "cell_type": "markdown",
   "id": "06a46d46",
   "metadata": {},
   "source": [
    "# Metadata\n",
    "\n",
    "**Occupation Topics** - Smart City Planner > Expert Interview preparation - Proactively ask follow up questions\n",
    "\n",
    "**Target Number of Turns (User + Assistant)** - 3-7\n",
    "\n",
    "**Use Case** - Creating a public space utilization dashboard for city events\n",
    "\n",
    "**Technical Topic** - Data visualization with Bokeh in Python\n",
    "\n",
    "**User Personality** - Engaged, open-minded, and elaborate\n"
   ]
  },
  {
   "cell_type": "markdown",
   "id": "fd61572f",
   "metadata": {},
   "source": [
    "# Conversation"
   ]
  },
  {
   "cell_type": "markdown",
   "id": "e3623d3b",
   "metadata": {},
   "source": [
    "**User**\n"
   ]
  }
 ],
 "metadata": {},
 "nbformat": 4,
 "nbformat_minor": 5
}
