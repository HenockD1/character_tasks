{
 "cells": [
  {
   "cell_type": "markdown",
   "id": "d43fffff",
   "metadata": {},
   "source": [
    "# Metadata\n",
    "\n",
    "**Occupation Topics** - Data Scientist > Advanced Interview preparation - User asks AI help to take an Interview. AI takes an interview\n",
    "\n",
    "**Target Number of Turns (User + Assistant)** - 2-6\n",
    "\n",
    "**Use Case** - Preparing for a data modeling interview question that involves creating a predictive model for customer churn.\n",
    "\n",
    "**Technical Topic** - Machine Learning with scikit-learn\n",
    "\n",
    "**User Personality** - Curious, practical, and collaborative\n"
   ]
  },
  {
   "cell_type": "markdown",
   "id": "835e75ea",
   "metadata": {},
   "source": [
    "# Conversation"
   ]
  },
  {
   "cell_type": "markdown",
   "id": "dd9b5692",
   "metadata": {},
   "source": [
    "**User**\n"
   ]
  }
 ],
 "metadata": {},
 "nbformat": 4,
 "nbformat_minor": 5
}
