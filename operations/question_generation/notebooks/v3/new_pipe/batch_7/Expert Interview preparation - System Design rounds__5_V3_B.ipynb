{
 "cells": [
  {
   "cell_type": "markdown",
   "id": "079d82a3",
   "metadata": {},
   "source": [
    "# Metadata\n",
    "\n",
    "**Occupation Topics** - Natural Language Processing Engineer > Expert Interview preparation - System Design rounds\n",
    "\n",
    "**Target Number of Turns (User + Assistant)** - 1-5\n",
    "\n",
    "**Use Case** - Creating a recommendation system for academic papers based on abstract summarization\n",
    "\n",
    "**Technical Topic** - Leveraging Gensim's topic modeling features for summarizing text data\n",
    "\n",
    "**User Personality** - Open-Minded, Elaborate, and Collaborative\n"
   ]
  },
  {
   "cell_type": "markdown",
   "id": "1ff36951",
   "metadata": {},
   "source": [
    "# Conversation"
   ]
  },
  {
   "cell_type": "markdown",
   "id": "1c53b384",
   "metadata": {},
   "source": [
    "**User**\n"
   ]
  }
 ],
 "metadata": {},
 "nbformat": 4,
 "nbformat_minor": 5
}
