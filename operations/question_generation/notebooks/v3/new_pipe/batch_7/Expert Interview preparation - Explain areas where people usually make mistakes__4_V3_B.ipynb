{
 "cells": [
  {
   "cell_type": "markdown",
   "id": "e4055077",
   "metadata": {},
   "source": [
    "# Metadata\n",
    "\n",
    "**Occupation Topics** - Artificial Intelligence Engineer > Expert Interview preparation - Explain areas where people usually make mistakes\n",
    "\n",
    "**Target Number of Turns (User + Assistant)** - 3-7\n",
    "\n",
    "**Use Case** - Explaining the importance of data preprocessing in AI to interviewers\n",
    "\n",
    "**Technical Topic** - Data manipulation with pandas in Python\n",
    "\n",
    "**User Personality** - Engaged, Open-Minded, and Elaborate\n"
   ]
  },
  {
   "cell_type": "markdown",
   "id": "05220cff",
   "metadata": {},
   "source": [
    "# Conversation"
   ]
  },
  {
   "cell_type": "markdown",
   "id": "7a57e25e",
   "metadata": {},
   "source": [
    "**User**\n"
   ]
  }
 ],
 "metadata": {},
 "nbformat": 4,
 "nbformat_minor": 5
}
