{
 "cells": [
  {
   "cell_type": "markdown",
   "id": "4ab77526",
   "metadata": {},
   "source": [
    "# Metadata\n",
    "\n",
    "**Occupation Topics** - Data Scientist > Advanced Interview preparation - Explain areas where people usually make mistakes\n",
    "\n",
    "**Target Number of Turns (User + Assistant)** - 1-4\n",
    "\n",
    "**Use Case** - Discussing the importance of data preprocessing in interviews\n",
    "\n",
    "**Technical Topic** - Implementing data normalization and transformation in Pandas\n",
    "\n",
    "**User Personality** - Curious, Open-Minded, and Elaborate\n"
   ]
  },
  {
   "cell_type": "markdown",
   "id": "54c0984d",
   "metadata": {},
   "source": [
    "# Conversation"
   ]
  },
  {
   "cell_type": "markdown",
   "id": "cc383fc0",
   "metadata": {},
   "source": [
    "**User**\n"
   ]
  }
 ],
 "metadata": {},
 "nbformat": 4,
 "nbformat_minor": 5
}
