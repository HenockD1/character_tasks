{
 "cells": [
  {
   "cell_type": "markdown",
   "id": "b976fc3b",
   "metadata": {},
   "source": [
    "# Metadata\n",
    "\n",
    "**Occupation Topics** - Educational Technologist > First Timer Learning - Learn to program\n",
    "\n",
    "**Target Number of Turns (User + Assistant)** - 3-7\n",
    "\n",
    "**Use Case** - Designing a tool to help students visualize Python code execution\n",
    "\n",
    "**Technical Topic** - Integrating Python with online code visualization APIs\n",
    "\n",
    "**User Personality** - Analytical, confident, and concise\n"
   ]
  },
  {
   "cell_type": "markdown",
   "id": "59e8caf9",
   "metadata": {},
   "source": [
    "# Conversation"
   ]
  },
  {
   "cell_type": "markdown",
   "id": "5084b8f8",
   "metadata": {},
   "source": [
    "**User**\n"
   ]
  }
 ],
 "metadata": {},
 "nbformat": 4,
 "nbformat_minor": 5
}
