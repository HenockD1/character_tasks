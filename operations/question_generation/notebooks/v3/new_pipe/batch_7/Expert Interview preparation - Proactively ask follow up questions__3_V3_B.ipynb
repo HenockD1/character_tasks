{
 "cells": [
  {
   "cell_type": "markdown",
   "id": "372eda5c",
   "metadata": {},
   "source": [
    "# Metadata\n",
    "\n",
    "**Occupation Topics** - Full-Stack Developer > Expert Interview preparation - Proactively ask follow up questions\n",
    "\n",
    "**Target Number of Turns (User + Assistant)** - 1-4\n",
    "\n",
    "**Use Case** - Building a mock interview platform\n",
    "\n",
    "**Technical Topic** - Full-stack development with Django and React\n",
    "\n",
    "**User Personality** - Curious, Practical, and Collaborative\n"
   ]
  },
  {
   "cell_type": "markdown",
   "id": "64bb8ff7",
   "metadata": {},
   "source": [
    "# Conversation"
   ]
  },
  {
   "cell_type": "markdown",
   "id": "f79f753d",
   "metadata": {},
   "source": [
    "**User**\n"
   ]
  }
 ],
 "metadata": {},
 "nbformat": 4,
 "nbformat_minor": 5
}
