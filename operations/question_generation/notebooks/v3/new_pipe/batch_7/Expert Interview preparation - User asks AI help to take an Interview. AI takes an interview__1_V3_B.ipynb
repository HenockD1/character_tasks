{
 "cells": [
  {
   "cell_type": "markdown",
   "id": "0af2b51e",
   "metadata": {},
   "source": [
    "# Metadata\n",
    "\n",
    "**Occupation Topics** - Front-End Developer > Expert Interview preparation - User asks AI help to take an Interview. AI takes an interview\n",
    "\n",
    "**Target Number of Turns (User + Assistant)** - 1-5\n",
    "\n",
    "**Use Case** - Simulating a technical interview scenario where the candidate must refactor a piece of JavaScript code for better performance.\n",
    "\n",
    "**Technical Topic** - JavaScript performance optimization\n",
    "\n",
    "**User Personality** - Analytical, focused, and confident\n"
   ]
  },
  {
   "cell_type": "markdown",
   "id": "6bcb9835",
   "metadata": {},
   "source": [
    "# Conversation"
   ]
  },
  {
   "cell_type": "markdown",
   "id": "78a1164a",
   "metadata": {},
   "source": [
    "**User**\n"
   ]
  }
 ],
 "metadata": {},
 "nbformat": 4,
 "nbformat_minor": 5
}
