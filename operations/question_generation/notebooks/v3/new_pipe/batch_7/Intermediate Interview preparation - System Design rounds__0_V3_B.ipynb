{
 "cells": [
  {
   "cell_type": "markdown",
   "id": "7eaad710",
   "metadata": {},
   "source": [
    "# Metadata\n",
    "\n",
    "**Occupation Topics** - Data Analyst > Intermediate Interview preparation - System Design rounds\n",
    "\n",
    "**Target Number of Turns (User + Assistant)** - 3-7\n",
    "\n",
    "**Use Case** - Automating data cleaning processes for incoming datasets\n",
    "\n",
    "**Technical Topic** - Utilizing Pandas and NumPy libraries for efficient data manipulation\n",
    "\n",
    "**User Personality** - Open-Minded, Engaged, and Collaborative\n"
   ]
  },
  {
   "cell_type": "markdown",
   "id": "43151115",
   "metadata": {},
   "source": [
    "# Conversation"
   ]
  },
  {
   "cell_type": "markdown",
   "id": "8a8e8462",
   "metadata": {},
   "source": [
    "**User**\n"
   ]
  }
 ],
 "metadata": {},
 "nbformat": 4,
 "nbformat_minor": 5
}
