{
 "cells": [
  {
   "cell_type": "markdown",
   "id": "7289d385",
   "metadata": {},
   "source": [
    "# Metadata\n",
    "\n",
    "**Occupation Topics** - Backend Developer > First Timer Interview preparation - Proactively ask follow up questions\n",
    "\n",
    "**Target Number of Turns (User + Assistant)** - 1-5\n",
    "\n",
    "**Use Case** - Creating a REST API endpoint for a simple to-do application\n",
    "\n",
    "**Technical Topic** - Flask RESTful API development\n",
    "\n",
    "**User Personality** - Curious, engaged, and practical with a tendency to ask clarifying questions to ensure a thorough understanding.\n"
   ]
  },
  {
   "cell_type": "markdown",
   "id": "54454c15",
   "metadata": {},
   "source": [
    "# Conversation"
   ]
  },
  {
   "cell_type": "markdown",
   "id": "1295730a",
   "metadata": {},
   "source": [
    "**User**\n"
   ]
  }
 ],
 "metadata": {},
 "nbformat": 4,
 "nbformat_minor": 5
}
