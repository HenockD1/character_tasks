{
 "cells": [
  {
   "cell_type": "markdown",
   "id": "180cf0a4",
   "metadata": {},
   "source": [
    "# Metadata\n",
    "\n",
    "**Occupation Topics** - Smart City Planner > Expert Interview preparation - Explain areas where people usually make mistakes\n",
    "\n",
    "**Target Number of Turns (User + Assistant)** - 3-7\n",
    "\n",
    "**Use Case** - Optimizing traffic flow using real-time data\n",
    "\n",
    "**Technical Topic** - Implementing a Dijkstra's algorithm for route optimization in Python\n",
    "\n",
    "**User Personality** - Analytical, patient, and collaborative\n"
   ]
  },
  {
   "cell_type": "markdown",
   "id": "f0e1eec6",
   "metadata": {},
   "source": [
    "# Conversation"
   ]
  },
  {
   "cell_type": "markdown",
   "id": "eff10d8f",
   "metadata": {},
   "source": [
    "**User**\n"
   ]
  }
 ],
 "metadata": {},
 "nbformat": 4,
 "nbformat_minor": 5
}
