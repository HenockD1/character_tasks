{
 "cells": [
  {
   "cell_type": "markdown",
   "id": "d8e6b999",
   "metadata": {},
   "source": [
    "# Metadata\n",
    "\n",
    "**Occupation Topics** - Data Journalist > First Timer Learning - Learn to program\n",
    "\n",
    "**Target Number of Turns (User + Assistant)** - 1-4\n",
    "\n",
    "**Use Case** - Scraping data from a government website for a story on local election spending\n",
    "\n",
    "**Technical Topic** - Web scraping with Beautiful Soup\n",
    "\n",
    "**User Personality** - Curious, engaged, and somewhat hesitant as they are new to programming\n"
   ]
  },
  {
   "cell_type": "markdown",
   "id": "66546bf5",
   "metadata": {},
   "source": [
    "# Conversation"
   ]
  },
  {
   "cell_type": "markdown",
   "id": "0cb3dbe9",
   "metadata": {},
   "source": [
    "**User**\n"
   ]
  }
 ],
 "metadata": {},
 "nbformat": 4,
 "nbformat_minor": 5
}
