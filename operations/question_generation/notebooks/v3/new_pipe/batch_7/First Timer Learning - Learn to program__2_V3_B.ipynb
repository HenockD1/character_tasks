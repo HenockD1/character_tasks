{
 "cells": [
  {
   "cell_type": "markdown",
   "id": "2a6e187a",
   "metadata": {},
   "source": [
    "# Metadata\n",
    "\n",
    "**Occupation Topics** - Natural Language Processing Engineer > First Timer Learning - Learn to program\n",
    "\n",
    "**Target Number of Turns (User + Assistant)** - 4-8\n",
    "\n",
    "**Use Case** - Building a simple chatbot that can answer FAQs\n",
    "\n",
    "**Technical Topic** - Implementing tokenization using NLTK in Python\n",
    "\n",
    "**User Personality** - Curious, engaged, and slightly hesitant as they are new to programming and eager to learn how to process language data.\n"
   ]
  },
  {
   "cell_type": "markdown",
   "id": "59811156",
   "metadata": {},
   "source": [
    "# Conversation"
   ]
  },
  {
   "cell_type": "markdown",
   "id": "e93c4fd5",
   "metadata": {},
   "source": [
    "**User**\n"
   ]
  }
 ],
 "metadata": {},
 "nbformat": 4,
 "nbformat_minor": 5
}
