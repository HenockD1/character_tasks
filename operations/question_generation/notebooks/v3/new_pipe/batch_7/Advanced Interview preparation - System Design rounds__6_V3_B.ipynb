{
 "cells": [
  {
   "cell_type": "markdown",
   "id": "5a5fa803",
   "metadata": {},
   "source": [
    "# Metadata\n",
    "\n",
    "**Occupation Topics** - Supply Chain Manager > Advanced Interview preparation - System Design rounds\n",
    "\n",
    "**Target Number of Turns (User + Assistant)** - 1-4\n",
    "\n",
    "**Use Case** - Automating supplier selection based on multiple criteria\n",
    "\n",
    "**Technical Topic** - Multi-criteria decision-making using Python's SciPy library\n",
    "\n",
    "**User Personality** - Confident, Concise, and Independent\n"
   ]
  },
  {
   "cell_type": "markdown",
   "id": "45dd7c37",
   "metadata": {},
   "source": [
    "# Conversation"
   ]
  },
  {
   "cell_type": "markdown",
   "id": "e8b9a60a",
   "metadata": {},
   "source": [
    "**User**\n"
   ]
  }
 ],
 "metadata": {},
 "nbformat": 4,
 "nbformat_minor": 5
}
