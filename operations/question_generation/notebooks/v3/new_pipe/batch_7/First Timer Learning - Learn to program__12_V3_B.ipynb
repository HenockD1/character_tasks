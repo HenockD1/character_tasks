{
 "cells": [
  {
   "cell_type": "markdown",
   "id": "0af3d2cc",
   "metadata": {},
   "source": [
    "# Metadata\n",
    "\n",
    "**Occupation Topics** - Data Analyst > First Timer Learning - Learn to program\n",
    "\n",
    "**Target Number of Turns (User + Assistant)** - 1-5\n",
    "\n",
    "**Use Case** - Analyzing sales data to identify trends over time\n",
    "\n",
    "**Technical Topic** - Introduction to Pandas for data manipulation\n",
    "\n",
    "**User Personality** - Curious, engaged, and slightly hesitant as they are new to programming\n"
   ]
  },
  {
   "cell_type": "markdown",
   "id": "6f619d5d",
   "metadata": {},
   "source": [
    "# Conversation"
   ]
  },
  {
   "cell_type": "markdown",
   "id": "a88f190a",
   "metadata": {},
   "source": [
    "**User**\n"
   ]
  }
 ],
 "metadata": {},
 "nbformat": 4,
 "nbformat_minor": 5
}
