{
 "cells": [
  {
   "cell_type": "markdown",
   "id": "fbbdeb6e",
   "metadata": {},
   "source": [
    "# Metadata\n",
    "\n",
    "**Occupation Topics** - Data Analyst > Intermediate Interview preparation - Proactively ask follow up questions\n",
    "\n",
    "**Target Number of Turns (User + Assistant)** - 1-5\n",
    "\n",
    "**Use Case** - Optimizing SQL queries for data analysis tasks\n",
    "\n",
    "**Technical Topic** - SQL performance tuning\n",
    "\n",
    "**User Personality** - Analytical, patient, and collaborative. Prefers to understand the underlying mechanisms of query optimization and enjoys working with others to solve complex problems.\n"
   ]
  },
  {
   "cell_type": "markdown",
   "id": "2ad60ddf",
   "metadata": {},
   "source": [
    "# Conversation"
   ]
  },
  {
   "cell_type": "markdown",
   "id": "e6326c83",
   "metadata": {},
   "source": [
    "**User**\n"
   ]
  }
 ],
 "metadata": {},
 "nbformat": 4,
 "nbformat_minor": 5
}
