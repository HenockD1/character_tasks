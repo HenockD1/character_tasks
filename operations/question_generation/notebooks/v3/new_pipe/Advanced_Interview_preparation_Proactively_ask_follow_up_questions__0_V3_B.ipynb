{
 "cells": [
  {
   "cell_type": "markdown",
   "id": "19f9379b",
   "metadata": {},
   "source": [
    "# Metadata\n",
    "\n",
    "**Occupation Topics** - Data Journalist > Advanced Interview preparation - Proactively ask follow up questions\n",
    "\n",
    "**Target Number of Turns (User + Assistant)** - 2-6\n",
    "\n",
    "**Use Case** - Developing an interactive data visualization to showcase research findings during an interview\n",
    "\n",
    "**Technical Topic** - Creating interactive plots with Plotly in Python\n",
    "\n",
    "**User Personality** - Open-minded, elaborate, and collaborative\n"
   ]
  },
  {
   "cell_type": "markdown",
   "id": "eab45591",
   "metadata": {},
   "source": [
    "# Conversation"
   ]
  },
  {
   "cell_type": "markdown",
   "id": "bc17ee65",
   "metadata": {},
   "source": [
    "**User**\n"
   ]
  }
 ],
 "metadata": {},
 "nbformat": 4,
 "nbformat_minor": 5
}
