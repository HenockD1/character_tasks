{
 "cells": [
  {
   "cell_type": "markdown",
   "id": "407b9e1b",
   "metadata": {},
   "source": [
    "# Metadata\n",
    "\n",
    "\n",
    "\n",
    "\n",
    "\n",
    "\n",
    "**User Occupation** - Data Journalist\n",
    "\n",
    "**User Experience Level** - Expert\n",
    "\n",
    "**User Use Case** - Interview preparation - Debug and fix code - Optimizing SQL queries for data-driven journalism pieces\n",
    "\n",
    "**Technical Topic Suggestion** - Advanced SQL techniques in Python using pandasql\n",
    "\n",
    "**User Personality** - Analytical, Focused, and Confident\n",
    "\n",
    "**Target Number of Turns (User + Assistant)** - 1-5"
   ]
  },
  {
   "cell_type": "markdown",
   "id": "029f3c0d",
   "metadata": {},
   "source": [
    "# Conversation"
   ]
  },
  {
   "cell_type": "markdown",
   "id": "66209601",
   "metadata": {},
   "source": [
    "**User**"
   ]
  }
 ],
 "metadata": {},
 "nbformat": 4,
 "nbformat_minor": 5
}
