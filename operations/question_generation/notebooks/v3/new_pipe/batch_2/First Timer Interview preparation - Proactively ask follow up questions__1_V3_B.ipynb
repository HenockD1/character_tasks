{
 "cells": [
  {
   "cell_type": "markdown",
   "id": "95d92570",
   "metadata": {},
   "source": [
    "# Metadata\n",
    "\n",
    "\n",
    "\n",
    "\n",
    "\n",
    "\n",
    "**User Occupation** - Mobile App Developer\n",
    "\n",
    "**User Experience Level** - First Timer\n",
    "\n",
    "**User Use Case** - Interview preparation - Proactively ask follow up questions - Integrating an API to provide real-time feedback on interview questions within an app\n",
    "\n",
    "**Technical Topic Suggestion** - Using Retrofit for network operations in Android\n",
    "\n",
    "**User Personality** - Open-minded, patient, and collaborative, looking for ways to improve their app by integrating external resources\n",
    "\n",
    "**Target Number of Turns (User + Assistant)** - 1-5"
   ]
  },
  {
   "cell_type": "markdown",
   "id": "070ea93d",
   "metadata": {},
   "source": [
    "# Conversation"
   ]
  },
  {
   "cell_type": "markdown",
   "id": "27897f50",
   "metadata": {},
   "source": [
    "**User**"
   ]
  }
 ],
 "metadata": {},
 "nbformat": 4,
 "nbformat_minor": 5
}
