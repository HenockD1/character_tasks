{
 "cells": [
  {
   "cell_type": "markdown",
   "id": "1205948b",
   "metadata": {},
   "source": [
    "# Metadata\n",
    "\n",
    "\n",
    "\n",
    "\n",
    "\n",
    "\n",
    "**User Occupation** - Cybersecurity Analyst\n",
    "\n",
    "**User Experience Level** - Advanced\n",
    "\n",
    "**User Use Case** - Interview preparation - User asks AI help to take an Interview. AI takes an interview - Testing the candidate's ability to identify and mitigate common security vulnerabilities in code.\n",
    "\n",
    "**Technical Topic Suggestion** - Writing Python code to prevent SQL injection in a database interaction scenario.\n",
    "\n",
    "**User Personality** - Practical, engaged, and concise\n",
    "\n",
    "**Target Number of Turns (User + Assistant)** - 1-5"
   ]
  },
  {
   "cell_type": "markdown",
   "id": "ad1f325f",
   "metadata": {},
   "source": [
    "# Conversation"
   ]
  },
  {
   "cell_type": "markdown",
   "id": "8aac2ed1",
   "metadata": {},
   "source": [
    "**User**"
   ]
  }
 ],
 "metadata": {},
 "nbformat": 4,
 "nbformat_minor": 5
}
