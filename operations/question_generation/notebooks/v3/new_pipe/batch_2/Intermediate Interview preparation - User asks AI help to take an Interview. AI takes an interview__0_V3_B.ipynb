{
 "cells": [
  {
   "cell_type": "markdown",
   "id": "123f863b",
   "metadata": {},
   "source": [
    "# Metadata\n",
    "\n",
    "\n",
    "\n",
    "\n",
    "\n",
    "\n",
    "**User Occupation** - Educational Technologist\n",
    "\n",
    "**User Experience Level** - Intermediate\n",
    "\n",
    "**User Use Case** - Interview preparation - User asks AI help to take an Interview. AI takes an interview - Developing an interview question generator\n",
    "\n",
    "**Technical Topic Suggestion** - Randomized content selection in Python\n",
    "\n",
    "**User Personality** - Analytical, Patient, and Collaborative\n",
    "\n",
    "**Target Number of Turns (User + Assistant)** - 1-4"
   ]
  },
  {
   "cell_type": "markdown",
   "id": "ff7858f0",
   "metadata": {},
   "source": [
    "# Conversation"
   ]
  },
  {
   "cell_type": "markdown",
   "id": "d2cf1125",
   "metadata": {},
   "source": [
    "**User**"
   ]
  }
 ],
 "metadata": {},
 "nbformat": 4,
 "nbformat_minor": 5
}
