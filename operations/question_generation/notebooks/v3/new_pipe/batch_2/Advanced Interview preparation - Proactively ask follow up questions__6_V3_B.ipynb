{
 "cells": [
  {
   "cell_type": "markdown",
   "id": "515cd838",
   "metadata": {},
   "source": [
    "# Metadata\n",
    "\n",
    "\n",
    "\n",
    "\n",
    "\n",
    "\n",
    "**User Occupation** - Data Journalist\n",
    "\n",
    "**User Experience Level** - Advanced\n",
    "\n",
    "**User Use Case** - Interview preparation - Proactively ask follow up questions - Implementing a sentiment analysis tool to gauge public opinion on a topic before an interview\n",
    "\n",
    "**Technical Topic Suggestion** - Sentiment analysis using NLTK and TextBlob in Python\n",
    "\n",
    "**User Personality** - Analytical, focused, and practical\n",
    "\n",
    "**Target Number of Turns (User + Assistant)** - 1-4"
   ]
  },
  {
   "cell_type": "markdown",
   "id": "cc53bd83",
   "metadata": {},
   "source": [
    "# Conversation"
   ]
  },
  {
   "cell_type": "markdown",
   "id": "13a2f513",
   "metadata": {},
   "source": [
    "**User**"
   ]
  }
 ],
 "metadata": {},
 "nbformat": 4,
 "nbformat_minor": 5
}
