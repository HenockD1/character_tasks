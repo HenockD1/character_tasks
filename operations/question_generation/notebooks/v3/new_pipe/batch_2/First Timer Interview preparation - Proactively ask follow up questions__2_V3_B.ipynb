{
 "cells": [
  {
   "cell_type": "markdown",
   "id": "4a5e2fc7",
   "metadata": {},
   "source": [
    "# Metadata\n",
    "\n",
    "\n",
    "\n",
    "\n",
    "\n",
    "\n",
    "**User Occupation** - Python Content Creator (Technical Writing-Tutorials)\n",
    "\n",
    "**User Experience Level** - First Timer\n",
    "\n",
    "**User Use Case** - Interview preparation - Proactively ask follow up questions - Writing an article explaining the differences between Python 2 and Python 3 for newcomers\n",
    "\n",
    "**Technical Topic Suggestion** - Python 2 vs Python 3 comparison\n",
    "\n",
    "**User Personality** - Curious, open-minded, and concise\n",
    "\n",
    "**Target Number of Turns (User + Assistant)** - 3-7"
   ]
  },
  {
   "cell_type": "markdown",
   "id": "d71130c8",
   "metadata": {},
   "source": [
    "# Conversation"
   ]
  },
  {
   "cell_type": "markdown",
   "id": "e17ffb23",
   "metadata": {},
   "source": [
    "**User**"
   ]
  }
 ],
 "metadata": {},
 "nbformat": 4,
 "nbformat_minor": 5
}
