{
 "cells": [
  {
   "cell_type": "markdown",
   "id": "27201ceb",
   "metadata": {},
   "source": [
    "# Metadata\n",
    "\n",
    "\n",
    "\n",
    "\n",
    "\n",
    "\n",
    "**User Occupation** - Natural Language Processing Engineer\n",
    "\n",
    "**User Experience Level** - First Timer\n",
    "\n",
    "**User Use Case** - Basic scripting - Write simple code in Javascript - Automating data extraction from social media posts\n",
    "\n",
    "**Technical Topic Suggestion** - Using the Twitter API with JavaScript to fetch tweets\n",
    "\n",
    "**User Personality** - Curious, engaged, and slightly hesitant as they are new to scripting\n",
    "\n",
    "**Target Number of Turns (User + Assistant)** - 2-6"
   ]
  },
  {
   "cell_type": "markdown",
   "id": "7dad2103",
   "metadata": {},
   "source": [
    "# Conversation"
   ]
  },
  {
   "cell_type": "markdown",
   "id": "3f389abc",
   "metadata": {},
   "source": [
    "**User**"
   ]
  }
 ],
 "metadata": {},
 "nbformat": 4,
 "nbformat_minor": 5
}
