{
 "cells": [
  {
   "cell_type": "markdown",
   "id": "e56ee0d6",
   "metadata": {},
   "source": [
    "# Metadata\n",
    "\n",
    "\n",
    "\n",
    "\n",
    "\n",
    "\n",
    "**User Occupation** - Data Journalist\n",
    "\n",
    "**User Experience Level** - Advanced\n",
    "\n",
    "**User Use Case** - Interview preparation - User asks AI help to take an Interview. AI takes an interview - Simulating a mock interview scenario where the AI generates potential data analysis questions\n",
    "\n",
    "**Technical Topic Suggestion** - Using pandas to manipulate and analyze interview data\n",
    "\n",
    "**User Personality** - Analytical, Confident, and Formal\n",
    "\n",
    "**Target Number of Turns (User + Assistant)** - 1-4"
   ]
  },
  {
   "cell_type": "markdown",
   "id": "5b86cdfa",
   "metadata": {},
   "source": [
    "# Conversation"
   ]
  },
  {
   "cell_type": "markdown",
   "id": "463fc08c",
   "metadata": {},
   "source": [
    "**User**"
   ]
  }
 ],
 "metadata": {},
 "nbformat": 4,
 "nbformat_minor": 5
}
