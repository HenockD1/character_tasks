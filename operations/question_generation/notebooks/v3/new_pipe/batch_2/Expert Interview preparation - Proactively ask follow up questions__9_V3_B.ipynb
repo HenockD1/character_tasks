{
 "cells": [
  {
   "cell_type": "markdown",
   "id": "54dd9647",
   "metadata": {},
   "source": [
    "# Metadata\n",
    "\n",
    "\n",
    "\n",
    "\n",
    "\n",
    "\n",
    "**User Occupation** - Data Journalist\n",
    "\n",
    "**User Experience Level** - Expert\n",
    "\n",
    "**User Use Case** - Interview preparation - Proactively ask follow up questions - Visualizing economic trends for a feature article\n",
    "\n",
    "**Technical Topic Suggestion** - Data visualization with Matplotlib\n",
    "\n",
    "**User Personality** - Confident, Practical, and Elaborate\n",
    "\n",
    "**Target Number of Turns (User + Assistant)** - 3-7"
   ]
  },
  {
   "cell_type": "markdown",
   "id": "df07b5b8",
   "metadata": {},
   "source": [
    "# Conversation"
   ]
  },
  {
   "cell_type": "markdown",
   "id": "7eb47fd8",
   "metadata": {},
   "source": [
    "**User**"
   ]
  }
 ],
 "metadata": {},
 "nbformat": 4,
 "nbformat_minor": 5
}
