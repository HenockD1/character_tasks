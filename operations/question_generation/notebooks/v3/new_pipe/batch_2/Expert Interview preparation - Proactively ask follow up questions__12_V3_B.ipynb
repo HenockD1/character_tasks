{
 "cells": [
  {
   "cell_type": "markdown",
   "id": "c406a1a5",
   "metadata": {},
   "source": [
    "# Metadata\n",
    "\n",
    "\n",
    "\n",
    "\n",
    "\n",
    "\n",
    "**User Occupation** - Data Analytics Consultant\n",
    "\n",
    "**User Experience Level** - Expert\n",
    "\n",
    "**User Use Case** - Interview preparation - Proactively ask follow up questions - Optimizing SQL queries for data analysis during technical interviews\n",
    "\n",
    "**Technical Topic Suggestion** - SQL query performance tuning\n",
    "\n",
    "**User Personality** - Analytical, confident, and practical\n",
    "\n",
    "**Target Number of Turns (User + Assistant)** - 1-4"
   ]
  },
  {
   "cell_type": "markdown",
   "id": "c7adef60",
   "metadata": {},
   "source": [
    "# Conversation"
   ]
  },
  {
   "cell_type": "markdown",
   "id": "2e59de35",
   "metadata": {},
   "source": [
    "**User**"
   ]
  }
 ],
 "metadata": {},
 "nbformat": 4,
 "nbformat_minor": 5
}
