{
 "cells": [
  {
   "cell_type": "markdown",
   "id": "68253e71",
   "metadata": {},
   "source": [
    "# Metadata\n",
    "\n",
    "\n",
    "\n",
    "\n",
    "\n",
    "\n",
    "**User Occupation** - User Experience Researcher\n",
    "\n",
    "**User Experience Level** - First Timer\n",
    "\n",
    "**User Use Case** - Learning - Learn to program - Analyzing user interaction data to improve a website's usability\n",
    "\n",
    "**Technical Topic Suggestion** - Introduction to Python for data analysis using pandas\n",
    "\n",
    "**User Personality** - Curious, engaged, and open-minded\n",
    "\n",
    "**Target Number of Turns (User + Assistant)** - 2-6"
   ]
  },
  {
   "cell_type": "markdown",
   "id": "ab7c7a85",
   "metadata": {},
   "source": [
    "# Conversation"
   ]
  },
  {
   "cell_type": "markdown",
   "id": "84e97bd5",
   "metadata": {},
   "source": [
    "**User**"
   ]
  }
 ],
 "metadata": {},
 "nbformat": 4,
 "nbformat_minor": 5
}
