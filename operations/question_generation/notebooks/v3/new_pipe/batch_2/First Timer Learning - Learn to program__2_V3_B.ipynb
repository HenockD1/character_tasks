{
 "cells": [
  {
   "cell_type": "markdown",
   "id": "21a86eb9",
   "metadata": {},
   "source": [
    "# Metadata\n",
    "\n",
    "\n",
    "\n",
    "\n",
    "\n",
    "\n",
    "**User Occupation** - Business Analyst\n",
    "\n",
    "**User Experience Level** - First Timer\n",
    "\n",
    "**User Use Case** - Learning - Learn to program - Automating data extraction from sales reports\n",
    "\n",
    "**Technical Topic Suggestion** - Introduction to Python Pandas for CSV manipulation\n",
    "\n",
    "**User Personality** - Curious, engaged, and slightly hesitant as they are new to programming\n",
    "\n",
    "**Target Number of Turns (User + Assistant)** - 2-6"
   ]
  },
  {
   "cell_type": "markdown",
   "id": "24161211",
   "metadata": {},
   "source": [
    "# Conversation"
   ]
  },
  {
   "cell_type": "markdown",
   "id": "db733ff5",
   "metadata": {},
   "source": [
    "**User**"
   ]
  }
 ],
 "metadata": {},
 "nbformat": 4,
 "nbformat_minor": 5
}
