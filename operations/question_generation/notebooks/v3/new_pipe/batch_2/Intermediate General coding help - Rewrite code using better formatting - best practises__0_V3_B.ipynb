{
 "cells": [
  {
   "cell_type": "markdown",
   "id": "2f06d372",
   "metadata": {},
   "source": [
    "# Metadata\n",
    "\n",
    "\n",
    "\n",
    "\n",
    "\n",
    "\n",
    "**User Occupation** - Educational Technologist\n",
    "\n",
    "**User Experience Level** - Intermediate\n",
    "\n",
    "**User Use Case** - General coding help - Rewrite code using better formatting - best practises - Implementing unit tests for a legacy codebase\n",
    "\n",
    "**Technical Topic Suggestion** - Python unit testing with pytest\n",
    "\n",
    "**User Personality** - Engaged, open-minded, and elaborate. Invested in learning about testing frameworks and open to different methodologies, likes to discuss and elaborate on technical details.\n",
    "\n",
    "**Target Number of Turns (User + Assistant)** - 1-5"
   ]
  },
  {
   "cell_type": "markdown",
   "id": "1b55b063",
   "metadata": {},
   "source": [
    "# Conversation"
   ]
  },
  {
   "cell_type": "markdown",
   "id": "7d538a96",
   "metadata": {},
   "source": [
    "**User**"
   ]
  }
 ],
 "metadata": {},
 "nbformat": 4,
 "nbformat_minor": 5
}
