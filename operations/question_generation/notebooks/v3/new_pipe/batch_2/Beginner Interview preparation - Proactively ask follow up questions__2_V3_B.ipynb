{
 "cells": [
  {
   "cell_type": "markdown",
   "id": "f457348b",
   "metadata": {},
   "source": [
    "# Metadata\n",
    "\n",
    "\n",
    "\n",
    "\n",
    "\n",
    "\n",
    "**User Occupation** - Full-Stack Developer\n",
    "\n",
    "**User Experience Level** - Beginner\n",
    "\n",
    "**User Use Case** - Interview preparation - Proactively ask follow up questions - Developing a REST API for a to-do application\n",
    "\n",
    "**Technical Topic Suggestion** - Using Flask to handle HTTP requests and responses\n",
    "\n",
    "**User Personality** - Analytical in problem-solving, patient with debugging, and independent when coding\n",
    "\n",
    "**Target Number of Turns (User + Assistant)** - 4-8"
   ]
  },
  {
   "cell_type": "markdown",
   "id": "57f34a55",
   "metadata": {},
   "source": [
    "# Conversation"
   ]
  },
  {
   "cell_type": "markdown",
   "id": "34c2b9e8",
   "metadata": {},
   "source": [
    "**User**"
   ]
  }
 ],
 "metadata": {},
 "nbformat": 4,
 "nbformat_minor": 5
}
