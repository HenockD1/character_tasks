{
 "cells": [
  {
   "cell_type": "markdown",
   "id": "44b694c0",
   "metadata": {},
   "source": [
    "# Metadata\n",
    "\n",
    "\n",
    "\n",
    "\n",
    "\n",
    "\n",
    "**User Occupation** - Educational Technologist\n",
    "\n",
    "**User Experience Level** - Expert\n",
    "\n",
    "**User Use Case** - Interview preparation - Explain areas where people usually make mistakes - Creating a mock interview simulation tool\n",
    "\n",
    "**Technical Topic Suggestion** - Natural Language Processing with Python's NLTK library\n",
    "\n",
    "**User Personality** - Analytical, Curious, and Formal\n",
    "\n",
    "**Target Number of Turns (User + Assistant)** - 1-5"
   ]
  },
  {
   "cell_type": "markdown",
   "id": "f295fec5",
   "metadata": {},
   "source": [
    "# Conversation"
   ]
  },
  {
   "cell_type": "markdown",
   "id": "0fcad083",
   "metadata": {},
   "source": [
    "**User**"
   ]
  }
 ],
 "metadata": {},
 "nbformat": 4,
 "nbformat_minor": 5
}
