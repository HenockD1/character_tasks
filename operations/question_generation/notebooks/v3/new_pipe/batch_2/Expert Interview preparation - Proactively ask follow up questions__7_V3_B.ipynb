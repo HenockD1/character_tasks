{
 "cells": [
  {
   "cell_type": "markdown",
   "id": "cc8c878b",
   "metadata": {},
   "source": [
    "# Metadata\n",
    "\n",
    "\n",
    "\n",
    "\n",
    "\n",
    "\n",
    "**User Occupation** - Data Journalist\n",
    "\n",
    "**User Experience Level** - Expert\n",
    "\n",
    "**User Use Case** - Interview preparation - Proactively ask follow up questions - Predicting election results using past voting data\n",
    "\n",
    "**Technical Topic Suggestion** - Machine learning with scikit-learn\n",
    "\n",
    "**User Personality** - Engaged, Open-Minded, and Patient\n",
    "\n",
    "**Target Number of Turns (User + Assistant)** - 2-6"
   ]
  },
  {
   "cell_type": "markdown",
   "id": "d59f7dc9",
   "metadata": {},
   "source": [
    "# Conversation"
   ]
  },
  {
   "cell_type": "markdown",
   "id": "b1514acf",
   "metadata": {},
   "source": [
    "**User**"
   ]
  }
 ],
 "metadata": {},
 "nbformat": 4,
 "nbformat_minor": 5
}
