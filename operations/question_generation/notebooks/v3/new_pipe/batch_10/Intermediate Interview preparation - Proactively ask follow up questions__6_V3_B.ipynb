{
 "cells": [
  {
   "cell_type": "markdown",
   "id": "a1646036",
   "metadata": {},
   "source": [
    "# Metadata\n",
    "\n",
    "**Occupation Topics** - Data Analytics Consultant > Intermediate Interview preparation - Proactively ask follow up questions\n",
    "\n",
    "**Target Number of Turns (User + Assistant)** - 1-4\n",
    "\n",
    "**Use Case** - Preparing for behavioral interview questions in data analytics\n",
    "\n",
    "**Technical Topic** - Developing a Python program to simulate mock interviews with machine learning using NLP (Natural Language Processing)\n",
    "\n",
    "**User Personality** - Open-minded, engaged, and formal. Willing to explore new methods of interview preparation and is serious about practicing in a structured environment.\n"
   ]
  },
  {
   "cell_type": "markdown",
   "id": "b46ad959",
   "metadata": {},
   "source": [
    "# Conversation"
   ]
  },
  {
   "cell_type": "markdown",
   "id": "7812d30b",
   "metadata": {},
   "source": [
    "**User**\n"
   ]
  }
 ],
 "metadata": {},
 "nbformat": 4,
 "nbformat_minor": 5
}
