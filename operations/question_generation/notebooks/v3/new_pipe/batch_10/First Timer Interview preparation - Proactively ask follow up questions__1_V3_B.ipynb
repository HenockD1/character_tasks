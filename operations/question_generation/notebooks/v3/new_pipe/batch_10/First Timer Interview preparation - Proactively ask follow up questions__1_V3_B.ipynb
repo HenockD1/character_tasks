{
 "cells": [
  {
   "cell_type": "markdown",
   "id": "bc84d1f9",
   "metadata": {},
   "source": [
    "# Metadata\n",
    "\n",
    "**Occupation Topics** - Python Developer > First Timer Interview preparation - Proactively ask follow up questions\n",
    "\n",
    "**Target Number of Turns (User + Assistant)** - 1-4\n",
    "\n",
    "**Use Case** - Preparing for a coding interview that involves live coding challenges\n",
    "\n",
    "**Technical Topic** - Implementing a basic Python function to reverse a string\n",
    "\n",
    "**User Personality** - Curious, engaged, and slightly hesitant as they are new to the field and eager to learn but unsure about the nuances of technical interviews\n"
   ]
  },
  {
   "cell_type": "markdown",
   "id": "f3f20427",
   "metadata": {},
   "source": [
    "# Conversation"
   ]
  },
  {
   "cell_type": "markdown",
   "id": "7aaaa820",
   "metadata": {},
   "source": [
    "**User**\n"
   ]
  }
 ],
 "metadata": {},
 "nbformat": 4,
 "nbformat_minor": 5
}
