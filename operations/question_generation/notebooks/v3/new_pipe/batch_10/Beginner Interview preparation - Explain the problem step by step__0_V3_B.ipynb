{
 "cells": [
  {
   "cell_type": "markdown",
   "id": "54b8ee51",
   "metadata": {},
   "source": [
    "# Metadata\n",
    "\n",
    "**Occupation Topics** - Python Developer > Beginner Interview preparation - Explain the problem step by step\n",
    "\n",
    "**Target Number of Turns (User + Assistant)** - 1-5\n",
    "\n",
    "**Use Case** - Preparing for a coding interview that involves whiteboard problems\n",
    "\n",
    "**Technical Topic** - Basic control structures in Python (if-else, for loops)\n",
    "\n",
    "**User Personality** - Curious, engaged, and slightly hesitant as they are new to interviews\n"
   ]
  },
  {
   "cell_type": "markdown",
   "id": "68fcf61a",
   "metadata": {},
   "source": [
    "# Conversation"
   ]
  },
  {
   "cell_type": "markdown",
   "id": "d0558dbb",
   "metadata": {},
   "source": [
    "**User**\n"
   ]
  }
 ],
 "metadata": {},
 "nbformat": 4,
 "nbformat_minor": 5
}
