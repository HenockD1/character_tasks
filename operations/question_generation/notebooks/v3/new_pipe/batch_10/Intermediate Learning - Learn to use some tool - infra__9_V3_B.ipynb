{
 "cells": [
  {
   "cell_type": "markdown",
   "id": "8f5f6005",
   "metadata": {},
   "source": [
    "# Metadata\n",
    "\n",
    "**Occupation Topics** - Business Analyst > Intermediate Learning - Learn to use some tool - infra\n",
    "\n",
    "**Target Number of Turns (User + Assistant)** - 3-7\n",
    "\n",
    "**Use Case** - Predicting customer churn using historical data\n",
    "\n",
    "**Technical Topic** - Machine learning with scikit-learn\n",
    "\n",
    "**User Personality** - Practical, Focused, and Independent\n"
   ]
  },
  {
   "cell_type": "markdown",
   "id": "4e0677a1",
   "metadata": {},
   "source": [
    "# Conversation"
   ]
  },
  {
   "cell_type": "markdown",
   "id": "3473dfbf",
   "metadata": {},
   "source": [
    "**User**\n"
   ]
  }
 ],
 "metadata": {},
 "nbformat": 4,
 "nbformat_minor": 5
}
