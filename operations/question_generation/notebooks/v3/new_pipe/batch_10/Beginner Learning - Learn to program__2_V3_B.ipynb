{
 "cells": [
  {
   "cell_type": "markdown",
   "id": "db763a73",
   "metadata": {},
   "source": [
    "# Metadata\n",
    "\n",
    "**Occupation Topics** - Natural Language Processing Engineer > Beginner Learning - Learn to program\n",
    "\n",
    "**Target Number of Turns (User + Assistant)** - 1-4\n",
    "\n",
    "**Use Case** - Developing a chatbot for an online retail store\n",
    "\n",
    "**Technical Topic** - Creating simple conversational flows using Python's ChatterBot library\n",
    "\n",
    "**User Personality** - Analytical, patient, and independent, preferring to delve into the details and work through problems at their own pace.\n"
   ]
  },
  {
   "cell_type": "markdown",
   "id": "1f1f1272",
   "metadata": {},
   "source": [
    "# Conversation"
   ]
  },
  {
   "cell_type": "markdown",
   "id": "f1965ae9",
   "metadata": {},
   "source": [
    "**User**\n"
   ]
  }
 ],
 "metadata": {},
 "nbformat": 4,
 "nbformat_minor": 5
}
