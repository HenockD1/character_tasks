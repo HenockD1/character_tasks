{
 "cells": [
  {
   "cell_type": "markdown",
   "id": "dc7e6c33",
   "metadata": {},
   "source": [
    "# Metadata\n",
    "\n",
    "**Occupation Topics** - Bioinformatics Specialist > Intermediate General coding help - Explain complex code snippets\n",
    "\n",
    "**Target Number of Turns (User + Assistant)** - 2-6\n",
    "\n",
    "**Use Case** - Visualizing gene expression patterns across different conditions\n",
    "\n",
    "**Technical Topic** - Creating interactive plots with Plotly in Python\n",
    "\n",
    "**User Personality** - Engaged, confident, and elaborate. Enjoys diving deep into data visualization challenges and communicates their findings in detail.\n"
   ]
  },
  {
   "cell_type": "markdown",
   "id": "da0c145e",
   "metadata": {},
   "source": [
    "# Conversation"
   ]
  },
  {
   "cell_type": "markdown",
   "id": "70f3e5be",
   "metadata": {},
   "source": [
    "**User**\n"
   ]
  }
 ],
 "metadata": {},
 "nbformat": 4,
 "nbformat_minor": 5
}
