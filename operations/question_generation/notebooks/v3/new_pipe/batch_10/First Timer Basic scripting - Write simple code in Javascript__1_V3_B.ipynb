{
 "cells": [
  {
   "cell_type": "markdown",
   "id": "4827f4e3",
   "metadata": {},
   "source": [
    "# Metadata\n",
    "\n",
    "**Occupation Topics** - Data Visualization Developer > First Timer Basic scripting - Write simple code in Javascript\n",
    "\n",
    "**Target Number of Turns (User + Assistant)** - 1-4\n",
    "\n",
    "**Use Case** - Designing a custom data-driven infographic for a blog post\n",
    "\n",
    "**Technical Topic** - Leveraging SVG with JavaScript to create scalable graphics\n",
    "\n",
    "**User Personality** - Open-minded to design aesthetics, elaborate in code commenting, and intuitive in user experience design\n"
   ]
  },
  {
   "cell_type": "markdown",
   "id": "92796ffe",
   "metadata": {},
   "source": [
    "# Conversation"
   ]
  },
  {
   "cell_type": "markdown",
   "id": "7abae6f6",
   "metadata": {},
   "source": [
    "**User**\n"
   ]
  }
 ],
 "metadata": {},
 "nbformat": 4,
 "nbformat_minor": 5
}
