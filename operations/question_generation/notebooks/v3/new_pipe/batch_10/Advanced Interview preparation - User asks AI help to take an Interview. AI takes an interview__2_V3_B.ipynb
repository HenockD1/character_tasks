{
 "cells": [
  {
   "cell_type": "markdown",
   "id": "b371940a",
   "metadata": {},
   "source": [
    "# Metadata\n",
    "\n",
    "**Occupation Topics** - User Experience Researcher > Advanced Interview preparation - User asks AI help to take an Interview. AI takes an interview\n",
    "\n",
    "**Target Number of Turns (User + Assistant)** - 1-4\n",
    "\n",
    "**Use Case** - Creating a mock interview scenario to test a candidate's understanding of user experience principles\n",
    "\n",
    "**Technical Topic** - Natural Language Processing with Python\n",
    "\n",
    "**User Personality** - Analytical, Curious, and Formal\n"
   ]
  },
  {
   "cell_type": "markdown",
   "id": "7161f501",
   "metadata": {},
   "source": [
    "# Conversation"
   ]
  },
  {
   "cell_type": "markdown",
   "id": "8b04370f",
   "metadata": {},
   "source": [
    "**User**\n"
   ]
  }
 ],
 "metadata": {},
 "nbformat": 4,
 "nbformat_minor": 5
}
