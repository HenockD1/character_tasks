{
 "cells": [
  {
   "cell_type": "markdown",
   "id": "2ca2549b",
   "metadata": {},
   "source": [
    "# Metadata\n",
    "\n",
    "**Occupation Topics** - Business Analyst > First Timer Learning - Learn to program\n",
    "\n",
    "**Target Number of Turns (User + Assistant)** - 2-6\n",
    "\n",
    "**Use Case** - Predicting sales trends from historical data\n",
    "\n",
    "**Technical Topic** - Understanding linear regression with scikit-learn\n",
    "\n",
    "**User Personality** - Focused, confident, and practical, looking for direct application of concepts\n"
   ]
  },
  {
   "cell_type": "markdown",
   "id": "6cb4dee4",
   "metadata": {},
   "source": [
    "# Conversation"
   ]
  },
  {
   "cell_type": "markdown",
   "id": "212a86de",
   "metadata": {},
   "source": [
    "**User**\n"
   ]
  }
 ],
 "metadata": {},
 "nbformat": 4,
 "nbformat_minor": 5
}
