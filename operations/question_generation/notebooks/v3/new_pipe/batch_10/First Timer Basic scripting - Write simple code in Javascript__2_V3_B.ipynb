{
 "cells": [
  {
   "cell_type": "markdown",
   "id": "e62bdb71",
   "metadata": {},
   "source": [
    "# Metadata\n",
    "\n",
    "**Occupation Topics** - Healthcare Administrator > First Timer Basic scripting - Write simple code in Javascript\n",
    "\n",
    "**Target Number of Turns (User + Assistant)** - 1-5\n",
    "\n",
    "**Use Case** - Streamlining data entry for new patient forms\n",
    "\n",
    "**Technical Topic** - Basic form handling in JavaScript\n",
    "\n",
    "**User Personality** - Engaged, Open-Minded, and Collaborative\n"
   ]
  },
  {
   "cell_type": "markdown",
   "id": "279e7482",
   "metadata": {},
   "source": [
    "# Conversation"
   ]
  },
  {
   "cell_type": "markdown",
   "id": "ea3cf875",
   "metadata": {},
   "source": [
    "**User**\n"
   ]
  }
 ],
 "metadata": {},
 "nbformat": 4,
 "nbformat_minor": 5
}
