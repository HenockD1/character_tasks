{
 "cells": [
  {
   "cell_type": "markdown",
   "id": "3064191c",
   "metadata": {},
   "source": [
    "# Metadata\n",
    "\n",
    "**Occupation Topics** - Product Manager > Intermediate Interview preparation - System Design rounds\n",
    "\n",
    "**Target Number of Turns (User + Assistant)** - 1-5\n",
    "\n",
    "**Use Case** - Creating a roadmap for migrating a monolithic system to cloud services\n",
    "\n",
    "**Technical Topic** - Cloud computing and service orchestration\n",
    "\n",
    "**User Personality** - Engaged, collaborative, and elaborate\n"
   ]
  },
  {
   "cell_type": "markdown",
   "id": "515f0732",
   "metadata": {},
   "source": [
    "# Conversation"
   ]
  },
  {
   "cell_type": "markdown",
   "id": "d68620b9",
   "metadata": {},
   "source": [
    "**User**\n"
   ]
  }
 ],
 "metadata": {},
 "nbformat": 4,
 "nbformat_minor": 5
}
