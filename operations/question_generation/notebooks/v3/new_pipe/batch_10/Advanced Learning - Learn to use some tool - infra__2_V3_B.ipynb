{
 "cells": [
  {
   "cell_type": "markdown",
   "id": "b54b97a9",
   "metadata": {},
   "source": [
    "# Metadata\n",
    "\n",
    "**Occupation Topics** - Healthcare Administrator > Advanced Learning - Learn to use some tool - infra\n",
    "\n",
    "**Target Number of Turns (User + Assistant)** - 1-4\n",
    "\n",
    "**Use Case** - Automating patient appointment scheduling\n",
    "\n",
    "**Technical Topic** - Building a Python script to interface with Google Calendar API\n",
    "\n",
    "**User Personality** - Analytical, Patient, and Formal\n"
   ]
  },
  {
   "cell_type": "markdown",
   "id": "a375690a",
   "metadata": {},
   "source": [
    "# Conversation"
   ]
  },
  {
   "cell_type": "markdown",
   "id": "acdbcd77",
   "metadata": {},
   "source": [
    "**User**\n"
   ]
  }
 ],
 "metadata": {},
 "nbformat": 4,
 "nbformat_minor": 5
}
