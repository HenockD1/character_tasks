{
 "cells": [
  {
   "cell_type": "markdown",
   "id": "26f9f9d3",
   "metadata": {},
   "source": [
    "# Metadata\n",
    "\n",
    "**Occupation Topics** - Data Visualization Developer > Expert Interview preparation - User asks AI help to take an Interview. AI takes an interview\n",
    "\n",
    "**Target Number of Turns (User + Assistant)** - 3-7\n",
    "\n",
    "**Use Case** - Expecting to discuss the design and user experience aspects of data visualization tools during an interview.\n",
    "\n",
    "**Technical Topic** - Best practices for UX design in data visualization applications.\n",
    "\n",
    "**User Personality** - Engaged and collaborative with a preference for formal communication.\n"
   ]
  },
  {
   "cell_type": "markdown",
   "id": "1d3e18fc",
   "metadata": {},
   "source": [
    "# Conversation"
   ]
  },
  {
   "cell_type": "markdown",
   "id": "4e48eff1",
   "metadata": {},
   "source": [
    "**User**\n"
   ]
  }
 ],
 "metadata": {},
 "nbformat": 4,
 "nbformat_minor": 5
}
