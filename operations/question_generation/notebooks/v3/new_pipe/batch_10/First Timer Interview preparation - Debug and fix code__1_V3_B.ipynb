{
 "cells": [
  {
   "cell_type": "markdown",
   "id": "330d4372",
   "metadata": {},
   "source": [
    "# Metadata\n",
    "\n",
    "**Occupation Topics** - Front-End Developer > First Timer Interview preparation - Debug and fix code\n",
    "\n",
    "**Target Number of Turns (User + Assistant)** - 2-6\n",
    "\n",
    "**Use Case** - Preparing for a technical interview by practicing common front-end debugging scenarios.\n",
    "\n",
    "**Technical Topic** - Using Chrome DevTools for JavaScript debugging\n",
    "\n",
    "**User Personality** - Curious, engaged, and slightly hesitant as they are new to the field and eager to learn the right techniques.\n"
   ]
  },
  {
   "cell_type": "markdown",
   "id": "3e3a0115",
   "metadata": {},
   "source": [
    "# Conversation"
   ]
  },
  {
   "cell_type": "markdown",
   "id": "80180b50",
   "metadata": {},
   "source": [
    "**User**\n"
   ]
  }
 ],
 "metadata": {},
 "nbformat": 4,
 "nbformat_minor": 5
}
