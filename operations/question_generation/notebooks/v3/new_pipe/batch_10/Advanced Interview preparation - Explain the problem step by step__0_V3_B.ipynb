{
 "cells": [
  {
   "cell_type": "markdown",
   "id": "c841b341",
   "metadata": {},
   "source": [
    "# Metadata\n",
    "\n",
    "**Occupation Topics** - Project Manager > Advanced Interview preparation - Explain the problem step by step\n",
    "\n",
    "**Target Number of Turns (User + Assistant)** - 2-6\n",
    "\n",
    "**Use Case** - Creating a mock interview simulation tool\n",
    "\n",
    "**Technical Topic** - Building a command-line interface (CLI) with Python's argparse library\n",
    "\n",
    "**User Personality** - Analytical, patient, and formal\n"
   ]
  },
  {
   "cell_type": "markdown",
   "id": "591382f8",
   "metadata": {},
   "source": [
    "# Conversation"
   ]
  },
  {
   "cell_type": "markdown",
   "id": "8e1374a9",
   "metadata": {},
   "source": [
    "**User**\n"
   ]
  }
 ],
 "metadata": {},
 "nbformat": 4,
 "nbformat_minor": 5
}
