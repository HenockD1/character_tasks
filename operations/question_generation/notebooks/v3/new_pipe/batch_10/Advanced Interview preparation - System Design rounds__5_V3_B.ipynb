{
 "cells": [
  {
   "cell_type": "markdown",
   "id": "563d1734",
   "metadata": {},
   "source": [
    "# Metadata\n",
    "\n",
    "**Occupation Topics** - Data Analytics Consultant > Advanced Interview preparation - System Design rounds\n",
    "\n",
    "**Target Number of Turns (User + Assistant)** - 1-4\n",
    "\n",
    "**Use Case** - Optimizing database queries for a real-time analytics dashboard\n",
    "\n",
    "**Technical Topic** - SQL query performance tuning in PostgreSQL\n",
    "\n",
    "**User Personality** - Analytical, Focused, and Confident\n"
   ]
  },
  {
   "cell_type": "markdown",
   "id": "767fc26f",
   "metadata": {},
   "source": [
    "# Conversation"
   ]
  },
  {
   "cell_type": "markdown",
   "id": "103cb12d",
   "metadata": {},
   "source": [
    "**User**\n"
   ]
  }
 ],
 "metadata": {},
 "nbformat": 4,
 "nbformat_minor": 5
}
