{
 "cells": [
  {
   "cell_type": "markdown",
   "id": "a4299ce2",
   "metadata": {},
   "source": [
    "# Metadata\n",
    "\n",
    "**Occupation Topics** - Smart City Planner > Advanced Interview preparation - Explain areas where people usually make mistakes\n",
    "\n",
    "**Target Number of Turns (User + Assistant)** - 1-4\n",
    "\n",
    "**Use Case** - Enhancing public safety through anomaly detection in city sensor data\n",
    "\n",
    "**Technical Topic** - Building an anomaly detection system using PyOD\n",
    "\n",
    "**User Personality** - Engaged, open-minded, and formal. Enjoys staying focused on the task at hand, is receptive to new ideas, and maintains a professional demeanor in discussions.\n"
   ]
  },
  {
   "cell_type": "markdown",
   "id": "158bf447",
   "metadata": {},
   "source": [
    "# Conversation"
   ]
  },
  {
   "cell_type": "markdown",
   "id": "d85188b8",
   "metadata": {},
   "source": [
    "**User**\n"
   ]
  }
 ],
 "metadata": {},
 "nbformat": 4,
 "nbformat_minor": 5
}
