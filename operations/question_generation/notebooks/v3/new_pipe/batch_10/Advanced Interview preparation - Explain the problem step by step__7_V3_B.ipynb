{
 "cells": [
  {
   "cell_type": "markdown",
   "id": "713b53ee",
   "metadata": {},
   "source": [
    "# Metadata\n",
    "\n",
    "**Occupation Topics** - User Experience Researcher > Advanced Interview preparation - Explain the problem step by step\n",
    "\n",
    "**Target Number of Turns (User + Assistant)** - 2-6\n",
    "\n",
    "**Use Case** - Creating a user persona for a new health app\n",
    "\n",
    "**Technical Topic** - Analyzing user interview data with Python's pandas library\n",
    "\n",
    "**User Personality** - Analytical, Curious, and Patient\n"
   ]
  },
  {
   "cell_type": "markdown",
   "id": "1699ccd6",
   "metadata": {},
   "source": [
    "# Conversation"
   ]
  },
  {
   "cell_type": "markdown",
   "id": "c1e377bf",
   "metadata": {},
   "source": [
    "**User**\n"
   ]
  }
 ],
 "metadata": {},
 "nbformat": 4,
 "nbformat_minor": 5
}
