{
 "cells": [
  {
   "cell_type": "markdown",
   "id": "20f728cd",
   "metadata": {},
   "source": [
    "# Metadata\n",
    "\n",
    "**Occupation Topics** - Growth Hacker > Expert Interview preparation - User asks AI help to take an Interview. AI takes an interview\n",
    "\n",
    "**Target Number of Turns (User + Assistant)** - 1-4\n",
    "\n",
    "**Use Case** - Assessing knowledge of Python web frameworks\n",
    "\n",
    "**Technical Topic** - Building RESTful APIs with Flask\n",
    "\n",
    "**User Personality** - Engaged, practical, and collaborative\n"
   ]
  },
  {
   "cell_type": "markdown",
   "id": "08e01646",
   "metadata": {},
   "source": [
    "# Conversation"
   ]
  },
  {
   "cell_type": "markdown",
   "id": "8af3b2ca",
   "metadata": {},
   "source": [
    "**User**\n"
   ]
  }
 ],
 "metadata": {},
 "nbformat": 4,
 "nbformat_minor": 5
}
