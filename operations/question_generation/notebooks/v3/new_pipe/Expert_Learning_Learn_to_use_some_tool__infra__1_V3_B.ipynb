{
 "cells": [
  {
   "cell_type": "markdown",
   "id": "d810536a",
   "metadata": {},
   "source": [
    "# Metadata\n",
    "\n",
    "**Occupation Topics** - Supply Chain Manager > Expert Learning - Learn to use some tool / infra\n",
    "\n",
    "**Target Number of Turns (User + Assistant)** - 2-6\n",
    "\n",
    "**Use Case** - Predicting supply chain disruptions\n",
    "\n",
    "**Technical Topic** - Machine learning with scikit-learn\n",
    "\n",
    "**User Personality** - Engaged, Confident, and Collaborative\n"
   ]
  },
  {
   "cell_type": "markdown",
   "id": "694db6fb",
   "metadata": {},
   "source": [
    "# Conversation"
   ]
  },
  {
   "cell_type": "markdown",
   "id": "6e490f61",
   "metadata": {},
   "source": [
    "**User**\n"
   ]
  }
 ],
 "metadata": {},
 "nbformat": 4,
 "nbformat_minor": 5
}
