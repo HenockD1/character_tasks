{
 "cells": [
  {
   "cell_type": "markdown",
   "id": "4e4b94e8",
   "metadata": {},
   "source": [
    "# Metadata\n",
    "\n",
    "**Occupation Topics** - Digital Content Strategist > Advanced Interview preparation - Proactively ask follow up questions\n",
    "\n",
    "**Target Number of Turns (User + Assistant)** - 4-8\n",
    "\n",
    "**Use Case** - Automating social media content analysis\n",
    "\n",
    "**Technical Topic** - Utilizing Tweepy to stream and analyze Twitter data\n",
    "\n",
    "**User Personality** - Engaged, Open-Minded, and Collaborative\n"
   ]
  },
  {
   "cell_type": "markdown",
   "id": "7e850710",
   "metadata": {},
   "source": [
    "# Conversation"
   ]
  },
  {
   "cell_type": "markdown",
   "id": "87d32c3c",
   "metadata": {},
   "source": [
    "**User**\n"
   ]
  }
 ],
 "metadata": {},
 "nbformat": 4,
 "nbformat_minor": 5
}
