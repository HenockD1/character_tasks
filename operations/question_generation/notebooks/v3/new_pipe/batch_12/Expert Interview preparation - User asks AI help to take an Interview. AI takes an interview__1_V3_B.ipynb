{
 "cells": [
  {
   "cell_type": "markdown",
   "id": "9904e14d",
   "metadata": {},
   "source": [
    "# Metadata\n",
    "\n",
    "**Occupation Topics** - Data Analyst > Expert Interview preparation - User asks AI help to take an Interview. AI takes an interview\n",
    "\n",
    "**Target Number of Turns (User + Assistant)** - 1-4\n",
    "\n",
    "**Use Case** - Expecting to demonstrate the ability to create predictive models in an upcoming interview\n",
    "\n",
    "**Technical Topic** - Building and evaluating machine learning models using scikit-learn\n",
    "\n",
    "**User Personality** - Engaged, open-minded, and collaborative\n"
   ]
  },
  {
   "cell_type": "markdown",
   "id": "c51fa5f3",
   "metadata": {},
   "source": [
    "# Conversation"
   ]
  },
  {
   "cell_type": "markdown",
   "id": "59919db9",
   "metadata": {},
   "source": [
    "**User**\n"
   ]
  }
 ],
 "metadata": {},
 "nbformat": 4,
 "nbformat_minor": 5
}
