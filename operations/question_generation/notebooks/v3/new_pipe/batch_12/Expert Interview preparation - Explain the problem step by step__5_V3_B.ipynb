{
 "cells": [
  {
   "cell_type": "markdown",
   "id": "28a9836d",
   "metadata": {},
   "source": [
    "# Metadata\n",
    "\n",
    "**Occupation Topics** - E-Commerce Analyst > Expert Interview preparation - Explain the problem step by step\n",
    "\n",
    "**Target Number of Turns (User + Assistant)** - 2-6\n",
    "\n",
    "**Use Case** - Automating sales data analysis\n",
    "\n",
    "**Technical Topic** - Data manipulation with pandas\n",
    "\n",
    "**User Personality** - Curious, elaborate, and independent\n"
   ]
  },
  {
   "cell_type": "markdown",
   "id": "13ed47fc",
   "metadata": {},
   "source": [
    "# Conversation"
   ]
  },
  {
   "cell_type": "markdown",
   "id": "a73983c6",
   "metadata": {},
   "source": [
    "**User**\n"
   ]
  }
 ],
 "metadata": {},
 "nbformat": 4,
 "nbformat_minor": 5
}
