{
 "cells": [
  {
   "cell_type": "markdown",
   "id": "6a5cf8e7",
   "metadata": {},
   "source": [
    "# Metadata\n",
    "\n",
    "**Occupation Topics** - Cybersecurity Analyst using Python > First Timer Interview preparation - System Design rounds\n",
    "\n",
    "**Target Number of Turns (User + Assistant)** - 1-4\n",
    "\n",
    "**Use Case** - Creating a script to simulate phishing attack patterns for educational purposes\n",
    "\n",
    "**Technical Topic** - Crafting email templates and sender logic with Python's email and smtplib modules\n",
    "\n",
    "**User Personality** - Open-minded, practical, and collaborative, looking to share insights with peers\n"
   ]
  },
  {
   "cell_type": "markdown",
   "id": "d6fbbcfc",
   "metadata": {},
   "source": [
    "# Conversation"
   ]
  },
  {
   "cell_type": "markdown",
   "id": "b826b735",
   "metadata": {},
   "source": [
    "**User**\n"
   ]
  }
 ],
 "metadata": {},
 "nbformat": 4,
 "nbformat_minor": 5
}
