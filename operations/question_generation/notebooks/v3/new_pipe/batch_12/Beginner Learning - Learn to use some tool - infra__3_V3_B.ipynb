{
 "cells": [
  {
   "cell_type": "markdown",
   "id": "bbbbcfc0",
   "metadata": {},
   "source": [
    "# Metadata\n",
    "\n",
    "**Occupation Topics** - User Experience Researcher > Beginner Learning - Learn to use some tool - infra\n",
    "\n",
    "**Target Number of Turns (User + Assistant)** - 1-4\n",
    "\n",
    "**Use Case** - Creating a heatmap of website clicks to understand user behavior\n",
    "\n",
    "**Technical Topic** - Data visualization with Matplotlib and Seaborn\n",
    "\n",
    "**User Personality** - Analytical, practical, and patient\n"
   ]
  },
  {
   "cell_type": "markdown",
   "id": "6c138a8d",
   "metadata": {},
   "source": [
    "# Conversation"
   ]
  },
  {
   "cell_type": "markdown",
   "id": "292b9b28",
   "metadata": {},
   "source": [
    "**User**\n"
   ]
  }
 ],
 "metadata": {},
 "nbformat": 4,
 "nbformat_minor": 5
}
