{
 "cells": [
  {
   "cell_type": "markdown",
   "id": "b3d0ab98",
   "metadata": {},
   "source": [
    "# Metadata\n",
    "\n",
    "**Occupation Topics** - Mobile App Developer > Beginner Interview preparation - System Design rounds\n",
    "\n",
    "**Target Number of Turns (User + Assistant)** - 1-4\n",
    "\n",
    "**Use Case** - Building a personal fitness tracker that syncs with wearable devices\n",
    "\n",
    "**Technical Topic** - Using Bluetooth Low Energy (BLE) in Android for device communication\n",
    "\n",
    "**User Personality** - Open-minded to exploring different tech solutions, patient with the development process, and prefers to work independently\n"
   ]
  },
  {
   "cell_type": "markdown",
   "id": "97f65087",
   "metadata": {},
   "source": [
    "# Conversation"
   ]
  },
  {
   "cell_type": "markdown",
   "id": "ee5a0b57",
   "metadata": {},
   "source": [
    "**User**\n"
   ]
  }
 ],
 "metadata": {},
 "nbformat": 4,
 "nbformat_minor": 5
}
