{
 "cells": [
  {
   "cell_type": "markdown",
   "id": "369afd6f",
   "metadata": {},
   "source": [
    "# Metadata\n",
    "\n",
    "**Occupation Topics** - Data Scientist > First Timer Learning - Learn to program\n",
    "\n",
    "**Target Number of Turns (User + Assistant)** - 2-6\n",
    "\n",
    "**Use Case** - Visualizing data to understand trends\n",
    "\n",
    "**Technical Topic** - Creating basic plots with Matplotlib\n",
    "\n",
    "**User Personality** - Analytical, patient, and independent, preferring to learn through exploration\n"
   ]
  },
  {
   "cell_type": "markdown",
   "id": "75adaf5b",
   "metadata": {},
   "source": [
    "# Conversation"
   ]
  },
  {
   "cell_type": "markdown",
   "id": "98d6a956",
   "metadata": {},
   "source": [
    "**User**\n"
   ]
  }
 ],
 "metadata": {},
 "nbformat": 4,
 "nbformat_minor": 5
}
