{
 "cells": [
  {
   "cell_type": "markdown",
   "id": "8ef7e34d",
   "metadata": {},
   "source": [
    "# Metadata\n",
    "\n",
    "**Occupation Topics** - Machine Learning Engineer > First Timer Learning - Learn to use some tool - infra\n",
    "\n",
    "**Target Number of Turns (User + Assistant)** - 6-10\n",
    "\n",
    "**Use Case** - Beginning a project with data preprocessing\n",
    "\n",
    "**Technical Topic** - Using Pandas for CSV data manipulation\n",
    "\n",
    "**User Personality** - Analytical, focused, and confident\n"
   ]
  },
  {
   "cell_type": "markdown",
   "id": "5b80b606",
   "metadata": {},
   "source": [
    "# Conversation"
   ]
  },
  {
   "cell_type": "markdown",
   "id": "d7c72612",
   "metadata": {},
   "source": [
    "**User**\n"
   ]
  }
 ],
 "metadata": {},
 "nbformat": 4,
 "nbformat_minor": 5
}
