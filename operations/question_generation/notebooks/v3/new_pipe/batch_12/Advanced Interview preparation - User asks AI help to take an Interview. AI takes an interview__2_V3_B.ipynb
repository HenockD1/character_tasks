{
 "cells": [
  {
   "cell_type": "markdown",
   "id": "26ee5f7f",
   "metadata": {},
   "source": [
    "# Metadata\n",
    "\n",
    "**Occupation Topics** - Cybersecurity Analyst > Advanced Interview preparation - User asks AI help to take an Interview. AI takes an interview\n",
    "\n",
    "**Target Number of Turns (User + Assistant)** - 1-4\n",
    "\n",
    "**Use Case** - Evaluating the candidate's understanding of encryption by asking them to encrypt and decrypt data.\n",
    "\n",
    "**Technical Topic** - Using Python's cryptography library to perform symmetric encryption.\n",
    "\n",
    "**User Personality** - Curious, open-minded, and elaborate\n"
   ]
  },
  {
   "cell_type": "markdown",
   "id": "92002dda",
   "metadata": {},
   "source": [
    "# Conversation"
   ]
  },
  {
   "cell_type": "markdown",
   "id": "831e2ef8",
   "metadata": {},
   "source": [
    "**User**\n"
   ]
  }
 ],
 "metadata": {},
 "nbformat": 4,
 "nbformat_minor": 5
}
