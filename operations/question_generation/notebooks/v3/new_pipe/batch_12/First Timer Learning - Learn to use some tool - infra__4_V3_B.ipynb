{
 "cells": [
  {
   "cell_type": "markdown",
   "id": "dd5b25ff",
   "metadata": {},
   "source": [
    "# Metadata\n",
    "\n",
    "**Occupation Topics** - Natural Language Processing Engineer > First Timer Learning - Learn to use some tool - infra\n",
    "\n",
    "**Target Number of Turns (User + Assistant)** - 3-7\n",
    "\n",
    "**Use Case** - Implementing a basic sentiment analysis tool\n",
    "\n",
    "**Technical Topic** - Using NLTK library for sentiment analysis\n",
    "\n",
    "**User Personality** - Curious, engaged, and slightly hesitant as they are new to the field\n"
   ]
  },
  {
   "cell_type": "markdown",
   "id": "5e97da2d",
   "metadata": {},
   "source": [
    "# Conversation"
   ]
  },
  {
   "cell_type": "markdown",
   "id": "33763c6e",
   "metadata": {},
   "source": [
    "**User**\n"
   ]
  }
 ],
 "metadata": {},
 "nbformat": 4,
 "nbformat_minor": 5
}
