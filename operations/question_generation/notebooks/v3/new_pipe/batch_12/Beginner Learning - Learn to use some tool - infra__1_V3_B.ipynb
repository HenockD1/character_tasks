{
 "cells": [
  {
   "cell_type": "markdown",
   "id": "c0b6935c",
   "metadata": {},
   "source": [
    "# Metadata\n",
    "\n",
    "**Occupation Topics** - Data Scientist > Beginner Learning - Learn to use some tool - infra\n",
    "\n",
    "**Target Number of Turns (User + Assistant)** - 1-5\n",
    "\n",
    "**Use Case** - Analyzing customer feedback for sentiment\n",
    "\n",
    "**Technical Topic** - Implementing sentiment analysis with NLTK library in Python\n",
    "\n",
    "**User Personality** - Curious, engaged, and open-minded, with a tendency to ask for explanations to understand the underlying concepts.\n"
   ]
  },
  {
   "cell_type": "markdown",
   "id": "9d7f9322",
   "metadata": {},
   "source": [
    "# Conversation"
   ]
  },
  {
   "cell_type": "markdown",
   "id": "374bf389",
   "metadata": {},
   "source": [
    "**User**\n"
   ]
  }
 ],
 "metadata": {},
 "nbformat": 4,
 "nbformat_minor": 5
}
