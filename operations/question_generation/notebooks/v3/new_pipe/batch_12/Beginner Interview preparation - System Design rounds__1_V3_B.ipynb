{
 "cells": [
  {
   "cell_type": "markdown",
   "id": "05348502",
   "metadata": {},
   "source": [
    "# Metadata\n",
    "\n",
    "**Occupation Topics** - Backend Developer > Beginner Interview preparation - System Design rounds\n",
    "\n",
    "**Target Number of Turns (User + Assistant)** - 1-4\n",
    "\n",
    "**Use Case** - Creating a simple RESTful API for a to-do application\n",
    "\n",
    "**Technical Topic** - Implementing CRUD operations with Flask\n",
    "\n",
    "**User Personality** - Analytical in approach, practical in solutions, and independent in problem-solving\n"
   ]
  },
  {
   "cell_type": "markdown",
   "id": "df7f2eef",
   "metadata": {},
   "source": [
    "# Conversation"
   ]
  },
  {
   "cell_type": "markdown",
   "id": "fd9dc358",
   "metadata": {},
   "source": [
    "**User**\n"
   ]
  }
 ],
 "metadata": {},
 "nbformat": 4,
 "nbformat_minor": 5
}
