{
 "cells": [
  {
   "cell_type": "markdown",
   "id": "845f3834",
   "metadata": {},
   "source": [
    "# Metadata\n",
    "\n",
    "**Occupation Topics** - Growth Hacker > Intermediate Interview preparation - System Design rounds\n",
    "\n",
    "**Target Number of Turns (User + Assistant)** - 1-4\n",
    "\n",
    "**Use Case** - Designing a scalable referral system for a new social media platform\n",
    "\n",
    "**Technical Topic** - Implementing rate limiting in Python to prevent abuse\n",
    "\n",
    "**User Personality** - Analytical, patient, and collaborative. Prefers to gather all the necessary data and insights before making decisions, enjoys working with a team to solve complex problems, and is willing to take the time to get things right.\n"
   ]
  },
  {
   "cell_type": "markdown",
   "id": "57506139",
   "metadata": {},
   "source": [
    "# Conversation"
   ]
  },
  {
   "cell_type": "markdown",
   "id": "4559d058",
   "metadata": {},
   "source": [
    "**User**\n"
   ]
  }
 ],
 "metadata": {},
 "nbformat": 4,
 "nbformat_minor": 5
}
