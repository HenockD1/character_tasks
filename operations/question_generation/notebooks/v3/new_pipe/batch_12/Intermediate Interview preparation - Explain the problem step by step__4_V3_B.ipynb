{
 "cells": [
  {
   "cell_type": "markdown",
   "id": "59f6b52f",
   "metadata": {},
   "source": [
    "# Metadata\n",
    "\n",
    "**Occupation Topics** - Data Journalist > Intermediate Interview preparation - Explain the problem step by step\n",
    "\n",
    "**Target Number of Turns (User + Assistant)** - 1-4\n",
    "\n",
    "**Use Case** - Creating an interactive data visualization for an upcoming interview article\n",
    "\n",
    "**Technical Topic** - Using Python's Bokeh library to create interactive plots\n",
    "\n",
    "**User Personality** - Curious, elaborate, and confident\n"
   ]
  },
  {
   "cell_type": "markdown",
   "id": "0887122d",
   "metadata": {},
   "source": [
    "# Conversation"
   ]
  },
  {
   "cell_type": "markdown",
   "id": "e1c1e7e2",
   "metadata": {},
   "source": [
    "**User**\n"
   ]
  }
 ],
 "metadata": {},
 "nbformat": 4,
 "nbformat_minor": 5
}
