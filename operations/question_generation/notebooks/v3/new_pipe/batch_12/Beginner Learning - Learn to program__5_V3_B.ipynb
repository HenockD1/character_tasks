{
 "cells": [
  {
   "cell_type": "markdown",
   "id": "75e90559",
   "metadata": {},
   "source": [
    "# Metadata\n",
    "\n",
    "**Occupation Topics** - Python Developer > Beginner Learning - Learn to program\n",
    "\n",
    "**Target Number of Turns (User + Assistant)** - 1-4\n",
    "\n",
    "**Use Case** - Creating a simple CLI calculator\n",
    "\n",
    "**Technical Topic** - Python basic arithmetic operations\n",
    "\n",
    "**User Personality** - Curious, engaged, and slightly hesitant\n"
   ]
  },
  {
   "cell_type": "markdown",
   "id": "166d664b",
   "metadata": {},
   "source": [
    "# Conversation"
   ]
  },
  {
   "cell_type": "markdown",
   "id": "be908f70",
   "metadata": {},
   "source": [
    "**User**\n"
   ]
  }
 ],
 "metadata": {},
 "nbformat": 4,
 "nbformat_minor": 5
}
