{
 "cells": [
  {
   "cell_type": "markdown",
   "id": "4b87b434",
   "metadata": {},
   "source": [
    "# Metadata\n",
    "\n",
    "**Occupation Topics** - Web Developer > First Timer Basic scripting - Write simple code in Javascript\n",
    "\n",
    "**Target Number of Turns (User + Assistant)** - 1-4\n",
    "\n",
    "**Use Case** - Implementing form validation for a sign-up page\n",
    "\n",
    "**Technical Topic** - JavaScript regular expressions\n",
    "\n",
    "**User Personality** - Confident, practical, and independent\n"
   ]
  },
  {
   "cell_type": "markdown",
   "id": "3bca2358",
   "metadata": {},
   "source": [
    "# Conversation"
   ]
  },
  {
   "cell_type": "markdown",
   "id": "4b0d895e",
   "metadata": {},
   "source": [
    "**User**\n"
   ]
  }
 ],
 "metadata": {},
 "nbformat": 4,
 "nbformat_minor": 5
}
