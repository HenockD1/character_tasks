{
 "cells": [
  {
   "cell_type": "markdown",
   "id": "b94c65a6",
   "metadata": {},
   "source": [
    "# Metadata\n",
    "\n",
    "**Occupation Topics** - Business Analyst > Advanced Interview preparation - System Design rounds\n",
    "\n",
    "**Target Number of Turns (User + Assistant)** - 2-6\n",
    "\n",
    "**Use Case** - Designing a scalable recommendation system for an e-commerce platform\n",
    "\n",
    "**Technical Topic** - Python - Implementing collaborative filtering using the Surprise library\n",
    "\n",
    "**User Personality** - Analytical, Curious, and Confident\n"
   ]
  },
  {
   "cell_type": "markdown",
   "id": "2e519144",
   "metadata": {},
   "source": [
    "# Conversation"
   ]
  },
  {
   "cell_type": "markdown",
   "id": "44c39abe",
   "metadata": {},
   "source": [
    "**User**\n"
   ]
  }
 ],
 "metadata": {},
 "nbformat": 4,
 "nbformat_minor": 5
}
