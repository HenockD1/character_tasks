{
 "cells": [
  {
   "cell_type": "markdown",
   "id": "e3df7521",
   "metadata": {},
   "source": [
    "# Metadata\n",
    "\n",
    "**Occupation Topics** - Smart City Planner > Intermediate Interview preparation - Explain areas where people usually make mistakes\n",
    "\n",
    "**Target Number of Turns (User + Assistant)** - 2-6\n",
    "\n",
    "**Use Case** - Analyzing pedestrian movement patterns to improve safety\n",
    "\n",
    "**Technical Topic** - Utilizing Python's Pandas library for data analysis\n",
    "\n",
    "**User Personality** - Curious, open-minded, and independent, with a strong inclination towards data-driven decision making\n"
   ]
  },
  {
   "cell_type": "markdown",
   "id": "75730909",
   "metadata": {},
   "source": [
    "# Conversation"
   ]
  },
  {
   "cell_type": "markdown",
   "id": "e0e255f8",
   "metadata": {},
   "source": [
    "**User**\n"
   ]
  }
 ],
 "metadata": {},
 "nbformat": 4,
 "nbformat_minor": 5
}
