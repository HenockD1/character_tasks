{
 "cells": [
  {
   "cell_type": "markdown",
   "id": "b51e19e0",
   "metadata": {},
   "source": [
    "# Metadata\n",
    "\n",
    "**Occupation Topics** - Cybersecurity Analyst > First Timer Learning - Learn to program\n",
    "\n",
    "**Target Number of Turns (User + Assistant)** - 4-8\n",
    "\n",
    "**Use Case** - Automating the process of scanning a network for vulnerabilities\n",
    "\n",
    "**Technical Topic** - Writing a Python script using the Scapy library\n",
    "\n",
    "**User Personality** - Curious, engaged, and slightly hesitant as they are new to programming\n"
   ]
  },
  {
   "cell_type": "markdown",
   "id": "630c739b",
   "metadata": {},
   "source": [
    "# Conversation"
   ]
  },
  {
   "cell_type": "markdown",
   "id": "3a3b563a",
   "metadata": {},
   "source": [
    "**User**\n"
   ]
  }
 ],
 "metadata": {},
 "nbformat": 4,
 "nbformat_minor": 5
}
