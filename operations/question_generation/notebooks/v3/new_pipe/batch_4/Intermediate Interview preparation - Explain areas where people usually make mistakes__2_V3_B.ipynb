{
 "cells": [
  {
   "cell_type": "markdown",
   "id": "01ef7c29",
   "metadata": {},
   "source": [
    "# Metadata\n",
    "\n",
    "**Occupation Topics** - Data Scientist > Intermediate Interview preparation - Explain areas where people usually make mistakes\n",
    "\n",
    "**Target Number of Turns (User + Assistant)** - 1-4\n",
    "\n",
    "**Use Case** - Anticipating tricky questions in a data science interview regarding data preprocessing\n",
    "\n",
    "**Technical Topic** - Data normalization techniques\n",
    "\n",
    "**User Personality** - Confident, Focused, and Practical\n"
   ]
  },
  {
   "cell_type": "markdown",
   "id": "660325f0",
   "metadata": {},
   "source": [
    "# Conversation"
   ]
  },
  {
   "cell_type": "markdown",
   "id": "86d3db2c",
   "metadata": {},
   "source": [
    "**User**\n"
   ]
  }
 ],
 "metadata": {},
 "nbformat": 4,
 "nbformat_minor": 5
}
