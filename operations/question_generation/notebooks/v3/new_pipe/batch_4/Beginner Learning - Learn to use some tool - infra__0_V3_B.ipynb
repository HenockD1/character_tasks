{
 "cells": [
  {
   "cell_type": "markdown",
   "id": "eca2de95",
   "metadata": {},
   "source": [
    "# Metadata\n",
    "\n",
    "**Occupation Topics** - Data Journalist > Beginner Learning - Learn to use some tool - infra\n",
    "\n",
    "**Target Number of Turns (User + Assistant)** - 1-4\n",
    "\n",
    "**Use Case** - Visualizing crime statistics to identify patterns over the past decade\n",
    "\n",
    "**Technical Topic** - Data visualization with Matplotlib\n",
    "\n",
    "**User Personality** - Analytical, confident, and open-minded. Likes to explore data through visual means and is not afraid to try new techniques.\n"
   ]
  },
  {
   "cell_type": "markdown",
   "id": "008eb2a7",
   "metadata": {},
   "source": [
    "# Conversation"
   ]
  },
  {
   "cell_type": "markdown",
   "id": "200b45f7",
   "metadata": {},
   "source": [
    "**User**\n"
   ]
  }
 ],
 "metadata": {},
 "nbformat": 4,
 "nbformat_minor": 5
}
