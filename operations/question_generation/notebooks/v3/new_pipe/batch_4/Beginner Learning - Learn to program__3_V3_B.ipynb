{
 "cells": [
  {
   "cell_type": "markdown",
   "id": "3f9355dc",
   "metadata": {},
   "source": [
    "# Metadata\n",
    "\n",
    "**Occupation Topics** - Python Developer > Beginner Learning - Learn to program\n",
    "\n",
    "**Target Number of Turns (User + Assistant)** - 3-7\n",
    "\n",
    "**Use Case** - Automating data entry into a web form\n",
    "\n",
    "**Technical Topic** - Introduction to web automation with Selenium WebDriver in Python\n",
    "\n",
    "**User Personality** - Practical, impatient, and independent\n"
   ]
  },
  {
   "cell_type": "markdown",
   "id": "6ef39f8f",
   "metadata": {},
   "source": [
    "# Conversation"
   ]
  },
  {
   "cell_type": "markdown",
   "id": "51aa180e",
   "metadata": {},
   "source": [
    "**User**\n"
   ]
  }
 ],
 "metadata": {},
 "nbformat": 4,
 "nbformat_minor": 5
}
