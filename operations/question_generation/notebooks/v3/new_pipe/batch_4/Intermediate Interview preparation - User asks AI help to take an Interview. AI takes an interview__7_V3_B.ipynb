{
 "cells": [
  {
   "cell_type": "markdown",
   "id": "3d3a193e",
   "metadata": {},
   "source": [
    "# Metadata\n",
    "\n",
    "**Occupation Topics** - Data Analyst > Intermediate Interview preparation - User asks AI help to take an Interview. AI takes an interview\n",
    "\n",
    "**Target Number of Turns (User + Assistant)** - 3-7\n",
    "\n",
    "**Use Case** - Preparing for a data manipulation interview question that involves writing a Python script to filter out records from a dataset based on multiple conditions.\n",
    "\n",
    "**Technical Topic** - Data filtering with pandas\n",
    "\n",
    "**User Personality** - Curious, practical, and somewhat impatient\n"
   ]
  },
  {
   "cell_type": "markdown",
   "id": "349e661e",
   "metadata": {},
   "source": [
    "# Conversation"
   ]
  },
  {
   "cell_type": "markdown",
   "id": "f32d0d98",
   "metadata": {},
   "source": [
    "**User**\n"
   ]
  }
 ],
 "metadata": {},
 "nbformat": 4,
 "nbformat_minor": 5
}
