{
 "cells": [
  {
   "cell_type": "markdown",
   "id": "cee5fb6d",
   "metadata": {},
   "source": [
    "# Metadata\n",
    "\n",
    "**Occupation Topics** - User Experience Researcher > Intermediate Interview preparation - Proactively ask follow up questions\n",
    "\n",
    "**Target Number of Turns (User + Assistant)** - 1-5\n",
    "\n",
    "**Use Case** - Creating a mock interview simulation tool\n",
    "\n",
    "**Technical Topic** - Building interactive chatbots with Python's ChatterBot library\n",
    "\n",
    "**User Personality** - Curious, engaged, and collaborative\n"
   ]
  },
  {
   "cell_type": "markdown",
   "id": "b952d1fa",
   "metadata": {},
   "source": [
    "# Conversation"
   ]
  },
  {
   "cell_type": "markdown",
   "id": "de77b2f2",
   "metadata": {},
   "source": [
    "**User**\n"
   ]
  }
 ],
 "metadata": {},
 "nbformat": 4,
 "nbformat_minor": 5
}
