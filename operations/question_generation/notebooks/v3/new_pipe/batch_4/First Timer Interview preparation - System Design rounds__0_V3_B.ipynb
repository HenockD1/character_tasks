{
 "cells": [
  {
   "cell_type": "markdown",
   "id": "70a9ac36",
   "metadata": {},
   "source": [
    "# Metadata\n",
    "\n",
    "**Occupation Topics** - Python Developer > First Timer Interview preparation - System Design rounds\n",
    "\n",
    "**Target Number of Turns (User + Assistant)** - 1-4\n",
    "\n",
    "**Use Case** - Building a personal budget tracker application\n",
    "\n",
    "**Technical Topic** - Data visualization with Matplotlib and Seaborn\n",
    "\n",
    "**User Personality** - Open-minded to different coding practices, engaged with the end-user experience, and elaborate in documenting code\n"
   ]
  },
  {
   "cell_type": "markdown",
   "id": "9afcb86f",
   "metadata": {},
   "source": [
    "# Conversation"
   ]
  },
  {
   "cell_type": "markdown",
   "id": "623f5bbb",
   "metadata": {},
   "source": [
    "**User**\n"
   ]
  }
 ],
 "metadata": {},
 "nbformat": 4,
 "nbformat_minor": 5
}
