{
 "cells": [
  {
   "cell_type": "markdown",
   "id": "84f9d14b",
   "metadata": {},
   "source": [
    "# Metadata\n",
    "\n",
    "**Occupation Topics** - Natural Language Processing Engineer > Expert Interview preparation - User asks AI help to take an Interview. AI takes an interview\n",
    "\n",
    "**Target Number of Turns (User + Assistant)** - 3-7\n",
    "\n",
    "**Use Case** - Developing an interview test to evaluate the candidate's ability to build a chatbot that can understand and respond to user queries.\n",
    "\n",
    "**Technical Topic** - Chatbot Development with Python's ChatterBot library\n",
    "\n",
    "**User Personality** - Engaged, collaborative, and somewhat informal. Likes to engage in discussions about the task and prefers a friendly, conversational approach to problem-solving.\n"
   ]
  },
  {
   "cell_type": "markdown",
   "id": "79167837",
   "metadata": {},
   "source": [
    "# Conversation"
   ]
  },
  {
   "cell_type": "markdown",
   "id": "79366643",
   "metadata": {},
   "source": [
    "**User**\n"
   ]
  }
 ],
 "metadata": {},
 "nbformat": 4,
 "nbformat_minor": 5
}
