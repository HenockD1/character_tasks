{
 "cells": [
  {
   "cell_type": "markdown",
   "id": "d5f5a197",
   "metadata": {},
   "source": [
    "# Metadata\n",
    "\n",
    "**Occupation Topics** - Data Journalist > Expert Interview preparation - System Design rounds\n",
    "\n",
    "**Target Number of Turns (User + Assistant)** - 3-7\n",
    "\n",
    "**Use Case** - Automating the extraction of insights from large datasets of public opinion polls\n",
    "\n",
    "**Technical Topic** - Utilizing Python's Pandas library for advanced data manipulation\n",
    "\n",
    "**User Personality** - Curious, open-minded, and elaborate, often diving deep into data to uncover hidden patterns and presenting findings in a detailed and comprehensive manner.\n"
   ]
  },
  {
   "cell_type": "markdown",
   "id": "3678e4a7",
   "metadata": {},
   "source": [
    "# Conversation"
   ]
  },
  {
   "cell_type": "markdown",
   "id": "832f3464",
   "metadata": {},
   "source": [
    "**User**\n"
   ]
  }
 ],
 "metadata": {},
 "nbformat": 4,
 "nbformat_minor": 5
}
