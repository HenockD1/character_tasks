{
 "cells": [
  {
   "cell_type": "markdown",
   "id": "77c3416b",
   "metadata": {},
   "source": [
    "# Metadata\n",
    "\n",
    "**Occupation Topics** - Educational Technologist > Advanced Interview preparation - User asks AI help to take an Interview. AI takes an interview\n",
    "\n",
    "**Target Number of Turns (User + Assistant)** - 1-5\n",
    "\n",
    "**Use Case** - Building an interactive interview practice tool\n",
    "\n",
    "**Technical Topic** - Implementing chatbots with Python's ChatterBot library\n",
    "\n",
    "**User Personality** - Confident, Practical, and Collaborative\n"
   ]
  },
  {
   "cell_type": "markdown",
   "id": "983dd3c8",
   "metadata": {},
   "source": [
    "# Conversation"
   ]
  },
  {
   "cell_type": "markdown",
   "id": "2e3873e0",
   "metadata": {},
   "source": [
    "**User**\n"
   ]
  }
 ],
 "metadata": {},
 "nbformat": 4,
 "nbformat_minor": 5
}
