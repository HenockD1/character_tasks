{
 "cells": [
  {
   "cell_type": "markdown",
   "id": "e04dbde8",
   "metadata": {},
   "source": [
    "# Metadata\n",
    "\n",
    "**Occupation Topics** - Data Journalist > Expert Interview preparation - User asks AI help to take an Interview. AI takes an interview\n",
    "\n",
    "**Target Number of Turns (User + Assistant)** - 2-6\n",
    "\n",
    "**Use Case** - Simulating a mock interview scenario where the AI challenges the data journalist with real-world data analysis problems.\n",
    "\n",
    "**Technical Topic** - Using Pandas for complex data manipulation tasks\n",
    "\n",
    "**User Personality** - Analytical, confident, and formal\n"
   ]
  },
  {
   "cell_type": "markdown",
   "id": "00801c27",
   "metadata": {},
   "source": [
    "# Conversation"
   ]
  },
  {
   "cell_type": "markdown",
   "id": "166aa784",
   "metadata": {},
   "source": [
    "**User**\n"
   ]
  }
 ],
 "metadata": {},
 "nbformat": 4,
 "nbformat_minor": 5
}
