{
 "cells": [
  {
   "cell_type": "markdown",
   "id": "5630b62a",
   "metadata": {},
   "source": [
    "# Metadata\n",
    "\n",
    "**Occupation Topics** - Cybersecurity Analyst using Python > First Timer Interview preparation - Explain areas where people usually make mistakes\n",
    "\n",
    "**Target Number of Turns (User + Assistant)** - 2-6\n",
    "\n",
    "**Use Case** - Preparing for a cybersecurity job interview\n",
    "\n",
    "**Technical Topic** - Common security vulnerabilities in Python code\n",
    "\n",
    "**User Personality** - Analytical, Focused, and Formal\n"
   ]
  },
  {
   "cell_type": "markdown",
   "id": "a2565967",
   "metadata": {},
   "source": [
    "# Conversation"
   ]
  },
  {
   "cell_type": "markdown",
   "id": "9e678ea9",
   "metadata": {},
   "source": [
    "**User**\n"
   ]
  }
 ],
 "metadata": {},
 "nbformat": 4,
 "nbformat_minor": 5
}
