{
 "cells": [
  {
   "cell_type": "markdown",
   "id": "95848d25",
   "metadata": {},
   "source": [
    "# Metadata\n",
    "\n",
    "**Occupation Topics** - Data Engineer > Intermediate Interview preparation - Proactively ask follow up questions\n",
    "\n",
    "**Target Number of Turns (User + Assistant)** - 1-5\n",
    "\n",
    "**Use Case** - Automating the process of data cleaning and transformation in a data pipeline using Python\n",
    "\n",
    "**Technical Topic** - Pandas DataFrame manipulation\n",
    "\n",
    "**User Personality** - Curious, practical, and somewhat impatient. Wants to explore efficient ways to handle data but is also looking for quick wins that can be immediately applied to the project.\n"
   ]
  },
  {
   "cell_type": "markdown",
   "id": "a9529d69",
   "metadata": {},
   "source": [
    "# Conversation"
   ]
  },
  {
   "cell_type": "markdown",
   "id": "42d63268",
   "metadata": {},
   "source": [
    "**User**\n"
   ]
  }
 ],
 "metadata": {},
 "nbformat": 4,
 "nbformat_minor": 5
}
