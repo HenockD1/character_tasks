{
 "cells": [
  {
   "cell_type": "markdown",
   "id": "1698354e",
   "metadata": {},
   "source": [
    "# Metadata\n",
    "\n",
    "**Occupation Topics** - Digital Content Strategist > Expert Interview preparation - User asks AI help to take an Interview. AI takes an interview\n",
    "\n",
    "**Target Number of Turns (User + Assistant)** - 4-8\n",
    "\n",
    "**Use Case** - Developing an interactive chatbot to assist with interview preparation for digital marketing positions\n",
    "\n",
    "**Technical Topic** - Chatbot development using Python's ChatterBot library\n",
    "\n",
    "**User Personality** - Curious, Open-Minded, and Collaborative\n"
   ]
  },
  {
   "cell_type": "markdown",
   "id": "ab23f39b",
   "metadata": {},
   "source": [
    "# Conversation"
   ]
  },
  {
   "cell_type": "markdown",
   "id": "94d1e53f",
   "metadata": {},
   "source": [
    "**User**\n"
   ]
  }
 ],
 "metadata": {},
 "nbformat": 4,
 "nbformat_minor": 5
}
