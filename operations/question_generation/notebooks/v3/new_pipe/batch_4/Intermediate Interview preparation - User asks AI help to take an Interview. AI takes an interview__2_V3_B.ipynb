{
 "cells": [
  {
   "cell_type": "markdown",
   "id": "53edd654",
   "metadata": {},
   "source": [
    "# Metadata\n",
    "\n",
    "**Occupation Topics** - Educational Technologist > Intermediate Interview preparation - User asks AI help to take an Interview. AI takes an interview\n",
    "\n",
    "**Target Number of Turns (User + Assistant)** - 1-4\n",
    "\n",
    "**Use Case** - Creating a mock interview simulation tool\n",
    "\n",
    "**Technical Topic** - Natural Language Processing with NLTK\n",
    "\n",
    "**User Personality** - Curious, Practical, and Informal\n"
   ]
  },
  {
   "cell_type": "markdown",
   "id": "17a507d7",
   "metadata": {},
   "source": [
    "# Conversation"
   ]
  },
  {
   "cell_type": "markdown",
   "id": "7341f488",
   "metadata": {},
   "source": [
    "**User**\n"
   ]
  }
 ],
 "metadata": {},
 "nbformat": 4,
 "nbformat_minor": 5
}
