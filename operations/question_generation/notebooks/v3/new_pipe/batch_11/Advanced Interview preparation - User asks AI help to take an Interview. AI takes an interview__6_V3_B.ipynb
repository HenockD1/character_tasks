{
 "cells": [
  {
   "cell_type": "markdown",
   "id": "ba6cdfa6",
   "metadata": {},
   "source": [
    "# Metadata\n",
    "\n",
    "**Occupation Topics** - Supply Chain Manager > Advanced Interview preparation - User asks AI help to take an Interview. AI takes an interview\n",
    "\n",
    "**Target Number of Turns (User + Assistant)** - 2-6\n",
    "\n",
    "**Use Case** - Simulating a data-driven supply chain scenario for an interview\n",
    "\n",
    "**Technical Topic** - Using Python's pandas library to analyze supply chain data\n",
    "\n",
    "**User Personality** - Analytical, confident, and practical\n"
   ]
  },
  {
   "cell_type": "markdown",
   "id": "4d11603c",
   "metadata": {},
   "source": [
    "# Conversation"
   ]
  },
  {
   "cell_type": "markdown",
   "id": "480e323c",
   "metadata": {},
   "source": [
    "**User**\n"
   ]
  }
 ],
 "metadata": {},
 "nbformat": 4,
 "nbformat_minor": 5
}
