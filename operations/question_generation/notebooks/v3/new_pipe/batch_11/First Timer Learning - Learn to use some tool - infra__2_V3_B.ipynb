{
 "cells": [
  {
   "cell_type": "markdown",
   "id": "1b864bee",
   "metadata": {},
   "source": [
    "# Metadata\n",
    "\n",
    "**Occupation Topics** - Web Developer > First Timer Learning - Learn to use some tool - infra\n",
    "\n",
    "**Target Number of Turns (User + Assistant)** - 4-8\n",
    "\n",
    "**Use Case** - Setting up a local development environment for a new web project\n",
    "\n",
    "**Technical Topic** - Configuring a virtual environment with venv in Python\n",
    "\n",
    "**User Personality** - Curious, patient, and collaborative. Prefers clear, step-by-step guidance and enjoys understanding the rationale behind each action.\n"
   ]
  },
  {
   "cell_type": "markdown",
   "id": "a06888b8",
   "metadata": {},
   "source": [
    "# Conversation"
   ]
  },
  {
   "cell_type": "markdown",
   "id": "39b18e77",
   "metadata": {},
   "source": [
    "**User**\n"
   ]
  }
 ],
 "metadata": {},
 "nbformat": 4,
 "nbformat_minor": 5
}
