{
 "cells": [
  {
   "cell_type": "markdown",
   "id": "d4a808ed",
   "metadata": {},
   "source": [
    "# Metadata\n",
    "\n",
    "**Occupation Topics** - Machine Learning Engineer > First Timer Learning - Learn to use some tool - infra\n",
    "\n",
    "**Target Number of Turns (User + Assistant)** - 1-4\n",
    "\n",
    "**Use Case** - Setting up a machine learning environment for the first time\n",
    "\n",
    "**Technical Topic** - Installing TensorFlow on a local machine\n",
    "\n",
    "**User Personality** - Curious, patient, and independent\n"
   ]
  },
  {
   "cell_type": "markdown",
   "id": "e0d44bbe",
   "metadata": {},
   "source": [
    "# Conversation"
   ]
  },
  {
   "cell_type": "markdown",
   "id": "f50320cd",
   "metadata": {},
   "source": [
    "**User**\n"
   ]
  }
 ],
 "metadata": {},
 "nbformat": 4,
 "nbformat_minor": 5
}
