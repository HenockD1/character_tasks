{
 "cells": [
  {
   "cell_type": "markdown",
   "id": "fbe113da",
   "metadata": {},
   "source": [
    "# Metadata\n",
    "\n",
    "**Occupation Topics** - Supply Chain Manager > Advanced Learning - Learn to use some tool - infra\n",
    "\n",
    "**Target Number of Turns (User + Assistant)** - 1-5\n",
    "\n",
    "**Use Case** - Predicting supply chain disruptions\n",
    "\n",
    "**Technical Topic** - Machine learning with scikit-learn\n",
    "\n",
    "**User Personality** - Engaged, Confident, and Formal\n"
   ]
  },
  {
   "cell_type": "markdown",
   "id": "50620e36",
   "metadata": {},
   "source": [
    "# Conversation"
   ]
  },
  {
   "cell_type": "markdown",
   "id": "7a8df8b3",
   "metadata": {},
   "source": [
    "**User**\n"
   ]
  }
 ],
 "metadata": {},
 "nbformat": 4,
 "nbformat_minor": 5
}
