{
 "cells": [
  {
   "cell_type": "markdown",
   "id": "a85763fd",
   "metadata": {},
   "source": [
    "# Metadata\n",
    "\n",
    "**Occupation Topics** - Python Developer > Expert Interview preparation - Proactively ask follow up questions\n",
    "\n",
    "**Target Number of Turns (User + Assistant)** - 1-4\n",
    "\n",
    "**Use Case** - Preparing for system design interview questions\n",
    "\n",
    "**Technical Topic** - Python design patterns implementation\n",
    "\n",
    "**User Personality** - Engaged, patient, and collaborative\n"
   ]
  },
  {
   "cell_type": "markdown",
   "id": "6e13bcac",
   "metadata": {},
   "source": [
    "# Conversation"
   ]
  },
  {
   "cell_type": "markdown",
   "id": "7d94b845",
   "metadata": {},
   "source": [
    "**User**\n"
   ]
  }
 ],
 "metadata": {},
 "nbformat": 4,
 "nbformat_minor": 5
}
