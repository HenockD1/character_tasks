{
 "cells": [
  {
   "cell_type": "markdown",
   "id": "d29ff782",
   "metadata": {},
   "source": [
    "# Metadata\n",
    "\n",
    "**Occupation Topics** - Supply Chain Manager > Expert Interview preparation - Explain areas where people usually make mistakes\n",
    "\n",
    "**Target Number of Turns (User + Assistant)** - 1-4\n",
    "\n",
    "**Use Case** - Enhancing logistics efficiency through route optimization\n",
    "\n",
    "**Technical Topic** - Utilizing the Google Maps API for geospatial analysis\n",
    "\n",
    "**User Personality** - Curious, open-minded, and elaborate\n"
   ]
  },
  {
   "cell_type": "markdown",
   "id": "da17a104",
   "metadata": {},
   "source": [
    "# Conversation"
   ]
  },
  {
   "cell_type": "markdown",
   "id": "98033f4f",
   "metadata": {},
   "source": [
    "**User**\n"
   ]
  }
 ],
 "metadata": {},
 "nbformat": 4,
 "nbformat_minor": 5
}
