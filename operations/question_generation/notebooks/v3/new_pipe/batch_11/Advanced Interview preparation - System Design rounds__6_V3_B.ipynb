{
 "cells": [
  {
   "cell_type": "markdown",
   "id": "5d6b83d4",
   "metadata": {},
   "source": [
    "# Metadata\n",
    "\n",
    "**Occupation Topics** - E-Commerce Analyst > Advanced Interview preparation - System Design rounds\n",
    "\n",
    "**Target Number of Turns (User + Assistant)** - 4-8\n",
    "\n",
    "**Use Case** - Designing a scalable shopping cart system for an e-commerce platform\n",
    "\n",
    "**Technical Topic** - Microservices architecture and data consistency\n",
    "\n",
    "**User Personality** - Analytical, patient, and collaborative. Prefers to dissect complex systems into manageable components and enjoys the iterative process of refining system design with peers.\n"
   ]
  },
  {
   "cell_type": "markdown",
   "id": "6d390a67",
   "metadata": {},
   "source": [
    "# Conversation"
   ]
  },
  {
   "cell_type": "markdown",
   "id": "705ad25c",
   "metadata": {},
   "source": [
    "**User**\n"
   ]
  }
 ],
 "metadata": {},
 "nbformat": 4,
 "nbformat_minor": 5
}
