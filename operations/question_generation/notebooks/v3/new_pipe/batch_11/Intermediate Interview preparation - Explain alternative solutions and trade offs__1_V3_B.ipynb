{
 "cells": [
  {
   "cell_type": "markdown",
   "id": "ce6d59ee",
   "metadata": {},
   "source": [
    "# Metadata\n",
    "\n",
    "**Occupation Topics** - Data Journalist > Intermediate Interview preparation - Explain alternative solutions and trade offs\n",
    "\n",
    "**Target Number of Turns (User + Assistant)** - 1-4\n",
    "\n",
    "**Use Case** - Creating an interactive data visualization for an upcoming article on election results\n",
    "\n",
    "**Technical Topic** - Using Python's Bokeh library to create interactive plots\n",
    "\n",
    "**User Personality** - Curious about new visualization techniques, confident in presenting complex data, and prefers a practical approach to storytelling\n"
   ]
  },
  {
   "cell_type": "markdown",
   "id": "22276362",
   "metadata": {},
   "source": [
    "# Conversation"
   ]
  },
  {
   "cell_type": "markdown",
   "id": "b33304c8",
   "metadata": {},
   "source": [
    "**User**\n"
   ]
  }
 ],
 "metadata": {},
 "nbformat": 4,
 "nbformat_minor": 5
}
