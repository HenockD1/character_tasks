{
 "cells": [
  {
   "cell_type": "markdown",
   "id": "c8c7a4ca",
   "metadata": {},
   "source": [
    "# Metadata\n",
    "\n",
    "**Occupation Topics** - Cloud Engineer (Python-Focused) > First Timer Interview preparation - Explain the problem step by step\n",
    "\n",
    "**Target Number of Turns (User + Assistant)** - 1-5\n",
    "\n",
    "**Use Case** - Preparing for a cloud engineer interview by simulating a scenario where a Python script must interact with AWS services\n",
    "\n",
    "**Technical Topic** - Using Boto3 to manage AWS resources\n",
    "\n",
    "**User Personality** - Analytical, focused, and confident\n"
   ]
  },
  {
   "cell_type": "markdown",
   "id": "db909583",
   "metadata": {},
   "source": [
    "# Conversation"
   ]
  },
  {
   "cell_type": "markdown",
   "id": "1b8d7044",
   "metadata": {},
   "source": [
    "**User**\n"
   ]
  }
 ],
 "metadata": {},
 "nbformat": 4,
 "nbformat_minor": 5
}
