{
 "cells": [
  {
   "cell_type": "markdown",
   "id": "de3da3c7",
   "metadata": {},
   "source": [
    "# Metadata\n",
    "\n",
    "**Occupation Topics** - Smart City Planner > Expert Interview preparation - Proactively ask follow up questions\n",
    "\n",
    "**Target Number of Turns (User + Assistant)** - 1-5\n",
    "\n",
    "**Use Case** - Developing a predictive maintenance system for public utilities\n",
    "\n",
    "**Technical Topic** - Time series forecasting with Python's Prophet library\n",
    "\n",
    "**User Personality** - Curious, confident, and practical\n"
   ]
  },
  {
   "cell_type": "markdown",
   "id": "09181ba8",
   "metadata": {},
   "source": [
    "# Conversation"
   ]
  },
  {
   "cell_type": "markdown",
   "id": "c42e3714",
   "metadata": {},
   "source": [
    "**User**\n"
   ]
  }
 ],
 "metadata": {},
 "nbformat": 4,
 "nbformat_minor": 5
}
