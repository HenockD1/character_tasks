{
 "cells": [
  {
   "cell_type": "markdown",
   "id": "6274beab",
   "metadata": {},
   "source": [
    "# Metadata\n",
    "\n",
    "**Occupation Topics** - User Experience Researcher > Advanced Interview preparation - Explain alternative solutions and trade offs\n",
    "\n",
    "**Target Number of Turns (User + Assistant)** - 1-5\n",
    "\n",
    "**Use Case** - Creating a user interview script that adapts to participant responses in real-time\n",
    "\n",
    "**Technical Topic** - Implementing decision trees in Python\n",
    "\n",
    "**User Personality** - Analytical, Curious, and Patient\n"
   ]
  },
  {
   "cell_type": "markdown",
   "id": "6bddeb30",
   "metadata": {},
   "source": [
    "# Conversation"
   ]
  },
  {
   "cell_type": "markdown",
   "id": "87ed0fa4",
   "metadata": {},
   "source": [
    "**User**\n"
   ]
  }
 ],
 "metadata": {},
 "nbformat": 4,
 "nbformat_minor": 5
}
