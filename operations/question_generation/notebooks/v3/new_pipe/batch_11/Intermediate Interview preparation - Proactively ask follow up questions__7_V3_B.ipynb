{
 "cells": [
  {
   "cell_type": "markdown",
   "id": "0de75610",
   "metadata": {},
   "source": [
    "# Metadata\n",
    "\n",
    "**Occupation Topics** - Python Content Creator (Technical Writing-Tutorials) > Intermediate Interview preparation - Proactively ask follow up questions\n",
    "\n",
    "**Target Number of Turns (User + Assistant)** - 2-6\n",
    "\n",
    "**Use Case** - Developing an interactive Python quiz for data structures commonly asked in tech interviews\n",
    "\n",
    "**Technical Topic** - Implementing stack and queue operations\n",
    "\n",
    "**User Personality** - Practical, Confident, and Collaborative\n"
   ]
  },
  {
   "cell_type": "markdown",
   "id": "87d19cf9",
   "metadata": {},
   "source": [
    "# Conversation"
   ]
  },
  {
   "cell_type": "markdown",
   "id": "994beb3f",
   "metadata": {},
   "source": [
    "**User**\n"
   ]
  }
 ],
 "metadata": {},
 "nbformat": 4,
 "nbformat_minor": 5
}
