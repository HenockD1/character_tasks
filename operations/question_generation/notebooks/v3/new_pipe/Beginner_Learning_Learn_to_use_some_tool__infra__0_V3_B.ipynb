{
 "cells": [
  {
   "cell_type": "markdown",
   "id": "b09ab6da",
   "metadata": {},
   "source": [
    "# Metadata\n",
    "\n",
    "**Occupation Topics** - Business Analyst > Beginner Learning - Learn to use some tool / infra\n",
    "\n",
    "**Target Number of Turns (User + Assistant)** - 2-6\n",
    "\n",
    "**Use Case** - Automating data extraction from sales reports\n",
    "\n",
    "**Technical Topic** - Python scripting with pandas for CSV manipulation\n",
    "\n",
    "**User Personality** - Curious, engaged, and practical\n"
   ]
  },
  {
   "cell_type": "markdown",
   "id": "ddae7a6d",
   "metadata": {},
   "source": [
    "# Conversation"
   ]
  },
  {
   "cell_type": "markdown",
   "id": "6be6cfaf",
   "metadata": {},
   "source": [
    "**User**\n"
   ]
  }
 ],
 "metadata": {},
 "nbformat": 4,
 "nbformat_minor": 5
}
