{
 "cells": [
  {
   "cell_type": "markdown",
   "id": "614927db",
   "metadata": {},
   "source": [
    "# Metadata\n",
    "\n",
    "**Occupation Topics** - Data Analyst > Beginner Interview preparation - Explain alternative solutions and trade offs\n",
    "\n",
    "**Target Number of Turns (User + Assistant)** - 1-5\n",
    "\n",
    "**Use Case** - Preparing for a data analyst interview by practicing SQL queries\n",
    "\n",
    "**Technical Topic** - SQL Joins and Subqueries\n",
    "\n",
    "**User Personality** - Curious and eager to learn, but slightly hesitant due to lack of experience. Prefers clear and practical examples.\n"
   ]
  },
  {
   "cell_type": "markdown",
   "id": "3b193601",
   "metadata": {},
   "source": [
    "# Conversation"
   ]
  },
  {
   "cell_type": "markdown",
   "id": "fce96b01",
   "metadata": {},
   "source": [
    "**User**\n"
   ]
  }
 ],
 "metadata": {},
 "nbformat": 4,
 "nbformat_minor": 5
}
