{
 "cells": [
  {
   "cell_type": "markdown",
   "id": "941ad28b",
   "metadata": {},
   "source": [
    "# Metadata\n",
    "\n",
    "**Occupation Topics** - Web Developer > Advanced Interview preparation - System Design rounds\n",
    "\n",
    "**Target Number of Turns (User + Assistant)** - 1-4\n",
    "\n",
    "**Use Case** - Designing a scalable URL shortening service like Bitly\n",
    "\n",
    "**Technical Topic** - Database schema optimization for high throughput\n",
    "\n",
    "**User Personality** - Analytical, patient, and collaborative\n"
   ]
  },
  {
   "cell_type": "markdown",
   "id": "4703f765",
   "metadata": {},
   "source": [
    "# Conversation"
   ]
  },
  {
   "cell_type": "markdown",
   "id": "edbbb008",
   "metadata": {},
   "source": [
    "**User**\n"
   ]
  }
 ],
 "metadata": {},
 "nbformat": 4,
 "nbformat_minor": 5
}
