{
 "cells": [
  {
   "cell_type": "markdown",
   "id": "4b0a8036",
   "metadata": {},
   "source": [
    "# Metadata\n",
    "\n",
    "**Occupation Topics** - Educational Technologist > Beginner Learning - Learn to use some tool - infra\n",
    "\n",
    "**Target Number of Turns (User + Assistant)** - 1-4\n",
    "\n",
    "**Use Case** - Developing a tool to track student progress in a virtual classroom\n",
    "\n",
    "**Technical Topic** - Using SQLite with Python to manage student data\n",
    "\n",
    "**User Personality** - Patient with the learning process, engaged in their work, and leans towards a collaborative style when seeking solutions\n"
   ]
  },
  {
   "cell_type": "markdown",
   "id": "96f81c1f",
   "metadata": {},
   "source": [
    "# Conversation"
   ]
  },
  {
   "cell_type": "markdown",
   "id": "7a18192c",
   "metadata": {},
   "source": [
    "**User**\n"
   ]
  }
 ],
 "metadata": {},
 "nbformat": 4,
 "nbformat_minor": 5
}
