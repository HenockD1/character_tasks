{
 "cells": [
  {
   "cell_type": "markdown",
   "id": "9c7f6ba0",
   "metadata": {},
   "source": [
    "# Metadata\n",
    "\n",
    "**Occupation Topics** - E-Commerce Analyst > Intermediate Interview preparation - System Design rounds\n",
    "\n",
    "**Target Number of Turns (User + Assistant)** - 2-6\n",
    "\n",
    "**Use Case** - Optimizing checkout flow to reduce cart abandonment\n",
    "\n",
    "**Technical Topic** - Python microservices architecture and inter-service communication\n",
    "\n",
    "**User Personality** - Curious, practical, and confident\n"
   ]
  },
  {
   "cell_type": "markdown",
   "id": "9cf952a8",
   "metadata": {},
   "source": [
    "# Conversation"
   ]
  },
  {
   "cell_type": "markdown",
   "id": "6c7011f4",
   "metadata": {},
   "source": [
    "**User**\n"
   ]
  }
 ],
 "metadata": {},
 "nbformat": 4,
 "nbformat_minor": 5
}
