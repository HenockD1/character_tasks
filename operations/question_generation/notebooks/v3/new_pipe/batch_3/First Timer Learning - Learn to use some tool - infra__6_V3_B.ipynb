{
 "cells": [
  {
   "cell_type": "markdown",
   "id": "d46324c4",
   "metadata": {},
   "source": [
    "# Metadata\n",
    "\n",
    "**Occupation Topics** - Smart City Planner > First Timer Learning - Learn to use some tool - infra\n",
    "\n",
    "**Target Number of Turns (User + Assistant)** - 1-4\n",
    "\n",
    "**Use Case** - Designing a traffic flow optimization algorithm for a smart city\n",
    "\n",
    "**Technical Topic** - Python simulation using SimPy\n",
    "\n",
    "**User Personality** - Curious, engaged, and practical with a penchant for hands-on learning\n"
   ]
  },
  {
   "cell_type": "markdown",
   "id": "1cfcf7b8",
   "metadata": {},
   "source": [
    "# Conversation"
   ]
  },
  {
   "cell_type": "markdown",
   "id": "6ebb074f",
   "metadata": {},
   "source": [
    "**User**\n"
   ]
  }
 ],
 "metadata": {},
 "nbformat": 4,
 "nbformat_minor": 5
}
