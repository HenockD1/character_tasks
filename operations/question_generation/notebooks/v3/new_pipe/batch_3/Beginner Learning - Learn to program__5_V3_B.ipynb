{
 "cells": [
  {
   "cell_type": "markdown",
   "id": "0458571e",
   "metadata": {},
   "source": [
    "# Metadata\n",
    "\n",
    "**Occupation Topics** - Environmental Scientist > Beginner Learning - Learn to program\n",
    "\n",
    "**Target Number of Turns (User + Assistant)** - 1-4\n",
    "\n",
    "**Use Case** - Automating the calculation of carbon footprints for various activities\n",
    "\n",
    "**Technical Topic** - Basic Python scripting for automation\n",
    "\n",
    "**User Personality** - Practical, confident, and independent\n"
   ]
  },
  {
   "cell_type": "markdown",
   "id": "03f0ef75",
   "metadata": {},
   "source": [
    "# Conversation"
   ]
  },
  {
   "cell_type": "markdown",
   "id": "fb676008",
   "metadata": {},
   "source": [
    "**User**\n"
   ]
  }
 ],
 "metadata": {},
 "nbformat": 4,
 "nbformat_minor": 5
}
