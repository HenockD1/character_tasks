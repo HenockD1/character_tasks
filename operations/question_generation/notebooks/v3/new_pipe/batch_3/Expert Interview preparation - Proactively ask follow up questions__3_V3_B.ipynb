{
 "cells": [
  {
   "cell_type": "markdown",
   "id": "0d4817dd",
   "metadata": {},
   "source": [
    "# Metadata\n",
    "\n",
    "**Occupation Topics** - Healthcare Administrator > Expert Interview preparation - Proactively ask follow up questions\n",
    "\n",
    "**Target Number of Turns (User + Assistant)** - 3-7\n",
    "\n",
    "**Use Case** - Developing a chatbot for answering common patient inquiries\n",
    "\n",
    "**Technical Topic** - Natural Language Processing with NLTK\n",
    "\n",
    "**User Personality** - Curious, open-minded, and somewhat informal\n"
   ]
  },
  {
   "cell_type": "markdown",
   "id": "48aae625",
   "metadata": {},
   "source": [
    "# Conversation"
   ]
  },
  {
   "cell_type": "markdown",
   "id": "96e5235d",
   "metadata": {},
   "source": [
    "**User**\n"
   ]
  }
 ],
 "metadata": {},
 "nbformat": 4,
 "nbformat_minor": 5
}
