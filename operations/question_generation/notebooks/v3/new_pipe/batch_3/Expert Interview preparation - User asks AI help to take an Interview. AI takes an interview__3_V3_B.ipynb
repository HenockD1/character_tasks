{
 "cells": [
  {
   "cell_type": "markdown",
   "id": "9cc605f8",
   "metadata": {},
   "source": [
    "# Metadata\n",
    "\n",
    "**Occupation Topics** - Financial Analyst > Expert Interview preparation - User asks AI help to take an Interview. AI takes an interview\n",
    "\n",
    "**Target Number of Turns (User + Assistant)** - 2-6\n",
    "\n",
    "**Use Case** - Mock interview question on optimizing financial models for performance\n",
    "\n",
    "**Technical Topic** - Profiling Python code with cProfile to improve efficiency of financial calculations\n",
    "\n",
    "**User Personality** - Practical, Patient, and Collaborative\n"
   ]
  },
  {
   "cell_type": "markdown",
   "id": "89d3ccf6",
   "metadata": {},
   "source": [
    "# Conversation"
   ]
  },
  {
   "cell_type": "markdown",
   "id": "ce174cc4",
   "metadata": {},
   "source": [
    "**User**\n"
   ]
  }
 ],
 "metadata": {},
 "nbformat": 4,
 "nbformat_minor": 5
}
