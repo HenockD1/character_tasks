{
 "cells": [
  {
   "cell_type": "markdown",
   "id": "e2743316",
   "metadata": {},
   "source": [
    "# Metadata\n",
    "\n",
    "**Occupation Topics** - Data Journalist > First Timer Learning - Learn to use some tool - infra\n",
    "\n",
    "**Target Number of Turns (User + Assistant)** - 2-6\n",
    "\n",
    "**Use Case** - Scraping data from social media for journalistic research\n",
    "\n",
    "**Technical Topic** - Using Python's Tweepy library to access Twitter API\n",
    "\n",
    "**User Personality** - Curious, patient, and collaborative, with a preference for clear, step-by-step guidance\n"
   ]
  },
  {
   "cell_type": "markdown",
   "id": "0bce90b8",
   "metadata": {},
   "source": [
    "# Conversation"
   ]
  },
  {
   "cell_type": "markdown",
   "id": "bae4e451",
   "metadata": {},
   "source": [
    "**User**\n"
   ]
  }
 ],
 "metadata": {},
 "nbformat": 4,
 "nbformat_minor": 5
}
