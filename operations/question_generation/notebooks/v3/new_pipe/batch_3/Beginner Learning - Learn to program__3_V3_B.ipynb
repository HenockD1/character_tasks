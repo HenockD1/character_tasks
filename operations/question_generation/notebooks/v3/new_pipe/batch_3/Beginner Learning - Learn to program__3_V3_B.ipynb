{
 "cells": [
  {
   "cell_type": "markdown",
   "id": "21aabb65",
   "metadata": {},
   "source": [
    "# Metadata\n",
    "\n",
    "**Occupation Topics** - Data Journalist > Beginner Learning - Learn to program\n",
    "\n",
    "**Target Number of Turns (User + Assistant)** - 1-4\n",
    "\n",
    "**Use Case** - Scraping data from a government website for a story on local election campaign finances\n",
    "\n",
    "**Technical Topic** - Web scraping with Beautiful Soup\n",
    "\n",
    "**User Personality** - Curious about new tools, slightly hesitant due to lack of experience, but very engaged with the subject matter\n"
   ]
  },
  {
   "cell_type": "markdown",
   "id": "5dda5a53",
   "metadata": {},
   "source": [
    "# Conversation"
   ]
  },
  {
   "cell_type": "markdown",
   "id": "b0a26665",
   "metadata": {},
   "source": [
    "**User**\n"
   ]
  }
 ],
 "metadata": {},
 "nbformat": 4,
 "nbformat_minor": 5
}
