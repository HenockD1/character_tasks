{
 "cells": [
  {
   "cell_type": "markdown",
   "id": "93445a6a",
   "metadata": {},
   "source": [
    "# Metadata\n",
    "\n",
    "**Occupation Topics** - Project Manager > Advanced Interview preparation - User asks AI help to take an Interview. AI takes an interview\n",
    "\n",
    "**Target Number of Turns (User + Assistant)** - 1-4\n",
    "\n",
    "**Use Case** - Designing a scoring system for technical interviews\n",
    "\n",
    "**Technical Topic** - Implementing a weighted scoring algorithm in Python\n",
    "\n",
    "**User Personality** - Analytical, Practical, and Confident\n"
   ]
  },
  {
   "cell_type": "markdown",
   "id": "ce28463d",
   "metadata": {},
   "source": [
    "# Conversation"
   ]
  },
  {
   "cell_type": "markdown",
   "id": "d18f6ccd",
   "metadata": {},
   "source": [
    "**User**\n"
   ]
  }
 ],
 "metadata": {},
 "nbformat": 4,
 "nbformat_minor": 5
}
