{
 "cells": [
  {
   "cell_type": "markdown",
   "id": "32ad957d",
   "metadata": {},
   "source": [
    "# Metadata\n",
    "\n",
    "**Occupation Topics** - E-Commerce Analyst > First Timer Learning - Learn to use some tool - infra\n",
    "\n",
    "**Target Number of Turns (User + Assistant)** - 1-4\n",
    "\n",
    "**Use Case** - Segmenting customers for targeted email campaigns\n",
    "\n",
    "**Technical Topic** - Using scikit-learn for clustering analysis\n",
    "\n",
    "**User Personality** - Confident and independent, but new to machine learning concepts\n"
   ]
  },
  {
   "cell_type": "markdown",
   "id": "c882f10d",
   "metadata": {},
   "source": [
    "# Conversation"
   ]
  },
  {
   "cell_type": "markdown",
   "id": "238cde91",
   "metadata": {},
   "source": [
    "**User**\n"
   ]
  }
 ],
 "metadata": {},
 "nbformat": 4,
 "nbformat_minor": 5
}
