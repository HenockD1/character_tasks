{
 "cells": [
  {
   "cell_type": "markdown",
   "id": "a63254b0",
   "metadata": {},
   "source": [
    "# Metadata\n",
    "\n",
    "**Occupation Topics** - Data Journalist > Expert Interview preparation - Explain areas where people usually make mistakes\n",
    "\n",
    "**Target Number of Turns (User + Assistant)** - 1-4\n",
    "\n",
    "**Use Case** - Creating a tutorial on avoiding bias in data visualization for a journalism seminar\n",
    "\n",
    "**Technical Topic** - Matplotlib and Seaborn best practices\n",
    "\n",
    "**User Personality** - Engaged, Confident, and Formal\n"
   ]
  },
  {
   "cell_type": "markdown",
   "id": "9d87cb66",
   "metadata": {},
   "source": [
    "# Conversation"
   ]
  },
  {
   "cell_type": "markdown",
   "id": "2b4dc66b",
   "metadata": {},
   "source": [
    "**User**\n"
   ]
  }
 ],
 "metadata": {},
 "nbformat": 4,
 "nbformat_minor": 5
}
