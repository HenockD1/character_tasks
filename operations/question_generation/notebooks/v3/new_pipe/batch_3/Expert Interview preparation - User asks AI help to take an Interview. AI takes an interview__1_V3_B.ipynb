{
 "cells": [
  {
   "cell_type": "markdown",
   "id": "28518c70",
   "metadata": {},
   "source": [
    "# Metadata\n",
    "\n",
    "**Occupation Topics** - Project Manager > Expert Interview preparation - User asks AI help to take an Interview. AI takes an interview\n",
    "\n",
    "**Target Number of Turns (User + Assistant)** - 3-7\n",
    "\n",
    "**Use Case** - Evaluating problem-solving skills in a live coding scenario\n",
    "\n",
    "**Technical Topic** - Real-time debugging of Python code\n",
    "\n",
    "**User Personality** - Engaged, practical, and collaborative\n"
   ]
  },
  {
   "cell_type": "markdown",
   "id": "36110777",
   "metadata": {},
   "source": [
    "# Conversation"
   ]
  },
  {
   "cell_type": "markdown",
   "id": "00c13430",
   "metadata": {},
   "source": [
    "**User**\n"
   ]
  }
 ],
 "metadata": {},
 "nbformat": 4,
 "nbformat_minor": 5
}
