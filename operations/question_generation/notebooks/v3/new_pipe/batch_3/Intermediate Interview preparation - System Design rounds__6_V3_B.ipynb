{
 "cells": [
  {
   "cell_type": "markdown",
   "id": "fa23ba07",
   "metadata": {},
   "source": [
    "# Metadata\n",
    "\n",
    "**Occupation Topics** - Cybersecurity Analyst > Intermediate Interview preparation - System Design rounds\n",
    "\n",
    "**Target Number of Turns (User + Assistant)** - 2-6\n",
    "\n",
    "**Use Case** - Automating the detection of phishing websites\n",
    "\n",
    "**Technical Topic** - Machine learning with scikit-learn for cybersecurity\n",
    "\n",
    "**User Personality** - Engaged, open-minded, and collaborative\n"
   ]
  },
  {
   "cell_type": "markdown",
   "id": "ec0a7027",
   "metadata": {},
   "source": [
    "# Conversation"
   ]
  },
  {
   "cell_type": "markdown",
   "id": "954bc956",
   "metadata": {},
   "source": [
    "**User**\n"
   ]
  }
 ],
 "metadata": {},
 "nbformat": 4,
 "nbformat_minor": 5
}
