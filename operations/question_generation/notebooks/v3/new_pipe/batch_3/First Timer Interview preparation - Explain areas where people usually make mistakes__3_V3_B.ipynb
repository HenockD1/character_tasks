{
 "cells": [
  {
   "cell_type": "markdown",
   "id": "e4c46494",
   "metadata": {},
   "source": [
    "# Metadata\n",
    "\n",
    "**Occupation Topics** - Python Developer > First Timer Interview preparation - Explain areas where people usually make mistakes\n",
    "\n",
    "**Target Number of Turns (User + Assistant)** - 1-4\n",
    "\n",
    "**Use Case** - Gaining insight into the nuances of Python syntax that are often overlooked during interviews\n",
    "\n",
    "**Technical Topic** - Python syntax best practices\n",
    "\n",
    "**User Personality** - Open-minded, engaged, and elaborate, interested in understanding the 'why' behind common syntax errors\n"
   ]
  },
  {
   "cell_type": "markdown",
   "id": "3898e7ae",
   "metadata": {},
   "source": [
    "# Conversation"
   ]
  },
  {
   "cell_type": "markdown",
   "id": "798e2cf1",
   "metadata": {},
   "source": [
    "**User**\n"
   ]
  }
 ],
 "metadata": {},
 "nbformat": 4,
 "nbformat_minor": 5
}
