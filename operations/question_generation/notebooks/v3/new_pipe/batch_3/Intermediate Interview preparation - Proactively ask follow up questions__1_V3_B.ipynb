{
 "cells": [
  {
   "cell_type": "markdown",
   "id": "1c2e30a3",
   "metadata": {},
   "source": [
    "# Metadata\n",
    "\n",
    "**Occupation Topics** - Web Developer > Intermediate Interview preparation - Proactively ask follow up questions\n",
    "\n",
    "**Target Number of Turns (User + Assistant)** - 1-5\n",
    "\n",
    "**Use Case** - Optimizing SQL queries for a dashboard with high data volume\n",
    "\n",
    "**Technical Topic** - SQL query optimization\n",
    "\n",
    "**User Personality** - Curious, confident, and practical. Enjoys diving into data challenges and is self-assured in their ability to find efficient solutions.\n"
   ]
  },
  {
   "cell_type": "markdown",
   "id": "7226ad96",
   "metadata": {},
   "source": [
    "# Conversation"
   ]
  },
  {
   "cell_type": "markdown",
   "id": "fee556cb",
   "metadata": {},
   "source": [
    "**User**\n"
   ]
  }
 ],
 "metadata": {},
 "nbformat": 4,
 "nbformat_minor": 5
}
