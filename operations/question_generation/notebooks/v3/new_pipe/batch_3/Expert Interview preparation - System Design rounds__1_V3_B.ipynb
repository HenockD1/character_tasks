{
 "cells": [
  {
   "cell_type": "markdown",
   "id": "85cd0988",
   "metadata": {},
   "source": [
    "# Metadata\n",
    "\n",
    "**Occupation Topics** - User Experience Researcher > Expert Interview preparation - System Design rounds\n",
    "\n",
    "**Target Number of Turns (User + Assistant)** - 1-4\n",
    "\n",
    "**Use Case** - Creating a mock interview simulation tool for UX researchers\n",
    "\n",
    "**Technical Topic** - Building a command-line interface (CLI) in Python with the Click library\n",
    "\n",
    "**User Personality** - Analytical, patient, and collaborative, with a penchant for detail-oriented tasks and a preference for teamwork to refine system design concepts.\n"
   ]
  },
  {
   "cell_type": "markdown",
   "id": "e28b338c",
   "metadata": {},
   "source": [
    "# Conversation"
   ]
  },
  {
   "cell_type": "markdown",
   "id": "bda32cdf",
   "metadata": {},
   "source": [
    "**User**\n"
   ]
  }
 ],
 "metadata": {},
 "nbformat": 4,
 "nbformat_minor": 5
}
