{
 "cells": [
  {
   "cell_type": "markdown",
   "id": "eff8f7ed",
   "metadata": {},
   "source": [
    "# Metadata\n",
    "\n",
    "**Occupation Topics** - Operations Manager > Expert Interview preparation - User asks AI help to take an Interview. AI takes an interview\n",
    "\n",
    "**Target Number of Turns (User + Assistant)** - 4-8\n",
    "\n",
    "**Use Case** - Developing a system to score interview responses\n",
    "\n",
    "**Technical Topic** - Natural Language Processing with NLTK in Python\n",
    "\n",
    "**User Personality** - Curious, Open-Minded, and Elaborate\n"
   ]
  },
  {
   "cell_type": "markdown",
   "id": "b8855d2e",
   "metadata": {},
   "source": [
    "# Conversation"
   ]
  },
  {
   "cell_type": "markdown",
   "id": "6da16191",
   "metadata": {},
   "source": [
    "**User**\n"
   ]
  }
 ],
 "metadata": {},
 "nbformat": 4,
 "nbformat_minor": 5
}
