{
 "cells": [
  {
   "cell_type": "markdown",
   "id": "68b9ffb4",
   "metadata": {},
   "source": [
    "# Metadata\n",
    "\n",
    "**Occupation Topics** - Data Scientist > Intermediate Interview preparation - User asks AI help to take an Interview. AI takes an interview\n",
    "\n",
    "**Target Number of Turns (User + Assistant)** - 1-4\n",
    "\n",
    "**Use Case** - Preparing for a data science interview by simulating a technical screening\n",
    "\n",
    "**Technical Topic** - Explaining the use of Pandas for data manipulation in a mock interview setting\n",
    "\n",
    "**User Personality** - Analytical, confident, and formal\n"
   ]
  },
  {
   "cell_type": "markdown",
   "id": "1edb1fc2",
   "metadata": {},
   "source": [
    "# Conversation"
   ]
  },
  {
   "cell_type": "markdown",
   "id": "f2aa7ed5",
   "metadata": {},
   "source": [
    "**User**\n"
   ]
  }
 ],
 "metadata": {},
 "nbformat": 4,
 "nbformat_minor": 5
}
