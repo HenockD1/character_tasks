{
 "cells": [
  {
   "cell_type": "markdown",
   "id": "0da55c8b",
   "metadata": {},
   "source": [
    "# Metadata\n",
    "\n",
    "**Occupation Topics** - Digital Content Strategist > Expert Interview preparation - Proactively ask follow up questions\n",
    "\n",
    "**Target Number of Turns (User + Assistant)** - 5-9\n",
    "\n",
    "**Use Case** - Developing a chatbot to simulate interview scenarios for digital content strategists\n",
    "\n",
    "**Technical Topic** - Chatbot development with Python's ChatterBot library\n",
    "\n",
    "**User Personality** - Confident, Engaged, and Concise\n"
   ]
  },
  {
   "cell_type": "markdown",
   "id": "ba9be1c9",
   "metadata": {},
   "source": [
    "# Conversation"
   ]
  },
  {
   "cell_type": "markdown",
   "id": "90d23a3b",
   "metadata": {},
   "source": [
    "**User**\n"
   ]
  }
 ],
 "metadata": {},
 "nbformat": 4,
 "nbformat_minor": 5
}
