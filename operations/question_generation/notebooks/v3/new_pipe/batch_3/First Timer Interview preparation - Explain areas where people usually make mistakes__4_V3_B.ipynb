{
 "cells": [
  {
   "cell_type": "markdown",
   "id": "322a24a5",
   "metadata": {},
   "source": [
    "# Metadata\n",
    "\n",
    "**Occupation Topics** - Mobile App Developer > First Timer Interview preparation - Explain areas where people usually make mistakes\n",
    "\n",
    "**Target Number of Turns (User + Assistant)** - 5-9\n",
    "\n",
    "**Use Case** - Preparing for a technical interview involving mobile app development\n",
    "\n",
    "**Technical Topic** - Common pitfalls in Android lifecycle management\n",
    "\n",
    "**User Personality** - Curious, engaged, and slightly hesitant as they are new to the field and eager to learn from others' mistakes\n"
   ]
  },
  {
   "cell_type": "markdown",
   "id": "34f02976",
   "metadata": {},
   "source": [
    "# Conversation"
   ]
  },
  {
   "cell_type": "markdown",
   "id": "5ff9c156",
   "metadata": {},
   "source": [
    "**User**\n"
   ]
  }
 ],
 "metadata": {},
 "nbformat": 4,
 "nbformat_minor": 5
}
