{
 "cells": [
  {
   "cell_type": "markdown",
   "id": "5efa3a3c",
   "metadata": {},
   "source": [
    "# Metadata\n",
    "\n",
    "**Occupation Topics** - Data Visualization Developer > Intermediate Interview preparation - User asks AI help to take an Interview. AI takes an interview\n",
    "\n",
    "**Target Number of Turns (User + Assistant)** - 1-4\n",
    "\n",
    "**Use Case** - Mock interview scenario where the user must demonstrate the ability to create interactive dashboards.\n",
    "\n",
    "**Technical Topic** - Building interactive dashboards using Dash by Plotly.\n",
    "\n",
    "**User Personality** - Engaged, collaborative, and elaborate. The user is fully involved in the learning process, enjoys working with others to improve their skills, and prefers to communicate in detail.\n"
   ]
  },
  {
   "cell_type": "markdown",
   "id": "b6e185bd",
   "metadata": {},
   "source": [
    "# Conversation"
   ]
  },
  {
   "cell_type": "markdown",
   "id": "4cb14059",
   "metadata": {},
   "source": [
    "**User**\n"
   ]
  }
 ],
 "metadata": {},
 "nbformat": 4,
 "nbformat_minor": 5
}
