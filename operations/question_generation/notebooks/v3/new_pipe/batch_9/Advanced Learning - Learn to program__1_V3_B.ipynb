{
 "cells": [
  {
   "cell_type": "markdown",
   "id": "f98716d4",
   "metadata": {},
   "source": [
    "# Metadata\n",
    "\n",
    "**Occupation Topics** - Educational Technologist > Advanced Learning - Learn to program\n",
    "\n",
    "**Target Number of Turns (User + Assistant)** - 1-4\n",
    "\n",
    "**Use Case** - Creating a progress tracking system for students learning Python\n",
    "\n",
    "**Technical Topic** - Utilizing Python's SQLite module for data management\n",
    "\n",
    "**User Personality** - Curious, practical, and confident\n"
   ]
  },
  {
   "cell_type": "markdown",
   "id": "2875920d",
   "metadata": {},
   "source": [
    "# Conversation"
   ]
  },
  {
   "cell_type": "markdown",
   "id": "facd5e00",
   "metadata": {},
   "source": [
    "**User**\n"
   ]
  }
 ],
 "metadata": {},
 "nbformat": 4,
 "nbformat_minor": 5
}
