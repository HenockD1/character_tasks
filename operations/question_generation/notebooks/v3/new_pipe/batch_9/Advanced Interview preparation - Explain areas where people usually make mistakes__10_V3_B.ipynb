{
 "cells": [
  {
   "cell_type": "markdown",
   "id": "65268cc8",
   "metadata": {},
   "source": [
    "# Metadata\n",
    "\n",
    "**Occupation Topics** - Natural Language Processing Engineer > Advanced Interview preparation - Explain areas where people usually make mistakes\n",
    "\n",
    "**Target Number of Turns (User + Assistant)** - 3-7\n",
    "\n",
    "**Use Case** - Optimizing resume for keyword matching\n",
    "\n",
    "**Technical Topic** - Resume parsing with spaCy\n",
    "\n",
    "**User Personality** - Curious, practical, and independent\n"
   ]
  },
  {
   "cell_type": "markdown",
   "id": "23801b8d",
   "metadata": {},
   "source": [
    "# Conversation"
   ]
  },
  {
   "cell_type": "markdown",
   "id": "46410221",
   "metadata": {},
   "source": [
    "**User**\n"
   ]
  }
 ],
 "metadata": {},
 "nbformat": 4,
 "nbformat_minor": 5
}
