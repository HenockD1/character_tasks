{
 "cells": [
  {
   "cell_type": "markdown",
   "id": "409220fa",
   "metadata": {},
   "source": [
    "# Metadata\n",
    "\n",
    "**Occupation Topics** - Front-End Developer > First Timer Interview preparation - Explain the problem step by step\n",
    "\n",
    "**Target Number of Turns (User + Assistant)** - 1-5\n",
    "\n",
    "**Use Case** - Optimizing website load time by minimizing assets\n",
    "\n",
    "**Technical Topic** - HTML and JavaScript Performance Best Practices\n",
    "\n",
    "**User Personality** - Practical, confident, and independent\n"
   ]
  },
  {
   "cell_type": "markdown",
   "id": "23cf3d6b",
   "metadata": {},
   "source": [
    "# Conversation"
   ]
  },
  {
   "cell_type": "markdown",
   "id": "1a9d7f72",
   "metadata": {},
   "source": [
    "**User**\n"
   ]
  }
 ],
 "metadata": {},
 "nbformat": 4,
 "nbformat_minor": 5
}
