{
 "cells": [
  {
   "cell_type": "markdown",
   "id": "da7549bb",
   "metadata": {},
   "source": [
    "# Metadata\n",
    "\n",
    "**Occupation Topics** - Supply Chain Manager > Expert Interview preparation - Proactively ask follow up questions\n",
    "\n",
    "**Target Number of Turns (User + Assistant)** - 1-4\n",
    "\n",
    "**Use Case** - Optimizing route planning for logistics\n",
    "\n",
    "**Technical Topic** - Geospatial analysis with GeoPandas\n",
    "\n",
    "**User Personality** - Curious, Practical, and Independent\n"
   ]
  },
  {
   "cell_type": "markdown",
   "id": "209ed4bd",
   "metadata": {},
   "source": [
    "# Conversation"
   ]
  },
  {
   "cell_type": "markdown",
   "id": "0c77ff48",
   "metadata": {},
   "source": [
    "**User**\n"
   ]
  }
 ],
 "metadata": {},
 "nbformat": 4,
 "nbformat_minor": 5
}
