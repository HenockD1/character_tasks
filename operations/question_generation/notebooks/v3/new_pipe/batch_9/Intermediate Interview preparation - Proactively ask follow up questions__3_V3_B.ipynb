{
 "cells": [
  {
   "cell_type": "markdown",
   "id": "d7cc9ef4",
   "metadata": {},
   "source": [
    "# Metadata\n",
    "\n",
    "**Occupation Topics** - User Experience Researcher > Intermediate Interview preparation - Proactively ask follow up questions\n",
    "\n",
    "**Target Number of Turns (User + Assistant)** - 2-6\n",
    "\n",
    "**Use Case** - Developing a real-time feedback system for interview practice\n",
    "\n",
    "**Technical Topic** - Implementing WebSocket communication in a Django application\n",
    "\n",
    "**User Personality** - Practical, confident, and somewhat impatient\n"
   ]
  },
  {
   "cell_type": "markdown",
   "id": "8e0b5edb",
   "metadata": {},
   "source": [
    "# Conversation"
   ]
  },
  {
   "cell_type": "markdown",
   "id": "fad1b8fc",
   "metadata": {},
   "source": [
    "**User**\n"
   ]
  }
 ],
 "metadata": {},
 "nbformat": 4,
 "nbformat_minor": 5
}
