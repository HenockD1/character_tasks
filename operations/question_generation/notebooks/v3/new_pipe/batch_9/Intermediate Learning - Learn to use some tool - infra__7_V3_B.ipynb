{
 "cells": [
  {
   "cell_type": "markdown",
   "id": "3869bce2",
   "metadata": {},
   "source": [
    "# Metadata\n",
    "\n",
    "**Occupation Topics** - Product Manager > Intermediate Learning - Learn to use some tool - infra\n",
    "\n",
    "**Target Number of Turns (User + Assistant)** - 2-6\n",
    "\n",
    "**Use Case** - Optimizing user feedback collection through in-app surveys\n",
    "\n",
    "**Technical Topic** - Database management with SQLAlchemy\n",
    "\n",
    "**User Personality** - Engaged, Collaborative, and Elaborate\n"
   ]
  },
  {
   "cell_type": "markdown",
   "id": "18463a5c",
   "metadata": {},
   "source": [
    "# Conversation"
   ]
  },
  {
   "cell_type": "markdown",
   "id": "41fe077e",
   "metadata": {},
   "source": [
    "**User**\n"
   ]
  }
 ],
 "metadata": {},
 "nbformat": 4,
 "nbformat_minor": 5
}
