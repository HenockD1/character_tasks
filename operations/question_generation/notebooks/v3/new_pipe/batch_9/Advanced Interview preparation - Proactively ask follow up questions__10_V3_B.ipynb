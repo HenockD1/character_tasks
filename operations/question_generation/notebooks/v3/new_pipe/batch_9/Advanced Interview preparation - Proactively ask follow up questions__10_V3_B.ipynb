{
 "cells": [
  {
   "cell_type": "markdown",
   "id": "862c1bd8",
   "metadata": {},
   "source": [
    "# Metadata\n",
    "\n",
    "**Occupation Topics** - E-Commerce Analyst > Advanced Interview preparation - Proactively ask follow up questions\n",
    "\n",
    "**Target Number of Turns (User + Assistant)** - 1-4\n",
    "\n",
    "**Use Case** - Predicting e-commerce sales trends\n",
    "\n",
    "**Technical Topic** - Time series forecasting with Prophet\n",
    "\n",
    "**User Personality** - Open-minded, patient, and elaborate\n"
   ]
  },
  {
   "cell_type": "markdown",
   "id": "34aa35a2",
   "metadata": {},
   "source": [
    "# Conversation"
   ]
  },
  {
   "cell_type": "markdown",
   "id": "046e1e67",
   "metadata": {},
   "source": [
    "**User**\n"
   ]
  }
 ],
 "metadata": {},
 "nbformat": 4,
 "nbformat_minor": 5
}
