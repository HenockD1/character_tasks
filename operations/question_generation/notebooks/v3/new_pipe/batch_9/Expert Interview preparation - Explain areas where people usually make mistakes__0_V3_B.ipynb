{
 "cells": [
  {
   "cell_type": "markdown",
   "id": "f3c6440a",
   "metadata": {},
   "source": [
    "# Metadata\n",
    "\n",
    "**Occupation Topics** - Data Analytics Consultant > Expert Interview preparation - Explain areas where people usually make mistakes\n",
    "\n",
    "**Target Number of Turns (User + Assistant)** - 2-6\n",
    "\n",
    "**Use Case** - Visualizing complex data relationships\n",
    "\n",
    "**Technical Topic** - Python's Matplotlib and Seaborn libraries\n",
    "\n",
    "**User Personality** - Curious, open-minded, and elaborate. Enjoys exploring new ways of representing data and communicates ideas in detail.\n"
   ]
  },
  {
   "cell_type": "markdown",
   "id": "a84b0918",
   "metadata": {},
   "source": [
    "# Conversation"
   ]
  },
  {
   "cell_type": "markdown",
   "id": "8501fd63",
   "metadata": {},
   "source": [
    "**User**\n"
   ]
  }
 ],
 "metadata": {},
 "nbformat": 4,
 "nbformat_minor": 5
}
