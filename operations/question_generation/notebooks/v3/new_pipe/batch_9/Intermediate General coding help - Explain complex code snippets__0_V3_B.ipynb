{
 "cells": [
  {
   "cell_type": "markdown",
   "id": "95de785b",
   "metadata": {},
   "source": [
    "# Metadata\n",
    "\n",
    "**Occupation Topics** - Bioinformatics Specialist > Intermediate General coding help - Explain complex code snippets\n",
    "\n",
    "**Target Number of Turns (User + Assistant)** - 1-4\n",
    "\n",
    "**Use Case** - Automating the annotation of genetic variants\n",
    "\n",
    "**Technical Topic** - Using Biopython to interface with NCBI databases\n",
    "\n",
    "**User Personality** - Curious, open-minded, and independent. Enjoys exploring new tools and solutions on their own but is receptive to new ideas and methods.\n"
   ]
  },
  {
   "cell_type": "markdown",
   "id": "a3fb32d8",
   "metadata": {},
   "source": [
    "# Conversation"
   ]
  },
  {
   "cell_type": "markdown",
   "id": "f15f3647",
   "metadata": {},
   "source": [
    "**User**\n"
   ]
  }
 ],
 "metadata": {},
 "nbformat": 4,
 "nbformat_minor": 5
}
