{
 "cells": [
  {
   "cell_type": "markdown",
   "id": "6ffd8cdb",
   "metadata": {},
   "source": [
    "# Metadata\n",
    "\n",
    "**Occupation Topics** - Data Journalist > Intermediate Interview preparation - Explain the problem step by step\n",
    "\n",
    "**Target Number of Turns (User + Assistant)** - 3-7\n",
    "\n",
    "**Use Case** - Analyzing social media trends to predict election outcomes for an interview segment\n",
    "\n",
    "**Technical Topic** - Sentiment analysis with Python's NLTK library\n",
    "\n",
    "**User Personality** - Analytical, focused, and open-minded\n"
   ]
  },
  {
   "cell_type": "markdown",
   "id": "b69b9998",
   "metadata": {},
   "source": [
    "# Conversation"
   ]
  },
  {
   "cell_type": "markdown",
   "id": "ec4ce793",
   "metadata": {},
   "source": [
    "**User**\n"
   ]
  }
 ],
 "metadata": {},
 "nbformat": 4,
 "nbformat_minor": 5
}
