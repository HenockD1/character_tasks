{
 "cells": [
  {
   "cell_type": "markdown",
   "id": "b84d3ffe",
   "metadata": {},
   "source": [
    "# Metadata\n",
    "\n",
    "**Occupation Topics** - Data Analyst > Expert Interview preparation - Explain the problem step by step\n",
    "\n",
    "**Target Number of Turns (User + Assistant)** - 1-4\n",
    "\n",
    "**Use Case** - Optimizing SQL queries for data analysis during technical interviews\n",
    "\n",
    "**Technical Topic** - SQL query performance tuning\n",
    "\n",
    "**User Personality** - Analytical, patient, and formal\n"
   ]
  },
  {
   "cell_type": "markdown",
   "id": "7ce425d3",
   "metadata": {},
   "source": [
    "# Conversation"
   ]
  },
  {
   "cell_type": "markdown",
   "id": "99d7e10a",
   "metadata": {},
   "source": [
    "**User**\n"
   ]
  }
 ],
 "metadata": {},
 "nbformat": 4,
 "nbformat_minor": 5
}
