{
 "cells": [
  {
   "cell_type": "markdown",
   "id": "12c26470",
   "metadata": {},
   "source": [
    "# Metadata\n",
    "\n",
    "**Occupation Topics** - Data Journalist > Intermediate Interview preparation - Explain the problem step by step\n",
    "\n",
    "**Target Number of Turns (User + Assistant)** - 1-4\n",
    "\n",
    "**Use Case** - Interviewing a data scientist and needing to understand the basics of machine learning to ask informed questions\n",
    "\n",
    "**Technical Topic** - Fundamentals of Scikit-learn for machine learning in Python\n",
    "\n",
    "**User Personality** - Engaged, concise, and practical\n"
   ]
  },
  {
   "cell_type": "markdown",
   "id": "716e6ed6",
   "metadata": {},
   "source": [
    "# Conversation"
   ]
  },
  {
   "cell_type": "markdown",
   "id": "83b179f0",
   "metadata": {},
   "source": [
    "**User**\n"
   ]
  }
 ],
 "metadata": {},
 "nbformat": 4,
 "nbformat_minor": 5
}
