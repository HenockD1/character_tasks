{
 "cells": [
  {
   "cell_type": "markdown",
   "id": "f684cb69",
   "metadata": {},
   "source": [
    "# Metadata\n",
    "\n",
    "**Occupation Topics** - Web Developer > Intermediate Interview preparation - System Design rounds\n",
    "\n",
    "**Target Number of Turns (User + Assistant)** - 1-4\n",
    "\n",
    "**Use Case** - Creating a real-time notification system for a messaging app\n",
    "\n",
    "**Technical Topic** - Leveraging WebSockets with Django Channels\n",
    "\n",
    "**User Personality** - Confident, Collaborative, and Concise\n"
   ]
  },
  {
   "cell_type": "markdown",
   "id": "94bf4487",
   "metadata": {},
   "source": [
    "# Conversation"
   ]
  },
  {
   "cell_type": "markdown",
   "id": "d055bfc7",
   "metadata": {},
   "source": [
    "**User**\n"
   ]
  }
 ],
 "metadata": {},
 "nbformat": 4,
 "nbformat_minor": 5
}
