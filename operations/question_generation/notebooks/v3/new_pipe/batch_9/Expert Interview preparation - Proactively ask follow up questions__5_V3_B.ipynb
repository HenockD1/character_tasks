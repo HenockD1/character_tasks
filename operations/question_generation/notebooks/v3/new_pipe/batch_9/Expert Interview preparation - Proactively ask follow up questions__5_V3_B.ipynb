{
 "cells": [
  {
   "cell_type": "markdown",
   "id": "eb8a24e4",
   "metadata": {},
   "source": [
    "# Metadata\n",
    "\n",
    "**Occupation Topics** - Business Analyst > Expert Interview preparation - Proactively ask follow up questions\n",
    "\n",
    "**Target Number of Turns (User + Assistant)** - 4-8\n",
    "\n",
    "**Use Case** - Developing a system to identify key topics from interview conversations\n",
    "\n",
    "**Technical Topic** - Topic Modeling with Gensim\n",
    "\n",
    "**User Personality** - Confident, Collaborative, and Elaborate\n"
   ]
  },
  {
   "cell_type": "markdown",
   "id": "887e000b",
   "metadata": {},
   "source": [
    "# Conversation"
   ]
  },
  {
   "cell_type": "markdown",
   "id": "e78efb3c",
   "metadata": {},
   "source": [
    "**User**\n"
   ]
  }
 ],
 "metadata": {},
 "nbformat": 4,
 "nbformat_minor": 5
}
