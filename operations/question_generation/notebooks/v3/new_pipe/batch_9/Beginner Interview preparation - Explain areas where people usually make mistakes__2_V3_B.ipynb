{
 "cells": [
  {
   "cell_type": "markdown",
   "id": "c775ff14",
   "metadata": {},
   "source": [
    "# Metadata\n",
    "\n",
    "**Occupation Topics** - Data Engineer > Beginner Interview preparation - Explain areas where people usually make mistakes\n",
    "\n",
    "**Target Number of Turns (User + Assistant)** - 3-7\n",
    "\n",
    "**Use Case** - Understanding the importance of data modeling in interviews and how to approach it\n",
    "\n",
    "**Technical Topic** - Data modeling best practices\n",
    "\n",
    "**User Personality** - Analytical and open-minded, looking for practical advice to apply theoretical concepts, prefers a collaborative approach to learning\n"
   ]
  },
  {
   "cell_type": "markdown",
   "id": "d1dae25d",
   "metadata": {},
   "source": [
    "# Conversation"
   ]
  },
  {
   "cell_type": "markdown",
   "id": "cd29ef46",
   "metadata": {},
   "source": [
    "**User**\n"
   ]
  }
 ],
 "metadata": {},
 "nbformat": 4,
 "nbformat_minor": 5
}
