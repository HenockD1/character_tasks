{
 "cells": [
  {
   "cell_type": "markdown",
   "id": "43760f42",
   "metadata": {},
   "source": [
    "# Metadata\n",
    "\n",
    "**Occupation Topics** - User Experience Researcher > Expert Interview preparation - User asks AI help to take an Interview. AI takes an interview\n",
    "\n",
    "**Target Number of Turns (User + Assistant)** - 1-4\n",
    "\n",
    "**Use Case** - Creating a mock interview simulation\n",
    "\n",
    "**Technical Topic** - Natural Language Processing with Python's NLTK library\n",
    "\n",
    "**User Personality** - Analytical, Confident, and Formal\n"
   ]
  },
  {
   "cell_type": "markdown",
   "id": "e6ced6bd",
   "metadata": {},
   "source": [
    "# Conversation"
   ]
  },
  {
   "cell_type": "markdown",
   "id": "02258bfe",
   "metadata": {},
   "source": [
    "**User**\n"
   ]
  }
 ],
 "metadata": {},
 "nbformat": 4,
 "nbformat_minor": 5
}
