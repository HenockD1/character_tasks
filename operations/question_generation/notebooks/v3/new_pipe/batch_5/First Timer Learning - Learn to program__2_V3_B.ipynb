{
 "cells": [
  {
   "cell_type": "markdown",
   "id": "b6d83c4f",
   "metadata": {},
   "source": [
    "# Metadata\n",
    "\n",
    "**Occupation Topics** - Marketing Manager > First Timer Learning - Learn to program\n",
    "\n",
    "**Target Number of Turns (User + Assistant)** - 1-5\n",
    "\n",
    "**Use Case** - Analyzing marketing campaign performance\n",
    "\n",
    "**Technical Topic** - Basic data analysis with pandas\n",
    "\n",
    "**User Personality** - Analytical, focused, and confident\n"
   ]
  },
  {
   "cell_type": "markdown",
   "id": "20c1f7d0",
   "metadata": {},
   "source": [
    "# Conversation"
   ]
  },
  {
   "cell_type": "markdown",
   "id": "aa9ff3c0",
   "metadata": {},
   "source": [
    "**User**\n"
   ]
  }
 ],
 "metadata": {},
 "nbformat": 4,
 "nbformat_minor": 5
}
