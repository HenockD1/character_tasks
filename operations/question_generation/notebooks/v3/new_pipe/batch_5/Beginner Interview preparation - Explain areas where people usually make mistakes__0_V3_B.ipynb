{
 "cells": [
  {
   "cell_type": "markdown",
   "id": "1cca2a73",
   "metadata": {},
   "source": [
    "# Metadata\n",
    "\n",
    "**Occupation Topics** - Natural Language Processing Engineer > Beginner Interview preparation - Explain areas where people usually make mistakes\n",
    "\n",
    "**Target Number of Turns (User + Assistant)** - 4-8\n",
    "\n",
    "**Use Case** - Optimizing resume parsing for NLP positions\n",
    "\n",
    "**Technical Topic** - Resume keyword extraction using Python's Gensim library\n",
    "\n",
    "**User Personality** - Practical, confident, and somewhat impatient\n"
   ]
  },
  {
   "cell_type": "markdown",
   "id": "a9fccf01",
   "metadata": {},
   "source": [
    "# Conversation"
   ]
  },
  {
   "cell_type": "markdown",
   "id": "ab1e448d",
   "metadata": {},
   "source": [
    "**User**\n"
   ]
  }
 ],
 "metadata": {},
 "nbformat": 4,
 "nbformat_minor": 5
}
