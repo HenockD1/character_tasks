{
 "cells": [
  {
   "cell_type": "markdown",
   "id": "229e040a",
   "metadata": {},
   "source": [
    "# Metadata\n",
    "\n",
    "**Occupation Topics** - Mobile App Developer > Intermediate Interview preparation - Explain areas where people usually make mistakes\n",
    "\n",
    "**Target Number of Turns (User + Assistant)** - 2-6\n",
    "\n",
    "**Use Case** - Improving the testability of mobile app codebase\n",
    "\n",
    "**Technical Topic** - Writing testable code in Kotlin using dependency injection with Dagger 2\n",
    "\n",
    "**User Personality** - Practical, confident, and independent. Values solutions that can be directly applied to work and is self-assured in their ability to implement complex concepts without much external help.\n"
   ]
  },
  {
   "cell_type": "markdown",
   "id": "27836132",
   "metadata": {},
   "source": [
    "# Conversation"
   ]
  },
  {
   "cell_type": "markdown",
   "id": "8d14df27",
   "metadata": {},
   "source": [
    "**User**\n"
   ]
  }
 ],
 "metadata": {},
 "nbformat": 4,
 "nbformat_minor": 5
}
