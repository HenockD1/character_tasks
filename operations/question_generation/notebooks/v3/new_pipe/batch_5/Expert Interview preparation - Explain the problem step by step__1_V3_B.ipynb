{
 "cells": [
  {
   "cell_type": "markdown",
   "id": "91a183fc",
   "metadata": {},
   "source": [
    "# Metadata\n",
    "\n",
    "**Occupation Topics** - Data Journalist > Expert Interview preparation - Explain the problem step by step\n",
    "\n",
    "**Target Number of Turns (User + Assistant)** - 1-4\n",
    "\n",
    "**Use Case** - Analyzing social media data to understand public sentiment before an election\n",
    "\n",
    "**Technical Topic** - Sentiment analysis using Python's NLTK library\n",
    "\n",
    "**User Personality** - Engaged, practical, and independent. Highly focused on the impact of their work on public understanding, prefers hands-on approaches to problem-solving, and often works solo to craft compelling narratives.\n"
   ]
  },
  {
   "cell_type": "markdown",
   "id": "05a7a017",
   "metadata": {},
   "source": [
    "# Conversation"
   ]
  },
  {
   "cell_type": "markdown",
   "id": "c88bc80c",
   "metadata": {},
   "source": [
    "**User**\n"
   ]
  }
 ],
 "metadata": {},
 "nbformat": 4,
 "nbformat_minor": 5
}
