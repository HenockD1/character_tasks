{
 "cells": [
  {
   "cell_type": "markdown",
   "id": "6ad37e3a",
   "metadata": {},
   "source": [
    "# Metadata\n",
    "\n",
    "**Occupation Topics** - Academic Researcher > Intermediate Basic scripting - Write simple code in Javascript\n",
    "\n",
    "**Target Number of Turns (User + Assistant)** - 1-4\n",
    "\n",
    "**Use Case** - Creating a dynamic survey form that adapts to previous answers\n",
    "\n",
    "**Technical Topic** - JavaScript Promises and Async-Await\n",
    "\n",
    "**User Personality** - Analytical, Patient, and Formal\n"
   ]
  },
  {
   "cell_type": "markdown",
   "id": "70860082",
   "metadata": {},
   "source": [
    "# Conversation"
   ]
  },
  {
   "cell_type": "markdown",
   "id": "c25751b7",
   "metadata": {},
   "source": [
    "**User**\n"
   ]
  }
 ],
 "metadata": {},
 "nbformat": 4,
 "nbformat_minor": 5
}
