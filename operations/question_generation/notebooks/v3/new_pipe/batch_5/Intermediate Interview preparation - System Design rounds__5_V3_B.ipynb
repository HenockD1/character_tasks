{
 "cells": [
  {
   "cell_type": "markdown",
   "id": "e7d46401",
   "metadata": {},
   "source": [
    "# Metadata\n",
    "\n",
    "**Occupation Topics** - Front-End Developer > Intermediate Interview preparation - System Design rounds\n",
    "\n",
    "**Target Number of Turns (User + Assistant)** - 1-4\n",
    "\n",
    "**Use Case** - Improving the load time of a media-rich portfolio website\n",
    "\n",
    "**Technical Topic** - JavaScript Performance Optimization\n",
    "\n",
    "**User Personality** - Curious, practical, and somewhat impatient. Eager to learn new optimization techniques but also wants to see immediate improvements in website performance.\n"
   ]
  },
  {
   "cell_type": "markdown",
   "id": "cac80416",
   "metadata": {},
   "source": [
    "# Conversation"
   ]
  },
  {
   "cell_type": "markdown",
   "id": "f0760a24",
   "metadata": {},
   "source": [
    "**User**\n"
   ]
  }
 ],
 "metadata": {},
 "nbformat": 4,
 "nbformat_minor": 5
}
