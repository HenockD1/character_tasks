{
 "cells": [
  {
   "cell_type": "markdown",
   "id": "f927f931",
   "metadata": {},
   "source": [
    "# Metadata\n",
    "\n",
    "**Occupation Topics** - Python Content Creator (Technical Writing-Tutorials) > First Timer Interview preparation - Proactively ask follow up questions\n",
    "\n",
    "**Target Number of Turns (User + Assistant)** - 3-7\n",
    "\n",
    "**Use Case** - Creating a beginner-friendly guide on how to set up a Python development environment\n",
    "\n",
    "**Technical Topic** - Python environment setup\n",
    "\n",
    "**User Personality** - Analytical, patient, and elaborate\n"
   ]
  },
  {
   "cell_type": "markdown",
   "id": "0035dc3d",
   "metadata": {},
   "source": [
    "# Conversation"
   ]
  },
  {
   "cell_type": "markdown",
   "id": "d7800081",
   "metadata": {},
   "source": [
    "**User**\n"
   ]
  }
 ],
 "metadata": {},
 "nbformat": 4,
 "nbformat_minor": 5
}
