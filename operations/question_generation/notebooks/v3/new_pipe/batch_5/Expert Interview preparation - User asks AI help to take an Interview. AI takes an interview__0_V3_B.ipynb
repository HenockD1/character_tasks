{
 "cells": [
  {
   "cell_type": "markdown",
   "id": "f2c33c69",
   "metadata": {},
   "source": [
    "# Metadata\n",
    "\n",
    "**Occupation Topics** - Data Analyst > Expert Interview preparation - User asks AI help to take an Interview. AI takes an interview\n",
    "\n",
    "**Target Number of Turns (User + Assistant)** - 1-4\n",
    "\n",
    "**Use Case** - Simulating a technical interview scenario where the candidate is asked to analyze a dataset for insights\n",
    "\n",
    "**Technical Topic** - Pandas DataFrame manipulation and data visualization with Matplotlib\n",
    "\n",
    "**User Personality** - Analytical, confident, and formal\n"
   ]
  },
  {
   "cell_type": "markdown",
   "id": "6350ec69",
   "metadata": {},
   "source": [
    "# Conversation"
   ]
  },
  {
   "cell_type": "markdown",
   "id": "e4b59721",
   "metadata": {},
   "source": [
    "**User**\n"
   ]
  }
 ],
 "metadata": {},
 "nbformat": 4,
 "nbformat_minor": 5
}
