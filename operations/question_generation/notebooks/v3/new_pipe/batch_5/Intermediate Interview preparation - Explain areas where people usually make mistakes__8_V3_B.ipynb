{
 "cells": [
  {
   "cell_type": "markdown",
   "id": "33bf933d",
   "metadata": {},
   "source": [
    "# Metadata\n",
    "\n",
    "**Occupation Topics** - Product Manager > Intermediate Interview preparation - Explain areas where people usually make mistakes\n",
    "\n",
    "**Target Number of Turns (User + Assistant)** - 4-8\n",
    "\n",
    "**Use Case** - Automating the collection of interview feedback\n",
    "\n",
    "**Technical Topic** - Building a feedback aggregation tool using Python's pandas library\n",
    "\n",
    "**User Personality** - Curious, Patient, and Collaborative\n"
   ]
  },
  {
   "cell_type": "markdown",
   "id": "2e022c7e",
   "metadata": {},
   "source": [
    "# Conversation"
   ]
  },
  {
   "cell_type": "markdown",
   "id": "50ecb656",
   "metadata": {},
   "source": [
    "**User**\n"
   ]
  }
 ],
 "metadata": {},
 "nbformat": 4,
 "nbformat_minor": 5
}
