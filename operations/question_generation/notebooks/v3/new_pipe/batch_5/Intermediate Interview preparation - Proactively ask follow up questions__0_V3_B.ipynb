{
 "cells": [
  {
   "cell_type": "markdown",
   "id": "8d67fd1e",
   "metadata": {},
   "source": [
    "# Metadata\n",
    "\n",
    "**Occupation Topics** - Academic Researcher > Intermediate Interview preparation - Proactively ask follow up questions\n",
    "\n",
    "**Target Number of Turns (User + Assistant)** - 2-6\n",
    "\n",
    "**Use Case** - Evaluating interview readiness with a custom quiz application\n",
    "\n",
    "**Technical Topic** - Building a quiz app in Python with Tkinter for GUI\n",
    "\n",
    "**User Personality** - Engaged, Open-Minded, and Collaborative\n"
   ]
  },
  {
   "cell_type": "markdown",
   "id": "e6431561",
   "metadata": {},
   "source": [
    "# Conversation"
   ]
  },
  {
   "cell_type": "markdown",
   "id": "980c466d",
   "metadata": {},
   "source": [
    "**User**\n"
   ]
  }
 ],
 "metadata": {},
 "nbformat": 4,
 "nbformat_minor": 5
}
