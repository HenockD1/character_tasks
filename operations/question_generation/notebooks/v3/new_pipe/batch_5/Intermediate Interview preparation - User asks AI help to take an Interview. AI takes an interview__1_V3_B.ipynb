{
 "cells": [
  {
   "cell_type": "markdown",
   "id": "0dd9d393",
   "metadata": {},
   "source": [
    "# Metadata\n",
    "\n",
    "**Occupation Topics** - E-Commerce Analyst > Intermediate Interview preparation - User asks AI help to take an Interview. AI takes an interview\n",
    "\n",
    "**Target Number of Turns (User + Assistant)** - 2-6\n",
    "\n",
    "**Use Case** - Preparing for a technical interview where the focus is on data analysis within an e-commerce platform.\n",
    "\n",
    "**Technical Topic** - Writing a Python script to analyze customer purchase patterns using pandas.\n",
    "\n",
    "**User Personality** - Analytical, curious, and somewhat formal in their approach to learning and problem-solving.\n"
   ]
  },
  {
   "cell_type": "markdown",
   "id": "289d1bcf",
   "metadata": {},
   "source": [
    "# Conversation"
   ]
  },
  {
   "cell_type": "markdown",
   "id": "5eed99c8",
   "metadata": {},
   "source": [
    "**User**\n"
   ]
  }
 ],
 "metadata": {},
 "nbformat": 4,
 "nbformat_minor": 5
}
