{
 "cells": [
  {
   "cell_type": "markdown",
   "id": "66d82ea9",
   "metadata": {},
   "source": [
    "# Metadata\n",
    "\n",
    "**Occupation Topics** - Natural Language Processing Engineer > Expert Interview preparation - Explain areas where people usually make mistakes\n",
    "\n",
    "**Target Number of Turns (User + Assistant)** - 1-5\n",
    "\n",
    "**Use Case** - Identifying pitfalls in NLP project presentations\n",
    "\n",
    "**Technical Topic** - Best practices for data preprocessing in NLP using spaCy\n",
    "\n",
    "**User Personality** - Curious, Elaborate, and Patient\n"
   ]
  },
  {
   "cell_type": "markdown",
   "id": "2a843cf5",
   "metadata": {},
   "source": [
    "# Conversation"
   ]
  },
  {
   "cell_type": "markdown",
   "id": "05442621",
   "metadata": {},
   "source": [
    "**User**\n"
   ]
  }
 ],
 "metadata": {},
 "nbformat": 4,
 "nbformat_minor": 5
}
