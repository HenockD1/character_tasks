{
 "cells": [
  {
   "cell_type": "markdown",
   "id": "934aa416",
   "metadata": {},
   "source": [
    "# Metadata\n",
    "\n",
    "**Occupation Topics** - Product Manager > Intermediate Interview preparation - System Design rounds\n",
    "\n",
    "**Target Number of Turns (User + Assistant)** - 1-4\n",
    "\n",
    "**Use Case** - Evaluating trade-offs between different database systems for a new feature\n",
    "\n",
    "**Technical Topic** - Database comparison (SQL vs. NoSQL)\n",
    "\n",
    "**User Personality** - Curious, open-minded, and practical\n"
   ]
  },
  {
   "cell_type": "markdown",
   "id": "06c9f83e",
   "metadata": {},
   "source": [
    "# Conversation"
   ]
  },
  {
   "cell_type": "markdown",
   "id": "920ec166",
   "metadata": {},
   "source": [
    "**User**\n"
   ]
  }
 ],
 "metadata": {},
 "nbformat": 4,
 "nbformat_minor": 5
}
