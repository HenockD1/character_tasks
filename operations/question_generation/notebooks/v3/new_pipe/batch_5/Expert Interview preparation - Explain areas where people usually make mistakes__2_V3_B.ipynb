{
 "cells": [
  {
   "cell_type": "markdown",
   "id": "2f5c4df4",
   "metadata": {},
   "source": [
    "# Metadata\n",
    "\n",
    "**Occupation Topics** - Data Analyst > Expert Interview preparation - Explain areas where people usually make mistakes\n",
    "\n",
    "**Target Number of Turns (User + Assistant)** - 1-5\n",
    "\n",
    "**Use Case** - Visualizing complex data relationships to identify trends\n",
    "\n",
    "**Technical Topic** - Creating interactive data visualizations with Python's Bokeh library\n",
    "\n",
    "**User Personality** - Curious, open-minded, and elaborate. Enjoys exploring new ways of representing data and is not afraid to dive into detailed discussions about visualization techniques.\n"
   ]
  },
  {
   "cell_type": "markdown",
   "id": "9a3ee4b8",
   "metadata": {},
   "source": [
    "# Conversation"
   ]
  },
  {
   "cell_type": "markdown",
   "id": "d19fbcf3",
   "metadata": {},
   "source": [
    "**User**\n"
   ]
  }
 ],
 "metadata": {},
 "nbformat": 4,
 "nbformat_minor": 5
}
