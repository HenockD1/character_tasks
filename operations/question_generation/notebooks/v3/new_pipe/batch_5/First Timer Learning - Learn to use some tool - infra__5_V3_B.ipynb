{
 "cells": [
  {
   "cell_type": "markdown",
   "id": "5744b213",
   "metadata": {},
   "source": [
    "# Metadata\n",
    "\n",
    "**Occupation Topics** - Data Analytics Consultant > First Timer Learning - Learn to use some tool - infra\n",
    "\n",
    "**Target Number of Turns (User + Assistant)** - 1-4\n",
    "\n",
    "**Use Case** - Predicting sales trends for the upcoming quarter\n",
    "\n",
    "**Technical Topic** - Time series forecasting with Python's Prophet library\n",
    "\n",
    "**User Personality** - Analytical, practical, and confident\n"
   ]
  },
  {
   "cell_type": "markdown",
   "id": "d49e6c45",
   "metadata": {},
   "source": [
    "# Conversation"
   ]
  },
  {
   "cell_type": "markdown",
   "id": "4abf65b2",
   "metadata": {},
   "source": [
    "**User**\n"
   ]
  }
 ],
 "metadata": {},
 "nbformat": 4,
 "nbformat_minor": 5
}
