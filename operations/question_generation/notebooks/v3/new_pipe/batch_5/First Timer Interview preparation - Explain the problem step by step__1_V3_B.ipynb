{
 "cells": [
  {
   "cell_type": "markdown",
   "id": "126815c7",
   "metadata": {},
   "source": [
    "# Metadata\n",
    "\n",
    "**Occupation Topics** - Front-End Developer > First Timer Interview preparation - Explain the problem step by step\n",
    "\n",
    "**Target Number of Turns (User + Assistant)** - 1-4\n",
    "\n",
    "**Use Case** - Creating a responsive navigation menu for a portfolio website\n",
    "\n",
    "**Technical Topic** - CSS Flexbox and Media Queries\n",
    "\n",
    "**User Personality** - Curious, engaged, and informal\n"
   ]
  },
  {
   "cell_type": "markdown",
   "id": "1c83a43e",
   "metadata": {},
   "source": [
    "# Conversation"
   ]
  },
  {
   "cell_type": "markdown",
   "id": "1e620459",
   "metadata": {},
   "source": [
    "**User**\n"
   ]
  }
 ],
 "metadata": {},
 "nbformat": 4,
 "nbformat_minor": 5
}
