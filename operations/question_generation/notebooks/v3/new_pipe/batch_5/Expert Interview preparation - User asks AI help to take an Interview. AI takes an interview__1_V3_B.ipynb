{
 "cells": [
  {
   "cell_type": "markdown",
   "id": "f2c752b0",
   "metadata": {},
   "source": [
    "# Metadata\n",
    "\n",
    "**Occupation Topics** - Web Developer > Expert Interview preparation - User asks AI help to take an Interview. AI takes an interview\n",
    "\n",
    "**Target Number of Turns (User + Assistant)** - 1-5\n",
    "\n",
    "**Use Case** - Creating a mock interview question where the candidate is asked to design a RESTful API endpoint using Flask that allows for retrieving, updating, and deleting user profiles.\n",
    "\n",
    "**Technical Topic** - Flask RESTful API design\n",
    "\n",
    "**User Personality** - Curious, practical, and collaborative\n"
   ]
  },
  {
   "cell_type": "markdown",
   "id": "41d96656",
   "metadata": {},
   "source": [
    "# Conversation"
   ]
  },
  {
   "cell_type": "markdown",
   "id": "a6e67784",
   "metadata": {},
   "source": [
    "**User**\n"
   ]
  }
 ],
 "metadata": {},
 "nbformat": 4,
 "nbformat_minor": 5
}
