{
 "cells": [
  {
   "cell_type": "markdown",
   "id": "3696a071",
   "metadata": {},
   "source": [
    "# Metadata\n",
    "\n",
    "**Occupation Topics** - Data Journalist > Advanced Interview preparation - System Design rounds\n",
    "\n",
    "**Target Number of Turns (User + Assistant)** - 1-5\n",
    "\n",
    "**Use Case** - Automating the fact-checking process using natural language processing\n",
    "\n",
    "**Technical Topic** - Utilizing Python's NLTK library for text analysis\n",
    "\n",
    "**User Personality** - Curious, Open-Minded, and Elaborate\n"
   ]
  },
  {
   "cell_type": "markdown",
   "id": "497529b7",
   "metadata": {},
   "source": [
    "# Conversation"
   ]
  },
  {
   "cell_type": "markdown",
   "id": "38009eba",
   "metadata": {},
   "source": [
    "**User**\n"
   ]
  }
 ],
 "metadata": {},
 "nbformat": 4,
 "nbformat_minor": 5
}
