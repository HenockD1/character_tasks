{
 "cells": [
  {
   "cell_type": "markdown",
   "id": "04c3638b",
   "metadata": {},
   "source": [
    "# Metadata\n",
    "\n",
    "**Occupation Topics** - Full-Stack Developer > Expert Interview preparation - Explain areas where people usually make mistakes\n",
    "\n",
    "**Target Number of Turns (User + Assistant)** - 4-8\n",
    "\n",
    "**Use Case** - Designing a system to evaluate coding skills\n",
    "\n",
    "**Technical Topic** - Python unit testing with pytest\n",
    "\n",
    "**User Personality** - Curious, open-minded, and formal. Always eager to explore new testing frameworks, receptive to different approaches, and maintains a professional tone in communication.\n"
   ]
  },
  {
   "cell_type": "markdown",
   "id": "931a8624",
   "metadata": {},
   "source": [
    "# Conversation"
   ]
  },
  {
   "cell_type": "markdown",
   "id": "561d4f89",
   "metadata": {},
   "source": [
    "**User**\n"
   ]
  }
 ],
 "metadata": {},
 "nbformat": 4,
 "nbformat_minor": 5
}
