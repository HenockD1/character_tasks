{
 "cells": [
  {
   "cell_type": "markdown",
   "id": "cc3f5965",
   "metadata": {},
   "source": [
    "# Metadata\n",
    "\n",
    "**Occupation Topics** - Web Developer > Beginner Learning - Learn to program\n",
    "\n",
    "**Target Number of Turns (User + Assistant)** - 2-6\n",
    "\n",
    "**Use Case** - Adding a feature to display latest blog posts on a homepage\n",
    "\n",
    "**Technical Topic** - Using Jinja2 templating with Flask\n",
    "\n",
    "**User Personality** - Engaged in creating dynamic content, open-minded to different templating options, and elaborate in detailing project requirements\n"
   ]
  },
  {
   "cell_type": "markdown",
   "id": "acd7fa3f",
   "metadata": {},
   "source": [
    "# Conversation"
   ]
  },
  {
   "cell_type": "markdown",
   "id": "8b4b98ab",
   "metadata": {},
   "source": [
    "**User**\n"
   ]
  }
 ],
 "metadata": {},
 "nbformat": 4,
 "nbformat_minor": 5
}
