{
 "cells": [
  {
   "cell_type": "markdown",
   "id": "4be7a4fc",
   "metadata": {},
   "source": [
    "# Metadata\n",
    "\n",
    "**Occupation Topics** - Artificial Intelligence Engineer > Expert Interview preparation - Explain alternative solutions and trade offs\n",
    "\n",
    "**Target Number of Turns (User + Assistant)** - 1-4\n",
    "\n",
    "**Use Case** - Designing a robust chatbot for handling ambiguous user queries\n",
    "\n",
    "**Technical Topic** - Implementing and tuning a seq2seq model with attention in TensorFlow\n",
    "\n",
    "**User Personality** - Open-Minded, Patient, and Collaborative\n"
   ]
  },
  {
   "cell_type": "markdown",
   "id": "43cfcc24",
   "metadata": {},
   "source": [
    "# Conversation"
   ]
  },
  {
   "cell_type": "markdown",
   "id": "fc461f41",
   "metadata": {},
   "source": [
    "**User**\n"
   ]
  }
 ],
 "metadata": {},
 "nbformat": 4,
 "nbformat_minor": 5
}
