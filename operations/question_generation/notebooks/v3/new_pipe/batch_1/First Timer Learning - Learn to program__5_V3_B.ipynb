{
 "cells": [
  {
   "cell_type": "markdown",
   "id": "eebce3fc",
   "metadata": {},
   "source": [
    "# Metadata\n",
    "\n",
    "**Occupation Topics** - Data Scientist\n",
    "\n",
    "**Target Number of Turns (User + Assistant)** - 1-5\n",
    "\n",
    "**Use Case** - Analyzing a small dataset to find patterns\n",
    "\n",
    "**Technical Topic** - Introduction to Pandas library in Python\n",
    "\n",
    "**User Personality** - Curious, engaged, and slightly hesitant as they are new to programming\n"
   ]
  },
  {
   "cell_type": "markdown",
   "id": "d110126d",
   "metadata": {},
   "source": [
    "# Conversation"
   ]
  },
  {
   "cell_type": "markdown",
   "id": "2b8b6309",
   "metadata": {},
   "source": [
    "**User**\n"
   ]
  }
 ],
 "metadata": {},
 "nbformat": 4,
 "nbformat_minor": 5
}
