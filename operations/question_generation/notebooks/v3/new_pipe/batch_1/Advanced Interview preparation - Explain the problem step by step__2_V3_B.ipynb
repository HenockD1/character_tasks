{
 "cells": [
  {
   "cell_type": "markdown",
   "id": "22d00546",
   "metadata": {},
   "source": [
    "# Metadata\n",
    "\n",
    "**Occupation Topics** - Smart City Planner\n",
    "\n",
    "**Target Number of Turns (User + Assistant)** - 2-6\n",
    "\n",
    "**Use Case** - Predicting energy consumption peaks in urban areas\n",
    "\n",
    "**Technical Topic** - Time series forecasting with ARIMA model in Python\n",
    "\n",
    "**User Personality** - Curious, open-minded, and elaborate\n"
   ]
  },
  {
   "cell_type": "markdown",
   "id": "820b9435",
   "metadata": {},
   "source": [
    "# Conversation"
   ]
  },
  {
   "cell_type": "markdown",
   "id": "789a4a15",
   "metadata": {},
   "source": [
    "**User**\n"
   ]
  }
 ],
 "metadata": {},
 "nbformat": 4,
 "nbformat_minor": 5
}
