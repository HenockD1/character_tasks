{
 "cells": [
  {
   "cell_type": "markdown",
   "id": "cbd1c1aa",
   "metadata": {},
   "source": [
    "# Metadata\n",
    "\n",
    "**Occupation Topics** - Smart City Planner\n",
    "\n",
    "**Target Number of Turns (User + Assistant)** - 1-4\n",
    "\n",
    "**Use Case** - Optimizing traffic signal timings using real-time traffic data\n",
    "\n",
    "**Technical Topic** - Implementing machine learning models with scikit-learn\n",
    "\n",
    "**User Personality** - Analytical, patient, and collaborative\n"
   ]
  },
  {
   "cell_type": "markdown",
   "id": "63bbd301",
   "metadata": {},
   "source": [
    "# Conversation"
   ]
  },
  {
   "cell_type": "markdown",
   "id": "9a9b17e9",
   "metadata": {},
   "source": [
    "**User**\n"
   ]
  }
 ],
 "metadata": {},
 "nbformat": 4,
 "nbformat_minor": 5
}
