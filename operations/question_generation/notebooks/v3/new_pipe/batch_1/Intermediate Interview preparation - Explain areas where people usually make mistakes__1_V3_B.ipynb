{
 "cells": [
  {
   "cell_type": "markdown",
   "id": "c97d66c5",
   "metadata": {},
   "source": [
    "# Metadata\n",
    "\n",
    "**Occupation Topics** - Business Analyst\n",
    "\n",
    "**Target Number of Turns (User + Assistant)** - 3-7\n",
    "\n",
    "**Use Case** - Interview simulation for business intelligence positions\n",
    "\n",
    "**Technical Topic** - Effective use of JOINs in SQL for complex reports\n",
    "\n",
    "**User Personality** - Curious, elaborate, and collaborative\n"
   ]
  },
  {
   "cell_type": "markdown",
   "id": "e1ec2e05",
   "metadata": {},
   "source": [
    "# Conversation"
   ]
  },
  {
   "cell_type": "markdown",
   "id": "64d937db",
   "metadata": {},
   "source": [
    "**User**\n"
   ]
  }
 ],
 "metadata": {},
 "nbformat": 4,
 "nbformat_minor": 5
}
