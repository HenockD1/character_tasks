{
 "cells": [
  {
   "cell_type": "markdown",
   "id": "e51e60fa",
   "metadata": {},
   "source": [
    "# Metadata\n",
    "\n",
    "**Occupation Topics** - Business Analyst\n",
    "\n",
    "**Target Number of Turns (User + Assistant)** - 2-6\n",
    "\n",
    "**Use Case** - Developing a scoring system for interviewee performance\n",
    "\n",
    "**Technical Topic** - Implementing weighted scoring algorithms in Python\n",
    "\n",
    "**User Personality** - Practical, Confident, and Independent\n"
   ]
  },
  {
   "cell_type": "markdown",
   "id": "cc7eb77a",
   "metadata": {},
   "source": [
    "# Conversation"
   ]
  },
  {
   "cell_type": "markdown",
   "id": "aa0ec9a4",
   "metadata": {},
   "source": [
    "**User**\n"
   ]
  }
 ],
 "metadata": {},
 "nbformat": 4,
 "nbformat_minor": 5
}
