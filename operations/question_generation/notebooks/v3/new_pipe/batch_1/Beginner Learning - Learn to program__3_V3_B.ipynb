{
 "cells": [
  {
   "cell_type": "markdown",
   "id": "9ee8b735",
   "metadata": {},
   "source": [
    "# Metadata\n",
    "\n",
    "**Occupation Topics** - Data Visualization Developer\n",
    "\n",
    "**Target Number of Turns (User + Assistant)** - 5-9\n",
    "\n",
    "**Use Case** - Creating an interactive dashboard for sales data\n",
    "\n",
    "**Technical Topic** - Introduction to Plotly for Python\n",
    "\n",
    "**User Personality** - Curious, engaged, and collaborative\n"
   ]
  },
  {
   "cell_type": "markdown",
   "id": "685ec9da",
   "metadata": {},
   "source": [
    "# Conversation"
   ]
  },
  {
   "cell_type": "markdown",
   "id": "8ffc2762",
   "metadata": {},
   "source": [
    "**User**\n"
   ]
  }
 ],
 "metadata": {},
 "nbformat": 4,
 "nbformat_minor": 5
}
