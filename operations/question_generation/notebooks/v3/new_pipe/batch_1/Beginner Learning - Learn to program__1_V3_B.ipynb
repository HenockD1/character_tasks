{
 "cells": [
  {
   "cell_type": "markdown",
   "id": "07f5fed1",
   "metadata": {},
   "source": [
    "# Metadata\n",
    "\n",
    "**Occupation Topics** - Digital Content Strategist\n",
    "\n",
    "**Target Number of Turns (User + Assistant)** - 2-6\n",
    "\n",
    "**Use Case** - Generating SEO keywords from content\n",
    "\n",
    "**Technical Topic** - Natural Language Processing with NLTK\n",
    "\n",
    "**User Personality** - Open-minded, collaborative, and informal\n"
   ]
  },
  {
   "cell_type": "markdown",
   "id": "6af80e20",
   "metadata": {},
   "source": [
    "# Conversation"
   ]
  },
  {
   "cell_type": "markdown",
   "id": "b2a4d861",
   "metadata": {},
   "source": [
    "**User**\n"
   ]
  }
 ],
 "metadata": {},
 "nbformat": 4,
 "nbformat_minor": 5
}
