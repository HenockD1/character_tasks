{
 "cells": [
  {
   "cell_type": "markdown",
   "id": "4d113b4b",
   "metadata": {},
   "source": [
    "# Metadata\n",
    "\n",
    "**Occupation Topics** - Artificial Intelligence Engineer > First Timer Learning - Learn to program\n",
    "\n",
    "**Target Number of Turns (User + Assistant)** - 1-4\n",
    "\n",
    "**Use Case** - Building a simple chatbot\n",
    "\n",
    "**Technical Topic** - Python string manipulation and control flow\n",
    "\n",
    "**User Personality** - Curious, engaged, and slightly hesitant\n"
   ]
  },
  {
   "cell_type": "markdown",
   "id": "65ed7c36",
   "metadata": {},
   "source": [
    "# Conversation"
   ]
  },
  {
   "cell_type": "markdown",
   "id": "667746e3",
   "metadata": {},
   "source": [
    "**User**\n"
   ]
  }
 ],
 "metadata": {},
 "nbformat": 4,
 "nbformat_minor": 5
}
