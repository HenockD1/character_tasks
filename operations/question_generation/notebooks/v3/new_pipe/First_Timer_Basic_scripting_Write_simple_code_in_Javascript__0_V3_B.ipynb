{
 "cells": [
  {
   "cell_type": "markdown",
   "id": "73330d5e",
   "metadata": {},
   "source": [
    "# Metadata\n",
    "\n",
    "**Occupation Topics** - Financial Analyst > First Timer Basic scripting - Write simple code in Javascript\n",
    "\n",
    "**Target Number of Turns (User + Assistant)** - 1-5\n",
    "\n",
    "**Use Case** - Creating a simple dashboard for visualizing stock market trends\n",
    "\n",
    "**Technical Topic** - JavaScript chart libraries like Chart.js\n",
    "\n",
    "**User Personality** - Confident in their analytical skills, open-minded to learning new tech, and practical in their approach\n"
   ]
  },
  {
   "cell_type": "markdown",
   "id": "4f73551e",
   "metadata": {},
   "source": [
    "# Conversation"
   ]
  },
  {
   "cell_type": "markdown",
   "id": "45a6edc7",
   "metadata": {},
   "source": [
    "**User**\n"
   ]
  }
 ],
 "metadata": {},
 "nbformat": 4,
 "nbformat_minor": 5
}
