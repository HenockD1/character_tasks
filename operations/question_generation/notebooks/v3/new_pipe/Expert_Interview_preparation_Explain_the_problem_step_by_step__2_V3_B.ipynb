{
 "cells": [
  {
   "cell_type": "markdown",
   "id": "f9bc46d3",
   "metadata": {},
   "source": [
    "# Metadata\n",
    "\n",
    "**Occupation Topics** - Data Analyst > Expert Interview preparation - Explain the problem step by step\n",
    "\n",
    "**Target Number of Turns (User + Assistant)** - 3-7\n",
    "\n",
    "**Use Case** - Demonstrating data visualization skills for interview presentations\n",
    "\n",
    "**Technical Topic** - Advanced data visualization with Python's Matplotlib and Seaborn libraries\n",
    "\n",
    "**User Personality** - Curious, confident, and elaborate\n"
   ]
  },
  {
   "cell_type": "markdown",
   "id": "2d749901",
   "metadata": {},
   "source": [
    "# Conversation"
   ]
  },
  {
   "cell_type": "markdown",
   "id": "b74a4a4c",
   "metadata": {},
   "source": [
    "**User**\n"
   ]
  }
 ],
 "metadata": {},
 "nbformat": 4,
 "nbformat_minor": 5
}
