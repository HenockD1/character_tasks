{
 "cells": [
  {
   "cell_type": "markdown",
   "id": "f912bc1f",
   "metadata": {},
   "source": [
    "# Metadata\n",
    "\n",
    "**Occupation Topics** - Data Visualization Developer > Intermediate Interview preparation - Explain areas where people usually make mistakes\n",
    "\n",
    "**Target Number of Turns (User + Assistant)** - 1-5\n",
    "\n",
    "**Use Case** - Visualizing geospatial data for a logistics company\n",
    "\n",
    "**Technical Topic** - Using GeoPandas for mapping delivery routes\n",
    "\n",
    "**User Personality** - Curious, practical, and collaborative\n"
   ]
  },
  {
   "cell_type": "markdown",
   "id": "61d5297e",
   "metadata": {},
   "source": [
    "# Conversation"
   ]
  },
  {
   "cell_type": "markdown",
   "id": "651dd18e",
   "metadata": {},
   "source": [
    "**User**\n"
   ]
  }
 ],
 "metadata": {},
 "nbformat": 4,
 "nbformat_minor": 5
}
