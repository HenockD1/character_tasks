{
 "cells": [
  {
   "cell_type": "markdown",
   "id": "b953c0d8",
   "metadata": {},
   "source": [
    "# Metadata\n",
    "\n",
    "**Occupation Topics** - Growth Hacker > Expert Interview preparation - System Design rounds\n",
    "\n",
    "**Target Number of Turns (User + Assistant)** - 2-6\n",
    "\n",
    "**Use Case** - Automating the segmentation of users based on engagement metrics\n",
    "\n",
    "**Technical Topic** - Creating user segmentation scripts using Pandas in Python\n",
    "\n",
    "**User Personality** - Practical, confident, and independent\n"
   ]
  },
  {
   "cell_type": "markdown",
   "id": "880a5733",
   "metadata": {},
   "source": [
    "# Conversation"
   ]
  },
  {
   "cell_type": "markdown",
   "id": "d336349d",
   "metadata": {},
   "source": [
    "**User**\n"
   ]
  }
 ],
 "metadata": {},
 "nbformat": 4,
 "nbformat_minor": 5
}
