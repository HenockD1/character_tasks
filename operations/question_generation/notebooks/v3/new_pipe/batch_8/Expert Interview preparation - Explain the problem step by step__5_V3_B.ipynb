{
 "cells": [
  {
   "cell_type": "markdown",
   "id": "99b5eb8a",
   "metadata": {},
   "source": [
    "# Metadata\n",
    "\n",
    "**Occupation Topics** - Supply Chain Manager > Expert Interview preparation - Explain the problem step by step\n",
    "\n",
    "**Target Number of Turns (User + Assistant)** - 1-5\n",
    "\n",
    "**Use Case** - Automating supplier selection based on performance metrics\n",
    "\n",
    "**Technical Topic** - Creating a decision-making algorithm using Python's Pandas library\n",
    "\n",
    "**User Personality** - Confident, Open-Minded, and Collaborative\n"
   ]
  },
  {
   "cell_type": "markdown",
   "id": "8443f883",
   "metadata": {},
   "source": [
    "# Conversation"
   ]
  },
  {
   "cell_type": "markdown",
   "id": "98078617",
   "metadata": {},
   "source": [
    "**User**\n"
   ]
  }
 ],
 "metadata": {},
 "nbformat": 4,
 "nbformat_minor": 5
}
