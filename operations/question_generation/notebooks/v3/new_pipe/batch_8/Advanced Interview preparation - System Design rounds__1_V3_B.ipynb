{
 "cells": [
  {
   "cell_type": "markdown",
   "id": "8f6c3a80",
   "metadata": {},
   "source": [
    "# Metadata\n",
    "\n",
    "**Occupation Topics** - Full-Stack Developer > Advanced Interview preparation - System Design rounds\n",
    "\n",
    "**Target Number of Turns (User + Assistant)** - 4-8\n",
    "\n",
    "**Use Case** - Designing a scalable notification service for a social media platform\n",
    "\n",
    "**Technical Topic** - Implementing a publish-subscribe model in Python using Redis\n",
    "\n",
    "**User Personality** - Analytical, patient, and collaborative\n"
   ]
  },
  {
   "cell_type": "markdown",
   "id": "f25ee7ad",
   "metadata": {},
   "source": [
    "# Conversation"
   ]
  },
  {
   "cell_type": "markdown",
   "id": "aa9bcb5f",
   "metadata": {},
   "source": [
    "**User**\n"
   ]
  }
 ],
 "metadata": {},
 "nbformat": 4,
 "nbformat_minor": 5
}
