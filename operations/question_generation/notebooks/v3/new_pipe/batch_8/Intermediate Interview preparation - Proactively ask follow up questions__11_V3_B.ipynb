{
 "cells": [
  {
   "cell_type": "markdown",
   "id": "2348743f",
   "metadata": {},
   "source": [
    "# Metadata\n",
    "\n",
    "**Occupation Topics** - Business Analyst > Intermediate Interview preparation - Proactively ask follow up questions\n",
    "\n",
    "**Target Number of Turns (User + Assistant)** - 1-4\n",
    "\n",
    "**Use Case** - Optimizing SQL queries for business intelligence reporting\n",
    "\n",
    "**Technical Topic** - SQL query performance tuning\n",
    "\n",
    "**User Personality** - Analytical, Curious, and Patient\n"
   ]
  },
  {
   "cell_type": "markdown",
   "id": "51695966",
   "metadata": {},
   "source": [
    "# Conversation"
   ]
  },
  {
   "cell_type": "markdown",
   "id": "ae5e22cb",
   "metadata": {},
   "source": [
    "**User**\n"
   ]
  }
 ],
 "metadata": {},
 "nbformat": 4,
 "nbformat_minor": 5
}
