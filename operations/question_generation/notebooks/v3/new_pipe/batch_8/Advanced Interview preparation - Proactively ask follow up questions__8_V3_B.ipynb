{
 "cells": [
  {
   "cell_type": "markdown",
   "id": "b327f0ec",
   "metadata": {},
   "source": [
    "# Metadata\n",
    "\n",
    "**Occupation Topics** - Growth Hacker > Advanced Interview preparation - Proactively ask follow up questions\n",
    "\n",
    "**Target Number of Turns (User + Assistant)** - 2-6\n",
    "\n",
    "**Use Case** - Optimizing a marketing campaign's conversion rate\n",
    "\n",
    "**Technical Topic** - A-B testing with Python's PyAB library\n",
    "\n",
    "**User Personality** - Analytical, Curious, and Practical\n"
   ]
  },
  {
   "cell_type": "markdown",
   "id": "f5f91f38",
   "metadata": {},
   "source": [
    "# Conversation"
   ]
  },
  {
   "cell_type": "markdown",
   "id": "f3d882ae",
   "metadata": {},
   "source": [
    "**User**\n"
   ]
  }
 ],
 "metadata": {},
 "nbformat": 4,
 "nbformat_minor": 5
}
