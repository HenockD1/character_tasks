{
 "cells": [
  {
   "cell_type": "markdown",
   "id": "5a9da837",
   "metadata": {},
   "source": [
    "# Metadata\n",
    "\n",
    "**Occupation Topics** - User Experience Researcher > Advanced Interview preparation - Explain alternative solutions and trade offs\n",
    "\n",
    "**Target Number of Turns (User + Assistant)** - 1-5\n",
    "\n",
    "**Use Case** - Analyzing sentiment from user interview transcripts\n",
    "\n",
    "**Technical Topic** - Natural Language Processing with NLTK\n",
    "\n",
    "**User Personality** - Engaged, Open-Minded, and Elaborate\n"
   ]
  },
  {
   "cell_type": "markdown",
   "id": "6006c12b",
   "metadata": {},
   "source": [
    "# Conversation"
   ]
  },
  {
   "cell_type": "markdown",
   "id": "68f7b015",
   "metadata": {},
   "source": [
    "**User**\n"
   ]
  }
 ],
 "metadata": {},
 "nbformat": 4,
 "nbformat_minor": 5
}
