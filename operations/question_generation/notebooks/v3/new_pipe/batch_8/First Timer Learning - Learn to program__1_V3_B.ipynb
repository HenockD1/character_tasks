{
 "cells": [
  {
   "cell_type": "markdown",
   "id": "fe21029f",
   "metadata": {},
   "source": [
    "# Metadata\n",
    "\n",
    "**Occupation Topics** - Full-Stack Developer > First Timer Learning - Learn to program\n",
    "\n",
    "**Target Number of Turns (User + Assistant)** - 1-4\n",
    "\n",
    "**Use Case** - Building a personal portfolio website\n",
    "\n",
    "**Technical Topic** - Basics of HTML and CSS for layout and styling\n",
    "\n",
    "**User Personality** - Confident and independent, with a focus on practical skills that can be showcased to potential employers.\n"
   ]
  },
  {
   "cell_type": "markdown",
   "id": "e1d447d5",
   "metadata": {},
   "source": [
    "# Conversation"
   ]
  },
  {
   "cell_type": "markdown",
   "id": "36f75a0e",
   "metadata": {},
   "source": [
    "**User**\n"
   ]
  }
 ],
 "metadata": {},
 "nbformat": 4,
 "nbformat_minor": 5
}
