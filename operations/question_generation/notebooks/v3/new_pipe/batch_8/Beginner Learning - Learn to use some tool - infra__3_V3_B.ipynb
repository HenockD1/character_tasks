{
 "cells": [
  {
   "cell_type": "markdown",
   "id": "83d4d242",
   "metadata": {},
   "source": [
    "# Metadata\n",
    "\n",
    "**Occupation Topics** - Natural Language Processing Engineer > Beginner Learning - Learn to use some tool - infra\n",
    "\n",
    "**Target Number of Turns (User + Assistant)** - 3-7\n",
    "\n",
    "**Use Case** - Classifying support tickets by urgency\n",
    "\n",
    "**Technical Topic** - Using scikit-learn to train a classifier on text data\n",
    "\n",
    "**User Personality** - Patient, open-minded, and collaborative, willing to take the time to understand the nuances of machine learning models and work with others to improve their skills\n"
   ]
  },
  {
   "cell_type": "markdown",
   "id": "ed53179f",
   "metadata": {},
   "source": [
    "# Conversation"
   ]
  },
  {
   "cell_type": "markdown",
   "id": "b9995cfd",
   "metadata": {},
   "source": [
    "**User**\n"
   ]
  }
 ],
 "metadata": {},
 "nbformat": 4,
 "nbformat_minor": 5
}
