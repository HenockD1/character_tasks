{
 "cells": [
  {
   "cell_type": "markdown",
   "id": "42f12516",
   "metadata": {},
   "source": [
    "# Metadata\n",
    "\n",
    "**Occupation Topics** - Academic Researcher > Expert Interview preparation - Proactively ask follow up questions\n",
    "\n",
    "**Target Number of Turns (User + Assistant)** - 1-5\n",
    "\n",
    "**Use Case** - Automating the process of scheduling mock interviews for students\n",
    "\n",
    "**Technical Topic** - Building a chatbot with Python's Natural Language Toolkit (NLTK)\n",
    "\n",
    "**User Personality** - Analytical, patient, and collaborative\n"
   ]
  },
  {
   "cell_type": "markdown",
   "id": "a2877f99",
   "metadata": {},
   "source": [
    "# Conversation"
   ]
  },
  {
   "cell_type": "markdown",
   "id": "559e4a46",
   "metadata": {},
   "source": [
    "**User**\n"
   ]
  }
 ],
 "metadata": {},
 "nbformat": 4,
 "nbformat_minor": 5
}
