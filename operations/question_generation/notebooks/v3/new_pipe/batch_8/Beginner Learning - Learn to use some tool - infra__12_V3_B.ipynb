{
 "cells": [
  {
   "cell_type": "markdown",
   "id": "21d26797",
   "metadata": {},
   "source": [
    "# Metadata\n",
    "\n",
    "**Occupation Topics** - Growth Hacker > Beginner Learning - Learn to use some tool - infra\n",
    "\n",
    "**Target Number of Turns (User + Assistant)** - 1-4\n",
    "\n",
    "**Use Case** - Automating social media data extraction\n",
    "\n",
    "**Technical Topic** - Using Tweepy to stream live tweets\n",
    "\n",
    "**User Personality** - Curious, engaged, and somewhat informal, eager to dive into social media analytics\n"
   ]
  },
  {
   "cell_type": "markdown",
   "id": "1fa29033",
   "metadata": {},
   "source": [
    "# Conversation"
   ]
  },
  {
   "cell_type": "markdown",
   "id": "283e95aa",
   "metadata": {},
   "source": [
    "**User**\n"
   ]
  }
 ],
 "metadata": {},
 "nbformat": 4,
 "nbformat_minor": 5
}
