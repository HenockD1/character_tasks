{
 "cells": [
  {
   "cell_type": "markdown",
   "id": "aab86bc4",
   "metadata": {},
   "source": [
    "# Metadata\n",
    "\n",
    "**Occupation Topics** - Data Journalist > Intermediate Interview preparation - Debug and fix code\n",
    "\n",
    "**Target Number of Turns (User + Assistant)** - 2-6\n",
    "\n",
    "**Use Case** - Analyzing trends in social media data for an upcoming article\n",
    "\n",
    "**Technical Topic** - Data visualization with Matplotlib\n",
    "\n",
    "**User Personality** - Curious, elaborate, and open-minded\n"
   ]
  },
  {
   "cell_type": "markdown",
   "id": "bc91c119",
   "metadata": {},
   "source": [
    "# Conversation"
   ]
  },
  {
   "cell_type": "markdown",
   "id": "cd888c50",
   "metadata": {},
   "source": [
    "**User**\n"
   ]
  }
 ],
 "metadata": {},
 "nbformat": 4,
 "nbformat_minor": 5
}
