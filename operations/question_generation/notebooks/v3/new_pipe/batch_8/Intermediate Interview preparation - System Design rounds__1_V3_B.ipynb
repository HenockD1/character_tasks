{
 "cells": [
  {
   "cell_type": "markdown",
   "id": "fecc0b51",
   "metadata": {},
   "source": [
    "# Metadata\n",
    "\n",
    "**Occupation Topics** - Academic Researcher > Intermediate Interview preparation - System Design rounds\n",
    "\n",
    "**Target Number of Turns (User + Assistant)** - 1-5\n",
    "\n",
    "**Use Case** - Creating a mock e-commerce API for a coding interview\n",
    "\n",
    "**Technical Topic** - Building RESTful services with Flask and integrating with a NoSQL database\n",
    "\n",
    "**User Personality** - Practical, confident, and independent. Likes to get hands-on with code and solve problems without relying too much on external help.\n"
   ]
  },
  {
   "cell_type": "markdown",
   "id": "ae6c57c4",
   "metadata": {},
   "source": [
    "# Conversation"
   ]
  },
  {
   "cell_type": "markdown",
   "id": "4ccf584a",
   "metadata": {},
   "source": [
    "**User**\n"
   ]
  }
 ],
 "metadata": {},
 "nbformat": 4,
 "nbformat_minor": 5
}
