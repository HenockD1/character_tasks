{
 "cells": [
  {
   "cell_type": "markdown",
   "id": "48a28ff6",
   "metadata": {},
   "source": [
    "# Metadata\n",
    "\n",
    "**Occupation Topics** - Bioinformatics Specialist > Expert Interview preparation - Explain areas where people usually make mistakes\n",
    "\n",
    "**Target Number of Turns (User + Assistant)** - 2-6\n",
    "\n",
    "**Use Case** - Reviewing common pitfalls in statistical analysis for bioinformatics interviews\n",
    "\n",
    "**Technical Topic** - Correct application of statistical tests using SciPy for bioinformatics data\n",
    "\n",
    "**User Personality** - Confident, focused, and formal, prefers to get straight to the point with precise and accurate information, and values correctness and professionalism.\n"
   ]
  },
  {
   "cell_type": "markdown",
   "id": "de3e79da",
   "metadata": {},
   "source": [
    "# Conversation"
   ]
  },
  {
   "cell_type": "markdown",
   "id": "9f4e0fa9",
   "metadata": {},
   "source": [
    "**User**\n"
   ]
  }
 ],
 "metadata": {},
 "nbformat": 4,
 "nbformat_minor": 5
}
