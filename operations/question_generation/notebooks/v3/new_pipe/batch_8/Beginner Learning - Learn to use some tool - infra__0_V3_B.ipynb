{
 "cells": [
  {
   "cell_type": "markdown",
   "id": "10efdf14",
   "metadata": {},
   "source": [
    "# Metadata\n",
    "\n",
    "**Occupation Topics** - Financial Analyst > Beginner Learning - Learn to use some tool - infra\n",
    "\n",
    "**Target Number of Turns (User + Assistant)** - 2-6\n",
    "\n",
    "**Use Case** - Automating the extraction of financial data from various CSV files\n",
    "\n",
    "**Technical Topic** - Python Pandas library\n",
    "\n",
    "**User Personality** - Curious, engaged, and slightly hesitant\n"
   ]
  },
  {
   "cell_type": "markdown",
   "id": "d38cd6c7",
   "metadata": {},
   "source": [
    "# Conversation"
   ]
  },
  {
   "cell_type": "markdown",
   "id": "48dca2e3",
   "metadata": {},
   "source": [
    "**User**\n"
   ]
  }
 ],
 "metadata": {},
 "nbformat": 4,
 "nbformat_minor": 5
}
