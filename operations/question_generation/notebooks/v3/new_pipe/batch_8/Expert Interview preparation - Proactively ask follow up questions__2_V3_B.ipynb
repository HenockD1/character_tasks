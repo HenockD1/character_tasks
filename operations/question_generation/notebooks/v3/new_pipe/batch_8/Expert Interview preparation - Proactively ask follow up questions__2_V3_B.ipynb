{
 "cells": [
  {
   "cell_type": "markdown",
   "id": "9172de62",
   "metadata": {},
   "source": [
    "# Metadata\n",
    "\n",
    "**Occupation Topics** - Business Analyst > Expert Interview preparation - Proactively ask follow up questions\n",
    "\n",
    "**Target Number of Turns (User + Assistant)** - 1-5\n",
    "\n",
    "**Use Case** - Creating a dynamic interview question generator\n",
    "\n",
    "**Technical Topic** - Natural Language Processing with NLTK\n",
    "\n",
    "**User Personality** - Analytical, Curious, and Formal\n"
   ]
  },
  {
   "cell_type": "markdown",
   "id": "631ef205",
   "metadata": {},
   "source": [
    "# Conversation"
   ]
  },
  {
   "cell_type": "markdown",
   "id": "ceb548a8",
   "metadata": {},
   "source": [
    "**User**\n"
   ]
  }
 ],
 "metadata": {},
 "nbformat": 4,
 "nbformat_minor": 5
}
