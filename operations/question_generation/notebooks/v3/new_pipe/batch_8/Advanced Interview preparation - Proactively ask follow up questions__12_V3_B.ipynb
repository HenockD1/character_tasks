{
 "cells": [
  {
   "cell_type": "markdown",
   "id": "8c9e6797",
   "metadata": {},
   "source": [
    "# Metadata\n",
    "\n",
    "**Occupation Topics** - Data Journalist > Advanced Interview preparation - Proactively ask follow up questions\n",
    "\n",
    "**Target Number of Turns (User + Assistant)** - 1-4\n",
    "\n",
    "**Use Case** - Automating the extraction of statistical data from various sources for an upcoming interview\n",
    "\n",
    "**Technical Topic** - Web scraping with Beautiful Soup and Requests in Python\n",
    "\n",
    "**User Personality** - Curious, engaged, and confident\n"
   ]
  },
  {
   "cell_type": "markdown",
   "id": "6818959e",
   "metadata": {},
   "source": [
    "# Conversation"
   ]
  },
  {
   "cell_type": "markdown",
   "id": "496a7987",
   "metadata": {},
   "source": [
    "**User**\n"
   ]
  }
 ],
 "metadata": {},
 "nbformat": 4,
 "nbformat_minor": 5
}
