{
 "cells": [
  {
   "cell_type": "markdown",
   "id": "529bc7ae",
   "metadata": {},
   "source": [
    "# Metadata\n",
    "\n",
    "**Occupation Topics** - Cybersecurity Analyst using Python > Expert Interview preparation - Explain areas where people usually make mistakes\n",
    "\n",
    "**Target Number of Turns (User + Assistant)** - 1-4\n",
    "\n",
    "**Use Case** - Creating a Python tool to simulate social engineering attacks for training purposes\n",
    "\n",
    "**Technical Topic** - Python's `email` library usage\n",
    "\n",
    "**User Personality** - Curious, confident, and elaborate\n"
   ]
  },
  {
   "cell_type": "markdown",
   "id": "e53bcaf3",
   "metadata": {},
   "source": [
    "# Conversation"
   ]
  },
  {
   "cell_type": "markdown",
   "id": "9d0f768b",
   "metadata": {},
   "source": [
    "**User**\n"
   ]
  }
 ],
 "metadata": {},
 "nbformat": 4,
 "nbformat_minor": 5
}
