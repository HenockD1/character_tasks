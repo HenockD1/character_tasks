{
 "cells": [
  {
   "cell_type": "markdown",
   "id": "2f3df59a",
   "metadata": {},
   "source": [
    "# Metadata\n",
    "\n",
    "**Occupation Topics** - Project Manager > Expert Interview preparation - Proactively ask follow up questions\n",
    "\n",
    "**Target Number of Turns (User + Assistant)** - 2-6\n",
    "\n",
    "**Use Case** - Developing a feedback aggregation tool post-interview\n",
    "\n",
    "**Technical Topic** - Python's Flask framework for web applications\n",
    "\n",
    "**User Personality** - Engaged, Patient, and Formal\n"
   ]
  },
  {
   "cell_type": "markdown",
   "id": "c309f766",
   "metadata": {},
   "source": [
    "# Conversation"
   ]
  },
  {
   "cell_type": "markdown",
   "id": "8c410a25",
   "metadata": {},
   "source": [
    "**User**\n"
   ]
  }
 ],
 "metadata": {},
 "nbformat": 4,
 "nbformat_minor": 5
}
