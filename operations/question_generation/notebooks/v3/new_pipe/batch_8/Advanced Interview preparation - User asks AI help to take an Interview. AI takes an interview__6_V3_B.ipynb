{
 "cells": [
  {
   "cell_type": "markdown",
   "id": "6e9af73a",
   "metadata": {},
   "source": [
    "# Metadata\n",
    "\n",
    "**Occupation Topics** - Data Analyst > Advanced Interview preparation - User asks AI help to take an Interview. AI takes an interview\n",
    "\n",
    "**Target Number of Turns (User + Assistant)** - 3-7\n",
    "\n",
    "**Use Case** - Preparing for a data modeling segment of an interview by discussing best practices in database schema design.\n",
    "\n",
    "**Technical Topic** - SQL database normalization\n",
    "\n",
    "**User Personality** - Curious, open-minded, and elaborate\n"
   ]
  },
  {
   "cell_type": "markdown",
   "id": "2e683a22",
   "metadata": {},
   "source": [
    "# Conversation"
   ]
  },
  {
   "cell_type": "markdown",
   "id": "ab157e4a",
   "metadata": {},
   "source": [
    "**User**\n"
   ]
  }
 ],
 "metadata": {},
 "nbformat": 4,
 "nbformat_minor": 5
}
