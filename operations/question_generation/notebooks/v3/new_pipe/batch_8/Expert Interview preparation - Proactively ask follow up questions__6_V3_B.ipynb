{
 "cells": [
  {
   "cell_type": "markdown",
   "id": "84085ab1",
   "metadata": {},
   "source": [
    "# Metadata\n",
    "\n",
    "**Occupation Topics** - Data Visualization Developer > Expert Interview preparation - Proactively ask follow up questions\n",
    "\n",
    "**Target Number of Turns (User + Assistant)** - 1-5\n",
    "\n",
    "**Use Case** - Designing a data visualization tool for genomic sequence analysis\n",
    "\n",
    "**Technical Topic** - Utilizing Bokeh for complex interactive visualizations\n",
    "\n",
    "**User Personality** - Curious, open-minded, and elaborate\n"
   ]
  },
  {
   "cell_type": "markdown",
   "id": "5de6ba24",
   "metadata": {},
   "source": [
    "# Conversation"
   ]
  },
  {
   "cell_type": "markdown",
   "id": "3a03d3bd",
   "metadata": {},
   "source": [
    "**User**\n"
   ]
  }
 ],
 "metadata": {},
 "nbformat": 4,
 "nbformat_minor": 5
}
