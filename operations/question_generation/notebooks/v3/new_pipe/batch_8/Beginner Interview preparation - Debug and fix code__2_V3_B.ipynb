{
 "cells": [
  {
   "cell_type": "markdown",
   "id": "21ddc66a",
   "metadata": {},
   "source": [
    "# Metadata\n",
    "\n",
    "**Occupation Topics** - Data Analyst > Beginner Interview preparation - Debug and fix code\n",
    "\n",
    "**Target Number of Turns (User + Assistant)** - 1-5\n",
    "\n",
    "**Use Case** - Understanding how to clean and preprocess data for analysis during an interview task\n",
    "\n",
    "**Technical Topic** - Data cleaning with pandas\n",
    "\n",
    "**User Personality** - Analytical, patient, and independent\n"
   ]
  },
  {
   "cell_type": "markdown",
   "id": "c8ceaf36",
   "metadata": {},
   "source": [
    "# Conversation"
   ]
  },
  {
   "cell_type": "markdown",
   "id": "678e7d99",
   "metadata": {},
   "source": [
    "**User**\n"
   ]
  }
 ],
 "metadata": {},
 "nbformat": 4,
 "nbformat_minor": 5
}
