{
 "cells": [
  {
   "cell_type": "markdown",
   "id": "a79d969b",
   "metadata": {},
   "source": [
    "# Metadata\n",
    "\n",
    "**Occupation Topics** - Product Manager > Expert Interview preparation - System Design rounds\n",
    "\n",
    "**Target Number of Turns (User + Assistant)** - 2-6\n",
    "\n",
    "**Use Case** - Designing a scalable notification system for a high-traffic web application\n",
    "\n",
    "**Technical Topic** - Microservices architecture and message queuing\n",
    "\n",
    "**User Personality** - Analytical, confident, and practical\n"
   ]
  },
  {
   "cell_type": "markdown",
   "id": "844229fb",
   "metadata": {},
   "source": [
    "# Conversation"
   ]
  },
  {
   "cell_type": "markdown",
   "id": "65f97218",
   "metadata": {},
   "source": [
    "**User**\n"
   ]
  }
 ],
 "metadata": {},
 "nbformat": 4,
 "nbformat_minor": 5
}
