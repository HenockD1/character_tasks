{
 "cells": [
  {
   "cell_type": "markdown",
   "id": "d051b51c",
   "metadata": {},
   "source": [
    "# Metadata\n",
    "\n",
    "**Occupation Topics** - Backend Developer > First Timer Interview preparation - Proactively ask follow up questions\n",
    "\n",
    "**Target Number of Turns (User + Assistant)** - 2-6\n",
    "\n",
    "**Use Case** - Implementing user authentication in a new web service\n",
    "\n",
    "**Technical Topic** - JWT Authentication with Python\n",
    "\n",
    "**User Personality** - Analytical, confident, and concise, preferring direct and to-the-point explanations with code examples.\n"
   ]
  },
  {
   "cell_type": "markdown",
   "id": "af5572c2",
   "metadata": {},
   "source": [
    "# Conversation"
   ]
  },
  {
   "cell_type": "markdown",
   "id": "50035a9d",
   "metadata": {},
   "source": [
    "**User**\n"
   ]
  }
 ],
 "metadata": {},
 "nbformat": 4,
 "nbformat_minor": 5
}
