{
 "cells": [
  {
   "cell_type": "markdown",
   "id": "96aab350",
   "metadata": {},
   "source": [
    "# Metadata\n",
    "\n",
    "**Occupation Topics** - Business Analyst > Intermediate Learning - Learn to use some tool / infra\n",
    "\n",
    "**Target Number of Turns (User + Assistant)** - 1-5\n",
    "\n",
    "**Use Case** - Visualizing market trends over time\n",
    "\n",
    "**Technical Topic** - Creating interactive plots with Plotly in Python\n",
    "\n",
    "**User Personality** - Confident, Open-Minded, and Elaborate\n"
   ]
  },
  {
   "cell_type": "markdown",
   "id": "68f6c671",
   "metadata": {},
   "source": [
    "# Conversation"
   ]
  },
  {
   "cell_type": "markdown",
   "id": "504b18c8",
   "metadata": {},
   "source": [
    "**User**\n"
   ]
  }
 ],
 "metadata": {},
 "nbformat": 4,
 "nbformat_minor": 5
}
