{
 "cells": [
  {
   "cell_type": "markdown",
   "id": "540599a2",
   "metadata": {},
   "source": [
    "# Metadata\n",
    "\n",
    "**Occupation Topics** - Front-End Developer > Intermediate Interview preparation - Proactively ask follow up questions\n",
    "\n",
    "**Target Number of Turns (User + Assistant)** - 2-6\n",
    "\n",
    "**Use Case** - Optimizing website performance for a better user experience\n",
    "\n",
    "**Technical Topic** - Leveraging the Chrome DevTools for performance tuning\n",
    "\n",
    "**User Personality** - Analytical in their approach, patient when digging into performance metrics, and independent in conducting research\n"
   ]
  },
  {
   "cell_type": "markdown",
   "id": "b1ece101",
   "metadata": {},
   "source": [
    "# Conversation"
   ]
  },
  {
   "cell_type": "markdown",
   "id": "74baf2d5",
   "metadata": {},
   "source": [
    "**User**\n"
   ]
  }
 ],
 "metadata": {},
 "nbformat": 4,
 "nbformat_minor": 5
}
