{
 "cells": [
  {
   "cell_type": "markdown",
   "id": "94860ddd",
   "metadata": {},
   "source": [
    "# Metadata\n",
    "\n",
    "**Occupation Topics** - Full-Stack Developer > Advanced Interview preparation - User asks AI help to take an Interview. AI takes an interview\n",
    "\n",
    "**Target Number of Turns (User + Assistant)** - 1-4\n",
    "\n",
    "**Use Case** - Simulating a technical interview scenario where the candidate must debug a piece of code.\n",
    "\n",
    "**Technical Topic** - Python debugging techniques using pdb\n",
    "\n",
    "**User Personality** - Analytical, focused, and confident\n"
   ]
  },
  {
   "cell_type": "markdown",
   "id": "f9d34f9d",
   "metadata": {},
   "source": [
    "# Conversation"
   ]
  },
  {
   "cell_type": "markdown",
   "id": "e6d902b1",
   "metadata": {},
   "source": [
    "**User**\n"
   ]
  }
 ],
 "metadata": {},
 "nbformat": 4,
 "nbformat_minor": 5
}
