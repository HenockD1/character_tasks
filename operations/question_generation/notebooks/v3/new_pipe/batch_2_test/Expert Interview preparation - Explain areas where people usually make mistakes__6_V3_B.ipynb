{
 "cells": [
  {
   "cell_type": "markdown",
   "id": "9a141085",
   "metadata": {},
   "source": [
    "# Metadata\n",
    "\n",
    "**Occupation Topics** - Smart City Planner > Expert Interview preparation - Explain areas where people usually make mistakes\n",
    "\n",
    "**Target Number of Turns (User + Assistant)** - 1-5\n",
    "\n",
    "**Use Case** - Enhancing emergency services response times\n",
    "\n",
    "**Technical Topic** - Building a simulation in Python with SimPy for emergency vehicle dispatch\n",
    "\n",
    "**User Personality** - Engaged, open-minded, and formal\n"
   ]
  },
  {
   "cell_type": "markdown",
   "id": "c729a27e",
   "metadata": {},
   "source": [
    "# Conversation"
   ]
  },
  {
   "cell_type": "markdown",
   "id": "a0a10d2e",
   "metadata": {},
   "source": [
    "**User**\n"
   ]
  }
 ],
 "metadata": {},
 "nbformat": 4,
 "nbformat_minor": 5
}
