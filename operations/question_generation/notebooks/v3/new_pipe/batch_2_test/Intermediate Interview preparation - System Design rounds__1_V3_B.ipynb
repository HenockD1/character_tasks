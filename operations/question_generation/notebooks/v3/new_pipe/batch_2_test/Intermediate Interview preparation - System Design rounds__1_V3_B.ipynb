{
 "cells": [
  {
   "cell_type": "markdown",
   "id": "8b4d7f19",
   "metadata": {},
   "source": [
    "# Metadata\n",
    "\n",
    "**Occupation Topics** - Data Analyst > Intermediate Interview preparation - System Design rounds\n",
    "\n",
    "**Target Number of Turns (User + Assistant)** - 1-4\n",
    "\n",
    "**Use Case** - Optimizing SQL queries for faster report generation\n",
    "\n",
    "**Technical Topic** - Advanced use of indexing and query optimization in PostgreSQL\n",
    "\n",
    "**User Personality** - Focused, Confident, and Patient\n"
   ]
  },
  {
   "cell_type": "markdown",
   "id": "306efa90",
   "metadata": {},
   "source": [
    "# Conversation"
   ]
  },
  {
   "cell_type": "markdown",
   "id": "e1525405",
   "metadata": {},
   "source": [
    "**User**\n"
   ]
  }
 ],
 "metadata": {},
 "nbformat": 4,
 "nbformat_minor": 5
}
