{
 "cells": [
  {
   "cell_type": "markdown",
   "id": "d091da60",
   "metadata": {},
   "source": [
    "# Metadata\n",
    "\n",
    "**Occupation Topics** - Python Content Creator (Technical Writing-Tutorials) > First Timer Interview preparation - Proactively ask follow up questions\n",
    "\n",
    "**Target Number of Turns (User + Assistant)** - 2-6\n",
    "\n",
    "**Use Case** - Writing an article explaining the differences between Python 2 and Python 3 for newcomers\n",
    "\n",
    "**Technical Topic** - Python 2 vs Python 3 comparison\n",
    "\n",
    "**User Personality** - Curious, open-minded, and concise\n"
   ]
  },
  {
   "cell_type": "markdown",
   "id": "3a67ae49",
   "metadata": {},
   "source": [
    "# Conversation"
   ]
  },
  {
   "cell_type": "markdown",
   "id": "55862b8f",
   "metadata": {},
   "source": [
    "**User**\n"
   ]
  }
 ],
 "metadata": {},
 "nbformat": 4,
 "nbformat_minor": 5
}
