{
 "cells": [
  {
   "cell_type": "markdown",
   "id": "ebc3d93b",
   "metadata": {},
   "source": [
    "# Metadata\n",
    "\n",
    "**Occupation Topics** - Python Developer > First Timer Interview preparation - Proactively ask follow up questions\n",
    "\n",
    "**Target Number of Turns (User + Assistant)** - 3-7\n",
    "\n",
    "**Use Case** - Learning to articulate thought processes during problem-solving\n",
    "\n",
    "**Technical Topic** - Describing the steps to solve a Fibonacci sequence using recursion in Python\n",
    "\n",
    "**User Personality** - Open-minded, elaborate, and collaborative, seeking to communicate effectively with interviewers and peers\n"
   ]
  },
  {
   "cell_type": "markdown",
   "id": "5e9c3ee6",
   "metadata": {},
   "source": [
    "# Conversation"
   ]
  },
  {
   "cell_type": "markdown",
   "id": "7fb625fc",
   "metadata": {},
   "source": [
    "**User**\n"
   ]
  }
 ],
 "metadata": {},
 "nbformat": 4,
 "nbformat_minor": 5
}
