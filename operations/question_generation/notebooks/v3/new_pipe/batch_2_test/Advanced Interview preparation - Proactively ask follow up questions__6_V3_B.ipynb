{
 "cells": [
  {
   "cell_type": "markdown",
   "id": "f8735c5f",
   "metadata": {},
   "source": [
    "# Metadata\n",
    "\n",
    "**Occupation Topics** - Data Journalist > Advanced Interview preparation - Proactively ask follow up questions\n",
    "\n",
    "**Target Number of Turns (User + Assistant)** - 1-5\n",
    "\n",
    "**Use Case** - Implementing a sentiment analysis tool to gauge public opinion on a topic before an interview\n",
    "\n",
    "**Technical Topic** - Sentiment analysis using NLTK and TextBlob in Python\n",
    "\n",
    "**User Personality** - Analytical, focused, and practical\n"
   ]
  },
  {
   "cell_type": "markdown",
   "id": "9ee51869",
   "metadata": {},
   "source": [
    "# Conversation"
   ]
  },
  {
   "cell_type": "markdown",
   "id": "18b495f0",
   "metadata": {},
   "source": [
    "**User**\n"
   ]
  }
 ],
 "metadata": {},
 "nbformat": 4,
 "nbformat_minor": 5
}
