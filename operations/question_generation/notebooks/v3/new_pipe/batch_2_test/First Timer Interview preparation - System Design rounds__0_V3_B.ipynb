{
 "cells": [
  {
   "cell_type": "markdown",
   "id": "9ce846d8",
   "metadata": {},
   "source": [
    "# Metadata\n",
    "\n",
    "**Occupation Topics** - Python Developer > First Timer Interview preparation - System Design rounds\n",
    "\n",
    "**Target Number of Turns (User + Assistant)** - 1-5\n",
    "\n",
    "**Use Case** - Designing a simple URL shortening service like bit.ly\n",
    "\n",
    "**Technical Topic** - Implementing RESTful APIs with Flask\n",
    "\n",
    "**User Personality** - Curious about system architecture, confident in tackling new challenges, and prefers a practical approach to learning\n"
   ]
  },
  {
   "cell_type": "markdown",
   "id": "02b9b25d",
   "metadata": {},
   "source": [
    "# Conversation"
   ]
  },
  {
   "cell_type": "markdown",
   "id": "28034912",
   "metadata": {},
   "source": [
    "**User**\n"
   ]
  }
 ],
 "metadata": {},
 "nbformat": 4,
 "nbformat_minor": 5
}
