{
 "cells": [
  {
   "cell_type": "markdown",
   "id": "e7d2af33",
   "metadata": {},
   "source": [
    "# Metadata\n",
    "\n",
    "**Occupation Topics** - Data Journalist > Intermediate Interview preparation - Debug and fix code\n",
    "\n",
    "**Target Number of Turns (User + Assistant)** - 2-6\n",
    "\n",
    "**Use Case** - Cleaning and preparing survey data for a piece on urban development\n",
    "\n",
    "**Technical Topic** - Data cleaning with pandas\n",
    "\n",
    "**User Personality** - Practical, patient, and collaborative\n"
   ]
  },
  {
   "cell_type": "markdown",
   "id": "c6d7d753",
   "metadata": {},
   "source": [
    "# Conversation"
   ]
  },
  {
   "cell_type": "markdown",
   "id": "173f91b6",
   "metadata": {},
   "source": [
    "**User**\n"
   ]
  }
 ],
 "metadata": {},
 "nbformat": 4,
 "nbformat_minor": 5
}
