{
 "cells": [
  {
   "cell_type": "markdown",
   "id": "82f72662",
   "metadata": {},
   "source": [
    "# Metadata\n",
    "\n",
    "**Occupation Topics** - Natural Language Processing Engineer > First Timer Learning - Learn to program\n",
    "\n",
    "**Target Number of Turns (User + Assistant)** - 1-4\n",
    "\n",
    "**Use Case** - Developing a tool to detect sentiment in tweets\n",
    "\n",
    "**Technical Topic** - Using VADER sentiment analysis with Python's NLTK library\n",
    "\n",
    "**User Personality** - Open-minded, confident, and collaborative, ready to explore different sentiment analysis techniques and discuss their findings with peers.\n"
   ]
  },
  {
   "cell_type": "markdown",
   "id": "63f1e383",
   "metadata": {},
   "source": [
    "# Conversation"
   ]
  },
  {
   "cell_type": "markdown",
   "id": "fda51351",
   "metadata": {},
   "source": [
    "**User**\n"
   ]
  }
 ],
 "metadata": {},
 "nbformat": 4,
 "nbformat_minor": 5
}
