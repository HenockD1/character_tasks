{
 "cells": [
  {
   "cell_type": "markdown",
   "id": "22a48f3f",
   "metadata": {},
   "source": [
    "# Metadata\n",
    "\n",
    "**Occupation Topics** - Educational Technologist > Intermediate Interview preparation - User asks AI help to take an Interview. AI takes an interview\n",
    "\n",
    "**Target Number of Turns (User + Assistant)** - 2-6\n",
    "\n",
    "**Use Case** - Developing an interview question generator\n",
    "\n",
    "**Technical Topic** - Randomized content selection in Python\n",
    "\n",
    "**User Personality** - Analytical, Patient, and Collaborative\n"
   ]
  },
  {
   "cell_type": "markdown",
   "id": "fa355b95",
   "metadata": {},
   "source": [
    "# Conversation"
   ]
  },
  {
   "cell_type": "markdown",
   "id": "b87b5340",
   "metadata": {},
   "source": [
    "**User**\n"
   ]
  }
 ],
 "metadata": {},
 "nbformat": 4,
 "nbformat_minor": 5
}
