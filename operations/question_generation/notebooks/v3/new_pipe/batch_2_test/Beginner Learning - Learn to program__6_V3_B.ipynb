{
 "cells": [
  {
   "cell_type": "markdown",
   "id": "7bf88080",
   "metadata": {},
   "source": [
    "# Metadata\n",
    "\n",
    "**Occupation Topics** - Data Journalist > Beginner Learning - Learn to program\n",
    "\n",
    "**Target Number of Turns (User + Assistant)** - 1-5\n",
    "\n",
    "**Use Case** - Visualizing crime statistics over the last decade to identify trends\n",
    "\n",
    "**Technical Topic** - Data visualization with Matplotlib\n",
    "\n",
    "**User Personality** - Analytical and focused on details, confident in their ability to learn, prefers practical solutions\n"
   ]
  },
  {
   "cell_type": "markdown",
   "id": "d44c57d1",
   "metadata": {},
   "source": [
    "# Conversation"
   ]
  },
  {
   "cell_type": "markdown",
   "id": "c5a4d69e",
   "metadata": {},
   "source": [
    "**User**\n"
   ]
  }
 ],
 "metadata": {},
 "nbformat": 4,
 "nbformat_minor": 5
}
