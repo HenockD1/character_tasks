{
 "cells": [
  {
   "cell_type": "markdown",
   "id": "73d22d15",
   "metadata": {},
   "source": [
    "# Metadata\n",
    "\n",
    "**Occupation Topics** - Data Engineer > Beginner Learning - Learn to use some tool - infra\n",
    "\n",
    "**Target Number of Turns (User + Assistant)** - 2-6\n",
    "\n",
    "**Use Case** - Setting up a data pipeline for streaming Twitter data\n",
    "\n",
    "**Technical Topic** - Using Tweepy with Python to access the Twitter API\n",
    "\n",
    "**User Personality** - Curious about new tools, slightly hesitant due to lack of experience, but very engaged with the task at hand\n"
   ]
  },
  {
   "cell_type": "markdown",
   "id": "4556b684",
   "metadata": {},
   "source": [
    "# Conversation"
   ]
  },
  {
   "cell_type": "markdown",
   "id": "1c550b73",
   "metadata": {},
   "source": [
    "**User**\n"
   ]
  }
 ],
 "metadata": {},
 "nbformat": 4,
 "nbformat_minor": 5
}
