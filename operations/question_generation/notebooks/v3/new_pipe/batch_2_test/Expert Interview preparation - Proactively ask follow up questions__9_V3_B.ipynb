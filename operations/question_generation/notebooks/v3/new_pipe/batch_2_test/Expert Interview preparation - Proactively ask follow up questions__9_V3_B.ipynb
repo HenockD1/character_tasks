{
 "cells": [
  {
   "cell_type": "markdown",
   "id": "3f5ac519",
   "metadata": {},
   "source": [
    "# Metadata\n",
    "\n",
    "**Occupation Topics** - Data Journalist > Expert Interview preparation - Proactively ask follow up questions\n",
    "\n",
    "**Target Number of Turns (User + Assistant)** - 1-4\n",
    "\n",
    "**Use Case** - Visualizing economic trends for a feature article\n",
    "\n",
    "**Technical Topic** - Data visualization with Matplotlib\n",
    "\n",
    "**User Personality** - Confident, Practical, and Elaborate\n"
   ]
  },
  {
   "cell_type": "markdown",
   "id": "5b9a5008",
   "metadata": {},
   "source": [
    "# Conversation"
   ]
  },
  {
   "cell_type": "markdown",
   "id": "3a4cd014",
   "metadata": {},
   "source": [
    "**User**\n"
   ]
  }
 ],
 "metadata": {},
 "nbformat": 4,
 "nbformat_minor": 5
}
