{
 "cells": [
  {
   "cell_type": "markdown",
   "id": "620987a8",
   "metadata": {},
   "source": [
    "# Metadata\n",
    "\n",
    "**Occupation Topics** - Product Manager > Expert Interview preparation - Explain areas where people usually make mistakes\n",
    "\n",
    "**Target Number of Turns (User + Assistant)** - 3-7\n",
    "\n",
    "**Use Case** - Crafting a mock interview script for potential product manager candidates\n",
    "\n",
    "**Technical Topic** - Behavioral question algorithm in Python\n",
    "\n",
    "**User Personality** - Analytical, Focused, and Formal\n"
   ]
  },
  {
   "cell_type": "markdown",
   "id": "c577b9d3",
   "metadata": {},
   "source": [
    "# Conversation"
   ]
  },
  {
   "cell_type": "markdown",
   "id": "52a3fce8",
   "metadata": {},
   "source": [
    "**User**\n"
   ]
  }
 ],
 "metadata": {},
 "nbformat": 4,
 "nbformat_minor": 5
}
