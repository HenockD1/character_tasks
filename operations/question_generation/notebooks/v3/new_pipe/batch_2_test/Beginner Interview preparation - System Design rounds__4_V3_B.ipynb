{
 "cells": [
  {
   "cell_type": "markdown",
   "id": "9f8c607c",
   "metadata": {},
   "source": [
    "# Metadata\n",
    "\n",
    "**Occupation Topics** - Full-Stack Developer > Beginner Interview preparation - System Design rounds\n",
    "\n",
    "**Target Number of Turns (User + Assistant)** - 4-8\n",
    "\n",
    "**Use Case** - Building a personal portfolio website with a blog feature\n",
    "\n",
    "**Technical Topic** - Front-end interactivity using JavaScript and AJAX\n",
    "\n",
    "**User Personality** - Open-minded to different web technologies, focused on user experience, and has an elaborate communication style\n"
   ]
  },
  {
   "cell_type": "markdown",
   "id": "2a0642ea",
   "metadata": {},
   "source": [
    "# Conversation"
   ]
  },
  {
   "cell_type": "markdown",
   "id": "47d1b074",
   "metadata": {},
   "source": [
    "**User**\n"
   ]
  }
 ],
 "metadata": {},
 "nbformat": 4,
 "nbformat_minor": 5
}
