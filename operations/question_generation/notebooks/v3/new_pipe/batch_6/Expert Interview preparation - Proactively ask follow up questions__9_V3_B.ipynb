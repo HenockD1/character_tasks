{
 "cells": [
  {
   "cell_type": "markdown",
   "id": "dc546144",
   "metadata": {},
   "source": [
    "# Metadata\n",
    "\n",
    "**Occupation Topics** - Project Manager > Expert Interview preparation - Proactively ask follow up questions\n",
    "\n",
    "**Target Number of Turns (User + Assistant)** - 3-7\n",
    "\n",
    "**Use Case** - Creating a system for rating interviewee performance\n",
    "\n",
    "**Technical Topic** - Python's pandas library for data analysis\n",
    "\n",
    "**User Personality** - Curious, Open-Minded, and Collaborative\n"
   ]
  },
  {
   "cell_type": "markdown",
   "id": "af1aef88",
   "metadata": {},
   "source": [
    "# Conversation"
   ]
  },
  {
   "cell_type": "markdown",
   "id": "07e0ee91",
   "metadata": {},
   "source": [
    "**User**\n"
   ]
  }
 ],
 "metadata": {},
 "nbformat": 4,
 "nbformat_minor": 5
}
