{
 "cells": [
  {
   "cell_type": "markdown",
   "id": "82dfce38",
   "metadata": {},
   "source": [
    "# Metadata\n",
    "\n",
    "**Occupation Topics** - Data Journalist > Advanced Interview preparation - Explain alternative solutions and trade offs\n",
    "\n",
    "**Target Number of Turns (User + Assistant)** - 1-5\n",
    "\n",
    "**Use Case** - Creating an interactive data visualization for an upcoming article on climate change\n",
    "\n",
    "**Technical Topic** - Using Python's Bokeh library to create interactive plots\n",
    "\n",
    "**User Personality** - Curious, elaborate, and confident\n"
   ]
  },
  {
   "cell_type": "markdown",
   "id": "9c34a4ad",
   "metadata": {},
   "source": [
    "# Conversation"
   ]
  },
  {
   "cell_type": "markdown",
   "id": "84faef24",
   "metadata": {},
   "source": [
    "**User**\n"
   ]
  }
 ],
 "metadata": {},
 "nbformat": 4,
 "nbformat_minor": 5
}
