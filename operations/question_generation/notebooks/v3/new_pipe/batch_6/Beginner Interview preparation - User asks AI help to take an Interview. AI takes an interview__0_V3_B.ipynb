{
 "cells": [
  {
   "cell_type": "markdown",
   "id": "2f7c4993",
   "metadata": {},
   "source": [
    "# Metadata\n",
    "\n",
    "**Occupation Topics** - Full-Stack Developer > Beginner Interview preparation - User asks AI help to take an Interview. AI takes an interview\n",
    "\n",
    "**Target Number of Turns (User + Assistant)** - 1-4\n",
    "\n",
    "**Use Case** - Preparing for a technical interview where the candidate will be asked to solve coding problems on the spot.\n",
    "\n",
    "**Technical Topic** - Implementing a basic REST API using Flask\n",
    "\n",
    "**User Personality** - Curious about new technologies, somewhat hesitant due to lack of experience, but engaged and eager to learn.\n"
   ]
  },
  {
   "cell_type": "markdown",
   "id": "eac8ad9c",
   "metadata": {},
   "source": [
    "# Conversation"
   ]
  },
  {
   "cell_type": "markdown",
   "id": "50f8f8da",
   "metadata": {},
   "source": [
    "**User**\n"
   ]
  }
 ],
 "metadata": {},
 "nbformat": 4,
 "nbformat_minor": 5
}
