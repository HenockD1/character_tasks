{
 "cells": [
  {
   "cell_type": "markdown",
   "id": "82c8ab53",
   "metadata": {},
   "source": [
    "# Metadata\n",
    "\n",
    "**Occupation Topics** - Bioinformatics Specialist > First Timer Basic scripting - Write simple code in Javascript\n",
    "\n",
    "**Target Number of Turns (User + Assistant)** - 1-4\n",
    "\n",
    "**Use Case** - Visualizing DNA sequence alignments\n",
    "\n",
    "**Technical Topic** - JavaScript chart libraries\n",
    "\n",
    "**User Personality** - Analytical, open-minded, and patient\n"
   ]
  },
  {
   "cell_type": "markdown",
   "id": "31bdfbf8",
   "metadata": {},
   "source": [
    "# Conversation"
   ]
  },
  {
   "cell_type": "markdown",
   "id": "d46e6c1c",
   "metadata": {},
   "source": [
    "**User**\n"
   ]
  }
 ],
 "metadata": {},
 "nbformat": 4,
 "nbformat_minor": 5
}
