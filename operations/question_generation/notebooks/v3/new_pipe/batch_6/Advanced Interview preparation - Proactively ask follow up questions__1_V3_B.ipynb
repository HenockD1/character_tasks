{
 "cells": [
  {
   "cell_type": "markdown",
   "id": "0dcf53dd",
   "metadata": {},
   "source": [
    "# Metadata\n",
    "\n",
    "**Occupation Topics** - Data Analytics Consultant > Advanced Interview preparation - Proactively ask follow up questions\n",
    "\n",
    "**Target Number of Turns (User + Assistant)** - 1-5\n",
    "\n",
    "**Use Case** - Creating interactive data visualizations for client presentations\n",
    "\n",
    "**Technical Topic** - Leveraging Plotly in Python for creating dynamic and interactive charts\n",
    "\n",
    "**User Personality** - Engaged, elaborate, and formal, enjoys creating detailed visual stories from data and presenting them in a professional manner.\n"
   ]
  },
  {
   "cell_type": "markdown",
   "id": "658d3d1c",
   "metadata": {},
   "source": [
    "# Conversation"
   ]
  },
  {
   "cell_type": "markdown",
   "id": "4690e66c",
   "metadata": {},
   "source": [
    "**User**\n"
   ]
  }
 ],
 "metadata": {},
 "nbformat": 4,
 "nbformat_minor": 5
}
