{
 "cells": [
  {
   "cell_type": "markdown",
   "id": "158d16bd",
   "metadata": {},
   "source": [
    "# Metadata\n",
    "\n",
    "**Occupation Topics** - Precision Agriculture Specialist > Expert Interview preparation - Proactively ask follow up questions\n",
    "\n",
    "**Target Number of Turns (User + Assistant)** - 2-6\n",
    "\n",
    "**Use Case** - Developing a drone flight path algorithm for field monitoring\n",
    "\n",
    "**Technical Topic** - Writing Python code to optimize drone flight paths using the GeoPandas library\n",
    "\n",
    "**User Personality** - Confident, focused, and formal. Has a clear vision of end goals and communicates in a structured manner, relying on strong technical expertise to guide decision-making.\n"
   ]
  },
  {
   "cell_type": "markdown",
   "id": "5199d6b6",
   "metadata": {},
   "source": [
    "# Conversation"
   ]
  },
  {
   "cell_type": "markdown",
   "id": "1243382e",
   "metadata": {},
   "source": [
    "**User**\n"
   ]
  }
 ],
 "metadata": {},
 "nbformat": 4,
 "nbformat_minor": 5
}
