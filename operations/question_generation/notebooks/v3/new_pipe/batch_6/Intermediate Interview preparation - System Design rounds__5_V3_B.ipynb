{
 "cells": [
  {
   "cell_type": "markdown",
   "id": "d40497c1",
   "metadata": {},
   "source": [
    "# Metadata\n",
    "\n",
    "**Occupation Topics** - Front-End Developer > Intermediate Interview preparation - System Design rounds\n",
    "\n",
    "**Target Number of Turns (User + Assistant)** - 1-4\n",
    "\n",
    "**Use Case** - Implementing a theme switcher to toggle between light and dark mode\n",
    "\n",
    "**Technical Topic** - React Context API\n",
    "\n",
    "**User Personality** - Open-minded, confident, and independent. Willing to explore different state management solutions and confident in their ability to implement a robust feature with minimal guidance.\n"
   ]
  },
  {
   "cell_type": "markdown",
   "id": "1049bb01",
   "metadata": {},
   "source": [
    "# Conversation"
   ]
  },
  {
   "cell_type": "markdown",
   "id": "30726e9b",
   "metadata": {},
   "source": [
    "**User**\n"
   ]
  }
 ],
 "metadata": {},
 "nbformat": 4,
 "nbformat_minor": 5
}
