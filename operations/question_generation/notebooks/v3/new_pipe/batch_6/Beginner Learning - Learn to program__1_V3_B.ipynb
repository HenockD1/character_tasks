{
 "cells": [
  {
   "cell_type": "markdown",
   "id": "64ac7bd3",
   "metadata": {},
   "source": [
    "# Metadata\n",
    "\n",
    "**Occupation Topics** - Data Analyst > Beginner Learning - Learn to program\n",
    "\n",
    "**Target Number of Turns (User + Assistant)** - 1-4\n",
    "\n",
    "**Use Case** - Cleaning and preparing survey data for analysis\n",
    "\n",
    "**Technical Topic** - Data cleaning with pandas\n",
    "\n",
    "**User Personality** - Patient, practical, and collaborative\n"
   ]
  },
  {
   "cell_type": "markdown",
   "id": "e7f7c0c7",
   "metadata": {},
   "source": [
    "# Conversation"
   ]
  },
  {
   "cell_type": "markdown",
   "id": "3d17d5d6",
   "metadata": {},
   "source": [
    "**User**\n"
   ]
  }
 ],
 "metadata": {},
 "nbformat": 4,
 "nbformat_minor": 5
}
