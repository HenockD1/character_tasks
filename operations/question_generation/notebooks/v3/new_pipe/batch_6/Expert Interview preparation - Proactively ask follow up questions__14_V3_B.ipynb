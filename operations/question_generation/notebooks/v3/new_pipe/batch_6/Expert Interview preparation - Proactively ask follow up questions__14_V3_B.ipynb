{
 "cells": [
  {
   "cell_type": "markdown",
   "id": "fd5b8b73",
   "metadata": {},
   "source": [
    "# Metadata\n",
    "\n",
    "**Occupation Topics** - Supply Chain Manager > Expert Interview preparation - Proactively ask follow up questions\n",
    "\n",
    "**Target Number of Turns (User + Assistant)** - 1-4\n",
    "\n",
    "**Use Case** - Forecasting supply chain disruptions\n",
    "\n",
    "**Technical Topic** - Time series forecasting with Prophet\n",
    "\n",
    "**User Personality** - Engaged, Open-Minded, and Formal\n"
   ]
  },
  {
   "cell_type": "markdown",
   "id": "7f289b72",
   "metadata": {},
   "source": [
    "# Conversation"
   ]
  },
  {
   "cell_type": "markdown",
   "id": "75aac307",
   "metadata": {},
   "source": [
    "**User**\n"
   ]
  }
 ],
 "metadata": {},
 "nbformat": 4,
 "nbformat_minor": 5
}
