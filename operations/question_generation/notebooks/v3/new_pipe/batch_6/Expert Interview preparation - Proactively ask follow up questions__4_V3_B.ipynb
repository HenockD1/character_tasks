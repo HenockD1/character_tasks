{
 "cells": [
  {
   "cell_type": "markdown",
   "id": "609f5d9a",
   "metadata": {},
   "source": [
    "# Metadata\n",
    "\n",
    "**Occupation Topics** - Marketing Manager > Expert Interview preparation - Proactively ask follow up questions\n",
    "\n",
    "**Target Number of Turns (User + Assistant)** - 4-8\n",
    "\n",
    "**Use Case** - Developing an interactive interview preparation app\n",
    "\n",
    "**Technical Topic** - Integrating Python's Flask framework for a web-based application\n",
    "\n",
    "**User Personality** - Confident, practical, and independent. Prefers to take charge of projects and is focused on delivering tangible results. Likes to work autonomously and trusts their expertise.\n"
   ]
  },
  {
   "cell_type": "markdown",
   "id": "f20b7238",
   "metadata": {},
   "source": [
    "# Conversation"
   ]
  },
  {
   "cell_type": "markdown",
   "id": "a27d28f3",
   "metadata": {},
   "source": [
    "**User**\n"
   ]
  }
 ],
 "metadata": {},
 "nbformat": 4,
 "nbformat_minor": 5
}
