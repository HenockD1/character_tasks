{
 "cells": [
  {
   "cell_type": "markdown",
   "id": "e6560ce3",
   "metadata": {},
   "source": [
    "# Metadata\n",
    "\n",
    "**Occupation Topics** - Digital Content Strategist > Expert Interview preparation - Proactively ask follow up questions\n",
    "\n",
    "**Target Number of Turns (User + Assistant)** - 1-4\n",
    "\n",
    "**Use Case** - Automating the generation of interview questions for various expertise levels in digital marketing\n",
    "\n",
    "**Technical Topic** - Natural Language Processing with Python's NLTK library\n",
    "\n",
    "**User Personality** - Analytical, Curious, and Formal\n"
   ]
  },
  {
   "cell_type": "markdown",
   "id": "5dd960c9",
   "metadata": {},
   "source": [
    "# Conversation"
   ]
  },
  {
   "cell_type": "markdown",
   "id": "6bc8cb68",
   "metadata": {},
   "source": [
    "**User**\n"
   ]
  }
 ],
 "metadata": {},
 "nbformat": 4,
 "nbformat_minor": 5
}
