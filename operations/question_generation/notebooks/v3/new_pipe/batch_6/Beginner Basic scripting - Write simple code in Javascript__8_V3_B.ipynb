{
 "cells": [
  {
   "cell_type": "markdown",
   "id": "223b9784",
   "metadata": {},
   "source": [
    "# Metadata\n",
    "\n",
    "**Occupation Topics** - Smart City Planner > Beginner Basic scripting - Write simple code in Javascript\n",
    "\n",
    "**Target Number of Turns (User + Assistant)** - 3-7\n",
    "\n",
    "**Use Case** - Creating a dashboard for real-time public transportation updates\n",
    "\n",
    "**Technical Topic** - Data visualization with Chart.js\n",
    "\n",
    "**User Personality** - Engaged with the end-user experience, open-minded to different visualization techniques, and confident in learning new libraries\n"
   ]
  },
  {
   "cell_type": "markdown",
   "id": "ab25fdb2",
   "metadata": {},
   "source": [
    "# Conversation"
   ]
  },
  {
   "cell_type": "markdown",
   "id": "b28dffe2",
   "metadata": {},
   "source": [
    "**User**\n"
   ]
  }
 ],
 "metadata": {},
 "nbformat": 4,
 "nbformat_minor": 5
}
