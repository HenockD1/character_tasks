{
 "cells": [
  {
   "cell_type": "markdown",
   "id": "c6445192",
   "metadata": {},
   "source": [
    "# Metadata\n",
    "\n",
    "**Occupation Topics** - Financial Analyst > Expert Interview preparation - Explain alternative solutions and trade offs\n",
    "\n",
    "**Target Number of Turns (User + Assistant)** - 1-4\n",
    "\n",
    "**Use Case** - Automating data extraction from financial reports\n",
    "\n",
    "**Technical Topic** - Python libraries for PDF data extraction\n",
    "\n",
    "**User Personality** - Curious, Practical, and Independent\n"
   ]
  },
  {
   "cell_type": "markdown",
   "id": "2d48a51a",
   "metadata": {},
   "source": [
    "# Conversation"
   ]
  },
  {
   "cell_type": "markdown",
   "id": "f23c6405",
   "metadata": {},
   "source": [
    "**User**\n"
   ]
  }
 ],
 "metadata": {},
 "nbformat": 4,
 "nbformat_minor": 5
}
