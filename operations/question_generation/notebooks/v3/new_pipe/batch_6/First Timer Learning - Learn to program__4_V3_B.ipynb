{
 "cells": [
  {
   "cell_type": "markdown",
   "id": "b6997d52",
   "metadata": {},
   "source": [
    "# Metadata\n",
    "\n",
    "**Occupation Topics** - Web Developer > First Timer Learning - Learn to program\n",
    "\n",
    "**Target Number of Turns (User + Assistant)** - 1-4\n",
    "\n",
    "**Use Case** - Creating a simple personal portfolio website\n",
    "\n",
    "**Technical Topic** - HTML and CSS basics\n",
    "\n",
    "**User Personality** - Curious, engaged, and slightly hesitant\n"
   ]
  },
  {
   "cell_type": "markdown",
   "id": "25fbdca4",
   "metadata": {},
   "source": [
    "# Conversation"
   ]
  },
  {
   "cell_type": "markdown",
   "id": "0694a6ee",
   "metadata": {},
   "source": [
    "**User**\n"
   ]
  }
 ],
 "metadata": {},
 "nbformat": 4,
 "nbformat_minor": 5
}
