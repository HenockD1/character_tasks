{
 "cells": [
  {
   "cell_type": "markdown",
   "id": "72447aa8",
   "metadata": {},
   "source": [
    "# Metadata\n",
    "\n",
    "**Occupation Topics** - Data Analyst > First Timer Learning - Learn to program\n",
    "\n",
    "**Target Number of Turns (User + Assistant)** - 1-5\n",
    "\n",
    "**Use Case** - Visualizing demographic information to support marketing strategies\n",
    "\n",
    "**Technical Topic** - Creating interactive plots with Plotly in Python\n",
    "\n",
    "**User Personality** - Analytical, confident, and collaborative, seeking to share insights with a team\n"
   ]
  },
  {
   "cell_type": "markdown",
   "id": "16dcf6dc",
   "metadata": {},
   "source": [
    "# Conversation"
   ]
  },
  {
   "cell_type": "markdown",
   "id": "1b0a6118",
   "metadata": {},
   "source": [
    "**User**\n"
   ]
  }
 ],
 "metadata": {},
 "nbformat": 4,
 "nbformat_minor": 5
}
