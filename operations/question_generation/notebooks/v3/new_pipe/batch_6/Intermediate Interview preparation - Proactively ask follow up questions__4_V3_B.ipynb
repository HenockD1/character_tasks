{
 "cells": [
  {
   "cell_type": "markdown",
   "id": "f6dd2a70",
   "metadata": {},
   "source": [
    "# Metadata\n",
    "\n",
    "**Occupation Topics** - Mobile App Developer > Intermediate Interview preparation - Proactively ask follow up questions\n",
    "\n",
    "**Target Number of Turns (User + Assistant)** - 2-6\n",
    "\n",
    "**Use Case** - Designing a user-friendly onboarding experience for a new mobile application\n",
    "\n",
    "**Technical Topic** - Creating animated walkthroughs using Flutter's animation library\n",
    "\n",
    "**User Personality** - Intuitive, open-minded, and elaborate. Trusts their instincts when it comes to design and enjoys exploring different perspectives to create detailed solutions.\n"
   ]
  },
  {
   "cell_type": "markdown",
   "id": "d3e61035",
   "metadata": {},
   "source": [
    "# Conversation"
   ]
  },
  {
   "cell_type": "markdown",
   "id": "d20743b9",
   "metadata": {},
   "source": [
    "**User**\n"
   ]
  }
 ],
 "metadata": {},
 "nbformat": 4,
 "nbformat_minor": 5
}
