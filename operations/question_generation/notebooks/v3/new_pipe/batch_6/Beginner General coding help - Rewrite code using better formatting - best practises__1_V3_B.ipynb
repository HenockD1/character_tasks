{
 "cells": [
  {
   "cell_type": "markdown",
   "id": "03280749",
   "metadata": {},
   "source": [
    "# Metadata\n",
    "\n",
    "**Occupation Topics** - Mobile App Developer > Beginner General coding help - Rewrite code using better formatting - best practises\n",
    "\n",
    "**Target Number of Turns (User + Assistant)** - 3-7\n",
    "\n",
    "**Use Case** - Refactoring a basic currency converter app to follow best practices\n",
    "\n",
    "**Technical Topic** - Python code formatting with PEP 8 guidelines\n",
    "\n",
    "**User Personality** - Curious, engaged, and slightly hesitant as they are new to the practice of clean coding\n"
   ]
  },
  {
   "cell_type": "markdown",
   "id": "64ab61fb",
   "metadata": {},
   "source": [
    "# Conversation"
   ]
  },
  {
   "cell_type": "markdown",
   "id": "d9940c89",
   "metadata": {},
   "source": [
    "**User**\n"
   ]
  }
 ],
 "metadata": {},
 "nbformat": 4,
 "nbformat_minor": 5
}
