{
 "cells": [
  {
   "cell_type": "markdown",
   "id": "50c5fcd0",
   "metadata": {},
   "source": [
    "# Metadata\n",
    "\n",
    "**Occupation Topics** - Mobile App Developer > First Timer Interview preparation - Debug and fix code\n",
    "\n",
    "**Target Number of Turns (User + Assistant)** - 1-4\n",
    "\n",
    "**Use Case** - Preparing for a technical interview by practicing common debugging scenarios in mobile app development\n",
    "\n",
    "**Technical Topic** - Using Android Studio Debugger\n",
    "\n",
    "**User Personality** - Curious, engaged, and slightly hesitant as they are new to the field and eager to learn the right debugging techniques\n"
   ]
  },
  {
   "cell_type": "markdown",
   "id": "5b55e3a0",
   "metadata": {},
   "source": [
    "# Conversation"
   ]
  },
  {
   "cell_type": "markdown",
   "id": "d2aee64e",
   "metadata": {},
   "source": [
    "**User**\n"
   ]
  }
 ],
 "metadata": {},
 "nbformat": 4,
 "nbformat_minor": 5
}
