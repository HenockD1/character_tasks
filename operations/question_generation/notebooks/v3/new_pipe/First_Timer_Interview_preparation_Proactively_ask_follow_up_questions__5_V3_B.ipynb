{
 "cells": [
  {
   "cell_type": "markdown",
   "id": "b446bcbf",
   "metadata": {},
   "source": [
    "# Metadata\n",
    "\n",
    "**Occupation Topics** - Mobile App Developer > First Timer Interview preparation - Proactively ask follow up questions\n",
    "\n",
    "**Target Number of Turns (User + Assistant)** - 2-6\n",
    "\n",
    "**Use Case** - Creating a simple mobile app to showcase portfolio projects during interviews\n",
    "\n",
    "**Technical Topic** - Building a basic UI with Flutter\n",
    "\n",
    "**User Personality** - Curious, engaged, and somewhat hesitant as they are new to interviews and want to make a good impression\n"
   ]
  },
  {
   "cell_type": "markdown",
   "id": "0cf1b547",
   "metadata": {},
   "source": [
    "# Conversation"
   ]
  },
  {
   "cell_type": "markdown",
   "id": "6769d96b",
   "metadata": {},
   "source": [
    "**User**\n"
   ]
  }
 ],
 "metadata": {},
 "nbformat": 4,
 "nbformat_minor": 5
}
