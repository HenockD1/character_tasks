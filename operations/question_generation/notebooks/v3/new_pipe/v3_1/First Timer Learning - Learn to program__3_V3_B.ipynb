{
 "cells": [
  {
   "cell_type": "markdown",
   "id": "d65a47af",
   "metadata": {},
   "source": [
    "# Metadata\n",
    "\n",
    "\n",
    "\n",
    "\n",
    "\n",
    "\n",
    "**User Occupation** - Web Developer\n",
    "\n",
    "**User Experience Level** - First Timer\n",
    "\n",
    "**User Use Case** - Learning - Learn to program - Creating a simple personal portfolio website\n",
    "\n",
    "**Technical Topic Suggestion** - HTML and CSS basics\n",
    "\n",
    "**User Personality** - Curious, engaged, and slightly hesitant as they are just starting to learn programming\n",
    "\n",
    "**Target Number of Turns (User + Assistant)** - 3-7"
   ]
  },
  {
   "cell_type": "markdown",
   "id": "5e68bdc8",
   "metadata": {},
   "source": [
    "# Conversation"
   ]
  },
  {
   "cell_type": "markdown",
   "id": "c85afad8",
   "metadata": {},
   "source": [
    "**User**"
   ]
  }
 ],
 "metadata": {},
 "nbformat": 4,
 "nbformat_minor": 5
}
