{
 "cells": [
  {
   "cell_type": "markdown",
   "id": "b43729a5",
   "metadata": {},
   "source": [
    "# Metadata\n",
    "\n",
    "\n",
    "\n",
    "\n",
    "\n",
    "\n",
    "**User Occupation** - Web Developer\n",
    "\n",
    "**User Experience Level** - First Timer\n",
    "\n",
    "**User Use Case** - General coding help - Rewrite code using better formatting - best practises - Improving readability of a simple HTML and CSS project\n",
    "\n",
    "**Technical Topic Suggestion** - Code refactoring in web development\n",
    "\n",
    "**User Personality** - Curious, engaged, and slightly hesitant\n",
    "\n",
    "**Target Number of Turns (User + Assistant)** - 1-4"
   ]
  },
  {
   "cell_type": "markdown",
   "id": "5715f65e",
   "metadata": {},
   "source": [
    "# Conversation"
   ]
  },
  {
   "cell_type": "markdown",
   "id": "121f109c",
   "metadata": {},
   "source": [
    "**User**"
   ]
  }
 ],
 "metadata": {},
 "nbformat": 4,
 "nbformat_minor": 5
}
