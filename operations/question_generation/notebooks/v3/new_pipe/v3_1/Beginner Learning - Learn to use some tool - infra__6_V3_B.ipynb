{
 "cells": [
  {
   "cell_type": "markdown",
   "id": "0bfe1d31",
   "metadata": {},
   "source": [
    "# Metadata\n",
    "\n",
    "\n",
    "\n",
    "\n",
    "\n",
    "\n",
    "**User Occupation** - Data Scientist\n",
    "\n",
    "**User Experience Level** - Beginner\n",
    "\n",
    "**User Use Case** - Learning - Learn to use some tool - infra - Analyzing customer sentiment from social media data\n",
    "\n",
    "**Technical Topic Suggestion** - Implementing text processing with NLTK in Python\n",
    "\n",
    "**User Personality** - Curious, engaged, and open-minded\n",
    "\n",
    "**Target Number of Turns (User + Assistant)** - 1-4"
   ]
  },
  {
   "cell_type": "markdown",
   "id": "d41092b1",
   "metadata": {},
   "source": [
    "# Conversation"
   ]
  },
  {
   "cell_type": "markdown",
   "id": "30859708",
   "metadata": {},
   "source": [
    "**User**"
   ]
  }
 ],
 "metadata": {},
 "nbformat": 4,
 "nbformat_minor": 5
}
