{
 "cells": [
  {
   "cell_type": "markdown",
   "id": "e93a32cc",
   "metadata": {},
   "source": [
    "# Metadata\n",
    "\n",
    "\n",
    "\n",
    "\n",
    "\n",
    "\n",
    "**User Occupation** - Python Developer\n",
    "\n",
    "**User Experience Level** - Expert\n",
    "\n",
    "**User Use Case** - Interview preparation - User asks AI help to take an Interview. AI takes an interview - Preparing for a system design interview question on creating a lightweight in-memory key-value store.\n",
    "\n",
    "**Technical Topic Suggestion** - Python data structures and object-oriented design\n",
    "\n",
    "**User Personality** - Curious, practical, and collaborative\n",
    "\n",
    "**Target Number of Turns (User + Assistant)** - 3-7"
   ]
  },
  {
   "cell_type": "markdown",
   "id": "73b8ffaf",
   "metadata": {},
   "source": [
    "# Conversation"
   ]
  },
  {
   "cell_type": "markdown",
   "id": "52ac2922",
   "metadata": {},
   "source": [
    "**User**"
   ]
  }
 ],
 "metadata": {},
 "nbformat": 4,
 "nbformat_minor": 5
}
