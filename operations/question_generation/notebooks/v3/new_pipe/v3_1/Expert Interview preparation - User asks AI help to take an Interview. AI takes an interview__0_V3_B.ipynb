{
 "cells": [
  {
   "cell_type": "markdown",
   "id": "cceee030",
   "metadata": {},
   "source": [
    "# Metadata\n",
    "\n",
    "\n",
    "\n",
    "\n",
    "\n",
    "\n",
    "**User Occupation** - Python Developer\n",
    "\n",
    "**User Experience Level** - Expert\n",
    "\n",
    "**User Use Case** - Interview preparation - User asks AI help to take an Interview. AI takes an interview - Simulating a coding interview scenario where the user must write a function to merge two sorted lists into a single sorted list.\n",
    "\n",
    "**Technical Topic Suggestion** - Python list manipulation and sorting algorithms\n",
    "\n",
    "**User Personality** - Analytical, confident, and concise\n",
    "\n",
    "**Target Number of Turns (User + Assistant)** - 1-5"
   ]
  },
  {
   "cell_type": "markdown",
   "id": "f978f50d",
   "metadata": {},
   "source": [
    "# Conversation"
   ]
  },
  {
   "cell_type": "markdown",
   "id": "36388a16",
   "metadata": {},
   "source": [
    "**User**"
   ]
  }
 ],
 "metadata": {},
 "nbformat": 4,
 "nbformat_minor": 5
}
