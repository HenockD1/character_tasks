{
 "cells": [
  {
   "cell_type": "markdown",
   "id": "c1a9d77b",
   "metadata": {},
   "source": [
    "# Metadata\n",
    "\n",
    "\n",
    "\n",
    "\n",
    "\n",
    "\n",
    "**User Occupation** - Data Scientist\n",
    "\n",
    "**User Experience Level** - Beginner\n",
    "\n",
    "**User Use Case** - Basic scripting - Write simple code in Javascript - Visualizing data trends on a web page\n",
    "\n",
    "**Technical Topic Suggestion** - D3.js basics\n",
    "\n",
    "**User Personality** - Analytical, confident, and open-minded\n",
    "\n",
    "**Target Number of Turns (User + Assistant)** - 1-4"
   ]
  },
  {
   "cell_type": "markdown",
   "id": "266f38f2",
   "metadata": {},
   "source": [
    "# Conversation"
   ]
  },
  {
   "cell_type": "markdown",
   "id": "d35f723d",
   "metadata": {},
   "source": [
    "**User**"
   ]
  }
 ],
 "metadata": {},
 "nbformat": 4,
 "nbformat_minor": 5
}
