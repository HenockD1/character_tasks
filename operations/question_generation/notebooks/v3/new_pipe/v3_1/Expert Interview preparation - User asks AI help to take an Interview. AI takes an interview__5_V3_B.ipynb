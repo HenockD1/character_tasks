{
 "cells": [
  {
   "cell_type": "markdown",
   "id": "ad1456e5",
   "metadata": {},
   "source": [
    "# Metadata\n",
    "\n",
    "\n",
    "\n",
    "\n",
    "\n",
    "\n",
    "**User Occupation** - Web Developer\n",
    "\n",
    "**User Experience Level** - Expert\n",
    "\n",
    "**User Use Case** - Interview preparation - User asks AI help to take an Interview. AI takes an interview - Assessing the candidate's understanding of web security by asking them to explain how to protect against SQL injection in a PHP application\n",
    "\n",
    "**Technical Topic Suggestion** - Web security practices and PHP data sanitization\n",
    "\n",
    "**User Personality** - Engaged, open-minded, and formal\n",
    "\n",
    "**Target Number of Turns (User + Assistant)** - 1-5"
   ]
  },
  {
   "cell_type": "markdown",
   "id": "3053c25e",
   "metadata": {},
   "source": [
    "# Conversation"
   ]
  },
  {
   "cell_type": "markdown",
   "id": "9c781eba",
   "metadata": {},
   "source": [
    "**User**"
   ]
  }
 ],
 "metadata": {},
 "nbformat": 4,
 "nbformat_minor": 5
}
