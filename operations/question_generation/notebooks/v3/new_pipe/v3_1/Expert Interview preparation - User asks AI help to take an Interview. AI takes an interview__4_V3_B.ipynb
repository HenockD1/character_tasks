{
 "cells": [
  {
   "cell_type": "markdown",
   "id": "efdb902b",
   "metadata": {},
   "source": [
    "# Metadata\n",
    "\n",
    "\n",
    "\n",
    "\n",
    "\n",
    "\n",
    "**User Occupation** - Web Developer\n",
    "\n",
    "**User Experience Level** - Expert\n",
    "\n",
    "**User Use Case** - Interview preparation - User asks AI help to take an Interview. AI takes an interview - Creating a mock interview question where the candidate needs to debug a piece of JavaScript code involving asynchronous execution\n",
    "\n",
    "**Technical Topic Suggestion** - JavaScript Promises and async-await patterns\n",
    "\n",
    "**User Personality** - Curious, patient, and collaborative\n",
    "\n",
    "**Target Number of Turns (User + Assistant)** - 1-5"
   ]
  },
  {
   "cell_type": "markdown",
   "id": "5a16925d",
   "metadata": {},
   "source": [
    "# Conversation"
   ]
  },
  {
   "cell_type": "markdown",
   "id": "6a89172e",
   "metadata": {},
   "source": [
    "**User**"
   ]
  }
 ],
 "metadata": {},
 "nbformat": 4,
 "nbformat_minor": 5
}
