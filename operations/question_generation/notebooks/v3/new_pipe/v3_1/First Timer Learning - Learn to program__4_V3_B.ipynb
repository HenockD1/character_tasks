{
 "cells": [
  {
   "cell_type": "markdown",
   "id": "7da900d7",
   "metadata": {},
   "source": [
    "# Metadata\n",
    "\n",
    "\n",
    "\n",
    "\n",
    "\n",
    "\n",
    "**User Occupation** - Web Developer\n",
    "\n",
    "**User Experience Level** - First Timer\n",
    "\n",
    "**User Use Case** - Learning - Learn to program - Adding a contact form to a webpage\n",
    "\n",
    "**Technical Topic Suggestion** - Handling form data with Flask\n",
    "\n",
    "**User Personality** - Analytical, patient, and independent, wanting to understand the process behind web forms\n",
    "\n",
    "**Target Number of Turns (User + Assistant)** - 1-5"
   ]
  },
  {
   "cell_type": "markdown",
   "id": "243b1484",
   "metadata": {},
   "source": [
    "# Conversation"
   ]
  },
  {
   "cell_type": "markdown",
   "id": "ccd5a790",
   "metadata": {},
   "source": [
    "**User**"
   ]
  }
 ],
 "metadata": {},
 "nbformat": 4,
 "nbformat_minor": 5
}
