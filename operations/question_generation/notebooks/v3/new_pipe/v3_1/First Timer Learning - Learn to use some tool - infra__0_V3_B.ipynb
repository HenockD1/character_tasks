{
 "cells": [
  {
   "cell_type": "markdown",
   "id": "d5ff8eb4",
   "metadata": {},
   "source": [
    "# Metadata\n",
    "\n",
    "\n",
    "\n",
    "\n",
    "\n",
    "\n",
    "**User Occupation** - Python Developer\n",
    "\n",
    "**User Experience Level** - First Timer\n",
    "\n",
    "**User Use Case** - Learning - Learn to use some tool - infra - Setting up a Python development environment for the first time\n",
    "\n",
    "**Technical Topic Suggestion** - Virtual environments with virtualenv\n",
    "\n",
    "**User Personality** - Curious, patient, and independent\n",
    "\n",
    "**Target Number of Turns (User + Assistant)** - 1-5"
   ]
  },
  {
   "cell_type": "markdown",
   "id": "fb9544b0",
   "metadata": {},
   "source": [
    "# Conversation"
   ]
  },
  {
   "cell_type": "markdown",
   "id": "a6256552",
   "metadata": {},
   "source": [
    "**User**"
   ]
  }
 ],
 "metadata": {},
 "nbformat": 4,
 "nbformat_minor": 5
}
