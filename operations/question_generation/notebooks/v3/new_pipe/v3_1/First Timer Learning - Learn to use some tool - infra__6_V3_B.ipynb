{
 "cells": [
  {
   "cell_type": "markdown",
   "id": "e86d434c",
   "metadata": {},
   "source": [
    "# Metadata\n",
    "\n",
    "\n",
    "\n",
    "\n",
    "\n",
    "\n",
    "**User Occupation** - Data Scientist\n",
    "\n",
    "**User Experience Level** - First Timer\n",
    "\n",
    "**User Use Case** - Learning - Learn to use some tool - infra - Analyzing a small dataset to find patterns and insights\n",
    "\n",
    "**Technical Topic Suggestion** - Introduction to Pandas for data manipulation\n",
    "\n",
    "**User Personality** - Curious, engaged, and slightly hesitant as they are new to the tool\n",
    "\n",
    "**Target Number of Turns (User + Assistant)** - 1-5"
   ]
  },
  {
   "cell_type": "markdown",
   "id": "f121dfd3",
   "metadata": {},
   "source": [
    "# Conversation"
   ]
  },
  {
   "cell_type": "markdown",
   "id": "9d6d6688",
   "metadata": {},
   "source": [
    "**User**"
   ]
  }
 ],
 "metadata": {},
 "nbformat": 4,
 "nbformat_minor": 5
}
