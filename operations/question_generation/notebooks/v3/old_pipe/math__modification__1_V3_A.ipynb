{
 "cells": [
  {
   "cell_type": "markdown",
   "id": "6c9bbc08",
   "metadata": {},
   "source": [
    "# Metadata\n",
    "\n",
    "**Python Topics** - algorithms > by_topic > math\n",
    "\n",
    "**Type** - modification\n",
    "\n",
    "**Target Number of Turns (User + Assistant)** - 1-4\n"
   ]
  },
  {
   "cell_type": "markdown",
   "id": "886ff2a2",
   "metadata": {},
   "source": [
    "# Conversation"
   ]
  },
  {
   "cell_type": "markdown",
   "id": "5bb8ffcb",
   "metadata": {},
   "source": [
    "**User**\n",
    "\n",
    "I'm trying to write a Python function that computes the nth root of a number using the Newton-Raphson method. Could you help me complete it? Here's my initial code: ```def nth_root(num, n): guess = num / n while True: new_guess = (1/n) * ((n-1) * guess + num / guess**(n-1)) if abs(new_guess - guess) < 1e-10: return new_guess guess = new_guess```\n"
   ]
  }
 ],
 "metadata": {},
 "nbformat": 4,
 "nbformat_minor": 5
}
