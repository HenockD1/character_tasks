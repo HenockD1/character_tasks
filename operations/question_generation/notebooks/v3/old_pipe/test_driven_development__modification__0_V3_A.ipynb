{
 "cells": [
  {
   "cell_type": "markdown",
   "id": "c814db4a",
   "metadata": {},
   "source": [
    "# Metadata\n",
    "\n",
    "**Python Topics** - unit_testing_methodology > test_driven_development\n",
    "\n",
    "**Type** - modification\n",
    "\n",
    "**Target Number of Turns (User + Assistant)** - 5-9\n"
   ]
  },
  {
   "cell_type": "markdown",
   "id": "990e5f40",
   "metadata": {},
   "source": [
    "# Conversation"
   ]
  },
  {
   "cell_type": "markdown",
   "id": "4209ea51",
   "metadata": {},
   "source": [
    "**User**\n",
    "\n",
    "I'm learning TDD and need to write a test for a 'square' function that returns the square of a number. Can you help me write a pytest test case that checks if the square of 5 is 25? I haven't written the function yet.\n"
   ]
  }
 ],
 "metadata": {},
 "nbformat": 4,
 "nbformat_minor": 5
}
