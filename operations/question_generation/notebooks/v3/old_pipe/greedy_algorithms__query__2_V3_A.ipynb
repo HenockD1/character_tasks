{
 "cells": [
  {
   "cell_type": "markdown",
   "id": "e73c9513",
   "metadata": {},
   "source": [
    "# Metadata\n",
    "\n",
    "**Python Topics** - algorithms > by_topic > greedy_algorithms\n",
    "\n",
    "**Type** - query\n",
    "\n",
    "**Target Number of Turns (User + Assistant)** - 1-5\n"
   ]
  },
  {
   "cell_type": "markdown",
   "id": "049edc39",
   "metadata": {},
   "source": [
    "# Conversation"
   ]
  },
  {
   "cell_type": "markdown",
   "id": "25cf04be",
   "metadata": {},
   "source": [
    "**User**\n",
    "\n",
    "Can you provide a Python example where a greedy algorithm is used to minimize the total penalty for jobs that are processed after their respective deadlines?\n"
   ]
  }
 ],
 "metadata": {},
 "nbformat": 4,
 "nbformat_minor": 5
}
