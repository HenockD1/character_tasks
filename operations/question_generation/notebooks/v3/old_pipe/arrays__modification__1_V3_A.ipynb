{
 "cells": [
  {
   "cell_type": "markdown",
   "id": "a974c202",
   "metadata": {},
   "source": [
    "# Metadata\n",
    "\n",
    "**Python Topics** - algorithms > by_data_structure > arrays\n",
    "\n",
    "**Type** - modification\n",
    "\n",
    "**Target Number of Turns (User + Assistant)** - 1-5\n"
   ]
  },
  {
   "cell_type": "markdown",
   "id": "1032d614",
   "metadata": {},
   "source": [
    "# Conversation"
   ]
  },
  {
   "cell_type": "markdown",
   "id": "0f3cd784",
   "metadata": {},
   "source": [
    "**User**\n",
    "\n",
    "I'm working with a 2D array and need to transpose it. Could you provide a function that takes a 2D array as input and returns a new 2D array that's the transpose of the input? For example, input: [[1, 2, 3], [4, 5, 6]].\n"
   ]
  }
 ],
 "metadata": {},
 "nbformat": 4,
 "nbformat_minor": 5
}
