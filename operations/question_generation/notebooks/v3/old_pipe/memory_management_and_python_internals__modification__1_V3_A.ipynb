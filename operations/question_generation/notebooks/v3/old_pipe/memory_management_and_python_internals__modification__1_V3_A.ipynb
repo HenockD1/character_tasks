{
 "cells": [
  {
   "cell_type": "markdown",
   "id": "a1cb8b9d",
   "metadata": {},
   "source": [
    "# Metadata\n",
    "\n",
    "**Python Topics** - python_language_and_scripting > memory_management_and_python_internals\n",
    "\n",
    "**Type** - modification\n",
    "\n",
    "**Target Number of Turns (User + Assistant)** - 2-6\n"
   ]
  },
  {
   "cell_type": "markdown",
   "id": "2abaa088",
   "metadata": {},
   "source": [
    "# Conversation"
   ]
  },
  {
   "cell_type": "markdown",
   "id": "c3e06a1d",
   "metadata": {},
   "source": [
    "**User**\n",
    "\n",
    "I'm curious about how the `gc.get_objects()` function works. Can you modify this snippet to print the number of tuples currently in memory? `import gc\n",
    "def count_tuples():\n",
    "    # Your code here\n",
    "    pass`\n"
   ]
  }
 ],
 "metadata": {},
 "nbformat": 4,
 "nbformat_minor": 5
}
