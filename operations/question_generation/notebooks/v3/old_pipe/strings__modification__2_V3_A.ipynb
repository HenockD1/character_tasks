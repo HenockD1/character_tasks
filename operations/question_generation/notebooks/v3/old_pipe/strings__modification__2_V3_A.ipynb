{
 "cells": [
  {
   "cell_type": "markdown",
   "id": "004ceaa1",
   "metadata": {},
   "source": [
    "# Metadata\n",
    "\n",
    "**Python Topics** - algorithms > by_data_structure > strings\n",
    "\n",
    "**Type** - modification\n",
    "\n",
    "**Target Number of Turns (User + Assistant)** - 2-6\n"
   ]
  },
  {
   "cell_type": "markdown",
   "id": "1e78e9d8",
   "metadata": {},
   "source": [
    "# Conversation"
   ]
  },
  {
   "cell_type": "markdown",
   "id": "795f0a61",
   "metadata": {},
   "source": [
    "**User**\n",
    "\n",
    "Can you help me modify this code to find the longest word in a sentence? Here's what I have: `sentence = 'Python developers write pythonic code'`\n"
   ]
  }
 ],
 "metadata": {},
 "nbformat": 4,
 "nbformat_minor": 5
}
