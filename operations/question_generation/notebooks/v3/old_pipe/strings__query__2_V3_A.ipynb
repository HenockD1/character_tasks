{
 "cells": [
  {
   "cell_type": "markdown",
   "id": "c839d321",
   "metadata": {},
   "source": [
    "# Metadata\n",
    "\n",
    "**Python Topics** - algorithms > by_data_structure > strings\n",
    "\n",
    "**Type** - query\n",
    "\n",
    "**Target Number of Turns (User + Assistant)** - 1-5\n"
   ]
  },
  {
   "cell_type": "markdown",
   "id": "a7a45f3d",
   "metadata": {},
   "source": [
    "# Conversation"
   ]
  },
  {
   "cell_type": "markdown",
   "id": "1440bbb0",
   "metadata": {},
   "source": [
    "**User**\n",
    "\n",
    "Could you demonstrate how to split a string into a list of substrings of equal length, except for possibly the last one?\n"
   ]
  }
 ],
 "metadata": {},
 "nbformat": 4,
 "nbformat_minor": 5
}
