{
 "cells": [
  {
   "cell_type": "markdown",
   "id": "c556b4ee",
   "metadata": {},
   "source": [
    "# Metadata\n",
    "\n",
    "**Python Topics** - python_language_and_scripting > data_handling_manipulation\n",
    "\n",
    "**Type** - modification\n",
    "\n",
    "**Target Number of Turns (User + Assistant)** - 3-7\n"
   ]
  },
  {
   "cell_type": "markdown",
   "id": "81984deb",
   "metadata": {},
   "source": [
    "# Conversation"
   ]
  },
  {
   "cell_type": "markdown",
   "id": "010ffaf2",
   "metadata": {},
   "source": [
    "**User**\n",
    "\n",
    "I'm trying to combine two lists into a dictionary, where one list contains the keys and the other contains the values. However, the lists are not the same length. Can you modify my code to fill in missing values with `None`? Here are my lists: `keys = ['a', 'b', 'c']` and `values = [1, 2]`.\n"
   ]
  }
 ],
 "metadata": {},
 "nbformat": 4,
 "nbformat_minor": 5
}
