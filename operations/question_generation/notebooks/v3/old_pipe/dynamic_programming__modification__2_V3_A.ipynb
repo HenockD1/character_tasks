{
 "cells": [
  {
   "cell_type": "markdown",
   "id": "0f29da30",
   "metadata": {},
   "source": [
    "# Metadata\n",
    "\n",
    "**Python Topics** - algorithms > by_topic > dynamic_programming\n",
    "\n",
    "**Type** - modification\n",
    "\n",
    "**Target Number of Turns (User + Assistant)** - 4-8\n"
   ]
  },
  {
   "cell_type": "markdown",
   "id": "35ff2bfc",
   "metadata": {},
   "source": [
    "# Conversation"
   ]
  },
  {
   "cell_type": "markdown",
   "id": "0dbbb19c",
   "metadata": {},
   "source": [
    "**User**\n",
    "\n",
    "Please help me convert this recursive edit distance function into a dynamic programming version for better performance. Here's the existing code: def edit_distance(str1, str2, m, n): if m == 0: return n if n == 0: return m if str1[m-1] == str2[n-1]: return edit_distance(str1, str2, m-1, n-1) return 1 + min(edit_distance(str1, str2, m, n-1), edit_distance(str1, str2, m-1, n), edit_distance(str1, str2, m-1, n-1)).\n"
   ]
  }
 ],
 "metadata": {},
 "nbformat": 4,
 "nbformat_minor": 5
}
