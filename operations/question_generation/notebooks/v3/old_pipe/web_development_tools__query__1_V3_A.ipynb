{
 "cells": [
  {
   "cell_type": "markdown",
   "id": "c127e1cf",
   "metadata": {},
   "source": [
    "# Metadata\n",
    "\n",
    "**Python Topics** - web_development > web_development_tools\n",
    "\n",
    "**Type** - query\n",
    "\n",
    "**Target Number of Turns (User + Assistant)** - 1-4\n"
   ]
  },
  {
   "cell_type": "markdown",
   "id": "af9c042b",
   "metadata": {},
   "source": [
    "# Conversation"
   ]
  },
  {
   "cell_type": "markdown",
   "id": "2fa7c834",
   "metadata": {},
   "source": [
    "**User**\n",
    "\n",
    "What's the proper way to handle 404 errors in a Flask app with a custom error page?\n"
   ]
  }
 ],
 "metadata": {},
 "nbformat": 4,
 "nbformat_minor": 5
}
