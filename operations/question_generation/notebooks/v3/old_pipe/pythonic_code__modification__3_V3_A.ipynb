{
 "cells": [
  {
   "cell_type": "markdown",
   "id": "351d6315",
   "metadata": {},
   "source": [
    "# Metadata\n",
    "\n",
    "**Python Topics** - python_language_and_scripting > pythonic_code\n",
    "\n",
    "**Type** - modification\n",
    "\n",
    "**Target Number of Turns (User + Assistant)** - 1-4\n"
   ]
  },
  {
   "cell_type": "markdown",
   "id": "89853fe2",
   "metadata": {},
   "source": [
    "# Conversation"
   ]
  },
  {
   "cell_type": "markdown",
   "id": "ed13855f",
   "metadata": {},
   "source": [
    "**User**\n",
    "\n",
    "I want to reverse the keys and values in a dictionary. Here's my current dictionary: my_dict = {'a': 1, 'b': 2, 'c': 3}. Can you provide a Pythonic one-liner to achieve this?\n"
   ]
  }
 ],
 "metadata": {},
 "nbformat": 4,
 "nbformat_minor": 5
}
