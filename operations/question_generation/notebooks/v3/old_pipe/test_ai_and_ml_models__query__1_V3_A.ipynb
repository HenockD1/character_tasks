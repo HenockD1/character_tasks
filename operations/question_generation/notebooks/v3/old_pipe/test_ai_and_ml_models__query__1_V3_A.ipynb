{
 "cells": [
  {
   "cell_type": "markdown",
   "id": "bc9f3e18",
   "metadata": {},
   "source": [
    "# Metadata\n",
    "\n",
    "**Python Topics** - unit_testing_methodology > test_ai_and_ml_models\n",
    "\n",
    "**Type** - query\n",
    "\n",
    "**Target Number of Turns (User + Assistant)** - 4-8\n"
   ]
  },
  {
   "cell_type": "markdown",
   "id": "f20ac34c",
   "metadata": {},
   "source": [
    "# Conversation"
   ]
  },
  {
   "cell_type": "markdown",
   "id": "b069108a",
   "metadata": {},
   "source": [
    "**User**\n",
    "\n",
    "Could you guide me on writing a test to verify that my model's loss decreases over successive training epochs?\n"
   ]
  }
 ],
 "metadata": {},
 "nbformat": 4,
 "nbformat_minor": 5
}
