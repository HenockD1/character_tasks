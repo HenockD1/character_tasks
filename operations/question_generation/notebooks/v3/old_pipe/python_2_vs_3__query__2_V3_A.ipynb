{
 "cells": [
  {
   "cell_type": "markdown",
   "id": "c841eb3b",
   "metadata": {},
   "source": [
    "# Metadata\n",
    "\n",
    "**Python Topics** - python_language_and_scripting > python_2_vs_3\n",
    "\n",
    "**Type** - query\n",
    "\n",
    "**Target Number of Turns (User + Assistant)** - 2-6\n"
   ]
  },
  {
   "cell_type": "markdown",
   "id": "f5b14d08",
   "metadata": {},
   "source": [
    "# Conversation"
   ]
  },
  {
   "cell_type": "markdown",
   "id": "3f6f2d1e",
   "metadata": {},
   "source": [
    "**User**\n",
    "\n",
    "What's the new way to raise exceptions in Python 3 compared to the `raise` statement syntax in Python 2?\n"
   ]
  }
 ],
 "metadata": {},
 "nbformat": 4,
 "nbformat_minor": 5
}
