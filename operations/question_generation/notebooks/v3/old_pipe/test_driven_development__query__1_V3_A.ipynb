{
 "cells": [
  {
   "cell_type": "markdown",
   "id": "fd2f6066",
   "metadata": {},
   "source": [
    "# Metadata\n",
    "\n",
    "**Python Topics** - unit_testing_methodology > test_driven_development\n",
    "\n",
    "**Type** - query\n",
    "\n",
    "**Target Number of Turns (User + Assistant)** - 1-5\n"
   ]
  },
  {
   "cell_type": "markdown",
   "id": "64640283",
   "metadata": {},
   "source": [
    "# Conversation"
   ]
  },
  {
   "cell_type": "markdown",
   "id": "4df092f4",
   "metadata": {},
   "source": [
    "**User**\n",
    "\n",
    "I'm new to TDD. How would I write a test first for a 'palindrome' function that checks if a string is a palindrome?\n"
   ]
  }
 ],
 "metadata": {},
 "nbformat": 4,
 "nbformat_minor": 5
}
