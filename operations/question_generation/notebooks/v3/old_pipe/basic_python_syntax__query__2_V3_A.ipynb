{
 "cells": [
  {
   "cell_type": "markdown",
   "id": "34492ba9",
   "metadata": {},
   "source": [
    "# Metadata\n",
    "\n",
    "**Python Topics** - python_language_and_scripting > basic_python_syntax\n",
    "\n",
    "**Type** - query\n",
    "\n",
    "**Target Number of Turns (User + Assistant)** - 1-4\n"
   ]
  },
  {
   "cell_type": "markdown",
   "id": "3a366750",
   "metadata": {},
   "source": [
    "# Conversation"
   ]
  },
  {
   "cell_type": "markdown",
   "id": "c55ccc4c",
   "metadata": {},
   "source": [
    "**User**\n",
    "\n",
    "What's the proper way to use a try-except block to handle exceptions in Python?\n"
   ]
  }
 ],
 "metadata": {},
 "nbformat": 4,
 "nbformat_minor": 5
}
