{
 "cells": [
  {
   "cell_type": "markdown",
   "id": "0ba35e5d",
   "metadata": {},
   "source": [
    "# Metadata\n",
    "\n",
    "**Python Topics** - unit_testing_methodology > testing_database_interaction\n",
    "\n",
    "**Type** - query\n",
    "\n",
    "**Target Number of Turns (User + Assistant)** - 1-4\n"
   ]
  },
  {
   "cell_type": "markdown",
   "id": "c77e96f6",
   "metadata": {},
   "source": [
    "# Conversation"
   ]
  },
  {
   "cell_type": "markdown",
   "id": "3bea22a1",
   "metadata": {},
   "source": [
    "**User**\n",
    "\n",
    "Can you provide an example of how to test a Python function that performs a 'JOIN' operation on two database tables using a mock?\n"
   ]
  }
 ],
 "metadata": {},
 "nbformat": 4,
 "nbformat_minor": 5
}
