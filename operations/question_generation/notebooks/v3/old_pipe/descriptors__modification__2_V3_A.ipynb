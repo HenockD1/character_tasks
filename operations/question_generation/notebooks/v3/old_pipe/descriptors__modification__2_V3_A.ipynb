{
 "cells": [
  {
   "cell_type": "markdown",
   "id": "c062321c",
   "metadata": {},
   "source": [
    "# Metadata\n",
    "\n",
    "**Python Topics** - python_language_and_scripting > descriptors\n",
    "\n",
    "**Type** - modification\n",
    "\n",
    "**Target Number of Turns (User + Assistant)** - 1-5\n"
   ]
  },
  {
   "cell_type": "markdown",
   "id": "5cc84997",
   "metadata": {},
   "source": [
    "# Conversation"
   ]
  },
  {
   "cell_type": "markdown",
   "id": "53376a62",
   "metadata": {},
   "source": [
    "**User**\n",
    "\n",
    "Can you help me refactor this descriptor so that it only allows setting values that are instances of a specified class? Here's the skeleton of my current descriptor: class InstanceCheckDescriptor: def __set__(self, obj, value): obj.__dict__[self.name] = value\n"
   ]
  }
 ],
 "metadata": {},
 "nbformat": 4,
 "nbformat_minor": 5
}
