{
 "cells": [
  {
   "cell_type": "markdown",
   "id": "c883d5a1",
   "metadata": {},
   "source": [
    "# Metadata\n",
    "\n",
    "**Python Topics** - unit_testing_methodology > performance_testing\n",
    "\n",
    "**Type** - query\n",
    "\n",
    "**Target Number of Turns (User + Assistant)** - 2-6\n"
   ]
  },
  {
   "cell_type": "markdown",
   "id": "c20e72bf",
   "metadata": {},
   "source": [
    "# Conversation"
   ]
  },
  {
   "cell_type": "markdown",
   "id": "328e7ec2",
   "metadata": {},
   "source": [
    "**User**\n",
    "\n",
    "Could you show me how to use the `line_profiler` tool to profile a Python function line by line for performance analysis?\n"
   ]
  }
 ],
 "metadata": {},
 "nbformat": 4,
 "nbformat_minor": 5
}
