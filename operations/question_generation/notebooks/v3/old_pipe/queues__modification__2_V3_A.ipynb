{
 "cells": [
  {
   "cell_type": "markdown",
   "id": "db27e3b0",
   "metadata": {},
   "source": [
    "# Metadata\n",
    "\n",
    "**Python Topics** - algorithms > by_data_structure > queues\n",
    "\n",
    "**Type** - modification\n",
    "\n",
    "**Target Number of Turns (User + Assistant)** - 1-4\n"
   ]
  },
  {
   "cell_type": "markdown",
   "id": "84254437",
   "metadata": {},
   "source": [
    "# Conversation"
   ]
  },
  {
   "cell_type": "markdown",
   "id": "67efc4de",
   "metadata": {},
   "source": [
    "**User**\n",
    "\n",
    "I've implemented a basic queue, but now I need to ensure it only accepts integers. Can you modify my enqueue method to raise a TypeError if a non-integer is added? Here's the current code: ```class Queue: def __init__(self): self._data = [] def enqueue(self, item): self._data.append(item) def dequeue(self): return self._data.pop(0) if self._data else None```\n"
   ]
  }
 ],
 "metadata": {},
 "nbformat": 4,
 "nbformat_minor": 5
}
