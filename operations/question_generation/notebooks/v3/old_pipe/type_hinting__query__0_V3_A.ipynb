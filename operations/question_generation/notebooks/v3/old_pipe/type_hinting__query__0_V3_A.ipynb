{
 "cells": [
  {
   "cell_type": "markdown",
   "id": "ce338c82",
   "metadata": {},
   "source": [
    "# Metadata\n",
    "\n",
    "**Python Topics** - python_language_and_scripting > type_hinting\n",
    "\n",
    "**Type** - query\n",
    "\n",
    "**Target Number of Turns (User + Assistant)** - 4-8\n"
   ]
  },
  {
   "cell_type": "markdown",
   "id": "64becb1b",
   "metadata": {},
   "source": [
    "# Conversation"
   ]
  },
  {
   "cell_type": "markdown",
   "id": "15892ada",
   "metadata": {},
   "source": [
    "**User**\n",
    "\n",
    "How would you use type hints to specify that a function's parameter is a tuple containing an integer and a string?\n"
   ]
  }
 ],
 "metadata": {},
 "nbformat": 4,
 "nbformat_minor": 5
}
