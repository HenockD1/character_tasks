{
 "cells": [
  {
   "cell_type": "markdown",
   "id": "09be9550",
   "metadata": {},
   "source": [
    "# Metadata\n",
    "\n",
    "**Python Topics** - python_language_and_scripting > scripting_and_automation\n",
    "\n",
    "**Type** - modification\n",
    "\n",
    "**Target Number of Turns (User + Assistant)** - 1-5\n"
   ]
  },
  {
   "cell_type": "markdown",
   "id": "37c2f2d2",
   "metadata": {},
   "source": [
    "# Conversation"
   ]
  },
  {
   "cell_type": "markdown",
   "id": "44dd0ebb",
   "metadata": {},
   "source": [
    "**User**\n",
    "\n",
    "I need to modify this Python script to send a desktop notification whenever a new file is added to a specific directory. Could you show me how to integrate that? Here's the basic file detection code: \n",
    "```python\n",
    "import os\n",
    "import time\n",
    "\n",
    "path_to_watch = '/path/to/directory'\n",
    "before = dict ([(f, None) for f in os.listdir (path_to_watch)])\n",
    "while True:\n",
    "    time.sleep (10)\n",
    "    after = dict ([(f, None) for f in os.listdir (path_to_watch)])\n",
    "    added = [f for f in after if not f in before]\n",
    "    if added: print ('Added: ', ', '.join (added))\n",
    "    before = after\n",
    "```\n"
   ]
  }
 ],
 "metadata": {},
 "nbformat": 4,
 "nbformat_minor": 5
}
