{
 "cells": [
  {
   "cell_type": "markdown",
   "id": "72d63cde",
   "metadata": {},
   "source": [
    "# Metadata\n",
    "\n",
    "**Python Topics** - algorithms > by_topic > backtracking\n",
    "\n",
    "**Type** - modification\n",
    "\n",
    "**Target Number of Turns (User + Assistant)** - 3-7\n"
   ]
  },
  {
   "cell_type": "markdown",
   "id": "365405f8",
   "metadata": {},
   "source": [
    "# Conversation"
   ]
  },
  {
   "cell_type": "markdown",
   "id": "54eca106",
   "metadata": {},
   "source": [
    "**User**\n",
    "\n",
    "I've written a Python function to generate all possible combinations of k numbers out of 1 to n using backtracking. Can you help me add a feature to filter out combinations whose sum is not divisible by a given number? Here's my current code: ```python\n",
    "def combine(n, k):\n",
    "    # Your code here\n",
    "```\n"
   ]
  }
 ],
 "metadata": {},
 "nbformat": 4,
 "nbformat_minor": 5
}
