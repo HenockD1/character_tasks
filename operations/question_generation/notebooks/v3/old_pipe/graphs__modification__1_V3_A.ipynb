{
 "cells": [
  {
   "cell_type": "markdown",
   "id": "2ae9ba92",
   "metadata": {},
   "source": [
    "# Metadata\n",
    "\n",
    "**Python Topics** - algorithms > by_data_structure > graphs\n",
    "\n",
    "**Type** - modification\n",
    "\n",
    "**Target Number of Turns (User + Assistant)** - 3-7\n"
   ]
  },
  {
   "cell_type": "markdown",
   "id": "6efcdeba",
   "metadata": {},
   "source": [
    "# Conversation"
   ]
  },
  {
   "cell_type": "markdown",
   "id": "79c47509",
   "metadata": {},
   "source": [
    "**User**\n",
    "\n",
    "I need to enhance my graph traversal function to not only perform a depth-first search but also to return a list of nodes in the order they were visited. Here's my current DFS code: ```def dfs(graph, start): visited = [] stack = [start] while stack: node = stack.pop() if node not in visited: visited.append(node) stack.extend(reversed(graph[node])) return visited```\n"
   ]
  }
 ],
 "metadata": {},
 "nbformat": 4,
 "nbformat_minor": 5
}
