{
 "cells": [
  {
   "cell_type": "markdown",
   "id": "5945408a",
   "metadata": {},
   "source": [
    "# Metadata\n",
    "\n",
    "**Python Topics** - unit_testing_methodology > integration_testing\n",
    "\n",
    "**Type** - query\n",
    "\n",
    "**Target Number of Turns (User + Assistant)** - 3-7\n"
   ]
  },
  {
   "cell_type": "markdown",
   "id": "b82e5461",
   "metadata": {},
   "source": [
    "# Conversation"
   ]
  },
  {
   "cell_type": "markdown",
   "id": "a5cd123c",
   "metadata": {},
   "source": [
    "**User**\n",
    "\n",
    "How can I test the integration of a user registration flow in Python, including both the database and the email confirmation step?\n"
   ]
  }
 ],
 "metadata": {},
 "nbformat": 4,
 "nbformat_minor": 5
}
