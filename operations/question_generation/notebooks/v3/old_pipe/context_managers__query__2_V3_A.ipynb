{
 "cells": [
  {
   "cell_type": "markdown",
   "id": "8bd70aad",
   "metadata": {},
   "source": [
    "# Metadata\n",
    "\n",
    "**Python Topics** - python_language_and_scripting > context_managers\n",
    "\n",
    "**Type** - query\n",
    "\n",
    "**Target Number of Turns (User + Assistant)** - 1-5\n"
   ]
  },
  {
   "cell_type": "markdown",
   "id": "c7a17473",
   "metadata": {},
   "source": [
    "# Conversation"
   ]
  },
  {
   "cell_type": "markdown",
   "id": "0fdcccf5",
   "metadata": {},
   "source": [
    "**User**\n",
    "\n",
    "How would I use a context manager to ensure that a network socket is properly closed after its use? Could you show me an example?\n"
   ]
  }
 ],
 "metadata": {},
 "nbformat": 4,
 "nbformat_minor": 5
}
