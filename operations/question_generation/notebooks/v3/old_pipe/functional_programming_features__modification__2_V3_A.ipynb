{
 "cells": [
  {
   "cell_type": "markdown",
   "id": "0f293f2f",
   "metadata": {},
   "source": [
    "# Metadata\n",
    "\n",
    "**Python Topics** - python_language_and_scripting > functional_programming_features\n",
    "\n",
    "**Type** - modification\n",
    "\n",
    "**Target Number of Turns (User + Assistant)** - 1-5\n"
   ]
  },
  {
   "cell_type": "markdown",
   "id": "394384bd",
   "metadata": {},
   "source": [
    "# Conversation"
   ]
  },
  {
   "cell_type": "markdown",
   "id": "c3e5ca9a",
   "metadata": {},
   "source": [
    "**User**\n",
    "\n",
    "Could you show me how to rewrite this loop as a list comprehension to find all the squares of numbers in a list only if they are odd? ```squares = [] for num in range(10): if num % 2 != 0: squares.append(num*num)```\n"
   ]
  }
 ],
 "metadata": {},
 "nbformat": 4,
 "nbformat_minor": 5
}
