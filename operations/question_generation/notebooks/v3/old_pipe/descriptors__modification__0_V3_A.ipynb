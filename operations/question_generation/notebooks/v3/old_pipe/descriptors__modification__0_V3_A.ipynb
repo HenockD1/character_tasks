{
 "cells": [
  {
   "cell_type": "markdown",
   "id": "15484154",
   "metadata": {},
   "source": [
    "# Metadata\n",
    "\n",
    "**Python Topics** - python_language_and_scripting > descriptors\n",
    "\n",
    "**Type** - modification\n",
    "\n",
    "**Target Number of Turns (User + Assistant)** - 1-5\n"
   ]
  },
  {
   "cell_type": "markdown",
   "id": "11f7a5e9",
   "metadata": {},
   "source": [
    "# Conversation"
   ]
  },
  {
   "cell_type": "markdown",
   "id": "b1ef1c26",
   "metadata": {},
   "source": [
    "**User**\n",
    "\n",
    "I've implemented a descriptor to manage a property, but I want to add a feature that converts the value to uppercase when it's set. Here's the current code: class UpperCaseDescriptor: def __set__(self, obj, value): obj.__dict__[self.name] = value How should I modify it?\n"
   ]
  }
 ],
 "metadata": {},
 "nbformat": 4,
 "nbformat_minor": 5
}
