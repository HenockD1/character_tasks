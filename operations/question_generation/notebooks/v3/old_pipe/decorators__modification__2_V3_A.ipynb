{
 "cells": [
  {
   "cell_type": "markdown",
   "id": "9b8532d0",
   "metadata": {},
   "source": [
    "# Metadata\n",
    "\n",
    "**Python Topics** - python_language_and_scripting > decorators\n",
    "\n",
    "**Type** - modification\n",
    "\n",
    "**Target Number of Turns (User + Assistant)** - 1-5\n"
   ]
  },
  {
   "cell_type": "markdown",
   "id": "855fd606",
   "metadata": {},
   "source": [
    "# Conversation"
   ]
  },
  {
   "cell_type": "markdown",
   "id": "8790c3d8",
   "metadata": {},
   "source": [
    "**User**\n",
    "\n",
    "Please help me refactor this decorator so that it can be used both with and without parentheses. Here's the initial code:\n",
    "```python\n",
    "def optional_parentheses_decorator(func=None, *, option='default'):\n",
    "    if func is None:\n",
    "        return lambda f: optional_parentheses_decorator(f, option=option)\n",
    "    def wrapper(*args, **kwargs):\n",
    "        print(f'Option chosen: {option}')\n",
    "        return func(*args, **kwargs)\n",
    "    return wrapper\n",
    "\n",
    "@optional_parentheses_decorator\n",
    "def my_func():\n",
    "    print('No parentheses used.')\n",
    "\n",
    "@optional_parentheses_decorator(option='special')\n",
    "def my_other_func():\n",
    "    print('Parentheses with option used.')\n",
    "```\n"
   ]
  }
 ],
 "metadata": {},
 "nbformat": 4,
 "nbformat_minor": 5
}
