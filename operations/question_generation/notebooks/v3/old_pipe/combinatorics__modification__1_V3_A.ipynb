{
 "cells": [
  {
   "cell_type": "markdown",
   "id": "b9427308",
   "metadata": {},
   "source": [
    "# Metadata\n",
    "\n",
    "**Python Topics** - algorithms > by_topic > combinatorics\n",
    "\n",
    "**Type** - modification\n",
    "\n",
    "**Target Number of Turns (User + Assistant)** - 1-5\n"
   ]
  },
  {
   "cell_type": "markdown",
   "id": "f5e5dc0e",
   "metadata": {},
   "source": [
    "# Conversation"
   ]
  },
  {
   "cell_type": "markdown",
   "id": "3fed5fcc",
   "metadata": {},
   "source": [
    "**User**\n",
    "\n",
    "I'm trying to generate the power set of a given set of numbers, but I want to exclude the empty set from the results. Here's my current code:\n",
    "```python\n",
    "def powerset(s):\n",
    "    x = len(s)\n",
    "    masks = [1 << i for i in range(x)]\n",
    "    for i in range(1 << x):\n",
    "        yield [ss for mask, ss in zip(masks, s) if i & mask]\n",
    "```\n",
    "Can you modify it to exclude the empty set?\n"
   ]
  }
 ],
 "metadata": {},
 "nbformat": 4,
 "nbformat_minor": 5
}
