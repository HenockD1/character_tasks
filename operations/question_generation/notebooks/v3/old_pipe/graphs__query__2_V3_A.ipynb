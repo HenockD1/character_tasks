{
 "cells": [
  {
   "cell_type": "markdown",
   "id": "b93dc4a0",
   "metadata": {},
   "source": [
    "# Metadata\n",
    "\n",
    "**Python Topics** - algorithms > by_data_structure > graphs\n",
    "\n",
    "**Type** - query\n",
    "\n",
    "**Target Number of Turns (User + Assistant)** - 6-10\n"
   ]
  },
  {
   "cell_type": "markdown",
   "id": "601d101e",
   "metadata": {},
   "source": [
    "# Conversation"
   ]
  },
  {
   "cell_type": "markdown",
   "id": "5e9ae411",
   "metadata": {},
   "source": [
    "**User**\n",
    "\n",
    "Can you provide a Python function to calculate the in-degree and out-degree of all vertices in a directed graph?\n"
   ]
  }
 ],
 "metadata": {},
 "nbformat": 4,
 "nbformat_minor": 5
}
