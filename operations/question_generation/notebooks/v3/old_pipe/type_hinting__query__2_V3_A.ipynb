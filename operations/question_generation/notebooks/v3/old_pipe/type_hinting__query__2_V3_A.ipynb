{
 "cells": [
  {
   "cell_type": "markdown",
   "id": "f1f7abb9",
   "metadata": {},
   "source": [
    "# Metadata\n",
    "\n",
    "**Python Topics** - python_language_and_scripting > type_hinting\n",
    "\n",
    "**Type** - query\n",
    "\n",
    "**Target Number of Turns (User + Assistant)** - 1-4\n"
   ]
  },
  {
   "cell_type": "markdown",
   "id": "6ceb266e",
   "metadata": {},
   "source": [
    "# Conversation"
   ]
  },
  {
   "cell_type": "markdown",
   "id": "64d28d5d",
   "metadata": {},
   "source": [
    "**User**\n",
    "\n",
    "Show me how to use type hints for a function that accepts a callable as an argument and returns a float.\n"
   ]
  }
 ],
 "metadata": {},
 "nbformat": 4,
 "nbformat_minor": 5
}
