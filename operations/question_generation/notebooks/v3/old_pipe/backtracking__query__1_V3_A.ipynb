{
 "cells": [
  {
   "cell_type": "markdown",
   "id": "f2e0e2cb",
   "metadata": {},
   "source": [
    "# Metadata\n",
    "\n",
    "**Python Topics** - algorithms > by_topic > backtracking\n",
    "\n",
    "**Type** - query\n",
    "\n",
    "**Target Number of Turns (User + Assistant)** - 2-6\n"
   ]
  },
  {
   "cell_type": "markdown",
   "id": "b79d67a3",
   "metadata": {},
   "source": [
    "# Conversation"
   ]
  },
  {
   "cell_type": "markdown",
   "id": "c603047b",
   "metadata": {},
   "source": [
    "**User**\n",
    "\n",
    "Can you help me write a Python function using backtracking to find all palindromic partitions of a given string?\n"
   ]
  }
 ],
 "metadata": {},
 "nbformat": 4,
 "nbformat_minor": 5
}
