{
 "cells": [
  {
   "cell_type": "markdown",
   "id": "f06ed51b",
   "metadata": {},
   "source": [
    "# Metadata\n",
    "\n",
    "**Python Topics** - python_language_and_scripting > file_handling\n",
    "\n",
    "**Type** - modification\n",
    "\n",
    "**Target Number of Turns (User + Assistant)** - 1-5\n"
   ]
  },
  {
   "cell_type": "markdown",
   "id": "6d7a5538",
   "metadata": {},
   "source": [
    "# Conversation"
   ]
  },
  {
   "cell_type": "markdown",
   "id": "f10e0ae6",
   "metadata": {},
   "source": [
    "**User**\n",
    "\n",
    "I want to create a backup of a text file before modifying it. Can you adjust this code to copy 'important.txt' to 'important_backup.txt' before writing to it? `with open('important.txt', 'w') as file: file.write('New data')`\n"
   ]
  }
 ],
 "metadata": {},
 "nbformat": 4,
 "nbformat_minor": 5
}
