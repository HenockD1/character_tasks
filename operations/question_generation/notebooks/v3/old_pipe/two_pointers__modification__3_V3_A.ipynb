{
 "cells": [
  {
   "cell_type": "markdown",
   "id": "9738b542",
   "metadata": {},
   "source": [
    "# Metadata\n",
    "\n",
    "**Python Topics** - algorithms > by_topic > two_pointers\n",
    "\n",
    "**Type** - modification\n",
    "\n",
    "**Target Number of Turns (User + Assistant)** - 1-4\n"
   ]
  },
  {
   "cell_type": "markdown",
   "id": "c94b1885",
   "metadata": {},
   "source": [
    "# Conversation"
   ]
  },
  {
   "cell_type": "markdown",
   "id": "4cd8d104",
   "metadata": {},
   "source": [
    "**User**\n",
    "\n",
    "Can you assist me in optimizing this code that squashes all zeros in an array to the end while maintaining the order of non-zero elements using the two-pointer method? Here's my current implementation: ```def move_zeros(nums): for i in range(len(nums)): if nums[i] == 0: for j in range(i+1, len(nums)): if nums[j] != 0: nums[i], nums[j] = nums[j], nums[i] break return nums```\n"
   ]
  }
 ],
 "metadata": {},
 "nbformat": 4,
 "nbformat_minor": 5
}
