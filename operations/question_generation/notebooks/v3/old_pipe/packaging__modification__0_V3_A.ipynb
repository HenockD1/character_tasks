{
 "cells": [
  {
   "cell_type": "markdown",
   "id": "86399e32",
   "metadata": {},
   "source": [
    "# Metadata\n",
    "\n",
    "**Python Topics** - python_language_and_scripting > packaging\n",
    "\n",
    "**Type** - modification\n",
    "\n",
    "**Target Number of Turns (User + Assistant)** - 1-4\n"
   ]
  },
  {
   "cell_type": "markdown",
   "id": "c82660fa",
   "metadata": {},
   "source": [
    "# Conversation"
   ]
  },
  {
   "cell_type": "markdown",
   "id": "e77ebfb4",
   "metadata": {},
   "source": [
    "**User**\n",
    "\n",
    "I need to add a console script entry point to my setup.py so users can run my application directly from the command line. Here's my current setup call: setup(name='myapp', version='1.0'). How should I modify it?\n"
   ]
  }
 ],
 "metadata": {},
 "nbformat": 4,
 "nbformat_minor": 5
}
