{
 "cells": [
  {
   "cell_type": "markdown",
   "id": "6dfbb5f8",
   "metadata": {},
   "source": [
    "# Metadata\n",
    "\n",
    "**Python Topics** - algorithms > by_topic > sampling\n",
    "\n",
    "**Type** - modification\n",
    "\n",
    "**Target Number of Turns (User + Assistant)** - 3-7\n"
   ]
  },
  {
   "cell_type": "markdown",
   "id": "4ffa6e04",
   "metadata": {},
   "source": [
    "# Conversation"
   ]
  },
  {
   "cell_type": "markdown",
   "id": "c84ff25e",
   "metadata": {},
   "source": [
    "**User**\n",
    "\n",
    "Please help me revise this code to implement Latin Hypercube Sampling. Right now, it's just a simple random sample: `import numpy as np\n",
    "\n",
    "sample_size = 10\n",
    "dimensions = 2\n",
    "samples = np.random.rand(sample_size, dimensions)\n",
    "print(samples)` I want to ensure each interval is sampled exactly once.\n"
   ]
  }
 ],
 "metadata": {},
 "nbformat": 4,
 "nbformat_minor": 5
}
