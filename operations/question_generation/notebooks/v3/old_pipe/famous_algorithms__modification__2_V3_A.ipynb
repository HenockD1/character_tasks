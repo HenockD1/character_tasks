{
 "cells": [
  {
   "cell_type": "markdown",
   "id": "3464d95a",
   "metadata": {},
   "source": [
    "# Metadata\n",
    "\n",
    "**Python Topics** - algorithms > by_topic > famous_algorithms\n",
    "\n",
    "**Type** - modification\n",
    "\n",
    "**Target Number of Turns (User + Assistant)** - 2-6\n"
   ]
  },
  {
   "cell_type": "markdown",
   "id": "d56ca915",
   "metadata": {},
   "source": [
    "# Conversation"
   ]
  },
  {
   "cell_type": "markdown",
   "id": "9ed82913",
   "metadata": {},
   "source": [
    "**User**\n",
    "\n",
    "I'm trying to implement the insertion sort algorithm, but I need it to sort only a specific portion of the list. Here's what I have so far: `def insertion_sort(arr): for i in range(1, len(arr)): key = arr[i] j = i-1 while j >=0 and key < arr[j] : arr[j + 1] = arr[j] j -= 1 arr[j + 1] = key return arr` Can you modify it to sort between indices `start` and `end`?\n"
   ]
  }
 ],
 "metadata": {},
 "nbformat": 4,
 "nbformat_minor": 5
}
