{
 "cells": [
  {
   "cell_type": "markdown",
   "id": "442fd284",
   "metadata": {},
   "source": [
    "# Metadata\n",
    "\n",
    "**Python Topics** - unit_testing_methodology > code_coverage\n",
    "\n",
    "**Type** - modification\n",
    "\n",
    "**Target Number of Turns (User + Assistant)** - 3-7\n"
   ]
  },
  {
   "cell_type": "markdown",
   "id": "c879d3f5",
   "metadata": {},
   "source": [
    "# Conversation"
   ]
  },
  {
   "cell_type": "markdown",
   "id": "5d9b1eb1",
   "metadata": {},
   "source": [
    "**User**\n",
    "\n",
    "My 'parse_date' function needs better test coverage. Could you write a test that checks if it raises a ValueError when given an invalid date string? Here's the function: ```def parse_date(date_string): return datetime.strptime(date_string, '%Y-%m-%d')```\n"
   ]
  }
 ],
 "metadata": {},
 "nbformat": 4,
 "nbformat_minor": 5
}
