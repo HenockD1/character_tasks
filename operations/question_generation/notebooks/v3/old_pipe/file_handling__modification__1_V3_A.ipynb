{
 "cells": [
  {
   "cell_type": "markdown",
   "id": "03a5ba2f",
   "metadata": {},
   "source": [
    "# Metadata\n",
    "\n",
    "**Python Topics** - python_language_and_scripting > file_handling\n",
    "\n",
    "**Type** - modification\n",
    "\n",
    "**Target Number of Turns (User + Assistant)** - 3-7\n"
   ]
  },
  {
   "cell_type": "markdown",
   "id": "8c81a86a",
   "metadata": {},
   "source": [
    "# Conversation"
   ]
  },
  {
   "cell_type": "markdown",
   "id": "ac776e2d",
   "metadata": {},
   "source": [
    "**User**\n",
    "\n",
    "Could you help me refactor this code to use the `csv.DictWriter` to write a list of dictionaries to a CSV file? Here's my current attempt: `import csv; data = [{'name': 'John', 'age': 30}, {'name': 'Jane', 'age': 25}]; with open('people.csv', 'w') as csvfile: writer = csv.writer(csvfile); for d in data: writer.writerow(d.values())`\n"
   ]
  }
 ],
 "metadata": {},
 "nbformat": 4,
 "nbformat_minor": 5
}
