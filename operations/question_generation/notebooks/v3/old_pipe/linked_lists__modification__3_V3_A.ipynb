{
 "cells": [
  {
   "cell_type": "markdown",
   "id": "089acdf2",
   "metadata": {},
   "source": [
    "# Metadata\n",
    "\n",
    "**Python Topics** - algorithms > by_data_structure > linked_lists\n",
    "\n",
    "**Type** - modification\n",
    "\n",
    "**Target Number of Turns (User + Assistant)** - 2-6\n"
   ]
  },
  {
   "cell_type": "markdown",
   "id": "a4418887",
   "metadata": {},
   "source": [
    "# Conversation"
   ]
  },
  {
   "cell_type": "markdown",
   "id": "5686eb52",
   "metadata": {},
   "source": [
    "**User**\n",
    "\n",
    "I'm working on a function to count the number of nodes in a linked list, but it's not complete. Here's the start:\n",
    "```python\n",
    "class ListNode:\n",
    "    def __init__(self, value=0, next=None):\n",
    "        self.value = value\n",
    "        self.next = next\n",
    "\n",
    "def count_nodes(head):\n",
    "    # Incomplete function\n",
    "    pass\n",
    "```\n",
    "Could you finish the count_nodes function for me?\n"
   ]
  }
 ],
 "metadata": {},
 "nbformat": 4,
 "nbformat_minor": 5
}
