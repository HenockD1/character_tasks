{
 "cells": [
  {
   "cell_type": "markdown",
   "id": "aed747e7",
   "metadata": {},
   "source": [
    "# Metadata\n",
    "\n",
    "**Python Topics** - unit_testing_methodology > testing_asynchronous_code\n",
    "\n",
    "**Type** - query\n",
    "\n",
    "**Target Number of Turns (User + Assistant)** - 1-4\n"
   ]
  },
  {
   "cell_type": "markdown",
   "id": "09878c52",
   "metadata": {},
   "source": [
    "# Conversation"
   ]
  },
  {
   "cell_type": "markdown",
   "id": "7e0134df",
   "metadata": {},
   "source": [
    "**User**\n",
    "\n",
    "Can you demonstrate how to test an async generator function using pytest to ensure it yields the correct sequence of values?\n"
   ]
  }
 ],
 "metadata": {},
 "nbformat": 4,
 "nbformat_minor": 5
}
