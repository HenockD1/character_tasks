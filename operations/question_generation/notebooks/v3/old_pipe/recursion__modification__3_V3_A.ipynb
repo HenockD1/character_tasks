{
 "cells": [
  {
   "cell_type": "markdown",
   "id": "0aa2192f",
   "metadata": {},
   "source": [
    "# Metadata\n",
    "\n",
    "**Python Topics** - algorithms > by_topic > recursion\n",
    "\n",
    "**Type** - modification\n",
    "\n",
    "**Target Number of Turns (User + Assistant)** - 2-6\n"
   ]
  },
  {
   "cell_type": "markdown",
   "id": "198b5466",
   "metadata": {},
   "source": [
    "# Conversation"
   ]
  },
  {
   "cell_type": "markdown",
   "id": "2ff26705",
   "metadata": {},
   "source": [
    "**User**\n",
    "\n",
    "I need to adjust my recursive directory size calculator to skip over files that it doesn't have permission to access. Here's the current function: `import os\n",
    "\n",
    "def dir_size(path): total = 0 for item in os.listdir(path): itempath = os.path.join(path, item) if os.path.isfile(itempath): total += os.path.getsize(itempath) elif os.path.isdir(itempath): total += dir_size(itempath) return total`\n"
   ]
  }
 ],
 "metadata": {},
 "nbformat": 4,
 "nbformat_minor": 5
}
