{
 "cells": [
  {
   "cell_type": "markdown",
   "id": "3f880975",
   "metadata": {},
   "source": [
    "# Metadata\n",
    "\n",
    "**Python Topics** - algorithms > by_data_structure > trees\n",
    "\n",
    "**Type** - modification\n",
    "\n",
    "**Target Number of Turns (User + Assistant)** - 3-7\n"
   ]
  },
  {
   "cell_type": "markdown",
   "id": "1334c39b",
   "metadata": {},
   "source": [
    "# Conversation"
   ]
  },
  {
   "cell_type": "markdown",
   "id": "0e081f80",
   "metadata": {},
   "source": [
    "**User**\n",
    "\n",
    "I've implemented a method to add nodes to my binary tree, but I'd like to include a check to prevent duplicate values. Can you modify my code to include this feature? Here's the current method: ```def add(self, value): if not self.root: self.root = TreeNode(value) else: self._add(value, self.root)```\n"
   ]
  }
 ],
 "metadata": {},
 "nbformat": 4,
 "nbformat_minor": 5
}
