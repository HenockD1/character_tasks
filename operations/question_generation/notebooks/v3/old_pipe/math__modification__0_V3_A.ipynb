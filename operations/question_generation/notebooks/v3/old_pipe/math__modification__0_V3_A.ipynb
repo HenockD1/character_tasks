{
 "cells": [
  {
   "cell_type": "markdown",
   "id": "4140df75",
   "metadata": {},
   "source": [
    "# Metadata\n",
    "\n",
    "**Python Topics** - algorithms > by_topic > math\n",
    "\n",
    "**Type** - modification\n",
    "\n",
    "**Target Number of Turns (User + Assistant)** - 1-4\n"
   ]
  },
  {
   "cell_type": "markdown",
   "id": "0347e67b",
   "metadata": {},
   "source": [
    "# Conversation"
   ]
  },
  {
   "cell_type": "markdown",
   "id": "730a9aac",
   "metadata": {},
   "source": [
    "**User**\n",
    "\n",
    "Can you modify this Python function to calculate the least common multiple (LCM) of two numbers? Here's what I have so far: ```def lcm(a, b): return abs(a*b) // gcd(a, b)```\n"
   ]
  }
 ],
 "metadata": {},
 "nbformat": 4,
 "nbformat_minor": 5
}
