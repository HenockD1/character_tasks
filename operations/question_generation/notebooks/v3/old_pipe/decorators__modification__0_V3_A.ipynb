{
 "cells": [
  {
   "cell_type": "markdown",
   "id": "baf31925",
   "metadata": {},
   "source": [
    "# Metadata\n",
    "\n",
    "**Python Topics** - python_language_and_scripting > decorators\n",
    "\n",
    "**Type** - modification\n",
    "\n",
    "**Target Number of Turns (User + Assistant)** - 2-6\n"
   ]
  },
  {
   "cell_type": "markdown",
   "id": "d91acfa0",
   "metadata": {},
   "source": [
    "# Conversation"
   ]
  },
  {
   "cell_type": "markdown",
   "id": "a4a01746",
   "metadata": {},
   "source": [
    "**User**\n",
    "\n",
    "Can you modify this decorator to skip the function execution if a certain condition is met? Here's the code:\n",
    "```python\n",
    "def skip_if(condition, message):\n",
    "    def decorator(func):\n",
    "        def wrapper(*args, **kwargs):\n",
    "            if condition():\n",
    "                print(message)\n",
    "                return\n",
    "            return func(*args, **kwargs)\n",
    "        return wrapper\n",
    "    return decorator\n",
    "\n",
    "@skip_if(lambda: True, 'Skipping function because condition is met.')\n",
    "def my_function():\n",
    "    print('Function executed')\n",
    "```\n"
   ]
  }
 ],
 "metadata": {},
 "nbformat": 4,
 "nbformat_minor": 5
}
