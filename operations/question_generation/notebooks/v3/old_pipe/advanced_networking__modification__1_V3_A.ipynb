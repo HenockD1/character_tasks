{
 "cells": [
  {
   "cell_type": "markdown",
   "id": "667e06cf",
   "metadata": {},
   "source": [
    "# Metadata\n",
    "\n",
    "**Python Topics** - python_language_and_scripting > advanced_networking\n",
    "\n",
    "**Type** - modification\n",
    "\n",
    "**Target Number of Turns (User + Assistant)** - 5-9\n"
   ]
  },
  {
   "cell_type": "markdown",
   "id": "5040b8c6",
   "metadata": {},
   "source": [
    "# Conversation"
   ]
  },
  {
   "cell_type": "markdown",
   "id": "76c64e59",
   "metadata": {},
   "source": [
    "**User**\n",
    "\n",
    "I'm trying to create a simple echo server that uses UDP instead of TCP. Here's my TCP server code: ```python\n",
    "import socket\n",
    "\n",
    "server_socket = socket.socket(socket.AF_INET, socket.SOCK_STREAM)\n",
    "server_socket.bind(('localhost', 8000))\n",
    "server_socket.listen(1)\n",
    "conn, addr = server_socket.accept()\n",
    "while True:\n",
    "    data = conn.recv(1024)\n",
    "    if not data:\n",
    "        break\n",
    "    conn.sendall(data)\n",
    "conn.close()\n",
    "``` Can you show me how to modify it for UDP?\n"
   ]
  }
 ],
 "metadata": {},
 "nbformat": 4,
 "nbformat_minor": 5
}
