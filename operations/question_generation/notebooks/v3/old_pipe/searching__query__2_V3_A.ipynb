{
 "cells": [
  {
   "cell_type": "markdown",
   "id": "4ffa6882",
   "metadata": {},
   "source": [
    "# Metadata\n",
    "\n",
    "**Python Topics** - algorithms > by_topic > searching\n",
    "\n",
    "**Type** - query\n",
    "\n",
    "**Target Number of Turns (User + Assistant)** - 1-4\n"
   ]
  },
  {
   "cell_type": "markdown",
   "id": "9c04d869",
   "metadata": {},
   "source": [
    "# Conversation"
   ]
  },
  {
   "cell_type": "markdown",
   "id": "7d243cfd",
   "metadata": {},
   "source": [
    "**User**\n",
    "\n",
    "Can you show me how to write a Python function that finds the smallest or largest element in an unsorted list without using built-in functions like min() or max()?\n"
   ]
  }
 ],
 "metadata": {},
 "nbformat": 4,
 "nbformat_minor": 5
}
