{
 "cells": [
  {
   "cell_type": "markdown",
   "id": "7643e156",
   "metadata": {},
   "source": [
    "# Metadata\n",
    "\n",
    "**Python Topics** - python_language_and_scripting > python_2_vs_3\n",
    "\n",
    "**Type** - modification\n",
    "\n",
    "**Target Number of Turns (User + Assistant)** - 1-4\n"
   ]
  },
  {
   "cell_type": "markdown",
   "id": "ebe128a4",
   "metadata": {},
   "source": [
    "# Conversation"
   ]
  },
  {
   "cell_type": "markdown",
   "id": "612937fb",
   "metadata": {},
   "source": [
    "**User**\n",
    "\n",
    "How can I adapt this Python 2 code block that uses `file` to open a file, to be Python 3 compatible? Here's the code: ```python\n",
    "f = file('myfile.txt', 'r')\n",
    "content = f.read()\n",
    "print content\n",
    "f.close()\n",
    "```\n"
   ]
  }
 ],
 "metadata": {},
 "nbformat": 4,
 "nbformat_minor": 5
}
