{
 "cells": [
  {
   "cell_type": "markdown",
   "id": "ed4827ef",
   "metadata": {},
   "source": [
    "# Metadata\n",
    "\n",
    "**Python Topics** - algorithms > by_data_structure > heaps\n",
    "\n",
    "**Type** - modification\n",
    "\n",
    "**Target Number of Turns (User + Assistant)** - 3-7\n"
   ]
  },
  {
   "cell_type": "markdown",
   "id": "5bb7ae5d",
   "metadata": {},
   "source": [
    "# Conversation"
   ]
  },
  {
   "cell_type": "markdown",
   "id": "7498d00a",
   "metadata": {},
   "source": [
    "**User**\n",
    "\n",
    "I need to adjust my heap implementation so that it can handle custom comparison functions for ordering the elements. Here's the basic structure of my heap class:\n",
    "```python\n",
    "class CustomHeap:\n",
    "    def __init__(self, comparison_func):\n",
    "        self.heap = []\n",
    "        self.compare = comparison_func\n",
    "\n",
    "    def insert(self, val):\n",
    "        # Insertion code using self.compare\n",
    "        pass\n",
    "```\n",
    "Can you show me how to modify the insert method to use the custom comparison function?\n"
   ]
  }
 ],
 "metadata": {},
 "nbformat": 4,
 "nbformat_minor": 5
}
