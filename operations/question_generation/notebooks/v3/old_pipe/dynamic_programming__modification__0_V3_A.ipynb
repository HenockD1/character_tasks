{
 "cells": [
  {
   "cell_type": "markdown",
   "id": "a7943557",
   "metadata": {},
   "source": [
    "# Metadata\n",
    "\n",
    "**Python Topics** - algorithms > by_topic > dynamic_programming\n",
    "\n",
    "**Type** - modification\n",
    "\n",
    "**Target Number of Turns (User + Assistant)** - 1-4\n"
   ]
  },
  {
   "cell_type": "markdown",
   "id": "beceb8d3",
   "metadata": {},
   "source": [
    "# Conversation"
   ]
  },
  {
   "cell_type": "markdown",
   "id": "c540c48f",
   "metadata": {},
   "source": [
    "**User**\n",
    "\n",
    "Can you tweak my Python function to use dynamic programming for calculating the nth Catalan number? Here's what I have so far: def catalan(n): if n <= 1: return 1 res = 0 for i in range(n): res += catalan(i) * catalan(n - i - 1) return res.\n"
   ]
  }
 ],
 "metadata": {},
 "nbformat": 4,
 "nbformat_minor": 5
}
