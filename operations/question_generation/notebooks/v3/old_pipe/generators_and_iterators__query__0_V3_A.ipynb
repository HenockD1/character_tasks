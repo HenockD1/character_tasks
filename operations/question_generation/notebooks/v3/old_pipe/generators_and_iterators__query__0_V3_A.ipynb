{
 "cells": [
  {
   "cell_type": "markdown",
   "id": "88a17a1e",
   "metadata": {},
   "source": [
    "# Metadata\n",
    "\n",
    "**Python Topics** - python_language_and_scripting > generators_and_iterators\n",
    "\n",
    "**Type** - query\n",
    "\n",
    "**Target Number of Turns (User + Assistant)** - 6-10\n"
   ]
  },
  {
   "cell_type": "markdown",
   "id": "be13590a",
   "metadata": {},
   "source": [
    "# Conversation"
   ]
  },
  {
   "cell_type": "markdown",
   "id": "6eb667be",
   "metadata": {},
   "source": [
    "**User**\n",
    "\n",
    "How do I use a generator to yield the factorial of numbers up to 10?\n"
   ]
  }
 ],
 "metadata": {},
 "nbformat": 4,
 "nbformat_minor": 5
}
