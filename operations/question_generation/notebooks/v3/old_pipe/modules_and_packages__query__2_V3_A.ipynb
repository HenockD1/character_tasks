{
 "cells": [
  {
   "cell_type": "markdown",
   "id": "4f14cb1d",
   "metadata": {},
   "source": [
    "# Metadata\n",
    "\n",
    "**Python Topics** - python_language_and_scripting > modules_and_packages\n",
    "\n",
    "**Type** - query\n",
    "\n",
    "**Target Number of Turns (User + Assistant)** - 1-4\n"
   ]
  },
  {
   "cell_type": "markdown",
   "id": "a4bfb327",
   "metadata": {},
   "source": [
    "# Conversation"
   ]
  },
  {
   "cell_type": "markdown",
   "id": "6851483c",
   "metadata": {},
   "source": [
    "**User**\n",
    "\n",
    "Could you provide an example of using the 'as' keyword to give an alias to a module during import in Python?\n"
   ]
  }
 ],
 "metadata": {},
 "nbformat": 4,
 "nbformat_minor": 5
}
