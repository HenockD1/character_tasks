{
 "cells": [
  {
   "cell_type": "markdown",
   "id": "774315fd",
   "metadata": {},
   "source": [
    "# Metadata\n",
    "\n",
    "**Python Topics** - python_language_and_scripting > parallel_programming\n",
    "\n",
    "**Type** - modification\n",
    "\n",
    "**Target Number of Turns (User + Assistant)** - 5-9\n"
   ]
  },
  {
   "cell_type": "markdown",
   "id": "ed8e7476",
   "metadata": {},
   "source": [
    "# Conversation"
   ]
  },
  {
   "cell_type": "markdown",
   "id": "6c67c936",
   "metadata": {},
   "source": [
    "**User**\n",
    "\n",
    "I need to periodically execute a function in a separate thread. Can you help me set up a threading.Timer to call this function every 5 seconds?\n",
    "```python\n",
    "def periodic_task():\n",
    "    print('Task executed')\n",
    "\n",
    "# Setup the timer to call periodic_task every 5 seconds\n",
    "```\n"
   ]
  }
 ],
 "metadata": {},
 "nbformat": 4,
 "nbformat_minor": 5
}
