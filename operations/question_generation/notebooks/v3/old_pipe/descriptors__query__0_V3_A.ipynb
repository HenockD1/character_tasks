{
 "cells": [
  {
   "cell_type": "markdown",
   "id": "59b0b1f6",
   "metadata": {},
   "source": [
    "# Metadata\n",
    "\n",
    "**Python Topics** - python_language_and_scripting > descriptors\n",
    "\n",
    "**Type** - query\n",
    "\n",
    "**Target Number of Turns (User + Assistant)** - 1-4\n"
   ]
  },
  {
   "cell_type": "markdown",
   "id": "0d1d0d0b",
   "metadata": {},
   "source": [
    "# Conversation"
   ]
  },
  {
   "cell_type": "markdown",
   "id": "f4df6577",
   "metadata": {},
   "source": [
    "**User**\n",
    "\n",
    "How can I implement a descriptor that only allows setting values that are instances of a specific class, say MyClass?\n"
   ]
  }
 ],
 "metadata": {},
 "nbformat": 4,
 "nbformat_minor": 5
}
