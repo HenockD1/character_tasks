{
 "cells": [
  {
   "cell_type": "markdown",
   "id": "f56e9190",
   "metadata": {},
   "source": [
    "# Metadata\n",
    "\n",
    "**Python Topics** - python_language_and_scripting > type_hinting\n",
    "\n",
    "**Type** - modification\n",
    "\n",
    "**Target Number of Turns (User + Assistant)** - 1-5\n"
   ]
  },
  {
   "cell_type": "markdown",
   "id": "4532a2bf",
   "metadata": {},
   "source": [
    "# Conversation"
   ]
  },
  {
   "cell_type": "markdown",
   "id": "e465b4a9",
   "metadata": {},
   "source": [
    "**User**\n",
    "\n",
    "Could you enhance this snippet with type hints to specify that the function takes a tuple of integers and returns an integer? Here's the code:\n",
    "```python\n",
    "def max_value(numbers: tuple) -> int:\n",
    "    return max(numbers)\n",
    "```\n"
   ]
  }
 ],
 "metadata": {},
 "nbformat": 4,
 "nbformat_minor": 5
}
