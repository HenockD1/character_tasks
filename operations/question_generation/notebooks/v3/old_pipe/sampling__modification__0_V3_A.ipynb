{
 "cells": [
  {
   "cell_type": "markdown",
   "id": "2d4a238c",
   "metadata": {},
   "source": [
    "# Metadata\n",
    "\n",
    "**Python Topics** - algorithms > by_topic > sampling\n",
    "\n",
    "**Type** - modification\n",
    "\n",
    "**Target Number of Turns (User + Assistant)** - 4-8\n"
   ]
  },
  {
   "cell_type": "markdown",
   "id": "0bc67d92",
   "metadata": {},
   "source": [
    "# Conversation"
   ]
  },
  {
   "cell_type": "markdown",
   "id": "f68329f7",
   "metadata": {},
   "source": [
    "**User**\n",
    "\n",
    "Can you help me modify this code to perform rejection sampling? Here's what I have: `import random\n",
    "\n",
    "population = range(100)\n",
    "def accept(x): return x % 2 == 0\n",
    "\n",
    "samples = [x for x in population if accept(x)]\n",
    "print(samples)` I want to limit the number of samples to 10.\n"
   ]
  }
 ],
 "metadata": {},
 "nbformat": 4,
 "nbformat_minor": 5
}
