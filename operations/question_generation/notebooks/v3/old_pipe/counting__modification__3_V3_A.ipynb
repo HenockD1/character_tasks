{
 "cells": [
  {
   "cell_type": "markdown",
   "id": "c54f817f",
   "metadata": {},
   "source": [
    "# Metadata\n",
    "\n",
    "**Python Topics** - algorithms > by_topic > counting\n",
    "\n",
    "**Type** - modification\n",
    "\n",
    "**Target Number of Turns (User + Assistant)** - 1-5\n"
   ]
  },
  {
   "cell_type": "markdown",
   "id": "8c29fcc9",
   "metadata": {},
   "source": [
    "# Conversation"
   ]
  },
  {
   "cell_type": "markdown",
   "id": "6a05422b",
   "metadata": {},
   "source": [
    "**User**\n",
    "\n",
    "I'm trying to write a function that counts the number of times a substring appears in a string, regardless of overlapping occurrences. Here's my initial code: `def count_substring(string, substring): return string.count(substring)`.\n"
   ]
  }
 ],
 "metadata": {},
 "nbformat": 4,
 "nbformat_minor": 5
}
