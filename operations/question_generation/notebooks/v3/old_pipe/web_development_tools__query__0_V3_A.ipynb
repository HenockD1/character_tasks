{
 "cells": [
  {
   "cell_type": "markdown",
   "id": "930e0b4d",
   "metadata": {},
   "source": [
    "# Metadata\n",
    "\n",
    "**Python Topics** - web_development > web_development_tools\n",
    "\n",
    "**Type** - query\n",
    "\n",
    "**Target Number of Turns (User + Assistant)** - 1-4\n"
   ]
  },
  {
   "cell_type": "markdown",
   "id": "e7b2e3ed",
   "metadata": {},
   "source": [
    "# Conversation"
   ]
  },
  {
   "cell_type": "markdown",
   "id": "7181420f",
   "metadata": {},
   "source": [
    "**User**\n",
    "\n",
    "How can I set up a custom static files directory in Flask?\n"
   ]
  }
 ],
 "metadata": {},
 "nbformat": 4,
 "nbformat_minor": 5
}
