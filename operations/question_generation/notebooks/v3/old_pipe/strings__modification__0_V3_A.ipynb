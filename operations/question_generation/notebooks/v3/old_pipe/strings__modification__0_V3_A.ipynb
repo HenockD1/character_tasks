{
 "cells": [
  {
   "cell_type": "markdown",
   "id": "af9cb130",
   "metadata": {},
   "source": [
    "# Metadata\n",
    "\n",
    "**Python Topics** - algorithms > by_data_structure > strings\n",
    "\n",
    "**Type** - modification\n",
    "\n",
    "**Target Number of Turns (User + Assistant)** - 1-5\n"
   ]
  },
  {
   "cell_type": "markdown",
   "id": "004d7360",
   "metadata": {},
   "source": [
    "# Conversation"
   ]
  },
  {
   "cell_type": "markdown",
   "id": "5706d0fe",
   "metadata": {},
   "source": [
    "**User**\n",
    "\n",
    "I'm working with a string 'welcome_to_python' and I'd like to capitalize the first letter of each word. Could you show me how to modify this code? `text = 'welcome_to_python'`\n"
   ]
  }
 ],
 "metadata": {},
 "nbformat": 4,
 "nbformat_minor": 5
}
