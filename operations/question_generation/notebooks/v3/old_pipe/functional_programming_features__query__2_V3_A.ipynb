{
 "cells": [
  {
   "cell_type": "markdown",
   "id": "3b2c8136",
   "metadata": {},
   "source": [
    "# Metadata\n",
    "\n",
    "**Python Topics** - python_language_and_scripting > functional_programming_features\n",
    "\n",
    "**Type** - query\n",
    "\n",
    "**Target Number of Turns (User + Assistant)** - 4-8\n"
   ]
  },
  {
   "cell_type": "markdown",
   "id": "8d004bb9",
   "metadata": {},
   "source": [
    "# Conversation"
   ]
  },
  {
   "cell_type": "markdown",
   "id": "de893ff4",
   "metadata": {},
   "source": [
    "**User**\n",
    "\n",
    "Can you show me how to use functools.partial to create a new function that multiplies any number by 5?\n"
   ]
  }
 ],
 "metadata": {},
 "nbformat": 4,
 "nbformat_minor": 5
}
