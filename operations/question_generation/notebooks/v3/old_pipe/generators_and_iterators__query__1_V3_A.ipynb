{
 "cells": [
  {
   "cell_type": "markdown",
   "id": "c7b22407",
   "metadata": {},
   "source": [
    "# Metadata\n",
    "\n",
    "**Python Topics** - python_language_and_scripting > generators_and_iterators\n",
    "\n",
    "**Type** - query\n",
    "\n",
    "**Target Number of Turns (User + Assistant)** - 1-4\n"
   ]
  },
  {
   "cell_type": "markdown",
   "id": "45c67ed8",
   "metadata": {},
   "source": [
    "# Conversation"
   ]
  },
  {
   "cell_type": "markdown",
   "id": "9fb0c7d1",
   "metadata": {},
   "source": [
    "**User**\n",
    "\n",
    "Could you provide an example of a generator that yields the current date and time every second?\n"
   ]
  }
 ],
 "metadata": {},
 "nbformat": 4,
 "nbformat_minor": 5
}
