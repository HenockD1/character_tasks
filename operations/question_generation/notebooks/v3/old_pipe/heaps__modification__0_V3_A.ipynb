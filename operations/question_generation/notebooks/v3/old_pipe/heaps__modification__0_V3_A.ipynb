{
 "cells": [
  {
   "cell_type": "markdown",
   "id": "7f465913",
   "metadata": {},
   "source": [
    "# Metadata\n",
    "\n",
    "**Python Topics** - algorithms > by_data_structure > heaps\n",
    "\n",
    "**Type** - modification\n",
    "\n",
    "**Target Number of Turns (User + Assistant)** - 1-4\n"
   ]
  },
  {
   "cell_type": "markdown",
   "id": "eba57b2b",
   "metadata": {},
   "source": [
    "# Conversation"
   ]
  },
  {
   "cell_type": "markdown",
   "id": "325ed378",
   "metadata": {},
   "source": [
    "**User**\n",
    "\n",
    "I'm working with a heap in Python and I need to implement a peek method that returns the largest value without removing it from the heap. Here's my current max-heap class:\n",
    "```python\n",
    "class MaxHeap:\n",
    "    def __init__(self):\n",
    "        self.heap = []\n",
    "\n",
    "    def insert(self, val):\n",
    "        # Code to insert value\n",
    "        pass\n",
    "\n",
    "    def peek(self):\n",
    "        # Method to return the max value\n",
    "        pass\n",
    "```\n",
    "Can you fill in the peek method for me?\n"
   ]
  }
 ],
 "metadata": {},
 "nbformat": 4,
 "nbformat_minor": 5
}
