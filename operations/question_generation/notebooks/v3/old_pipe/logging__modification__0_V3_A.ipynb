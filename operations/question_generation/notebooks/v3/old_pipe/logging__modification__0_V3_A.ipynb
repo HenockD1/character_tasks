{
 "cells": [
  {
   "cell_type": "markdown",
   "id": "d1e56a04",
   "metadata": {},
   "source": [
    "# Metadata\n",
    "\n",
    "**Python Topics** - python_language_and_scripting > logging\n",
    "\n",
    "**Type** - modification\n",
    "\n",
    "**Target Number of Turns (User + Assistant)** - 3-7\n"
   ]
  },
  {
   "cell_type": "markdown",
   "id": "b70434ca",
   "metadata": {},
   "source": [
    "# Conversation"
   ]
  },
  {
   "cell_type": "markdown",
   "id": "971bbafc",
   "metadata": {},
   "source": [
    "**User**\n",
    "\n",
    "I'd like to filter out all log messages from external libraries and only see logs from my own module. Here's my current setup: `logging.basicConfig(level=logging.INFO)`. Can you modify it to achieve this?\n"
   ]
  }
 ],
 "metadata": {},
 "nbformat": 4,
 "nbformat_minor": 5
}
