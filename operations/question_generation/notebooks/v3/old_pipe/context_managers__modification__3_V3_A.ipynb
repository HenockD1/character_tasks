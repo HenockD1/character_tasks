{
 "cells": [
  {
   "cell_type": "markdown",
   "id": "94ed55e2",
   "metadata": {},
   "source": [
    "# Metadata\n",
    "\n",
    "**Python Topics** - python_language_and_scripting > context_managers\n",
    "\n",
    "**Type** - modification\n",
    "\n",
    "**Target Number of Turns (User + Assistant)** - 1-4\n"
   ]
  },
  {
   "cell_type": "markdown",
   "id": "236b4197",
   "metadata": {},
   "source": [
    "# Conversation"
   ]
  },
  {
   "cell_type": "markdown",
   "id": "339586dd",
   "metadata": {},
   "source": [
    "**User**\n",
    "\n",
    "Could you assist in rewriting this code to include a context manager that ensures the file is always closed, even if writing raises an error? Here's the code:\n",
    "```python\n",
    "def safe_file_write(file_path, data):\n",
    "    with open(file_path, 'w') as file:\n",
    "        file.write(data)\n",
    "        # Potential error-raising operation\n",
    "```\n"
   ]
  }
 ],
 "metadata": {},
 "nbformat": 4,
 "nbformat_minor": 5
}
