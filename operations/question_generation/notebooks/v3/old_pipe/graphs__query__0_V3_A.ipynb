{
 "cells": [
  {
   "cell_type": "markdown",
   "id": "71578644",
   "metadata": {},
   "source": [
    "# Metadata\n",
    "\n",
    "**Python Topics** - algorithms > by_data_structure > graphs\n",
    "\n",
    "**Type** - query\n",
    "\n",
    "**Target Number of Turns (User + Assistant)** - 2-6\n"
   ]
  },
  {
   "cell_type": "markdown",
   "id": "57a98424",
   "metadata": {},
   "source": [
    "# Conversation"
   ]
  },
  {
   "cell_type": "markdown",
   "id": "0736f8a8",
   "metadata": {},
   "source": [
    "**User**\n",
    "\n",
    "How can I implement an algorithm in Python to find all the articulation points in an undirected graph?\n"
   ]
  }
 ],
 "metadata": {},
 "nbformat": 4,
 "nbformat_minor": 5
}
