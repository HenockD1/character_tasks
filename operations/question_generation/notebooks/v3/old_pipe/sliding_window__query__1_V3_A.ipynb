{
 "cells": [
  {
   "cell_type": "markdown",
   "id": "3cc2145c",
   "metadata": {},
   "source": [
    "# Metadata\n",
    "\n",
    "**Python Topics** - algorithms > by_topic > sliding_window\n",
    "\n",
    "**Type** - query\n",
    "\n",
    "**Target Number of Turns (User + Assistant)** - 2-6\n"
   ]
  },
  {
   "cell_type": "markdown",
   "id": "4a72745a",
   "metadata": {},
   "source": [
    "# Conversation"
   ]
  },
  {
   "cell_type": "markdown",
   "id": "1d26c98e",
   "metadata": {},
   "source": [
    "**User**\n",
    "\n",
    "Could you help me write a Python function that uses the sliding window technique to find the longest substring with exactly 'n' repeating characters?\n"
   ]
  }
 ],
 "metadata": {},
 "nbformat": 4,
 "nbformat_minor": 5
}
