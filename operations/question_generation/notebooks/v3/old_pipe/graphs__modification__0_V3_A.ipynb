{
 "cells": [
  {
   "cell_type": "markdown",
   "id": "67932db3",
   "metadata": {},
   "source": [
    "# Metadata\n",
    "\n",
    "**Python Topics** - algorithms > by_data_structure > graphs\n",
    "\n",
    "**Type** - modification\n",
    "\n",
    "**Target Number of Turns (User + Assistant)** - 1-4\n"
   ]
  },
  {
   "cell_type": "markdown",
   "id": "c913d936",
   "metadata": {},
   "source": [
    "# Conversation"
   ]
  },
  {
   "cell_type": "markdown",
   "id": "3ed51e28",
   "metadata": {},
   "source": [
    "**User**\n",
    "\n",
    "I've implemented an adjacency matrix for a graph, but now I need to convert it to an adjacency list. Could you show me how to modify my code? Here's what I have: ```def convert_to_adj_list(adj_matrix): # Your code here return adj_list```\n"
   ]
  }
 ],
 "metadata": {},
 "nbformat": 4,
 "nbformat_minor": 5
}
