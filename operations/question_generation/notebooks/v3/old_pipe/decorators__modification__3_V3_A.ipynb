{
 "cells": [
  {
   "cell_type": "markdown",
   "id": "8e959864",
   "metadata": {},
   "source": [
    "# Metadata\n",
    "\n",
    "**Python Topics** - python_language_and_scripting > decorators\n",
    "\n",
    "**Type** - modification\n",
    "\n",
    "**Target Number of Turns (User + Assistant)** - 4-8\n"
   ]
  },
  {
   "cell_type": "markdown",
   "id": "c481fcd1",
   "metadata": {},
   "source": [
    "# Conversation"
   ]
  },
  {
   "cell_type": "markdown",
   "id": "c4a903cd",
   "metadata": {},
   "source": [
    "**User**\n",
    "\n",
    "Could you assist in transforming this decorator to add a prefix to the return value of the function it wraps? Here's the code to start from:\n",
    "```python\n",
    "def add_prefix_decorator(prefix):\n",
    "    def decorator(func):\n",
    "        def wrapper(*args, **kwargs):\n",
    "            result = func(*args, **kwargs)\n",
    "            return f'{prefix}{result}'\n",
    "        return wrapper\n",
    "    return decorator\n",
    "\n",
    "@add_prefix_decorator('Result: ')\n",
    "def get_data():\n",
    "    return 'data'\n",
    "```\n"
   ]
  }
 ],
 "metadata": {},
 "nbformat": 4,
 "nbformat_minor": 5
}
