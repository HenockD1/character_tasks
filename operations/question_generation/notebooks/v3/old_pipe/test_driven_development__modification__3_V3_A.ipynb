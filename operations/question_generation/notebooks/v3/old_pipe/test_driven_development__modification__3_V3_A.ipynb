{
 "cells": [
  {
   "cell_type": "markdown",
   "id": "b1863401",
   "metadata": {},
   "source": [
    "# Metadata\n",
    "\n",
    "**Python Topics** - unit_testing_methodology > test_driven_development\n",
    "\n",
    "**Type** - modification\n",
    "\n",
    "**Target Number of Turns (User + Assistant)** - 5-9\n"
   ]
  },
  {
   "cell_type": "markdown",
   "id": "bebb6d2e",
   "metadata": {},
   "source": [
    "# Conversation"
   ]
  },
  {
   "cell_type": "markdown",
   "id": "317742bf",
   "metadata": {},
   "source": [
    "**User**\n",
    "\n",
    "I'm new to TDD and I need to create a 'max_number' function that finds the maximum number in a list. Could you guide me in writing a failing pytest test case for an input list [1, 3, 2] where the expected result is 3?\n"
   ]
  }
 ],
 "metadata": {},
 "nbformat": 4,
 "nbformat_minor": 5
}
