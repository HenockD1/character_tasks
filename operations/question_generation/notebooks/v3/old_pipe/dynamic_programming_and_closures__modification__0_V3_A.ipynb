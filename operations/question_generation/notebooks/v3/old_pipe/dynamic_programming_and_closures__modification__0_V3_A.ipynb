{
 "cells": [
  {
   "cell_type": "markdown",
   "id": "fec4462b",
   "metadata": {},
   "source": [
    "# Metadata\n",
    "\n",
    "**Python Topics** - python_language_and_scripting > dynamic_programming_and_closures\n",
    "\n",
    "**Type** - modification\n",
    "\n",
    "**Target Number of Turns (User + Assistant)** - 2-6\n"
   ]
  },
  {
   "cell_type": "markdown",
   "id": "c010b586",
   "metadata": {},
   "source": [
    "# Conversation"
   ]
  },
  {
   "cell_type": "markdown",
   "id": "645902a8",
   "metadata": {},
   "source": [
    "**User**\n",
    "\n",
    "I've got a function that computes the factorial of a number recursively. Could you help me refactor it to use memoization for better performance? Here's the function: ```def factorial(n): return 1 if n == 0 else n * factorial(n-1)```\n"
   ]
  }
 ],
 "metadata": {},
 "nbformat": 4,
 "nbformat_minor": 5
}
