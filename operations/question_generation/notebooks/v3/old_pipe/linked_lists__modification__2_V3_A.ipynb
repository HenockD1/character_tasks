{
 "cells": [
  {
   "cell_type": "markdown",
   "id": "00b5ddf6",
   "metadata": {},
   "source": [
    "# Metadata\n",
    "\n",
    "**Python Topics** - algorithms > by_data_structure > linked_lists\n",
    "\n",
    "**Type** - modification\n",
    "\n",
    "**Target Number of Turns (User + Assistant)** - 1-5\n"
   ]
  },
  {
   "cell_type": "markdown",
   "id": "0c1fbb31",
   "metadata": {},
   "source": [
    "# Conversation"
   ]
  },
  {
   "cell_type": "markdown",
   "id": "2300a1ea",
   "metadata": {},
   "source": [
    "**User**\n",
    "\n",
    "I need to write a function that appends a new node with a given value to the end of a linked list. Here's my current ListNode class:\n",
    "```python\n",
    "class ListNode:\n",
    "    def __init__(self, value=0, next=None):\n",
    "        self.value = value\n",
    "        self.next = next\n",
    "```\n",
    "Can you provide the append function?\n"
   ]
  }
 ],
 "metadata": {},
 "nbformat": 4,
 "nbformat_minor": 5
}
