{
 "cells": [
  {
   "cell_type": "markdown",
   "id": "61aefee0",
   "metadata": {},
   "source": [
    "# Metadata\n",
    "\n",
    "**Python Topics** - algorithms > by_topic > sliding_window\n",
    "\n",
    "**Type** - query\n",
    "\n",
    "**Target Number of Turns (User + Assistant)** - 1-4\n"
   ]
  },
  {
   "cell_type": "markdown",
   "id": "a8749bd4",
   "metadata": {},
   "source": [
    "# Conversation"
   ]
  },
  {
   "cell_type": "markdown",
   "id": "01d657f6",
   "metadata": {},
   "source": [
    "**User**\n",
    "\n",
    "Can you provide a Python sliding window solution to determine the number of contiguous subarrays of a given array that have a product less than 'k'?\n"
   ]
  }
 ],
 "metadata": {},
 "nbformat": 4,
 "nbformat_minor": 5
}
