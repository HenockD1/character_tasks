{
 "cells": [
  {
   "cell_type": "markdown",
   "id": "cde007ed",
   "metadata": {},
   "source": [
    "# Metadata\n",
    "\n",
    "**Python Topics** - unit_testing_methodology > testing_asynchronous_code\n",
    "\n",
    "**Type** - modification\n",
    "\n",
    "**Target Number of Turns (User + Assistant)** - 4-8\n"
   ]
  },
  {
   "cell_type": "markdown",
   "id": "231e8b43",
   "metadata": {},
   "source": [
    "# Conversation"
   ]
  },
  {
   "cell_type": "markdown",
   "id": "4d2a6043",
   "metadata": {},
   "source": [
    "**User**\n",
    "\n",
    "I'm looking to test an async function that interacts with a database. Can you provide an example of how to mock the database call within the test? Here's the function: ```async def fetch_user(user_id): # fetch user from database```\n"
   ]
  }
 ],
 "metadata": {},
 "nbformat": 4,
 "nbformat_minor": 5
}
