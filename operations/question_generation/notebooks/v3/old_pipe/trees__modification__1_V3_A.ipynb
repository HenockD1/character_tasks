{
 "cells": [
  {
   "cell_type": "markdown",
   "id": "999efbfc",
   "metadata": {},
   "source": [
    "# Metadata\n",
    "\n",
    "**Python Topics** - algorithms > by_data_structure > trees\n",
    "\n",
    "**Type** - modification\n",
    "\n",
    "**Target Number of Turns (User + Assistant)** - 1-4\n"
   ]
  },
  {
   "cell_type": "markdown",
   "id": "221b96b4",
   "metadata": {},
   "source": [
    "# Conversation"
   ]
  },
  {
   "cell_type": "markdown",
   "id": "809dacb8",
   "metadata": {},
   "source": [
    "**User**\n",
    "\n",
    "I'm trying to write a Python function that will convert a binary search tree to a sorted list. Could you help me with the code? Here's what I have so far: ```class BSTNode: def __init__(self, key, left=None, right=None): self.key = key self.left = left self.right = right```\n"
   ]
  }
 ],
 "metadata": {},
 "nbformat": 4,
 "nbformat_minor": 5
}
