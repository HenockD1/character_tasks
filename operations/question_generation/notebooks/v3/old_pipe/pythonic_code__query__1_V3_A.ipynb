{
 "cells": [
  {
   "cell_type": "markdown",
   "id": "bf66a096",
   "metadata": {},
   "source": [
    "# Metadata\n",
    "\n",
    "**Python Topics** - python_language_and_scripting > pythonic_code\n",
    "\n",
    "**Type** - query\n",
    "\n",
    "**Target Number of Turns (User + Assistant)** - 1-5\n"
   ]
  },
  {
   "cell_type": "markdown",
   "id": "e9cd5f14",
   "metadata": {},
   "source": [
    "# Conversation"
   ]
  },
  {
   "cell_type": "markdown",
   "id": "4029e93b",
   "metadata": {},
   "source": [
    "**User**\n",
    "\n",
    "Could you show me how to use a dictionary comprehension to create a dictionary where the keys are strings from 'a' to 'e' and the values are their corresponding ordinal values?\n"
   ]
  }
 ],
 "metadata": {},
 "nbformat": 4,
 "nbformat_minor": 5
}
