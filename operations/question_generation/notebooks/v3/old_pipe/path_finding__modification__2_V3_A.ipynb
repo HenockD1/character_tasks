{
 "cells": [
  {
   "cell_type": "markdown",
   "id": "7eb4d74b",
   "metadata": {},
   "source": [
    "# Metadata\n",
    "\n",
    "**Python Topics** - algorithms > by_topic > path_finding\n",
    "\n",
    "**Type** - modification\n",
    "\n",
    "**Target Number of Turns (User + Assistant)** - 1-5\n"
   ]
  },
  {
   "cell_type": "markdown",
   "id": "6ebbd9ee",
   "metadata": {},
   "source": [
    "# Conversation"
   ]
  },
  {
   "cell_type": "markdown",
   "id": "d2814fc7",
   "metadata": {},
   "source": [
    "**User**\n",
    "\n",
    "I need to implement the Floyd-Warshall algorithm in Python to find the shortest paths between all pairs of vertices in a weighted graph. Could you provide a simple function to do this? I'm a bit stuck on how to initialize the matrix.\n"
   ]
  }
 ],
 "metadata": {},
 "nbformat": 4,
 "nbformat_minor": 5
}
