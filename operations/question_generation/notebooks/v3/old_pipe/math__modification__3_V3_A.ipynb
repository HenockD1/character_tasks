{
 "cells": [
  {
   "cell_type": "markdown",
   "id": "db3130d9",
   "metadata": {},
   "source": [
    "# Metadata\n",
    "\n",
    "**Python Topics** - algorithms > by_topic > math\n",
    "\n",
    "**Type** - modification\n",
    "\n",
    "**Target Number of Turns (User + Assistant)** - 4-8\n"
   ]
  },
  {
   "cell_type": "markdown",
   "id": "fe4a2462",
   "metadata": {},
   "source": [
    "# Conversation"
   ]
  },
  {
   "cell_type": "markdown",
   "id": "a5aafda8",
   "metadata": {},
   "source": [
    "**User**\n",
    "\n",
    "Could you assist me in writing a Python function that calculates the nth triangular number? The triangular number sequence is the sum of the natural numbers up to n. Here's a start: ```def triangular_number(n): return n * (n + 1) // 2```\n"
   ]
  }
 ],
 "metadata": {},
 "nbformat": 4,
 "nbformat_minor": 5
}
