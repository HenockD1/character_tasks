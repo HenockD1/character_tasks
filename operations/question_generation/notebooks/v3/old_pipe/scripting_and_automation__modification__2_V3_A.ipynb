{
 "cells": [
  {
   "cell_type": "markdown",
   "id": "6df2691d",
   "metadata": {},
   "source": [
    "# Metadata\n",
    "\n",
    "**Python Topics** - python_language_and_scripting > scripting_and_automation\n",
    "\n",
    "**Type** - modification\n",
    "\n",
    "**Target Number of Turns (User + Assistant)** - 2-6\n"
   ]
  },
  {
   "cell_type": "markdown",
   "id": "6c2a1fb4",
   "metadata": {},
   "source": [
    "# Conversation"
   ]
  },
  {
   "cell_type": "markdown",
   "id": "a3485f5d",
   "metadata": {},
   "source": [
    "**User**\n",
    "\n",
    "Can you help me modify this script to only execute on weekdays? It currently runs every day. Here's the code snippet: \n",
    "```python\n",
    "import datetime\n",
    "\n",
    "def run_task():\n",
    "    print('Task executed')\n",
    "\n",
    "today = datetime.date.today()\n",
    "if today.weekday() < 5:\n",
    "    run_task()\n",
    "```\n"
   ]
  }
 ],
 "metadata": {},
 "nbformat": 4,
 "nbformat_minor": 5
}
