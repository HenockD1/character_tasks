{
 "cells": [
  {
   "cell_type": "markdown",
   "id": "21f70047",
   "metadata": {},
   "source": [
    "# Metadata\n",
    "\n",
    "**Python Topics** - unit_testing_methodology > unit_testing_basics\n",
    "\n",
    "**Type** - modification\n",
    "\n",
    "**Target Number of Turns (User + Assistant)** - 2-6\n"
   ]
  },
  {
   "cell_type": "markdown",
   "id": "a0a0827b",
   "metadata": {},
   "source": [
    "# Conversation"
   ]
  },
  {
   "cell_type": "markdown",
   "id": "449a03b2",
   "metadata": {},
   "source": [
    "**User**\n",
    "\n",
    "I need to refactor my test suite for better readability. Could you rewrite this test case to use the 'assertEqual' method instead of 'assertTrue'? Here's the current test: ```class TestStringMethods(unittest.TestCase): def test_upper(self): self.assertTrue('foo'.upper() == 'FOO')```\n"
   ]
  }
 ],
 "metadata": {},
 "nbformat": 4,
 "nbformat_minor": 5
}
