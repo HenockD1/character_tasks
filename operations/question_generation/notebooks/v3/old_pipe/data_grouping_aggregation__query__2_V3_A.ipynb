{
 "cells": [
  {
   "cell_type": "markdown",
   "id": "1a8505ba",
   "metadata": {},
   "source": [
    "# Metadata\n",
    "\n",
    "**Python Topics** - data_analysis > data_grouping_aggregation\n",
    "\n",
    "**Type** - query\n",
    "\n",
    "**Target Number of Turns (User + Assistant)** - 3-7\n"
   ]
  },
  {
   "cell_type": "markdown",
   "id": "6b370fe5",
   "metadata": {},
   "source": [
    "# Conversation"
   ]
  },
  {
   "cell_type": "markdown",
   "id": "d3294ba5",
   "metadata": {},
   "source": [
    "**User**\n",
    "\n",
    "How can I group entries in a DataFrame by a specific column and then filter the groups based on the sum of another column?\n"
   ]
  }
 ],
 "metadata": {},
 "nbformat": 4,
 "nbformat_minor": 5
}
