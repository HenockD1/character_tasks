{
 "cells": [
  {
   "cell_type": "markdown",
   "id": "9aee6f8d",
   "metadata": {},
   "source": [
    "# Metadata\n",
    "\n",
    "**Python Topics** - algorithms > by_data_structure > stacks\n",
    "\n",
    "**Type** - query\n",
    "\n",
    "**Target Number of Turns (User + Assistant)** - 1-4\n"
   ]
  },
  {
   "cell_type": "markdown",
   "id": "3520a19e",
   "metadata": {},
   "source": [
    "# Conversation"
   ]
  },
  {
   "cell_type": "markdown",
   "id": "f179307f",
   "metadata": {},
   "source": [
    "**User**\n",
    "\n",
    "How can I modify a stack in Python to perform a peek operation that views the top element without popping it?\n"
   ]
  }
 ],
 "metadata": {},
 "nbformat": 4,
 "nbformat_minor": 5
}
