{
 "cells": [
  {
   "cell_type": "markdown",
   "id": "74118df0",
   "metadata": {},
   "source": [
    "# Metadata\n",
    "\n",
    "**Python Topics** - python_language_and_scripting > python_standard_library\n",
    "\n",
    "**Type** - query\n",
    "\n",
    "**Target Number of Turns (User + Assistant)** - 2-6\n"
   ]
  },
  {
   "cell_type": "markdown",
   "id": "e4568d4f",
   "metadata": {},
   "source": [
    "# Conversation"
   ]
  },
  {
   "cell_type": "markdown",
   "id": "749be5da",
   "metadata": {},
   "source": [
    "**User**\n",
    "\n",
    "Can you provide an example of using the `csv` module to read a CSV file and print each row?\n"
   ]
  }
 ],
 "metadata": {},
 "nbformat": 4,
 "nbformat_minor": 5
}
