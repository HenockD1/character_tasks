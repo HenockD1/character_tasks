{
 "cells": [
  {
   "cell_type": "markdown",
   "id": "0018c5ff",
   "metadata": {},
   "source": [
    "# Metadata\n",
    "\n",
    "**Python Topics** - algorithms > by_data_structure > stacks\n",
    "\n",
    "**Type** - modification\n",
    "\n",
    "**Target Number of Turns (User + Assistant)** - 1-4\n"
   ]
  },
  {
   "cell_type": "markdown",
   "id": "a55f41fc",
   "metadata": {},
   "source": [
    "# Conversation"
   ]
  },
  {
   "cell_type": "markdown",
   "id": "7915b3ba",
   "metadata": {},
   "source": [
    "**User**\n",
    "\n",
    "I'm trying to enhance my stack class with a method that returns the nth element from the top without altering the stack. Could you provide the code for that? Here's what I have so far:\n",
    "```python\n",
    "class Stack:\n",
    "    def __init__(self):\n",
    "        self._elements = []\n",
    "\n",
    "    def push(self, value):\n",
    "        self._elements.append(value)\n",
    "\n",
    "    def pop(self):\n",
    "        if self._elements:\n",
    "            return self._elements.pop()\n",
    "        else:\n",
    "            raise Exception('Cannot pop from an empty stack')\n",
    "```\n",
    "\n"
   ]
  }
 ],
 "metadata": {},
 "nbformat": 4,
 "nbformat_minor": 5
}
