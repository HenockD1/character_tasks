{
 "cells": [
  {
   "cell_type": "markdown",
   "id": "039d3876",
   "metadata": {},
   "source": [
    "# Metadata\n",
    "\n",
    "**Python Topics** - algorithms > by_data_structure > heaps\n",
    "\n",
    "**Type** - modification\n",
    "\n",
    "**Target Number of Turns (User + Assistant)** - 1-4\n"
   ]
  },
  {
   "cell_type": "markdown",
   "id": "f6e43b7d",
   "metadata": {},
   "source": [
    "# Conversation"
   ]
  },
  {
   "cell_type": "markdown",
   "id": "b3c32359",
   "metadata": {},
   "source": [
    "**User**\n",
    "\n",
    "I'm trying to implement a heap that can also return the number of elements it contains. Here's what I have so far:\n",
    "```python\n",
    "class CountableHeap:\n",
    "    def __init__(self):\n",
    "        self.heap = []\n",
    "        self.count = 0\n",
    "\n",
    "    def insert(self, val):\n",
    "        # Insertion code\n",
    "        pass\n",
    "\n",
    "    def get_count(self):\n",
    "        # Return the number of elements\n",
    "        pass\n",
    "```\n",
    "Could you help me complete the get_count method?\n"
   ]
  }
 ],
 "metadata": {},
 "nbformat": 4,
 "nbformat_minor": 5
}
