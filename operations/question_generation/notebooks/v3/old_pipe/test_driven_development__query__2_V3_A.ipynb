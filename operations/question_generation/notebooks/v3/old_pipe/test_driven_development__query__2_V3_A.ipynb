{
 "cells": [
  {
   "cell_type": "markdown",
   "id": "c8981b75",
   "metadata": {},
   "source": [
    "# Metadata\n",
    "\n",
    "**Python Topics** - unit_testing_methodology > test_driven_development\n",
    "\n",
    "**Type** - query\n",
    "\n",
    "**Target Number of Turns (User + Assistant)** - 2-6\n"
   ]
  },
  {
   "cell_type": "markdown",
   "id": "7aabec11",
   "metadata": {},
   "source": [
    "# Conversation"
   ]
  },
  {
   "cell_type": "markdown",
   "id": "268cee7c",
   "metadata": {},
   "source": [
    "**User**\n",
    "\n",
    "Following TDD, what would be the first test I should write for a 'sort_list' function that sorts a list of integers in ascending order?\n"
   ]
  }
 ],
 "metadata": {},
 "nbformat": 4,
 "nbformat_minor": 5
}
