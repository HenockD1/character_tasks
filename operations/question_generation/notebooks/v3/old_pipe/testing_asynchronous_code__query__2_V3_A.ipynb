{
 "cells": [
  {
   "cell_type": "markdown",
   "id": "f77b0e5f",
   "metadata": {},
   "source": [
    "# Metadata\n",
    "\n",
    "**Python Topics** - unit_testing_methodology > testing_asynchronous_code\n",
    "\n",
    "**Type** - query\n",
    "\n",
    "**Target Number of Turns (User + Assistant)** - 1-5\n"
   ]
  },
  {
   "cell_type": "markdown",
   "id": "1d21be66",
   "metadata": {},
   "source": [
    "# Conversation"
   ]
  },
  {
   "cell_type": "markdown",
   "id": "80afc08e",
   "metadata": {},
   "source": [
    "**User**\n",
    "\n",
    "What's the proper way to test an async function that depends on an external service using mocks in pytest?\n"
   ]
  }
 ],
 "metadata": {},
 "nbformat": 4,
 "nbformat_minor": 5
}
