{
 "cells": [
  {
   "cell_type": "markdown",
   "id": "0f15d3e4",
   "metadata": {},
   "source": [
    "# Metadata\n",
    "\n",
    "**Python Topics** - algorithms > by_data_structure > trees\n",
    "\n",
    "**Type** - query\n",
    "\n",
    "**Target Number of Turns (User + Assistant)** - 1-5\n"
   ]
  },
  {
   "cell_type": "markdown",
   "id": "8c365cd0",
   "metadata": {},
   "source": [
    "# Conversation"
   ]
  },
  {
   "cell_type": "markdown",
   "id": "bcf81cab",
   "metadata": {},
   "source": [
    "**User**\n",
    "\n",
    "In Python, how would I write a function to check if a binary tree is a valid binary search tree?\n"
   ]
  }
 ],
 "metadata": {},
 "nbformat": 4,
 "nbformat_minor": 5
}
