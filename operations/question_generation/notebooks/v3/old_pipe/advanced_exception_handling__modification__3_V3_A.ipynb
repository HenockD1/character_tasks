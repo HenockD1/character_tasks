{
 "cells": [
  {
   "cell_type": "markdown",
   "id": "7b428ce6",
   "metadata": {},
   "source": [
    "# Metadata\n",
    "\n",
    "**Python Topics** - python_language_and_scripting > advanced_exception_handling\n",
    "\n",
    "**Type** - modification\n",
    "\n",
    "**Target Number of Turns (User + Assistant)** - 3-7\n"
   ]
  },
  {
   "cell_type": "markdown",
   "id": "b51c39e1",
   "metadata": {},
   "source": [
    "# Conversation"
   ]
  },
  {
   "cell_type": "markdown",
   "id": "05b581e7",
   "metadata": {},
   "source": [
    "**User**\n",
    "\n",
    "Please show me how to modify the following code to catch multiple specific exceptions (`ValueError`, `TypeError`, `KeyError`) in a single `except` block and print a custom message for each. Here's the code:\n",
    "```python\n",
    "def parse_data(data):\n",
    "    try:\n",
    "        # Parse data\n",
    "        pass\n",
    "    except Exception:\n",
    "        print('An unspecified error occurred.')\n",
    "```\n"
   ]
  }
 ],
 "metadata": {},
 "nbformat": 4,
 "nbformat_minor": 5
}
