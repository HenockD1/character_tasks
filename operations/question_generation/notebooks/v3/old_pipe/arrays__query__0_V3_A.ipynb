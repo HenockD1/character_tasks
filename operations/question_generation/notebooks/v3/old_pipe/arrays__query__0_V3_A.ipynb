{
 "cells": [
  {
   "cell_type": "markdown",
   "id": "1b1d84f7",
   "metadata": {},
   "source": [
    "# Metadata\n",
    "\n",
    "**Python Topics** - algorithms > by_data_structure > arrays\n",
    "\n",
    "**Type** - query\n",
    "\n",
    "**Target Number of Turns (User + Assistant)** - 3-7\n"
   ]
  },
  {
   "cell_type": "markdown",
   "id": "bbc1b525",
   "metadata": {},
   "source": [
    "# Conversation"
   ]
  },
  {
   "cell_type": "markdown",
   "id": "fbb20085",
   "metadata": {},
   "source": [
    "**User**\n",
    "\n",
    "How can I shuffle the elements of an array in Python to get a random order every time?\n"
   ]
  }
 ],
 "metadata": {},
 "nbformat": 4,
 "nbformat_minor": 5
}
