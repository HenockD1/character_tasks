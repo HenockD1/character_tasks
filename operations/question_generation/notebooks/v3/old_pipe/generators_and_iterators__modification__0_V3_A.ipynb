{
 "cells": [
  {
   "cell_type": "markdown",
   "id": "f3b35a7c",
   "metadata": {},
   "source": [
    "# Metadata\n",
    "\n",
    "**Python Topics** - python_language_and_scripting > generators_and_iterators\n",
    "\n",
    "**Type** - modification\n",
    "\n",
    "**Target Number of Turns (User + Assistant)** - 2-6\n"
   ]
  },
  {
   "cell_type": "markdown",
   "id": "0347b1cc",
   "metadata": {},
   "source": [
    "# Conversation"
   ]
  },
  {
   "cell_type": "markdown",
   "id": "994cc97e",
   "metadata": {},
   "source": [
    "**User**\n",
    "\n",
    "I've written a generator to yield the factorial of numbers up to n. Can you modify it to also yield the current number along with its factorial? Here's the code: ```def factorial_gen(n): fact = 1 for i in range(1, n+1): fact *= i yield fact```\n"
   ]
  }
 ],
 "metadata": {},
 "nbformat": 4,
 "nbformat_minor": 5
}
