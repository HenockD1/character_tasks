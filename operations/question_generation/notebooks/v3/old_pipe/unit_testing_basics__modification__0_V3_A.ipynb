{
 "cells": [
  {
   "cell_type": "markdown",
   "id": "f70f65be",
   "metadata": {},
   "source": [
    "# Metadata\n",
    "\n",
    "**Python Topics** - unit_testing_methodology > unit_testing_basics\n",
    "\n",
    "**Type** - modification\n",
    "\n",
    "**Target Number of Turns (User + Assistant)** - 1-5\n"
   ]
  },
  {
   "cell_type": "markdown",
   "id": "9a2c5a05",
   "metadata": {},
   "source": [
    "# Conversation"
   ]
  },
  {
   "cell_type": "markdown",
   "id": "2767767d",
   "metadata": {},
   "source": [
    "**User**\n",
    "\n",
    "I've got a function that calculates the factorial of a number. Could you help me write a unit test to verify that the factorial of 5 is 120? Here's the function: ```def factorial(n): if n == 0: return 1 else: return n * factorial(n-1)```\n"
   ]
  }
 ],
 "metadata": {},
 "nbformat": 4,
 "nbformat_minor": 5
}
