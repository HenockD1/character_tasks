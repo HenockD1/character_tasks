{
 "cells": [
  {
   "cell_type": "markdown",
   "id": "34bc47a3",
   "metadata": {},
   "source": [
    "# Metadata\n",
    "\n",
    "**Python Topics** - python_language_and_scripting > python_2_vs_3\n",
    "\n",
    "**Type** - modification\n",
    "\n",
    "**Target Number of Turns (User + Assistant)** - 3-7\n"
   ]
  },
  {
   "cell_type": "markdown",
   "id": "d2000faf",
   "metadata": {},
   "source": [
    "# Conversation"
   ]
  },
  {
   "cell_type": "markdown",
   "id": "16d4450f",
   "metadata": {},
   "source": [
    "**User**\n",
    "\n",
    "I have a Python 2 code snippet that uses the `raw_input` function. How should I update it to work in Python 3? Here's the code: ```python\n",
    "user_input = raw_input('Enter your name: ')\n",
    "print 'Hello, ' + user_input\n",
    "```\n"
   ]
  }
 ],
 "metadata": {},
 "nbformat": 4,
 "nbformat_minor": 5
}
