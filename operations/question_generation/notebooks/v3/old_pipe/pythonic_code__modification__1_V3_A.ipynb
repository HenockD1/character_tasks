{
 "cells": [
  {
   "cell_type": "markdown",
   "id": "8d7eb6d9",
   "metadata": {},
   "source": [
    "# Metadata\n",
    "\n",
    "**Python Topics** - python_language_and_scripting > pythonic_code\n",
    "\n",
    "**Type** - modification\n",
    "\n",
    "**Target Number of Turns (User + Assistant)** - 1-4\n"
   ]
  },
  {
   "cell_type": "markdown",
   "id": "fcdfce1c",
   "metadata": {},
   "source": [
    "# Conversation"
   ]
  },
  {
   "cell_type": "markdown",
   "id": "ed0327dd",
   "metadata": {},
   "source": [
    "**User**\n",
    "\n",
    "I'm trying to create a set from a list to remove duplicates, but I want to do it in one line. Here's my list: numbers = [1, 2, 2, 3, 3, 3]. Can you show me the Pythonic way?\n"
   ]
  }
 ],
 "metadata": {},
 "nbformat": 4,
 "nbformat_minor": 5
}
