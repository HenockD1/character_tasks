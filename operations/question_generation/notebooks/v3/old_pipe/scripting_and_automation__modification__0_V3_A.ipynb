{
 "cells": [
  {
   "cell_type": "markdown",
   "id": "c13d6019",
   "metadata": {},
   "source": [
    "# Metadata\n",
    "\n",
    "**Python Topics** - python_language_and_scripting > scripting_and_automation\n",
    "\n",
    "**Type** - modification\n",
    "\n",
    "**Target Number of Turns (User + Assistant)** - 1-5\n"
   ]
  },
  {
   "cell_type": "markdown",
   "id": "01816de3",
   "metadata": {},
   "source": [
    "# Conversation"
   ]
  },
  {
   "cell_type": "markdown",
   "id": "a569ec01",
   "metadata": {},
   "source": [
    "**User**\n",
    "\n",
    "I have a script that's supposed to compress files in a folder, but it's not recursive. Can you modify it to compress files in subdirectories as well? Here's the starting point: \n",
    "```python\n",
    "import os\n",
    "import zipfile\n",
    "\n",
    "with zipfile.ZipFile('archive.zip', 'w') as zipf:\n",
    "    for root, dirs, files in os.walk('.'):\n",
    "        for file in files:\n",
    "            zipf.write(os.path.join(root, file))\n",
    "```\n"
   ]
  }
 ],
 "metadata": {},
 "nbformat": 4,
 "nbformat_minor": 5
}
