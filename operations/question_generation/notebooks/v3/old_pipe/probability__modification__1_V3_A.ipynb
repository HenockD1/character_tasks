{
 "cells": [
  {
   "cell_type": "markdown",
   "id": "4bd35ef9",
   "metadata": {},
   "source": [
    "# Metadata\n",
    "\n",
    "**Python Topics** - algorithms > by_topic > probability\n",
    "\n",
    "**Type** - modification\n",
    "\n",
    "**Target Number of Turns (User + Assistant)** - 1-5\n"
   ]
  },
  {
   "cell_type": "markdown",
   "id": "07451541",
   "metadata": {},
   "source": [
    "# Conversation"
   ]
  },
  {
   "cell_type": "markdown",
   "id": "d9ee8480",
   "metadata": {},
   "source": [
    "**User**\n",
    "\n",
    "I'm trying to simulate the Monty Hall problem in Python. Can you help me write a function that runs the game 1000 times and returns the empirical probability of winning by always switching doors? Here's a basic structure to start with: ```python\n",
    "import random\n",
    "def monty_hall():\n",
    "    doors = ['goat', 'goat', 'car']\n",
    "    # Your code here\n",
    "```\n"
   ]
  }
 ],
 "metadata": {},
 "nbformat": 4,
 "nbformat_minor": 5
}
