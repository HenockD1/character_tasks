{
 "cells": [
  {
   "cell_type": "markdown",
   "id": "da15a543",
   "metadata": {},
   "source": [
    "# Metadata\n",
    "\n",
    "**Python Topics** - python_language_and_scripting > data_serialization_and_marshaling\n",
    "\n",
    "**Type** - modification\n",
    "\n",
    "**Target Number of Turns (User + Assistant)** - 4-8\n"
   ]
  },
  {
   "cell_type": "markdown",
   "id": "87f4afff",
   "metadata": {},
   "source": [
    "# Conversation"
   ]
  },
  {
   "cell_type": "markdown",
   "id": "9afc7e4f",
   "metadata": {},
   "source": [
    "**User**\n",
    "\n",
    "I've got a list of tuples representing users, like this: `users = [('Alice', 25), ('Bob', 30)]`. How can I serialize this to JSON?\n"
   ]
  }
 ],
 "metadata": {},
 "nbformat": 4,
 "nbformat_minor": 5
}
