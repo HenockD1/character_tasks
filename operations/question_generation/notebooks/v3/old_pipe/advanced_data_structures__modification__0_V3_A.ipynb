{
 "cells": [
  {
   "cell_type": "markdown",
   "id": "05b8c8fa",
   "metadata": {},
   "source": [
    "# Metadata\n",
    "\n",
    "**Python Topics** - algorithms > by_data_structure > advanced_data_structures\n",
    "\n",
    "**Type** - modification\n",
    "\n",
    "**Target Number of Turns (User + Assistant)** - 1-4\n"
   ]
  },
  {
   "cell_type": "markdown",
   "id": "a8b752e6",
   "metadata": {},
   "source": [
    "# Conversation"
   ]
  },
  {
   "cell_type": "markdown",
   "id": "4cc1a770",
   "metadata": {},
   "source": [
    "**User**\n",
    "\n",
    "I've got a Fenwick Tree implementation for sum queries. Could you help me adjust it to allow for finding the range sum between two indices? Here's the code:\n",
    "```python\n",
    "class FenwickTree:\n",
    "    def __init__(self, array):\n",
    "        self.tree = [0] * (len(array) + 1)\n",
    "        for idx, val in enumerate(array, 1):\n",
    "            self.update(idx, val)\n",
    "\n",
    "    def update(self, idx, delta):\n",
    "        while idx < len(self.tree):\n",
    "            self.tree[idx] += delta\n",
    "            idx += idx & -idx\n",
    "\n",
    "    def query(self, idx):\n",
    "        result = 0\n",
    "        while idx > 0:\n",
    "            result += self.tree[idx]\n",
    "            idx -= idx & -idx\n",
    "        return result\n",
    "```\n"
   ]
  }
 ],
 "metadata": {},
 "nbformat": 4,
 "nbformat_minor": 5
}
