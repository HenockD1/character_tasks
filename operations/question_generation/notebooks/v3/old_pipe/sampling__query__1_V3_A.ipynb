{
 "cells": [
  {
   "cell_type": "markdown",
   "id": "4f47013a",
   "metadata": {},
   "source": [
    "# Metadata\n",
    "\n",
    "**Python Topics** - algorithms > by_topic > sampling\n",
    "\n",
    "**Type** - query\n",
    "\n",
    "**Target Number of Turns (User + Assistant)** - 1-5\n"
   ]
  },
  {
   "cell_type": "markdown",
   "id": "ef195a45",
   "metadata": {},
   "source": [
    "# Conversation"
   ]
  },
  {
   "cell_type": "markdown",
   "id": "7edead73",
   "metadata": {},
   "source": [
    "**User**\n",
    "\n",
    "Can you provide a Python snippet for selecting a random sample from a list using the acceptance-rejection method?\n"
   ]
  }
 ],
 "metadata": {},
 "nbformat": 4,
 "nbformat_minor": 5
}
