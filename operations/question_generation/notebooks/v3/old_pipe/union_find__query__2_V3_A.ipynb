{
 "cells": [
  {
   "cell_type": "markdown",
   "id": "70e5226b",
   "metadata": {},
   "source": [
    "# Metadata\n",
    "\n",
    "**Python Topics** - algorithms > by_topic > union_find\n",
    "\n",
    "**Type** - query\n",
    "\n",
    "**Target Number of Turns (User + Assistant)** - 4-8\n"
   ]
  },
  {
   "cell_type": "markdown",
   "id": "7cc77119",
   "metadata": {},
   "source": [
    "# Conversation"
   ]
  },
  {
   "cell_type": "markdown",
   "id": "d131e6b7",
   "metadata": {},
   "source": [
    "**User**\n",
    "\n",
    "Could you demonstrate how to use a union-find data structure to check for connectivity in a network of nodes with Python code?\n"
   ]
  }
 ],
 "metadata": {},
 "nbformat": 4,
 "nbformat_minor": 5
}
