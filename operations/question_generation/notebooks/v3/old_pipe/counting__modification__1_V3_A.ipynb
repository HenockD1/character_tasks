{
 "cells": [
  {
   "cell_type": "markdown",
   "id": "ab3face3",
   "metadata": {},
   "source": [
    "# Metadata\n",
    "\n",
    "**Python Topics** - algorithms > by_topic > counting\n",
    "\n",
    "**Type** - modification\n",
    "\n",
    "**Target Number of Turns (User + Assistant)** - 5-9\n"
   ]
  },
  {
   "cell_type": "markdown",
   "id": "2b969f46",
   "metadata": {},
   "source": [
    "# Conversation"
   ]
  },
  {
   "cell_type": "markdown",
   "id": "77a97a15",
   "metadata": {},
   "source": [
    "**User**\n",
    "\n",
    "I have a dictionary where the keys are product IDs and the values are quantities. I need to count the total number of products. Could you show me how to modify this code to get that total? `inventory = {'p1': 5, 'p2': 8, 'p3': 3}; total_products = 0`.\n"
   ]
  }
 ],
 "metadata": {},
 "nbformat": 4,
 "nbformat_minor": 5
}
