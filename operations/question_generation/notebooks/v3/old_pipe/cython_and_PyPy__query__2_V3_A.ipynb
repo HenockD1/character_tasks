{
 "cells": [
  {
   "cell_type": "markdown",
   "id": "252a0689",
   "metadata": {},
   "source": [
    "# Metadata\n",
    "\n",
    "**Python Topics** - python_language_and_scripting > cython_and_PyPy\n",
    "\n",
    "**Type** - query\n",
    "\n",
    "**Target Number of Turns (User + Assistant)** - 5-9\n"
   ]
  },
  {
   "cell_type": "markdown",
   "id": "a8a3b386",
   "metadata": {},
   "source": [
    "# Conversation"
   ]
  },
  {
   "cell_type": "markdown",
   "id": "2713248f",
   "metadata": {},
   "source": [
    "**User**\n",
    "\n",
    "What's the correct way to set up a virtual environment that uses PyPy instead of CPython?\n"
   ]
  }
 ],
 "metadata": {},
 "nbformat": 4,
 "nbformat_minor": 5
}
