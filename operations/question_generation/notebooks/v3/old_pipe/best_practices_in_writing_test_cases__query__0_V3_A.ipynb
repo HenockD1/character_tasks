{
 "cells": [
  {
   "cell_type": "markdown",
   "id": "c01f16b9",
   "metadata": {},
   "source": [
    "# Metadata\n",
    "\n",
    "**Python Topics** - unit_testing_methodology > best_practices_in_writing_test_cases\n",
    "\n",
    "**Type** - query\n",
    "\n",
    "**Target Number of Turns (User + Assistant)** - 1-4\n"
   ]
  },
  {
   "cell_type": "markdown",
   "id": "ed021aa7",
   "metadata": {},
   "source": [
    "# Conversation"
   ]
  },
  {
   "cell_type": "markdown",
   "id": "010dd7ad",
   "metadata": {},
   "source": [
    "**User**\n",
    "\n",
    "Could you illustrate how to use the 'assertRaises' method in a Python unit test when expecting an exception?\n"
   ]
  }
 ],
 "metadata": {},
 "nbformat": 4,
 "nbformat_minor": 5
}
