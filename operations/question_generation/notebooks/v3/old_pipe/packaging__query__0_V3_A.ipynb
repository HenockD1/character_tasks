{
 "cells": [
  {
   "cell_type": "markdown",
   "id": "720f1561",
   "metadata": {},
   "source": [
    "# Metadata\n",
    "\n",
    "**Python Topics** - python_language_and_scripting > packaging\n",
    "\n",
    "**Type** - query\n",
    "\n",
    "**Target Number of Turns (User + Assistant)** - 1-4\n"
   ]
  },
  {
   "cell_type": "markdown",
   "id": "53d9d4e6",
   "metadata": {},
   "source": [
    "# Conversation"
   ]
  },
  {
   "cell_type": "markdown",
   "id": "da5f1e46",
   "metadata": {},
   "source": [
    "**User**\n",
    "\n",
    "How can I use the 'find_packages' function in setuptools to automatically discover all sub-packages in my project?\n"
   ]
  }
 ],
 "metadata": {},
 "nbformat": 4,
 "nbformat_minor": 5
}
