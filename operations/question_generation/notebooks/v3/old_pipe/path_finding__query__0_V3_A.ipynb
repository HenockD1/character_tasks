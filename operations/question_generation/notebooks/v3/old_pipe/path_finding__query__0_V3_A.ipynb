{
 "cells": [
  {
   "cell_type": "markdown",
   "id": "8618a54a",
   "metadata": {},
   "source": [
    "# Metadata\n",
    "\n",
    "**Python Topics** - algorithms > by_topic > path_finding\n",
    "\n",
    "**Type** - query\n",
    "\n",
    "**Target Number of Turns (User + Assistant)** - 3-7\n"
   ]
  },
  {
   "cell_type": "markdown",
   "id": "954668b2",
   "metadata": {},
   "source": [
    "# Conversation"
   ]
  },
  {
   "cell_type": "markdown",
   "id": "6c97ac81",
   "metadata": {},
   "source": [
    "**User**\n",
    "\n",
    "How can I use the Floyd-Warshall algorithm in Python to find the shortest paths between all pairs of vertices in a weighted graph?\n"
   ]
  }
 ],
 "metadata": {},
 "nbformat": 4,
 "nbformat_minor": 5
}
