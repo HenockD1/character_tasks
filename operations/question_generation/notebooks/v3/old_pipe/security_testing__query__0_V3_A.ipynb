{
 "cells": [
  {
   "cell_type": "markdown",
   "id": "8d1ed05b",
   "metadata": {},
   "source": [
    "# Metadata\n",
    "\n",
    "**Python Topics** - unit_testing_methodology > security_testing\n",
    "\n",
    "**Type** - query\n",
    "\n",
    "**Target Number of Turns (User + Assistant)** - 1-5\n"
   ]
  },
  {
   "cell_type": "markdown",
   "id": "19c86623",
   "metadata": {},
   "source": [
    "# Conversation"
   ]
  },
  {
   "cell_type": "markdown",
   "id": "05c68520",
   "metadata": {},
   "source": [
    "**User**\n",
    "\n",
    "How can I use Python's `unittest` to test if my code is vulnerable to directory traversal attacks?\n"
   ]
  }
 ],
 "metadata": {},
 "nbformat": 4,
 "nbformat_minor": 5
}
