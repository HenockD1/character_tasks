{
 "cells": [
  {
   "cell_type": "markdown",
   "id": "11b31dd2",
   "metadata": {},
   "source": [
    "# Metadata\n",
    "\n",
    "**Python Topics** - python_language_and_scripting > python_2_vs_3\n",
    "\n",
    "**Type** - query\n",
    "\n",
    "**Target Number of Turns (User + Assistant)** - 1-4\n"
   ]
  },
  {
   "cell_type": "markdown",
   "id": "cf75b73f",
   "metadata": {},
   "source": [
    "# Conversation"
   ]
  },
  {
   "cell_type": "markdown",
   "id": "529ddc9d",
   "metadata": {},
   "source": [
    "**User**\n",
    "\n",
    "How would you update a Python 2 `print` statement with multiple arguments to be compatible with Python 3?\n"
   ]
  }
 ],
 "metadata": {},
 "nbformat": 4,
 "nbformat_minor": 5
}
