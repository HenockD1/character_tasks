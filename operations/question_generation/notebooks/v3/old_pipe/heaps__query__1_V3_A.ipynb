{
 "cells": [
  {
   "cell_type": "markdown",
   "id": "0731a6cd",
   "metadata": {},
   "source": [
    "# Metadata\n",
    "\n",
    "**Python Topics** - algorithms > by_data_structure > heaps\n",
    "\n",
    "**Type** - query\n",
    "\n",
    "**Target Number of Turns (User + Assistant)** - 2-6\n"
   ]
  },
  {
   "cell_type": "markdown",
   "id": "89bce858",
   "metadata": {},
   "source": [
    "# Conversation"
   ]
  },
  {
   "cell_type": "markdown",
   "id": "01dfd71c",
   "metadata": {},
   "source": [
    "**User**\n",
    "\n",
    "Can you write a Python function that uses a heap to sort an array in descending order?\n"
   ]
  }
 ],
 "metadata": {},
 "nbformat": 4,
 "nbformat_minor": 5
}
