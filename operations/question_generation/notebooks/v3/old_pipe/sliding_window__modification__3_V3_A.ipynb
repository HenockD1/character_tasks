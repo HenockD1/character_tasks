{
 "cells": [
  {
   "cell_type": "markdown",
   "id": "bfa36443",
   "metadata": {},
   "source": [
    "# Metadata\n",
    "\n",
    "**Python Topics** - algorithms > by_topic > sliding_window\n",
    "\n",
    "**Type** - modification\n",
    "\n",
    "**Target Number of Turns (User + Assistant)** - 1-5\n"
   ]
  },
  {
   "cell_type": "markdown",
   "id": "e7fbb19e",
   "metadata": {},
   "source": [
    "# Conversation"
   ]
  },
  {
   "cell_type": "markdown",
   "id": "eeffa2d8",
   "metadata": {},
   "source": [
    "**User**\n",
    "\n",
    "I'm attempting to use the sliding window technique to find the number of contiguous subarrays where the sum is equal to a given number 'k'. However, my current solution is not efficient. Could you help me optimize it? Here's the existing code: ```def count_subarrays_with_sum(arr, k): count = 0 for start in range(len(arr)): sum = 0 for end in range(start, len(arr)): sum += arr[end] if sum == k: count += 1 return count```\n"
   ]
  }
 ],
 "metadata": {},
 "nbformat": 4,
 "nbformat_minor": 5
}
