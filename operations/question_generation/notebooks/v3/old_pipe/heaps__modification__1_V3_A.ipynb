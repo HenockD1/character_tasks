{
 "cells": [
  {
   "cell_type": "markdown",
   "id": "ac123ed4",
   "metadata": {},
   "source": [
    "# Metadata\n",
    "\n",
    "**Python Topics** - algorithms > by_data_structure > heaps\n",
    "\n",
    "**Type** - modification\n",
    "\n",
    "**Target Number of Turns (User + Assistant)** - 1-4\n"
   ]
  },
  {
   "cell_type": "markdown",
   "id": "2e76ec63",
   "metadata": {},
   "source": [
    "# Conversation"
   ]
  },
  {
   "cell_type": "markdown",
   "id": "0bd57657",
   "metadata": {},
   "source": [
    "**User**\n",
    "\n",
    "I've got a list of tuples where the first element is the priority and the second is the item. I want to use a heap to sort them by priority, but I'm not sure how to do it. Here's my list:\n",
    "```python\n",
    "items = [(2, 'apple'), (1, 'banana'), (4, 'cherry'), (3, 'date')]\n",
    "```\n",
    "Could you write a function that turns this list into a sorted heap?\n"
   ]
  }
 ],
 "metadata": {},
 "nbformat": 4,
 "nbformat_minor": 5
}
