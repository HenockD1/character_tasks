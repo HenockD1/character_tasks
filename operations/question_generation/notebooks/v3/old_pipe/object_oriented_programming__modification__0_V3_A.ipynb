{
 "cells": [
  {
   "cell_type": "markdown",
   "id": "72fb6f98",
   "metadata": {},
   "source": [
    "# Metadata\n",
    "\n",
    "**Python Topics** - python_language_and_scripting > object_oriented_programming\n",
    "\n",
    "**Type** - modification\n",
    "\n",
    "**Target Number of Turns (User + Assistant)** - 1-5\n"
   ]
  },
  {
   "cell_type": "markdown",
   "id": "57a529cf",
   "metadata": {},
   "source": [
    "# Conversation"
   ]
  },
  {
   "cell_type": "markdown",
   "id": "9b241f0f",
   "metadata": {},
   "source": [
    "**User**\n",
    "\n",
    "Could you update my 'Book' class to include a class method named 'get_book_count' that keeps track of the total number of book instances created? Here's the current class:\n",
    "```python\n",
    "class Book:\n",
    "    book_count = 0\n",
    "\n",
    "    def __init__(self, title, author):\n",
    "        self.title = title\n",
    "        self.author = author\n",
    "        Book.book_count += 1\n",
    "```\n"
   ]
  }
 ],
 "metadata": {},
 "nbformat": 4,
 "nbformat_minor": 5
}
