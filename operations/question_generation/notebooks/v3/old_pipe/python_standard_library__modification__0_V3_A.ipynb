{
 "cells": [
  {
   "cell_type": "markdown",
   "id": "f6baf108",
   "metadata": {},
   "source": [
    "# Metadata\n",
    "\n",
    "**Python Topics** - python_language_and_scripting > python_standard_library\n",
    "\n",
    "**Type** - modification\n",
    "\n",
    "**Target Number of Turns (User + Assistant)** - 1-4\n"
   ]
  },
  {
   "cell_type": "markdown",
   "id": "2fd5fbd2",
   "metadata": {},
   "source": [
    "# Conversation"
   ]
  },
  {
   "cell_type": "markdown",
   "id": "655be8bf",
   "metadata": {},
   "source": [
    "**User**\n",
    "\n",
    "Could you help me modify this code to use the `os` module for checking if a file exists before trying to open it? Here's what I have: `file_path = 'example.txt'\n",
    "with open(file_path, 'r') as file:\n",
    "    content = file.read()`\n"
   ]
  }
 ],
 "metadata": {},
 "nbformat": 4,
 "nbformat_minor": 5
}
