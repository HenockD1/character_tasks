{
 "cells": [
  {
   "cell_type": "markdown",
   "id": "e8781a8b",
   "metadata": {},
   "source": [
    "# Metadata\n",
    "\n",
    "**Python Topics** - python_language_and_scripting > packaging\n",
    "\n",
    "**Type** - modification\n",
    "\n",
    "**Target Number of Turns (User + Assistant)** - 1-4\n"
   ]
  },
  {
   "cell_type": "markdown",
   "id": "adb7d675",
   "metadata": {},
   "source": [
    "# Conversation"
   ]
  },
  {
   "cell_type": "markdown",
   "id": "be176fc7",
   "metadata": {},
   "source": [
    "**User**\n",
    "\n",
    "I've got a list of required packages in a requirements.txt file. Could you show me how to include these requirements in my setup.py file so they are installed when my package is installed? Here's my current setup call: setup(name='mylib', version='0.2')\n"
   ]
  }
 ],
 "metadata": {},
 "nbformat": 4,
 "nbformat_minor": 5
}
