{
 "cells": [
  {
   "cell_type": "markdown",
   "id": "99ee064f",
   "metadata": {},
   "source": [
    "# Metadata\n",
    "\n",
    "**Python Topics** - algorithms > by_topic > dynamic_programming\n",
    "\n",
    "**Type** - modification\n",
    "\n",
    "**Target Number of Turns (User + Assistant)** - 1-5\n"
   ]
  },
  {
   "cell_type": "markdown",
   "id": "a419edf3",
   "metadata": {},
   "source": [
    "# Conversation"
   ]
  },
  {
   "cell_type": "markdown",
   "id": "4598551e",
   "metadata": {},
   "source": [
    "**User**\n",
    "\n",
    "Could you assist me in improving my Python function that calculates the number of ways to cover a distance with 1, 2, or 3 steps? I'd like to implement dynamic programming to make it more efficient. Here's the current recursive code: def count_ways(n): if n == 0: return 1 if n < 0: return 0 return count_ways(n-1) + count_ways(n-2) + count_ways(n-3).\n"
   ]
  }
 ],
 "metadata": {},
 "nbformat": 4,
 "nbformat_minor": 5
}
