{
 "cells": [
  {
   "cell_type": "markdown",
   "id": "c9b80c8c",
   "metadata": {},
   "source": [
    "# Metadata\n",
    "\n",
    "**Python Topics** - unit_testing_methodology > testing_frameworks\n",
    "\n",
    "**Type** - query\n",
    "\n",
    "**Target Number of Turns (User + Assistant)** - 1-5\n"
   ]
  },
  {
   "cell_type": "markdown",
   "id": "383fa13f",
   "metadata": {},
   "source": [
    "# Conversation"
   ]
  },
  {
   "cell_type": "markdown",
   "id": "e8bae66a",
   "metadata": {},
   "source": [
    "**User**\n",
    "\n",
    "How can I use pytest's fixture feature to create a temporary directory that is accessible by multiple test functions?\n"
   ]
  }
 ],
 "metadata": {},
 "nbformat": 4,
 "nbformat_minor": 5
}
