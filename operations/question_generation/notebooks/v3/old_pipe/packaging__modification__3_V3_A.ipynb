{
 "cells": [
  {
   "cell_type": "markdown",
   "id": "aa1f1873",
   "metadata": {},
   "source": [
    "# Metadata\n",
    "\n",
    "**Python Topics** - python_language_and_scripting > packaging\n",
    "\n",
    "**Type** - modification\n",
    "\n",
    "**Target Number of Turns (User + Assistant)** - 2-6\n"
   ]
  },
  {
   "cell_type": "markdown",
   "id": "2f5d5f17",
   "metadata": {},
   "source": [
    "# Conversation"
   ]
  },
  {
   "cell_type": "markdown",
   "id": "c08f5d10",
   "metadata": {},
   "source": [
    "**User**\n",
    "\n",
    "My package needs to include JSON configuration files located in a 'configs' directory. How can I modify my setup.py to ensure these files are packaged with it? Here's my current setup call: setup(name='myutility', version='0.3')\n"
   ]
  }
 ],
 "metadata": {},
 "nbformat": 4,
 "nbformat_minor": 5
}
