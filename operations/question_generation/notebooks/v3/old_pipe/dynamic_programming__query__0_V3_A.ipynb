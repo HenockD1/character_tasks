{
 "cells": [
  {
   "cell_type": "markdown",
   "id": "77b772a3",
   "metadata": {},
   "source": [
    "# Metadata\n",
    "\n",
    "**Python Topics** - algorithms > by_topic > dynamic_programming\n",
    "\n",
    "**Type** - query\n",
    "\n",
    "**Target Number of Turns (User + Assistant)** - 8-12\n"
   ]
  },
  {
   "cell_type": "markdown",
   "id": "99180912",
   "metadata": {},
   "source": [
    "# Conversation"
   ]
  },
  {
   "cell_type": "markdown",
   "id": "25ee5702",
   "metadata": {},
   "source": [
    "**User**\n",
    "\n",
    "Can you demonstrate a Python function that uses dynamic programming to count the number of ways to climb a staircase with n steps, assuming one can take either 1 or 2 steps at a time?\n"
   ]
  }
 ],
 "metadata": {},
 "nbformat": 4,
 "nbformat_minor": 5
}
