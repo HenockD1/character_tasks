{
 "cells": [
  {
   "cell_type": "markdown",
   "id": "f581f549",
   "metadata": {},
   "source": [
    "# Metadata\n",
    "\n",
    "**Python Topics** - unit_testing_methodology > unit_testing_basics\n",
    "\n",
    "**Type** - modification\n",
    "\n",
    "**Target Number of Turns (User + Assistant)** - 2-6\n"
   ]
  },
  {
   "cell_type": "markdown",
   "id": "4c2010b4",
   "metadata": {},
   "source": [
    "# Conversation"
   ]
  },
  {
   "cell_type": "markdown",
   "id": "f5501a93",
   "metadata": {},
   "source": [
    "**User**\n",
    "\n",
    "I'm trying to ensure my 'divide' function handles division by zero properly by raising a ZeroDivisionError. Can you help me write a test case for this scenario? Here's my function: ```def divide(x, y): return x / y```\n"
   ]
  }
 ],
 "metadata": {},
 "nbformat": 4,
 "nbformat_minor": 5
}
