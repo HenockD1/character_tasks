{
 "cells": [
  {
   "cell_type": "markdown",
   "id": "88dce476",
   "metadata": {},
   "source": [
    "# Metadata\n",
    "\n",
    "**Python Topics** - algorithms > by_data_structure > advanced_data_structures\n",
    "\n",
    "**Type** - modification\n",
    "\n",
    "**Target Number of Turns (User + Assistant)** - 2-6\n"
   ]
  },
  {
   "cell_type": "markdown",
   "id": "b32d68da",
   "metadata": {},
   "source": [
    "# Conversation"
   ]
  },
  {
   "cell_type": "markdown",
   "id": "7e8bcc19",
   "metadata": {},
   "source": [
    "**User**\n",
    "\n",
    "I want to extend my Segment Tree to handle lazy propagation for range updates. Could you guide me on how to modify the following code to include this feature?\n",
    "```python\n",
    "class SegmentTree:\n",
    "    def __init__(self, nums):\n",
    "        self.n = len(nums)\n",
    "        self.tree = [0] * (4 * self.n)\n",
    "        self.lazy = [0] * (4 * self.n)\n",
    "        self.build(nums, 0, 0, self.n - 1)\n",
    "\n",
    "    def build(self, nums, tree_index, lo, hi):\n",
    "        if lo == hi:\n",
    "            self.tree[tree_index] = nums[lo]\n",
    "            return\n",
    "        mid = (lo + hi) // 2\n",
    "        self.build(nums, 2 * tree_index + 1, lo, mid)\n",
    "        self.build(nums, 2 * tree_index + 2, mid + 1, hi)\n",
    "        self.tree[tree_index] = self.tree[2 * tree_index + 1] + self.tree[2 * tree_index + 2]\n",
    "```\n"
   ]
  }
 ],
 "metadata": {},
 "nbformat": 4,
 "nbformat_minor": 5
}
