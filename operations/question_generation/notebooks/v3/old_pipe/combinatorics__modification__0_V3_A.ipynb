{
 "cells": [
  {
   "cell_type": "markdown",
   "id": "947d93a3",
   "metadata": {},
   "source": [
    "# Metadata\n",
    "\n",
    "**Python Topics** - algorithms > by_topic > combinatorics\n",
    "\n",
    "**Type** - modification\n",
    "\n",
    "**Target Number of Turns (User + Assistant)** - 4-8\n"
   ]
  },
  {
   "cell_type": "markdown",
   "id": "5b0864ec",
   "metadata": {},
   "source": [
    "# Conversation"
   ]
  },
  {
   "cell_type": "markdown",
   "id": "d67f2e36",
   "metadata": {},
   "source": [
    "**User**\n",
    "\n",
    "I've written a function to calculate the binomial coefficient, but I'd like to add memoization to improve its efficiency. Here's the current code:\n",
    "```python\n",
    "def binomial_coeff(n, k):\n",
    "    if k == 0 or k == n:\n",
    "        return 1\n",
    "    return binomial_coeff(n-1, k-1) + binomial_coeff(n-1, k)\n",
    "```\n",
    "Could you help me implement memoization in this function?\n"
   ]
  }
 ],
 "metadata": {},
 "nbformat": 4,
 "nbformat_minor": 5
}
