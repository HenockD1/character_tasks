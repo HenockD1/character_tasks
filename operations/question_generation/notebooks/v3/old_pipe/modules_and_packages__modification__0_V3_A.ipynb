{
 "cells": [
  {
   "cell_type": "markdown",
   "id": "b5940aec",
   "metadata": {},
   "source": [
    "# Metadata\n",
    "\n",
    "**Python Topics** - python_language_and_scripting > modules_and_packages\n",
    "\n",
    "**Type** - modification\n",
    "\n",
    "**Target Number of Turns (User + Assistant)** - 1-5\n"
   ]
  },
  {
   "cell_type": "markdown",
   "id": "27796c4b",
   "metadata": {},
   "source": [
    "# Conversation"
   ]
  },
  {
   "cell_type": "markdown",
   "id": "13fe05a8",
   "metadata": {},
   "source": [
    "**User**\n",
    "\n",
    "I've been using 'from sys import *' to import everything from the sys module. Can you modify this to only import the 'argv' and 'exit' functions?\n"
   ]
  }
 ],
 "metadata": {},
 "nbformat": 4,
 "nbformat_minor": 5
}
