{
 "cells": [
  {
   "cell_type": "markdown",
   "id": "2b7b2e42",
   "metadata": {},
   "source": [
    "# Metadata\n",
    "\n",
    "**Python Topics** - algorithms > by_data_structure > linked_lists\n",
    "\n",
    "**Type** - modification\n",
    "\n",
    "**Target Number of Turns (User + Assistant)** - 1-5\n"
   ]
  },
  {
   "cell_type": "markdown",
   "id": "474b3581",
   "metadata": {},
   "source": [
    "# Conversation"
   ]
  },
  {
   "cell_type": "markdown",
   "id": "8b7141ec",
   "metadata": {},
   "source": [
    "**User**\n",
    "\n",
    "I've written a function to insert a new node at the beginning of a linked list. Here's the code snippet:\n",
    "```python\n",
    "class ListNode:\n",
    "    def __init__(self, value=0, next=None):\n",
    "        self.value = value\n",
    "        self.next = next\n",
    "\n",
    "def insert_at_head(head, value):\n",
    "    return ListNode(value, head)\n",
    "```\n",
    "Can you modify this function to also return the new head of the list?\n"
   ]
  }
 ],
 "metadata": {},
 "nbformat": 4,
 "nbformat_minor": 5
}
