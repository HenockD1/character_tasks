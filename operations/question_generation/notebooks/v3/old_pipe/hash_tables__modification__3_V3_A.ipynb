{
 "cells": [
  {
   "cell_type": "markdown",
   "id": "394c9ea6",
   "metadata": {},
   "source": [
    "# Metadata\n",
    "\n",
    "**Python Topics** - algorithms > by_data_structure > hash_tables\n",
    "\n",
    "**Type** - modification\n",
    "\n",
    "**Target Number of Turns (User + Assistant)** - 2-6\n"
   ]
  },
  {
   "cell_type": "markdown",
   "id": "75b3cf76",
   "metadata": {},
   "source": [
    "# Conversation"
   ]
  },
  {
   "cell_type": "markdown",
   "id": "0952a989",
   "metadata": {},
   "source": [
    "**User**\n",
    "\n",
    "I'm trying to group anagrams from a list of words using a hash table. Here's my starting point: `words = ['bat', 'tab', 'cat', 'act', 'tac']`. Can you provide the code to accomplish this task?\n"
   ]
  }
 ],
 "metadata": {},
 "nbformat": 4,
 "nbformat_minor": 5
}
