{
 "cells": [
  {
   "cell_type": "markdown",
   "id": "76383a1f",
   "metadata": {},
   "source": [
    "# Metadata\n",
    "\n",
    "**Python Topics** - python_language_and_scripting > generators_and_iterators\n",
    "\n",
    "**Type** - query\n",
    "\n",
    "**Target Number of Turns (User + Assistant)** - 1-5\n"
   ]
  },
  {
   "cell_type": "markdown",
   "id": "eb22b8a9",
   "metadata": {},
   "source": [
    "# Conversation"
   ]
  },
  {
   "cell_type": "markdown",
   "id": "d5a3160f",
   "metadata": {},
   "source": [
    "**User**\n",
    "\n",
    "What's the best way to create a generator that alternates between yielding 'X' and 'O' indefinitely?\n"
   ]
  }
 ],
 "metadata": {},
 "nbformat": 4,
 "nbformat_minor": 5
}
