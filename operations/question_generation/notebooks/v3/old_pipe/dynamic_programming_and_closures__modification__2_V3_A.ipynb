{
 "cells": [
  {
   "cell_type": "markdown",
   "id": "4b4cf65d",
   "metadata": {},
   "source": [
    "# Metadata\n",
    "\n",
    "**Python Topics** - python_language_and_scripting > dynamic_programming_and_closures\n",
    "\n",
    "**Type** - modification\n",
    "\n",
    "**Target Number of Turns (User + Assistant)** - 2-6\n"
   ]
  },
  {
   "cell_type": "markdown",
   "id": "e369987e",
   "metadata": {},
   "source": [
    "# Conversation"
   ]
  },
  {
   "cell_type": "markdown",
   "id": "6863e8f5",
   "metadata": {},
   "source": [
    "**User**\n",
    "\n",
    "I'm working on a function that calculates the number of unique binary search trees given 'n' nodes. Can you help me optimize it using dynamic programming? Here's my current recursive solution: ```def num_trees(n): if n <= 1: return 1 return sum(num_trees(i) * num_trees(n - i - 1) for i in range(n))```\n"
   ]
  }
 ],
 "metadata": {},
 "nbformat": 4,
 "nbformat_minor": 5
}
