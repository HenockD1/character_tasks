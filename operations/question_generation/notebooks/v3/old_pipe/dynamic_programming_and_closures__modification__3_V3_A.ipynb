{
 "cells": [
  {
   "cell_type": "markdown",
   "id": "8199e67b",
   "metadata": {},
   "source": [
    "# Metadata\n",
    "\n",
    "**Python Topics** - python_language_and_scripting > dynamic_programming_and_closures\n",
    "\n",
    "**Type** - modification\n",
    "\n",
    "**Target Number of Turns (User + Assistant)** - 3-7\n"
   ]
  },
  {
   "cell_type": "markdown",
   "id": "51c18e1f",
   "metadata": {},
   "source": [
    "# Conversation"
   ]
  },
  {
   "cell_type": "markdown",
   "id": "3ecf188d",
   "metadata": {},
   "source": [
    "**User**\n",
    "\n",
    "Can you help me create a decorator that times the execution of the function it wraps? I'd like to print the duration it took for the function to run. Here's a function you can apply it to: ```def my_function(): # Some time-consuming operations pass```\n"
   ]
  }
 ],
 "metadata": {},
 "nbformat": 4,
 "nbformat_minor": 5
}
