{
 "cells": [
  {
   "cell_type": "markdown",
   "id": "e1bb60b8",
   "metadata": {},
   "source": [
    "# Metadata\n",
    "\n",
    "**Python Topics** - python_language_and_scripting > context_managers\n",
    "\n",
    "**Type** - modification\n",
    "\n",
    "**Target Number of Turns (User + Assistant)** - 3-7\n"
   ]
  },
  {
   "cell_type": "markdown",
   "id": "b58315c6",
   "metadata": {},
   "source": [
    "# Conversation"
   ]
  },
  {
   "cell_type": "markdown",
   "id": "41f85d37",
   "metadata": {},
   "source": [
    "**User**\n",
    "\n",
    "Please help me refactor this code to use a context manager for better exception handling during file operations. Here's what I have:\n",
    "```python\n",
    "def process_file(file_path):\n",
    "    try:\n",
    "        with open(file_path, 'r') as file:\n",
    "            # Process the file\n",
    "            pass\n",
    "    except Exception as e:\n",
    "        print(f'An error occurred: {e}')\n",
    "```\n"
   ]
  }
 ],
 "metadata": {},
 "nbformat": 4,
 "nbformat_minor": 5
}
