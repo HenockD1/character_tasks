{
 "cells": [
  {
   "cell_type": "markdown",
   "id": "3be9760c",
   "metadata": {},
   "source": [
    "# Metadata\n",
    "\n",
    "**Python Topics** - python_language_and_scripting > advanced_networking\n",
    "\n",
    "**Type** - modification\n",
    "\n",
    "**Target Number of Turns (User + Assistant)** - 2-6\n"
   ]
  },
  {
   "cell_type": "markdown",
   "id": "53c1d6f0",
   "metadata": {},
   "source": [
    "# Conversation"
   ]
  },
  {
   "cell_type": "markdown",
   "id": "d47b3f87",
   "metadata": {},
   "source": [
    "**User**\n",
    "\n",
    "I have a Python script that needs to send data to a multicast group. Here's the current unicast sending code: ```python\n",
    "import socket\n",
    "\n",
    "message = 'very important data'\n",
    "multicast_group = ('224.1.1.1', 5004)\n",
    "\n",
    "# How do I modify this to send to the multicast group?\n",
    "sock = socket.socket(socket.AF_INET, socket.SOCK_DGRAM)\n",
    "sock.sendto(message.encode(), ('localhost', 10000))\n",
    "```\n"
   ]
  }
 ],
 "metadata": {},
 "nbformat": 4,
 "nbformat_minor": 5
}
