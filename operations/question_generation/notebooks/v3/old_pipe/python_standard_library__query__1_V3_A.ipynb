{
 "cells": [
  {
   "cell_type": "markdown",
   "id": "c361f296",
   "metadata": {},
   "source": [
    "# Metadata\n",
    "\n",
    "**Python Topics** - python_language_and_scripting > python_standard_library\n",
    "\n",
    "**Type** - query\n",
    "\n",
    "**Target Number of Turns (User + Assistant)** - 1-4\n"
   ]
  },
  {
   "cell_type": "markdown",
   "id": "7fe24e9e",
   "metadata": {},
   "source": [
    "# Conversation"
   ]
  },
  {
   "cell_type": "markdown",
   "id": "06849743",
   "metadata": {},
   "source": [
    "**User**\n",
    "\n",
    "Could you demonstrate how to calculate the MD5 checksum of a file using Python's `hashlib` module?\n"
   ]
  }
 ],
 "metadata": {},
 "nbformat": 4,
 "nbformat_minor": 5
}
