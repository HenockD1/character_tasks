{
 "cells": [
  {
   "cell_type": "markdown",
   "id": "32b4a56f",
   "metadata": {},
   "source": [
    "# Metadata\n",
    "\n",
    "**Python Topics** - algorithms > by_topic > probability\n",
    "\n",
    "**Type** - modification\n",
    "\n",
    "**Target Number of Turns (User + Assistant)** - 6-10\n"
   ]
  },
  {
   "cell_type": "markdown",
   "id": "21cb5442",
   "metadata": {},
   "source": [
    "# Conversation"
   ]
  },
  {
   "cell_type": "markdown",
   "id": "35278e98",
   "metadata": {},
   "source": [
    "**User**\n",
    "\n",
    "I have a function that simulates picking a card from a deck, but now I want to find the probability of picking a heart after doing it 100 times. Can you add that to my function? Here's the current code: ```python\n",
    "import random\n",
    "def pick_card():\n",
    "    suits = ['hearts', 'diamonds', 'clubs', 'spades']\n",
    "    ranks = ['2', '3', '4', '5', '6', '7', '8', '9', '10', 'J', 'Q', 'K', 'A']\n",
    "    return random.choice(ranks) + ' of ' + random.choice(suits)\n",
    "```\n"
   ]
  }
 ],
 "metadata": {},
 "nbformat": 4,
 "nbformat_minor": 5
}
