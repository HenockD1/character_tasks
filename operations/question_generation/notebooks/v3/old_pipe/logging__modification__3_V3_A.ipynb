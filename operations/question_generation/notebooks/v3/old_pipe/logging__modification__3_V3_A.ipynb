{
 "cells": [
  {
   "cell_type": "markdown",
   "id": "814317f6",
   "metadata": {},
   "source": [
    "# Metadata\n",
    "\n",
    "**Python Topics** - python_language_and_scripting > logging\n",
    "\n",
    "**Type** - modification\n",
    "\n",
    "**Target Number of Turns (User + Assistant)** - 1-4\n"
   ]
  },
  {
   "cell_type": "markdown",
   "id": "2eba59f8",
   "metadata": {},
   "source": [
    "# Conversation"
   ]
  },
  {
   "cell_type": "markdown",
   "id": "35c533b5",
   "metadata": {},
   "source": [
    "**User**\n",
    "\n",
    "I need to set different log levels for the console and file handlers in my application. Here's my current code: `logging.basicConfig(level=logging.DEBUG)`. Can you help me adjust it?\n"
   ]
  }
 ],
 "metadata": {},
 "nbformat": 4,
 "nbformat_minor": 5
}
