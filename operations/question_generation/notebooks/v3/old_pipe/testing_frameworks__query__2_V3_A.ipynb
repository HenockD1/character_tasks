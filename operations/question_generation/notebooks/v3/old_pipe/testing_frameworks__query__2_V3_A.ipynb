{
 "cells": [
  {
   "cell_type": "markdown",
   "id": "d75f5366",
   "metadata": {},
   "source": [
    "# Metadata\n",
    "\n",
    "**Python Topics** - unit_testing_methodology > testing_frameworks\n",
    "\n",
    "**Type** - query\n",
    "\n",
    "**Target Number of Turns (User + Assistant)** - 1-4\n"
   ]
  },
  {
   "cell_type": "markdown",
   "id": "dc616628",
   "metadata": {},
   "source": [
    "# Conversation"
   ]
  },
  {
   "cell_type": "markdown",
   "id": "57a4c90d",
   "metadata": {},
   "source": [
    "**User**\n",
    "\n",
    "What's the correct way to assert that a warning is raised during a test in pytest?\n"
   ]
  }
 ],
 "metadata": {},
 "nbformat": 4,
 "nbformat_minor": 5
}
