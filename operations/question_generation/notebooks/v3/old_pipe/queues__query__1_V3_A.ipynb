{
 "cells": [
  {
   "cell_type": "markdown",
   "id": "ec8c0a74",
   "metadata": {},
   "source": [
    "# Metadata\n",
    "\n",
    "**Python Topics** - algorithms > by_data_structure > queues\n",
    "\n",
    "**Type** - query\n",
    "\n",
    "**Target Number of Turns (User + Assistant)** - 1-5\n"
   ]
  },
  {
   "cell_type": "markdown",
   "id": "d1f17677",
   "metadata": {},
   "source": [
    "# Conversation"
   ]
  },
  {
   "cell_type": "markdown",
   "id": "b7f40cce",
   "metadata": {},
   "source": [
    "**User**\n",
    "\n",
    "Could you provide a Python function that merges two queues into one while maintaining the order of elements?\n"
   ]
  }
 ],
 "metadata": {},
 "nbformat": 4,
 "nbformat_minor": 5
}
