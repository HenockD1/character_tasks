{
 "cells": [
  {
   "cell_type": "markdown",
   "id": "517df8c1",
   "metadata": {},
   "source": [
    "# Metadata\n",
    "\n",
    "**Python Topics** - algorithms > by_topic > searching\n",
    "\n",
    "**Type** - modification\n",
    "\n",
    "**Target Number of Turns (User + Assistant)** - 3-7\n"
   ]
  },
  {
   "cell_type": "markdown",
   "id": "b6e18c04",
   "metadata": {},
   "source": [
    "# Conversation"
   ]
  },
  {
   "cell_type": "markdown",
   "id": "5cc2df7d",
   "metadata": {},
   "source": [
    "**User**\n",
    "\n",
    "Can you tweak this Python function to use the ternary search algorithm for finding an element in a sorted list? Here's the starting point: ```def ternary_search(arr, l, r, x): if r >= l: mid1 = l + (r - l) // 3 mid2 = r - (r - l) // 3 if arr[mid1] == x: return mid1 if arr[mid2] == x: return mid2 if x < arr[mid1]: return ternary_search(arr, l, mid1-1, x) elif x > arr[mid2]: return ternary_search(arr, mid2+1, r, x) else: return ternary_search(arr, mid1+1, mid2-1, x) return -1```\n"
   ]
  }
 ],
 "metadata": {},
 "nbformat": 4,
 "nbformat_minor": 5
}
