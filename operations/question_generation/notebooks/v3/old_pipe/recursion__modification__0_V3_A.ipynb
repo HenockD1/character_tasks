{
 "cells": [
  {
   "cell_type": "markdown",
   "id": "1b9f1e4f",
   "metadata": {},
   "source": [
    "# Metadata\n",
    "\n",
    "**Python Topics** - algorithms > by_topic > recursion\n",
    "\n",
    "**Type** - modification\n",
    "\n",
    "**Target Number of Turns (User + Assistant)** - 4-8\n"
   ]
  },
  {
   "cell_type": "markdown",
   "id": "d5ef5bb0",
   "metadata": {},
   "source": [
    "# Conversation"
   ]
  },
  {
   "cell_type": "markdown",
   "id": "521ca2d7",
   "metadata": {},
   "source": [
    "**User**\n",
    "\n",
    "Can you tweak my recursive function to calculate the sum of numbers from 1 to n? Here's what I have: `def sum_to_n(n): return n + sum_to_n(n-1) if n > 0 else 0`\n"
   ]
  }
 ],
 "metadata": {},
 "nbformat": 4,
 "nbformat_minor": 5
}
