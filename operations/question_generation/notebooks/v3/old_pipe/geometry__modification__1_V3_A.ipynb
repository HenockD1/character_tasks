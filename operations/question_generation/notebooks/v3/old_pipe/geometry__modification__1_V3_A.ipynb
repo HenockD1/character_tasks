{
 "cells": [
  {
   "cell_type": "markdown",
   "id": "03d7391e",
   "metadata": {},
   "source": [
    "# Metadata\n",
    "\n",
    "**Python Topics** - algorithms > by_topic > geometry\n",
    "\n",
    "**Type** - modification\n",
    "\n",
    "**Target Number of Turns (User + Assistant)** - 3-7\n"
   ]
  },
  {
   "cell_type": "markdown",
   "id": "eecf5f87",
   "metadata": {},
   "source": [
    "# Conversation"
   ]
  },
  {
   "cell_type": "markdown",
   "id": "aef53e39",
   "metadata": {},
   "source": [
    "**User**\n",
    "\n",
    "I'm trying to write a function that will calculate the perimeter of a polygon given the coordinates of its vertices. Can you help me complete it? Here's what I have so far:\n",
    "```python\n",
    "def polygon_perimeter(vertices):\n",
    "    # vertices is a list of tuples [(x1, y1), (x2, y2), ..., (xn, yn)]\n",
    "    pass\n",
    "```\n"
   ]
  }
 ],
 "metadata": {},
 "nbformat": 4,
 "nbformat_minor": 5
}
