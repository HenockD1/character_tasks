{
 "cells": [
  {
   "cell_type": "markdown",
   "id": "a628da4b",
   "metadata": {},
   "source": [
    "# Metadata\n",
    "\n",
    "**Python Topics** - algorithms > by_data_structure > trees\n",
    "\n",
    "**Type** - query\n",
    "\n",
    "**Target Number of Turns (User + Assistant)** - 1-4\n"
   ]
  },
  {
   "cell_type": "markdown",
   "id": "573fb78f",
   "metadata": {},
   "source": [
    "# Conversation"
   ]
  },
  {
   "cell_type": "markdown",
   "id": "20ac25d3",
   "metadata": {},
   "source": [
    "**User**\n",
    "\n",
    "How can I implement a method to find the lowest common ancestor (LCA) of two nodes in a binary tree using Python?\n"
   ]
  }
 ],
 "metadata": {},
 "nbformat": 4,
 "nbformat_minor": 5
}
