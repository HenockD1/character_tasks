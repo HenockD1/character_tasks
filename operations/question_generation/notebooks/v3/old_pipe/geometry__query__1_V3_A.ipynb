{
 "cells": [
  {
   "cell_type": "markdown",
   "id": "defdf80c",
   "metadata": {},
   "source": [
    "# Metadata\n",
    "\n",
    "**Python Topics** - algorithms > by_topic > geometry\n",
    "\n",
    "**Type** - query\n",
    "\n",
    "**Target Number of Turns (User + Assistant)** - 1-5\n"
   ]
  },
  {
   "cell_type": "markdown",
   "id": "be3341c8",
   "metadata": {},
   "source": [
    "# Conversation"
   ]
  },
  {
   "cell_type": "markdown",
   "id": "51a348fb",
   "metadata": {},
   "source": [
    "**User**\n",
    "\n",
    "How do I write a Python function to determine if two circles are touching or overlapping?\n"
   ]
  }
 ],
 "metadata": {},
 "nbformat": 4,
 "nbformat_minor": 5
}
