{
 "cells": [
  {
   "cell_type": "markdown",
   "id": "5d0cc8d1",
   "metadata": {},
   "source": [
    "# Metadata\n",
    "\n",
    "**Python Topics** - python_language_and_scripting > python_2_vs_3\n",
    "\n",
    "**Type** - modification\n",
    "\n",
    "**Target Number of Turns (User + Assistant)** - 2-6\n"
   ]
  },
  {
   "cell_type": "markdown",
   "id": "547b877e",
   "metadata": {},
   "source": [
    "# Conversation"
   ]
  },
  {
   "cell_type": "markdown",
   "id": "6b8ed417",
   "metadata": {},
   "source": [
    "**User**\n",
    "\n",
    "In my Python 2 script, I'm using `basestring` to check if a variable is a string. How can I modify this to be compatible with Python 3? Here's the code: ```python\n",
    "if isinstance(some_var, basestring):\n",
    "    print 'It is a string!'\n",
    "```\n"
   ]
  }
 ],
 "metadata": {},
 "nbformat": 4,
 "nbformat_minor": 5
}
