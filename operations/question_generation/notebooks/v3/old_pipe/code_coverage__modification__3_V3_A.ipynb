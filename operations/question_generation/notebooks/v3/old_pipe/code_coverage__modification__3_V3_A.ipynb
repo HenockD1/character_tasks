{
 "cells": [
  {
   "cell_type": "markdown",
   "id": "d2f87040",
   "metadata": {},
   "source": [
    "# Metadata\n",
    "\n",
    "**Python Topics** - unit_testing_methodology > code_coverage\n",
    "\n",
    "**Type** - modification\n",
    "\n",
    "**Target Number of Turns (User + Assistant)** - 1-5\n"
   ]
  },
  {
   "cell_type": "markdown",
   "id": "462e24e3",
   "metadata": {},
   "source": [
    "# Conversation"
   ]
  },
  {
   "cell_type": "markdown",
   "id": "61642a20",
   "metadata": {},
   "source": [
    "**User**\n",
    "\n",
    "To improve the code coverage of my 'is_prime' function, I need to test both prime and non-prime inputs. Can you help me write a parameterized test using pytest? Here's the function: ```def is_prime(num): if num < 2: return False for i in range(2, num): if num % i == 0: return False return True```\n"
   ]
  }
 ],
 "metadata": {},
 "nbformat": 4,
 "nbformat_minor": 5
}
