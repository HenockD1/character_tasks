{
 "cells": [
  {
   "cell_type": "markdown",
   "id": "6a393b2d",
   "metadata": {},
   "source": [
    "# Metadata\n",
    "\n",
    "**Python Topics** - python_language_and_scripting > decorators\n",
    "\n",
    "**Type** - modification\n",
    "\n",
    "**Target Number of Turns (User + Assistant)** - 1-5\n"
   ]
  },
  {
   "cell_type": "markdown",
   "id": "917795ba",
   "metadata": {},
   "source": [
    "# Conversation"
   ]
  },
  {
   "cell_type": "markdown",
   "id": "fad7f852",
   "metadata": {},
   "source": [
    "**User**\n",
    "\n",
    "I'd like to add a feature to this decorator that allows it to handle keyword-only arguments. Can you help with that? Here's the current decorator:\n",
    "```python\n",
    "def decorator_with_args(func):\n",
    "    def wrapper(*args, **kwargs):\n",
    "        print('Decorator args:', args)\n",
    "        return func(*args, **kwargs)\n",
    "    return wrapper\n",
    "\n",
    "@decorator_with_args\n",
    "def function_with_kwonly(*, kwonly_arg=None):\n",
    "    print('Keyword-only arg:', kwonly_arg)\n",
    "```\n"
   ]
  }
 ],
 "metadata": {},
 "nbformat": 4,
 "nbformat_minor": 5
}
