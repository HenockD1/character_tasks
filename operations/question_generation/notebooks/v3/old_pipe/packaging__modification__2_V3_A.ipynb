{
 "cells": [
  {
   "cell_type": "markdown",
   "id": "ab79eaf6",
   "metadata": {},
   "source": [
    "# Metadata\n",
    "\n",
    "**Python Topics** - python_language_and_scripting > packaging\n",
    "\n",
    "**Type** - modification\n",
    "\n",
    "**Target Number of Turns (User + Assistant)** - 3-7\n"
   ]
  },
  {
   "cell_type": "markdown",
   "id": "c328aa53",
   "metadata": {},
   "source": [
    "# Conversation"
   ]
  },
  {
   "cell_type": "markdown",
   "id": "fd2e62f1",
   "metadata": {},
   "source": [
    "**User**\n",
    "\n",
    "I want to include additional metadata like author name and email in my setup.py. Could you guide me on adding these details? Here's what my setup function looks like right now: setup(name='mypackage', version='0.1')\n"
   ]
  }
 ],
 "metadata": {},
 "nbformat": 4,
 "nbformat_minor": 5
}
