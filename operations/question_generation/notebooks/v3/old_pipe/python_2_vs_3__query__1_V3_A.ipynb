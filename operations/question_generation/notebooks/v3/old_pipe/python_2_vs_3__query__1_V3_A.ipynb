{
 "cells": [
  {
   "cell_type": "markdown",
   "id": "b94d5e7d",
   "metadata": {},
   "source": [
    "# Metadata\n",
    "\n",
    "**Python Topics** - python_language_and_scripting > python_2_vs_3\n",
    "\n",
    "**Type** - query\n",
    "\n",
    "**Target Number of Turns (User + Assistant)** - 2-6\n"
   ]
  },
  {
   "cell_type": "markdown",
   "id": "6271b46c",
   "metadata": {},
   "source": [
    "# Conversation"
   ]
  },
  {
   "cell_type": "markdown",
   "id": "3a44a929",
   "metadata": {},
   "source": [
    "**User**\n",
    "\n",
    "In Python 2, `raw_input()` was used to read input from the user. What is the equivalent in Python 3, and can you show me an example?\n"
   ]
  }
 ],
 "metadata": {},
 "nbformat": 4,
 "nbformat_minor": 5
}
