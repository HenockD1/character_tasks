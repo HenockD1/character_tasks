{
 "cells": [
  {
   "cell_type": "markdown",
   "id": "4939f9bd",
   "metadata": {},
   "source": [
    "# Metadata\n",
    "\n",
    "**Python Topics** - algorithms > by_topic > sampling\n",
    "\n",
    "**Type** - modification\n",
    "\n",
    "**Target Number of Turns (User + Assistant)** - 1-4\n"
   ]
  },
  {
   "cell_type": "markdown",
   "id": "88ac5790",
   "metadata": {},
   "source": [
    "# Conversation"
   ]
  },
  {
   "cell_type": "markdown",
   "id": "435cafd9",
   "metadata": {},
   "source": [
    "**User**\n",
    "\n",
    "Could you assist me in transforming this code to perform importance sampling? Currently, it's just generating uniform random numbers: `import random\n",
    "\n",
    "samples = [random.uniform(0, 1) for _ in range(100)]\n",
    "print(samples)` I need it to sample from a normal distribution instead.\n"
   ]
  }
 ],
 "metadata": {},
 "nbformat": 4,
 "nbformat_minor": 5
}
