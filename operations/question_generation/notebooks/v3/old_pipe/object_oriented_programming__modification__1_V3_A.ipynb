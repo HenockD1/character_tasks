{
 "cells": [
  {
   "cell_type": "markdown",
   "id": "e9c70fb1",
   "metadata": {},
   "source": [
    "# Metadata\n",
    "\n",
    "**Python Topics** - python_language_and_scripting > object_oriented_programming\n",
    "\n",
    "**Type** - modification\n",
    "\n",
    "**Target Number of Turns (User + Assistant)** - 3-7\n"
   ]
  },
  {
   "cell_type": "markdown",
   "id": "f62c1c60",
   "metadata": {},
   "source": [
    "# Conversation"
   ]
  },
  {
   "cell_type": "markdown",
   "id": "033b1f26",
   "metadata": {},
   "source": [
    "**User**\n",
    "\n",
    "I need to add a static method called 'is_open' to my 'Library' class that checks if the current time is within the opening hours (9am to 5pm). Here's my class:\n",
    "```python\n",
    "from datetime import datetime\n",
    "class Library:\n",
    "    @staticmethod\n",
    "    def is_open():\n",
    "        # Your code goes here\n",
    "```\n"
   ]
  }
 ],
 "metadata": {},
 "nbformat": 4,
 "nbformat_minor": 5
}
