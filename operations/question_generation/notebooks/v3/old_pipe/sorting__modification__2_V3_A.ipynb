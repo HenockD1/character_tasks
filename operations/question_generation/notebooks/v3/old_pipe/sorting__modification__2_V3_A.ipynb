{
 "cells": [
  {
   "cell_type": "markdown",
   "id": "6469ed58",
   "metadata": {},
   "source": [
    "# Metadata\n",
    "\n",
    "**Python Topics** - algorithms > by_topic > sorting\n",
    "\n",
    "**Type** - modification\n",
    "\n",
    "**Target Number of Turns (User + Assistant)** - 1-5\n"
   ]
  },
  {
   "cell_type": "markdown",
   "id": "15d331fd",
   "metadata": {},
   "source": [
    "# Conversation"
   ]
  },
  {
   "cell_type": "markdown",
   "id": "dd655110",
   "metadata": {},
   "source": [
    "**User**\n",
    "\n",
    "I have a list of floating-point numbers with some negative values. I want to sort the list in such a way that all the negative numbers come first in ascending order followed by the positive numbers also in ascending order. Here's my list: \n",
    "```python\n",
    "floats = [-4.5, 3.2, -1.3, 2.5, -7.4]\n",
    "```\n",
    "Can you provide the code modification to achieve this?\n"
   ]
  }
 ],
 "metadata": {},
 "nbformat": 4,
 "nbformat_minor": 5
}
