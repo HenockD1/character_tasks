{
 "cells": [
  {
   "cell_type": "markdown",
   "id": "d38bb2f5",
   "metadata": {},
   "source": [
    "# Metadata\n",
    "\n",
    "**Python Topics** - algorithms > by_topic > game_theory\n",
    "\n",
    "**Type** - modification\n",
    "\n",
    "**Target Number of Turns (User + Assistant)** - 3-7\n"
   ]
  },
  {
   "cell_type": "markdown",
   "id": "455b26e6",
   "metadata": {},
   "source": [
    "# Conversation"
   ]
  },
  {
   "cell_type": "markdown",
   "id": "d94ca9cf",
   "metadata": {},
   "source": [
    "**User**\n",
    "\n",
    "I have a Python script for a guessing game where the player tries to guess a number between 1 and 100. Can you modify it to give the player a hint if their guess is within 10 of the correct answer? Here's the current code: ```python\n",
    "def guessing_game(target, guess):\n",
    "    # target is the number to guess, and guess is the player's guess\n",
    "    # Return whether the guess is correct\n",
    "    pass\n",
    "```\n"
   ]
  }
 ],
 "metadata": {},
 "nbformat": 4,
 "nbformat_minor": 5
}
