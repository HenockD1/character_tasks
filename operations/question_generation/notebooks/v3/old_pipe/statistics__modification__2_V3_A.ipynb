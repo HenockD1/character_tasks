{
 "cells": [
  {
   "cell_type": "markdown",
   "id": "88b1be89",
   "metadata": {},
   "source": [
    "# Metadata\n",
    "\n",
    "**Python Topics** - algorithms > by_topic > statistics\n",
    "\n",
    "**Type** - modification\n",
    "\n",
    "**Target Number of Turns (User + Assistant)** - 3-7\n"
   ]
  },
  {
   "cell_type": "markdown",
   "id": "8bf55237",
   "metadata": {},
   "source": [
    "# Conversation"
   ]
  },
  {
   "cell_type": "markdown",
   "id": "27cfc8e1",
   "metadata": {},
   "source": [
    "**User**\n",
    "\n",
    "I need to adjust my percentile function to handle cases where the list is empty or the percentile value is not between 0 and 100. Could you help me refactor this code? Here's the current function: \n",
    "```python\n",
    "def find_percentile(data, percentile):\n",
    "    size = len(data)\n",
    "    return sorted(data)[int(size * percentile / 100)]\n",
    "```\n"
   ]
  }
 ],
 "metadata": {},
 "nbformat": 4,
 "nbformat_minor": 5
}
