{
 "cells": [
  {
   "cell_type": "markdown",
   "id": "2f590a0b",
   "metadata": {},
   "source": [
    "# Metadata\n",
    "\n",
    "**Python Topics** - algorithms > by_topic > probability\n",
    "\n",
    "**Type** - query\n",
    "\n",
    "**Target Number of Turns (User + Assistant)** - 1-4\n"
   ]
  },
  {
   "cell_type": "markdown",
   "id": "460ae752",
   "metadata": {},
   "source": [
    "# Conversation"
   ]
  },
  {
   "cell_type": "markdown",
   "id": "602f2fe0",
   "metadata": {},
   "source": [
    "**User**\n",
    "\n",
    "Can you provide a Python code snippet that calculates the probability of two people in a room of 30 having the same birthday?\n"
   ]
  }
 ],
 "metadata": {},
 "nbformat": 4,
 "nbformat_minor": 5
}
