{
 "cells": [
  {
   "cell_type": "markdown",
   "id": "d03fc2cf",
   "metadata": {},
   "source": [
    "# Metadata\n",
    "\n",
    "**Python Topics** - algorithms > by_topic > probability\n",
    "\n",
    "**Type** - modification\n",
    "\n",
    "**Target Number of Turns (User + Assistant)** - 1-5\n"
   ]
  },
  {
   "cell_type": "markdown",
   "id": "d6614267",
   "metadata": {},
   "source": [
    "# Conversation"
   ]
  },
  {
   "cell_type": "markdown",
   "id": "194057b1",
   "metadata": {},
   "source": [
    "**User**\n",
    "\n",
    "I need to simulate an experiment where I roll two dice and count the number of times the sum is exactly nine. Can you help me write a function that does this over 1000 rolls and returns the probability? Here's a starting point: ```python\n",
    "import random\n",
    "def roll_two_dice():\n",
    "    die1 = random.randint(1, 6)\n",
    "    die2 = random.randint(1, 6)\n",
    "    return die1 + die2\n",
    "```\n"
   ]
  }
 ],
 "metadata": {},
 "nbformat": 4,
 "nbformat_minor": 5
}
