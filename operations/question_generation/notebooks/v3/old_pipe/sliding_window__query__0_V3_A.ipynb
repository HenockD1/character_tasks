{
 "cells": [
  {
   "cell_type": "markdown",
   "id": "4621e948",
   "metadata": {},
   "source": [
    "# Metadata\n",
    "\n",
    "**Python Topics** - algorithms > by_topic > sliding_window\n",
    "\n",
    "**Type** - query\n",
    "\n",
    "**Target Number of Turns (User + Assistant)** - 1-5\n"
   ]
  },
  {
   "cell_type": "markdown",
   "id": "e5efb17b",
   "metadata": {},
   "source": [
    "# Conversation"
   ]
  },
  {
   "cell_type": "markdown",
   "id": "e7fb880f",
   "metadata": {},
   "source": [
    "**User**\n",
    "\n",
    "How can I implement a sliding window algorithm in Python to find the average of all contiguous subarrays of size 'k'?\n"
   ]
  }
 ],
 "metadata": {},
 "nbformat": 4,
 "nbformat_minor": 5
}
