{
 "cells": [
  {
   "cell_type": "markdown",
   "id": "3be4fdd7",
   "metadata": {},
   "source": [
    "# Metadata\n",
    "\n",
    "**Python Topics** - algorithms > by_topic > greedy_algorithms\n",
    "\n",
    "**Type** - modification\n",
    "\n",
    "**Target Number of Turns (User + Assistant)** - 1-5\n"
   ]
  },
  {
   "cell_type": "markdown",
   "id": "ba0abb6a",
   "metadata": {},
   "source": [
    "# Conversation"
   ]
  },
  {
   "cell_type": "markdown",
   "id": "618f2f29",
   "metadata": {},
   "source": [
    "**User**\n",
    "\n",
    "Can you tweak this Python function to implement a greedy algorithm that calculates the maximum profit from a list of jobs with deadlines and profits? The jobs should be sorted by profit. Here's the initial code: ```python def jobScheduling(jobs): # jobs is a list of (deadline, profit) tuples jobs.sort(key=lambda x: x[1], reverse=True) max_profit = 0 # Implement the scheduling and profit calculation return max_profit ```\n"
   ]
  }
 ],
 "metadata": {},
 "nbformat": 4,
 "nbformat_minor": 5
}
