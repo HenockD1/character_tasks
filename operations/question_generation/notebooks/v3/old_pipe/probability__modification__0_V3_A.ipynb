{
 "cells": [
  {
   "cell_type": "markdown",
   "id": "98097bc0",
   "metadata": {},
   "source": [
    "# Metadata\n",
    "\n",
    "**Python Topics** - algorithms > by_topic > probability\n",
    "\n",
    "**Type** - modification\n",
    "\n",
    "**Target Number of Turns (User + Assistant)** - 2-6\n"
   ]
  },
  {
   "cell_type": "markdown",
   "id": "f0472432",
   "metadata": {},
   "source": [
    "# Conversation"
   ]
  },
  {
   "cell_type": "markdown",
   "id": "86cf648f",
   "metadata": {},
   "source": [
    "**User**\n",
    "\n",
    "I've written a function to simulate the flip of a coin, but I'd like to know the empirical probability of getting heads after flipping it 500 times. Could you modify the function to do that? Here's the code: ```python\n",
    "import random\n",
    "def flip_coin():\n",
    "    return 'heads' if random.random() < 0.5 else 'tails'\n",
    "```\n"
   ]
  }
 ],
 "metadata": {},
 "nbformat": 4,
 "nbformat_minor": 5
}
