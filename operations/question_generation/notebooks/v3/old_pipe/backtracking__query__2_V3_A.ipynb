{
 "cells": [
  {
   "cell_type": "markdown",
   "id": "4cf46d1c",
   "metadata": {},
   "source": [
    "# Metadata\n",
    "\n",
    "**Python Topics** - algorithms > by_topic > backtracking\n",
    "\n",
    "**Type** - query\n",
    "\n",
    "**Target Number of Turns (User + Assistant)** - 5-9\n"
   ]
  },
  {
   "cell_type": "markdown",
   "id": "b5acea32",
   "metadata": {},
   "source": [
    "# Conversation"
   ]
  },
  {
   "cell_type": "markdown",
   "id": "d0edbc1a",
   "metadata": {},
   "source": [
    "**User**\n",
    "\n",
    "Could you provide a Python example using backtracking to solve the problem of placing k knights on an n�n chessboard so that no two knights attack each other?\n"
   ]
  }
 ],
 "metadata": {},
 "nbformat": 4,
 "nbformat_minor": 5
}
