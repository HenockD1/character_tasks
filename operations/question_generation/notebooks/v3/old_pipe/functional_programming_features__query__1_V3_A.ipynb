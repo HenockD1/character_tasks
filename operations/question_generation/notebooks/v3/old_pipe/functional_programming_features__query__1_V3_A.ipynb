{
 "cells": [
  {
   "cell_type": "markdown",
   "id": "a47ecded",
   "metadata": {},
   "source": [
    "# Metadata\n",
    "\n",
    "**Python Topics** - python_language_and_scripting > functional_programming_features\n",
    "\n",
    "**Type** - query\n",
    "\n",
    "**Target Number of Turns (User + Assistant)** - 5-9\n"
   ]
  },
  {
   "cell_type": "markdown",
   "id": "17270538",
   "metadata": {},
   "source": [
    "# Conversation"
   ]
  },
  {
   "cell_type": "markdown",
   "id": "32b8c9ea",
   "metadata": {},
   "source": [
    "**User**\n",
    "\n",
    "Could you provide a code snippet using a lambda function to extract the year from a list of date strings in the format 'YYYY-MM-DD'?\n"
   ]
  }
 ],
 "metadata": {},
 "nbformat": 4,
 "nbformat_minor": 5
}
