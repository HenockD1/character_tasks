{
 "cells": [
  {
   "cell_type": "markdown",
   "id": "220b6726",
   "metadata": {},
   "source": [
    "# Metadata\n",
    "\n",
    "**Python Topics** - python_language_and_scripting > modules_and_packages\n",
    "\n",
    "**Type** - modification\n",
    "\n",
    "**Target Number of Turns (User + Assistant)** - 1-4\n"
   ]
  },
  {
   "cell_type": "markdown",
   "id": "61ce34ad",
   "metadata": {},
   "source": [
    "# Conversation"
   ]
  },
  {
   "cell_type": "markdown",
   "id": "d88e3cec",
   "metadata": {},
   "source": [
    "**User**\n",
    "\n",
    "In my script, I have 'import os.path' to work with file paths. I'd like to import only the 'join' function from os.path. How should I change the import statement?\n"
   ]
  }
 ],
 "metadata": {},
 "nbformat": 4,
 "nbformat_minor": 5
}
