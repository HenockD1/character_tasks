{
 "cells": [
  {
   "cell_type": "markdown",
   "id": "09dec7a0",
   "metadata": {},
   "source": [
    "# Metadata\n",
    "\n",
    "**Python Topics** - python_language_and_scripting > metaclasses_and_class_factories\n",
    "\n",
    "**Type** - modification\n",
    "\n",
    "**Target Number of Turns (User + Assistant)** - 6-10\n"
   ]
  },
  {
   "cell_type": "markdown",
   "id": "ba1b6146",
   "metadata": {},
   "source": [
    "# Conversation"
   ]
  },
  {
   "cell_type": "markdown",
   "id": "550aa6fe",
   "metadata": {},
   "source": [
    "**User**\n",
    "\n",
    "Please help me adjust this metaclass so that it automatically adds an '__init__' method to classes which logs 'Initialized instance of {class_name}'.\n",
    "```python\n",
    "class LoggingMeta(type):\n",
    "    def __new__(cls, name, bases, dct):\n",
    "        return super().__new__(cls, name, bases, dct)\n",
    "```\n"
   ]
  }
 ],
 "metadata": {},
 "nbformat": 4,
 "nbformat_minor": 5
}
