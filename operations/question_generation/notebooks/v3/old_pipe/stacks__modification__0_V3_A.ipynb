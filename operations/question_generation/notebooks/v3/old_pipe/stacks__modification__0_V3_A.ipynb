{
 "cells": [
  {
   "cell_type": "markdown",
   "id": "98928828",
   "metadata": {},
   "source": [
    "# Metadata\n",
    "\n",
    "**Python Topics** - algorithms > by_data_structure > stacks\n",
    "\n",
    "**Type** - modification\n",
    "\n",
    "**Target Number of Turns (User + Assistant)** - 1-4\n"
   ]
  },
  {
   "cell_type": "markdown",
   "id": "d3c1846c",
   "metadata": {},
   "source": [
    "# Conversation"
   ]
  },
  {
   "cell_type": "markdown",
   "id": "fefb8431",
   "metadata": {},
   "source": [
    "**User**\n",
    "\n",
    "Could you help me modify this stack class to include a peek method that allows me to see the top element without removing it? Here's the current code:\n",
    "```python\n",
    "class Stack:\n",
    "    def __init__(self):\n",
    "        self._items = []\n",
    "\n",
    "    def push(self, item):\n",
    "        self._items.append(item)\n",
    "\n",
    "    def pop(self):\n",
    "        if not self.is_empty():\n",
    "            return self._items.pop()\n",
    "        else:\n",
    "            raise IndexError('pop from an empty stack')\n",
    "\n",
    "    def is_empty(self):\n",
    "        return len(self._items) == 0\n",
    "```\n",
    "\n"
   ]
  }
 ],
 "metadata": {},
 "nbformat": 4,
 "nbformat_minor": 5
}
