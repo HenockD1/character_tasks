{
 "cells": [
  {
   "cell_type": "markdown",
   "id": "c60d9554",
   "metadata": {},
   "source": [
    "# Metadata\n",
    "\n",
    "**Python Topics** - unit_testing_methodology > testing_asynchronous_code\n",
    "\n",
    "**Type** - modification\n",
    "\n",
    "**Target Number of Turns (User + Assistant)** - 6-10\n"
   ]
  },
  {
   "cell_type": "markdown",
   "id": "128cef4d",
   "metadata": {},
   "source": [
    "# Conversation"
   ]
  },
  {
   "cell_type": "markdown",
   "id": "7ae68849",
   "metadata": {},
   "source": [
    "**User**\n",
    "\n",
    "I want to ensure my async function correctly handles cancellation. Can you show me how to write a test that cancels the function and checks if it was cancelled properly? Here's the function: ```async def long_running_task(): # performs a long-running operation```\n"
   ]
  }
 ],
 "metadata": {},
 "nbformat": 4,
 "nbformat_minor": 5
}
