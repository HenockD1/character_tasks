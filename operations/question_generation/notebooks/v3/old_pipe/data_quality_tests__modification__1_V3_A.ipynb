{
 "cells": [
  {
   "cell_type": "markdown",
   "id": "5336491d",
   "metadata": {},
   "source": [
    "# Metadata\n",
    "\n",
    "**Python Topics** - unit_testing_methodology > data_quality_tests\n",
    "\n",
    "**Type** - modification\n",
    "\n",
    "**Target Number of Turns (User + Assistant)** - 2-6\n"
   ]
  },
  {
   "cell_type": "markdown",
   "id": "5cc27502",
   "metadata": {},
   "source": [
    "# Conversation"
   ]
  },
  {
   "cell_type": "markdown",
   "id": "d8694a1d",
   "metadata": {},
   "source": [
    "**User**\n",
    "\n",
    "I have a function that's supposed to return the square root of a number. Can you provide a unit test that checks if the function returns an error for negative input values?\n"
   ]
  }
 ],
 "metadata": {},
 "nbformat": 4,
 "nbformat_minor": 5
}
