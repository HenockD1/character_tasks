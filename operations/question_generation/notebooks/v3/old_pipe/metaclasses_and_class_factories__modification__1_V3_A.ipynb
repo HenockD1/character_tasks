{
 "cells": [
  {
   "cell_type": "markdown",
   "id": "c2ad7e94",
   "metadata": {},
   "source": [
    "# Metadata\n",
    "\n",
    "**Python Topics** - python_language_and_scripting > metaclasses_and_class_factories\n",
    "\n",
    "**Type** - modification\n",
    "\n",
    "**Target Number of Turns (User + Assistant)** - 5-9\n"
   ]
  },
  {
   "cell_type": "markdown",
   "id": "2b8c67bc",
   "metadata": {},
   "source": [
    "# Conversation"
   ]
  },
  {
   "cell_type": "markdown",
   "id": "8adb7202",
   "metadata": {},
   "source": [
    "**User**\n",
    "\n",
    "I'd like to add a class method to the classes created by this factory that prints 'Hello from {class_name}'. Could you update the function for me?\n",
    "```python\n",
    "def class_factory(name):\n",
    "    return type(name, (object,), {})\n",
    "```\n"
   ]
  }
 ],
 "metadata": {},
 "nbformat": 4,
 "nbformat_minor": 5
}
