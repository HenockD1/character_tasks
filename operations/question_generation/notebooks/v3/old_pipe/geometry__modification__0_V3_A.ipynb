{
 "cells": [
  {
   "cell_type": "markdown",
   "id": "0298b65f",
   "metadata": {},
   "source": [
    "# Metadata\n",
    "\n",
    "**Python Topics** - algorithms > by_topic > geometry\n",
    "\n",
    "**Type** - modification\n",
    "\n",
    "**Target Number of Turns (User + Assistant)** - 3-7\n"
   ]
  },
  {
   "cell_type": "markdown",
   "id": "8ad3b9a1",
   "metadata": {},
   "source": [
    "# Conversation"
   ]
  },
  {
   "cell_type": "markdown",
   "id": "e7bea569",
   "metadata": {},
   "source": [
    "**User**\n",
    "\n",
    "I've written a function to calculate the slope of a line given two points, but I need to adjust it to handle the case where the line is vertical. Could you add this exception handling? Here's the current code:\n",
    "```python\n",
    "def calculate_slope(x1, y1, x2, y2):\n",
    "    return (y2 - y1) / (x2 - x1)\n",
    "```\n"
   ]
  }
 ],
 "metadata": {},
 "nbformat": 4,
 "nbformat_minor": 5
}
