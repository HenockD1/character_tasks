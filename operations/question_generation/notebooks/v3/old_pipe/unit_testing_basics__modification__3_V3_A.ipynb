{
 "cells": [
  {
   "cell_type": "markdown",
   "id": "178bc2a4",
   "metadata": {},
   "source": [
    "# Metadata\n",
    "\n",
    "**Python Topics** - unit_testing_methodology > unit_testing_basics\n",
    "\n",
    "**Type** - modification\n",
    "\n",
    "**Target Number of Turns (User + Assistant)** - 2-6\n"
   ]
  },
  {
   "cell_type": "markdown",
   "id": "cd80538d",
   "metadata": {},
   "source": [
    "# Conversation"
   ]
  },
  {
   "cell_type": "markdown",
   "id": "73396087",
   "metadata": {},
   "source": [
    "**User**\n",
    "\n",
    "I want to confirm that my 'greet' function returns 'Hello, John!' when passed 'John' as an argument. Can you write a unit test for this using unittest? Here's the function: ```def greet(name): return f'Hello, {name}!'```\n"
   ]
  }
 ],
 "metadata": {},
 "nbformat": 4,
 "nbformat_minor": 5
}
