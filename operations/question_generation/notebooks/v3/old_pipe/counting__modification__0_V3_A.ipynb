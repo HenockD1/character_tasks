{
 "cells": [
  {
   "cell_type": "markdown",
   "id": "15580ab2",
   "metadata": {},
   "source": [
    "# Metadata\n",
    "\n",
    "**Python Topics** - algorithms > by_topic > counting\n",
    "\n",
    "**Type** - modification\n",
    "\n",
    "**Target Number of Turns (User + Assistant)** - 2-6\n"
   ]
  },
  {
   "cell_type": "markdown",
   "id": "4ee90ed4",
   "metadata": {},
   "source": [
    "# Conversation"
   ]
  },
  {
   "cell_type": "markdown",
   "id": "c67a8cb2",
   "metadata": {},
   "source": [
    "**User**\n",
    "\n",
    "I'm working with a list of tuples where each tuple contains a name and a score. Could you help me write a function that counts how many times each name appears? Here's my starting point: `results = [('Alice', 10), ('Bob', 15), ('Alice', 20)]; name_count = {}`.\n"
   ]
  }
 ],
 "metadata": {},
 "nbformat": 4,
 "nbformat_minor": 5
}
