{
 "cells": [
  {
   "cell_type": "markdown",
   "id": "f1ec7fe3",
   "metadata": {},
   "source": [
    "# Metadata\n",
    "\n",
    "**Python Topics** - python_language_and_scripting > logging\n",
    "\n",
    "**Type** - modification\n",
    "\n",
    "**Target Number of Turns (User + Assistant)** - 1-5\n"
   ]
  },
  {
   "cell_type": "markdown",
   "id": "98d479b6",
   "metadata": {},
   "source": [
    "# Conversation"
   ]
  },
  {
   "cell_type": "markdown",
   "id": "3854f58f",
   "metadata": {},
   "source": [
    "**User**\n",
    "\n",
    "I want to rotate my log files when they reach a certain size. Can you update my logging setup to use a `RotatingFileHandler`? Here's what I have: `logger = logging.getLogger('my_app')`.\n"
   ]
  }
 ],
 "metadata": {},
 "nbformat": 4,
 "nbformat_minor": 5
}
