{
 "cells": [
  {
   "cell_type": "markdown",
   "id": "bb61cfef",
   "metadata": {},
   "source": [
    "# Metadata\n",
    "\n",
    "**Python Topics** - python_language_and_scripting > cython_and_PyPy\n",
    "\n",
    "**Type** - modification\n",
    "\n",
    "**Target Number of Turns (User + Assistant)** - 4-8\n"
   ]
  },
  {
   "cell_type": "markdown",
   "id": "2ed2b69a",
   "metadata": {},
   "source": [
    "# Conversation"
   ]
  },
  {
   "cell_type": "markdown",
   "id": "3982d3ee",
   "metadata": {},
   "source": [
    "**User**\n",
    "\n",
    "I'm working with a list of numbers in Python and I need to perform some heavy calculations. I've heard Cython can help with performance. Can you help me convert this piece of code to use Cython?\n",
    "```python\n",
    "def calculate_statistics(numbers):\n",
    "    mean = sum(numbers) / len(numbers)\n",
    "    variance = sum((x - mean) ** 2 for x in numbers) / len(numbers)\n",
    "    return mean, variance\n",
    "```\n"
   ]
  }
 ],
 "metadata": {},
 "nbformat": 4,
 "nbformat_minor": 5
}
