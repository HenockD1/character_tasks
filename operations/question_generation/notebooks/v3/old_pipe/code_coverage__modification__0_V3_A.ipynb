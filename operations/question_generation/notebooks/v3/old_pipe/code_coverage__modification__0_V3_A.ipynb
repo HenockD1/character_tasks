{
 "cells": [
  {
   "cell_type": "markdown",
   "id": "60d3d545",
   "metadata": {},
   "source": [
    "# Metadata\n",
    "\n",
    "**Python Topics** - unit_testing_methodology > code_coverage\n",
    "\n",
    "**Type** - modification\n",
    "\n",
    "**Target Number of Turns (User + Assistant)** - 3-7\n"
   ]
  },
  {
   "cell_type": "markdown",
   "id": "410d35be",
   "metadata": {},
   "source": [
    "# Conversation"
   ]
  },
  {
   "cell_type": "markdown",
   "id": "077896ee",
   "metadata": {},
   "source": [
    "**User**\n",
    "\n",
    "I've written a test for my 'calculate_discount' function, but I'm not sure if it's comprehensive. Can you add a test case to check if the function correctly handles negative inputs? Here's my current test: ```def test_calculate_discount(): assert calculate_discount(100, 20) == 80```\n"
   ]
  }
 ],
 "metadata": {},
 "nbformat": 4,
 "nbformat_minor": 5
}
