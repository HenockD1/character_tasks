{
 "cells": [
  {
   "cell_type": "markdown",
   "id": "077ebe49",
   "metadata": {},
   "source": [
    "# Metadata\n",
    "\n",
    "**Python Topics** - python_language_and_scripting > generators_and_iterators\n",
    "\n",
    "**Type** - modification\n",
    "\n",
    "**Target Number of Turns (User + Assistant)** - 1-4\n"
   ]
  },
  {
   "cell_type": "markdown",
   "id": "350402d3",
   "metadata": {},
   "source": [
    "# Conversation"
   ]
  },
  {
   "cell_type": "markdown",
   "id": "faa52dee",
   "metadata": {},
   "source": [
    "**User**\n",
    "\n",
    "Could you help me convert this recursive function into a generator that yields the elements of the Pascal's triangle row by row up to a given row number? Here's the recursive function: ```def pascal_triangle(n): if n == 1: return [1] else: row = [1] previous_row = pascal_triangle(n-1) for i in range(len(previous_row)-1): row.append(previous_row[i] + previous_row[i+1]) row += [1] return row```\n"
   ]
  }
 ],
 "metadata": {},
 "nbformat": 4,
 "nbformat_minor": 5
}
