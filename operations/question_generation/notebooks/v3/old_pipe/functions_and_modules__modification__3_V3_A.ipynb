{
 "cells": [
  {
   "cell_type": "markdown",
   "id": "1bd9191f",
   "metadata": {},
   "source": [
    "# Metadata\n",
    "\n",
    "**Python Topics** - python_language_and_scripting > functions_and_modules\n",
    "\n",
    "**Type** - modification\n",
    "\n",
    "**Target Number of Turns (User + Assistant)** - 1-4\n"
   ]
  },
  {
   "cell_type": "markdown",
   "id": "2781fdd9",
   "metadata": {},
   "source": [
    "# Conversation"
   ]
  },
  {
   "cell_type": "markdown",
   "id": "f55ae3bf",
   "metadata": {},
   "source": [
    "**User**\n",
    "\n",
    "I have a function that returns a list of even numbers given a range. Can you modify it to use a generator instead? Here's the current function: `def get_evens(start, end): return [x for x in range(start, end) if x % 2 == 0]`.\n"
   ]
  }
 ],
 "metadata": {},
 "nbformat": 4,
 "nbformat_minor": 5
}
