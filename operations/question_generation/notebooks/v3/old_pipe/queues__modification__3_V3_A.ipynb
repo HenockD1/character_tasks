{
 "cells": [
  {
   "cell_type": "markdown",
   "id": "73bf71e1",
   "metadata": {},
   "source": [
    "# Metadata\n",
    "\n",
    "**Python Topics** - algorithms > by_data_structure > queues\n",
    "\n",
    "**Type** - modification\n",
    "\n",
    "**Target Number of Turns (User + Assistant)** - 1-5\n"
   ]
  },
  {
   "cell_type": "markdown",
   "id": "a2b5119c",
   "metadata": {},
   "source": [
    "# Conversation"
   ]
  },
  {
   "cell_type": "markdown",
   "id": "61cf8167",
   "metadata": {},
   "source": [
    "**User**\n",
    "\n",
    "Could you show me how to modify my queue implementation so that it becomes a double-ended queue with enqueue and dequeue operations at both ends? Here's what I have so far: ```class Queue: def __init__(self): self._queue = collections.deque() def enqueue_rear(self, item): self._queue.append(item) def dequeue_front(self): return self._queue.popleft() if self._queue else None```\n"
   ]
  }
 ],
 "metadata": {},
 "nbformat": 4,
 "nbformat_minor": 5
}
