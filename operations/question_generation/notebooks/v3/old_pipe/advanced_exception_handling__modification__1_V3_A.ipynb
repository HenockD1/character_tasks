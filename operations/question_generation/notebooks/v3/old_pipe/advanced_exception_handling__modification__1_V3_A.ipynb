{
 "cells": [
  {
   "cell_type": "markdown",
   "id": "63f12b2b",
   "metadata": {},
   "source": [
    "# Metadata\n",
    "\n",
    "**Python Topics** - python_language_and_scripting > advanced_exception_handling\n",
    "\n",
    "**Type** - modification\n",
    "\n",
    "**Target Number of Turns (User + Assistant)** - 1-5\n"
   ]
  },
  {
   "cell_type": "markdown",
   "id": "331e755c",
   "metadata": {},
   "source": [
    "# Conversation"
   ]
  },
  {
   "cell_type": "markdown",
   "id": "a8b69450",
   "metadata": {},
   "source": [
    "**User**\n",
    "\n",
    "I need to ensure that my custom exception includes both a message and an error code. Can you modify the `CustomError` class to accept an error code as well, and update the raise statement accordingly? Here's the code:\n",
    "```python\n",
    "class CustomError(Exception):\n",
    "    def __init__(self, message):\n",
    "        super().__init__(message)\n",
    "\n",
    "def process(value):\n",
    "    if value < 0:\n",
    "        raise CustomError('Negative value not allowed.')\n",
    "    # Process the positive value\n",
    "```\n"
   ]
  }
 ],
 "metadata": {},
 "nbformat": 4,
 "nbformat_minor": 5
}
