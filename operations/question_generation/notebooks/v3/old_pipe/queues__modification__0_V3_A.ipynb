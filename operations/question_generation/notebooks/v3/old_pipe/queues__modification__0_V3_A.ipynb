{
 "cells": [
  {
   "cell_type": "markdown",
   "id": "3ea4718f",
   "metadata": {},
   "source": [
    "# Metadata\n",
    "\n",
    "**Python Topics** - algorithms > by_data_structure > queues\n",
    "\n",
    "**Type** - modification\n",
    "\n",
    "**Target Number of Turns (User + Assistant)** - 1-5\n"
   ]
  },
  {
   "cell_type": "markdown",
   "id": "126f7cc6",
   "metadata": {},
   "source": [
    "# Conversation"
   ]
  },
  {
   "cell_type": "markdown",
   "id": "6e5d59c3",
   "metadata": {},
   "source": [
    "**User**\n",
    "\n",
    "Can you help me add a method to my Queue class that returns whether the queue is full or not? Here's my current implementation: ```class Queue: def __init__(self, limit): self.queue = [] self.limit = limit def is_full(self): # Need implementation def enqueue(self, item): if not self.is_full(): self.queue.append(item) def dequeue(self): if self.queue: return self.queue.pop(0)```\n"
   ]
  }
 ],
 "metadata": {},
 "nbformat": 4,
 "nbformat_minor": 5
}
