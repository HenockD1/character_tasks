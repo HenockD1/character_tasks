{
 "cells": [
  {
   "cell_type": "markdown",
   "id": "637d04d2",
   "metadata": {},
   "source": [
    "# Metadata\n",
    "\n",
    "**Python Topics** - algorithms > by_topic > sorting\n",
    "\n",
    "**Type** - modification\n",
    "\n",
    "**Target Number of Turns (User + Assistant)** - 5-9\n"
   ]
  },
  {
   "cell_type": "markdown",
   "id": "2b709694",
   "metadata": {},
   "source": [
    "# Conversation"
   ]
  },
  {
   "cell_type": "markdown",
   "id": "dcd85aad",
   "metadata": {},
   "source": [
    "**User**\n",
    "\n",
    "I'm working with a list of dictionaries and I need to sort them by a specific key value. Here's an example list: \n",
    "```python\n",
    "people = [{'name': 'John', 'age': 45}, {'name': 'Diana', 'age': 32}, {'name': 'Zack', 'age': 20}]\n",
    "```\n",
    "Could you show me how to sort this list by the 'age' key in ascending order?\n"
   ]
  }
 ],
 "metadata": {},
 "nbformat": 4,
 "nbformat_minor": 5
}
