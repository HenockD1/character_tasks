{
 "cells": [
  {
   "cell_type": "markdown",
   "id": "2ef25863",
   "metadata": {},
   "source": [
    "# Metadata\n",
    "\n",
    "**Python Topics** - algorithms > by_topic > backtracking\n",
    "\n",
    "**Type** - modification\n",
    "\n",
    "**Target Number of Turns (User + Assistant)** - 1-4\n"
   ]
  },
  {
   "cell_type": "markdown",
   "id": "728e6077",
   "metadata": {},
   "source": [
    "# Conversation"
   ]
  },
  {
   "cell_type": "markdown",
   "id": "5e79e988",
   "metadata": {},
   "source": [
    "**User**\n",
    "\n",
    "I need to enhance my backtracking algorithm that finds all palindromic permutations of a string. Can you help me add a check to ensure that the characters can form a palindrome before generating permutations? Here's my initial code: ```python\n",
    "def palindromic_permutations(s):\n",
    "    # Your code here\n",
    "```\n"
   ]
  }
 ],
 "metadata": {},
 "nbformat": 4,
 "nbformat_minor": 5
}
