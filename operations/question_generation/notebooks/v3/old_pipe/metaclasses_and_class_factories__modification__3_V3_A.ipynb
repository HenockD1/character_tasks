{
 "cells": [
  {
   "cell_type": "markdown",
   "id": "03dc2e6a",
   "metadata": {},
   "source": [
    "# Metadata\n",
    "\n",
    "**Python Topics** - python_language_and_scripting > metaclasses_and_class_factories\n",
    "\n",
    "**Type** - modification\n",
    "\n",
    "**Target Number of Turns (User + Assistant)** - 3-7\n"
   ]
  },
  {
   "cell_type": "markdown",
   "id": "6c959ec9",
   "metadata": {},
   "source": [
    "# Conversation"
   ]
  },
  {
   "cell_type": "markdown",
   "id": "efc223bd",
   "metadata": {},
   "source": [
    "**User**\n",
    "\n",
    "I need to modify this class factory to include a static method 'info' that returns the string 'This is a class created by the factory'. Can you do that?\n",
    "```python\n",
    "def class_factory(name):\n",
    "    return type(name, (object,), {'category': 'default'})\n",
    "```\n"
   ]
  }
 ],
 "metadata": {},
 "nbformat": 4,
 "nbformat_minor": 5
}
