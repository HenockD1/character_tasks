{
 "cells": [
  {
   "cell_type": "markdown",
   "id": "4ce4e994",
   "metadata": {},
   "source": [
    "# Metadata\n",
    "\n",
    "**Python Topics** - algorithms > by_topic > famous_algorithms\n",
    "\n",
    "**Type** - modification\n",
    "\n",
    "**Target Number of Turns (User + Assistant)** - 2-6\n"
   ]
  },
  {
   "cell_type": "markdown",
   "id": "4ace4bac",
   "metadata": {},
   "source": [
    "# Conversation"
   ]
  },
  {
   "cell_type": "markdown",
   "id": "08adac37",
   "metadata": {},
   "source": [
    "**User**\n",
    "\n",
    "I have a selection sort function that sorts an array of integers. I'd like to modify it to sort only the even numbers and leave the odd numbers in their original positions. Here's the current code: `def selection_sort(arr): for i in range(len(arr)): min_idx = i for j in range(i+1, len(arr)): if arr[min_idx] > arr[j]: min_idx = j arr[i], arr[min_idx] = arr[min_idx], arr[i] return arr` Can you help me with the modification?\n"
   ]
  }
 ],
 "metadata": {},
 "nbformat": 4,
 "nbformat_minor": 5
}
