{
 "cells": [
  {
   "cell_type": "markdown",
   "id": "83c7f528",
   "metadata": {},
   "source": [
    "# Metadata\n",
    "\n",
    "**Python Topics** - algorithms > by_topic > dynamic_programming\n",
    "\n",
    "**Type** - query\n",
    "\n",
    "**Target Number of Turns (User + Assistant)** - 1-4\n"
   ]
  },
  {
   "cell_type": "markdown",
   "id": "bb5a0cd9",
   "metadata": {},
   "source": [
    "# Conversation"
   ]
  },
  {
   "cell_type": "markdown",
   "id": "2d8d5785",
   "metadata": {},
   "source": [
    "**User**\n",
    "\n",
    "How would you implement a dynamic programming solution in Python to find the maximum sum of non-adjacent elements in an array?\n"
   ]
  }
 ],
 "metadata": {},
 "nbformat": 4,
 "nbformat_minor": 5
}
