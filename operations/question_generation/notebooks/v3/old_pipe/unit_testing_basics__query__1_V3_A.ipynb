{
 "cells": [
  {
   "cell_type": "markdown",
   "id": "9a7ff79c",
   "metadata": {},
   "source": [
    "# Metadata\n",
    "\n",
    "**Python Topics** - unit_testing_methodology > unit_testing_basics\n",
    "\n",
    "**Type** - query\n",
    "\n",
    "**Target Number of Turns (User + Assistant)** - 1-4\n"
   ]
  },
  {
   "cell_type": "markdown",
   "id": "c4717a72",
   "metadata": {},
   "source": [
    "# Conversation"
   ]
  },
  {
   "cell_type": "markdown",
   "id": "76c1be28",
   "metadata": {},
   "source": [
    "**User**\n",
    "\n",
    "Can you show me how to write a unit test that confirms a 'divide' function returns a float when dividing two integers?\n"
   ]
  }
 ],
 "metadata": {},
 "nbformat": 4,
 "nbformat_minor": 5
}
