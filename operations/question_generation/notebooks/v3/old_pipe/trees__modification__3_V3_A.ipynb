{
 "cells": [
  {
   "cell_type": "markdown",
   "id": "47a0c627",
   "metadata": {},
   "source": [
    "# Metadata\n",
    "\n",
    "**Python Topics** - algorithms > by_data_structure > trees\n",
    "\n",
    "**Type** - modification\n",
    "\n",
    "**Target Number of Turns (User + Assistant)** - 4-8\n"
   ]
  },
  {
   "cell_type": "markdown",
   "id": "c6ef8938",
   "metadata": {},
   "source": [
    "# Conversation"
   ]
  },
  {
   "cell_type": "markdown",
   "id": "6c328daa",
   "metadata": {},
   "source": [
    "**User**\n",
    "\n",
    "Can you help me modify my Python code to print the level order traversal of a binary tree in reverse? Here's what I have for the regular level order: ```def level_order_traversal(root): queue = [root] while queue: node = queue.pop(0) print(node.value) if node.left: queue.append(node.left) if node.right: queue.append(node.right)```\n"
   ]
  }
 ],
 "metadata": {},
 "nbformat": 4,
 "nbformat_minor": 5
}
