{
 "cells": [
  {
   "cell_type": "markdown",
   "id": "e7439cfc",
   "metadata": {},
   "source": [
    "# Metadata\n",
    "\n",
    "**Python Topics** - algorithms > by_topic > statistics\n",
    "\n",
    "**Type** - modification\n",
    "\n",
    "**Target Number of Turns (User + Assistant)** - 1-5\n"
   ]
  },
  {
   "cell_type": "markdown",
   "id": "418dede0",
   "metadata": {},
   "source": [
    "# Conversation"
   ]
  },
  {
   "cell_type": "markdown",
   "id": "f4dbc235",
   "metadata": {},
   "source": [
    "**User**\n",
    "\n",
    "I'm attempting to write a function that computes the geometric mean of a set of numbers, but I'm stuck. Can you help me complete it? Here's what I have so far: \n",
    "```python\n",
    "def geometric_mean(numbers):\n",
    "    # Need to implement\n",
    "    pass\n",
    "```\n"
   ]
  }
 ],
 "metadata": {},
 "nbformat": 4,
 "nbformat_minor": 5
}
