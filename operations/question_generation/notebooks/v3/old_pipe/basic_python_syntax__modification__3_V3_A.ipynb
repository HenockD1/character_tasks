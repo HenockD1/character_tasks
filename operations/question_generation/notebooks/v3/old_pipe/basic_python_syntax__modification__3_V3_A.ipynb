{
 "cells": [
  {
   "cell_type": "markdown",
   "id": "1475c9c1",
   "metadata": {},
   "source": [
    "# Metadata\n",
    "\n",
    "**Python Topics** - python_language_and_scripting > basic_python_syntax\n",
    "\n",
    "**Type** - modification\n",
    "\n",
    "**Target Number of Turns (User + Assistant)** - 1-5\n"
   ]
  },
  {
   "cell_type": "markdown",
   "id": "bbb1b62a",
   "metadata": {},
   "source": [
    "# Conversation"
   ]
  },
  {
   "cell_type": "markdown",
   "id": "1f07df46",
   "metadata": {},
   "source": [
    "**User**\n",
    "\n",
    "I'm trying to create a dictionary from two lists, one with keys and the other with values, but I'm not sure how. Can you help me with this? Here's what I have: keys = ['id', 'name', 'age']; values = [1, 'Alice', 30]\n"
   ]
  }
 ],
 "metadata": {},
 "nbformat": 4,
 "nbformat_minor": 5
}
