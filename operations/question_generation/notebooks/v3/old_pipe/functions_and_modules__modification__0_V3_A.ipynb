{
 "cells": [
  {
   "cell_type": "markdown",
   "id": "b803a994",
   "metadata": {},
   "source": [
    "# Metadata\n",
    "\n",
    "**Python Topics** - python_language_and_scripting > functions_and_modules\n",
    "\n",
    "**Type** - modification\n",
    "\n",
    "**Target Number of Turns (User + Assistant)** - 1-4\n"
   ]
  },
  {
   "cell_type": "markdown",
   "id": "ee3b1ed4",
   "metadata": {},
   "source": [
    "# Conversation"
   ]
  },
  {
   "cell_type": "markdown",
   "id": "4adbfddf",
   "metadata": {},
   "source": [
    "**User**\n",
    "\n",
    "I need to modify this function to return None if the input is not a number. Can you help? Here's the function: `def to_uppercase(input_string): return input_string.upper()`.\n"
   ]
  }
 ],
 "metadata": {},
 "nbformat": 4,
 "nbformat_minor": 5
}
