{
 "cells": [
  {
   "cell_type": "markdown",
   "id": "bf297805",
   "metadata": {},
   "source": [
    "# Metadata\n",
    "\n",
    "**Python Topics** - algorithms > by_topic > recursion\n",
    "\n",
    "**Type** - query\n",
    "\n",
    "**Target Number of Turns (User + Assistant)** - 1-4\n"
   ]
  },
  {
   "cell_type": "markdown",
   "id": "732d8d57",
   "metadata": {},
   "source": [
    "# Conversation"
   ]
  },
  {
   "cell_type": "markdown",
   "id": "710ca885",
   "metadata": {},
   "source": [
    "**User**\n",
    "\n",
    "How can I use recursion to count the number of occurrences of a specific character in a string?\n"
   ]
  }
 ],
 "metadata": {},
 "nbformat": 4,
 "nbformat_minor": 5
}
