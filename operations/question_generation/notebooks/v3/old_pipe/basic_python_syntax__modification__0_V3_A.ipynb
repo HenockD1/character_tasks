{
 "cells": [
  {
   "cell_type": "markdown",
   "id": "489e54b8",
   "metadata": {},
   "source": [
    "# Metadata\n",
    "\n",
    "**Python Topics** - python_language_and_scripting > basic_python_syntax\n",
    "\n",
    "**Type** - modification\n",
    "\n",
    "**Target Number of Turns (User + Assistant)** - 2-6\n"
   ]
  },
  {
   "cell_type": "markdown",
   "id": "8a6befc9",
   "metadata": {},
   "source": [
    "# Conversation"
   ]
  },
  {
   "cell_type": "markdown",
   "id": "6b278b7d",
   "metadata": {},
   "source": [
    "**User**\n",
    "\n",
    "I'm attempting to concatenate strings and variables in my print statement, but it looks messy. Can you tidy it up? Here's my code: day = 'Monday'; temperature = 20; print('Today is ' + day + ' and the temperature is ' + str(temperature) + ' degrees Celsius.')\n"
   ]
  }
 ],
 "metadata": {},
 "nbformat": 4,
 "nbformat_minor": 5
}
