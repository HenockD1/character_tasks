{
 "cells": [
  {
   "cell_type": "markdown",
   "id": "d3ace6d7",
   "metadata": {},
   "source": [
    "# Metadata\n",
    "\n",
    "**Python Topics** - algorithms > by_data_structure > arrays\n",
    "\n",
    "**Type** - query\n",
    "\n",
    "**Target Number of Turns (User + Assistant)** - 1-4\n"
   ]
  },
  {
   "cell_type": "markdown",
   "id": "41c270e3",
   "metadata": {},
   "source": [
    "# Conversation"
   ]
  },
  {
   "cell_type": "markdown",
   "id": "53f6feec",
   "metadata": {},
   "source": [
    "**User**\n",
    "\n",
    "What's the most efficient way to count the occurrences of each element in an array using Python?\n"
   ]
  }
 ],
 "metadata": {},
 "nbformat": 4,
 "nbformat_minor": 5
}
