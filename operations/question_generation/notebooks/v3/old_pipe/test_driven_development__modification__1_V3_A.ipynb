{
 "cells": [
  {
   "cell_type": "markdown",
   "id": "6ee559da",
   "metadata": {},
   "source": [
    "# Metadata\n",
    "\n",
    "**Python Topics** - unit_testing_methodology > test_driven_development\n",
    "\n",
    "**Type** - modification\n",
    "\n",
    "**Target Number of Turns (User + Assistant)** - 3-7\n"
   ]
  },
  {
   "cell_type": "markdown",
   "id": "1a2bd46e",
   "metadata": {},
   "source": [
    "# Conversation"
   ]
  },
  {
   "cell_type": "markdown",
   "id": "47650eb5",
   "metadata": {},
   "source": [
    "**User**\n",
    "\n",
    "I've been tasked with using TDD for a new 'greet' function that takes a name and returns a greeting. Could you show me how to write a unittest test case that asserts 'Hello, Alice!' is the output for 'Alice'?\n"
   ]
  }
 ],
 "metadata": {},
 "nbformat": 4,
 "nbformat_minor": 5
}
