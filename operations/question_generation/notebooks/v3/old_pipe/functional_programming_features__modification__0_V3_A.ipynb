{
 "cells": [
  {
   "cell_type": "markdown",
   "id": "9a3b56b7",
   "metadata": {},
   "source": [
    "# Metadata\n",
    "\n",
    "**Python Topics** - python_language_and_scripting > functional_programming_features\n",
    "\n",
    "**Type** - modification\n",
    "\n",
    "**Target Number of Turns (User + Assistant)** - 3-7\n"
   ]
  },
  {
   "cell_type": "markdown",
   "id": "4d4a7009",
   "metadata": {},
   "source": [
    "# Conversation"
   ]
  },
  {
   "cell_type": "markdown",
   "id": "25df6454",
   "metadata": {},
   "source": [
    "**User**\n",
    "\n",
    "Please help me refactor this code to use a lambda function within the sorted() call to sort the list of dictionaries by the 'age' key: ```people = [{'name': 'Alice', 'age': 25}, {'name': 'Bob', 'age': 22}, {'name': 'Charlie', 'age': 30}] # I need to sort this list by age using a lambda function.```\n"
   ]
  }
 ],
 "metadata": {},
 "nbformat": 4,
 "nbformat_minor": 5
}
