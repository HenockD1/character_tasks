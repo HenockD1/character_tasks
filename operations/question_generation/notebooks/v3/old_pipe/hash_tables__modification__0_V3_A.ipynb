{
 "cells": [
  {
   "cell_type": "markdown",
   "id": "f8ae4667",
   "metadata": {},
   "source": [
    "# Metadata\n",
    "\n",
    "**Python Topics** - algorithms > by_data_structure > hash_tables\n",
    "\n",
    "**Type** - modification\n",
    "\n",
    "**Target Number of Turns (User + Assistant)** - 1-4\n"
   ]
  },
  {
   "cell_type": "markdown",
   "id": "c61872b7",
   "metadata": {},
   "source": [
    "# Conversation"
   ]
  },
  {
   "cell_type": "markdown",
   "id": "090670ff",
   "metadata": {},
   "source": [
    "**User**\n",
    "\n",
    "I've got a function that's supposed to return the first non-repeating character in a string using a hash table, but it's incomplete. Could you finish it for me? Here's what I have so far: `def first_non_repeating_char(s): counts = {} # Your code here return None`.\n"
   ]
  }
 ],
 "metadata": {},
 "nbformat": 4,
 "nbformat_minor": 5
}
