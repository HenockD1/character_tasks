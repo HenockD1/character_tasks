{
 "cells": [
  {
   "cell_type": "markdown",
   "id": "95b26035",
   "metadata": {},
   "source": [
    "# Metadata\n",
    "\n",
    "**Python Topics** - unit_testing_methodology > test_driven_development\n",
    "\n",
    "**Type** - modification\n",
    "\n",
    "**Target Number of Turns (User + Assistant)** - 6-10\n"
   ]
  },
  {
   "cell_type": "markdown",
   "id": "18c0baac",
   "metadata": {},
   "source": [
    "# Conversation"
   ]
  },
  {
   "cell_type": "markdown",
   "id": "9d45c50c",
   "metadata": {},
   "source": [
    "**User**\n",
    "\n",
    "As part of my TDD practice, I want to write a test for a 'sort_list' function that sorts a list of integers. Can you help me draft a unittest test case to verify that the input [3, 1, 4, 1, 5] returns a sorted list [1, 1, 3, 4, 5]?\n"
   ]
  }
 ],
 "metadata": {},
 "nbformat": 4,
 "nbformat_minor": 5
}
