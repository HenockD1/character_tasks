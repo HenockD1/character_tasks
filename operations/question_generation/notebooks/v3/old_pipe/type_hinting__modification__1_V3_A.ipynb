{
 "cells": [
  {
   "cell_type": "markdown",
   "id": "2fe3bc83",
   "metadata": {},
   "source": [
    "# Metadata\n",
    "\n",
    "**Python Topics** - python_language_and_scripting > type_hinting\n",
    "\n",
    "**Type** - modification\n",
    "\n",
    "**Target Number of Turns (User + Assistant)** - 1-5\n"
   ]
  },
  {
   "cell_type": "markdown",
   "id": "6382fdf6",
   "metadata": {},
   "source": [
    "# Conversation"
   ]
  },
  {
   "cell_type": "markdown",
   "id": "4b9aad40",
   "metadata": {},
   "source": [
    "**User**\n",
    "\n",
    "I need to ensure my function's parameters are correctly hinted. It should take a boolean and an integer, and return a float. Can you adjust the following code?\n",
    "```python\n",
    "def calculate_discount(is_member, years):\n",
    "    discount = 0.05 * years\n",
    "    if is_member:\n",
    "        discount += 0.10\n",
    "    return discount\n",
    "```\n"
   ]
  }
 ],
 "metadata": {},
 "nbformat": 4,
 "nbformat_minor": 5
}
