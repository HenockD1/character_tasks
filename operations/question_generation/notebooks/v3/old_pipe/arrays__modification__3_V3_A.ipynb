{
 "cells": [
  {
   "cell_type": "markdown",
   "id": "33a6e7ab",
   "metadata": {},
   "source": [
    "# Metadata\n",
    "\n",
    "**Python Topics** - algorithms > by_data_structure > arrays\n",
    "\n",
    "**Type** - modification\n",
    "\n",
    "**Target Number of Turns (User + Assistant)** - 1-5\n"
   ]
  },
  {
   "cell_type": "markdown",
   "id": "6b8cb4fd",
   "metadata": {},
   "source": [
    "# Conversation"
   ]
  },
  {
   "cell_type": "markdown",
   "id": "f7c8c019",
   "metadata": {},
   "source": [
    "**User**\n",
    "\n",
    "I'm trying to implement a function that will take an array and a number 'x' and return True if any two numbers in the array sum up to 'x'. Can you help me complete this function? Here's what I have so far: def has_pair_with_sum(arr, x): # Your code here\n"
   ]
  }
 ],
 "metadata": {},
 "nbformat": 4,
 "nbformat_minor": 5
}
