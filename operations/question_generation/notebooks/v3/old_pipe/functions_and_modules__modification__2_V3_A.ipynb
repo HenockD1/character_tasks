{
 "cells": [
  {
   "cell_type": "markdown",
   "id": "40f0359a",
   "metadata": {},
   "source": [
    "# Metadata\n",
    "\n",
    "**Python Topics** - python_language_and_scripting > functions_and_modules\n",
    "\n",
    "**Type** - modification\n",
    "\n",
    "**Target Number of Turns (User + Assistant)** - 1-5\n"
   ]
  },
  {
   "cell_type": "markdown",
   "id": "05756083",
   "metadata": {},
   "source": [
    "# Conversation"
   ]
  },
  {
   "cell_type": "markdown",
   "id": "1b2b6f34",
   "metadata": {},
   "source": [
    "**User**\n",
    "\n",
    "Can you help me write a decorator that times how long a function takes to run? I'd like to apply it to my existing function: `def compute(): # Some complex computation`.\n"
   ]
  }
 ],
 "metadata": {},
 "nbformat": 4,
 "nbformat_minor": 5
}
