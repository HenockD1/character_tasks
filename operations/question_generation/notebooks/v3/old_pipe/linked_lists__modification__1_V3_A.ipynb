{
 "cells": [
  {
   "cell_type": "markdown",
   "id": "1274014b",
   "metadata": {},
   "source": [
    "# Metadata\n",
    "\n",
    "**Python Topics** - algorithms > by_data_structure > linked_lists\n",
    "\n",
    "**Type** - modification\n",
    "\n",
    "**Target Number of Turns (User + Assistant)** - 2-6\n"
   ]
  },
  {
   "cell_type": "markdown",
   "id": "989acb1f",
   "metadata": {},
   "source": [
    "# Conversation"
   ]
  },
  {
   "cell_type": "markdown",
   "id": "36162368",
   "metadata": {},
   "source": [
    "**User**\n",
    "\n",
    "I'm trying to implement a function that will delete a node with a specific value from a linked list. Here's what I have so far:\n",
    "```python\n",
    "class ListNode:\n",
    "    def __init__(self, value=0, next=None):\n",
    "        self.value = value\n",
    "        self.next = next\n",
    "\n",
    "def delete_node(head, value):\n",
    "    # Implementation needed\n",
    "    pass\n",
    "```\n",
    "Could you fill in the delete_node function for me?\n"
   ]
  }
 ],
 "metadata": {},
 "nbformat": 4,
 "nbformat_minor": 5
}
