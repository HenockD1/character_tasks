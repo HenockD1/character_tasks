{
 "cells": [
  {
   "cell_type": "markdown",
   "id": "47e6bfc8",
   "metadata": {},
   "source": [
    "# Metadata\n",
    "\n",
    "**Python Topics** - python_language_and_scripting > metaclasses_and_class_factories\n",
    "\n",
    "**Type** - modification\n",
    "\n",
    "**Target Number of Turns (User + Assistant)** - 2-6\n"
   ]
  },
  {
   "cell_type": "markdown",
   "id": "2b453270",
   "metadata": {},
   "source": [
    "# Conversation"
   ]
  },
  {
   "cell_type": "markdown",
   "id": "d989df11",
   "metadata": {},
   "source": [
    "**User**\n",
    "\n",
    "Can you modify this class factory to accept a list of base classes as a parameter and use them when creating the new class?\n",
    "```python\n",
    "def class_factory(name, bases=(object,)):\n",
    "    return type(name, bases, {'category': 'default'})\n",
    "```\n"
   ]
  }
 ],
 "metadata": {},
 "nbformat": 4,
 "nbformat_minor": 5
}
