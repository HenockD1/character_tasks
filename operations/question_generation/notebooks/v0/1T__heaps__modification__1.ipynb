{
 "cells": [
  {
   "cell_type": "markdown",
   "id": "afe868b1",
   "metadata": {},
   "source": [
    "# Metadata\n",
    "\n",
    "**Python Topics** - algorithms > by_data_structure > heaps\n",
    "\n",
    "**Type** - modification\n",
    "\n",
    "**Target Number of Turns (User + Assistant)** - 1\n"
   ]
  },
  {
   "cell_type": "markdown",
   "id": "7f09b2dd",
   "metadata": {},
   "source": [
    "# Conversation"
   ]
  },
  {
   "cell_type": "markdown",
   "id": "a822356a",
   "metadata": {},
   "source": [
    "**User**\n",
    "\n",
    "Hey, I'm trying to keep track of the k largest numbers in a stream using a heap. Here's what I've started with, but I'm stuck on how to maintain the size of the heap. Any suggestions? ```python\n",
    "import heapq\n",
    "\n",
    "def k_largest(stream, k):\n",
    "    min_heap = []\n",
    "    for number in stream:\n",
    "        heapq.heappush(min_heap, number)\n",
    "        # Need to limit heap size here\n",
    "    return min_heap\n",
    "```\n"
   ]
  }
 ],
 "metadata": {},
 "nbformat": 4,
 "nbformat_minor": 5
}
