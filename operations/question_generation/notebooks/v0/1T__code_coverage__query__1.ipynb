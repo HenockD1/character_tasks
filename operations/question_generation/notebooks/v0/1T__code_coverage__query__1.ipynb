{
 "cells": [
  {
   "cell_type": "markdown",
   "id": "13d517be",
   "metadata": {},
   "source": [
    "# Metadata\n",
    "\n",
    "**Python Topics** - unit_testing_methodology > code_coverage\n",
    "\n",
    "**Type** - query\n",
    "\n",
    "**Target Number of Turns (User + Assistant)** - 1\n"
   ]
  },
  {
   "cell_type": "markdown",
   "id": "9b88f70a",
   "metadata": {},
   "source": [
    "# Conversation"
   ]
  },
  {
   "cell_type": "markdown",
   "id": "5c7f5d0a",
   "metadata": {},
   "source": [
    "**User**\n",
    "\n",
    "What's the Python code snippet to exclude certain paths from coverage reports when using pytest-cov?\n"
   ]
  }
 ],
 "metadata": {},
 "nbformat": 4,
 "nbformat_minor": 5
}
