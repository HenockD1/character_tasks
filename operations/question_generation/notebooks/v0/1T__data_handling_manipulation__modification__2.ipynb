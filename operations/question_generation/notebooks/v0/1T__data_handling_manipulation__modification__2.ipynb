{
 "cells": [
  {
   "cell_type": "markdown",
   "id": "004cfe18",
   "metadata": {},
   "source": [
    "# Metadata\n",
    "\n",
    "**Python Topics** - python_language_and_scripting > data_handling_manipulation\n",
    "\n",
    "**Type** - modification\n",
    "\n",
    "**Target Number of Turns (User + Assistant)** - 1\n"
   ]
  },
  {
   "cell_type": "markdown",
   "id": "dbadaeb3",
   "metadata": {},
   "source": [
    "# Conversation"
   ]
  },
  {
   "cell_type": "markdown",
   "id": "410363a6",
   "metadata": {},
   "source": [
    "**User**\n",
    "\n",
    "I need to convert this list of strings to a list of integers, but I'm getting an error with non-numeric strings. Here's my code: `string_list = ['123', '456', 'abc', '789']`. Can you update it to ignore the non-numeric strings and just convert the rest?\n"
   ]
  }
 ],
 "metadata": {},
 "nbformat": 4,
 "nbformat_minor": 5
}
