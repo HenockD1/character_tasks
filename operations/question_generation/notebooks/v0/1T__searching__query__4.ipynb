{
 "cells": [
  {
   "cell_type": "markdown",
   "id": "c0d400b7",
   "metadata": {},
   "source": [
    "# Metadata\n",
    "\n",
    "**Python Topics** - algorithms > by_topic > searching\n",
    "\n",
    "**Type** - query\n",
    "\n",
    "**Target Number of Turns (User + Assistant)** - 1\n"
   ]
  },
  {
   "cell_type": "markdown",
   "id": "197ec3be",
   "metadata": {},
   "source": [
    "# Conversation"
   ]
  },
  {
   "cell_type": "markdown",
   "id": "4b621504",
   "metadata": {},
   "source": [
    "**User**\n",
    "\n",
    "I'm curious, how do you perform a breadth-first search in a graph using Python?\n"
   ]
  }
 ],
 "metadata": {},
 "nbformat": 4,
 "nbformat_minor": 5
}
