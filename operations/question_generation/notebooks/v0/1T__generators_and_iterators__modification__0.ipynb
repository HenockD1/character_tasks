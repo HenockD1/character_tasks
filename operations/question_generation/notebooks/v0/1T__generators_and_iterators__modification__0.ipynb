{
 "cells": [
  {
   "cell_type": "markdown",
   "id": "8f3ca441",
   "metadata": {},
   "source": [
    "# Metadata\n",
    "\n",
    "**Python Topics** - python_language_and_scripting > generators_and_iterators\n",
    "\n",
    "**Type** - modification\n",
    "\n",
    "**Target Number of Turns (User + Assistant)** - 1\n"
   ]
  },
  {
   "cell_type": "markdown",
   "id": "e2e29572",
   "metadata": {},
   "source": [
    "# Conversation"
   ]
  },
  {
   "cell_type": "markdown",
   "id": "1c53db91",
   "metadata": {},
   "source": [
    "**User**\n",
    "\n",
    "Hey, I've got this generator function for Fibonacci numbers, but I want to limit the output to a specific number of terms. Can you modify it to include a parameter for the number of terms? Here's the code: ```def fib_gen(): a, b = 0, 1 while True: yield a a, b = b, a + b```\n"
   ]
  }
 ],
 "metadata": {},
 "nbformat": 4,
 "nbformat_minor": 5
}
