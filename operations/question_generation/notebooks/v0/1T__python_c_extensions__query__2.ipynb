{
 "cells": [
  {
   "cell_type": "markdown",
   "id": "b38c002f",
   "metadata": {},
   "source": [
    "# Metadata\n",
    "\n",
    "**Python Topics** - python_language_and_scripting > python_c_extensions\n",
    "\n",
    "**Type** - query\n",
    "\n",
    "**Target Number of Turns (User + Assistant)** - 1\n"
   ]
  },
  {
   "cell_type": "markdown",
   "id": "27e6b899",
   "metadata": {},
   "source": [
    "# Conversation"
   ]
  },
  {
   "cell_type": "markdown",
   "id": "cc9cd379",
   "metadata": {},
   "source": [
    "**User**\n",
    "\n",
    "What's the process for defining new Python types in a C module?\n"
   ]
  }
 ],
 "metadata": {},
 "nbformat": 4,
 "nbformat_minor": 5
}
