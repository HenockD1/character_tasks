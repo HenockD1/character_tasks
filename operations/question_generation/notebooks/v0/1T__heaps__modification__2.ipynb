{
 "cells": [
  {
   "cell_type": "markdown",
   "id": "387097fc",
   "metadata": {},
   "source": [
    "# Metadata\n",
    "\n",
    "**Python Topics** - algorithms > by_data_structure > heaps\n",
    "\n",
    "**Type** - modification\n",
    "\n",
    "**Target Number of Turns (User + Assistant)** - 1\n"
   ]
  },
  {
   "cell_type": "markdown",
   "id": "4b6c641f",
   "metadata": {},
   "source": [
    "# Conversation"
   ]
  },
  {
   "cell_type": "markdown",
   "id": "df8b67c6",
   "metadata": {},
   "source": [
    "**User**\n",
    "\n",
    "Could you assist me in adding a method to my heap class that returns the 'n' highest elements without altering the heap? Here's the current class: ```python\n",
    "import heapq\n",
    "\n",
    "class MyHeap:\n",
    "    def __init__(self):\n",
    "        self._heap = []\n",
    "\n",
    "    def push(self, item):\n",
    "        heapq.heappush(self._heap, item)\n",
    "\n",
    "    def pop(self):\n",
    "        return heapq.heappop(self._heap)\n",
    "\n",
    "    # Method to be added here\n",
    "```\n"
   ]
  }
 ],
 "metadata": {},
 "nbformat": 4,
 "nbformat_minor": 5
}
