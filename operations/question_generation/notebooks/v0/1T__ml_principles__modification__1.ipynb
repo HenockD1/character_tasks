{
 "cells": [
  {
   "cell_type": "markdown",
   "id": "3834a982",
   "metadata": {},
   "source": [
    "# Metadata\n",
    "\n",
    "**Python Topics** - ml_principles\n",
    "\n",
    "**Type** - modification\n",
    "\n",
    "**Target Number of Turns (User + Assistant)** - 1\n"
   ]
  },
  {
   "cell_type": "markdown",
   "id": "1c738f3b",
   "metadata": {},
   "source": [
    "# Conversation"
   ]
  },
  {
   "cell_type": "markdown",
   "id": "bf57d268",
   "metadata": {},
   "source": [
    "**User**\n",
    "\n",
    "Hey, I'm working on a machine learning model and I need to split my dataset into training and testing sets. Here's what I've done so far: `from sklearn.model_selection import train_test_split` and `X_train, X_test, y_train, y_test = train_test_split(X, y, test_size=0.2)`. Could you modify this to include a random state of 42 for reproducibility?\n"
   ]
  }
 ],
 "metadata": {},
 "nbformat": 4,
 "nbformat_minor": 5
}
