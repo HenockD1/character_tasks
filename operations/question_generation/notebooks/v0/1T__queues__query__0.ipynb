{
 "cells": [
  {
   "cell_type": "markdown",
   "id": "3cf9f800",
   "metadata": {},
   "source": [
    "# Metadata\n",
    "\n",
    "**Python Topics** - algorithms > by_data_structure > queues\n",
    "\n",
    "**Type** - query\n",
    "\n",
    "**Target Number of Turns (User + Assistant)** - 1\n"
   ]
  },
  {
   "cell_type": "markdown",
   "id": "75e49626",
   "metadata": {},
   "source": [
    "# Conversation"
   ]
  },
  {
   "cell_type": "markdown",
   "id": "3a9ccd12",
   "metadata": {},
   "source": [
    "**User**\n",
    "\n",
    "How can I implement a queue using two stacks in Python?\n"
   ]
  }
 ],
 "metadata": {},
 "nbformat": 4,
 "nbformat_minor": 5
}
