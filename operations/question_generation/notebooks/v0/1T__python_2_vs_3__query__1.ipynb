{
 "cells": [
  {
   "cell_type": "markdown",
   "id": "b9ab37a6",
   "metadata": {},
   "source": [
    "# Metadata\n",
    "\n",
    "**Python Topics** - python_language_and_scripting > python_2_vs_3\n",
    "\n",
    "**Type** - query\n",
    "\n",
    "**Target Number of Turns (User + Assistant)** - 1\n"
   ]
  },
  {
   "cell_type": "markdown",
   "id": "e0cf5446",
   "metadata": {},
   "source": [
    "# Conversation"
   ]
  },
  {
   "cell_type": "markdown",
   "id": "d92bbc6a",
   "metadata": {},
   "source": [
    "**User**\n",
    "\n",
    "What's the difference in syntax when using the division operator in Python 2 and Python 3?\n"
   ]
  }
 ],
 "metadata": {},
 "nbformat": 4,
 "nbformat_minor": 5
}
