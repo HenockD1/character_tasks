{
 "cells": [
  {
   "cell_type": "markdown",
   "id": "798e5458",
   "metadata": {},
   "source": [
    "# Metadata\n",
    "\n",
    "**Python Topics** - unit_testing_methodology > best_practices_in_writing_test_cases\n",
    "\n",
    "**Type** - modification\n",
    "\n",
    "**Target Number of Turns (User + Assistant)** - 1\n"
   ]
  },
  {
   "cell_type": "markdown",
   "id": "1de9b0f5",
   "metadata": {},
   "source": [
    "# Conversation"
   ]
  },
  {
   "cell_type": "markdown",
   "id": "41ec9844",
   "metadata": {},
   "source": [
    "**User**\n",
    "\n",
    "I realized I'm not following DRY principles in my test cases. Can you refactor this code to use a setup method for the repeated user creation? Here's what I have: ```class TestUserAuthentication(unittest.TestCase): def test_login(self): user = User('JaneDoe', 'securepass') # login logic... def test_logout(self): user = User('JaneDoe', 'securepass') # logout logic...```\n"
   ]
  }
 ],
 "metadata": {},
 "nbformat": 4,
 "nbformat_minor": 5
}
