{
 "cells": [
  {
   "cell_type": "markdown",
   "id": "799e92e1",
   "metadata": {},
   "source": [
    "# Metadata\n",
    "\n",
    "**Python Topics** - algorithms > by_data_structure > heaps\n",
    "\n",
    "**Type** - query\n",
    "\n",
    "**Target Number of Turns (User + Assistant)** - 1\n"
   ]
  },
  {
   "cell_type": "markdown",
   "id": "d95386d8",
   "metadata": {},
   "source": [
    "# Conversation"
   ]
  },
  {
   "cell_type": "markdown",
   "id": "58a94420",
   "metadata": {},
   "source": [
    "**User**\n",
    "\n",
    "Could you show me a function to merge multiple sorted lists into one using a heap?\n"
   ]
  }
 ],
 "metadata": {},
 "nbformat": 4,
 "nbformat_minor": 5
}
