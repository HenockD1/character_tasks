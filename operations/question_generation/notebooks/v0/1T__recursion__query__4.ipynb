{
 "cells": [
  {
   "cell_type": "markdown",
   "id": "4b51d6df",
   "metadata": {},
   "source": [
    "# Metadata\n",
    "\n",
    "**Python Topics** - algorithms > by_topic > recursion\n",
    "\n",
    "**Type** - query\n",
    "\n",
    "**Target Number of Turns (User + Assistant)** - 1\n"
   ]
  },
  {
   "cell_type": "markdown",
   "id": "30ee2397",
   "metadata": {},
   "source": [
    "# Conversation"
   ]
  },
  {
   "cell_type": "markdown",
   "id": "2c687ab9",
   "metadata": {},
   "source": [
    "**User**\n",
    "\n",
    "I'm curious, how would you use recursion to perform a binary search on a sorted list in Python?\n"
   ]
  }
 ],
 "metadata": {},
 "nbformat": 4,
 "nbformat_minor": 5
}
