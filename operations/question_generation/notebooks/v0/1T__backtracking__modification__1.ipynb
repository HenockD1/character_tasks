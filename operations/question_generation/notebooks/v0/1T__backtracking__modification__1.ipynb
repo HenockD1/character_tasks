{
 "cells": [
  {
   "cell_type": "markdown",
   "id": "541b7efc",
   "metadata": {},
   "source": [
    "# Metadata\n",
    "\n",
    "**Python Topics** - algorithms > by_topic > backtracking\n",
    "\n",
    "**Type** - modification\n",
    "\n",
    "**Target Number of Turns (User + Assistant)** - 1\n"
   ]
  },
  {
   "cell_type": "markdown",
   "id": "8481633d",
   "metadata": {},
   "source": [
    "# Conversation"
   ]
  },
  {
   "cell_type": "markdown",
   "id": "42748935",
   "metadata": {},
   "source": [
    "**User**\n",
    "\n",
    "I'm working on a Sudoku solver using backtracking, and I've written this code to check if a number can be placed in a position. However, I need to add a feature that also checks if the number is not repeated in the 3x3 subgrid. Here's what I have so far: ```def is_safe(board, row, col, num): for x in range(9): if board[row][x] == num or board[x][col] == num: return False return True```\n"
   ]
  }
 ],
 "metadata": {},
 "nbformat": 4,
 "nbformat_minor": 5
}
