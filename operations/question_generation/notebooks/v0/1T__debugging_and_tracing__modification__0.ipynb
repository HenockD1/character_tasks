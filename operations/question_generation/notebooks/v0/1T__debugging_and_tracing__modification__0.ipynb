{
 "cells": [
  {
   "cell_type": "markdown",
   "id": "d37dfd66",
   "metadata": {},
   "source": [
    "# Metadata\n",
    "\n",
    "**Python Topics** - debugging_and_tracing\n",
    "\n",
    "**Type** - modification\n",
    "\n",
    "**Target Number of Turns (User + Assistant)** - 1\n"
   ]
  },
  {
   "cell_type": "markdown",
   "id": "38d65b69",
   "metadata": {},
   "source": [
    "# Conversation"
   ]
  },
  {
   "cell_type": "markdown",
   "id": "81685e4b",
   "metadata": {},
   "source": [
    "**User**\n",
    "\n",
    "I've got this snippet that's supposed to log the values of variables at different stages, but it's not showing the output. Can you fix the logging for me? Here's the code: ```python\n",
    "import logging\n",
    "logging.basicConfig(level=logging.DEBUG)\n",
    "def calculate_sum(a, b):\n",
    "    logging.debug('Value of a:', a)\n",
    "    logging.debug('Value of b:', b)\n",
    "    return a + b\n",
    "result = calculate_sum(5, 7)\n",
    "logging.debug('Sum is:', result)\n",
    "```\n"
   ]
  }
 ],
 "metadata": {},
 "nbformat": 4,
 "nbformat_minor": 5
}
