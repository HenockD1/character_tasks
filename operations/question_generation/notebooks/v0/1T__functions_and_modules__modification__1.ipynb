{
 "cells": [
  {
   "cell_type": "markdown",
   "id": "ed5f7687",
   "metadata": {},
   "source": [
    "# Metadata\n",
    "\n",
    "**Python Topics** - python_language_and_scripting > functions_and_modules\n",
    "\n",
    "**Type** - modification\n",
    "\n",
    "**Target Number of Turns (User + Assistant)** - 1\n"
   ]
  },
  {
   "cell_type": "markdown",
   "id": "7bd0a8bb",
   "metadata": {},
   "source": [
    "# Conversation"
   ]
  },
  {
   "cell_type": "markdown",
   "id": "c892380b",
   "metadata": {},
   "source": [
    "**User**\n",
    "\n",
    "I'm trying to tidy up my script and I've got multiple functions that I'd like to organize into a module. Could you demonstrate how to create a module with this function as an example? Here's the function: \n",
    "```python\n",
    "def greet(name):\n",
    "    print(f'Hello, {name}!')\n",
    "```\n"
   ]
  }
 ],
 "metadata": {},
 "nbformat": 4,
 "nbformat_minor": 5
}
