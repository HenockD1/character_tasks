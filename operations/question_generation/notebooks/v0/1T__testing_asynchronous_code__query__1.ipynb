{
 "cells": [
  {
   "cell_type": "markdown",
   "id": "383e52ed",
   "metadata": {},
   "source": [
    "# Metadata\n",
    "\n",
    "**Python Topics** - unit_testing_methodology > testing_asynchronous_code\n",
    "\n",
    "**Type** - query\n",
    "\n",
    "**Target Number of Turns (User + Assistant)** - 1\n"
   ]
  },
  {
   "cell_type": "markdown",
   "id": "517c53b4",
   "metadata": {},
   "source": [
    "# Conversation"
   ]
  },
  {
   "cell_type": "markdown",
   "id": "e3e654e3",
   "metadata": {},
   "source": [
    "**User**\n",
    "\n",
    "Can you show me an example of using mocks in unit tests for asynchronous code?\n"
   ]
  }
 ],
 "metadata": {},
 "nbformat": 4,
 "nbformat_minor": 5
}
