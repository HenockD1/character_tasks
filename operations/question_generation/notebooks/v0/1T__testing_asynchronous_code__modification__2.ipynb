{
 "cells": [
  {
   "cell_type": "markdown",
   "id": "c6f7bd69",
   "metadata": {},
   "source": [
    "# Metadata\n",
    "\n",
    "**Python Topics** - unit_testing_methodology > testing_asynchronous_code\n",
    "\n",
    "**Type** - modification\n",
    "\n",
    "**Target Number of Turns (User + Assistant)** - 1\n"
   ]
  },
  {
   "cell_type": "markdown",
   "id": "904c1d74",
   "metadata": {},
   "source": [
    "# Conversation"
   ]
  },
  {
   "cell_type": "markdown",
   "id": "220b853b",
   "metadata": {},
   "source": [
    "**User**\n",
    "\n",
    "I'm struggling with testing this coroutine that times out after a certain period. Here's the function: ```async def get_with_timeout(session, url, timeout): try: return await asyncio.wait_for(session.get(url), timeout) except asyncio.TimeoutError: return None```. How would I write a test to ensure it returns None when a timeout occurs?\n"
   ]
  }
 ],
 "metadata": {},
 "nbformat": 4,
 "nbformat_minor": 5
}
