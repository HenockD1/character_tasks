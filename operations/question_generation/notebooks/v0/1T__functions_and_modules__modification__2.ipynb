{
 "cells": [
  {
   "cell_type": "markdown",
   "id": "ea6045b2",
   "metadata": {},
   "source": [
    "# Metadata\n",
    "\n",
    "**Python Topics** - python_language_and_scripting > functions_and_modules\n",
    "\n",
    "**Type** - modification\n",
    "\n",
    "**Target Number of Turns (User + Assistant)** - 1\n"
   ]
  },
  {
   "cell_type": "markdown",
   "id": "658d6699",
   "metadata": {},
   "source": [
    "# Conversation"
   ]
  },
  {
   "cell_type": "markdown",
   "id": "0efbf692",
   "metadata": {},
   "source": [
    "**User**\n",
    "\n",
    "I need to add error handling to this piece of code so it only accepts positive integers. Could you adjust the function to raise a ValueError if 'n' is not a positive integer? Here's the current code: \n",
    "```python\n",
    "def print_square(n):\n",
    "    print(n * n)\n",
    "```\n"
   ]
  }
 ],
 "metadata": {},
 "nbformat": 4,
 "nbformat_minor": 5
}
