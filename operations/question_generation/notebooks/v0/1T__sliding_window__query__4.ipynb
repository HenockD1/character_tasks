{
 "cells": [
  {
   "cell_type": "markdown",
   "id": "d501647d",
   "metadata": {},
   "source": [
    "# Metadata\n",
    "\n",
    "**Python Topics** - algorithms > by_topic > sliding_window\n",
    "\n",
    "**Type** - query\n",
    "\n",
    "**Target Number of Turns (User + Assistant)** - 1\n"
   ]
  },
  {
   "cell_type": "markdown",
   "id": "21e48acc",
   "metadata": {},
   "source": [
    "# Conversation"
   ]
  },
  {
   "cell_type": "markdown",
   "id": "82d137d9",
   "metadata": {},
   "source": [
    "**User**\n",
    "\n",
    "I'm curious, how can the sliding window concept be applied in Python to solve the problem of finding the longest substring without repeating characters?\n"
   ]
  }
 ],
 "metadata": {},
 "nbformat": 4,
 "nbformat_minor": 5
}
