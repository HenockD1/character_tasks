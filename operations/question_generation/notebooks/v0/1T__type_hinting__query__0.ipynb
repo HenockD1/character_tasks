{
 "cells": [
  {
   "cell_type": "markdown",
   "id": "741ede19",
   "metadata": {},
   "source": [
    "# Metadata\n",
    "\n",
    "**Python Topics** - python_language_and_scripting > type_hinting\n",
    "\n",
    "**Type** - query\n",
    "\n",
    "**Target Number of Turns (User + Assistant)** - 1\n"
   ]
  },
  {
   "cell_type": "markdown",
   "id": "667df35a",
   "metadata": {},
   "source": [
    "# Conversation"
   ]
  },
  {
   "cell_type": "markdown",
   "id": "d60d4661",
   "metadata": {},
   "source": [
    "**User**\n",
    "\n",
    "Can you show me how to add type hints to a function that takes two integers and returns their sum?\n"
   ]
  }
 ],
 "metadata": {},
 "nbformat": 4,
 "nbformat_minor": 5
}
