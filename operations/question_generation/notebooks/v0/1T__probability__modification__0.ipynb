{
 "cells": [
  {
   "cell_type": "markdown",
   "id": "7491983c",
   "metadata": {},
   "source": [
    "# Metadata\n",
    "\n",
    "**Python Topics** - algorithms > by_topic > probability\n",
    "\n",
    "**Type** - modification\n",
    "\n",
    "**Target Number of Turns (User + Assistant)** - 1\n"
   ]
  },
  {
   "cell_type": "markdown",
   "id": "3c906698",
   "metadata": {},
   "source": [
    "# Conversation"
   ]
  },
  {
   "cell_type": "markdown",
   "id": "d9c6585c",
   "metadata": {},
   "source": [
    "**User**\n",
    "\n",
    "Hey, I've got this function that simulates rolling a die. Can you tweak it to return the empirical probability of each face after 1000 rolls? Here's the code: `def roll_die(): return random.randint(1, 6)`\n"
   ]
  }
 ],
 "metadata": {},
 "nbformat": 4,
 "nbformat_minor": 5
}
