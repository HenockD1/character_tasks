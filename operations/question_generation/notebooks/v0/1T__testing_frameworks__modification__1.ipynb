{
 "cells": [
  {
   "cell_type": "markdown",
   "id": "64f87c62",
   "metadata": {},
   "source": [
    "# Metadata\n",
    "\n",
    "**Python Topics** - unit_testing_methodology > testing_frameworks\n",
    "\n",
    "**Type** - modification\n",
    "\n",
    "**Target Number of Turns (User + Assistant)** - 1\n"
   ]
  },
  {
   "cell_type": "markdown",
   "id": "7ae8df5c",
   "metadata": {},
   "source": [
    "# Conversation"
   ]
  },
  {
   "cell_type": "markdown",
   "id": "a4f406f4",
   "metadata": {},
   "source": [
    "**User**\n",
    "\n",
    "I'm trying to parameterize a test case with multiple inputs using pytest, but I'm stuck. Here's what I have so far:\n",
    "```python\n",
    "import pytest\n",
    "\n",
    "def test_multiply():\n",
    "    assert multiply(3, 4) == 12\n",
    "```\n",
    "Can you modify it to test with the values (2, 5) and (4, 3) as well?\n"
   ]
  }
 ],
 "metadata": {},
 "nbformat": 4,
 "nbformat_minor": 5
}
