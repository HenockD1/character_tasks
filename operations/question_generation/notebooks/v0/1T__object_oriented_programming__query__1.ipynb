{
 "cells": [
  {
   "cell_type": "markdown",
   "id": "2b14a9b3",
   "metadata": {},
   "source": [
    "# Metadata\n",
    "\n",
    "**Python Topics** - python_language_and_scripting > object_oriented_programming\n",
    "\n",
    "**Type** - query\n",
    "\n",
    "**Target Number of Turns (User + Assistant)** - 1\n"
   ]
  },
  {
   "cell_type": "markdown",
   "id": "5dcae303",
   "metadata": {},
   "source": [
    "# Conversation"
   ]
  },
  {
   "cell_type": "markdown",
   "id": "bf0a26ec",
   "metadata": {},
   "source": [
    "**User**\n",
    "\n",
    "How do I add a method to a Python class that calculates the year of birth based on the age?\n"
   ]
  }
 ],
 "metadata": {},
 "nbformat": 4,
 "nbformat_minor": 5
}
