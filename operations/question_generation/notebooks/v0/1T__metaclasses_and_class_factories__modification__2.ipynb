{
 "cells": [
  {
   "cell_type": "markdown",
   "id": "feb3a086",
   "metadata": {},
   "source": [
    "# Metadata\n",
    "\n",
    "**Python Topics** - python_language_and_scripting > metaclasses_and_class_factories\n",
    "\n",
    "**Type** - modification\n",
    "\n",
    "**Target Number of Turns (User + Assistant)** - 1\n"
   ]
  },
  {
   "cell_type": "markdown",
   "id": "d4157dc8",
   "metadata": {},
   "source": [
    "# Conversation"
   ]
  },
  {
   "cell_type": "markdown",
   "id": "19b79255",
   "metadata": {},
   "source": [
    "**User**\n",
    "\n",
    "I realized I need to add a custom attribute to all my classes created with a metaclass, but I'm not sure how to do it. The attribute should be 'category' with the value 'experimental'. Here's my current metaclass:\n",
    "```python\n",
    "class CustomMeta(type):\n",
    "    def __init__(cls, name, bases, dct):\n",
    "        super().__init__(name, bases, dct)\n",
    "```\n"
   ]
  }
 ],
 "metadata": {},
 "nbformat": 4,
 "nbformat_minor": 5
}
