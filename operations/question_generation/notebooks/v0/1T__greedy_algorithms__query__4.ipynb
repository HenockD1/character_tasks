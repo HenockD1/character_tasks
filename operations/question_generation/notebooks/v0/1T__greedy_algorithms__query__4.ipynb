{
 "cells": [
  {
   "cell_type": "markdown",
   "id": "481e189c",
   "metadata": {},
   "source": [
    "# Metadata\n",
    "\n",
    "**Python Topics** - algorithms > by_topic > greedy_algorithms\n",
    "\n",
    "**Type** - query\n",
    "\n",
    "**Target Number of Turns (User + Assistant)** - 1\n"
   ]
  },
  {
   "cell_type": "markdown",
   "id": "1d6540a1",
   "metadata": {},
   "source": [
    "# Conversation"
   ]
  },
  {
   "cell_type": "markdown",
   "id": "502d3d43",
   "metadata": {},
   "source": [
    "**User**\n",
    "\n",
    "I'm curious, how would a greedy algorithm for scheduling jobs on a single machine look in Python code?\n"
   ]
  }
 ],
 "metadata": {},
 "nbformat": 4,
 "nbformat_minor": 5
}
