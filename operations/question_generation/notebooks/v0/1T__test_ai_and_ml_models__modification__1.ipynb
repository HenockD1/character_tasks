{
 "cells": [
  {
   "cell_type": "markdown",
   "id": "9c726f23",
   "metadata": {},
   "source": [
    "# Metadata\n",
    "\n",
    "**Python Topics** - unit_testing_methodology > test_ai_and_ml_models\n",
    "\n",
    "**Type** - modification\n",
    "\n",
    "**Target Number of Turns (User + Assistant)** - 1\n"
   ]
  },
  {
   "cell_type": "markdown",
   "id": "316fd94b",
   "metadata": {},
   "source": [
    "# Conversation"
   ]
  },
  {
   "cell_type": "markdown",
   "id": "1709ba58",
   "metadata": {},
   "source": [
    "**User**\n",
    "\n",
    "I'm trying to write a unit test for my AI model's prediction function, but I'm not sure how to mock the input data. Could you show me how to modify this code to use a mock dataset? Here's what I have so far: ```def test_prediction(model, input_data): prediction = model.predict(input_data) assert prediction is not None```\n"
   ]
  }
 ],
 "metadata": {},
 "nbformat": 4,
 "nbformat_minor": 5
}
