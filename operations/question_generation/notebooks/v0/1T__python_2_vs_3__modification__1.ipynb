{
 "cells": [
  {
   "cell_type": "markdown",
   "id": "710eb542",
   "metadata": {},
   "source": [
    "# Metadata\n",
    "\n",
    "**Python Topics** - python_language_and_scripting > python_2_vs_3\n",
    "\n",
    "**Type** - modification\n",
    "\n",
    "**Target Number of Turns (User + Assistant)** - 1\n"
   ]
  },
  {
   "cell_type": "markdown",
   "id": "dad5736d",
   "metadata": {},
   "source": [
    "# Conversation"
   ]
  },
  {
   "cell_type": "markdown",
   "id": "409b4b13",
   "metadata": {},
   "source": [
    "**User**\n",
    "\n",
    "I'm trying to port my script to Python 3, but I'm stuck on this part with a dictionary. In Python 2, it used to work like this: ```my_dict.iteritems()```. How should I modify this for Python 3?\n"
   ]
  }
 ],
 "metadata": {},
 "nbformat": 4,
 "nbformat_minor": 5
}
