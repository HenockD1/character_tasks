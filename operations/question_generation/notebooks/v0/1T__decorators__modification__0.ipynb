{
 "cells": [
  {
   "cell_type": "markdown",
   "id": "910d1700",
   "metadata": {},
   "source": [
    "# Metadata\n",
    "\n",
    "**Python Topics** - python_language_and_scripting > decorators\n",
    "\n",
    "**Type** - modification\n",
    "\n",
    "**Target Number of Turns (User + Assistant)** - 1\n"
   ]
  },
  {
   "cell_type": "markdown",
   "id": "bc43f2d0",
   "metadata": {},
   "source": [
    "# Conversation"
   ]
  },
  {
   "cell_type": "markdown",
   "id": "f200a2fd",
   "metadata": {},
   "source": [
    "**User**\n",
    "\n",
    "Hey, I've got this basic decorator that logs the function name before it executes. Can you tweak it to also log the execution time? Here's the code:\n",
    "```python\n",
    "def log_function_name(func):\n",
    "    def wrapper(*args, **kwargs):\n",
    "        print(f'Executing {func.__name__}...')\n",
    "        return func(*args, **kwargs)\n",
    "    return wrapper\n",
    "\n",
    "@log_function_name\n",
    "def say_hello(name):\n",
    "    print(f'Hello, {name}!')\n",
    "```\n"
   ]
  }
 ],
 "metadata": {},
 "nbformat": 4,
 "nbformat_minor": 5
}
