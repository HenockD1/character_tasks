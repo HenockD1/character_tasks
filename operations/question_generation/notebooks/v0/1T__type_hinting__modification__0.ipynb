{
 "cells": [
  {
   "cell_type": "markdown",
   "id": "2a48d938",
   "metadata": {},
   "source": [
    "# Metadata\n",
    "\n",
    "**Python Topics** - python_language_and_scripting > type_hinting\n",
    "\n",
    "**Type** - modification\n",
    "\n",
    "**Target Number of Turns (User + Assistant)** - 1\n"
   ]
  },
  {
   "cell_type": "markdown",
   "id": "be06e358",
   "metadata": {},
   "source": [
    "# Conversation"
   ]
  },
  {
   "cell_type": "markdown",
   "id": "14052ac0",
   "metadata": {},
   "source": [
    "**User**\n",
    "\n",
    "Hey, I've got this function that calculates the sum of two numbers, but I forgot to add type hints. Could you help me out by adding them? Here's the function: \n",
    "```python\n",
    "def add_numbers(a, b):\n",
    "    return a + b\n",
    "```\n"
   ]
  }
 ],
 "metadata": {},
 "nbformat": 4,
 "nbformat_minor": 5
}
