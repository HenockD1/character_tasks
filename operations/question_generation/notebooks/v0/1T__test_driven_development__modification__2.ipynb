{
 "cells": [
  {
   "cell_type": "markdown",
   "id": "7f0fe21e",
   "metadata": {},
   "source": [
    "# Metadata\n",
    "\n",
    "**Python Topics** - unit_testing_methodology > test_driven_development\n",
    "\n",
    "**Type** - modification\n",
    "\n",
    "**Target Number of Turns (User + Assistant)** - 1\n"
   ]
  },
  {
   "cell_type": "markdown",
   "id": "2a8c8765",
   "metadata": {},
   "source": [
    "# Conversation"
   ]
  },
  {
   "cell_type": "markdown",
   "id": "32cac3d7",
   "metadata": {},
   "source": [
    "**User**\n",
    "\n",
    "I'm trying to follow test-driven development for a new 'subtract' function. I wrote the function first by mistake. Could you write a test for me using pytest that I should have written first? Here's the subtract function: ```def subtract(x, y): return x - y```\n"
   ]
  }
 ],
 "metadata": {},
 "nbformat": 4,
 "nbformat_minor": 5
}
