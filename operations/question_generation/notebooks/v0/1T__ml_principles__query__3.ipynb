{
 "cells": [
  {
   "cell_type": "markdown",
   "id": "2b08c534",
   "metadata": {},
   "source": [
    "# Metadata\n",
    "\n",
    "**Python Topics** - ml_principles\n",
    "\n",
    "**Type** - query\n",
    "\n",
    "**Target Number of Turns (User + Assistant)** - 1\n"
   ]
  },
  {
   "cell_type": "markdown",
   "id": "ea2d57f5",
   "metadata": {},
   "source": [
    "# Conversation"
   ]
  },
  {
   "cell_type": "markdown",
   "id": "33a108a7",
   "metadata": {},
   "source": [
    "**User**\n",
    "\n",
    "Could you provide an example of cross-validating a model with scikit-learn?\n"
   ]
  }
 ],
 "metadata": {},
 "nbformat": 4,
 "nbformat_minor": 5
}
