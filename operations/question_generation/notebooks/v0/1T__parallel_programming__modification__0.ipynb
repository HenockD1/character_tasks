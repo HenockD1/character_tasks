{
 "cells": [
  {
   "cell_type": "markdown",
   "id": "5b6aaed7",
   "metadata": {},
   "source": [
    "# Metadata\n",
    "\n",
    "**Python Topics** - python_language_and_scripting > parallel_programming\n",
    "\n",
    "**Type** - modification\n",
    "\n",
    "**Target Number of Turns (User + Assistant)** - 1\n"
   ]
  },
  {
   "cell_type": "markdown",
   "id": "8cd44986",
   "metadata": {},
   "source": [
    "# Conversation"
   ]
  },
  {
   "cell_type": "markdown",
   "id": "78bc2532",
   "metadata": {},
   "source": [
    "**User**\n",
    "\n",
    "Hey, I've got this function for downloading images, but it's currently running sequentially. Could you help me modify it to download using threads? Here's the function: \n",
    "```python\n",
    "def download_images(image_urls): \n",
    "    for url in image_urls: \n",
    "        download_image(url) \n",
    "```\n"
   ]
  }
 ],
 "metadata": {},
 "nbformat": 4,
 "nbformat_minor": 5
}
