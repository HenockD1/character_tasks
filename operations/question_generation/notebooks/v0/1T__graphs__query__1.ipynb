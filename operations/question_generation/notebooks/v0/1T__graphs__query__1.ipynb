{
 "cells": [
  {
   "cell_type": "markdown",
   "id": "b0df7f6c",
   "metadata": {},
   "source": [
    "# Metadata\n",
    "\n",
    "**Python Topics** - algorithms > by_data_structure > graphs\n",
    "\n",
    "**Type** - query\n",
    "\n",
    "**Target Number of Turns (User + Assistant)** - 1\n"
   ]
  },
  {
   "cell_type": "markdown",
   "id": "d4c00045",
   "metadata": {},
   "source": [
    "# Conversation"
   ]
  },
  {
   "cell_type": "markdown",
   "id": "55368dde",
   "metadata": {},
   "source": [
    "**User**\n",
    "\n",
    "What's the Python code for performing a breadth-first search on a graph?\n"
   ]
  }
 ],
 "metadata": {},
 "nbformat": 4,
 "nbformat_minor": 5
}
