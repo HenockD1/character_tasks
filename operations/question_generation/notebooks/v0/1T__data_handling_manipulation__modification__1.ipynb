{
 "cells": [
  {
   "cell_type": "markdown",
   "id": "81ad65e0",
   "metadata": {},
   "source": [
    "# Metadata\n",
    "\n",
    "**Python Topics** - python_language_and_scripting > data_handling_manipulation\n",
    "\n",
    "**Type** - modification\n",
    "\n",
    "**Target Number of Turns (User + Assistant)** - 1\n"
   ]
  },
  {
   "cell_type": "markdown",
   "id": "d44cbcfb",
   "metadata": {},
   "source": [
    "# Conversation"
   ]
  },
  {
   "cell_type": "markdown",
   "id": "766c9e32",
   "metadata": {},
   "source": [
    "**User**\n",
    "\n",
    "I'm trying to sort this list of tuples based on the second element in each tuple, but I'm stuck. Here's my code: `data = [(1, 'b'), (3, 'a'), (2, 'c')]`. Could you modify it to sort the list in descending order by the second element?\n"
   ]
  }
 ],
 "metadata": {},
 "nbformat": 4,
 "nbformat_minor": 5
}
