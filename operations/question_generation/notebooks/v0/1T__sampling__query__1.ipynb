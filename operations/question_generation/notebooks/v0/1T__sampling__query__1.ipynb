{
 "cells": [
  {
   "cell_type": "markdown",
   "id": "364128df",
   "metadata": {},
   "source": [
    "# Metadata\n",
    "\n",
    "**Python Topics** - algorithms > by_topic > sampling\n",
    "\n",
    "**Type** - query\n",
    "\n",
    "**Target Number of Turns (User + Assistant)** - 1\n"
   ]
  },
  {
   "cell_type": "markdown",
   "id": "0ffab8b2",
   "metadata": {},
   "source": [
    "# Conversation"
   ]
  },
  {
   "cell_type": "markdown",
   "id": "7e1b3bd0",
   "metadata": {},
   "source": [
    "**User**\n",
    "\n",
    "What's the Python code for stratified sampling?\n"
   ]
  }
 ],
 "metadata": {},
 "nbformat": 4,
 "nbformat_minor": 5
}
