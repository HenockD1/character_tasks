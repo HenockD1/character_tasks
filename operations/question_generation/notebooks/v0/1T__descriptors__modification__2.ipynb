{
 "cells": [
  {
   "cell_type": "markdown",
   "id": "b8de59ef",
   "metadata": {},
   "source": [
    "# Metadata\n",
    "\n",
    "**Python Topics** - python_language_and_scripting > descriptors\n",
    "\n",
    "**Type** - modification\n",
    "\n",
    "**Target Number of Turns (User + Assistant)** - 1\n"
   ]
  },
  {
   "cell_type": "markdown",
   "id": "72b94582",
   "metadata": {},
   "source": [
    "# Conversation"
   ]
  },
  {
   "cell_type": "markdown",
   "id": "0fc89104",
   "metadata": {},
   "source": [
    "**User**\n",
    "\n",
    "I need to ensure that a descriptor I wrote only allows integers. Here's the current implementation: class IntegerDescriptor: def __set__(self, instance, value): instance.__dict__[self.name] = value Can you update it to raise a ValueError if the value set is not an integer?\n"
   ]
  }
 ],
 "metadata": {},
 "nbformat": 4,
 "nbformat_minor": 5
}
