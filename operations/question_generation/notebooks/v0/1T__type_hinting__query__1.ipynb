{
 "cells": [
  {
   "cell_type": "markdown",
   "id": "2793ae4e",
   "metadata": {},
   "source": [
    "# Metadata\n",
    "\n",
    "**Python Topics** - python_language_and_scripting > type_hinting\n",
    "\n",
    "**Type** - query\n",
    "\n",
    "**Target Number of Turns (User + Assistant)** - 1\n"
   ]
  },
  {
   "cell_type": "markdown",
   "id": "366cbca7",
   "metadata": {},
   "source": [
    "# Conversation"
   ]
  },
  {
   "cell_type": "markdown",
   "id": "ae027ed7",
   "metadata": {},
   "source": [
    "**User**\n",
    "\n",
    "What's the correct way to use type hinting for a list of strings in Python?\n"
   ]
  }
 ],
 "metadata": {},
 "nbformat": 4,
 "nbformat_minor": 5
}
