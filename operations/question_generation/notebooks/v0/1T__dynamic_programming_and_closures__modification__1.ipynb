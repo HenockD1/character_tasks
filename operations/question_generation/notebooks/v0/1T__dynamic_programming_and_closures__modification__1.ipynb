{
 "cells": [
  {
   "cell_type": "markdown",
   "id": "32554057",
   "metadata": {},
   "source": [
    "# Metadata\n",
    "\n",
    "**Python Topics** - python_language_and_scripting > dynamic_programming_and_closures\n",
    "\n",
    "**Type** - modification\n",
    "\n",
    "**Target Number of Turns (User + Assistant)** - 1\n"
   ]
  },
  {
   "cell_type": "markdown",
   "id": "2df23619",
   "metadata": {},
   "source": [
    "# Conversation"
   ]
  },
  {
   "cell_type": "markdown",
   "id": "24bce981",
   "metadata": {},
   "source": [
    "**User**\n",
    "\n",
    "I'm trying to count how many ways I can climb stairs with either 1 or 2 steps at a time. I wrote this function, but it's slow for large numbers. Could you modify it to use dynamic programming? ```def count_ways(n): if n <= 1: return 1 else: return count_ways(n-1) + count_ways(n-2)```\n"
   ]
  }
 ],
 "metadata": {},
 "nbformat": 4,
 "nbformat_minor": 5
}
