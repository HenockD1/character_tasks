{
 "cells": [
  {
   "cell_type": "markdown",
   "id": "1cdcf902",
   "metadata": {},
   "source": [
    "# Metadata\n",
    "\n",
    "**Python Topics** - unit_testing_methodology > mocking_and_patching\n",
    "\n",
    "**Type** - modification\n",
    "\n",
    "**Target Number of Turns (User + Assistant)** - 1\n"
   ]
  },
  {
   "cell_type": "markdown",
   "id": "e0554e2a",
   "metadata": {},
   "source": [
    "# Conversation"
   ]
  },
  {
   "cell_type": "markdown",
   "id": "2c14a711",
   "metadata": {},
   "source": [
    "**User**\n",
    "\n",
    "Hey, I've got this function that sends an email, but I need to test it without actually sending emails. Could you help me mock the 'send_email' function in my test case? Here's the code snippet:\n",
    "```python\n",
    "def send_email(recipient, subject, body):\n",
    "    # Imagine this sends an email\n",
    "    pass\n",
    "\n",
    "def test_send_email():\n",
    "    # I want to mock send_email here\n",
    "    pass\n",
    "```\n"
   ]
  }
 ],
 "metadata": {},
 "nbformat": 4,
 "nbformat_minor": 5
}
