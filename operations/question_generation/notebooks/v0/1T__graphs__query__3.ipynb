{
 "cells": [
  {
   "cell_type": "markdown",
   "id": "d4a17c61",
   "metadata": {},
   "source": [
    "# Metadata\n",
    "\n",
    "**Python Topics** - algorithms > by_data_structure > graphs\n",
    "\n",
    "**Type** - query\n",
    "\n",
    "**Target Number of Turns (User + Assistant)** - 1\n"
   ]
  },
  {
   "cell_type": "markdown",
   "id": "379ade49",
   "metadata": {},
   "source": [
    "# Conversation"
   ]
  },
  {
   "cell_type": "markdown",
   "id": "f5811af0",
   "metadata": {},
   "source": [
    "**User**\n",
    "\n",
    "Could you provide an example of Dijkstra's algorithm in Python for finding the shortest path?\n"
   ]
  }
 ],
 "metadata": {},
 "nbformat": 4,
 "nbformat_minor": 5
}
