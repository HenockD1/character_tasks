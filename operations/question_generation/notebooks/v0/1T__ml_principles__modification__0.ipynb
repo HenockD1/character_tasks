{
 "cells": [
  {
   "cell_type": "markdown",
   "id": "fcda9399",
   "metadata": {},
   "source": [
    "# Metadata\n",
    "\n",
    "**Python Topics** - ml_principles\n",
    "\n",
    "**Type** - modification\n",
    "\n",
    "**Target Number of Turns (User + Assistant)** - 1\n"
   ]
  },
  {
   "cell_type": "markdown",
   "id": "c182f140",
   "metadata": {},
   "source": [
    "# Conversation"
   ]
  },
  {
   "cell_type": "markdown",
   "id": "13c7bb7a",
   "metadata": {},
   "source": [
    "**User**\n",
    "\n",
    "I've got a pandas DataFrame 'df' with a column 'age'. Can you help me normalize this column using Min-Max scaling? Here's the code snippet: `df['age'] = (df['age'] - df['age'].min()) / (df['age'].max() - df['age'].min())`. I'd like to encapsulate this into a function called `normalize_column` that takes the DataFrame and column name as arguments.\n"
   ]
  }
 ],
 "metadata": {},
 "nbformat": 4,
 "nbformat_minor": 5
}
