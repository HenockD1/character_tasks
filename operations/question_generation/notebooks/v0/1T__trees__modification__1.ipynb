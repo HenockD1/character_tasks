{
 "cells": [
  {
   "cell_type": "markdown",
   "id": "18ababe2",
   "metadata": {},
   "source": [
    "# Metadata\n",
    "\n",
    "**Python Topics** - algorithms > by_data_structure > trees\n",
    "\n",
    "**Type** - modification\n",
    "\n",
    "**Target Number of Turns (User + Assistant)** - 1\n"
   ]
  },
  {
   "cell_type": "markdown",
   "id": "9dd92268",
   "metadata": {},
   "source": [
    "# Conversation"
   ]
  },
  {
   "cell_type": "markdown",
   "id": "ca372fbb",
   "metadata": {},
   "source": [
    "**User**\n",
    "\n",
    "I'm working on a binary search tree and wrote a function to insert a new value. However, I forgot to handle the case where the tree is empty. Could you adjust my code to account for this? Here's what I have so far: def insert(root, key): if root is None: root = TreeNode(key) else: if key < root.val: if root.left is None: root.left = TreeNode(key) else: insert(root.left, key) elif key > root.val: if root.right is None: root.right = TreeNode(key) else: insert(root.right, key)\n"
   ]
  }
 ],
 "metadata": {},
 "nbformat": 4,
 "nbformat_minor": 5
}
