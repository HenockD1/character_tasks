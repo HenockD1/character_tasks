{
 "cells": [
  {
   "cell_type": "markdown",
   "id": "270d24b7",
   "metadata": {},
   "source": [
    "# Metadata\n",
    "\n",
    "**Python Topics** - algorithms > by_topic > counting\n",
    "\n",
    "**Type** - modification\n",
    "\n",
    "**Target Number of Turns (User + Assistant)** - 1\n"
   ]
  },
  {
   "cell_type": "markdown",
   "id": "0f8c6a2d",
   "metadata": {},
   "source": [
    "# Conversation"
   ]
  },
  {
   "cell_type": "markdown",
   "id": "261b3c21",
   "metadata": {},
   "source": [
    "**User**\n",
    "\n",
    "Could you help me refactor this code? It's supposed to count the number of words in a sentence, but I want it to exclude common stop words like 'the', 'a', 'an', 'in', 'on'. Here's the current function: ```def word_count(sentence): words = sentence.split() return len(words)```\n"
   ]
  }
 ],
 "metadata": {},
 "nbformat": 4,
 "nbformat_minor": 5
}
