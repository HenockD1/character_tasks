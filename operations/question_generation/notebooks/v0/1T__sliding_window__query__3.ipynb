{
 "cells": [
  {
   "cell_type": "markdown",
   "id": "5d813203",
   "metadata": {},
   "source": [
    "# Metadata\n",
    "\n",
    "**Python Topics** - algorithms > by_topic > sliding_window\n",
    "\n",
    "**Type** - query\n",
    "\n",
    "**Target Number of Turns (User + Assistant)** - 1\n"
   ]
  },
  {
   "cell_type": "markdown",
   "id": "efaa3196",
   "metadata": {},
   "source": [
    "# Conversation"
   ]
  },
  {
   "cell_type": "markdown",
   "id": "dcb64558",
   "metadata": {},
   "source": [
    "**User**\n",
    "\n",
    "Could you provide a Python example of the sliding window algorithm to count the number of anagrams in a string?\n"
   ]
  }
 ],
 "metadata": {},
 "nbformat": 4,
 "nbformat_minor": 5
}
