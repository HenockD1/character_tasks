{
 "cells": [
  {
   "cell_type": "markdown",
   "id": "a2e3488a",
   "metadata": {},
   "source": [
    "# Metadata\n",
    "\n",
    "**Python Topics** - algorithms > by_topic > sampling\n",
    "\n",
    "**Type** - modification\n",
    "\n",
    "**Target Number of Turns (User + Assistant)** - 1\n"
   ]
  },
  {
   "cell_type": "markdown",
   "id": "d8f869d3",
   "metadata": {},
   "source": [
    "# Conversation"
   ]
  },
  {
   "cell_type": "markdown",
   "id": "d25d47c4",
   "metadata": {},
   "source": [
    "**User**\n",
    "\n",
    "I'm trying to implement reservoir sampling in my code, but I'm stuck with the basic random choice method. Here's what I have so far: `def sample_stream(stream, k): return random.choices(stream, k=k)`. Could you tweak it to properly perform reservoir sampling?\n"
   ]
  }
 ],
 "metadata": {},
 "nbformat": 4,
 "nbformat_minor": 5
}
