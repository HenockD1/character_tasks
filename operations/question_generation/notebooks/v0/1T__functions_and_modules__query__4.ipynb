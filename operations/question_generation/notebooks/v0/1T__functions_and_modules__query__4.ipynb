{
 "cells": [
  {
   "cell_type": "markdown",
   "id": "5b1b4442",
   "metadata": {},
   "source": [
    "# Metadata\n",
    "\n",
    "**Python Topics** - python_language_and_scripting > functions_and_modules\n",
    "\n",
    "**Type** - query\n",
    "\n",
    "**Target Number of Turns (User + Assistant)** - 1\n"
   ]
  },
  {
   "cell_type": "markdown",
   "id": "6fea484d",
   "metadata": {},
   "source": [
    "# Conversation"
   ]
  },
  {
   "cell_type": "markdown",
   "id": "3320d627",
   "metadata": {},
   "source": [
    "**User**\n",
    "\n",
    "What's the syntax for defining a module in Python and how can I call a function from that module?\n"
   ]
  }
 ],
 "metadata": {},
 "nbformat": 4,
 "nbformat_minor": 5
}
