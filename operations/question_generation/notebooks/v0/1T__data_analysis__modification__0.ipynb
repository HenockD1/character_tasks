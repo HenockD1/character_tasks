{
 "cells": [
  {
   "cell_type": "markdown",
   "id": "c0e9afaa",
   "metadata": {},
   "source": [
    "# Metadata\n",
    "\n",
    "**Python Topics** - data_analysis\n",
    "\n",
    "**Type** - modification\n",
    "\n",
    "**Target Number of Turns (User + Assistant)** - 1\n"
   ]
  },
  {
   "cell_type": "markdown",
   "id": "33a59295",
   "metadata": {},
   "source": [
    "# Conversation"
   ]
  },
  {
   "cell_type": "markdown",
   "id": "7d6d83ad",
   "metadata": {},
   "source": [
    "**User**\n",
    "\n",
    "I've got a DataFrame 'df' with a 'sales' column. Can you help me add a new column 'sales_tax' which is 7.5% of the 'sales' column? Here's the code snippet: `df['sales'] = [100, 150, 200]`\n"
   ]
  }
 ],
 "metadata": {},
 "nbformat": 4,
 "nbformat_minor": 5
}
