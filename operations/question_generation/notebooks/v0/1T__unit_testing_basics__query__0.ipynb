{
 "cells": [
  {
   "cell_type": "markdown",
   "id": "30abc717",
   "metadata": {},
   "source": [
    "# Metadata\n",
    "\n",
    "**Python Topics** - unit_testing_methodology > unit_testing_basics\n",
    "\n",
    "**Type** - query\n",
    "\n",
    "**Target Number of Turns (User + Assistant)** - 1\n"
   ]
  },
  {
   "cell_type": "markdown",
   "id": "98609354",
   "metadata": {},
   "source": [
    "# Conversation"
   ]
  },
  {
   "cell_type": "markdown",
   "id": "3a37bc6c",
   "metadata": {},
   "source": [
    "**User**\n",
    "\n",
    "Can you show me how to write a basic unit test for a function that adds two numbers in Python?\n"
   ]
  }
 ],
 "metadata": {},
 "nbformat": 4,
 "nbformat_minor": 5
}
