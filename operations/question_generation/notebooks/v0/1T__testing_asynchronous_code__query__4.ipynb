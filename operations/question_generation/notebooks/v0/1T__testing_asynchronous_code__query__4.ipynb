{
 "cells": [
  {
   "cell_type": "markdown",
   "id": "8355176d",
   "metadata": {},
   "source": [
    "# Metadata\n",
    "\n",
    "**Python Topics** - unit_testing_methodology > testing_asynchronous_code\n",
    "\n",
    "**Type** - query\n",
    "\n",
    "**Target Number of Turns (User + Assistant)** - 1\n"
   ]
  },
  {
   "cell_type": "markdown",
   "id": "744783c4",
   "metadata": {},
   "source": [
    "# Conversation"
   ]
  },
  {
   "cell_type": "markdown",
   "id": "98f1dd76",
   "metadata": {},
   "source": [
    "**User**\n",
    "\n",
    "Is there a way to simulate delays in async functions for testing purposes without actually waiting in real time?\n"
   ]
  }
 ],
 "metadata": {},
 "nbformat": 4,
 "nbformat_minor": 5
}
