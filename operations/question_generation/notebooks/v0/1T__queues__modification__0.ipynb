{
 "cells": [
  {
   "cell_type": "markdown",
   "id": "2d080352",
   "metadata": {},
   "source": [
    "# Metadata\n",
    "\n",
    "**Python Topics** - algorithms > by_data_structure > queues\n",
    "\n",
    "**Type** - modification\n",
    "\n",
    "**Target Number of Turns (User + Assistant)** - 1\n"
   ]
  },
  {
   "cell_type": "markdown",
   "id": "896f6a93",
   "metadata": {},
   "source": [
    "# Conversation"
   ]
  },
  {
   "cell_type": "markdown",
   "id": "725282ef",
   "metadata": {},
   "source": [
    "**User**\n",
    "\n",
    "Hey, I've got this queue implementation, but I need to add a method to get the current size of the queue. Can you help me out? Here's the code: ```class Queue: def __init__(self): self.items = [] def is_empty(self): return self.items == [] def enqueue(self, item): self.items.insert(0, item) def dequeue(self): return self.items.pop()```\n"
   ]
  }
 ],
 "metadata": {},
 "nbformat": 4,
 "nbformat_minor": 5
}
