{
 "cells": [
  {
   "cell_type": "markdown",
   "id": "f1f059e3",
   "metadata": {},
   "source": [
    "# Metadata\n",
    "\n",
    "**Python Topics** - algorithms > by_data_structure > strings\n",
    "\n",
    "**Type** - modification\n",
    "\n",
    "**Target Number of Turns (User + Assistant)** - 1\n"
   ]
  },
  {
   "cell_type": "markdown",
   "id": "cb2802f6",
   "metadata": {},
   "source": [
    "# Conversation"
   ]
  },
  {
   "cell_type": "markdown",
   "id": "273d2857",
   "metadata": {},
   "source": [
    "**User**\n",
    "\n",
    "I need to tweak this code snippet to convert a sentence into snake_case. Currently, it just replaces spaces with underscores. Here's what I have: ```def to_snake_case(sentence): return sentence.replace(' ', '_')```\n"
   ]
  }
 ],
 "metadata": {},
 "nbformat": 4,
 "nbformat_minor": 5
}
