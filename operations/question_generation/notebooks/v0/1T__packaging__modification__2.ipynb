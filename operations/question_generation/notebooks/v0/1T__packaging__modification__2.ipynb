{
 "cells": [
  {
   "cell_type": "markdown",
   "id": "9260d204",
   "metadata": {},
   "source": [
    "# Metadata\n",
    "\n",
    "**Python Topics** - python_language_and_scripting > packaging\n",
    "\n",
    "**Type** - modification\n",
    "\n",
    "**Target Number of Turns (User + Assistant)** - 1\n"
   ]
  },
  {
   "cell_type": "markdown",
   "id": "2e0af01e",
   "metadata": {},
   "source": [
    "# Conversation"
   ]
  },
  {
   "cell_type": "markdown",
   "id": "47cf34ef",
   "metadata": {},
   "source": [
    "**User**\n",
    "\n",
    "I'm trying to create a wheel distribution for my project, but I'm stuck. Right now, I just have a script that calls setup.py install. Can you show me what to change to make it build a wheel instead? Here's the script: python setup.py install\n"
   ]
  }
 ],
 "metadata": {},
 "nbformat": 4,
 "nbformat_minor": 5
}
