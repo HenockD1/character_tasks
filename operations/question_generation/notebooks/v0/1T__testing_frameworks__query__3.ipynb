{
 "cells": [
  {
   "cell_type": "markdown",
   "id": "8558f75b",
   "metadata": {},
   "source": [
    "# Metadata\n",
    "\n",
    "**Python Topics** - unit_testing_methodology > testing_frameworks\n",
    "\n",
    "**Type** - query\n",
    "\n",
    "**Target Number of Turns (User + Assistant)** - 1\n"
   ]
  },
  {
   "cell_type": "markdown",
   "id": "1d728260",
   "metadata": {},
   "source": [
    "# Conversation"
   ]
  },
  {
   "cell_type": "markdown",
   "id": "d3f4bfae",
   "metadata": {},
   "source": [
    "**User**\n",
    "\n",
    "Could you provide a snippet for parameterized testing with pytest?\n"
   ]
  }
 ],
 "metadata": {},
 "nbformat": 4,
 "nbformat_minor": 5
}
