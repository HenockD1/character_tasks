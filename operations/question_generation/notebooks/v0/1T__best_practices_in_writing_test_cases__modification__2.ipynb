{
 "cells": [
  {
   "cell_type": "markdown",
   "id": "dbcb41dc",
   "metadata": {},
   "source": [
    "# Metadata\n",
    "\n",
    "**Python Topics** - unit_testing_methodology > best_practices_in_writing_test_cases\n",
    "\n",
    "**Type** - modification\n",
    "\n",
    "**Target Number of Turns (User + Assistant)** - 1\n"
   ]
  },
  {
   "cell_type": "markdown",
   "id": "f11838c3",
   "metadata": {},
   "source": [
    "# Conversation"
   ]
  },
  {
   "cell_type": "markdown",
   "id": "b538db6b",
   "metadata": {},
   "source": [
    "**User**\n",
    "\n",
    "I've heard that hardcoding values in tests isn't a good practice. Could you modify this test to use a factory or a fixture instead? Here's the current test: ```def test_user_email_update(): user = User('JohnDoe', 'initial@email.com') user.update_email('new@email.com') assert user.email == 'new@email.com'```\n"
   ]
  }
 ],
 "metadata": {},
 "nbformat": 4,
 "nbformat_minor": 5
}
