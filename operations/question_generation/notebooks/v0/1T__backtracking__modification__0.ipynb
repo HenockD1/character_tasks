{
 "cells": [
  {
   "cell_type": "markdown",
   "id": "71df4ae5",
   "metadata": {},
   "source": [
    "# Metadata\n",
    "\n",
    "**Python Topics** - algorithms > by_topic > backtracking\n",
    "\n",
    "**Type** - modification\n",
    "\n",
    "**Target Number of Turns (User + Assistant)** - 1\n"
   ]
  },
  {
   "cell_type": "markdown",
   "id": "774439fb",
   "metadata": {},
   "source": [
    "# Conversation"
   ]
  },
  {
   "cell_type": "markdown",
   "id": "57d75a99",
   "metadata": {},
   "source": [
    "**User**\n",
    "\n",
    "Hey, I've got this function for generating permutations of a list, but I want to include an option to specify the length of the permutations. Can you help me modify it? Here's the code: ```def permute(nums): if len(nums) == 0: return [[]] prev_perms = permute(nums[1:]) next_perms = [] for perm in prev_perms: for i in range(len(perm) + 1): next_perms.append(perm[:i] + [nums[0]] + perm[i:]) return next_perms```\n"
   ]
  }
 ],
 "metadata": {},
 "nbformat": 4,
 "nbformat_minor": 5
}
