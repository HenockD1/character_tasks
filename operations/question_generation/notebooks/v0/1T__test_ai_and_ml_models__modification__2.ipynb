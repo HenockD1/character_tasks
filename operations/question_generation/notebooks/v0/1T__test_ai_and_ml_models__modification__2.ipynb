{
 "cells": [
  {
   "cell_type": "markdown",
   "id": "779e1af3",
   "metadata": {},
   "source": [
    "# Metadata\n",
    "\n",
    "**Python Topics** - unit_testing_methodology > test_ai_and_ml_models\n",
    "\n",
    "**Type** - modification\n",
    "\n",
    "**Target Number of Turns (User + Assistant)** - 1\n"
   ]
  },
  {
   "cell_type": "markdown",
   "id": "6ff418c9",
   "metadata": {},
   "source": [
    "# Conversation"
   ]
  },
  {
   "cell_type": "markdown",
   "id": "52d2f65f",
   "metadata": {},
   "source": [
    "**User**\n",
    "\n",
    "I realized I need to refactor my test case to include a check for the model's precision and recall, but I'm a bit stuck. Here's the current test: ```def test_model_performance(model, test_features, test_labels): accuracy = model.score(test_features, test_labels) assert accuracy > 0.8``` How should I change it?\n"
   ]
  }
 ],
 "metadata": {},
 "nbformat": 4,
 "nbformat_minor": 5
}
