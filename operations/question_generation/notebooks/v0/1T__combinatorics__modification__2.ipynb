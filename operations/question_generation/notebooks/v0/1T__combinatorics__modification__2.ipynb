{
 "cells": [
  {
   "cell_type": "markdown",
   "id": "d51ee578",
   "metadata": {},
   "source": [
    "# Metadata\n",
    "\n",
    "**Python Topics** - algorithms > by_topic > combinatorics\n",
    "\n",
    "**Type** - modification\n",
    "\n",
    "**Target Number of Turns (User + Assistant)** - 1\n"
   ]
  },
  {
   "cell_type": "markdown",
   "id": "1cf499aa",
   "metadata": {},
   "source": [
    "# Conversation"
   ]
  },
  {
   "cell_type": "markdown",
   "id": "066fbff2",
   "metadata": {},
   "source": [
    "**User**\n",
    "\n",
    "I need to optimize this recursive function that calculates the number of ways to choose k items from n items. It's a bit slow for large inputs. Here's the current implementation: `def choose(n, k): if k in (0, n): return 1 return choose(n-1, k-1) + choose(n-1, k)`. Can you refactor it to use dynamic programming for better performance?\n"
   ]
  }
 ],
 "metadata": {},
 "nbformat": 4,
 "nbformat_minor": 5
}
