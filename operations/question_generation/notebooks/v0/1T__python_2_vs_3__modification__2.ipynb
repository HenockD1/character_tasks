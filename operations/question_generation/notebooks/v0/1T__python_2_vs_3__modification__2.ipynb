{
 "cells": [
  {
   "cell_type": "markdown",
   "id": "76150084",
   "metadata": {},
   "source": [
    "# Metadata\n",
    "\n",
    "**Python Topics** - python_language_and_scripting > python_2_vs_3\n",
    "\n",
    "**Type** - modification\n",
    "\n",
    "**Target Number of Turns (User + Assistant)** - 1\n"
   ]
  },
  {
   "cell_type": "markdown",
   "id": "2770400b",
   "metadata": {},
   "source": [
    "# Conversation"
   ]
  },
  {
   "cell_type": "markdown",
   "id": "8eced30d",
   "metadata": {},
   "source": [
    "**User**\n",
    "\n",
    "Could you assist me in converting this Python 2 exception handling to Python 3? The current code is: ```try:    # some codeexcept Exception, e:    print 'An error occurred:', e```\n"
   ]
  }
 ],
 "metadata": {},
 "nbformat": 4,
 "nbformat_minor": 5
}
