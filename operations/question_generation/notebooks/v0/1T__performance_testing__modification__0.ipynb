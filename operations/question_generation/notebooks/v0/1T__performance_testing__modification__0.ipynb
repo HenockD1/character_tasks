{
 "cells": [
  {
   "cell_type": "markdown",
   "id": "1d31829b",
   "metadata": {},
   "source": [
    "# Metadata\n",
    "\n",
    "**Python Topics** - unit_testing_methodology > performance_testing\n",
    "\n",
    "**Type** - modification\n",
    "\n",
    "**Target Number of Turns (User + Assistant)** - 1\n"
   ]
  },
  {
   "cell_type": "markdown",
   "id": "5b254049",
   "metadata": {},
   "source": [
    "# Conversation"
   ]
  },
  {
   "cell_type": "markdown",
   "id": "2d528d25",
   "metadata": {},
   "source": [
    "**User**\n",
    "\n",
    "Hey, I've got this function for performance testing, but I need to time it. Can you add Python's `time` module to measure how long the function takes to run? Here's the function: `def perform_test(): pass`\n"
   ]
  }
 ],
 "metadata": {},
 "nbformat": 4,
 "nbformat_minor": 5
}
