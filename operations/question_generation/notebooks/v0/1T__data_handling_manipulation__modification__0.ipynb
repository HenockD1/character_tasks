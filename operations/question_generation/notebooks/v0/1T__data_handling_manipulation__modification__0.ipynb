{
 "cells": [
  {
   "cell_type": "markdown",
   "id": "519b88dc",
   "metadata": {},
   "source": [
    "# Metadata\n",
    "\n",
    "**Python Topics** - python_language_and_scripting > data_handling_manipulation\n",
    "\n",
    "**Type** - modification\n",
    "\n",
    "**Target Number of Turns (User + Assistant)** - 1\n"
   ]
  },
  {
   "cell_type": "markdown",
   "id": "958257de",
   "metadata": {},
   "source": [
    "# Conversation"
   ]
  },
  {
   "cell_type": "markdown",
   "id": "d28e1147",
   "metadata": {},
   "source": [
    "**User**\n",
    "\n",
    "Hey, I've got this list of dictionaries and I need to filter out any items where the 'age' is under 18. Can you tweak my code to do that? Here's what I've got so far: `people = [{'name': 'Alice', 'age': 17}, {'name': 'Bob', 'age': 20}, {'name': 'Charlie', 'age': 15}]`\n"
   ]
  }
 ],
 "metadata": {},
 "nbformat": 4,
 "nbformat_minor": 5
}
