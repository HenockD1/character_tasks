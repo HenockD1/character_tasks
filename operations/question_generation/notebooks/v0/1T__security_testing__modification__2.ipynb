{
 "cells": [
  {
   "cell_type": "markdown",
   "id": "ae495fbc",
   "metadata": {},
   "source": [
    "# Metadata\n",
    "\n",
    "**Python Topics** - unit_testing_methodology > security_testing\n",
    "\n",
    "**Type** - modification\n",
    "\n",
    "**Target Number of Turns (User + Assistant)** - 1\n"
   ]
  },
  {
   "cell_type": "markdown",
   "id": "c367f3e6",
   "metadata": {},
   "source": [
    "# Conversation"
   ]
  },
  {
   "cell_type": "markdown",
   "id": "821b8b7d",
   "metadata": {},
   "source": [
    "**User**\n",
    "\n",
    "I'm trying to improve the security of my user authentication system. Can you add a test to check if the system locks an account after 3 failed login attempts? Here's the login function: ```def login(username, password): # login logic here```\n"
   ]
  }
 ],
 "metadata": {},
 "nbformat": 4,
 "nbformat_minor": 5
}
