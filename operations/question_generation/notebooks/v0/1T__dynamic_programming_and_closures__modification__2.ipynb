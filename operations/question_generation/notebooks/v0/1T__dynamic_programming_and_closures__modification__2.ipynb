{
 "cells": [
  {
   "cell_type": "markdown",
   "id": "e29b9f74",
   "metadata": {},
   "source": [
    "# Metadata\n",
    "\n",
    "**Python Topics** - python_language_and_scripting > dynamic_programming_and_closures\n",
    "\n",
    "**Type** - modification\n",
    "\n",
    "**Target Number of Turns (User + Assistant)** - 1\n"
   ]
  },
  {
   "cell_type": "markdown",
   "id": "a51563e8",
   "metadata": {},
   "source": [
    "# Conversation"
   ]
  },
  {
   "cell_type": "markdown",
   "id": "05f31f70",
   "metadata": {},
   "source": [
    "**User**\n",
    "\n",
    "I have this closure that creates adders, but I'd like to extend it to also create subtractors. Can you adjust the code for me? Here's what I have: ```def make_adder(n): def adder(x): return x + n return adder```\n"
   ]
  }
 ],
 "metadata": {},
 "nbformat": 4,
 "nbformat_minor": 5
}
