{
 "cells": [
  {
   "cell_type": "markdown",
   "id": "63933a48",
   "metadata": {},
   "source": [
    "# Metadata\n",
    "\n",
    "**Python Topics** - algorithms > by_topic > sliding_window\n",
    "\n",
    "**Type** - query\n",
    "\n",
    "**Target Number of Turns (User + Assistant)** - 1\n"
   ]
  },
  {
   "cell_type": "markdown",
   "id": "edcfba1b",
   "metadata": {},
   "source": [
    "# Conversation"
   ]
  },
  {
   "cell_type": "markdown",
   "id": "2e3b3844",
   "metadata": {},
   "source": [
    "**User**\n",
    "\n",
    "How would I use a sliding window approach to solve for the smallest subarray with a sum greater than a given value in Python?\n"
   ]
  }
 ],
 "metadata": {},
 "nbformat": 4,
 "nbformat_minor": 5
}
