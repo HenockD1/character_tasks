{
 "cells": [
  {
   "cell_type": "markdown",
   "id": "c9da4fbf",
   "metadata": {},
   "source": [
    "# Metadata\n",
    "\n",
    "**Python Topics** - ml_principles\n",
    "\n",
    "**Type** - modification\n",
    "\n",
    "**Target Number of Turns (User + Assistant)** - 1\n"
   ]
  },
  {
   "cell_type": "markdown",
   "id": "bfa01bac",
   "metadata": {},
   "source": [
    "# Conversation"
   ]
  },
  {
   "cell_type": "markdown",
   "id": "4aba8204",
   "metadata": {},
   "source": [
    "**User**\n",
    "\n",
    "I'm trying to calculate the accuracy of my classification model but I'm a bit stuck. Here's my current code: `from sklearn.metrics import accuracy_score` and `accuracy = accuracy_score(y_true, y_pred)`. Can you modify it to also print out the confusion matrix using `confusion_matrix` from `sklearn.metrics`?\n"
   ]
  }
 ],
 "metadata": {},
 "nbformat": 4,
 "nbformat_minor": 5
}
