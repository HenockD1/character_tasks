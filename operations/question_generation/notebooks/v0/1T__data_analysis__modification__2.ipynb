{
 "cells": [
  {
   "cell_type": "markdown",
   "id": "3a5fdd9b",
   "metadata": {},
   "source": [
    "# Metadata\n",
    "\n",
    "**Python Topics** - data_analysis\n",
    "\n",
    "**Type** - modification\n",
    "\n",
    "**Target Number of Turns (User + Assistant)** - 1\n"
   ]
  },
  {
   "cell_type": "markdown",
   "id": "f9b943dd",
   "metadata": {},
   "source": [
    "# Conversation"
   ]
  },
  {
   "cell_type": "markdown",
   "id": "3909ba18",
   "metadata": {},
   "source": [
    "**User**\n",
    "\n",
    "I'm trying to group my DataFrame 'orders' by 'customer_id' and calculate the total 'amount' for each customer. The code I have is: `orders = pd.DataFrame({'customer_id': [1, 2, 1], 'amount': [100, 200, 150]})`. Can you modify it to include the grouping and summing?\n"
   ]
  }
 ],
 "metadata": {},
 "nbformat": 4,
 "nbformat_minor": 5
}
