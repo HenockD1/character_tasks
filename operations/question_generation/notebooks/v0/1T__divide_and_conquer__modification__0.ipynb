{
 "cells": [
  {
   "cell_type": "markdown",
   "id": "b3ac324e",
   "metadata": {},
   "source": [
    "# Metadata\n",
    "\n",
    "**Python Topics** - algorithms > by_topic > divide_and_conquer\n",
    "\n",
    "**Type** - modification\n",
    "\n",
    "**Target Number of Turns (User + Assistant)** - 1\n"
   ]
  },
  {
   "cell_type": "markdown",
   "id": "45f86645",
   "metadata": {},
   "source": [
    "# Conversation"
   ]
  },
  {
   "cell_type": "markdown",
   "id": "5ad8c157",
   "metadata": {},
   "source": [
    "**User**\n",
    "\n",
    "Hey, I've got this function that's supposed to find the maximum subarray sum using divide and conquer, but I think it's not handling negative numbers correctly. Can you tweak it to handle that? Here's the code: def maxSubArraySum(arr, l, h): if l == h: return arr[l] m = (l + h) // 2 return max(maxSubArraySum(arr, l, m), maxSubArraySum(arr, m+1, h), maxCrossingSum(arr, l, m, h))\n"
   ]
  }
 ],
 "metadata": {},
 "nbformat": 4,
 "nbformat_minor": 5
}
