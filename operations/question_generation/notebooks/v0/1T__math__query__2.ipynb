{
 "cells": [
  {
   "cell_type": "markdown",
   "id": "e24661a0",
   "metadata": {},
   "source": [
    "# Metadata\n",
    "\n",
    "**Python Topics** - algorithms > by_topic > math\n",
    "\n",
    "**Type** - query\n",
    "\n",
    "**Target Number of Turns (User + Assistant)** - 1\n"
   ]
  },
  {
   "cell_type": "markdown",
   "id": "aaf4d7a9",
   "metadata": {},
   "source": [
    "# Conversation"
   ]
  },
  {
   "cell_type": "markdown",
   "id": "2ce5537a",
   "metadata": {},
   "source": [
    "**User**\n",
    "\n",
    "I'm curious, what's the Pythonic way to generate Fibonacci series up to n terms?\n"
   ]
  }
 ],
 "metadata": {},
 "nbformat": 4,
 "nbformat_minor": 5
}
