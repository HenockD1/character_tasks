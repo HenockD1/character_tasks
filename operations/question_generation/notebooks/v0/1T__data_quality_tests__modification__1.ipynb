{
 "cells": [
  {
   "cell_type": "markdown",
   "id": "3429c185",
   "metadata": {},
   "source": [
    "# Metadata\n",
    "\n",
    "**Python Topics** - unit_testing_methodology > data_quality_tests\n",
    "\n",
    "**Type** - modification\n",
    "\n",
    "**Target Number of Turns (User + Assistant)** - 1\n"
   ]
  },
  {
   "cell_type": "markdown",
   "id": "5fb10c12",
   "metadata": {},
   "source": [
    "# Conversation"
   ]
  },
  {
   "cell_type": "markdown",
   "id": "b567001d",
   "metadata": {},
   "source": [
    "**User**\n",
    "\n",
    "I need to modify an existing test case for my data validation function. The function checks if all elements in a list are integers. The current test only uses positive integers. Could you update the test to include negative integers and zeros as well? Here's the test: ```def test_are_integers(): assert all(isinstance(x, int) for x in [1, 2, 3, 4, 5])```\n"
   ]
  }
 ],
 "metadata": {},
 "nbformat": 4,
 "nbformat_minor": 5
}
