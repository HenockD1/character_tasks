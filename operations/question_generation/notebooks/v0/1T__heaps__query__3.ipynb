{
 "cells": [
  {
   "cell_type": "markdown",
   "id": "23a842b2",
   "metadata": {},
   "source": [
    "# Metadata\n",
    "\n",
    "**Python Topics** - algorithms > by_data_structure > heaps\n",
    "\n",
    "**Type** - query\n",
    "\n",
    "**Target Number of Turns (User + Assistant)** - 1\n"
   ]
  },
  {
   "cell_type": "markdown",
   "id": "38b10171",
   "metadata": {},
   "source": [
    "# Conversation"
   ]
  },
  {
   "cell_type": "markdown",
   "id": "1ac35379",
   "metadata": {},
   "source": [
    "**User**\n",
    "\n",
    "Can you demonstrate how to convert a list into a heap in-place?\n"
   ]
  }
 ],
 "metadata": {},
 "nbformat": 4,
 "nbformat_minor": 5
}
