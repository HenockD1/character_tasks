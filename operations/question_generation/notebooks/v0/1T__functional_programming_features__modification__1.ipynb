{
 "cells": [
  {
   "cell_type": "markdown",
   "id": "30e05f49",
   "metadata": {},
   "source": [
    "# Metadata\n",
    "\n",
    "**Python Topics** - python_language_and_scripting > functional_programming_features\n",
    "\n",
    "**Type** - modification\n",
    "\n",
    "**Target Number of Turns (User + Assistant)** - 1\n"
   ]
  },
  {
   "cell_type": "markdown",
   "id": "7ce3433c",
   "metadata": {},
   "source": [
    "# Conversation"
   ]
  },
  {
   "cell_type": "markdown",
   "id": "868107cf",
   "metadata": {},
   "source": [
    "**User**\n",
    "\n",
    "I'm working with this function: def check_even(num): return num % 2 == 0. Can you rewrite it using an anonymous function and apply it to filter out odd numbers from this list: my_list = [11, 22, 33, 44, 55]?\n"
   ]
  }
 ],
 "metadata": {},
 "nbformat": 4,
 "nbformat_minor": 5
}
