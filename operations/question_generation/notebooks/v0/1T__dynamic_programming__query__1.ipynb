{
 "cells": [
  {
   "cell_type": "markdown",
   "id": "7d71c5d5",
   "metadata": {},
   "source": [
    "# Metadata\n",
    "\n",
    "**Python Topics** - algorithms > by_topic > dynamic_programming\n",
    "\n",
    "**Type** - query\n",
    "\n",
    "**Target Number of Turns (User + Assistant)** - 1\n"
   ]
  },
  {
   "cell_type": "markdown",
   "id": "f2143d4a",
   "metadata": {},
   "source": [
    "# Conversation"
   ]
  },
  {
   "cell_type": "markdown",
   "id": "7a45905d",
   "metadata": {},
   "source": [
    "**User**\n",
    "\n",
    "How would you write a Python function to solve the knapsack problem with dynamic programming?\n"
   ]
  }
 ],
 "metadata": {},
 "nbformat": 4,
 "nbformat_minor": 5
}
