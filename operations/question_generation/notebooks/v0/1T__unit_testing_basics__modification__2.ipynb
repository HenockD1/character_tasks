{
 "cells": [
  {
   "cell_type": "markdown",
   "id": "b0b10b51",
   "metadata": {},
   "source": [
    "# Metadata\n",
    "\n",
    "**Python Topics** - unit_testing_methodology > unit_testing_basics\n",
    "\n",
    "**Type** - modification\n",
    "\n",
    "**Target Number of Turns (User + Assistant)** - 1\n"
   ]
  },
  {
   "cell_type": "markdown",
   "id": "175ced5f",
   "metadata": {},
   "source": [
    "# Conversation"
   ]
  },
  {
   "cell_type": "markdown",
   "id": "c319252c",
   "metadata": {},
   "source": [
    "**User**\n",
    "\n",
    "Oops, I just realized I used the wrong test method in my unittest.TestCase subclass. Here's the incorrect code: ```class TestCalculator(unittest.TestCase): def check_subtract(self): self.assertEqual(subtract(5, 3), 2)```. Can you rename 'check_subtract' to follow the standard 'test_' prefix convention?\n"
   ]
  }
 ],
 "metadata": {},
 "nbformat": 4,
 "nbformat_minor": 5
}
