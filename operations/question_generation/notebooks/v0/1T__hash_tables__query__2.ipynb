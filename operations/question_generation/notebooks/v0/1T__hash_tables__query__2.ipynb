{
 "cells": [
  {
   "cell_type": "markdown",
   "id": "e4f6ff55",
   "metadata": {},
   "source": [
    "# Metadata\n",
    "\n",
    "**Python Topics** - algorithms > by_data_structure > hash_tables\n",
    "\n",
    "**Type** - query\n",
    "\n",
    "**Target Number of Turns (User + Assistant)** - 1\n"
   ]
  },
  {
   "cell_type": "markdown",
   "id": "f63e8a4a",
   "metadata": {},
   "source": [
    "# Conversation"
   ]
  },
  {
   "cell_type": "markdown",
   "id": "78940c31",
   "metadata": {},
   "source": [
    "**User**\n",
    "\n",
    "How would I go about writing a function to calculate the hash value for a given key in Python?\n"
   ]
  }
 ],
 "metadata": {},
 "nbformat": 4,
 "nbformat_minor": 5
}
