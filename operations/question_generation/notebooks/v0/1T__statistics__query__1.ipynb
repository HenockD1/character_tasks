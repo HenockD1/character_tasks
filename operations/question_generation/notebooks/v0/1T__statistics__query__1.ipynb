{
 "cells": [
  {
   "cell_type": "markdown",
   "id": "a465c6aa",
   "metadata": {},
   "source": [
    "# Metadata\n",
    "\n",
    "**Python Topics** - algorithms > by_topic > statistics\n",
    "\n",
    "**Type** - query\n",
    "\n",
    "**Target Number of Turns (User + Assistant)** - 1\n"
   ]
  },
  {
   "cell_type": "markdown",
   "id": "5a410780",
   "metadata": {},
   "source": [
    "# Conversation"
   ]
  },
  {
   "cell_type": "markdown",
   "id": "383da46a",
   "metadata": {},
   "source": [
    "**User**\n",
    "\n",
    "Could you show me a function to compute the median in a dataset using Python?\n"
   ]
  }
 ],
 "metadata": {},
 "nbformat": 4,
 "nbformat_minor": 5
}
