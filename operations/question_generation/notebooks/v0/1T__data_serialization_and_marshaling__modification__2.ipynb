{
 "cells": [
  {
   "cell_type": "markdown",
   "id": "d0b3e80e",
   "metadata": {},
   "source": [
    "# Metadata\n",
    "\n",
    "**Python Topics** - python_language_and_scripting > data_serialization_and_marshaling\n",
    "\n",
    "**Type** - modification\n",
    "\n",
    "**Target Number of Turns (User + Assistant)** - 1\n"
   ]
  },
  {
   "cell_type": "markdown",
   "id": "40a7a56b",
   "metadata": {},
   "source": [
    "# Conversation"
   ]
  },
  {
   "cell_type": "markdown",
   "id": "ce989f91",
   "metadata": {},
   "source": [
    "**User**\n",
    "\n",
    "I realized I need to pretty-print the JSON when I serialize a Python dictionary. Can you adjust my code to include that? Here's the current code: `import json; data = {'user': 'Emma', 'id': 1234, 'verified': True}`.\n"
   ]
  }
 ],
 "metadata": {},
 "nbformat": 4,
 "nbformat_minor": 5
}
