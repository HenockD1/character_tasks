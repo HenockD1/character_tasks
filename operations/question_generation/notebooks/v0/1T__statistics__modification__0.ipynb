{
 "cells": [
  {
   "cell_type": "markdown",
   "id": "d7735082",
   "metadata": {},
   "source": [
    "# Metadata\n",
    "\n",
    "**Python Topics** - algorithms > by_topic > statistics\n",
    "\n",
    "**Type** - modification\n",
    "\n",
    "**Target Number of Turns (User + Assistant)** - 1\n"
   ]
  },
  {
   "cell_type": "markdown",
   "id": "f564a840",
   "metadata": {},
   "source": [
    "# Conversation"
   ]
  },
  {
   "cell_type": "markdown",
   "id": "2e58ec4c",
   "metadata": {},
   "source": [
    "**User**\n",
    "\n",
    "Hey, I've got this function to calculate the mean of a list of numbers, but I need to modify it to handle an empty list by returning None. Can you help with that? Here's the current code: \n",
    "```python\n",
    "def calculate_mean(numbers):\n",
    "    return sum(numbers) / len(numbers)\n",
    "```\n"
   ]
  }
 ],
 "metadata": {},
 "nbformat": 4,
 "nbformat_minor": 5
}
