{
 "cells": [
  {
   "cell_type": "markdown",
   "id": "cc9eee67",
   "metadata": {},
   "source": [
    "# Metadata\n",
    "\n",
    "**Python Topics** - algorithms > by_topic > greedy_algorithms\n",
    "\n",
    "**Type** - query\n",
    "\n",
    "**Target Number of Turns (User + Assistant)** - 1\n"
   ]
  },
  {
   "cell_type": "markdown",
   "id": "133161f6",
   "metadata": {},
   "source": [
    "# Conversation"
   ]
  },
  {
   "cell_type": "markdown",
   "id": "ee3a1209",
   "metadata": {},
   "source": [
    "**User**\n",
    "\n",
    "Could you provide a Python snippet for a greedy approach to the fractional knapsack problem?\n"
   ]
  }
 ],
 "metadata": {},
 "nbformat": 4,
 "nbformat_minor": 5
}
