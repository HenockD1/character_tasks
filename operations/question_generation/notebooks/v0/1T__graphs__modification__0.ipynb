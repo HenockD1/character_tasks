{
 "cells": [
  {
   "cell_type": "markdown",
   "id": "cc82ab4b",
   "metadata": {},
   "source": [
    "# Metadata\n",
    "\n",
    "**Python Topics** - algorithms > by_data_structure > graphs\n",
    "\n",
    "**Type** - modification\n",
    "\n",
    "**Target Number of Turns (User + Assistant)** - 1\n"
   ]
  },
  {
   "cell_type": "markdown",
   "id": "ea7fd323",
   "metadata": {},
   "source": [
    "# Conversation"
   ]
  },
  {
   "cell_type": "markdown",
   "id": "d2df9fd9",
   "metadata": {},
   "source": [
    "**User**\n",
    "\n",
    "Hey, I've got this function for BFS on a graph, but I need to modify it to return the path from a start node to an end node. Here's the code: ```def bfs(graph, start, end): queue = [start] visited = set() while queue: vertex = queue.pop(0) if vertex == end: return True if vertex not in visited: visited.add(vertex) queue.extend(graph[vertex] - visited) return False``` Can you help me adjust it to track the path?\n"
   ]
  }
 ],
 "metadata": {},
 "nbformat": 4,
 "nbformat_minor": 5
}
