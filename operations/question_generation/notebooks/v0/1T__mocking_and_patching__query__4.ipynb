{
 "cells": [
  {
   "cell_type": "markdown",
   "id": "27c96e2e",
   "metadata": {},
   "source": [
    "# Metadata\n",
    "\n",
    "**Python Topics** - unit_testing_methodology > mocking_and_patching\n",
    "\n",
    "**Type** - query\n",
    "\n",
    "**Target Number of Turns (User + Assistant)** - 1\n"
   ]
  },
  {
   "cell_type": "markdown",
   "id": "d23049ab",
   "metadata": {},
   "source": [
    "# Conversation"
   ]
  },
  {
   "cell_type": "markdown",
   "id": "34d19b5a",
   "metadata": {},
   "source": [
    "**User**\n",
    "\n",
    "I'm struggling with mocking a class import in my test case. Can you demonstrate how to do it?\n"
   ]
  }
 ],
 "metadata": {},
 "nbformat": 4,
 "nbformat_minor": 5
}
