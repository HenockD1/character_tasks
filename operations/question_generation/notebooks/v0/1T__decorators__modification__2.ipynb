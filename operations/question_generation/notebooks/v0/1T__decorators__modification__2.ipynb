{
 "cells": [
  {
   "cell_type": "markdown",
   "id": "7b4c5eda",
   "metadata": {},
   "source": [
    "# Metadata\n",
    "\n",
    "**Python Topics** - python_language_and_scripting > decorators\n",
    "\n",
    "**Type** - modification\n",
    "\n",
    "**Target Number of Turns (User + Assistant)** - 1\n"
   ]
  },
  {
   "cell_type": "markdown",
   "id": "5f461fd5",
   "metadata": {},
   "source": [
    "# Conversation"
   ]
  },
  {
   "cell_type": "markdown",
   "id": "13d4b49a",
   "metadata": {},
   "source": [
    "**User**\n",
    "\n",
    "Could you help me add an argument to this decorator? I want to be able to pass a custom message that it will print before the function runs. Here's the current code:\n",
    "```python\n",
    "def print_before_executing(func):\n",
    "    def wrapper(*args, **kwargs):\n",
    "        print('About to run the function...')\n",
    "        return func(*args, **kwargs)\n",
    "    return wrapper\n",
    "\n",
    "@print_before_executing\n",
    "def do_something():\n",
    "    pass\n",
    "```\n"
   ]
  }
 ],
 "metadata": {},
 "nbformat": 4,
 "nbformat_minor": 5
}
