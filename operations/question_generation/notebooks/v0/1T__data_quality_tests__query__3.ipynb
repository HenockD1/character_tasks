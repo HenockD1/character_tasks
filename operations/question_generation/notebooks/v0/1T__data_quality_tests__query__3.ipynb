{
 "cells": [
  {
   "cell_type": "markdown",
   "id": "a10fcf3a",
   "metadata": {},
   "source": [
    "# Metadata\n",
    "\n",
    "**Python Topics** - unit_testing_methodology > data_quality_tests\n",
    "\n",
    "**Type** - query\n",
    "\n",
    "**Target Number of Turns (User + Assistant)** - 1\n"
   ]
  },
  {
   "cell_type": "markdown",
   "id": "19b44772",
   "metadata": {},
   "source": [
    "# Conversation"
   ]
  },
  {
   "cell_type": "markdown",
   "id": "93ae8e70",
   "metadata": {},
   "source": [
    "**User**\n",
    "\n",
    "Could you provide a sample Python unit test that checks if numeric data in a dataframe column falls between two values?\n"
   ]
  }
 ],
 "metadata": {},
 "nbformat": 4,
 "nbformat_minor": 5
}
