{
 "cells": [
  {
   "cell_type": "markdown",
   "id": "20df6d04",
   "metadata": {},
   "source": [
    "# Metadata\n",
    "\n",
    "**Python Topics** - python_language_and_scripting > dynamic_programming_and_closures\n",
    "\n",
    "**Type** - query\n",
    "\n",
    "**Target Number of Turns (User + Assistant)** - 1\n"
   ]
  },
  {
   "cell_type": "markdown",
   "id": "b8804906",
   "metadata": {},
   "source": [
    "# Conversation"
   ]
  },
  {
   "cell_type": "markdown",
   "id": "999f1bdd",
   "metadata": {},
   "source": [
    "**User**\n",
    "\n",
    "How do I write a Python function using dynamic programming to compute the nth number of the Catalan sequence?\n"
   ]
  }
 ],
 "metadata": {},
 "nbformat": 4,
 "nbformat_minor": 5
}
