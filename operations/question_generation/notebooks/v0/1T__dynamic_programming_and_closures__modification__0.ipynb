{
 "cells": [
  {
   "cell_type": "markdown",
   "id": "6648d284",
   "metadata": {},
   "source": [
    "# Metadata\n",
    "\n",
    "**Python Topics** - python_language_and_scripting > dynamic_programming_and_closures\n",
    "\n",
    "**Type** - modification\n",
    "\n",
    "**Target Number of Turns (User + Assistant)** - 1\n"
   ]
  },
  {
   "cell_type": "markdown",
   "id": "3b3152e5",
   "metadata": {},
   "source": [
    "# Conversation"
   ]
  },
  {
   "cell_type": "markdown",
   "id": "20595095",
   "metadata": {},
   "source": [
    "**User**\n",
    "\n",
    "Hey, I've got this Fibonacci function using recursion. Can you help me optimize it with memoization? Here's the code: ```def fibonacci(n): return n if n <= 1 else fibonacci(n-1) + fibonacci(n-2)```\n"
   ]
  }
 ],
 "metadata": {},
 "nbformat": 4,
 "nbformat_minor": 5
}
