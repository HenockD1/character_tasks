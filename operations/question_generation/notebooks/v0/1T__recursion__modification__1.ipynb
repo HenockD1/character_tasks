{
 "cells": [
  {
   "cell_type": "markdown",
   "id": "fbf4cf97",
   "metadata": {},
   "source": [
    "# Metadata\n",
    "\n",
    "**Python Topics** - algorithms > by_topic > recursion\n",
    "\n",
    "**Type** - modification\n",
    "\n",
    "**Target Number of Turns (User + Assistant)** - 1\n"
   ]
  },
  {
   "cell_type": "markdown",
   "id": "be5afd39",
   "metadata": {},
   "source": [
    "# Conversation"
   ]
  },
  {
   "cell_type": "markdown",
   "id": "83516b1b",
   "metadata": {},
   "source": [
    "**User**\n",
    "\n",
    "Hey, I'm trying to write a recursive function to generate the nth Fibonacci number, but I'm stuck. Could you show me how to do it? Here's what I have so far: def fibonacci(n): if n <= 1: return n else: return fibonacci(n-1) + fibonacci(n-2)\n"
   ]
  }
 ],
 "metadata": {},
 "nbformat": 4,
 "nbformat_minor": 5
}
