{
 "cells": [
  {
   "cell_type": "markdown",
   "id": "050f6aa5",
   "metadata": {},
   "source": [
    "# Metadata\n",
    "\n",
    "**Python Topics** - unit_testing_methodology > testing_frameworks\n",
    "\n",
    "**Type** - modification\n",
    "\n",
    "**Target Number of Turns (User + Assistant)** - 1\n"
   ]
  },
  {
   "cell_type": "markdown",
   "id": "ec104023",
   "metadata": {},
   "source": [
    "# Conversation"
   ]
  },
  {
   "cell_type": "markdown",
   "id": "315020d8",
   "metadata": {},
   "source": [
    "**User**\n",
    "\n",
    "I realized I forgot to add a teardown method to my pytest test case. Here's the current code:\n",
    "```python\n",
    "import pytest\n",
    "\n",
    "def setup_function(function):\n",
    "    print(\"Setting up test\")\n",
    "\n",
    "def test_sample():\n",
    "    assert 1 == 1\n",
    "```\n",
    "Could you add a teardown function that prints 'Tearing down test' after each test?\n"
   ]
  }
 ],
 "metadata": {},
 "nbformat": 4,
 "nbformat_minor": 5
}
