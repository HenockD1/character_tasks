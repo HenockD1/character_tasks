{
 "cells": [
  {
   "cell_type": "markdown",
   "id": "5407d49d",
   "metadata": {},
   "source": [
    "# Metadata\n",
    "\n",
    "**Python Topics** - python_language_and_scripting > advanced_exception_handling\n",
    "\n",
    "**Type** - modification\n",
    "\n",
    "**Target Number of Turns (User + Assistant)** - 1\n"
   ]
  },
  {
   "cell_type": "markdown",
   "id": "e06008cc",
   "metadata": {},
   "source": [
    "# Conversation"
   ]
  },
  {
   "cell_type": "markdown",
   "id": "55694046",
   "metadata": {},
   "source": [
    "**User**\n",
    "\n",
    "I've got this code block that's catching a broad exception. Could you tweak it to only catch `ValueError` and `TypeError`, and in those cases, print an error message specific to the exception type? Here's what I have so far: \n",
    "```python\n",
    "def parse_input(user_input):\n",
    "    try:\n",
    "        # Parse input\n",
    "        pass\n",
    "    except Exception:\n",
    "        print('An error occurred!')\n",
    "```\n"
   ]
  }
 ],
 "metadata": {},
 "nbformat": 4,
 "nbformat_minor": 5
}
