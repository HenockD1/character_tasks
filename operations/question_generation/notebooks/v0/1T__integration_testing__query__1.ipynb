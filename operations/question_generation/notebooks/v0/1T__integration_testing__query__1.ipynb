{
 "cells": [
  {
   "cell_type": "markdown",
   "id": "78d22333",
   "metadata": {},
   "source": [
    "# Metadata\n",
    "\n",
    "**Python Topics** - unit_testing_methodology > integration_testing\n",
    "\n",
    "**Type** - query\n",
    "\n",
    "**Target Number of Turns (User + Assistant)** - 1\n"
   ]
  },
  {
   "cell_type": "markdown",
   "id": "7690d48b",
   "metadata": {},
   "source": [
    "# Conversation"
   ]
  },
  {
   "cell_type": "markdown",
   "id": "ad51c79d",
   "metadata": {},
   "source": [
    "**User**\n",
    "\n",
    "What's the best way to mock external services in Python for integration tests?\n"
   ]
  }
 ],
 "metadata": {},
 "nbformat": 4,
 "nbformat_minor": 5
}
