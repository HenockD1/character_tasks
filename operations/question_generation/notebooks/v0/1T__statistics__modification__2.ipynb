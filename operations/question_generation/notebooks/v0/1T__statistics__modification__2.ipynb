{
 "cells": [
  {
   "cell_type": "markdown",
   "id": "52723178",
   "metadata": {},
   "source": [
    "# Metadata\n",
    "\n",
    "**Python Topics** - algorithms > by_topic > statistics\n",
    "\n",
    "**Type** - modification\n",
    "\n",
    "**Target Number of Turns (User + Assistant)** - 1\n"
   ]
  },
  {
   "cell_type": "markdown",
   "id": "9d756cb5",
   "metadata": {},
   "source": [
    "# Conversation"
   ]
  },
  {
   "cell_type": "markdown",
   "id": "7fa3123f",
   "metadata": {},
   "source": [
    "**User**\n",
    "\n",
    "I need to add a feature to my variance calculation function that allows the user to specify whether they want the sample or population variance. Here's the current code: \n",
    "```python\n",
    "def calculate_variance(data):\n",
    "    mean = sum(data) / len(data)\n",
    "    return sum((x - mean) ** 2 for x in data) / len(data)\n",
    "``` Can you update it to include a boolean parameter for the sample variance?\n"
   ]
  }
 ],
 "metadata": {
  "language_info": {
   "name": "python"
  }
 },
 "nbformat": 4,
 "nbformat_minor": 5
}
