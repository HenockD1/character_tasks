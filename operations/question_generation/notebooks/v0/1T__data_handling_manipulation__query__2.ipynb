{
 "cells": [
  {
   "cell_type": "markdown",
   "id": "ce8da1ec",
   "metadata": {},
   "source": [
    "# Metadata\n",
    "\n",
    "**Python Topics** - python_language_and_scripting > data_handling_manipulation\n",
    "\n",
    "**Type** - query\n",
    "\n",
    "**Target Number of Turns (User + Assistant)** - 1\n"
   ]
  },
  {
   "cell_type": "markdown",
   "id": "034d0d5f",
   "metadata": {},
   "source": [
    "# Conversation"
   ]
  },
  {
   "cell_type": "markdown",
   "id": "05696832",
   "metadata": {},
   "source": [
    "**User**\n",
    "\n",
    "How do I sort a list of dictionaries by a specific key in Python?\n"
   ]
  }
 ],
 "metadata": {},
 "nbformat": 4,
 "nbformat_minor": 5
}
