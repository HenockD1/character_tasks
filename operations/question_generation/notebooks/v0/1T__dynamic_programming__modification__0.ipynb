{
 "cells": [
  {
   "cell_type": "markdown",
   "id": "3beb1348",
   "metadata": {},
   "source": [
    "# Metadata\n",
    "\n",
    "**Python Topics** - algorithms > by_topic > dynamic_programming\n",
    "\n",
    "**Type** - modification\n",
    "\n",
    "**Target Number of Turns (User + Assistant)** - 1\n"
   ]
  },
  {
   "cell_type": "markdown",
   "id": "4a79d1e9",
   "metadata": {},
   "source": [
    "# Conversation"
   ]
  },
  {
   "cell_type": "markdown",
   "id": "33ed5c43",
   "metadata": {},
   "source": [
    "**User**\n",
    "\n",
    "Hey, I've got this Fibonacci sequence generator using recursion. Can you help me optimize it with dynamic programming to reduce the time complexity? Here's the code: def fib(n): return n if n <= 1 else fib(n-1) + fib(n-2).\n"
   ]
  }
 ],
 "metadata": {},
 "nbformat": 4,
 "nbformat_minor": 5
}
