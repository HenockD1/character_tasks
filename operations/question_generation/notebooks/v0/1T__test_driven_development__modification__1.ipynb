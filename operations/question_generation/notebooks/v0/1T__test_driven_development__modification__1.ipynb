{
 "cells": [
  {
   "cell_type": "markdown",
   "id": "154941ee",
   "metadata": {},
   "source": [
    "# Metadata\n",
    "\n",
    "**Python Topics** - unit_testing_methodology > test_driven_development\n",
    "\n",
    "**Type** - modification\n",
    "\n",
    "**Target Number of Turns (User + Assistant)** - 1\n"
   ]
  },
  {
   "cell_type": "markdown",
   "id": "625ec10e",
   "metadata": {},
   "source": [
    "# Conversation"
   ]
  },
  {
   "cell_type": "markdown",
   "id": "4d4a2984",
   "metadata": {},
   "source": [
    "**User**\n",
    "\n",
    "I'm practicing TDD and I just wrote a test for a 'multiply' function, but I realized I don't have the function yet. Can you help me create the function that would pass this test? Here's my test: ```import unittest\n",
    "class TestMultiply(unittest.TestCase):\n",
    "    def test_multiply_two_numbers(self):\n",
    "        self.assertEqual(multiply(3, 4), 12)```\n"
   ]
  }
 ],
 "metadata": {},
 "nbformat": 4,
 "nbformat_minor": 5
}
