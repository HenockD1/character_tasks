{
 "cells": [
  {
   "cell_type": "markdown",
   "id": "763bf51c",
   "metadata": {},
   "source": [
    "# Metadata\n",
    "\n",
    "**Python Topics** - python_language_and_scripting > descriptors\n",
    "\n",
    "**Type** - modification\n",
    "\n",
    "**Target Number of Turns (User + Assistant)** - 1\n"
   ]
  },
  {
   "cell_type": "markdown",
   "id": "64a81787",
   "metadata": {},
   "source": [
    "# Conversation"
   ]
  },
  {
   "cell_type": "markdown",
   "id": "a5ad4a55",
   "metadata": {},
   "source": [
    "**User**\n",
    "\n",
    "I'm trying to use a descriptor for logging attribute access, but it's not quite working. Here's what I have: class LogDescriptor: def __init__(self, name=None): self.name = name def __get__(self, obj, objtype): value = obj.__dict__.get(self.name) print(f'Accessing {self.name}, value: {value}') return value Can you tweak it so that it logs both read and write operations?\n"
   ]
  }
 ],
 "metadata": {},
 "nbformat": 4,
 "nbformat_minor": 5
}
