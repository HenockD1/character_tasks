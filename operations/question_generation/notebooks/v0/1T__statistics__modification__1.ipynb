{
 "cells": [
  {
   "cell_type": "markdown",
   "id": "70814cdf",
   "metadata": {},
   "source": [
    "# Metadata\n",
    "\n",
    "**Python Topics** - algorithms > by_topic > statistics\n",
    "\n",
    "**Type** - modification\n",
    "\n",
    "**Target Number of Turns (User + Assistant)** - 1\n"
   ]
  },
  {
   "cell_type": "markdown",
   "id": "1b33a049",
   "metadata": {},
   "source": [
    "# Conversation"
   ]
  },
  {
   "cell_type": "markdown",
   "id": "8b9d2754",
   "metadata": {},
   "source": [
    "**User**\n",
    "\n",
    "I'm working on a median function, but it only works with odd-length lists. Could you tweak it so it also returns the correct median for even-length lists? Here's what I have so far: \n",
    "```python\n",
    "def find_median(values):\n",
    "    values.sort()\n",
    "    middle_index = len(values) // 2\n",
    "    return values[middle_index]\n",
    "```\n"
   ]
  }
 ],
 "metadata": {},
 "nbformat": 4,
 "nbformat_minor": 5
}
