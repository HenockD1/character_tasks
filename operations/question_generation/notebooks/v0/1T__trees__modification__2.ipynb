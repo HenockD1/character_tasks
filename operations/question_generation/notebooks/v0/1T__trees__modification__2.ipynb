{
 "cells": [
  {
   "cell_type": "markdown",
   "id": "241effb3",
   "metadata": {},
   "source": [
    "# Metadata\n",
    "\n",
    "**Python Topics** - algorithms > by_data_structure > trees\n",
    "\n",
    "**Type** - modification\n",
    "\n",
    "**Target Number of Turns (User + Assistant)** - 1\n"
   ]
  },
  {
   "cell_type": "markdown",
   "id": "693dde82",
   "metadata": {},
   "source": [
    "# Conversation"
   ]
  },
  {
   "cell_type": "markdown",
   "id": "c5c57f34",
   "metadata": {},
   "source": [
    "**User**\n",
    "\n",
    "I need to change my binary tree's depth-first search (DFS) to a breadth-first search (BFS). Here's my DFS code: def dfs(node): if node: print(node.value) dfs(node.left) dfs(node.right) Can you rewrite it to perform BFS instead?\n"
   ]
  }
 ],
 "metadata": {},
 "nbformat": 4,
 "nbformat_minor": 5
}
