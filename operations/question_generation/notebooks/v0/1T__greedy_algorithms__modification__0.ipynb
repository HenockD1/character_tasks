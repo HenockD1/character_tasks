{
 "cells": [
  {
   "cell_type": "markdown",
   "id": "71abcc24",
   "metadata": {},
   "source": [
    "# Metadata\n",
    "\n",
    "**Python Topics** - algorithms > by_topic > greedy_algorithms\n",
    "\n",
    "**Type** - modification\n",
    "\n",
    "**Target Number of Turns (User + Assistant)** - 1\n"
   ]
  },
  {
   "cell_type": "markdown",
   "id": "4e93ad1a",
   "metadata": {},
   "source": [
    "# Conversation"
   ]
  },
  {
   "cell_type": "markdown",
   "id": "664b338a",
   "metadata": {},
   "source": [
    "**User**\n",
    "\n",
    "Hey, I've got this function for selecting the maximum number of activities that can be performed by a single person, given the start and finish times. Can you tweak it to return the list of selected activities' indices instead of just the count? Here's the code: ```python def max_activities(start, finish): n = len(finish) i = 0 count = 1 for j in range(n): if start[j] >= finish[i]: count += 1 i = j return count ```\n"
   ]
  }
 ],
 "metadata": {},
 "nbformat": 4,
 "nbformat_minor": 5
}
