{
 "cells": [
  {
   "cell_type": "markdown",
   "id": "7d923f8b",
   "metadata": {},
   "source": [
    "# Metadata\n",
    "\n",
    "**Python Topics** - algorithms > by_data_structure > queues\n",
    "\n",
    "**Type** - query\n",
    "\n",
    "**Target Number of Turns (User + Assistant)** - 2+\n"
   ]
  },
  {
   "cell_type": "markdown",
   "id": "ef4f6292",
   "metadata": {},
   "source": [
    "# Conversation"
   ]
  },
  {
   "cell_type": "markdown",
   "id": "159bb6a0",
   "metadata": {},
   "source": [
    "**User**\n",
    "\n",
    "Can you help me write a Python function that uses a queue to reverse the first 'k' elements?\n"
   ]
  }
 ],
 "metadata": {},
 "nbformat": 4,
 "nbformat_minor": 5
}
