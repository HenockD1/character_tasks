{
 "cells": [
  {
   "cell_type": "markdown",
   "id": "afde1c9d",
   "metadata": {},
   "source": [
    "# Metadata\n",
    "\n",
    "**Python Topics** - algorithms > by_data_structure > queues\n",
    "\n",
    "**Type** - query\n",
    "\n",
    "**Target Number of Turns (User + Assistant)** - 2+\n"
   ]
  },
  {
   "cell_type": "markdown",
   "id": "fe0a9ad6",
   "metadata": {},
   "source": [
    "# Conversation"
   ]
  },
  {
   "cell_type": "markdown",
   "id": "927d71a6",
   "metadata": {},
   "source": [
    "**Assistant**\n",
    "\n",
    "I'm trying to implement a priority queue in Python for my task manager app. Can you show me how to add tasks with different priorities?\n"
   ]
  }
 ],
 "metadata": {},
 "nbformat": 4,
 "nbformat_minor": 5
}
