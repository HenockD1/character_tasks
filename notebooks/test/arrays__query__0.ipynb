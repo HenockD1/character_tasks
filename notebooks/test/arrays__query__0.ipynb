{
 "cells": [
  {
   "cell_type": "markdown",
   "id": "d0492c62",
   "metadata": {},
   "source": [
    "# Metadata\n",
    "\n",
    "**Python Topics** - algorithms > by_data_structure > arrays\n",
    "\n",
    "**Type** - query\n",
    "\n",
    "**Target Number of Turns (User + Assistant)** - 2\n"
   ]
  },
  {
   "cell_type": "markdown",
   "id": "1493bca9",
   "metadata": {},
   "source": [
    "# Conversation"
   ]
  },
  {
   "cell_type": "markdown",
   "id": "0a011825",
   "metadata": {},
   "source": [
    "**Assistant**\n",
    "\n",
    "How would you implement a function to shuffle an array in Python without using any libraries?\n"
   ]
  }
 ],
 "metadata": {},
 "nbformat": 4,
 "nbformat_minor": 5
}
