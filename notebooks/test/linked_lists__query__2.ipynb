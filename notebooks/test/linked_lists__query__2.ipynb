{
 "cells": [
  {
   "cell_type": "markdown",
   "id": "5c4fc140",
   "metadata": {},
   "source": [
    "# Metadata\n",
    "\n",
    "**Python Topics** - algorithms > by_data_structure > linked_lists\n",
    "\n",
    "**Type** - query\n",
    "\n",
    "**Target Number of Turns (User + Assistant)** - 2+\n"
   ]
  },
  {
   "cell_type": "markdown",
   "id": "3f73caa8",
   "metadata": {},
   "source": [
    "# Conversation"
   ]
  },
  {
   "cell_type": "markdown",
   "id": "f30fcf94",
   "metadata": {},
   "source": [
    "**Assistant**\n",
    "\n",
    "What's the Python code to serialize a binary tree to a string and then deserialize it back to a tree?\n"
   ]
  }
 ],
 "metadata": {},
 "nbformat": 4,
 "nbformat_minor": 5
}
