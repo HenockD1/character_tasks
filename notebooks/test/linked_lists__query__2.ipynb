{
 "cells": [
  {
   "cell_type": "markdown",
   "id": "0bb874aa",
   "metadata": {},
   "source": [
    "# Metadata\n",
    "\n",
    "**Python Topics** - algorithms > by_data_structure > linked_lists\n",
    "\n",
    "**Type** - query\n",
    "\n",
    "**Target Number of Turns (User + Assistant)** - 2\n"
   ]
  },
  {
   "cell_type": "markdown",
   "id": "fb2c169e",
   "metadata": {},
   "source": [
    "# Conversation"
   ]
  },
  {
   "cell_type": "markdown",
   "id": "5c098608",
   "metadata": {},
   "source": [
    "**Assistant**\n",
    "\n",
    "What's the Pythonic way to concatenate two singly linked lists at the end?\n"
   ]
  }
 ],
 "metadata": {},
 "nbformat": 4,
 "nbformat_minor": 5
}
