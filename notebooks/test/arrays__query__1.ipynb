{
 "cells": [
  {
   "cell_type": "markdown",
   "id": "884d3062",
   "metadata": {},
   "source": [
    "# Metadata\n",
    "\n",
    "**Python Topics** - algorithms > by_data_structure > arrays\n",
    "\n",
    "**Type** - query\n",
    "\n",
    "**Target Number of Turns (User + Assistant)** - 2\n"
   ]
  },
  {
   "cell_type": "markdown",
   "id": "0e00c2ae",
   "metadata": {},
   "source": [
    "# Conversation"
   ]
  },
  {
   "cell_type": "markdown",
   "id": "f6ab235f",
   "metadata": {},
   "source": [
    "**User**\n",
    "\n",
    "Could you write a Python function that removes all occurrences of a given value from an array?\n"
   ]
  }
 ],
 "metadata": {},
 "nbformat": 4,
 "nbformat_minor": 5
}
