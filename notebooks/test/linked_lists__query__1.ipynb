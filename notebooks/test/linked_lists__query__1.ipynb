{
 "cells": [
  {
   "cell_type": "markdown",
   "id": "483d25cb",
   "metadata": {},
   "source": [
    "# Metadata\n",
    "\n",
    "**Python Topics** - algorithms > by_data_structure > linked_lists\n",
    "\n",
    "**Type** - query\n",
    "\n",
    "**Target Number of Turns (User + Assistant)** - 1\n"
   ]
  },
  {
   "cell_type": "markdown",
   "id": "b9e0c9c9",
   "metadata": {},
   "source": [
    "# Conversation"
   ]
  },
  {
   "cell_type": "markdown",
   "id": "380d7dca",
   "metadata": {},
   "source": [
    "**User**\n",
    "\n",
    "Could you provide a Python snippet to convert a binary tree to a doubly linked list?\n"
   ]
  }
 ],
 "metadata": {},
 "nbformat": 4,
 "nbformat_minor": 5
}
