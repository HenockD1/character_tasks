{
 "cells": [
  {
   "cell_type": "markdown",
   "id": "5ca7f618",
   "metadata": {},
   "source": [
    "# Metadata\n",
    "\n",
    "**Python Topics** - algorithms > by_data_structure > linked_lists\n",
    "\n",
    "**Type** - query\n",
    "\n",
    "**Target Number of Turns (User + Assistant)** - 2+\n"
   ]
  },
  {
   "cell_type": "markdown",
   "id": "d61e7fed",
   "metadata": {},
   "source": [
    "# Conversation"
   ]
  },
  {
   "cell_type": "markdown",
   "id": "936ddd89",
   "metadata": {},
   "source": [
    "**User**\n",
    "\n",
    "Could you provide a Python function that checks if a string has balanced parentheses using a stack?\n"
   ]
  }
 ],
 "metadata": {},
 "nbformat": 4,
 "nbformat_minor": 5
}
