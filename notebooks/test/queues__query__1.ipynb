{
 "cells": [
  {
   "cell_type": "markdown",
   "id": "ca58b1ac",
   "metadata": {},
   "source": [
    "# Metadata\n",
    "\n",
    "**Python Topics** - algorithms > by_data_structure > queues\n",
    "\n",
    "**Type** - query\n",
    "\n",
    "**Target Number of Turns (User + Assistant)** - 1\n"
   ]
  },
  {
   "cell_type": "markdown",
   "id": "80a6b814",
   "metadata": {},
   "source": [
    "# Conversation"
   ]
  },
  {
   "cell_type": "markdown",
   "id": "15e9b94e",
   "metadata": {},
   "source": [
    "**User**\n",
    "\n",
    "Could you write a Python function that merges two queues into a single queue, maintaining the order of elements?\n"
   ]
  }
 ],
 "metadata": {},
 "nbformat": 4,
 "nbformat_minor": 5
}
