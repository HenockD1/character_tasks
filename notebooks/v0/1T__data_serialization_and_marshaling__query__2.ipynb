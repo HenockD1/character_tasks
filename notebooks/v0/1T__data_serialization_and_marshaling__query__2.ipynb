{
 "cells": [
  {
   "cell_type": "markdown",
   "id": "e4316470",
   "metadata": {},
   "source": [
    "# Metadata\n",
    "\n",
    "**Python Topics** - python_language_and_scripting > data_serialization_and_marshaling\n",
    "\n",
    "**Type** - query\n",
    "\n",
    "**Target Number of Turns (User + Assistant)** - 1\n"
   ]
  },
  {
   "cell_type": "markdown",
   "id": "25901548",
   "metadata": {},
   "source": [
    "# Conversation"
   ]
  },
  {
   "cell_type": "markdown",
   "id": "0afaa18c",
   "metadata": {},
   "source": [
    "**User**\n",
    "\n",
    "How do I use the pickle module to persist my custom Python class instance?\n"
   ]
  }
 ],
 "metadata": {},
 "nbformat": 4,
 "nbformat_minor": 5
}
