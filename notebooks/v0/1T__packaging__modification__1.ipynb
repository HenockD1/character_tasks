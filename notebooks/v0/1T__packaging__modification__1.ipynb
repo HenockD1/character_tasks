{
 "cells": [
  {
   "cell_type": "markdown",
   "id": "92a8f9d5",
   "metadata": {},
   "source": [
    "# Metadata\n",
    "\n",
    "**Python Topics** - python_language_and_scripting > packaging\n",
    "\n",
    "**Type** - modification\n",
    "\n",
    "**Target Number of Turns (User + Assistant)** - 1\n"
   ]
  },
  {
   "cell_type": "markdown",
   "id": "9b2afbd4",
   "metadata": {},
   "source": [
    "# Conversation"
   ]
  },
  {
   "cell_type": "markdown",
   "id": "d44f7985",
   "metadata": {},
   "source": [
    "**User**\n",
    "\n",
    "Could you help me refine my __init__.py file? I need to expose only the 'main_function' and 'HelperClass' in my package's namespace. Here's what I have so far: __all__ = ['module1', 'module2']\n"
   ]
  }
 ],
 "metadata": {},
 "nbformat": 4,
 "nbformat_minor": 5
}
