{
 "cells": [
  {
   "cell_type": "markdown",
   "id": "c39c9413",
   "metadata": {},
   "source": [
    "# Metadata\n",
    "\n",
    "**Python Topics** - python_language_and_scripting > python_2_vs_3\n",
    "\n",
    "**Type** - query\n",
    "\n",
    "**Target Number of Turns (User + Assistant)** - 1\n"
   ]
  },
  {
   "cell_type": "markdown",
   "id": "5ba4490a",
   "metadata": {},
   "source": [
    "# Conversation"
   ]
  },
  {
   "cell_type": "markdown",
   "id": "5ccba715",
   "metadata": {},
   "source": [
    "**User**\n",
    "\n",
    "What's the correct way to handle unicode strings in Python 3 compared to Python 2?\n"
   ]
  }
 ],
 "metadata": {},
 "nbformat": 4,
 "nbformat_minor": 5
}
