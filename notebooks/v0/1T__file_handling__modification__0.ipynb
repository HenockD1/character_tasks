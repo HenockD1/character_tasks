{
 "cells": [
  {
   "cell_type": "markdown",
   "id": "0d657d4a",
   "metadata": {},
   "source": [
    "# Metadata\n",
    "\n",
    "**Python Topics** - python_language_and_scripting > file_handling\n",
    "\n",
    "**Type** - modification\n",
    "\n",
    "**Target Number of Turns (User + Assistant)** - 1\n"
   ]
  },
  {
   "cell_type": "markdown",
   "id": "702f1f9a",
   "metadata": {},
   "source": [
    "# Conversation"
   ]
  },
  {
   "cell_type": "markdown",
   "id": "fe8db214",
   "metadata": {},
   "source": [
    "**User**\n",
    "\n",
    "Hey, I've got this snippet that reads a file, but I want to make sure it closes properly. Can you add a context manager to handle that? Here's the code: `file = open('data.txt', 'r'); content = file.read(); print(content)`\n"
   ]
  }
 ],
 "metadata": {},
 "nbformat": 4,
 "nbformat_minor": 5
}
