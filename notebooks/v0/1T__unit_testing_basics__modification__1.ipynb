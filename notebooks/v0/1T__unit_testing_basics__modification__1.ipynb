{
 "cells": [
  {
   "cell_type": "markdown",
   "id": "784b51e3",
   "metadata": {},
   "source": [
    "# Metadata\n",
    "\n",
    "**Python Topics** - unit_testing_methodology > unit_testing_basics\n",
    "\n",
    "**Type** - modification\n",
    "\n",
    "**Target Number of Turns (User + Assistant)** - 1\n"
   ]
  },
  {
   "cell_type": "markdown",
   "id": "fbdc42d4",
   "metadata": {},
   "source": [
    "# Conversation"
   ]
  },
  {
   "cell_type": "markdown",
   "id": "8193de5e",
   "metadata": {},
   "source": [
    "**User**\n",
    "\n",
    "I'm trying to write a test for my 'multiply' function, but I'm new to this. Here's what I have so far: ```def test_multiply(): pass```. Can you fill in the test body to assert that multiplying 4 by 5 gives 20?\n"
   ]
  }
 ],
 "metadata": {},
 "nbformat": 4,
 "nbformat_minor": 5
}
