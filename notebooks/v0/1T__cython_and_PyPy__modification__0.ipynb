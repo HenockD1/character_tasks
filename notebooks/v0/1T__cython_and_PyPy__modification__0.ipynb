{
 "cells": [
  {
   "cell_type": "markdown",
   "id": "902694d1",
   "metadata": {},
   "source": [
    "# Metadata\n",
    "\n",
    "**Python Topics** - python_language_and_scripting > cython_and_PyPy\n",
    "\n",
    "**Type** - modification\n",
    "\n",
    "**Target Number of Turns (User + Assistant)** - 1\n"
   ]
  },
  {
   "cell_type": "markdown",
   "id": "27815a96",
   "metadata": {},
   "source": [
    "# Conversation"
   ]
  },
  {
   "cell_type": "markdown",
   "id": "ab674081",
   "metadata": {},
   "source": [
    "**User**\n",
    "\n",
    "Hey, I've got this Python function for calculating Fibonacci numbers, but I want to speed it up using Cython. Can you help me convert it? Here's the code:\n",
    "```python\n",
    "def fib(n):\n",
    "    a, b = 0, 1\n",
    "    for _ in range(n):\n",
    "        a, b = b, a + b\n",
    "    return a\n",
    "```\n"
   ]
  }
 ],
 "metadata": {},
 "nbformat": 4,
 "nbformat_minor": 5
}
