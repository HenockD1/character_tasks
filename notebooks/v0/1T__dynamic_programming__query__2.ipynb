{
 "cells": [
  {
   "cell_type": "markdown",
   "id": "3feafb78",
   "metadata": {},
   "source": [
    "# Metadata\n",
    "\n",
    "**Python Topics** - algorithms > by_topic > dynamic_programming\n",
    "\n",
    "**Type** - query\n",
    "\n",
    "**Target Number of Turns (User + Assistant)** - 1\n"
   ]
  },
  {
   "cell_type": "markdown",
   "id": "7866cd9b",
   "metadata": {},
   "source": [
    "# Conversation"
   ]
  },
  {
   "cell_type": "markdown",
   "id": "b3ecc5bf",
   "metadata": {},
   "source": [
    "**User**\n",
    "\n",
    "Could you provide a Python example of dynamic programming to calculate the minimum number of coins for change?\n"
   ]
  }
 ],
 "metadata": {},
 "nbformat": 4,
 "nbformat_minor": 5
}
