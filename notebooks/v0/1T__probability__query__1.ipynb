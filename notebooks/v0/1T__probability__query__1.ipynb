{
 "cells": [
  {
   "cell_type": "markdown",
   "id": "611a1bba",
   "metadata": {},
   "source": [
    "# Metadata\n",
    "\n",
    "**Python Topics** - algorithms > by_topic > probability\n",
    "\n",
    "**Type** - query\n",
    "\n",
    "**Target Number of Turns (User + Assistant)** - 1\n"
   ]
  },
  {
   "cell_type": "markdown",
   "id": "2d35e195",
   "metadata": {},
   "source": [
    "# Conversation"
   ]
  },
  {
   "cell_type": "markdown",
   "id": "d9a41ae5",
   "metadata": {},
   "source": [
    "**User**\n",
    "\n",
    "What's the Python code for calculating the probability of drawing an ace from a deck of cards?\n"
   ]
  }
 ],
 "metadata": {},
 "nbformat": 4,
 "nbformat_minor": 5
}
