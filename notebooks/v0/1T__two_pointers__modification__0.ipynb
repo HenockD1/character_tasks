{
 "cells": [
  {
   "cell_type": "markdown",
   "id": "9e87bda0",
   "metadata": {},
   "source": [
    "# Metadata\n",
    "\n",
    "**Python Topics** - algorithms > by_topic > two_pointers\n",
    "\n",
    "**Type** - modification\n",
    "\n",
    "**Target Number of Turns (User + Assistant)** - 1\n"
   ]
  },
  {
   "cell_type": "markdown",
   "id": "a8bb963f",
   "metadata": {},
   "source": [
    "# Conversation"
   ]
  },
  {
   "cell_type": "markdown",
   "id": "34cbe0b9",
   "metadata": {},
   "source": [
    "**User**\n",
    "\n",
    "Hey, I've got this function that's supposed to find a pair in an array with a given sum using the two-pointer technique. However, it's not returning the expected results. Can you spot the issue and fix it? Here's the code: ```def find_pair_with_sum(arr, target_sum): left, right = 0, len(arr) - 1 while left < right: current_sum = arr[left] + arr[right] if current_sum < target_sum: left += 1 elif current_sum > target_sum: right -= 1 else: return (arr[left], arr[right]) return None```\n"
   ]
  }
 ],
 "metadata": {},
 "nbformat": 4,
 "nbformat_minor": 5
}
