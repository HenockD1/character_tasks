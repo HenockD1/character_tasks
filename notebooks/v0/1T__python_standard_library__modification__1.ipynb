{
 "cells": [
  {
   "cell_type": "markdown",
   "id": "b34b3b14",
   "metadata": {},
   "source": [
    "# Metadata\n",
    "\n",
    "**Python Topics** - python_language_and_scripting > python_standard_library\n",
    "\n",
    "**Type** - modification\n",
    "\n",
    "**Target Number of Turns (User + Assistant)** - 1\n"
   ]
  },
  {
   "cell_type": "markdown",
   "id": "976d3187",
   "metadata": {},
   "source": [
    "# Conversation"
   ]
  },
  {
   "cell_type": "markdown",
   "id": "cec1a824",
   "metadata": {},
   "source": [
    "**User**\n",
    "\n",
    "I'm trying to print the current date in the format 'YYYY-MM-DD', but I'm stuck. Here's what I have so far: `from datetime import datetime\n",
    "current_date = datetime.now()\n",
    "print(current_date)` Could you tweak it to display the date in the desired format?\n"
   ]
  }
 ],
 "metadata": {},
 "nbformat": 4,
 "nbformat_minor": 5
}
