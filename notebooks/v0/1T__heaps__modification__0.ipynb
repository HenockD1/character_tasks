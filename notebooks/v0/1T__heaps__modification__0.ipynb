{
 "cells": [
  {
   "cell_type": "markdown",
   "id": "eaab7013",
   "metadata": {},
   "source": [
    "# Metadata\n",
    "\n",
    "**Python Topics** - algorithms > by_data_structure > heaps\n",
    "\n",
    "**Type** - modification\n",
    "\n",
    "**Target Number of Turns (User + Assistant)** - 1\n"
   ]
  },
  {
   "cell_type": "markdown",
   "id": "71ae9287",
   "metadata": {},
   "source": [
    "# Conversation"
   ]
  },
  {
   "cell_type": "markdown",
   "id": "d3923ef6",
   "metadata": {},
   "source": [
    "**User**\n",
    "\n",
    "I've got a min-heap implementation here, but I need to convert it into a max-heap. Can you help me tweak the code? ```python\n",
    "import heapq\n",
    "\n",
    "min_heap = [1, 3, 5, 7, 9]\n",
    "heapq.heapify(min_heap) # creates a min-heap from a list\n",
    "```\n"
   ]
  }
 ],
 "metadata": {},
 "nbformat": 4,
 "nbformat_minor": 5
}
