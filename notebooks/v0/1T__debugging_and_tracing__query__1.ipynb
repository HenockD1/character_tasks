{
 "cells": [
  {
   "cell_type": "markdown",
   "id": "0dec97c8",
   "metadata": {},
   "source": [
    "# Metadata\n",
    "\n",
    "**Python Topics** - debugging_and_tracing\n",
    "\n",
    "**Type** - query\n",
    "\n",
    "**Target Number of Turns (User + Assistant)** - 1\n"
   ]
  },
  {
   "cell_type": "markdown",
   "id": "b5e47ee2",
   "metadata": {},
   "source": [
    "# Conversation"
   ]
  },
  {
   "cell_type": "markdown",
   "id": "43ceb2b2",
   "metadata": {},
   "source": [
    "**User**\n",
    "\n",
    "I suspect there's a memory leak in my Python script. Could you show me how to use a profiler to find it?\n"
   ]
  }
 ],
 "metadata": {},
 "nbformat": 4,
 "nbformat_minor": 5
}
