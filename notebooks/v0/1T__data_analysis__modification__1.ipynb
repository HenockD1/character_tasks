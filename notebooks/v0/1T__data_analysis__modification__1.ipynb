{
 "cells": [
  {
   "cell_type": "markdown",
   "id": "23ca9c97",
   "metadata": {},
   "source": [
    "# Metadata\n",
    "\n",
    "**Python Topics** - data_analysis\n",
    "\n",
    "**Type** - modification\n",
    "\n",
    "**Target Number of Turns (User + Assistant)** - 1\n"
   ]
  },
  {
   "cell_type": "markdown",
   "id": "4ec35a75",
   "metadata": {},
   "source": [
    "# Conversation"
   ]
  },
  {
   "cell_type": "markdown",
   "id": "247e0e40",
   "metadata": {},
   "source": [
    "**User**\n",
    "\n",
    "Hey, I need to filter out rows from my DataFrame 'data' where the 'age' column is greater than 50. Here's what I have so far: `data = pd.DataFrame({'name': ['Alice', 'Bob', 'Charlie'], 'age': [24, 58, 51]})`. Could you show me how to do that?\n"
   ]
  }
 ],
 "metadata": {},
 "nbformat": 4,
 "nbformat_minor": 5
}
