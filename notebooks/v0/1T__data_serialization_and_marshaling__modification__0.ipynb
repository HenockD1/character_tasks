{
 "cells": [
  {
   "cell_type": "markdown",
   "id": "824c1e68",
   "metadata": {},
   "source": [
    "# Metadata\n",
    "\n",
    "**Python Topics** - python_language_and_scripting > data_serialization_and_marshaling\n",
    "\n",
    "**Type** - modification\n",
    "\n",
    "**Target Number of Turns (User + Assistant)** - 1\n"
   ]
  },
  {
   "cell_type": "markdown",
   "id": "846c8ae9",
   "metadata": {},
   "source": [
    "# Conversation"
   ]
  },
  {
   "cell_type": "markdown",
   "id": "40443629",
   "metadata": {},
   "source": [
    "**User**\n",
    "\n",
    "Hey, I've got this dictionary I need to serialize into JSON. Could you tweak the code to do that? Here's what I've got so far: `data = {'name': 'John', 'age': 30, 'city': 'New York'}`.\n"
   ]
  }
 ],
 "metadata": {},
 "nbformat": 4,
 "nbformat_minor": 5
}
