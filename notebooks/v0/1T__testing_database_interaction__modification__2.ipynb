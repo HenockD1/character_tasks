{
 "cells": [
  {
   "cell_type": "markdown",
   "id": "ee03fe6e",
   "metadata": {},
   "source": [
    "# Metadata\n",
    "\n",
    "**Python Topics** - unit_testing_methodology > testing_database_interaction\n",
    "\n",
    "**Type** - modification\n",
    "\n",
    "**Target Number of Turns (User + Assistant)** - 1\n"
   ]
  },
  {
   "cell_type": "markdown",
   "id": "1958eb7d",
   "metadata": {},
   "source": [
    "# Conversation"
   ]
  },
  {
   "cell_type": "markdown",
   "id": "ba7673a0",
   "metadata": {},
   "source": [
    "**User**\n",
    "\n",
    "I need to test a query function in my app, but I want to avoid hitting the actual database. Can you update the following code to use a fixture that provides a fake database connection? ```def test_query_function(): db = get_database_connection() result = db.query('SELECT * FROM users') assert len(result) > 0```\n"
   ]
  }
 ],
 "metadata": {},
 "nbformat": 4,
 "nbformat_minor": 5
}
