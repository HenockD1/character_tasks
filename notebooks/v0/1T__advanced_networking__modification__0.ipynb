{
 "cells": [
  {
   "cell_type": "markdown",
   "id": "833f8f2d",
   "metadata": {},
   "source": [
    "# Metadata\n",
    "\n",
    "**Python Topics** - python_language_and_scripting > advanced_networking\n",
    "\n",
    "**Type** - modification\n",
    "\n",
    "**Target Number of Turns (User + Assistant)** - 1\n"
   ]
  },
  {
   "cell_type": "markdown",
   "id": "84a63c32",
   "metadata": {},
   "source": [
    "# Conversation"
   ]
  },
  {
   "cell_type": "markdown",
   "id": "2de29d1f",
   "metadata": {},
   "source": [
    "**User**\n",
    "\n",
    "Hey, I've got this snippet that uses the socket library to create a simple server, but I want to modify it to handle multiple clients using threading. Can you help me with that? Here's the code:\n",
    "```python\n",
    "import socket\n",
    "\n",
    "s = socket.socket(socket.AF_INET, socket.SOCK_STREAM)\n",
    "s.bind(('localhost', 12345))\n",
    "s.listen(5)\n",
    "while True:\n",
    "    clientsocket, address = s.accept()\n",
    "    print(f'Connection from {address} has been established!')\n",
    "    clientsocket.send(bytes('Welcome to the server!', 'utf-8'))\n",
    "    clientsocket.close()\n",
    "```\n"
   ]
  }
 ],
 "metadata": {},
 "nbformat": 4,
 "nbformat_minor": 5
}
