{
 "cells": [
  {
   "cell_type": "markdown",
   "id": "3345cbe3",
   "metadata": {},
   "source": [
    "# Metadata\n",
    "\n",
    "**Python Topics** - algorithms > by_topic > sliding_window\n",
    "\n",
    "**Type** - modification\n",
    "\n",
    "**Target Number of Turns (User + Assistant)** - 1\n"
   ]
  },
  {
   "cell_type": "markdown",
   "id": "f409d0ab",
   "metadata": {},
   "source": [
    "# Conversation"
   ]
  },
  {
   "cell_type": "markdown",
   "id": "d6ef75aa",
   "metadata": {},
   "source": [
    "**User**\n",
    "\n",
    "I need to modify this code that finds the length of the longest substring with no more than 'k' distinct characters. It's currently brute-forcing through all possible substrings, and I'd like to use a sliding window approach to make it more efficient. Here's the code: ```def longest_substring_with_k_distinct(str1, k): longest_length = 0 for i in range(len(str1)): distinct_count = 0 char_frequency = {} for j in range(i, len(str1)): if str1[j] not in char_frequency: distinct_count += 1 if distinct_count > k: break char_frequency[str1[j]] = char_frequency.get(str1[j], 0) + 1 longest_length = max(longest_length, j - i + 1) return longest_length```\n"
   ]
  }
 ],
 "metadata": {},
 "nbformat": 4,
 "nbformat_minor": 5
}
