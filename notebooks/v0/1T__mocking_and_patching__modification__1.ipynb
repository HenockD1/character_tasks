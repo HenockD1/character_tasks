{
 "cells": [
  {
   "cell_type": "markdown",
   "id": "5a6ae65d",
   "metadata": {},
   "source": [
    "# Metadata\n",
    "\n",
    "**Python Topics** - unit_testing_methodology > mocking_and_patching\n",
    "\n",
    "**Type** - modification\n",
    "\n",
    "**Target Number of Turns (User + Assistant)** - 1\n"
   ]
  },
  {
   "cell_type": "markdown",
   "id": "6b7f8d8b",
   "metadata": {},
   "source": [
    "# Conversation"
   ]
  },
  {
   "cell_type": "markdown",
   "id": "cfd1d4b0",
   "metadata": {},
   "source": [
    "**User**\n",
    "\n",
    "I'm trying to patch a third-party API call in my application during testing to avoid hitting the actual service. Can you show me how to use 'unittest.mock.patch' to replace 'requests.get' with a mock that returns a custom response? Here's what I have so far:\n",
    "```python\n",
    "import requests\n",
    "\n",
    "def get_user_data(user_id):\n",
    "    response = requests.get(f'https://api.example.com/users/{user_id}')\n",
    "    return response.json()\n",
    "\n",
    "def test_get_user_data():\n",
    "    # Need to patch requests.get here\n",
    "    pass\n",
    "```\n"
   ]
  }
 ],
 "metadata": {},
 "nbformat": 4,
 "nbformat_minor": 5
}
