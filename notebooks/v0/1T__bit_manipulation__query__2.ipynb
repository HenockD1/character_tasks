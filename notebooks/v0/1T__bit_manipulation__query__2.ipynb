{
 "cells": [
  {
   "cell_type": "markdown",
   "id": "9b0d6b6b",
   "metadata": {},
   "source": [
    "# Metadata\n",
    "\n",
    "**Python Topics** - algorithms > by_topic > bit_manipulation\n",
    "\n",
    "**Type** - query\n",
    "\n",
    "**Target Number of Turns (User + Assistant)** - 1\n"
   ]
  },
  {
   "cell_type": "markdown",
   "id": "c331e041",
   "metadata": {},
   "source": [
    "# Conversation"
   ]
  },
  {
   "cell_type": "markdown",
   "id": "74c88893",
   "metadata": {},
   "source": [
    "**User**\n",
    "\n",
    "How do I check if a number is a power of two using bitwise operators in Python?\n"
   ]
  }
 ],
 "metadata": {},
 "nbformat": 4,
 "nbformat_minor": 5
}
