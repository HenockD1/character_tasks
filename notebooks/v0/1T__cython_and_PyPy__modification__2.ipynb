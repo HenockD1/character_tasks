{
 "cells": [
  {
   "cell_type": "markdown",
   "id": "44bedd30",
   "metadata": {},
   "source": [
    "# Metadata\n",
    "\n",
    "**Python Topics** - python_language_and_scripting > cython_and_PyPy\n",
    "\n",
    "**Type** - modification\n",
    "\n",
    "**Target Number of Turns (User + Assistant)** - 1\n"
   ]
  },
  {
   "cell_type": "markdown",
   "id": "d405e4b6",
   "metadata": {},
   "source": [
    "# Conversation"
   ]
  },
  {
   "cell_type": "markdown",
   "id": "90eb8b04",
   "metadata": {},
   "source": [
    "**User**\n",
    "\n",
    "I've written a Cython extension to speed up my Python code, but I'm not sure if I've done it correctly. Can you take a look at the code below and adjust it to properly utilize Cython's capabilities?\n",
    "```python\n",
    "#cython: language_level=3\n",
    "\n",
    "def c_fib(int n):\n",
    "    cdef int a = 0\n",
    "    cdef int b = 1\n",
    "    for i in range(n):\n",
    "        a, b = b, a + b\n",
    "    return a\n",
    "```\n"
   ]
  }
 ],
 "metadata": {},
 "nbformat": 4,
 "nbformat_minor": 5
}
