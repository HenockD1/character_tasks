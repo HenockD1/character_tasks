{
 "cells": [
  {
   "cell_type": "markdown",
   "id": "93400872",
   "metadata": {},
   "source": [
    "# Metadata\n",
    "\n",
    "**Python Topics** - algorithms > by_data_structure > linked_lists\n",
    "\n",
    "**Type** - modification\n",
    "\n",
    "**Target Number of Turns (User + Assistant)** - 1\n"
   ]
  },
  {
   "cell_type": "markdown",
   "id": "029af8b5",
   "metadata": {},
   "source": [
    "# Conversation"
   ]
  },
  {
   "cell_type": "markdown",
   "id": "b3dac9e8",
   "metadata": {},
   "source": [
    "**User**\n",
    "\n",
    "Hey, I've got this function for reversing a singly linked list. Can you tweak it to reverse the list in-place without using any extra space? Here's the current code: ```def reverse_linked_list(head): new_head = None while head: next_node = head.next head.next = new_head new_head = head head = next_node return new_head```\n"
   ]
  }
 ],
 "metadata": {},
 "nbformat": 4,
 "nbformat_minor": 5
}
