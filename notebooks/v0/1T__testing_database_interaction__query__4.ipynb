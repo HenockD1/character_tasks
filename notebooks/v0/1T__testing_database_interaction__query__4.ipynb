{
 "cells": [
  {
   "cell_type": "markdown",
   "id": "406ff5ca",
   "metadata": {},
   "source": [
    "# Metadata\n",
    "\n",
    "**Python Topics** - unit_testing_methodology > testing_database_interaction\n",
    "\n",
    "**Type** - query\n",
    "\n",
    "**Target Number of Turns (User + Assistant)** - 1\n"
   ]
  },
  {
   "cell_type": "markdown",
   "id": "368f6f81",
   "metadata": {},
   "source": [
    "# Conversation"
   ]
  },
  {
   "cell_type": "markdown",
   "id": "e16cbc08",
   "metadata": {},
   "source": [
    "**User**\n",
    "\n",
    "What techniques are available for isolating database interactions in unit tests?\n"
   ]
  }
 ],
 "metadata": {},
 "nbformat": 4,
 "nbformat_minor": 5
}
