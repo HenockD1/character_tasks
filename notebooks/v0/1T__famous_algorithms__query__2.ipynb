{
 "cells": [
  {
   "cell_type": "markdown",
   "id": "6c9355e8",
   "metadata": {},
   "source": [
    "# Metadata\n",
    "\n",
    "**Python Topics** - algorithms > by_topic > famous_algorithms\n",
    "\n",
    "**Type** - query\n",
    "\n",
    "**Target Number of Turns (User + Assistant)** - 1\n"
   ]
  },
  {
   "cell_type": "markdown",
   "id": "3e3382ce",
   "metadata": {},
   "source": [
    "# Conversation"
   ]
  },
  {
   "cell_type": "markdown",
   "id": "48454551",
   "metadata": {},
   "source": [
    "**User**\n",
    "\n",
    "How would I write Dijkstra's algorithm in Python for finding the shortest path?\n"
   ]
  }
 ],
 "metadata": {},
 "nbformat": 4,
 "nbformat_minor": 5
}
