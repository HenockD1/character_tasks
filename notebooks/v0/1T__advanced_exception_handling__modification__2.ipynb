{
 "cells": [
  {
   "cell_type": "markdown",
   "id": "0174856e",
   "metadata": {},
   "source": [
    "# Metadata\n",
    "\n",
    "**Python Topics** - python_language_and_scripting > advanced_exception_handling\n",
    "\n",
    "**Type** - modification\n",
    "\n",
    "**Target Number of Turns (User + Assistant)** - 1\n"
   ]
  },
  {
   "cell_type": "markdown",
   "id": "5bdcdfd9",
   "metadata": {},
   "source": [
    "# Conversation"
   ]
  },
  {
   "cell_type": "markdown",
   "id": "26bb5054",
   "metadata": {},
   "source": [
    "**User**\n",
    "\n",
    "I need to add a custom exception to my script for when a certain condition is met. Can you modify the following code to raise a `CustomError` with a message 'Invalid condition' when `condition` is `False`? Here's the initial code: \n",
    "```python\n",
    "class CustomError(Exception):\n",
    "    pass\n",
    "\n",
    "def check_condition(condition):\n",
    "    if not condition:\n",
    "        # Need to raise CustomError here\n",
    "        pass\n",
    "```\n"
   ]
  }
 ],
 "metadata": {},
 "nbformat": 4,
 "nbformat_minor": 5
}
