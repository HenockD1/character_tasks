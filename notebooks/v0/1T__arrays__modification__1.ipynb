{
 "cells": [
  {
   "cell_type": "markdown",
   "id": "fc542fd4",
   "metadata": {},
   "source": [
    "# Metadata\n",
    "\n",
    "**Python Topics** - algorithms > by_data_structure > arrays\n",
    "\n",
    "**Type** - modification\n",
    "\n",
    "**Target Number of Turns (User + Assistant)** - 1\n"
   ]
  },
  {
   "cell_type": "markdown",
   "id": "63e8c8cf",
   "metadata": {},
   "source": [
    "# Conversation"
   ]
  },
  {
   "cell_type": "markdown",
   "id": "85f09df3",
   "metadata": {},
   "source": [
    "**User**\n",
    "\n",
    "I'm trying to reverse an array in-place, but it's not working as expected. Here's my code snippet: arr = [10, 20, 30, 40, 50]. Can you modify it to correctly reverse the array without using additional space?\n"
   ]
  }
 ],
 "metadata": {},
 "nbformat": 4,
 "nbformat_minor": 5
}
