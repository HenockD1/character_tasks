{
 "cells": [
  {
   "cell_type": "markdown",
   "id": "c04a44f6",
   "metadata": {},
   "source": [
    "# Metadata\n",
    "\n",
    "**Python Topics** - unit_testing_methodology > security_testing\n",
    "\n",
    "**Type** - modification\n",
    "\n",
    "**Target Number of Turns (User + Assistant)** - 1\n"
   ]
  },
  {
   "cell_type": "markdown",
   "id": "0321a56a",
   "metadata": {},
   "source": [
    "# Conversation"
   ]
  },
  {
   "cell_type": "markdown",
   "id": "cd07c7a5",
   "metadata": {},
   "source": [
    "**User**\n",
    "\n",
    "I need to make sure my login function is secure against SQL injection. Could you modify this test case to simulate an injection attack? Here's the current test: ```def test_login(): assert login('admin', 'password123') == True```\n"
   ]
  }
 ],
 "metadata": {},
 "nbformat": 4,
 "nbformat_minor": 5
}
