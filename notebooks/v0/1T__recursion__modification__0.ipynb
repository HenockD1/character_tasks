{
 "cells": [
  {
   "cell_type": "markdown",
   "id": "5847b6d2",
   "metadata": {},
   "source": [
    "# Metadata\n",
    "\n",
    "**Python Topics** - algorithms > by_topic > recursion\n",
    "\n",
    "**Type** - modification\n",
    "\n",
    "**Target Number of Turns (User + Assistant)** - 1\n"
   ]
  },
  {
   "cell_type": "markdown",
   "id": "1f01aff8",
   "metadata": {},
   "source": [
    "# Conversation"
   ]
  },
  {
   "cell_type": "markdown",
   "id": "91a56c08",
   "metadata": {},
   "source": [
    "**User**\n",
    "\n",
    "I've got this recursive function for calculating factorial, but I'd like to add memoization to improve its efficiency. Can you help me modify it? Here's the code: def factorial(n): return 1 if n == 0 else n * factorial(n-1)\n"
   ]
  }
 ],
 "metadata": {},
 "nbformat": 4,
 "nbformat_minor": 5
}
