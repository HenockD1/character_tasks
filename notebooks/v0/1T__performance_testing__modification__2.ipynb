{
 "cells": [
  {
   "cell_type": "markdown",
   "id": "84697e5e",
   "metadata": {},
   "source": [
    "# Metadata\n",
    "\n",
    "**Python Topics** - unit_testing_methodology > performance_testing\n",
    "\n",
    "**Type** - modification\n",
    "\n",
    "**Target Number of Turns (User + Assistant)** - 1\n"
   ]
  },
  {
   "cell_type": "markdown",
   "id": "4d4bd9ec",
   "metadata": {},
   "source": [
    "# Conversation"
   ]
  },
  {
   "cell_type": "markdown",
   "id": "792401e3",
   "metadata": {},
   "source": [
    "**User**\n",
    "\n",
    "I need to run a performance test multiple times and get the average duration. Can you tweak this code to execute the `data_processing` function 100 times and print out the average time taken? `from time import time; start_time = time(); data_processing(); print(f'Elapsed time: {time() - start_time}')`\n"
   ]
  }
 ],
 "metadata": {},
 "nbformat": 4,
 "nbformat_minor": 5
}
