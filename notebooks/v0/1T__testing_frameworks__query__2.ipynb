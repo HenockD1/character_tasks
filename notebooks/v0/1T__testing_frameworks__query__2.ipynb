{
 "cells": [
  {
   "cell_type": "markdown",
   "id": "3131aabe",
   "metadata": {},
   "source": [
    "# Metadata\n",
    "\n",
    "**Python Topics** - unit_testing_methodology > testing_frameworks\n",
    "\n",
    "**Type** - query\n",
    "\n",
    "**Target Number of Turns (User + Assistant)** - 1\n"
   ]
  },
  {
   "cell_type": "markdown",
   "id": "bb30845c",
   "metadata": {},
   "source": [
    "# Conversation"
   ]
  },
  {
   "cell_type": "markdown",
   "id": "44f6b5ca",
   "metadata": {},
   "source": [
    "**User**\n",
    "\n",
    "What's the syntax for asserting exceptions in tests with unittest?\n"
   ]
  }
 ],
 "metadata": {},
 "nbformat": 4,
 "nbformat_minor": 5
}
