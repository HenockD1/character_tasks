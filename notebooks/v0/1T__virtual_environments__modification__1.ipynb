{
 "cells": [
  {
   "cell_type": "markdown",
   "id": "877fc685",
   "metadata": {},
   "source": [
    "# Metadata\n",
    "\n",
    "**Python Topics** - python_language_and_scripting > virtual_environments\n",
    "\n",
    "**Type** - modification\n",
    "\n",
    "**Target Number of Turns (User + Assistant)** - 1\n"
   ]
  },
  {
   "cell_type": "markdown",
   "id": "59b45278",
   "metadata": {},
   "source": [
    "# Conversation"
   ]
  },
  {
   "cell_type": "markdown",
   "id": "8cb83bdf",
   "metadata": {},
   "source": [
    "**User**\n",
    "\n",
    "I'm trying to activate a virtual environment in my script automatically, but it's not working. Here's what I have: `source myenv/bin/activate`. Could you adjust this so it works within a Python script?\n"
   ]
  }
 ],
 "metadata": {},
 "nbformat": 4,
 "nbformat_minor": 5
}
