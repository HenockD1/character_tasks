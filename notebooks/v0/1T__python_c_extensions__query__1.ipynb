{
 "cells": [
  {
   "cell_type": "markdown",
   "id": "7a3de45d",
   "metadata": {},
   "source": [
    "# Metadata\n",
    "\n",
    "**Python Topics** - python_language_and_scripting > python_c_extensions\n",
    "\n",
    "**Type** - query\n",
    "\n",
    "**Target Number of Turns (User + Assistant)** - 1\n"
   ]
  },
  {
   "cell_type": "markdown",
   "id": "4c34d127",
   "metadata": {},
   "source": [
    "# Conversation"
   ]
  },
  {
   "cell_type": "markdown",
   "id": "1f4c57da",
   "metadata": {},
   "source": [
    "**User**\n",
    "\n",
    "How do I compile a Python extension written in C for use with Python 3.x?\n"
   ]
  }
 ],
 "metadata": {},
 "nbformat": 4,
 "nbformat_minor": 5
}
