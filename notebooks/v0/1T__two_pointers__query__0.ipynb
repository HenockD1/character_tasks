{
 "cells": [
  {
   "cell_type": "markdown",
   "id": "b739581a",
   "metadata": {},
   "source": [
    "# Metadata\n",
    "\n",
    "**Python Topics** - algorithms > by_topic > two_pointers\n",
    "\n",
    "**Type** - query\n",
    "\n",
    "**Target Number of Turns (User + Assistant)** - 1\n"
   ]
  },
  {
   "cell_type": "markdown",
   "id": "d9a99227",
   "metadata": {},
   "source": [
    "# Conversation"
   ]
  },
  {
   "cell_type": "markdown",
   "id": "eb40d3a8",
   "metadata": {},
   "source": [
    "**User**\n",
    "\n",
    "Can you show me how to use the two-pointer technique to find a pair in an array that sums up to a specific value?\n"
   ]
  }
 ],
 "metadata": {},
 "nbformat": 4,
 "nbformat_minor": 5
}
