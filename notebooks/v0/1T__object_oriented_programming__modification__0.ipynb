{
 "cells": [
  {
   "cell_type": "markdown",
   "id": "33d2a56d",
   "metadata": {},
   "source": [
    "# Metadata\n",
    "\n",
    "**Python Topics** - python_language_and_scripting > object_oriented_programming\n",
    "\n",
    "**Type** - modification\n",
    "\n",
    "**Target Number of Turns (User + Assistant)** - 1\n"
   ]
  },
  {
   "cell_type": "markdown",
   "id": "955e714d",
   "metadata": {},
   "source": [
    "# Conversation"
   ]
  },
  {
   "cell_type": "markdown",
   "id": "bff36868",
   "metadata": {},
   "source": [
    "**User**\n",
    "\n",
    "Hey, I've got this class 'Dog' with a method 'speak' that prints 'Woof!'. Could you add another method 'sit' that prints 'Sitting' when called? Here's the class:\n",
    "```python\n",
    "class Dog:\n",
    "    def speak(self):\n",
    "        print('Woof!')\n",
    "```\n"
   ]
  }
 ],
 "metadata": {},
 "nbformat": 4,
 "nbformat_minor": 5
}
