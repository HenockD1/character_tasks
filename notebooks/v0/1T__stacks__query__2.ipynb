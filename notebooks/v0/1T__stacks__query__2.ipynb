{
 "cells": [
  {
   "cell_type": "markdown",
   "id": "6a8def66",
   "metadata": {},
   "source": [
    "# Metadata\n",
    "\n",
    "**Python Topics** - algorithms > by_data_structure > stacks\n",
    "\n",
    "**Type** - query\n",
    "\n",
    "**Target Number of Turns (User + Assistant)** - 1\n"
   ]
  },
  {
   "cell_type": "markdown",
   "id": "90889749",
   "metadata": {},
   "source": [
    "# Conversation"
   ]
  },
  {
   "cell_type": "markdown",
   "id": "39a1c120",
   "metadata": {},
   "source": [
    "**User**\n",
    "\n",
    "How would you reverse a string using a stack in Python?\n"
   ]
  }
 ],
 "metadata": {},
 "nbformat": 4,
 "nbformat_minor": 5
}
