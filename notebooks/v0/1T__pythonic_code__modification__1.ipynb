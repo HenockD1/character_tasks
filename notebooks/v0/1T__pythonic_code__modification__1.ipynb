{
 "cells": [
  {
   "cell_type": "markdown",
   "id": "f3651bec",
   "metadata": {},
   "source": [
    "# Metadata\n",
    "\n",
    "**Python Topics** - python_language_and_scripting > pythonic_code\n",
    "\n",
    "**Type** - modification\n",
    "\n",
    "**Target Number of Turns (User + Assistant)** - 1\n"
   ]
  },
  {
   "cell_type": "markdown",
   "id": "ad2413c7",
   "metadata": {},
   "source": [
    "# Conversation"
   ]
  },
  {
   "cell_type": "markdown",
   "id": "b37144ef",
   "metadata": {},
   "source": [
    "**User**\n",
    "\n",
    "I've got a function that's supposed to return the square of a number, but it's not very Pythonic. Could you rewrite it using a lambda? Here's the current code: def square(num): return num * num.\n"
   ]
  }
 ],
 "metadata": {},
 "nbformat": 4,
 "nbformat_minor": 5
}
