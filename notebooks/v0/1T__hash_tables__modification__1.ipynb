{
 "cells": [
  {
   "cell_type": "markdown",
   "id": "976721df",
   "metadata": {},
   "source": [
    "# Metadata\n",
    "\n",
    "**Python Topics** - algorithms > by_data_structure > hash_tables\n",
    "\n",
    "**Type** - modification\n",
    "\n",
    "**Target Number of Turns (User + Assistant)** - 1\n"
   ]
  },
  {
   "cell_type": "markdown",
   "id": "687a2319",
   "metadata": {},
   "source": [
    "# Conversation"
   ]
  },
  {
   "cell_type": "markdown",
   "id": "3f84e354",
   "metadata": {},
   "source": [
    "**User**\n",
    "\n",
    "I'm trying to count the occurrences of each character in a string using a hash table. Here's what I've started with: `from collections import defaultdict\n",
    "char_count = defaultdict(int)\n",
    "for char in 'hello world':\n",
    "    char_count[char] += 1` Can you modify it to skip whitespace characters?\n"
   ]
  }
 ],
 "metadata": {},
 "nbformat": 4,
 "nbformat_minor": 5
}
