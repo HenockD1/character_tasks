{
 "cells": [
  {
   "cell_type": "markdown",
   "id": "bfdb880c",
   "metadata": {},
   "source": [
    "# Metadata\n",
    "\n",
    "**Python Topics** - algorithms > by_data_structure > trees\n",
    "\n",
    "**Type** - modification\n",
    "\n",
    "**Target Number of Turns (User + Assistant)** - 1\n"
   ]
  },
  {
   "cell_type": "markdown",
   "id": "404ea7d6",
   "metadata": {},
   "source": [
    "# Conversation"
   ]
  },
  {
   "cell_type": "markdown",
   "id": "936ad379",
   "metadata": {},
   "source": [
    "**User**\n",
    "\n",
    "Hey, I've got this function for in-order traversal of a binary tree, but I need to modify it to print the values as it traverses. Can you help me add that? Here's the code: def in_order_traversal(root): if root: in_order_traversal(root.left) in_order_traversal(root.right)\n"
   ]
  }
 ],
 "metadata": {},
 "nbformat": 4,
 "nbformat_minor": 5
}
