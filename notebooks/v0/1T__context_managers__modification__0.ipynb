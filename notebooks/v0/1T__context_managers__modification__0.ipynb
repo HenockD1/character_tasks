{
 "cells": [
  {
   "cell_type": "markdown",
   "id": "c0827835",
   "metadata": {},
   "source": [
    "# Metadata\n",
    "\n",
    "**Python Topics** - python_language_and_scripting > context_managers\n",
    "\n",
    "**Type** - modification\n",
    "\n",
    "**Target Number of Turns (User + Assistant)** - 1\n"
   ]
  },
  {
   "cell_type": "markdown",
   "id": "a449461e",
   "metadata": {},
   "source": [
    "# Conversation"
   ]
  },
  {
   "cell_type": "markdown",
   "id": "9a965368",
   "metadata": {},
   "source": [
    "**User**\n",
    "\n",
    "Hey, I've got this function that opens a file and writes to it, but I forgot to use a context manager. Can you refactor it to include one? Here's the code: \n",
    "```python\n",
    "def write_to_file(file_name, data):\n",
    "    f = open(file_name, 'w')\n",
    "    f.write(data)\n",
    "    f.close()\n",
    "```\n"
   ]
  }
 ],
 "metadata": {},
 "nbformat": 4,
 "nbformat_minor": 5
}
