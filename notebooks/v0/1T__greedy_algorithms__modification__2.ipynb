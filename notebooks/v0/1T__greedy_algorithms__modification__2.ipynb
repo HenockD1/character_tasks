{
 "cells": [
  {
   "cell_type": "markdown",
   "id": "65164245",
   "metadata": {},
   "source": [
    "# Metadata\n",
    "\n",
    "**Python Topics** - algorithms > by_topic > greedy_algorithms\n",
    "\n",
    "**Type** - modification\n",
    "\n",
    "**Target Number of Turns (User + Assistant)** - 1\n"
   ]
  },
  {
   "cell_type": "markdown",
   "id": "9c5adbc2",
   "metadata": {},
   "source": [
    "# Conversation"
   ]
  },
  {
   "cell_type": "markdown",
   "id": "1f6b2710",
   "metadata": {},
   "source": [
    "**User**\n",
    "\n",
    "Could you help me refactor this greedy algorithm that's supposed to find the minimum number of platforms needed at a railway station to avoid any delay in arrival of any train? I'd like it to also return the schedule of trains (as pairs of arrival and departure times) for each platform. Here's the current code: ```python def findPlatform(arrival, departure): arrival.sort() departure.sort() plat_needed = 1 result = 1 i = 1 j = 0 while i < len(arrival) and j < len(departure): if arrival[i] <= departure[j]: plat_needed += 1 i += 1 else: plat_needed -= 1 j += 1 if plat_needed > result: result = plat_needed return result ```\n"
   ]
  }
 ],
 "metadata": {},
 "nbformat": 4,
 "nbformat_minor": 5
}
