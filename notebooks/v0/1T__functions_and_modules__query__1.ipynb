{
 "cells": [
  {
   "cell_type": "markdown",
   "id": "e3474650",
   "metadata": {},
   "source": [
    "# Metadata\n",
    "\n",
    "**Python Topics** - python_language_and_scripting > functions_and_modules\n",
    "\n",
    "**Type** - query\n",
    "\n",
    "**Target Number of Turns (User + Assistant)** - 1\n"
   ]
  },
  {
   "cell_type": "markdown",
   "id": "109db167",
   "metadata": {},
   "source": [
    "# Conversation"
   ]
  },
  {
   "cell_type": "markdown",
   "id": "0019f642",
   "metadata": {},
   "source": [
    "**User**\n",
    "\n",
    "What's the proper way to import a specific function from a module in Python?\n"
   ]
  }
 ],
 "metadata": {},
 "nbformat": 4,
 "nbformat_minor": 5
}
