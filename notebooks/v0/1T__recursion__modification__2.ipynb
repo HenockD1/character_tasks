{
 "cells": [
  {
   "cell_type": "markdown",
   "id": "52623fc3",
   "metadata": {},
   "source": [
    "# Metadata\n",
    "\n",
    "**Python Topics** - algorithms > by_topic > recursion\n",
    "\n",
    "**Type** - modification\n",
    "\n",
    "**Target Number of Turns (User + Assistant)** - 1\n"
   ]
  },
  {
   "cell_type": "markdown",
   "id": "72453e7f",
   "metadata": {},
   "source": [
    "# Conversation"
   ]
  },
  {
   "cell_type": "markdown",
   "id": "f792dc5e",
   "metadata": {},
   "source": [
    "**User**\n",
    "\n",
    "I need to modify this recursive binary search function to return the index of the target if it's found, and -1 if it's not. Here's the current code: def binary_search(arr, low, high, target): if high >= low: mid = (high + low) // 2 if arr[mid] == target: return mid elif arr[mid] > target: return binary_search(arr, low, mid - 1, target) else: return binary_search(arr, mid + 1, high, target) else: return None\n"
   ]
  }
 ],
 "metadata": {},
 "nbformat": 4,
 "nbformat_minor": 5
}
