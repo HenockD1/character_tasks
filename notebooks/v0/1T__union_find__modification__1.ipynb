{
 "cells": [
  {
   "cell_type": "markdown",
   "id": "b6377af6",
   "metadata": {},
   "source": [
    "# Metadata\n",
    "\n",
    "**Python Topics** - algorithms > by_topic > union_find\n",
    "\n",
    "**Type** - modification\n",
    "\n",
    "**Target Number of Turns (User + Assistant)** - 1\n"
   ]
  },
  {
   "cell_type": "markdown",
   "id": "2284b938",
   "metadata": {},
   "source": [
    "# Conversation"
   ]
  },
  {
   "cell_type": "markdown",
   "id": "461db7ff",
   "metadata": {},
   "source": [
    "**User**\n",
    "\n",
    "I'm working on a union-find structure and I've implemented the union by rank feature. However, I'm not sure if I did it correctly. Could you review my code and correct it if necessary? Here's what I have so far: \n",
    "\n",
    "```python\n",
    "class UnionFind:\n",
    "    def __init__(self, size):\n",
    "        self.root = [i for i in range(size)]\n",
    "        self.rank = [1] * size\n",
    "\n",
    "    def find(self, x):\n",
    "        if x == self.root[x]:\n",
    "            return x\n",
    "        return self.find(self.root[x])\n",
    "\n",
    "    def union(self, x, y):\n",
    "        rootX = self.find(x)\n",
    "        rootY = self.find(y)\n",
    "        if rootX != rootY:\n",
    "            if self.rank[rootX] > self.rank[rootY]:\n",
    "                self.root[rootY] = rootX\n",
    "            else:\n",
    "                self.root[rootX] = rootY\n",
    "                if self.rank[rootX] == self.rank[rootY]:\n",
    "                    self.rank[rootY] += 1\n",
    "```\n",
    "\n"
   ]
  }
 ],
 "metadata": {},
 "nbformat": 4,
 "nbformat_minor": 5
}
