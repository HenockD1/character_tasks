{
 "cells": [
  {
   "cell_type": "markdown",
   "id": "32413feb",
   "metadata": {},
   "source": [
    "# Metadata\n",
    "\n",
    "**Python Topics** - python_language_and_scripting > advanced_exception_handling\n",
    "\n",
    "**Type** - query\n",
    "\n",
    "**Target Number of Turns (User + Assistant)** - 1\n"
   ]
  },
  {
   "cell_type": "markdown",
   "id": "9d3ac65c",
   "metadata": {},
   "source": [
    "# Conversation"
   ]
  },
  {
   "cell_type": "markdown",
   "id": "73ce52a3",
   "metadata": {},
   "source": [
    "**User**\n",
    "\n",
    "In Python, how can I re-raise an exception with additional context?\n"
   ]
  }
 ],
 "metadata": {},
 "nbformat": 4,
 "nbformat_minor": 5
}
