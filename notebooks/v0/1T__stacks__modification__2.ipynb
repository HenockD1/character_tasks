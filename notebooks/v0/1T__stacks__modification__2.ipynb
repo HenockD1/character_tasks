{
 "cells": [
  {
   "cell_type": "markdown",
   "id": "d46f04f6",
   "metadata": {},
   "source": [
    "# Metadata\n",
    "\n",
    "**Python Topics** - algorithms > by_data_structure > stacks\n",
    "\n",
    "**Type** - modification\n",
    "\n",
    "**Target Number of Turns (User + Assistant)** - 1\n"
   ]
  },
  {
   "cell_type": "markdown",
   "id": "a5cc9a83",
   "metadata": {},
   "source": [
    "# Conversation"
   ]
  },
  {
   "cell_type": "markdown",
   "id": "4354548a",
   "metadata": {},
   "source": [
    "**User**\n",
    "\n",
    "I need to modify this stack class to ensure it only accepts integers. Can you tweak the push method to raise a TypeError if a non-integer is pushed? Here's the current code:\n",
    "```python\n",
    "class Stack:\n",
    "    def __init__(self):\n",
    "        self.elements = []\n",
    "\n",
    "    def push(self, item):\n",
    "        self.elements.append(item)\n",
    "\n",
    "    def pop(self):\n",
    "        if self.elements:\n",
    "            return self.elements.pop()\n",
    "        else:\n",
    "            raise IndexError('pop from an empty stack')\n",
    "```\n",
    "\n"
   ]
  }
 ],
 "metadata": {},
 "nbformat": 4,
 "nbformat_minor": 5
}
