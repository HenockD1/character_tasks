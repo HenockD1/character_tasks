{
 "cells": [
  {
   "cell_type": "markdown",
   "id": "0323e044",
   "metadata": {},
   "source": [
    "# Metadata\n",
    "\n",
    "**Python Topics** - python_language_and_scripting > advanced_networking\n",
    "\n",
    "**Type** - modification\n",
    "\n",
    "**Target Number of Turns (User + Assistant)** - 1\n"
   ]
  },
  {
   "cell_type": "markdown",
   "id": "3fa737c6",
   "metadata": {},
   "source": [
    "# Conversation"
   ]
  },
  {
   "cell_type": "markdown",
   "id": "84b265f3",
   "metadata": {},
   "source": [
    "**User**\n",
    "\n",
    "I need to add SSL encryption to my existing socket server code. Could you show me how to integrate SSL into this code to secure the communication?\n",
    "```python\n",
    "import socket\n",
    "\n",
    "server_socket = socket.socket(socket.AF_INET, socket.SOCK_STREAM)\n",
    "server_socket.bind(('0.0.0.0', 8090))\n",
    "server_socket.listen(5)\n",
    "print('Listening for connections on port 8090...')\n",
    "while True:\n",
    "    client_socket, client_address = server_socket.accept()\n",
    "    print(f'Accepted connection from {client_address}')\n",
    "    client_socket.sendall('Hello, this is the server speaking!'.encode('utf-8'))\n",
    "    client_socket.close()\n",
    "```\n"
   ]
  }
 ],
 "metadata": {},
 "nbformat": 4,
 "nbformat_minor": 5
}
