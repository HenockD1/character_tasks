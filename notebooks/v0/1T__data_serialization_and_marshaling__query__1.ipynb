{
 "cells": [
  {
   "cell_type": "markdown",
   "id": "4d9cc4a7",
   "metadata": {},
   "source": [
    "# Metadata\n",
    "\n",
    "**Python Topics** - python_language_and_scripting > data_serialization_and_marshaling\n",
    "\n",
    "**Type** - query\n",
    "\n",
    "**Target Number of Turns (User + Assistant)** - 1\n"
   ]
  },
  {
   "cell_type": "markdown",
   "id": "bce720e8",
   "metadata": {},
   "source": [
    "# Conversation"
   ]
  },
  {
   "cell_type": "markdown",
   "id": "3edb9fa8",
   "metadata": {},
   "source": [
    "**User**\n",
    "\n",
    "What's the Python code to deserialize a JSON file back into a Python object?\n"
   ]
  }
 ],
 "metadata": {},
 "nbformat": 4,
 "nbformat_minor": 5
}
