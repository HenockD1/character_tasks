{
 "cells": [
  {
   "cell_type": "markdown",
   "id": "2c7340b2",
   "metadata": {},
   "source": [
    "# Metadata\n",
    "\n",
    "**Python Topics** - algorithms > by_data_structure > heaps\n",
    "\n",
    "**Type** - query\n",
    "\n",
    "**Target Number of Turns (User + Assistant)** - 1\n"
   ]
  },
  {
   "cell_type": "markdown",
   "id": "166f661f",
   "metadata": {},
   "source": [
    "# Conversation"
   ]
  },
  {
   "cell_type": "markdown",
   "id": "527533cf",
   "metadata": {},
   "source": [
    "**User**\n",
    "\n",
    "I need an example of using a heap to find the k largest elements in an unsorted list. Can you provide that?\n"
   ]
  }
 ],
 "metadata": {},
 "nbformat": 4,
 "nbformat_minor": 5
}
