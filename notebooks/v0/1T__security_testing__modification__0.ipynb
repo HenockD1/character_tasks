{
 "cells": [
  {
   "cell_type": "markdown",
   "id": "34dba8f5",
   "metadata": {},
   "source": [
    "# Metadata\n",
    "\n",
    "**Python Topics** - unit_testing_methodology > security_testing\n",
    "\n",
    "**Type** - modification\n",
    "\n",
    "**Target Number of Turns (User + Assistant)** - 1\n"
   ]
  },
  {
   "cell_type": "markdown",
   "id": "dc92cac1",
   "metadata": {},
   "source": [
    "# Conversation"
   ]
  },
  {
   "cell_type": "markdown",
   "id": "e50572ee",
   "metadata": {},
   "source": [
    "**User**\n",
    "\n",
    "Hey, I've got this function for password strength validation. Can you help me write a unit test to ensure it rejects passwords shorter than 8 characters? Here's the function: ```def validate_password(password): return len(password) >= 8```\n"
   ]
  }
 ],
 "metadata": {},
 "nbformat": 4,
 "nbformat_minor": 5
}
