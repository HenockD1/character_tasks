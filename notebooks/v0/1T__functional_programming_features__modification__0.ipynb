{
 "cells": [
  {
   "cell_type": "markdown",
   "id": "fdb3e1ec",
   "metadata": {},
   "source": [
    "# Metadata\n",
    "\n",
    "**Python Topics** - python_language_and_scripting > functional_programming_features\n",
    "\n",
    "**Type** - modification\n",
    "\n",
    "**Target Number of Turns (User + Assistant)** - 1\n"
   ]
  },
  {
   "cell_type": "markdown",
   "id": "62c34a01",
   "metadata": {},
   "source": [
    "# Conversation"
   ]
  },
  {
   "cell_type": "markdown",
   "id": "0585fc5e",
   "metadata": {},
   "source": [
    "**User**\n",
    "\n",
    "Hey, I've got this list of numbers: nums = [1, 2, 3, 4, 5]. Could you help me use a lambda function to square each number and return a new list?\n"
   ]
  }
 ],
 "metadata": {},
 "nbformat": 4,
 "nbformat_minor": 5
}
