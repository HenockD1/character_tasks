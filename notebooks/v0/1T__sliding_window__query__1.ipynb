{
 "cells": [
  {
   "cell_type": "markdown",
   "id": "bec09e25",
   "metadata": {},
   "source": [
    "# Metadata\n",
    "\n",
    "**Python Topics** - algorithms > by_topic > sliding_window\n",
    "\n",
    "**Type** - query\n",
    "\n",
    "**Target Number of Turns (User + Assistant)** - 1\n"
   ]
  },
  {
   "cell_type": "markdown",
   "id": "8fed52f5",
   "metadata": {},
   "source": [
    "# Conversation"
   ]
  },
  {
   "cell_type": "markdown",
   "id": "3aa77a58",
   "metadata": {},
   "source": [
    "**User**\n",
    "\n",
    "What's the Python code for a sliding window technique to find the maximum sum of any contiguous subarray of size k?\n"
   ]
  }
 ],
 "metadata": {},
 "nbformat": 4,
 "nbformat_minor": 5
}
