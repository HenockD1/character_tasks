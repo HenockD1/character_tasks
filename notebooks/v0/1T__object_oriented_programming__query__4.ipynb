{
 "cells": [
  {
   "cell_type": "markdown",
   "id": "f7c82a1a",
   "metadata": {},
   "source": [
    "# Metadata\n",
    "\n",
    "**Python Topics** - python_language_and_scripting > object_oriented_programming\n",
    "\n",
    "**Type** - query\n",
    "\n",
    "**Target Number of Turns (User + Assistant)** - 1\n"
   ]
  },
  {
   "cell_type": "markdown",
   "id": "3022ba61",
   "metadata": {},
   "source": [
    "# Conversation"
   ]
  },
  {
   "cell_type": "markdown",
   "id": "81cef3cd",
   "metadata": {},
   "source": [
    "**User**\n",
    "\n",
    "In Python, how can I override a method in a subclass?\n"
   ]
  }
 ],
 "metadata": {},
 "nbformat": 4,
 "nbformat_minor": 5
}
