{
 "cells": [
  {
   "cell_type": "markdown",
   "id": "8e91d984",
   "metadata": {},
   "source": [
    "# Metadata\n",
    "\n",
    "**Python Topics** - unit_testing_methodology > performance_testing\n",
    "\n",
    "**Type** - query\n",
    "\n",
    "**Target Number of Turns (User + Assistant)** - 1\n"
   ]
  },
  {
   "cell_type": "markdown",
   "id": "aa90c54c",
   "metadata": {},
   "source": [
    "# Conversation"
   ]
  },
  {
   "cell_type": "markdown",
   "id": "793a6745",
   "metadata": {},
   "source": [
    "**User**\n",
    "\n",
    "How do I use cProfile to profile a Python script's performance? Can you give me a code example?\n"
   ]
  }
 ],
 "metadata": {},
 "nbformat": 4,
 "nbformat_minor": 5
}
