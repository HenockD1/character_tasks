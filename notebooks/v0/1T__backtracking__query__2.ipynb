{
 "cells": [
  {
   "cell_type": "markdown",
   "id": "790dc542",
   "metadata": {},
   "source": [
    "# Metadata\n",
    "\n",
    "**Python Topics** - algorithms > by_topic > backtracking\n",
    "\n",
    "**Type** - query\n",
    "\n",
    "**Target Number of Turns (User + Assistant)** - 1\n"
   ]
  },
  {
   "cell_type": "markdown",
   "id": "90db4eb0",
   "metadata": {},
   "source": [
    "# Conversation"
   ]
  },
  {
   "cell_type": "markdown",
   "id": "06d82366",
   "metadata": {},
   "source": [
    "**User**\n",
    "\n",
    "How would you write a Python function to generate all permutations of a list using backtracking?\n"
   ]
  }
 ],
 "metadata": {},
 "nbformat": 4,
 "nbformat_minor": 5
}
