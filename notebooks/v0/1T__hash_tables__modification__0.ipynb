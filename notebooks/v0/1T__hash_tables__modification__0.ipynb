{
 "cells": [
  {
   "cell_type": "markdown",
   "id": "f621a8df",
   "metadata": {},
   "source": [
    "# Metadata\n",
    "\n",
    "**Python Topics** - algorithms > by_data_structure > hash_tables\n",
    "\n",
    "**Type** - modification\n",
    "\n",
    "**Target Number of Turns (User + Assistant)** - 1\n"
   ]
  },
  {
   "cell_type": "markdown",
   "id": "f8ae929a",
   "metadata": {},
   "source": [
    "# Conversation"
   ]
  },
  {
   "cell_type": "markdown",
   "id": "113a72e3",
   "metadata": {},
   "source": [
    "**User**\n",
    "\n",
    "Hey, I've got this dictionary in Python and I want to invert the key-value pairs. Can you tweak it to swap the keys and values around? Here's the code: `my_dict = {'a': 1, 'b': 2, 'c': 3}`\n"
   ]
  }
 ],
 "metadata": {},
 "nbformat": 4,
 "nbformat_minor": 5
}
