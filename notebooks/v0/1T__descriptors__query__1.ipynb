{
 "cells": [
  {
   "cell_type": "markdown",
   "id": "ab94b5d1",
   "metadata": {},
   "source": [
    "# Metadata\n",
    "\n",
    "**Python Topics** - python_language_and_scripting > descriptors\n",
    "\n",
    "**Type** - query\n",
    "\n",
    "**Target Number of Turns (User + Assistant)** - 1\n"
   ]
  },
  {
   "cell_type": "markdown",
   "id": "810ed3f2",
   "metadata": {},
   "source": [
    "# Conversation"
   ]
  },
  {
   "cell_type": "markdown",
   "id": "e9b61a5a",
   "metadata": {},
   "source": [
    "**User**\n",
    "\n",
    "How do I use the __get__ and __set__ methods in a Python descriptor?\n"
   ]
  }
 ],
 "metadata": {},
 "nbformat": 4,
 "nbformat_minor": 5
}
