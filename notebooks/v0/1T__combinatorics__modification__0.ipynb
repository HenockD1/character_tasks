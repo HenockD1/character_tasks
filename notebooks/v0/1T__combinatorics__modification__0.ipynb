{
 "cells": [
  {
   "cell_type": "markdown",
   "id": "e258d98b",
   "metadata": {},
   "source": [
    "# Metadata\n",
    "\n",
    "**Python Topics** - algorithms > by_topic > combinatorics\n",
    "\n",
    "**Type** - modification\n",
    "\n",
    "**Target Number of Turns (User + Assistant)** - 1\n"
   ]
  },
  {
   "cell_type": "markdown",
   "id": "8d020866",
   "metadata": {},
   "source": [
    "# Conversation"
   ]
  },
  {
   "cell_type": "markdown",
   "id": "74ea8250",
   "metadata": {},
   "source": [
    "**User**\n",
    "\n",
    "Hey, I've got this function to calculate permutations, but I need to modify it to calculate combinations instead. Here's the code: `def permutations_count(n, k): return factorial(n) // factorial(n-k)`. Can you help me adjust it?\n"
   ]
  }
 ],
 "metadata": {},
 "nbformat": 4,
 "nbformat_minor": 5
}
