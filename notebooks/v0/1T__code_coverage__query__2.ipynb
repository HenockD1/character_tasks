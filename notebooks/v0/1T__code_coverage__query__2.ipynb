{
 "cells": [
  {
   "cell_type": "markdown",
   "id": "79d9d859",
   "metadata": {},
   "source": [
    "# Metadata\n",
    "\n",
    "**Python Topics** - unit_testing_methodology > code_coverage\n",
    "\n",
    "**Type** - query\n",
    "\n",
    "**Target Number of Turns (User + Assistant)** - 1\n"
   ]
  },
  {
   "cell_type": "markdown",
   "id": "daf04fea",
   "metadata": {},
   "source": [
    "# Conversation"
   ]
  },
  {
   "cell_type": "markdown",
   "id": "0eef468e",
   "metadata": {},
   "source": [
    "**User**\n",
    "\n",
    "How do I generate an HTML coverage report after running my unit tests in Python?\n"
   ]
  }
 ],
 "metadata": {},
 "nbformat": 4,
 "nbformat_minor": 5
}
