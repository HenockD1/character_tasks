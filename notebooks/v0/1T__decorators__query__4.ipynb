{
 "cells": [
  {
   "cell_type": "markdown",
   "id": "4cc034d4",
   "metadata": {},
   "source": [
    "# Metadata\n",
    "\n",
    "**Python Topics** - python_language_and_scripting > decorators\n",
    "\n",
    "**Type** - query\n",
    "\n",
    "**Target Number of Turns (User + Assistant)** - 1\n"
   ]
  },
  {
   "cell_type": "markdown",
   "id": "a6b2a246",
   "metadata": {},
   "source": [
    "# Conversation"
   ]
  },
  {
   "cell_type": "markdown",
   "id": "a12509e1",
   "metadata": {},
   "source": [
    "**User**\n",
    "\n",
    "I'm curious, how would you implement a decorator that retries a function if it raises an exception?\n"
   ]
  }
 ],
 "metadata": {},
 "nbformat": 4,
 "nbformat_minor": 5
}
