{
 "cells": [
  {
   "cell_type": "markdown",
   "id": "64d962ff",
   "metadata": {},
   "source": [
    "# Metadata\n",
    "\n",
    "**Python Topics** - algorithms > by_topic > math\n",
    "\n",
    "**Type** - modification\n",
    "\n",
    "**Target Number of Turns (User + Assistant)** - 1\n"
   ]
  },
  {
   "cell_type": "markdown",
   "id": "024416c1",
   "metadata": {},
   "source": [
    "# Conversation"
   ]
  },
  {
   "cell_type": "markdown",
   "id": "7211f447",
   "metadata": {},
   "source": [
    "**User**\n",
    "\n",
    "I'm trying to write a function that checks if a number is prime, but it's not very efficient. Could you modify it to reduce the number of iterations? Here's what I have so far: ```def is_prime(num): for i in range(2, num): if num % i == 0: return False return True```\n"
   ]
  }
 ],
 "metadata": {},
 "nbformat": 4,
 "nbformat_minor": 5
}
