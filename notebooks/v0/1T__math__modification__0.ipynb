{
 "cells": [
  {
   "cell_type": "markdown",
   "id": "a1717853",
   "metadata": {},
   "source": [
    "# Metadata\n",
    "\n",
    "**Python Topics** - algorithms > by_topic > math\n",
    "\n",
    "**Type** - modification\n",
    "\n",
    "**Target Number of Turns (User + Assistant)** - 1\n"
   ]
  },
  {
   "cell_type": "markdown",
   "id": "8f210a01",
   "metadata": {},
   "source": [
    "# Conversation"
   ]
  },
  {
   "cell_type": "markdown",
   "id": "a583e2d8",
   "metadata": {},
   "source": [
    "**User**\n",
    "\n",
    "Hey, I've got this function to calculate the factorial of a number, but I'd like to optimize it using memoization. Can you help me tweak it? Here's the code: ```def factorial(n): return 1 if n == 0 else n * factorial(n-1)```\n"
   ]
  }
 ],
 "metadata": {},
 "nbformat": 4,
 "nbformat_minor": 5
}
