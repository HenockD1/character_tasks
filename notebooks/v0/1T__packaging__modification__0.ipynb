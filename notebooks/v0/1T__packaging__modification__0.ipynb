{
 "cells": [
  {
   "cell_type": "markdown",
   "id": "a355d171",
   "metadata": {},
   "source": [
    "# Metadata\n",
    "\n",
    "**Python Topics** - python_language_and_scripting > packaging\n",
    "\n",
    "**Type** - modification\n",
    "\n",
    "**Target Number of Turns (User + Assistant)** - 1\n"
   ]
  },
  {
   "cell_type": "markdown",
   "id": "b0fa4c20",
   "metadata": {},
   "source": [
    "# Conversation"
   ]
  },
  {
   "cell_type": "markdown",
   "id": "a8999fa9",
   "metadata": {},
   "source": [
    "**User**\n",
    "\n",
    "Hey, I've got this setup.py for my package, but I want to specify a minimum Python version requirement. How do I add that? Here's the current setup call: setup(name='mypackage', version='0.1')\n"
   ]
  }
 ],
 "metadata": {},
 "nbformat": 4,
 "nbformat_minor": 5
}
