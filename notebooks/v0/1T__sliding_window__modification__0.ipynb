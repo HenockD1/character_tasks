{
 "cells": [
  {
   "cell_type": "markdown",
   "id": "32cae383",
   "metadata": {},
   "source": [
    "# Metadata\n",
    "\n",
    "**Python Topics** - algorithms > by_topic > sliding_window\n",
    "\n",
    "**Type** - modification\n",
    "\n",
    "**Target Number of Turns (User + Assistant)** - 1\n"
   ]
  },
  {
   "cell_type": "markdown",
   "id": "f867b3a1",
   "metadata": {},
   "source": [
    "# Conversation"
   ]
  },
  {
   "cell_type": "markdown",
   "id": "5a43484b",
   "metadata": {},
   "source": [
    "**User**\n",
    "\n",
    "Hey, I've got this function that's supposed to find the max sum of any contiguous subarray of size 'k', but it's not returning the correct result. Can you tweak it? Here's the code: ```def max_subarray_of_size_k(k, arr): max_sum, window_sum = 0, 0 for i in range(len(arr) - k + 1): window_sum = sum(arr[i:i+k]) max_sum = max(max_sum, window_sum) return max_sum```\n"
   ]
  }
 ],
 "metadata": {},
 "nbformat": 4,
 "nbformat_minor": 5
}
