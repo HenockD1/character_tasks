{
 "cells": [
  {
   "cell_type": "markdown",
   "id": "3f95ee50",
   "metadata": {},
   "source": [
    "# Metadata\n",
    "\n",
    "**Python Topics** - python_language_and_scripting > context_managers\n",
    "\n",
    "**Type** - modification\n",
    "\n",
    "**Target Number of Turns (User + Assistant)** - 1\n"
   ]
  },
  {
   "cell_type": "markdown",
   "id": "1702a1b8",
   "metadata": {},
   "source": [
    "# Conversation"
   ]
  },
  {
   "cell_type": "markdown",
   "id": "bc20ade5",
   "metadata": {},
   "source": [
    "**User**\n",
    "\n",
    "I'm trying to handle exceptions when working with files. Right now, my code doesn't do that. Could you modify it to handle exceptions using a context manager? Here's what I have so far: \n",
    "```python\n",
    "def read_from_file(file_name):\n",
    "    try:\n",
    "        f = open(file_name, 'r')\n",
    "        return f.read()\n",
    "    finally:\n",
    "        f.close()\n",
    "```\n"
   ]
  }
 ],
 "metadata": {},
 "nbformat": 4,
 "nbformat_minor": 5
}
