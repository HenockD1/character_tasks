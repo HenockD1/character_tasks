{
 "cells": [
  {
   "cell_type": "markdown",
   "id": "c6c5f18c",
   "metadata": {},
   "source": [
    "# Metadata\n",
    "\n",
    "**Python Topics** - algorithms > by_topic > probability\n",
    "\n",
    "**Type** - modification\n",
    "\n",
    "**Target Number of Turns (User + Assistant)** - 1\n"
   ]
  },
  {
   "cell_type": "markdown",
   "id": "7bc20c8c",
   "metadata": {},
   "source": [
    "# Conversation"
   ]
  },
  {
   "cell_type": "markdown",
   "id": "ca785372",
   "metadata": {},
   "source": [
    "**User**\n",
    "\n",
    "Could you help me refactor this code? It's supposed to estimate the probability of drawing three aces in a row from a shuffled deck of cards, but it's not working as expected. Here's what I have: `def draw_aces(deck): return all(card == 'Ace' for card in random.sample(deck, 3))`\n"
   ]
  }
 ],
 "metadata": {},
 "nbformat": 4,
 "nbformat_minor": 5
}
