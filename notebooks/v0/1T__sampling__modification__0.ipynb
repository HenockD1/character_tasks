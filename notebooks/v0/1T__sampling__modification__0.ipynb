{
 "cells": [
  {
   "cell_type": "markdown",
   "id": "847ff0db",
   "metadata": {},
   "source": [
    "# Metadata\n",
    "\n",
    "**Python Topics** - algorithms > by_topic > sampling\n",
    "\n",
    "**Type** - modification\n",
    "\n",
    "**Target Number of Turns (User + Assistant)** - 1\n"
   ]
  },
  {
   "cell_type": "markdown",
   "id": "a2707d88",
   "metadata": {},
   "source": [
    "# Conversation"
   ]
  },
  {
   "cell_type": "markdown",
   "id": "f37b9f41",
   "metadata": {},
   "source": [
    "**User**\n",
    "\n",
    "Hey, I've got this function for simple random sampling, but I need to modify it to perform stratified sampling instead. Here's the code: `def random_sampling(data, sample_size): return random.sample(data, sample_size)`. Can you help me adjust it?\n"
   ]
  }
 ],
 "metadata": {},
 "nbformat": 4,
 "nbformat_minor": 5
}
