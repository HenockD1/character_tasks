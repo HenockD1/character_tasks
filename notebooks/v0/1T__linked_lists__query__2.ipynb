{
 "cells": [
  {
   "cell_type": "markdown",
   "id": "0f88cb90",
   "metadata": {},
   "source": [
    "# Metadata\n",
    "\n",
    "**Python Topics** - algorithms > by_data_structure > linked_lists\n",
    "\n",
    "**Type** - query\n",
    "\n",
    "**Target Number of Turns (User + Assistant)** - 1\n"
   ]
  },
  {
   "cell_type": "markdown",
   "id": "4d1d37b1",
   "metadata": {},
   "source": [
    "# Conversation"
   ]
  },
  {
   "cell_type": "markdown",
   "id": "1db0f97a",
   "metadata": {},
   "source": [
    "**User**\n",
    "\n",
    "What's the Python code to merge two sorted linked lists into one?\n"
   ]
  }
 ],
 "metadata": {},
 "nbformat": 4,
 "nbformat_minor": 5
}
