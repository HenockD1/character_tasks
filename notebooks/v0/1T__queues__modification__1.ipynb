{
 "cells": [
  {
   "cell_type": "markdown",
   "id": "5d2fad3e",
   "metadata": {},
   "source": [
    "# Metadata\n",
    "\n",
    "**Python Topics** - algorithms > by_data_structure > queues\n",
    "\n",
    "**Type** - modification\n",
    "\n",
    "**Target Number of Turns (User + Assistant)** - 1\n"
   ]
  },
  {
   "cell_type": "markdown",
   "id": "e949b795",
   "metadata": {},
   "source": [
    "# Conversation"
   ]
  },
  {
   "cell_type": "markdown",
   "id": "5ed67f18",
   "metadata": {},
   "source": [
    "**User**\n",
    "\n",
    "I'm working on a queue-based algorithm and realized I forgot to implement peek functionality. Could you add a method to my Queue class that lets me see the next item without removing it? Here's what I have so far: ```class Queue: def __init__(self): self._queue = [] def enqueue(self, val): self._queue.append(val) def dequeue(self): return self._queue.pop(0) if self._queue else None```\n"
   ]
  }
 ],
 "metadata": {},
 "nbformat": 4,
 "nbformat_minor": 5
}
