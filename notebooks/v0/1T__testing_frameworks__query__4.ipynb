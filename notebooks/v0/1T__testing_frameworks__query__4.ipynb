{
 "cells": [
  {
   "cell_type": "markdown",
   "id": "371b9c92",
   "metadata": {},
   "source": [
    "# Metadata\n",
    "\n",
    "**Python Topics** - unit_testing_methodology > testing_frameworks\n",
    "\n",
    "**Type** - query\n",
    "\n",
    "**Target Number of Turns (User + Assistant)** - 1\n"
   ]
  },
  {
   "cell_type": "markdown",
   "id": "aa76c119",
   "metadata": {},
   "source": [
    "# Conversation"
   ]
  },
  {
   "cell_type": "markdown",
   "id": "a1e249b3",
   "metadata": {},
   "source": [
    "**User**\n",
    "\n",
    "In what way can I set up test fixtures for a series of test functions in pytest?\n"
   ]
  }
 ],
 "metadata": {},
 "nbformat": 4,
 "nbformat_minor": 5
}
