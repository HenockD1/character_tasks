{
 "cells": [
  {
   "cell_type": "markdown",
   "id": "6adc96c1",
   "metadata": {},
   "source": [
    "# Metadata\n",
    "\n",
    "**Python Topics** - unit_testing_methodology > data_quality_tests\n",
    "\n",
    "**Type** - modification\n",
    "\n",
    "**Target Number of Turns (User + Assistant)** - 1\n"
   ]
  },
  {
   "cell_type": "markdown",
   "id": "9e20e4d9",
   "metadata": {},
   "source": [
    "# Conversation"
   ]
  },
  {
   "cell_type": "markdown",
   "id": "307af5b0",
   "metadata": {},
   "source": [
    "**User**\n",
    "\n",
    "Hey, I've got this function for checking if a list of numbers is sorted. Can you help me write a unit test to verify that it returns True for a sorted list? Here's the function: ```def is_sorted(numbers): return all(numbers[i] <= numbers[i + 1] for i in range(len(numbers) - 1))```\n"
   ]
  }
 ],
 "metadata": {},
 "nbformat": 4,
 "nbformat_minor": 5
}
