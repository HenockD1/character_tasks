{
 "cells": [
  {
   "cell_type": "markdown",
   "id": "c7543e5a",
   "metadata": {},
   "source": [
    "# Metadata\n",
    "\n",
    "**Python Topics** - web_development\n",
    "\n",
    "**Type** - query\n",
    "\n",
    "**Target Number of Turns (User + Assistant)** - 1\n"
   ]
  },
  {
   "cell_type": "markdown",
   "id": "f38c2f86",
   "metadata": {},
   "source": [
    "# Conversation"
   ]
  },
  {
   "cell_type": "markdown",
   "id": "a75d9d59",
   "metadata": {},
   "source": [
    "**User**\n",
    "\n",
    "How can I create a simple HTML form that posts data to a Python Flask backend?\n"
   ]
  }
 ],
 "metadata": {},
 "nbformat": 4,
 "nbformat_minor": 5
}
