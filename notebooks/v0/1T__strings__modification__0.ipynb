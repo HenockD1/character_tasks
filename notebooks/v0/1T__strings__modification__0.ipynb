{
 "cells": [
  {
   "cell_type": "markdown",
   "id": "77d63f23",
   "metadata": {},
   "source": [
    "# Metadata\n",
    "\n",
    "**Python Topics** - algorithms > by_data_structure > strings\n",
    "\n",
    "**Type** - modification\n",
    "\n",
    "**Target Number of Turns (User + Assistant)** - 1\n"
   ]
  },
  {
   "cell_type": "markdown",
   "id": "a7827be6",
   "metadata": {},
   "source": [
    "# Conversation"
   ]
  },
  {
   "cell_type": "markdown",
   "id": "06951e7e",
   "metadata": {},
   "source": [
    "**User**\n",
    "\n",
    "Hey, I've got this function that reverses a string, but I'd like to modify it to ignore special characters. Can you help with that? Here's the code: ```def reverse_string(s): return s[::-1]```\n"
   ]
  }
 ],
 "metadata": {},
 "nbformat": 4,
 "nbformat_minor": 5
}
