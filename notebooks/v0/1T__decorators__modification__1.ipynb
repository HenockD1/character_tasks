{
 "cells": [
  {
   "cell_type": "markdown",
   "id": "d1fda2f9",
   "metadata": {},
   "source": [
    "# Metadata\n",
    "\n",
    "**Python Topics** - python_language_and_scripting > decorators\n",
    "\n",
    "**Type** - modification\n",
    "\n",
    "**Target Number of Turns (User + Assistant)** - 1\n"
   ]
  },
  {
   "cell_type": "markdown",
   "id": "1cd55f92",
   "metadata": {},
   "source": [
    "# Conversation"
   ]
  },
  {
   "cell_type": "markdown",
   "id": "e3ddca98",
   "metadata": {},
   "source": [
    "**User**\n",
    "\n",
    "I need to modify this decorator to make it a bit more generic. Right now, it only works with functions that return integers. Can you adjust it so it works with any return type? Here's what I have so far:\n",
    "```python\n",
    "def type_check(func):\n",
    "    def wrapper(*args, **kwargs):\n",
    "        result = func(*args, **kwargs)\n",
    "        if not isinstance(result, int):\n",
    "            raise ValueError('Function must return an integer')\n",
    "        return result\n",
    "    return wrapper\n",
    "```\n"
   ]
  }
 ],
 "metadata": {},
 "nbformat": 4,
 "nbformat_minor": 5
}
