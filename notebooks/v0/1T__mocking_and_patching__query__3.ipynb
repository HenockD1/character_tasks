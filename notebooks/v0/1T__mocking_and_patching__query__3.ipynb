{
 "cells": [
  {
   "cell_type": "markdown",
   "id": "8cecf84c",
   "metadata": {},
   "source": [
    "# Metadata\n",
    "\n",
    "**Python Topics** - unit_testing_methodology > mocking_and_patching\n",
    "\n",
    "**Type** - query\n",
    "\n",
    "**Target Number of Turns (User + Assistant)** - 1\n"
   ]
  },
  {
   "cell_type": "markdown",
   "id": "28d1166f",
   "metadata": {},
   "source": [
    "# Conversation"
   ]
  },
  {
   "cell_type": "markdown",
   "id": "0d7d4fe6",
   "metadata": {},
   "source": [
    "**User**\n",
    "\n",
    "Could you provide a code snippet for using a patch decorator in a Python unit test?\n"
   ]
  }
 ],
 "metadata": {},
 "nbformat": 4,
 "nbformat_minor": 5
}
