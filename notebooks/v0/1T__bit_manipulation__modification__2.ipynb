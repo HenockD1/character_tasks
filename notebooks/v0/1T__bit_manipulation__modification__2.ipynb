{
 "cells": [
  {
   "cell_type": "markdown",
   "id": "050ba99f",
   "metadata": {},
   "source": [
    "# Metadata\n",
    "\n",
    "**Python Topics** - algorithms > by_topic > bit_manipulation\n",
    "\n",
    "**Type** - modification\n",
    "\n",
    "**Target Number of Turns (User + Assistant)** - 1\n"
   ]
  },
  {
   "cell_type": "markdown",
   "id": "be987489",
   "metadata": {},
   "source": [
    "# Conversation"
   ]
  },
  {
   "cell_type": "markdown",
   "id": "078ab38a",
   "metadata": {},
   "source": [
    "**User**\n",
    "\n",
    "Could you help me modify this code? I need to find the single number in a list that doesn't occur twice. Here's the code snippet: `def find_single_number(nums): result = 0 for num in nums: result ^= num return result` I want to add error handling for when the input list is empty or contains non-integer values.\n"
   ]
  }
 ],
 "metadata": {},
 "nbformat": 4,
 "nbformat_minor": 5
}
