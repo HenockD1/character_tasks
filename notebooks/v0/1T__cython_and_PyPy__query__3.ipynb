{
 "cells": [
  {
   "cell_type": "markdown",
   "id": "6b008129",
   "metadata": {},
   "source": [
    "# Metadata\n",
    "\n",
    "**Python Topics** - python_language_and_scripting > cython_and_PyPy\n",
    "\n",
    "**Type** - query\n",
    "\n",
    "**Target Number of Turns (User + Assistant)** - 1\n"
   ]
  },
  {
   "cell_type": "markdown",
   "id": "27d406a3",
   "metadata": {},
   "source": [
    "# Conversation"
   ]
  },
  {
   "cell_type": "markdown",
   "id": "2133f587",
   "metadata": {},
   "source": [
    "**User**\n",
    "\n",
    "How do I check the version of PyPy I have installed via command line?\n"
   ]
  }
 ],
 "metadata": {},
 "nbformat": 4,
 "nbformat_minor": 5
}
