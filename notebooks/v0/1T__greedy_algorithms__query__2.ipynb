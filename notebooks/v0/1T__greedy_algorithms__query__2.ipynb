{
 "cells": [
  {
   "cell_type": "markdown",
   "id": "cc264f71",
   "metadata": {},
   "source": [
    "# Metadata\n",
    "\n",
    "**Python Topics** - algorithms > by_topic > greedy_algorithms\n",
    "\n",
    "**Type** - query\n",
    "\n",
    "**Target Number of Turns (User + Assistant)** - 1\n"
   ]
  },
  {
   "cell_type": "markdown",
   "id": "cd6577ee",
   "metadata": {},
   "source": [
    "# Conversation"
   ]
  },
  {
   "cell_type": "markdown",
   "id": "ced3c8d1",
   "metadata": {},
   "source": [
    "**User**\n",
    "\n",
    "How would you write a greedy algorithm in Python to minimize waiting time for a given set of tasks?\n"
   ]
  }
 ],
 "metadata": {},
 "nbformat": 4,
 "nbformat_minor": 5
}
