{
 "cells": [
  {
   "cell_type": "markdown",
   "id": "91648f98",
   "metadata": {},
   "source": [
    "# Metadata\n",
    "\n",
    "**Python Topics** - unit_testing_methodology > code_coverage\n",
    "\n",
    "**Type** - query\n",
    "\n",
    "**Target Number of Turns (User + Assistant)** - 1\n"
   ]
  },
  {
   "cell_type": "markdown",
   "id": "15eaf246",
   "metadata": {},
   "source": [
    "# Conversation"
   ]
  },
  {
   "cell_type": "markdown",
   "id": "b01bf3ee",
   "metadata": {},
   "source": [
    "**User**\n",
    "\n",
    "Can you show me an example of how to measure code coverage in Python using the coverage.py library?\n"
   ]
  }
 ],
 "metadata": {},
 "nbformat": 4,
 "nbformat_minor": 5
}
