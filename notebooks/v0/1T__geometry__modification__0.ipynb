{
 "cells": [
  {
   "cell_type": "markdown",
   "id": "aaa647ba",
   "metadata": {},
   "source": [
    "# Metadata\n",
    "\n",
    "**Python Topics** - algorithms > by_topic > geometry\n",
    "\n",
    "**Type** - modification\n",
    "\n",
    "**Target Number of Turns (User + Assistant)** - 1\n"
   ]
  },
  {
   "cell_type": "markdown",
   "id": "cd85b115",
   "metadata": {},
   "source": [
    "# Conversation"
   ]
  },
  {
   "cell_type": "markdown",
   "id": "48b017c9",
   "metadata": {},
   "source": [
    "**User**\n",
    "\n",
    "Hey, I've got this function to calculate the area of a triangle given its base and height, but I need to modify it to take the lengths of all three sides instead. Here's the current code: \n",
    "```python\n",
    "def triangle_area(base, height):\n",
    "    return 0.5 * base * height\n",
    "```\n",
    "Can you help me update it to use Heron's formula?\n"
   ]
  }
 ],
 "metadata": {},
 "nbformat": 4,
 "nbformat_minor": 5
}
