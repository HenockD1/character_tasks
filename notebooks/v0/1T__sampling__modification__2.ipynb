{
 "cells": [
  {
   "cell_type": "markdown",
   "id": "13b017a0",
   "metadata": {},
   "source": [
    "# Metadata\n",
    "\n",
    "**Python Topics** - algorithms > by_topic > sampling\n",
    "\n",
    "**Type** - modification\n",
    "\n",
    "**Target Number of Turns (User + Assistant)** - 1\n"
   ]
  },
  {
   "cell_type": "markdown",
   "id": "fc54e8da",
   "metadata": {},
   "source": [
    "# Conversation"
   ]
  },
  {
   "cell_type": "markdown",
   "id": "61b242f6",
   "metadata": {},
   "source": [
    "**User**\n",
    "\n",
    "I need to change this code snippet from using uniform sampling to weighted sampling. The current code is: `def uniform_sample(population, weights, k): return random.choices(population, k=k)`. The weights are not being used. Can you modify it to incorporate the weights into the sampling process?\n"
   ]
  }
 ],
 "metadata": {},
 "nbformat": 4,
 "nbformat_minor": 5
}
