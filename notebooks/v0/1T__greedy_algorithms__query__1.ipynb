{
 "cells": [
  {
   "cell_type": "markdown",
   "id": "f5953f8a",
   "metadata": {},
   "source": [
    "# Metadata\n",
    "\n",
    "**Python Topics** - algorithms > by_topic > greedy_algorithms\n",
    "\n",
    "**Type** - query\n",
    "\n",
    "**Target Number of Turns (User + Assistant)** - 1\n"
   ]
  },
  {
   "cell_type": "markdown",
   "id": "0aa55315",
   "metadata": {},
   "source": [
    "# Conversation"
   ]
  },
  {
   "cell_type": "markdown",
   "id": "00bc5121",
   "metadata": {},
   "source": [
    "**User**\n",
    "\n",
    "What's the Python code for a greedy algorithm to solve the activity selection problem?\n"
   ]
  }
 ],
 "metadata": {},
 "nbformat": 4,
 "nbformat_minor": 5
}
