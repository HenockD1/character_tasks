{
 "cells": [
  {
   "cell_type": "markdown",
   "id": "5759bc19",
   "metadata": {},
   "source": [
    "# Metadata\n",
    "\n",
    "**Python Topics** - unit_testing_methodology > mocking_and_patching\n",
    "\n",
    "**Type** - modification\n",
    "\n",
    "**Target Number of Turns (User + Assistant)** - 1\n"
   ]
  },
  {
   "cell_type": "markdown",
   "id": "154ca492",
   "metadata": {},
   "source": [
    "# Conversation"
   ]
  },
  {
   "cell_type": "markdown",
   "id": "d5a7c74a",
   "metadata": {},
   "source": [
    "**User**\n",
    "\n",
    "Could you assist me in refactoring my test to use a fixture that patches 'datetime.datetime.now' to return a fixed date and time? I'm using pytest for my tests. Here's the current test method:\n",
    "```python\n",
    "import datetime\n",
    "\n",
    "def is_weekend():\n",
    "    current_day = datetime.datetime.now().weekday()\n",
    "    return current_day > 4\n",
    "\n",
    "def test_is_weekend():\n",
    "    # I want to patch datetime.datetime.now here to control the returned day\n",
    "    pass\n",
    "```\n"
   ]
  }
 ],
 "metadata": {},
 "nbformat": 4,
 "nbformat_minor": 5
}
