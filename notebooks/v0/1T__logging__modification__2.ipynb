{
 "cells": [
  {
   "cell_type": "markdown",
   "id": "f85ec275",
   "metadata": {},
   "source": [
    "# Metadata\n",
    "\n",
    "**Python Topics** - python_language_and_scripting > logging\n",
    "\n",
    "**Type** - modification\n",
    "\n",
    "**Target Number of Turns (User + Assistant)** - 1\n"
   ]
  },
  {
   "cell_type": "markdown",
   "id": "2cd3eaea",
   "metadata": {},
   "source": [
    "# Conversation"
   ]
  },
  {
   "cell_type": "markdown",
   "id": "54202d52",
   "metadata": {},
   "source": [
    "**User**\n",
    "\n",
    "I need to log messages to a file instead of the console. Can you update this snippet to do that? Here's what I have right now: `logging.basicConfig(level=logging.INFO)`\n"
   ]
  }
 ],
 "metadata": {},
 "nbformat": 4,
 "nbformat_minor": 5
}
