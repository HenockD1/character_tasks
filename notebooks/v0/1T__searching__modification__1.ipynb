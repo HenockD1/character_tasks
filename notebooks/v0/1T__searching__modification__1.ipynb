{
 "cells": [
  {
   "cell_type": "markdown",
   "id": "bab34d94",
   "metadata": {},
   "source": [
    "# Metadata\n",
    "\n",
    "**Python Topics** - algorithms > by_topic > searching\n",
    "\n",
    "**Type** - modification\n",
    "\n",
    "**Target Number of Turns (User + Assistant)** - 1\n"
   ]
  },
  {
   "cell_type": "markdown",
   "id": "782af98f",
   "metadata": {},
   "source": [
    "# Conversation"
   ]
  },
  {
   "cell_type": "markdown",
   "id": "f648c311",
   "metadata": {},
   "source": [
    "**User**\n",
    "\n",
    "I'm trying to implement a linear search algorithm, but it's not returning the index of the found element. Could you modify it to return the index? Here's what I have so far: ```def linear_search(arr, x): for i in range(len(arr)): if arr[i] == x: # Need to return the index here pass return -1```\n"
   ]
  }
 ],
 "metadata": {},
 "nbformat": 4,
 "nbformat_minor": 5
}
