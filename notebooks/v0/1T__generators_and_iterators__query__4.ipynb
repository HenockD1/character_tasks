{
 "cells": [
  {
   "cell_type": "markdown",
   "id": "c2c92b51",
   "metadata": {},
   "source": [
    "# Metadata\n",
    "\n",
    "**Python Topics** - python_language_and_scripting > generators_and_iterators\n",
    "\n",
    "**Type** - query\n",
    "\n",
    "**Target Number of Turns (User + Assistant)** - 1\n"
   ]
  },
  {
   "cell_type": "markdown",
   "id": "33a6b723",
   "metadata": {},
   "source": [
    "# Conversation"
   ]
  },
  {
   "cell_type": "markdown",
   "id": "ff12c8e1",
   "metadata": {},
   "source": [
    "**User**\n",
    "\n",
    "I'm curious, how would you implement a generator function that yields Fibonacci numbers in Python?\n"
   ]
  }
 ],
 "metadata": {},
 "nbformat": 4,
 "nbformat_minor": 5
}
