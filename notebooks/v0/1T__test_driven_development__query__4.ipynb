{
 "cells": [
  {
   "cell_type": "markdown",
   "id": "a824e962",
   "metadata": {},
   "source": [
    "# Metadata\n",
    "\n",
    "**Python Topics** - unit_testing_methodology > test_driven_development\n",
    "\n",
    "**Type** - query\n",
    "\n",
    "**Target Number of Turns (User + Assistant)** - 1\n"
   ]
  },
  {
   "cell_type": "markdown",
   "id": "9075f6be",
   "metadata": {},
   "source": [
    "# Conversation"
   ]
  },
  {
   "cell_type": "markdown",
   "id": "d3c186d6",
   "metadata": {},
   "source": [
    "**User**\n",
    "\n",
    "In TDD, how do I write a failing test for a 'multiply' function before implementing the function itself in Python?\n"
   ]
  }
 ],
 "metadata": {},
 "nbformat": 4,
 "nbformat_minor": 5
}
