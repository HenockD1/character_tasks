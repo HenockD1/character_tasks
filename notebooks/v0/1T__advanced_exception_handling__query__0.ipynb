{
 "cells": [
  {
   "cell_type": "markdown",
   "id": "6ab9d4ff",
   "metadata": {},
   "source": [
    "# Metadata\n",
    "\n",
    "**Python Topics** - python_language_and_scripting > advanced_exception_handling\n",
    "\n",
    "**Type** - query\n",
    "\n",
    "**Target Number of Turns (User + Assistant)** - 1\n"
   ]
  },
  {
   "cell_type": "markdown",
   "id": "2c6d0e6a",
   "metadata": {},
   "source": [
    "# Conversation"
   ]
  },
  {
   "cell_type": "markdown",
   "id": "55bd8344",
   "metadata": {},
   "source": [
    "**User**\n",
    "\n",
    "How can I create a custom exception in Python that includes an error code and message?\n"
   ]
  }
 ],
 "metadata": {},
 "nbformat": 4,
 "nbformat_minor": 5
}
