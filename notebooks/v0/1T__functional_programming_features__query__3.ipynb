{
 "cells": [
  {
   "cell_type": "markdown",
   "id": "30b162ae",
   "metadata": {},
   "source": [
    "# Metadata\n",
    "\n",
    "**Python Topics** - python_language_and_scripting > functional_programming_features\n",
    "\n",
    "**Type** - query\n",
    "\n",
    "**Target Number of Turns (User + Assistant)** - 1\n"
   ]
  },
  {
   "cell_type": "markdown",
   "id": "71ad8174",
   "metadata": {},
   "source": [
    "# Conversation"
   ]
  },
  {
   "cell_type": "markdown",
   "id": "0ee5177b",
   "metadata": {},
   "source": [
    "**User**\n",
    "\n",
    "How do I use list comprehensions to create a list of tuples from two lists, pairing elements with the same index?\n"
   ]
  }
 ],
 "metadata": {},
 "nbformat": 4,
 "nbformat_minor": 5
}
