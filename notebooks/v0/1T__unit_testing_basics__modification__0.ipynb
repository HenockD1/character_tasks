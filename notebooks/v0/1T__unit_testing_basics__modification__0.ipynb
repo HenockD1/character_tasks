{
 "cells": [
  {
   "cell_type": "markdown",
   "id": "e142b508",
   "metadata": {},
   "source": [
    "# Metadata\n",
    "\n",
    "**Python Topics** - unit_testing_methodology > unit_testing_basics\n",
    "\n",
    "**Type** - modification\n",
    "\n",
    "**Target Number of Turns (User + Assistant)** - 1\n"
   ]
  },
  {
   "cell_type": "markdown",
   "id": "0040a617",
   "metadata": {},
   "source": [
    "# Conversation"
   ]
  },
  {
   "cell_type": "markdown",
   "id": "b4a32bf3",
   "metadata": {},
   "source": [
    "**User**\n",
    "\n",
    "Hey, I've got this simple test case for my 'add' function, but I forgot to include an assertion. Could you add an assertion to check if the result is correct? Here's the code: ```def test_add(): result = add(2, 3)```\n"
   ]
  }
 ],
 "metadata": {},
 "nbformat": 4,
 "nbformat_minor": 5
}
