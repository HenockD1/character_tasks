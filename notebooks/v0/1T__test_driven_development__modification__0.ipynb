{
 "cells": [
  {
   "cell_type": "markdown",
   "id": "3baeac25",
   "metadata": {},
   "source": [
    "# Metadata\n",
    "\n",
    "**Python Topics** - unit_testing_methodology > test_driven_development\n",
    "\n",
    "**Type** - modification\n",
    "\n",
    "**Target Number of Turns (User + Assistant)** - 1\n"
   ]
  },
  {
   "cell_type": "markdown",
   "id": "b9cd61bb",
   "metadata": {},
   "source": [
    "# Conversation"
   ]
  },
  {
   "cell_type": "markdown",
   "id": "6dab38fc",
   "metadata": {},
   "source": [
    "**User**\n",
    "\n",
    "Hey, I've got this function that's supposed to add two numbers, but I haven't written the test first. Could you help me write a simple test case using unittest for it? Here's the function: ```def add(a, b): return a + b```\n"
   ]
  }
 ],
 "metadata": {},
 "nbformat": 4,
 "nbformat_minor": 5
}
