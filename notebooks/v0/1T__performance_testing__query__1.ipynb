{
 "cells": [
  {
   "cell_type": "markdown",
   "id": "16e7f020",
   "metadata": {},
   "source": [
    "# Metadata\n",
    "\n",
    "**Python Topics** - unit_testing_methodology > performance_testing\n",
    "\n",
    "**Type** - query\n",
    "\n",
    "**Target Number of Turns (User + Assistant)** - 1\n"
   ]
  },
  {
   "cell_type": "markdown",
   "id": "eea98112",
   "metadata": {},
   "source": [
    "# Conversation"
   ]
  },
  {
   "cell_type": "markdown",
   "id": "02a17e6e",
   "metadata": {},
   "source": [
    "**User**\n",
    "\n",
    "What's the best way to compare the speed of two different Python functions with a code example?\n"
   ]
  }
 ],
 "metadata": {},
 "nbformat": 4,
 "nbformat_minor": 5
}
