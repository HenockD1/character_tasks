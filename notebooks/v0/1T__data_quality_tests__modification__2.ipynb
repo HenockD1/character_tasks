{
 "cells": [
  {
   "cell_type": "markdown",
   "id": "22d8972a",
   "metadata": {},
   "source": [
    "# Metadata\n",
    "\n",
    "**Python Topics** - unit_testing_methodology > data_quality_tests\n",
    "\n",
    "**Type** - modification\n",
    "\n",
    "**Target Number of Turns (User + Assistant)** - 1\n"
   ]
  },
  {
   "cell_type": "markdown",
   "id": "4f0ec7d8",
   "metadata": {},
   "source": [
    "# Conversation"
   ]
  },
  {
   "cell_type": "markdown",
   "id": "90d6d2da",
   "metadata": {},
   "source": [
    "**User**\n",
    "\n",
    "Could you assist me in writing a unit test for my 'max_value' function? The test should assert that the maximum value returned is correct for a given list of integers. Here's the function I'm working with: ```def max_value(numbers): return max(numbers)```\n"
   ]
  }
 ],
 "metadata": {},
 "nbformat": 4,
 "nbformat_minor": 5
}
