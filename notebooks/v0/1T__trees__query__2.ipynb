{
 "cells": [
  {
   "cell_type": "markdown",
   "id": "79c77367",
   "metadata": {},
   "source": [
    "# Metadata\n",
    "\n",
    "**Python Topics** - algorithms > by_data_structure > trees\n",
    "\n",
    "**Type** - query\n",
    "\n",
    "**Target Number of Turns (User + Assistant)** - 1\n"
   ]
  },
  {
   "cell_type": "markdown",
   "id": "9303938e",
   "metadata": {},
   "source": [
    "# Conversation"
   ]
  },
  {
   "cell_type": "markdown",
   "id": "ea78bf2e",
   "metadata": {},
   "source": [
    "**User**\n",
    "\n",
    "How do I check if a binary tree is balanced using Python?\n"
   ]
  }
 ],
 "metadata": {},
 "nbformat": 4,
 "nbformat_minor": 5
}
