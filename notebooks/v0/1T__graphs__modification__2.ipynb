{
 "cells": [
  {
   "cell_type": "markdown",
   "id": "432508d9",
   "metadata": {},
   "source": [
    "# Metadata\n",
    "\n",
    "**Python Topics** - algorithms > by_data_structure > graphs\n",
    "\n",
    "**Type** - modification\n",
    "\n",
    "**Target Number of Turns (User + Assistant)** - 1\n"
   ]
  },
  {
   "cell_type": "markdown",
   "id": "ac16f474",
   "metadata": {},
   "source": [
    "# Conversation"
   ]
  },
  {
   "cell_type": "markdown",
   "id": "fa20241e",
   "metadata": {},
   "source": [
    "**User**\n",
    "\n",
    "I wrote this code to detect a cycle in an undirected graph using Union-Find, but it's not quite right. Can you fix it so that it correctly detects cycles? Here's the code snippet: ```def find(parent, i): if parent[i] == i: return i return find(parent, parent[i]) def union(parent, x, y): xroot = find(parent, x) yroot = find(parent, y) parent[xroot] = yroot def isCycle(graph): parent = [i for i in range(len(graph))] for i in range(len(graph)): for j in graph[i]: x = find(parent, i) y = find(parent, j) if x == y: return True union(parent, x, y) return False``` Thanks for your help!\n"
   ]
  }
 ],
 "metadata": {},
 "nbformat": 4,
 "nbformat_minor": 5
}
