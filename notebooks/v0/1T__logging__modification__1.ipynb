{
 "cells": [
  {
   "cell_type": "markdown",
   "id": "cf51511b",
   "metadata": {},
   "source": [
    "# Metadata\n",
    "\n",
    "**Python Topics** - python_language_and_scripting > logging\n",
    "\n",
    "**Type** - modification\n",
    "\n",
    "**Target Number of Turns (User + Assistant)** - 1\n"
   ]
  },
  {
   "cell_type": "markdown",
   "id": "10b52ffb",
   "metadata": {},
   "source": [
    "# Conversation"
   ]
  },
  {
   "cell_type": "markdown",
   "id": "8e3a7733",
   "metadata": {},
   "source": [
    "**User**\n",
    "\n",
    "I realized I'm not catching debug messages with my current logging configuration. Could you modify this code to include debug-level messages? `logger = logging.getLogger('my_logger')\n",
    "logger.setLevel(logging.WARNING)`\n"
   ]
  }
 ],
 "metadata": {},
 "nbformat": 4,
 "nbformat_minor": 5
}
