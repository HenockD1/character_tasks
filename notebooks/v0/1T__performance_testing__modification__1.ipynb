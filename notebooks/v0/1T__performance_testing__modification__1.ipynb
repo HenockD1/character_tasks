{
 "cells": [
  {
   "cell_type": "markdown",
   "id": "3faa71a4",
   "metadata": {},
   "source": [
    "# Metadata\n",
    "\n",
    "**Python Topics** - unit_testing_methodology > performance_testing\n",
    "\n",
    "**Type** - modification\n",
    "\n",
    "**Target Number of Turns (User + Assistant)** - 1\n"
   ]
  },
  {
   "cell_type": "markdown",
   "id": "04919268",
   "metadata": {},
   "source": [
    "# Conversation"
   ]
  },
  {
   "cell_type": "markdown",
   "id": "9096cf74",
   "metadata": {},
   "source": [
    "**User**\n",
    "\n",
    "I'm trying to compare the efficiency of two sorting algorithms. Could you modify this code to use `timeit` instead of `time` for a more accurate measurement? Here's what I have so far: `import time; start = time.time(); sort_algorithm(); end = time.time(); print(f'Time taken: {end - start}')`\n"
   ]
  }
 ],
 "metadata": {},
 "nbformat": 4,
 "nbformat_minor": 5
}
