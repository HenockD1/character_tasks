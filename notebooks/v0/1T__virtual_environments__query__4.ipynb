{
 "cells": [
  {
   "cell_type": "markdown",
   "id": "4885cc2f",
   "metadata": {},
   "source": [
    "# Metadata\n",
    "\n",
    "**Python Topics** - python_language_and_scripting > virtual_environments\n",
    "\n",
    "**Type** - query\n",
    "\n",
    "**Target Number of Turns (User + Assistant)** - 1\n"
   ]
  },
  {
   "cell_type": "markdown",
   "id": "05f7edf2",
   "metadata": {},
   "source": [
    "# Conversation"
   ]
  },
  {
   "cell_type": "markdown",
   "id": "6db1084f",
   "metadata": {},
   "source": [
    "**User**\n",
    "\n",
    "I'm curious, how would I list all of the packages installed in my current Python virtual environment using pip?\n"
   ]
  }
 ],
 "metadata": {},
 "nbformat": 4,
 "nbformat_minor": 5
}
