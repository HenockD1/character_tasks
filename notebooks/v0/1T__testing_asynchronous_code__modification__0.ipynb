{
 "cells": [
  {
   "cell_type": "markdown",
   "id": "d06e2ab4",
   "metadata": {},
   "source": [
    "# Metadata\n",
    "\n",
    "**Python Topics** - unit_testing_methodology > testing_asynchronous_code\n",
    "\n",
    "**Type** - modification\n",
    "\n",
    "**Target Number of Turns (User + Assistant)** - 1\n"
   ]
  },
  {
   "cell_type": "markdown",
   "id": "242ebfda",
   "metadata": {},
   "source": [
    "# Conversation"
   ]
  },
  {
   "cell_type": "markdown",
   "id": "63287b17",
   "metadata": {},
   "source": [
    "**User**\n",
    "\n",
    "I've got this async function 'fetch_data' that I need to test. Here's the code snippet: ```async def fetch_data(url): response = await requests.get(url) return response.json()```. Can you help me write a pytest function to mock the 'requests.get' call and test 'fetch_data' with a fake URL?\n"
   ]
  }
 ],
 "metadata": {},
 "nbformat": 4,
 "nbformat_minor": 5
}
