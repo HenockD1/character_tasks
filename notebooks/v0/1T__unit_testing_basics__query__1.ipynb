{
 "cells": [
  {
   "cell_type": "markdown",
   "id": "1c02649c",
   "metadata": {},
   "source": [
    "# Metadata\n",
    "\n",
    "**Python Topics** - unit_testing_methodology > unit_testing_basics\n",
    "\n",
    "**Type** - query\n",
    "\n",
    "**Target Number of Turns (User + Assistant)** - 1\n"
   ]
  },
  {
   "cell_type": "markdown",
   "id": "97c8a509",
   "metadata": {},
   "source": [
    "# Conversation"
   ]
  },
  {
   "cell_type": "markdown",
   "id": "266fc30c",
   "metadata": {},
   "source": [
    "**User**\n",
    "\n",
    "What's the proper way to use assert statements in Python unit tests?\n"
   ]
  }
 ],
 "metadata": {},
 "nbformat": 4,
 "nbformat_minor": 5
}
